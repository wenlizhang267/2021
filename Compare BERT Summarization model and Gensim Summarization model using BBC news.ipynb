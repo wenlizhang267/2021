{
 "cells": [
  {
   "cell_type": "markdown",
   "metadata": {
    "_uuid": "c19b5a43f3e5fa672c566cfb91f57bd5c7a43fe4"
   },
   "source": [
    "## Compare BERT Summarization model and Gensim Summarization model using BBC news\n",
    "\n",
    "#### BBC news classification\n",
    "#### Automatic Summarization model comparison between BERT and Gensim\n",
    "#### Use One-vs-the-rest (OvR) multiclass/multilabel strategy as strategy for multiclass classification\n",
    "\n",
    "The objective of this article is to evaluate Text Summarization models by comparing classification accuracy before and after Text Summarization on BBC news with\n",
    "two methods:\n",
    "    - gensim.summarization\n",
    "    - bert-extractive-summarizer "
   ]
  },
  {
   "cell_type": "markdown",
   "metadata": {},
   "source": [
    "BERT (Bidirectional Encoder Representations from Transformers) is a recent paper published by researchers at Google AI Language.\n",
    "BERT’s key technical innovation is applying the bidirectional training of Transformer, a popular attention model, to language modeling. \n",
    "This characteristic allows the model to learn the context of a word based on all of its surroundings (left and right of the word)."
   ]
  },
  {
   "cell_type": "code",
   "execution_count": 1,
   "metadata": {},
   "outputs": [
    {
     "name": "stdout",
     "output_type": "stream",
     "text": [
      "Requirement already satisfied: bert-extractive-summarizer in c:\\users\\wzhang\\appdata\\local\\programs\\python\\python37\\lib\\site-packages (0.2.2)\n",
      "Requirement already satisfied: transformers in c:\\users\\wzhang\\appdata\\local\\programs\\python\\python37\\lib\\site-packages (from bert-extractive-summarizer) (2.2.0)\n",
      "Requirement already satisfied: scikit-learn in c:\\users\\wzhang\\appdata\\local\\programs\\python\\python37\\lib\\site-packages (from bert-extractive-summarizer) (0.21.3)\n",
      "Requirement already satisfied: neuralcoref in c:\\users\\wzhang\\appdata\\local\\programs\\python\\python37\\lib\\site-packages (from bert-extractive-summarizer) (4.0)\n",
      "Requirement already satisfied: spacy==2.1.3 in c:\\users\\wzhang\\appdata\\local\\programs\\python\\python37\\lib\\site-packages (from bert-extractive-summarizer) (2.1.3)\n",
      "Requirement already satisfied: requests in c:\\users\\wzhang\\appdata\\local\\programs\\python\\python37\\lib\\site-packages (from transformers->bert-extractive-summarizer) (2.22.0)\n",
      "Requirement already satisfied: numpy in c:\\users\\wzhang\\appdata\\local\\programs\\python\\python37\\lib\\site-packages (from transformers->bert-extractive-summarizer) (1.17.0)\n",
      "Requirement already satisfied: tqdm in c:\\users\\wzhang\\appdata\\local\\programs\\python\\python37\\lib\\site-packages (from transformers->bert-extractive-summarizer) (4.39.0)\n",
      "Requirement already satisfied: regex in c:\\users\\wzhang\\appdata\\local\\programs\\python\\python37\\lib\\site-packages (from transformers->bert-extractive-summarizer) (2019.11.1)\n",
      "Requirement already satisfied: boto3 in c:\\users\\wzhang\\appdata\\local\\programs\\python\\python37\\lib\\site-packages (from transformers->bert-extractive-summarizer) (1.9.208)\n",
      "Requirement already satisfied: sacremoses in c:\\users\\wzhang\\appdata\\local\\programs\\python\\python37\\lib\\site-packages (from transformers->bert-extractive-summarizer) (0.0.35)\n",
      "Requirement already satisfied: sentencepiece in c:\\users\\wzhang\\appdata\\local\\programs\\python\\python37\\lib\\site-packages (from transformers->bert-extractive-summarizer) (0.1.83)\n",
      "Requirement already satisfied: joblib>=0.11 in c:\\users\\wzhang\\appdata\\local\\programs\\python\\python37\\lib\\site-packages (from scikit-learn->bert-extractive-summarizer) (0.13.2)\n",
      "Requirement already satisfied: scipy>=0.17.0 in c:\\users\\wzhang\\appdata\\local\\programs\\python\\python37\\lib\\site-packages (from scikit-learn->bert-extractive-summarizer) (1.3.1)\n",
      "Requirement already satisfied: srsly<1.1.0,>=0.0.5 in c:\\users\\wzhang\\appdata\\local\\programs\\python\\python37\\lib\\site-packages (from spacy==2.1.3->bert-extractive-summarizer) (0.2.0)\n",
      "Requirement already satisfied: jsonschema<3.0.0,>=2.6.0 in c:\\users\\wzhang\\appdata\\local\\programs\\python\\python37\\lib\\site-packages (from spacy==2.1.3->bert-extractive-summarizer) (2.6.0)\n",
      "Requirement already satisfied: cymem<2.1.0,>=2.0.2 in c:\\users\\wzhang\\appdata\\local\\programs\\python\\python37\\lib\\site-packages (from spacy==2.1.3->bert-extractive-summarizer) (2.0.3)\n",
      "Requirement already satisfied: blis<0.3.0,>=0.2.2 in c:\\users\\wzhang\\appdata\\local\\programs\\python\\python37\\lib\\site-packages (from spacy==2.1.3->bert-extractive-summarizer) (0.2.4)\n",
      "Requirement already satisfied: wasabi<1.1.0,>=0.2.0 in c:\\users\\wzhang\\appdata\\local\\programs\\python\\python37\\lib\\site-packages (from spacy==2.1.3->bert-extractive-summarizer) (0.4.0)\n",
      "Requirement already satisfied: thinc<7.1.0,>=7.0.2 in c:\\users\\wzhang\\appdata\\local\\programs\\python\\python37\\lib\\site-packages (from spacy==2.1.3->bert-extractive-summarizer) (7.0.8)\n",
      "Requirement already satisfied: preshed<2.1.0,>=2.0.1 in c:\\users\\wzhang\\appdata\\local\\programs\\python\\python37\\lib\\site-packages (from spacy==2.1.3->bert-extractive-summarizer) (2.0.1)\n",
      "Requirement already satisfied: murmurhash<1.1.0,>=0.28.0 in c:\\users\\wzhang\\appdata\\local\\programs\\python\\python37\\lib\\site-packages (from spacy==2.1.3->bert-extractive-summarizer) (1.0.2)\n",
      "Requirement already satisfied: plac<1.0.0,>=0.9.6 in c:\\users\\wzhang\\appdata\\local\\programs\\python\\python37\\lib\\site-packages (from spacy==2.1.3->bert-extractive-summarizer) (0.9.6)\n",
      "Requirement already satisfied: idna<2.9,>=2.5 in c:\\users\\wzhang\\appdata\\local\\programs\\python\\python37\\lib\\site-packages (from requests->transformers->bert-extractive-summarizer) (2.8)\n",
      "Requirement already satisfied: chardet<3.1.0,>=3.0.2 in c:\\users\\wzhang\\appdata\\local\\programs\\python\\python37\\lib\\site-packages (from requests->transformers->bert-extractive-summarizer) (3.0.4)\n",
      "Requirement already satisfied: urllib3!=1.25.0,!=1.25.1,<1.26,>=1.21.1 in c:\\users\\wzhang\\appdata\\local\\programs\\python\\python37\\lib\\site-packages (from requests->transformers->bert-extractive-summarizer) (1.25.3)\n",
      "Requirement already satisfied: certifi>=2017.4.17 in c:\\users\\wzhang\\appdata\\local\\programs\\python\\python37\\lib\\site-packages (from requests->transformers->bert-extractive-summarizer) (2019.6.16)\n",
      "Requirement already satisfied: botocore<1.13.0,>=1.12.208 in c:\\users\\wzhang\\appdata\\local\\programs\\python\\python37\\lib\\site-packages (from boto3->transformers->bert-extractive-summarizer) (1.12.208)\n",
      "Requirement already satisfied: jmespath<1.0.0,>=0.7.1 in c:\\users\\wzhang\\appdata\\local\\programs\\python\\python37\\lib\\site-packages (from boto3->transformers->bert-extractive-summarizer) (0.9.4)\n",
      "Requirement already satisfied: s3transfer<0.3.0,>=0.2.0 in c:\\users\\wzhang\\appdata\\local\\programs\\python\\python37\\lib\\site-packages (from boto3->transformers->bert-extractive-summarizer) (0.2.1)\n",
      "Requirement already satisfied: six in c:\\users\\wzhang\\appdata\\local\\programs\\python\\python37\\lib\\site-packages (from sacremoses->transformers->bert-extractive-summarizer) (1.12.0)\n",
      "Requirement already satisfied: click in c:\\users\\wzhang\\appdata\\local\\programs\\python\\python37\\lib\\site-packages (from sacremoses->transformers->bert-extractive-summarizer) (7.0)\n",
      "Requirement already satisfied: docutils<0.15,>=0.10 in c:\\users\\wzhang\\appdata\\local\\programs\\python\\python37\\lib\\site-packages (from botocore<1.13.0,>=1.12.208->boto3->transformers->bert-extractive-summarizer) (0.14)\n",
      "Requirement already satisfied: python-dateutil<3.0.0,>=2.1; python_version >= \"2.7\" in c:\\users\\wzhang\\appdata\\local\\programs\\python\\python37\\lib\\site-packages (from botocore<1.13.0,>=1.12.208->boto3->transformers->bert-extractive-summarizer) (2.8.0)\n"
     ]
    },
    {
     "name": "stderr",
     "output_type": "stream",
     "text": [
      "You are using pip version 19.0.3, however version 19.3.1 is available.\n",
      "You should consider upgrading via the 'python -m pip install --upgrade pip' command.\n"
     ]
    },
    {
     "name": "stdout",
     "output_type": "stream",
     "text": [
      "Requirement already satisfied: transformers in c:\\users\\wzhang\\appdata\\local\\programs\\python\\python37\\lib\\site-packages (2.2.0)\n",
      "Requirement already satisfied: requests in c:\\users\\wzhang\\appdata\\local\\programs\\python\\python37\\lib\\site-packages (from transformers) (2.22.0)\n",
      "Requirement already satisfied: regex in c:\\users\\wzhang\\appdata\\local\\programs\\python\\python37\\lib\\site-packages (from transformers) (2019.11.1)\n",
      "Requirement already satisfied: sacremoses in c:\\users\\wzhang\\appdata\\local\\programs\\python\\python37\\lib\\site-packages (from transformers) (0.0.35)\n",
      "Requirement already satisfied: sentencepiece in c:\\users\\wzhang\\appdata\\local\\programs\\python\\python37\\lib\\site-packages (from transformers) (0.1.83)\n",
      "Requirement already satisfied: tqdm in c:\\users\\wzhang\\appdata\\local\\programs\\python\\python37\\lib\\site-packages (from transformers) (4.39.0)\n",
      "Requirement already satisfied: numpy in c:\\users\\wzhang\\appdata\\local\\programs\\python\\python37\\lib\\site-packages (from transformers) (1.17.0)\n",
      "Requirement already satisfied: boto3 in c:\\users\\wzhang\\appdata\\local\\programs\\python\\python37\\lib\\site-packages (from transformers) (1.9.208)\n",
      "Requirement already satisfied: idna<2.9,>=2.5 in c:\\users\\wzhang\\appdata\\local\\programs\\python\\python37\\lib\\site-packages (from requests->transformers) (2.8)\n",
      "Requirement already satisfied: certifi>=2017.4.17 in c:\\users\\wzhang\\appdata\\local\\programs\\python\\python37\\lib\\site-packages (from requests->transformers) (2019.6.16)\n",
      "Requirement already satisfied: chardet<3.1.0,>=3.0.2 in c:\\users\\wzhang\\appdata\\local\\programs\\python\\python37\\lib\\site-packages (from requests->transformers) (3.0.4)\n",
      "Requirement already satisfied: urllib3!=1.25.0,!=1.25.1,<1.26,>=1.21.1 in c:\\users\\wzhang\\appdata\\local\\programs\\python\\python37\\lib\\site-packages (from requests->transformers) (1.25.3)\n",
      "Requirement already satisfied: six in c:\\users\\wzhang\\appdata\\local\\programs\\python\\python37\\lib\\site-packages (from sacremoses->transformers) (1.12.0)\n",
      "Requirement already satisfied: click in c:\\users\\wzhang\\appdata\\local\\programs\\python\\python37\\lib\\site-packages (from sacremoses->transformers) (7.0)\n",
      "Requirement already satisfied: joblib in c:\\users\\wzhang\\appdata\\local\\programs\\python\\python37\\lib\\site-packages (from sacremoses->transformers) (0.13.2)\n",
      "Requirement already satisfied: jmespath<1.0.0,>=0.7.1 in c:\\users\\wzhang\\appdata\\local\\programs\\python\\python37\\lib\\site-packages (from boto3->transformers) (0.9.4)\n",
      "Requirement already satisfied: botocore<1.13.0,>=1.12.208 in c:\\users\\wzhang\\appdata\\local\\programs\\python\\python37\\lib\\site-packages (from boto3->transformers) (1.12.208)\n",
      "Requirement already satisfied: s3transfer<0.3.0,>=0.2.0 in c:\\users\\wzhang\\appdata\\local\\programs\\python\\python37\\lib\\site-packages (from boto3->transformers) (0.2.1)\n",
      "Requirement already satisfied: python-dateutil<3.0.0,>=2.1; python_version >= \"2.7\" in c:\\users\\wzhang\\appdata\\local\\programs\\python\\python37\\lib\\site-packages (from botocore<1.13.0,>=1.12.208->boto3->transformers) (2.8.0)\n",
      "Requirement already satisfied: docutils<0.15,>=0.10 in c:\\users\\wzhang\\appdata\\local\\programs\\python\\python37\\lib\\site-packages (from botocore<1.13.0,>=1.12.208->boto3->transformers) (0.14)\n"
     ]
    },
    {
     "name": "stderr",
     "output_type": "stream",
     "text": [
      "You are using pip version 19.0.3, however version 19.3.1 is available.\n",
      "You should consider upgrading via the 'python -m pip install --upgrade pip' command.\n"
     ]
    },
    {
     "name": "stdout",
     "output_type": "stream",
     "text": [
      "Looking in links: https://download.pytorch.org/whl/torch_stable.html\n",
      "Requirement already satisfied: torch==1.3.1+cpu in c:\\users\\wzhang\\appdata\\local\\programs\\python\\python37\\lib\\site-packages (1.3.1+cpu)\n",
      "Requirement already satisfied: torchvision==0.4.2+cpu in c:\\users\\wzhang\\appdata\\local\\programs\\python\\python37\\lib\\site-packages (0.4.2+cpu)\n",
      "Requirement already satisfied: numpy in c:\\users\\wzhang\\appdata\\local\\programs\\python\\python37\\lib\\site-packages (from torch==1.3.1+cpu) (1.17.0)\n",
      "Requirement already satisfied: pillow>=4.1.1 in c:\\users\\wzhang\\appdata\\local\\programs\\python\\python37\\lib\\site-packages (from torchvision==0.4.2+cpu) (6.1.0)\n",
      "Requirement already satisfied: six in c:\\users\\wzhang\\appdata\\local\\programs\\python\\python37\\lib\\site-packages (from torchvision==0.4.2+cpu) (1.12.0)\n"
     ]
    },
    {
     "name": "stderr",
     "output_type": "stream",
     "text": [
      "You are using pip version 19.0.3, however version 19.3.1 is available.\n",
      "You should consider upgrading via the 'python -m pip install --upgrade pip' command.\n"
     ]
    },
    {
     "name": "stdout",
     "output_type": "stream",
     "text": [
      "Collecting pytorch-pretrained-bert\n",
      "  Downloading https://files.pythonhosted.org/packages/d7/e0/c08d5553b89973d9a240605b9c12404bcf8227590de62bae27acbcfe076b/pytorch_pretrained_bert-0.6.2-py3-none-any.whl (123kB)\n",
      "Requirement already satisfied: torch>=0.4.1 in c:\\users\\wzhang\\appdata\\local\\programs\\python\\python37\\lib\\site-packages (from pytorch-pretrained-bert) (1.3.1+cpu)\n",
      "Requirement already satisfied: regex in c:\\users\\wzhang\\appdata\\local\\programs\\python\\python37\\lib\\site-packages (from pytorch-pretrained-bert) (2019.11.1)\n",
      "Requirement already satisfied: tqdm in c:\\users\\wzhang\\appdata\\local\\programs\\python\\python37\\lib\\site-packages (from pytorch-pretrained-bert) (4.39.0)\n",
      "Requirement already satisfied: boto3 in c:\\users\\wzhang\\appdata\\local\\programs\\python\\python37\\lib\\site-packages (from pytorch-pretrained-bert) (1.9.208)\n",
      "Requirement already satisfied: numpy in c:\\users\\wzhang\\appdata\\local\\programs\\python\\python37\\lib\\site-packages (from pytorch-pretrained-bert) (1.17.0)\n",
      "Requirement already satisfied: requests in c:\\users\\wzhang\\appdata\\local\\programs\\python\\python37\\lib\\site-packages (from pytorch-pretrained-bert) (2.22.0)\n",
      "Requirement already satisfied: s3transfer<0.3.0,>=0.2.0 in c:\\users\\wzhang\\appdata\\local\\programs\\python\\python37\\lib\\site-packages (from boto3->pytorch-pretrained-bert) (0.2.1)\n",
      "Requirement already satisfied: jmespath<1.0.0,>=0.7.1 in c:\\users\\wzhang\\appdata\\local\\programs\\python\\python37\\lib\\site-packages (from boto3->pytorch-pretrained-bert) (0.9.4)\n",
      "Requirement already satisfied: botocore<1.13.0,>=1.12.208 in c:\\users\\wzhang\\appdata\\local\\programs\\python\\python37\\lib\\site-packages (from boto3->pytorch-pretrained-bert) (1.12.208)\n",
      "Requirement already satisfied: idna<2.9,>=2.5 in c:\\users\\wzhang\\appdata\\local\\programs\\python\\python37\\lib\\site-packages (from requests->pytorch-pretrained-bert) (2.8)\n",
      "Requirement already satisfied: chardet<3.1.0,>=3.0.2 in c:\\users\\wzhang\\appdata\\local\\programs\\python\\python37\\lib\\site-packages (from requests->pytorch-pretrained-bert) (3.0.4)\n",
      "Requirement already satisfied: urllib3!=1.25.0,!=1.25.1,<1.26,>=1.21.1 in c:\\users\\wzhang\\appdata\\local\\programs\\python\\python37\\lib\\site-packages (from requests->pytorch-pretrained-bert) (1.25.3)\n",
      "Requirement already satisfied: certifi>=2017.4.17 in c:\\users\\wzhang\\appdata\\local\\programs\\python\\python37\\lib\\site-packages (from requests->pytorch-pretrained-bert) (2019.6.16)\n",
      "Requirement already satisfied: docutils<0.15,>=0.10 in c:\\users\\wzhang\\appdata\\local\\programs\\python\\python37\\lib\\site-packages (from botocore<1.13.0,>=1.12.208->boto3->pytorch-pretrained-bert) (0.14)\n",
      "Requirement already satisfied: python-dateutil<3.0.0,>=2.1; python_version >= \"2.7\" in c:\\users\\wzhang\\appdata\\local\\programs\\python\\python37\\lib\\site-packages (from botocore<1.13.0,>=1.12.208->boto3->pytorch-pretrained-bert) (2.8.0)\n",
      "Requirement already satisfied: six>=1.5 in c:\\users\\wzhang\\appdata\\local\\programs\\python\\python37\\lib\\site-packages (from python-dateutil<3.0.0,>=2.1; python_version >= \"2.7\"->botocore<1.13.0,>=1.12.208->boto3->pytorch-pretrained-bert) (1.12.0)\n",
      "Installing collected packages: pytorch-pretrained-bert\n",
      "Successfully installed pytorch-pretrained-bert-0.6.2\n"
     ]
    },
    {
     "name": "stderr",
     "output_type": "stream",
     "text": [
      "You are using pip version 19.0.3, however version 19.3.1 is available.\n",
      "You should consider upgrading via the 'python -m pip install --upgrade pip' command.\n"
     ]
    }
   ],
   "source": [
    "#pip\n",
    "!pip install bert-extractive-summarizer \n",
    "!pip install transformers\n",
    "!pip3 install torch==1.3.1+cpu torchvision==0.4.2+cpu -f https://download.pytorch.org/whl/torch_stable.html\n",
    "!pip install pytorch-pretrained-bert"
   ]
  },
  {
   "cell_type": "code",
   "execution_count": null,
   "metadata": {},
   "outputs": [],
   "source": [
    "###NOTE: You will need spacy 2.1.3 installed. There is currently an issue with Spacy 2.1.4 that produces segmentation faults."
   ]
  },
  {
   "cell_type": "code",
   "execution_count": 1,
   "metadata": {},
   "outputs": [
    {
     "data": {
      "text/plain": [
       "'2.1.3'"
      ]
     },
     "execution_count": 1,
     "metadata": {},
     "output_type": "execute_result"
    }
   ],
   "source": [
    "import spacy\n",
    "spacy.__version__"
   ]
  },
  {
   "cell_type": "markdown",
   "metadata": {
    "_uuid": "9af31c63d6e3144759907876724f2e1dd8908c48"
   },
   "source": [
    "##  Import libraries"
   ]
  },
  {
   "cell_type": "code",
   "execution_count": 2,
   "metadata": {
    "_uuid": "85b3e707bc9abd812f84e4163bb9dd93d5737632"
   },
   "outputs": [],
   "source": [
    "import pandas as pd\n",
    "import numpy as np\n",
    "import matplotlib.pyplot as plt\n",
    "%matplotlib inline\n",
    "import seaborn as sns\n",
    "import re\n",
    "from numpy import random\n",
    "\n",
    "import warnings\n",
    "warnings.filterwarnings('ignore')\n",
    "\n",
    "import os\n",
    "import pandas as pd\n",
    "\n",
    "import nltk\n",
    "from nltk import Text\n",
    "from nltk.tokenize import word_tokenize  \n",
    "from nltk.tokenize import sent_tokenize \n",
    "from nltk.corpus import stopwords\n",
    "from nltk.probability import FreqDist\n",
    "\n",
    "from string import punctuation\n",
    "from heapq import nlargest\n",
    "from collections import defaultdict\n",
    "\n",
    "from sklearn.feature_extraction.text import CountVectorizer\n",
    "from sklearn.feature_extraction.text import TfidfVectorizer\n",
    "\n",
    "from sklearn.linear_model import  SGDClassifier\n",
    "from sklearn.multiclass import OneVsRestClassifier\n",
    "\n",
    "from sklearn.metrics import roc_curve, precision_recall_curve,auc\n",
    "from sklearn.metrics import average_precision_score,cohen_kappa_score\n",
    "\n",
    "from sklearn.metrics import accuracy_score,roc_auc_score\n",
    "from sklearn import model_selection\n",
    "from sklearn.model_selection import cross_val_score\n",
    "from sklearn.model_selection import train_test_split\n",
    "\n",
    "from sklearn.pipeline import Pipeline\n",
    "import gensim\n",
    "from gensim.summarization import summarize\n",
    "#from gensim.utils import lemmatize\n",
    "from textblob import TextBlob\n",
    "from textblob import Word\n",
    "\n",
    "from summarizer import Summarizer #bert"
   ]
  },
  {
   "cell_type": "markdown",
   "metadata": {},
   "source": [
    "### Create dataframe from mulitiple data files. \n",
    "Data source: https://www.bonaccorso.eu/wp-content/uploads/2016/12/bbc.html"
   ]
  },
  {
   "cell_type": "code",
   "execution_count": 3,
   "metadata": {
    "scrolled": false
   },
   "outputs": [
    {
     "name": "stdout",
     "output_type": "stream",
     "text": [
      "done writing csv flie\n"
     ]
    }
   ],
   "source": [
    "data_folder = \"../bbc\"\n",
    "folders = [\"business\",\"entertainment\",\"politics\",\"sport\",\"tech\"]\n",
    "try:\n",
    "    os.chdir(\"../bbc\")\n",
    "except:\n",
    "    os.chdir(\"./bbc\")\n",
    "    \n",
    "x = []\n",
    "y = []\n",
    "\n",
    "for i in folders:\n",
    "    files = os.listdir(i)\n",
    "    for text_file in files:\n",
    "        file_path = i + \"/\" + text_file\n",
    "        with open(file_path) as f:\n",
    "            lines = f.readlines()\n",
    "        record = ' '.join(lines)\n",
    "        x.append(record)\n",
    "        y.append(i)   \n",
    "data = {'news': x, 'type': y}       \n",
    "df = pd.DataFrame(data)\n",
    "df.to_csv('../bbc/dataset.csv', index=False)\n",
    "print ('done writing csv flie')"
   ]
  },
  {
   "cell_type": "markdown",
   "metadata": {
    "_uuid": "6312214fd4d46c67615a173e9e150e2e6872882c"
   },
   "source": [
    "## BBC news cleansing"
   ]
  },
  {
   "cell_type": "code",
   "execution_count": 4,
   "metadata": {
    "_uuid": "6279cf46f5e9ecb3785672bbd189c85bae23c144"
   },
   "outputs": [
    {
     "data": {
      "text/plain": [
       "(2225, 3)"
      ]
     },
     "execution_count": 4,
     "metadata": {},
     "output_type": "execute_result"
    }
   ],
   "source": [
    "news = pd.read_csv('../bbc/dataset.csv', delimiter=',',encoding = \"ISO-8859-1\")\n",
    "# Associate Category names with numerical index and save it in new column category_id\n",
    "news['category_id'] = news['type'].factorize()[0]\n",
    "nRow, nCol = news.shape\n",
    "nRow, nCol"
   ]
  },
  {
   "cell_type": "code",
   "execution_count": 5,
   "metadata": {},
   "outputs": [
    {
     "data": {
      "text/html": [
       "<div>\n",
       "<style scoped>\n",
       "    .dataframe tbody tr th:only-of-type {\n",
       "        vertical-align: middle;\n",
       "    }\n",
       "\n",
       "    .dataframe tbody tr th {\n",
       "        vertical-align: top;\n",
       "    }\n",
       "\n",
       "    .dataframe thead th {\n",
       "        text-align: right;\n",
       "    }\n",
       "</style>\n",
       "<table border=\"1\" class=\"dataframe\">\n",
       "  <thead>\n",
       "    <tr style=\"text-align: right;\">\n",
       "      <th></th>\n",
       "      <th>type</th>\n",
       "      <th>Count</th>\n",
       "    </tr>\n",
       "  </thead>\n",
       "  <tbody>\n",
       "    <tr>\n",
       "      <th>0</th>\n",
       "      <td>business</td>\n",
       "      <td>510</td>\n",
       "    </tr>\n",
       "    <tr>\n",
       "      <th>1</th>\n",
       "      <td>entertainment</td>\n",
       "      <td>386</td>\n",
       "    </tr>\n",
       "    <tr>\n",
       "      <th>2</th>\n",
       "      <td>politics</td>\n",
       "      <td>417</td>\n",
       "    </tr>\n",
       "    <tr>\n",
       "      <th>3</th>\n",
       "      <td>sport</td>\n",
       "      <td>511</td>\n",
       "    </tr>\n",
       "    <tr>\n",
       "      <th>4</th>\n",
       "      <td>tech</td>\n",
       "      <td>401</td>\n",
       "    </tr>\n",
       "  </tbody>\n",
       "</table>\n",
       "</div>"
      ],
      "text/plain": [
       "            type  Count\n",
       "0       business    510\n",
       "1  entertainment    386\n",
       "2       politics    417\n",
       "3          sport    511\n",
       "4           tech    401"
      ]
     },
     "execution_count": 5,
     "metadata": {},
     "output_type": "execute_result"
    }
   ],
   "source": [
    "# creation of the column count for aggregation\n",
    "news['Count']=1\n",
    "news[['type','Count']].groupby(['type'], as_index=False).count()"
   ]
  },
  {
   "cell_type": "markdown",
   "metadata": {},
   "source": [
    "### Pretty balanced "
   ]
  },
  {
   "cell_type": "code",
   "execution_count": 6,
   "metadata": {
    "_uuid": "965692668ef51b4af31aafe6510b7e6669e2af8c"
   },
   "outputs": [
    {
     "data": {
      "text/html": [
       "<div>\n",
       "<style scoped>\n",
       "    .dataframe tbody tr th:only-of-type {\n",
       "        vertical-align: middle;\n",
       "    }\n",
       "\n",
       "    .dataframe tbody tr th {\n",
       "        vertical-align: top;\n",
       "    }\n",
       "\n",
       "    .dataframe thead th {\n",
       "        text-align: right;\n",
       "    }\n",
       "</style>\n",
       "<table border=\"1\" class=\"dataframe\">\n",
       "  <thead>\n",
       "    <tr style=\"text-align: right;\">\n",
       "      <th></th>\n",
       "      <th>news</th>\n",
       "      <th>type</th>\n",
       "      <th>category_id</th>\n",
       "      <th>Count</th>\n",
       "    </tr>\n",
       "  </thead>\n",
       "  <tbody>\n",
       "    <tr>\n",
       "      <th>0</th>\n",
       "      <td>Ad sales boost Time Warner profit\\n \\n Quarter...</td>\n",
       "      <td>business</td>\n",
       "      <td>0</td>\n",
       "      <td>1</td>\n",
       "    </tr>\n",
       "    <tr>\n",
       "      <th>1</th>\n",
       "      <td>Dollar gains on Greenspan speech\\n \\n The doll...</td>\n",
       "      <td>business</td>\n",
       "      <td>0</td>\n",
       "      <td>1</td>\n",
       "    </tr>\n",
       "  </tbody>\n",
       "</table>\n",
       "</div>"
      ],
      "text/plain": [
       "                                                news      type  category_id  \\\n",
       "0  Ad sales boost Time Warner profit\\n \\n Quarter...  business            0   \n",
       "1  Dollar gains on Greenspan speech\\n \\n The doll...  business            0   \n",
       "\n",
       "   Count  \n",
       "0      1  \n",
       "1      1  "
      ]
     },
     "execution_count": 6,
     "metadata": {},
     "output_type": "execute_result"
    }
   ],
   "source": [
    "news.head(2)"
   ]
  },
  {
   "cell_type": "markdown",
   "metadata": {},
   "source": [
    "### Check the news length to make sure they are long enough for our purpose - evaluating text summarization"
   ]
  },
  {
   "cell_type": "code",
   "execution_count": 7,
   "metadata": {},
   "outputs": [
    {
     "data": {
      "text/plain": [
       "1292    507\n",
       "1561    725\n",
       "1515    733\n",
       "1568    746\n",
       "1319    747\n",
       "1503    750\n",
       "1818    761\n",
       "1816    761\n",
       "1810    764\n",
       "1532    766\n",
       "Name: newslen, dtype: int64"
      ]
     },
     "execution_count": 7,
     "metadata": {},
     "output_type": "execute_result"
    }
   ],
   "source": [
    "# keep all\n",
    "news['newslen']=news['news'].apply(lambda x:len(x))\n",
    "#news.sort_values(by='newslen', ascending=True) ##both ways work\n",
    "news['newslen'].sort_values(axis=0, ascending=True)[0:10]"
   ]
  },
  {
   "cell_type": "markdown",
   "metadata": {},
   "source": [
    "**Select text more than one sentence. Gensim will give error for one sentence text**"
   ]
  },
  {
   "cell_type": "code",
   "execution_count": 8,
   "metadata": {},
   "outputs": [],
   "source": [
    "# Use RE to match text with only one appearance of . or ? or ! \n",
    "# [\\w\\W]* will match anything including return\n",
    "news=news[news['news'].str.match(pat ='[\\w\\W]*[.?!][\\w\\W]*[.?!][\\w\\W]*')]\n",
    "# Remove decimal part of a float number. Decimal point is treated as peroid when count sentences during summarization\n",
    "news['news']=news['news'].str.replace('\\.\\d+', ' ', regex=True)\n",
    "# add a space after '.' so Gensim will treat it as a sentence\n",
    "news['news']=news['news'].str.replace('.', '. ', regex=False)\n",
    "news['news']=news['news'].str.replace('?', '? ', regex=False)\n",
    "news['news']=news['news'].str.replace('!', '! ', regex=False)\n"
   ]
  },
  {
   "cell_type": "markdown",
   "metadata": {},
   "source": [
    "### Check any news only has one sentence "
   ]
  },
  {
   "cell_type": "code",
   "execution_count": 9,
   "metadata": {},
   "outputs": [
    {
     "data": {
      "text/plain": [
       "Series([], Name: news, dtype: object)"
      ]
     },
     "execution_count": 9,
     "metadata": {},
     "output_type": "execute_result"
    }
   ],
   "source": [
    "news[~news['news'].str.match(pat ='[\\w\\W]*[.?!][\\w\\W]*[.?!][\\w\\W]*')]['news']"
   ]
  },
  {
   "cell_type": "markdown",
   "metadata": {
    "_uuid": "e73d6c5dc42784220472d05ee8aa819cea41712b"
   },
   "source": [
    "**Plot the count by type**"
   ]
  },
  {
   "cell_type": "code",
   "execution_count": 10,
   "metadata": {
    "scrolled": true
   },
   "outputs": [
    {
     "data": {
      "text/html": [
       "<div>\n",
       "<style scoped>\n",
       "    .dataframe tbody tr th:only-of-type {\n",
       "        vertical-align: middle;\n",
       "    }\n",
       "\n",
       "    .dataframe tbody tr th {\n",
       "        vertical-align: top;\n",
       "    }\n",
       "\n",
       "    .dataframe thead th {\n",
       "        text-align: right;\n",
       "    }\n",
       "</style>\n",
       "<table border=\"1\" class=\"dataframe\">\n",
       "  <thead>\n",
       "    <tr style=\"text-align: right;\">\n",
       "      <th></th>\n",
       "      <th>type</th>\n",
       "      <th>Count</th>\n",
       "    </tr>\n",
       "  </thead>\n",
       "  <tbody>\n",
       "    <tr>\n",
       "      <th>0</th>\n",
       "      <td>business</td>\n",
       "      <td>510</td>\n",
       "    </tr>\n",
       "    <tr>\n",
       "      <th>1</th>\n",
       "      <td>entertainment</td>\n",
       "      <td>386</td>\n",
       "    </tr>\n",
       "    <tr>\n",
       "      <th>2</th>\n",
       "      <td>politics</td>\n",
       "      <td>417</td>\n",
       "    </tr>\n",
       "    <tr>\n",
       "      <th>3</th>\n",
       "      <td>sport</td>\n",
       "      <td>511</td>\n",
       "    </tr>\n",
       "    <tr>\n",
       "      <th>4</th>\n",
       "      <td>tech</td>\n",
       "      <td>401</td>\n",
       "    </tr>\n",
       "  </tbody>\n",
       "</table>\n",
       "</div>"
      ],
      "text/plain": [
       "            type  Count\n",
       "0       business    510\n",
       "1  entertainment    386\n",
       "2       politics    417\n",
       "3          sport    511\n",
       "4           tech    401"
      ]
     },
     "execution_count": 10,
     "metadata": {},
     "output_type": "execute_result"
    }
   ],
   "source": [
    "newsbyType=news.groupby('type', as_index=False).agg({\"Count\": \"sum\"})\n",
    "newsbyType.head()"
   ]
  },
  {
   "cell_type": "code",
   "execution_count": 11,
   "metadata": {
    "_uuid": "d2b6c164e3b863101f884d0def2d4d4fb81df492"
   },
   "outputs": [
    {
     "data": {
      "image/png": "[encoded data removed]",
      "text/plain": [
       "<Figure size 576x360 with 1 Axes>"
      ]
     },
     "metadata": {
      "needs_background": "light"
     },
     "output_type": "display_data"
    }
   ],
   "source": [
    "newsbyType.plot(x='type', y='Count', kind='bar', legend=False, grid=True, figsize=(8, 5))\n",
    "plt.title(\"Number of news per type\")\n",
    "plt.ylabel('# of Occurrences', fontsize=12)\n",
    "plt.xlabel('News Type', fontsize=12)\n",
    "plt.show()"
   ]
  },
  {
   "cell_type": "code",
   "execution_count": 12,
   "metadata": {
    "scrolled": true
   },
   "outputs": [
    {
     "data": {
      "text/plain": [
       "0    Ad sales boost Time Warner profit\\n \\n Quarter...\n",
       "1    Dollar gains on Greenspan speech\\n \\n The doll...\n",
       "2    Yukos unit buyer faces loan claim\\n \\n The own...\n",
       "3    High fuel prices hit BA's profits\\n \\n British...\n",
       "Name: news, dtype: object"
      ]
     },
     "execution_count": 12,
     "metadata": {},
     "output_type": "execute_result"
    }
   ],
   "source": [
    "news['news'][:4]"
   ]
  },
  {
   "cell_type": "markdown",
   "metadata": {},
   "source": [
    "### Clean the news text field"
   ]
  },
  {
   "cell_type": "code",
   "execution_count": 13,
   "metadata": {
    "_uuid": "fca82486e7d5245872c5fa638cc42135a387f30e"
   },
   "outputs": [],
   "source": [
    "# function for cleaning the plots of the movies\n",
    "def clean_text(text):\n",
    "    text = text.lower()\n",
    "    text = re.sub(r\"what's\", \"what is \", text)\n",
    "    text = re.sub(r\"\\'s\", \" \", text)\n",
    "    text = re.sub(r\"\\'ve\", \" have \", text)\n",
    "    text = re.sub(r\"can't\", \"can not \", text)\n",
    "    text = re.sub(r\"n't\", \" not \", text)\n",
    "    text = re.sub(r\"i'm\", \"i am \", text)\n",
    "    text = re.sub(r\"\\'re\", \" are \", text)\n",
    "    text = re.sub(r\"\\'d\", \" would \", text)\n",
    "    text = re.sub(r\"\\'ll\", \" will \", text)\n",
    "    text = re.sub(r\"\\'scuse\", \" excuse \", text)\n",
    "    text = text.strip(' ')# remove the leading and trailing space\n",
    "    letteronly = re.compile('[^a-z #+_]') # only keep letters and a few symbol.\n",
    "    text = letteronly.sub(' ', text) \n",
    "\n",
    "    \n",
    "    #lemmatize\n",
    "    #lemmatized_out = [wd.decode('utf-8').split('/')[0] for wd in lemmatize(text)] # give error in python3.7\n",
    "\n",
    "    sent = TextBlob(text)\n",
    "    tag_dict = {\"J\": 'a', \n",
    "                \"N\": 'n', \n",
    "                \"V\": 'v', \n",
    "                \"R\": 'r'}\n",
    "    words_and_tags = [(w, tag_dict.get(pos[0], 'n')) for w, pos in sent.tags]    \n",
    "    words  = [wd.lemmatize(tag) for wd, tag in words_and_tags]\n",
    "    return \" \".join(words)\n"
   ]
  },
  {
   "cell_type": "code",
   "execution_count": 14,
   "metadata": {
    "_uuid": "ddc7914a1f6a5b52d33dbde9f9a548daec0ffed5"
   },
   "outputs": [],
   "source": [
    "news['newsClean'] = news['news'].apply(clean_text)"
   ]
  },
  {
   "cell_type": "code",
   "execution_count": 15,
   "metadata": {},
   "outputs": [
    {
     "data": {
      "text/plain": [
       "array(['ad sale boost time warner profit quarterly profit at u medium giant timewarner jump to bn m for the three month to december from m year earlier the firm which be now one of the big investor in google benefit from sale of high speed internet connection and high advert sale timewarner say fourth quarter sale rise to bn from bn it profit be buoy by one off gain which offset a profit dip at warner bros and less user for aol time warner say on friday that it now own of search engine google but it own internet business aol have have mix fortune it lose subscriber in the fourth quarter profit be low than in the preceding three quarter however the company say aol underlying profit before exceptional item rise on the back of strong internet advertising revenue it hop to increase subscriber by offer the online service free to timewarner internet customer and will try to sign up aol exist customer for high speed broadband timewarner also have to restate and result follow a probe by the u security exchange commission sec which be close to conclude time warner fourth quarter profit be slightly good than analyst expectation but it film division saw profit slump to m help by box office flop alexander and catwoman a sharp contrast to year earlier when the third and final film in the lord of the ring trilogy boost result for the full year timewarner post a profit of bn up from it performance while revenue grow to bn our financial performance be strong meeting or exceed all of our full year objective and greatly enhance our flexibility chairman and chief executive richard parson say for timewarner be project operate earnings growth of around and also expect high revenue and wider profit margin timewarner be to restate it account a part of effort to resolve an inquiry into aol by u market regulator it have already offer to pay m to settle charge in a deal that be under review by the sec the company say it be unable to estimate the amount it need to set aside for legal reserve which it previously set at m it intend to adjust the way it account for a deal with german music publisher bertelsmann purchase of a stake in aol europe which it have report a advertising revenue it will now book the sale of it stake in aol europe a a loss on the value of that stake',\n",
       "       'dollar gain on greenspan speech the dollar have hit it high level against the euro in almost three month after the federal reserve head say the u trade deficit be set to stabilise and alan greenspan highlight the u government willingness to curb spending and rise household saving a factor which may help to reduce it in late trading in new york the dollar reach against the euro from on thursday market concern about the deficit have hit the greenback in recent month on friday federal reserve chairman mr greenspan speech in london ahead of the meeting of g finance minister send the dollar high after it have earlier tumble on the back of bad than expect u job data i think the chairman take a much more sanguine view on the current account deficit than he take for some time say robert sinche head of currency strategy at bank of america in new york he take a long term view lay out a set of condition under which the current account deficit can improve this year and next worry about the deficit concern about china do however remain china currency remain peg to the dollar and the u currency sharp fall in recent month have therefore make chinese export price highly competitive but call for a shift in beijing policy have fall on deaf ear despite recent comment in a major chinese newspaper that the time be ripe for a loosening of the peg the g meeting be think unlikely to produce any meaningful movement in chinese policy in the meantime the u federal reserve decision on february to boost interest rate by a quarter of a point the sixth such move in as many month have open up a differential with european rate the half point window some believe could be enough to keep u asset look more attractive and could help prop up the dollar the recent fall have partly be the result of big budget deficit as well a the u yawn current account gap both of which need to be fund by the buying of u bond and asset by foreign firm and government the white house will announce it budget on monday and many commentator believe the deficit will remain at close to half a trillion dollar'],\n",
       "      dtype=object)"
      ]
     },
     "execution_count": 15,
     "metadata": {},
     "output_type": "execute_result"
    }
   ],
   "source": [
    "news.newsClean[0:2].values"
   ]
  },
  {
   "cell_type": "markdown",
   "metadata": {},
   "source": [
    "### get_dummies for target column"
   ]
  },
  {
   "cell_type": "code",
   "execution_count": 16,
   "metadata": {},
   "outputs": [
    {
     "data": {
      "text/plain": [
       "Index(['news', 'category_id', 'Count', 'newslen', 'newsClean', 'type_business',\n",
       "       'type_entertainment', 'type_politics', 'type_sport', 'type_tech'],\n",
       "      dtype='object')"
      ]
     },
     "execution_count": 16,
     "metadata": {},
     "output_type": "execute_result"
    }
   ],
   "source": [
    "news=pd.get_dummies(data=news, columns=['type'])\n",
    "news.columns"
   ]
  },
  {
   "cell_type": "markdown",
   "metadata": {},
   "source": [
    "## Model Training and Evaluation\n",
    "### Use SGDClassifier classification models\n",
    "### One-vs-the-rest (OvR) multiclass/multilabel strategy is the most commonly used strategy for multiclass classification and is a fair default choice."
   ]
  },
  {
   "cell_type": "code",
   "execution_count": 17,
   "metadata": {},
   "outputs": [],
   "source": [
    "X_train,X_test,y_train,y_test =  train_test_split(news['newsClean'],news.iloc[:,5:10], random_state=42, test_size=0.20, shuffle=True)"
   ]
  },
  {
   "cell_type": "markdown",
   "metadata": {},
   "source": [
    "### Use pipeline link preprocessing TFIDF and model fitting in a proper way so no data leaking from test to train"
   ]
  },
  {
   "cell_type": "code",
   "execution_count": 18,
   "metadata": {},
   "outputs": [],
   "source": [
    "def DoClassification (model,method):\n",
    "    pipeline = Pipeline([\n",
    "    ('tfidf', TfidfVectorizer(stop_words ='english',min_df=8, smooth_idf=False, sublinear_tf=False, norm=None, analyzer='word')),\n",
    "    ('clf', model)])\n",
    "    if method=='predit':\n",
    "        y_score = pipeline.fit(X_train, y_train).predict(X_test)\n",
    "    elif method=='predit_proba':\n",
    "        y_score = pipeline.fit(X_train, y_train).predict_proba(X_test)\n",
    "    elif method=='decision_function':\n",
    "        y_score = pipeline.fit(X_train, y_train).decision_function(X_test)\n",
    "    return(y_score )"
   ]
  },
  {
   "cell_type": "markdown",
   "metadata": {},
   "source": [
    "### Create a dataframe to hold all scores"
   ]
  },
  {
   "cell_type": "code",
   "execution_count": 19,
   "metadata": {},
   "outputs": [],
   "source": [
    "accuracy_classifier= pd.DataFrame(columns = ['type']) "
   ]
  },
  {
   "cell_type": "markdown",
   "metadata": {},
   "source": [
    "### Compute performance metrics for each class"
   ]
  },
  {
   "cell_type": "code",
   "execution_count": 20,
   "metadata": {},
   "outputs": [],
   "source": [
    "def computeMetrics (metrics,y_score,classifiername):\n",
    "    score = dict()\n",
    "    for i in range(len(y_train.columns)):\n",
    "        score[i] = metrics(y_test.iloc[:,i], y_score[:,i])\n",
    "        accuracy_classifier.loc[i,'type'] = y_train.columns[i]\n",
    "        accuracy_classifier.loc[i,classifiername+'_'+ metrics.__name__]=score[i]"
   ]
  },
  {
   "cell_type": "markdown",
   "metadata": {},
   "source": [
    "** Average_precision_score is used since it handles unbalanced classes well. roc_auc_score and cohen_kappa_score can be tried for comparison. Cohen’s kappa statistic is a very good measure that can handle well both multi-class and imbalanced class problems. **"
   ]
  },
  {
   "cell_type": "markdown",
   "metadata": {},
   "source": [
    "### SGDClassifier "
   ]
  },
  {
   "cell_type": "code",
   "execution_count": 21,
   "metadata": {
    "_uuid": "a0138fcbc84bf5602c34be07c222e0b7c6d80358",
    "scrolled": true
   },
   "outputs": [],
   "source": [
    "classifier=OneVsRestClassifier(SGDClassifier(), n_jobs=1)\n",
    "y_score=DoClassification(classifier,'decision_function' )\n",
    "computeMetrics(average_precision_score,y_score,'SGDClassifier')"
   ]
  },
  {
   "cell_type": "code",
   "execution_count": 22,
   "metadata": {
    "_uuid": "c5cbd59744055a843af27e963ce30adb678bf3c2"
   },
   "outputs": [
    {
     "data": {
      "text/html": [
       "<div>\n",
       "<style scoped>\n",
       "    .dataframe tbody tr th:only-of-type {\n",
       "        vertical-align: middle;\n",
       "    }\n",
       "\n",
       "    .dataframe tbody tr th {\n",
       "        vertical-align: top;\n",
       "    }\n",
       "\n",
       "    .dataframe thead th {\n",
       "        text-align: right;\n",
       "    }\n",
       "</style>\n",
       "<table border=\"1\" class=\"dataframe\">\n",
       "  <thead>\n",
       "    <tr style=\"text-align: right;\">\n",
       "      <th></th>\n",
       "      <th>type</th>\n",
       "      <th>SGDClassifier_average_precision_score</th>\n",
       "    </tr>\n",
       "  </thead>\n",
       "  <tbody>\n",
       "    <tr>\n",
       "      <th>0</th>\n",
       "      <td>type_business</td>\n",
       "      <td>0.967659</td>\n",
       "    </tr>\n",
       "    <tr>\n",
       "      <th>1</th>\n",
       "      <td>type_entertainment</td>\n",
       "      <td>0.969602</td>\n",
       "    </tr>\n",
       "    <tr>\n",
       "      <th>2</th>\n",
       "      <td>type_politics</td>\n",
       "      <td>0.979938</td>\n",
       "    </tr>\n",
       "    <tr>\n",
       "      <th>3</th>\n",
       "      <td>type_sport</td>\n",
       "      <td>0.998669</td>\n",
       "    </tr>\n",
       "    <tr>\n",
       "      <th>4</th>\n",
       "      <td>type_tech</td>\n",
       "      <td>0.980444</td>\n",
       "    </tr>\n",
       "  </tbody>\n",
       "</table>\n",
       "</div>"
      ],
      "text/plain": [
       "                 type  SGDClassifier_average_precision_score\n",
       "0       type_business                               0.967659\n",
       "1  type_entertainment                               0.969602\n",
       "2       type_politics                               0.979938\n",
       "3          type_sport                               0.998669\n",
       "4           type_tech                               0.980444"
      ]
     },
     "execution_count": 22,
     "metadata": {},
     "output_type": "execute_result"
    }
   ],
   "source": [
    "accuracy_classifier"
   ]
  },
  {
   "cell_type": "markdown",
   "metadata": {},
   "source": [
    "### Evaluate Text Summarization models"
   ]
  },
  {
   "cell_type": "markdown",
   "metadata": {
    "collapsed": true
   },
   "source": [
    "**Gensim**"
   ]
  },
  {
   "cell_type": "code",
   "execution_count": 23,
   "metadata": {},
   "outputs": [
    {
     "data": {
      "text/plain": [
       "(2225, 10)"
      ]
     },
     "execution_count": 23,
     "metadata": {},
     "output_type": "execute_result"
    }
   ],
   "source": [
    "news.shape"
   ]
  },
  {
   "cell_type": "code",
   "execution_count": 24,
   "metadata": {
    "scrolled": true
   },
   "outputs": [
    {
     "name": "stderr",
     "output_type": "stream",
     "text": [
      "WARNING:gensim.summarization.summarizer:Input text is expected to have at least 10 sentences.\n",
      "WARNING:gensim.summarization.summarizer:Input corpus is expected to have at least 10 documents.\n",
      "WARNING:gensim.summarization.summarizer:Input text is expected to have at least 10 sentences.\n",
      "WARNING:gensim.summarization.summarizer:Input corpus is expected to have at least 10 documents.\n",
      "WARNING:gensim.summarization.summarizer:Input text is expected to have at least 10 sentences.\n",
      "WARNING:gensim.summarization.summarizer:Input corpus is expected to have at least 10 documents.\n",
      "WARNING:gensim.summarization.summarizer:Input text is expected to have at least 10 sentences.\n",
      "WARNING:gensim.summarization.summarizer:Input corpus is expected to have at least 10 documents.\n",
      "WARNING:gensim.summarization.summarizer:Input text is expected to have at least 10 sentences.\n",
      "WARNING:gensim.summarization.summarizer:Input corpus is expected to have at least 10 documents.\n",
      "WARNING:gensim.summarization.summarizer:Input text is expected to have at least 10 sentences.\n",
      "WARNING:gensim.summarization.summarizer:Input corpus is expected to have at least 10 documents.\n",
      "WARNING:gensim.summarization.summarizer:Input text is expected to have at least 10 sentences.\n",
      "WARNING:gensim.summarization.summarizer:Input corpus is expected to have at least 10 documents.\n",
      "WARNING:gensim.summarization.summarizer:Input text is expected to have at least 10 sentences.\n",
      "WARNING:gensim.summarization.summarizer:Input corpus is expected to have at least 10 documents.\n",
      "WARNING:gensim.summarization.summarizer:Input text is expected to have at least 10 sentences.\n",
      "WARNING:gensim.summarization.summarizer:Input corpus is expected to have at least 10 documents.\n",
      "WARNING:gensim.summarization.summarizer:Input text is expected to have at least 10 sentences.\n",
      "WARNING:gensim.summarization.summarizer:Input corpus is expected to have at least 10 documents.\n",
      "WARNING:gensim.summarization.summarizer:Input text is expected to have at least 10 sentences.\n",
      "WARNING:gensim.summarization.summarizer:Input corpus is expected to have at least 10 documents.\n",
      "WARNING:gensim.summarization.summarizer:Input text is expected to have at least 10 sentences.\n",
      "WARNING:gensim.summarization.summarizer:Input corpus is expected to have at least 10 documents.\n",
      "WARNING:gensim.summarization.summarizer:Input text is expected to have at least 10 sentences.\n",
      "WARNING:gensim.summarization.summarizer:Input corpus is expected to have at least 10 documents.\n",
      "WARNING:gensim.summarization.summarizer:Input text is expected to have at least 10 sentences.\n",
      "WARNING:gensim.summarization.summarizer:Input corpus is expected to have at least 10 documents.\n",
      "WARNING:gensim.summarization.summarizer:Input text is expected to have at least 10 sentences.\n",
      "WARNING:gensim.summarization.summarizer:Input corpus is expected to have at least 10 documents.\n",
      "WARNING:gensim.summarization.summarizer:Input text is expected to have at least 10 sentences.\n",
      "WARNING:gensim.summarization.summarizer:Input corpus is expected to have at least 10 documents.\n",
      "WARNING:gensim.summarization.summarizer:Input text is expected to have at least 10 sentences.\n",
      "WARNING:gensim.summarization.summarizer:Input corpus is expected to have at least 10 documents.\n",
      "WARNING:gensim.summarization.summarizer:Input text is expected to have at least 10 sentences.\n",
      "WARNING:gensim.summarization.summarizer:Input corpus is expected to have at least 10 documents.\n",
      "WARNING:gensim.summarization.summarizer:Input text is expected to have at least 10 sentences.\n",
      "WARNING:gensim.summarization.summarizer:Input corpus is expected to have at least 10 documents.\n",
      "WARNING:gensim.summarization.summarizer:Input text is expected to have at least 10 sentences.\n",
      "WARNING:gensim.summarization.summarizer:Input corpus is expected to have at least 10 documents.\n",
      "WARNING:gensim.summarization.summarizer:Input text is expected to have at least 10 sentences.\n",
      "WARNING:gensim.summarization.summarizer:Input corpus is expected to have at least 10 documents.\n",
      "WARNING:gensim.summarization.summarizer:Input text is expected to have at least 10 sentences.\n",
      "WARNING:gensim.summarization.summarizer:Input corpus is expected to have at least 10 documents.\n",
      "WARNING:gensim.summarization.summarizer:Input text is expected to have at least 10 sentences.\n",
      "WARNING:gensim.summarization.summarizer:Input corpus is expected to have at least 10 documents.\n",
      "WARNING:gensim.summarization.summarizer:Input text is expected to have at least 10 sentences.\n",
      "WARNING:gensim.summarization.summarizer:Input corpus is expected to have at least 10 documents.\n",
      "WARNING:gensim.summarization.summarizer:Input text is expected to have at least 10 sentences.\n",
      "WARNING:gensim.summarization.summarizer:Input corpus is expected to have at least 10 documents.\n",
      "WARNING:gensim.summarization.summarizer:Input text is expected to have at least 10 sentences.\n",
      "WARNING:gensim.summarization.summarizer:Input corpus is expected to have at least 10 documents.\n",
      "WARNING:gensim.summarization.summarizer:Input text is expected to have at least 10 sentences.\n",
      "WARNING:gensim.summarization.summarizer:Input corpus is expected to have at least 10 documents.\n",
      "WARNING:gensim.summarization.summarizer:Input text is expected to have at least 10 sentences.\n",
      "WARNING:gensim.summarization.summarizer:Input corpus is expected to have at least 10 documents.\n",
      "WARNING:gensim.summarization.summarizer:Input text is expected to have at least 10 sentences.\n",
      "WARNING:gensim.summarization.summarizer:Input corpus is expected to have at least 10 documents.\n",
      "WARNING:gensim.summarization.summarizer:Input text is expected to have at least 10 sentences.\n",
      "WARNING:gensim.summarization.summarizer:Input corpus is expected to have at least 10 documents.\n",
      "WARNING:gensim.summarization.summarizer:Input text is expected to have at least 10 sentences.\n",
      "WARNING:gensim.summarization.summarizer:Input corpus is expected to have at least 10 documents.\n",
      "WARNING:gensim.summarization.summarizer:Input text is expected to have at least 10 sentences.\n",
      "WARNING:gensim.summarization.summarizer:Input corpus is expected to have at least 10 documents.\n",
      "WARNING:gensim.summarization.summarizer:Input text is expected to have at least 10 sentences.\n",
      "WARNING:gensim.summarization.summarizer:Input corpus is expected to have at least 10 documents.\n",
      "WARNING:gensim.summarization.summarizer:Input text is expected to have at least 10 sentences.\n",
      "WARNING:gensim.summarization.summarizer:Input corpus is expected to have at least 10 documents.\n",
      "WARNING:gensim.summarization.summarizer:Input text is expected to have at least 10 sentences.\n",
      "WARNING:gensim.summarization.summarizer:Input corpus is expected to have at least 10 documents.\n",
      "WARNING:gensim.summarization.summarizer:Input text is expected to have at least 10 sentences.\n",
      "WARNING:gensim.summarization.summarizer:Input corpus is expected to have at least 10 documents.\n",
      "WARNING:gensim.summarization.summarizer:Input text is expected to have at least 10 sentences.\n",
      "WARNING:gensim.summarization.summarizer:Input corpus is expected to have at least 10 documents.\n",
      "WARNING:gensim.summarization.summarizer:Input text is expected to have at least 10 sentences.\n",
      "WARNING:gensim.summarization.summarizer:Input corpus is expected to have at least 10 documents.\n",
      "WARNING:gensim.summarization.summarizer:Input text is expected to have at least 10 sentences.\n",
      "WARNING:gensim.summarization.summarizer:Input corpus is expected to have at least 10 documents.\n",
      "WARNING:gensim.summarization.summarizer:Input text is expected to have at least 10 sentences.\n",
      "WARNING:gensim.summarization.summarizer:Input corpus is expected to have at least 10 documents.\n",
      "WARNING:gensim.summarization.summarizer:Input text is expected to have at least 10 sentences.\n",
      "WARNING:gensim.summarization.summarizer:Input corpus is expected to have at least 10 documents.\n",
      "WARNING:gensim.summarization.summarizer:Input text is expected to have at least 10 sentences.\n",
      "WARNING:gensim.summarization.summarizer:Input corpus is expected to have at least 10 documents.\n",
      "WARNING:gensim.summarization.summarizer:Input text is expected to have at least 10 sentences.\n",
      "WARNING:gensim.summarization.summarizer:Input corpus is expected to have at least 10 documents.\n",
      "WARNING:gensim.summarization.summarizer:Input text is expected to have at least 10 sentences.\n"
     ]
    },
    {
     "name": "stderr",
     "output_type": "stream",
     "text": [
      "WARNING:gensim.summarization.summarizer:Input corpus is expected to have at least 10 documents.\n",
      "WARNING:gensim.summarization.summarizer:Input text is expected to have at least 10 sentences.\n",
      "WARNING:gensim.summarization.summarizer:Input corpus is expected to have at least 10 documents.\n",
      "WARNING:gensim.summarization.summarizer:Input text is expected to have at least 10 sentences.\n",
      "WARNING:gensim.summarization.summarizer:Input corpus is expected to have at least 10 documents.\n",
      "WARNING:gensim.summarization.summarizer:Input text is expected to have at least 10 sentences.\n",
      "WARNING:gensim.summarization.summarizer:Input corpus is expected to have at least 10 documents.\n",
      "WARNING:gensim.summarization.summarizer:Input text is expected to have at least 10 sentences.\n",
      "WARNING:gensim.summarization.summarizer:Input corpus is expected to have at least 10 documents.\n",
      "WARNING:gensim.summarization.summarizer:Input text is expected to have at least 10 sentences.\n",
      "WARNING:gensim.summarization.summarizer:Input corpus is expected to have at least 10 documents.\n",
      "WARNING:gensim.summarization.summarizer:Input text is expected to have at least 10 sentences.\n",
      "WARNING:gensim.summarization.summarizer:Input corpus is expected to have at least 10 documents.\n",
      "WARNING:gensim.summarization.summarizer:Input text is expected to have at least 10 sentences.\n",
      "WARNING:gensim.summarization.summarizer:Input corpus is expected to have at least 10 documents.\n",
      "WARNING:gensim.summarization.summarizer:Input text is expected to have at least 10 sentences.\n",
      "WARNING:gensim.summarization.summarizer:Input corpus is expected to have at least 10 documents.\n",
      "WARNING:gensim.summarization.summarizer:Input text is expected to have at least 10 sentences.\n",
      "WARNING:gensim.summarization.summarizer:Input corpus is expected to have at least 10 documents.\n",
      "WARNING:gensim.summarization.summarizer:Input text is expected to have at least 10 sentences.\n",
      "WARNING:gensim.summarization.summarizer:Input corpus is expected to have at least 10 documents.\n",
      "WARNING:gensim.summarization.summarizer:Input text is expected to have at least 10 sentences.\n",
      "WARNING:gensim.summarization.summarizer:Input corpus is expected to have at least 10 documents.\n",
      "WARNING:gensim.summarization.summarizer:Input text is expected to have at least 10 sentences.\n",
      "WARNING:gensim.summarization.summarizer:Input corpus is expected to have at least 10 documents.\n",
      "WARNING:gensim.summarization.summarizer:Input text is expected to have at least 10 sentences.\n",
      "WARNING:gensim.summarization.summarizer:Input corpus is expected to have at least 10 documents.\n",
      "WARNING:gensim.summarization.summarizer:Input text is expected to have at least 10 sentences.\n",
      "WARNING:gensim.summarization.summarizer:Input corpus is expected to have at least 10 documents.\n",
      "WARNING:gensim.summarization.summarizer:Input text is expected to have at least 10 sentences.\n",
      "WARNING:gensim.summarization.summarizer:Input corpus is expected to have at least 10 documents.\n",
      "WARNING:gensim.summarization.summarizer:Input text is expected to have at least 10 sentences.\n",
      "WARNING:gensim.summarization.summarizer:Input corpus is expected to have at least 10 documents.\n",
      "WARNING:gensim.summarization.summarizer:Input text is expected to have at least 10 sentences.\n",
      "WARNING:gensim.summarization.summarizer:Input corpus is expected to have at least 10 documents.\n",
      "WARNING:gensim.summarization.summarizer:Input text is expected to have at least 10 sentences.\n",
      "WARNING:gensim.summarization.summarizer:Input corpus is expected to have at least 10 documents.\n",
      "WARNING:gensim.summarization.summarizer:Input text is expected to have at least 10 sentences.\n",
      "WARNING:gensim.summarization.summarizer:Input corpus is expected to have at least 10 documents.\n",
      "WARNING:gensim.summarization.summarizer:Input text is expected to have at least 10 sentences.\n",
      "WARNING:gensim.summarization.summarizer:Input corpus is expected to have at least 10 documents.\n",
      "WARNING:gensim.summarization.summarizer:Input text is expected to have at least 10 sentences.\n",
      "WARNING:gensim.summarization.summarizer:Input corpus is expected to have at least 10 documents.\n",
      "WARNING:gensim.summarization.summarizer:Input text is expected to have at least 10 sentences.\n",
      "WARNING:gensim.summarization.summarizer:Input corpus is expected to have at least 10 documents.\n",
      "WARNING:gensim.summarization.summarizer:Input text is expected to have at least 10 sentences.\n",
      "WARNING:gensim.summarization.summarizer:Input corpus is expected to have at least 10 documents.\n",
      "WARNING:gensim.summarization.summarizer:Input text is expected to have at least 10 sentences.\n",
      "WARNING:gensim.summarization.summarizer:Input corpus is expected to have at least 10 documents.\n",
      "WARNING:gensim.summarization.summarizer:Input text is expected to have at least 10 sentences.\n",
      "WARNING:gensim.summarization.summarizer:Input corpus is expected to have at least 10 documents.\n",
      "WARNING:gensim.summarization.summarizer:Input text is expected to have at least 10 sentences.\n",
      "WARNING:gensim.summarization.summarizer:Input corpus is expected to have at least 10 documents.\n",
      "WARNING:gensim.summarization.summarizer:Input text is expected to have at least 10 sentences.\n",
      "WARNING:gensim.summarization.summarizer:Input corpus is expected to have at least 10 documents.\n",
      "WARNING:gensim.summarization.summarizer:Input text is expected to have at least 10 sentences.\n",
      "WARNING:gensim.summarization.summarizer:Input corpus is expected to have at least 10 documents.\n",
      "WARNING:gensim.summarization.summarizer:Input text is expected to have at least 10 sentences.\n",
      "WARNING:gensim.summarization.summarizer:Input corpus is expected to have at least 10 documents.\n",
      "WARNING:gensim.summarization.summarizer:Input text is expected to have at least 10 sentences.\n",
      "WARNING:gensim.summarization.summarizer:Input corpus is expected to have at least 10 documents.\n",
      "WARNING:gensim.summarization.summarizer:Input text is expected to have at least 10 sentences.\n",
      "WARNING:gensim.summarization.summarizer:Input corpus is expected to have at least 10 documents.\n",
      "WARNING:gensim.summarization.summarizer:Input text is expected to have at least 10 sentences.\n",
      "WARNING:gensim.summarization.summarizer:Input corpus is expected to have at least 10 documents.\n",
      "WARNING:gensim.summarization.summarizer:Input text is expected to have at least 10 sentences.\n",
      "WARNING:gensim.summarization.summarizer:Input corpus is expected to have at least 10 documents.\n",
      "WARNING:gensim.summarization.summarizer:Input text is expected to have at least 10 sentences.\n",
      "WARNING:gensim.summarization.summarizer:Input corpus is expected to have at least 10 documents.\n",
      "WARNING:gensim.summarization.summarizer:Input text is expected to have at least 10 sentences.\n",
      "WARNING:gensim.summarization.summarizer:Input corpus is expected to have at least 10 documents.\n",
      "WARNING:gensim.summarization.summarizer:Input text is expected to have at least 10 sentences.\n",
      "WARNING:gensim.summarization.summarizer:Input corpus is expected to have at least 10 documents.\n",
      "WARNING:gensim.summarization.summarizer:Input text is expected to have at least 10 sentences.\n",
      "WARNING:gensim.summarization.summarizer:Input corpus is expected to have at least 10 documents.\n",
      "WARNING:gensim.summarization.summarizer:Input text is expected to have at least 10 sentences.\n",
      "WARNING:gensim.summarization.summarizer:Input corpus is expected to have at least 10 documents.\n",
      "WARNING:gensim.summarization.summarizer:Input text is expected to have at least 10 sentences.\n",
      "WARNING:gensim.summarization.summarizer:Input corpus is expected to have at least 10 documents.\n",
      "WARNING:gensim.summarization.summarizer:Input text is expected to have at least 10 sentences.\n",
      "WARNING:gensim.summarization.summarizer:Input corpus is expected to have at least 10 documents.\n",
      "WARNING:gensim.summarization.summarizer:Input text is expected to have at least 10 sentences.\n",
      "WARNING:gensim.summarization.summarizer:Input corpus is expected to have at least 10 documents.\n",
      "WARNING:gensim.summarization.summarizer:Input text is expected to have at least 10 sentences.\n",
      "WARNING:gensim.summarization.summarizer:Input corpus is expected to have at least 10 documents.\n",
      "WARNING:gensim.summarization.summarizer:Input text is expected to have at least 10 sentences.\n",
      "WARNING:gensim.summarization.summarizer:Input corpus is expected to have at least 10 documents.\n"
     ]
    },
    {
     "name": "stderr",
     "output_type": "stream",
     "text": [
      "WARNING:gensim.summarization.summarizer:Input text is expected to have at least 10 sentences.\n",
      "WARNING:gensim.summarization.summarizer:Input corpus is expected to have at least 10 documents.\n",
      "WARNING:gensim.summarization.summarizer:Input text is expected to have at least 10 sentences.\n",
      "WARNING:gensim.summarization.summarizer:Input corpus is expected to have at least 10 documents.\n",
      "WARNING:gensim.summarization.summarizer:Input text is expected to have at least 10 sentences.\n",
      "WARNING:gensim.summarization.summarizer:Input corpus is expected to have at least 10 documents.\n",
      "WARNING:gensim.summarization.summarizer:Input text is expected to have at least 10 sentences.\n",
      "WARNING:gensim.summarization.summarizer:Input corpus is expected to have at least 10 documents.\n",
      "WARNING:gensim.summarization.summarizer:Input text is expected to have at least 10 sentences.\n",
      "WARNING:gensim.summarization.summarizer:Input corpus is expected to have at least 10 documents.\n",
      "WARNING:gensim.summarization.summarizer:Input text is expected to have at least 10 sentences.\n",
      "WARNING:gensim.summarization.summarizer:Input corpus is expected to have at least 10 documents.\n",
      "WARNING:gensim.summarization.summarizer:Input text is expected to have at least 10 sentences.\n",
      "WARNING:gensim.summarization.summarizer:Input corpus is expected to have at least 10 documents.\n",
      "WARNING:gensim.summarization.summarizer:Input text is expected to have at least 10 sentences.\n",
      "WARNING:gensim.summarization.summarizer:Input corpus is expected to have at least 10 documents.\n",
      "WARNING:gensim.summarization.summarizer:Input text is expected to have at least 10 sentences.\n",
      "WARNING:gensim.summarization.summarizer:Input corpus is expected to have at least 10 documents.\n",
      "WARNING:gensim.summarization.summarizer:Input text is expected to have at least 10 sentences.\n",
      "WARNING:gensim.summarization.summarizer:Input corpus is expected to have at least 10 documents.\n",
      "WARNING:gensim.summarization.summarizer:Input text is expected to have at least 10 sentences.\n",
      "WARNING:gensim.summarization.summarizer:Input corpus is expected to have at least 10 documents.\n",
      "WARNING:gensim.summarization.summarizer:Input text is expected to have at least 10 sentences.\n",
      "WARNING:gensim.summarization.summarizer:Input corpus is expected to have at least 10 documents.\n",
      "WARNING:gensim.summarization.summarizer:Input text is expected to have at least 10 sentences.\n",
      "WARNING:gensim.summarization.summarizer:Input corpus is expected to have at least 10 documents.\n",
      "WARNING:gensim.summarization.summarizer:Input text is expected to have at least 10 sentences.\n",
      "WARNING:gensim.summarization.summarizer:Input corpus is expected to have at least 10 documents.\n",
      "WARNING:gensim.summarization.summarizer:Input text is expected to have at least 10 sentences.\n",
      "WARNING:gensim.summarization.summarizer:Input corpus is expected to have at least 10 documents.\n",
      "WARNING:gensim.summarization.summarizer:Input text is expected to have at least 10 sentences.\n",
      "WARNING:gensim.summarization.summarizer:Input corpus is expected to have at least 10 documents.\n",
      "WARNING:gensim.summarization.summarizer:Input text is expected to have at least 10 sentences.\n",
      "WARNING:gensim.summarization.summarizer:Input corpus is expected to have at least 10 documents.\n",
      "WARNING:gensim.summarization.summarizer:Input text is expected to have at least 10 sentences.\n",
      "WARNING:gensim.summarization.summarizer:Input corpus is expected to have at least 10 documents.\n",
      "WARNING:gensim.summarization.summarizer:Input text is expected to have at least 10 sentences.\n",
      "WARNING:gensim.summarization.summarizer:Input corpus is expected to have at least 10 documents.\n",
      "WARNING:gensim.summarization.summarizer:Input text is expected to have at least 10 sentences.\n",
      "WARNING:gensim.summarization.summarizer:Input corpus is expected to have at least 10 documents.\n",
      "WARNING:gensim.summarization.summarizer:Input text is expected to have at least 10 sentences.\n",
      "WARNING:gensim.summarization.summarizer:Input corpus is expected to have at least 10 documents.\n",
      "WARNING:gensim.summarization.summarizer:Input text is expected to have at least 10 sentences.\n",
      "WARNING:gensim.summarization.summarizer:Input corpus is expected to have at least 10 documents.\n",
      "WARNING:gensim.summarization.summarizer:Input text is expected to have at least 10 sentences.\n",
      "WARNING:gensim.summarization.summarizer:Input corpus is expected to have at least 10 documents.\n",
      "WARNING:gensim.summarization.summarizer:Input text is expected to have at least 10 sentences.\n",
      "WARNING:gensim.summarization.summarizer:Input corpus is expected to have at least 10 documents.\n",
      "WARNING:gensim.summarization.summarizer:Input text is expected to have at least 10 sentences.\n",
      "WARNING:gensim.summarization.summarizer:Input corpus is expected to have at least 10 documents.\n",
      "WARNING:gensim.summarization.summarizer:Input text is expected to have at least 10 sentences.\n",
      "WARNING:gensim.summarization.summarizer:Input corpus is expected to have at least 10 documents.\n",
      "WARNING:gensim.summarization.summarizer:Input text is expected to have at least 10 sentences.\n",
      "WARNING:gensim.summarization.summarizer:Input corpus is expected to have at least 10 documents.\n",
      "WARNING:gensim.summarization.summarizer:Input text is expected to have at least 10 sentences.\n",
      "WARNING:gensim.summarization.summarizer:Input corpus is expected to have at least 10 documents.\n",
      "WARNING:gensim.summarization.summarizer:Input text is expected to have at least 10 sentences.\n",
      "WARNING:gensim.summarization.summarizer:Input corpus is expected to have at least 10 documents.\n",
      "WARNING:gensim.summarization.summarizer:Input text is expected to have at least 10 sentences.\n",
      "WARNING:gensim.summarization.summarizer:Input corpus is expected to have at least 10 documents.\n",
      "WARNING:gensim.summarization.summarizer:Input text is expected to have at least 10 sentences.\n",
      "WARNING:gensim.summarization.summarizer:Input corpus is expected to have at least 10 documents.\n",
      "WARNING:gensim.summarization.summarizer:Input text is expected to have at least 10 sentences.\n",
      "WARNING:gensim.summarization.summarizer:Input corpus is expected to have at least 10 documents.\n",
      "WARNING:gensim.summarization.summarizer:Input text is expected to have at least 10 sentences.\n",
      "WARNING:gensim.summarization.summarizer:Input corpus is expected to have at least 10 documents.\n",
      "WARNING:gensim.summarization.summarizer:Input text is expected to have at least 10 sentences.\n",
      "WARNING:gensim.summarization.summarizer:Input corpus is expected to have at least 10 documents.\n",
      "WARNING:gensim.summarization.summarizer:Input text is expected to have at least 10 sentences.\n",
      "WARNING:gensim.summarization.summarizer:Input corpus is expected to have at least 10 documents.\n",
      "WARNING:gensim.summarization.summarizer:Input text is expected to have at least 10 sentences.\n",
      "WARNING:gensim.summarization.summarizer:Input corpus is expected to have at least 10 documents.\n",
      "WARNING:gensim.summarization.summarizer:Input text is expected to have at least 10 sentences.\n",
      "WARNING:gensim.summarization.summarizer:Input corpus is expected to have at least 10 documents.\n",
      "WARNING:gensim.summarization.summarizer:Input text is expected to have at least 10 sentences.\n",
      "WARNING:gensim.summarization.summarizer:Input corpus is expected to have at least 10 documents.\n",
      "WARNING:gensim.summarization.summarizer:Input text is expected to have at least 10 sentences.\n",
      "WARNING:gensim.summarization.summarizer:Input corpus is expected to have at least 10 documents.\n",
      "WARNING:gensim.summarization.summarizer:Input text is expected to have at least 10 sentences.\n",
      "WARNING:gensim.summarization.summarizer:Input corpus is expected to have at least 10 documents.\n",
      "WARNING:gensim.summarization.summarizer:Input text is expected to have at least 10 sentences.\n",
      "WARNING:gensim.summarization.summarizer:Input corpus is expected to have at least 10 documents.\n",
      "WARNING:gensim.summarization.summarizer:Input text is expected to have at least 10 sentences.\n",
      "WARNING:gensim.summarization.summarizer:Input corpus is expected to have at least 10 documents.\n",
      "WARNING:gensim.summarization.summarizer:Input text is expected to have at least 10 sentences.\n",
      "WARNING:gensim.summarization.summarizer:Input corpus is expected to have at least 10 documents.\n",
      "WARNING:gensim.summarization.summarizer:Input text is expected to have at least 10 sentences.\n"
     ]
    },
    {
     "name": "stderr",
     "output_type": "stream",
     "text": [
      "WARNING:gensim.summarization.summarizer:Input corpus is expected to have at least 10 documents.\n",
      "WARNING:gensim.summarization.summarizer:Input text is expected to have at least 10 sentences.\n",
      "WARNING:gensim.summarization.summarizer:Input corpus is expected to have at least 10 documents.\n",
      "WARNING:gensim.summarization.summarizer:Input text is expected to have at least 10 sentences.\n",
      "WARNING:gensim.summarization.summarizer:Input corpus is expected to have at least 10 documents.\n",
      "WARNING:gensim.summarization.summarizer:Input text is expected to have at least 10 sentences.\n",
      "WARNING:gensim.summarization.summarizer:Input corpus is expected to have at least 10 documents.\n",
      "WARNING:gensim.summarization.summarizer:Input text is expected to have at least 10 sentences.\n",
      "WARNING:gensim.summarization.summarizer:Input corpus is expected to have at least 10 documents.\n",
      "WARNING:gensim.summarization.summarizer:Input text is expected to have at least 10 sentences.\n",
      "WARNING:gensim.summarization.summarizer:Input corpus is expected to have at least 10 documents.\n",
      "WARNING:gensim.summarization.summarizer:Input text is expected to have at least 10 sentences.\n",
      "WARNING:gensim.summarization.summarizer:Input corpus is expected to have at least 10 documents.\n",
      "WARNING:gensim.summarization.summarizer:Input text is expected to have at least 10 sentences.\n",
      "WARNING:gensim.summarization.summarizer:Input corpus is expected to have at least 10 documents.\n",
      "WARNING:gensim.summarization.summarizer:Input text is expected to have at least 10 sentences.\n",
      "WARNING:gensim.summarization.summarizer:Input corpus is expected to have at least 10 documents.\n"
     ]
    }
   ],
   "source": [
    "news['newsSum']=news['news'].apply(lambda x:summarize(x,ratio=0.2)) ## default ratio=0.2"
   ]
  },
  {
   "cell_type": "markdown",
   "metadata": {},
   "source": [
    "**Take a look at the Summarization**"
   ]
  },
  {
   "cell_type": "code",
   "execution_count": 25,
   "metadata": {},
   "outputs": [
    {
     "data": {
      "text/plain": [
       "array(['BMW drives record sales in Asia\\n \\n BMW has forecast sales growth of at least 10% in Asia this year after registering record sales there in 2004. \\n \\n The luxury carmaker saw strong sales of its three marques - BMW, Mini and Rolls-Royce - in Asia last year after the launch of three new models.  The company, which is vying with Mercedes-Benz for the title of leading premium carmaker, is confident about its prospects for the region in 2005.  It is launching a revamped version of its 3-Series saloon class next month. \\n \\n BMW sold nearly 95,000 cars in Asia last year, up 2 % on 2003. \\n \\n BMW-brand sales rose 2 % to 80,600 while sales of Mini models rose 3 % to 14,800.  There was also a significant increase in sales of Rolls-Royces on the continent.  BMW sold more than 100 of the iconic models compared with just ten the previous year.  The German carmaker is aiming to boost annual sales in Asia to 150,000 by 2008.  \"Here in Asia, we consider a double-digit increase in retail on the order of 10 to 15% to be realistic on the basis of current features,\" said Helmut Panke, BMW\\'s group chief executive. \\n \\n China remains the main area of concern for BMW after sales there fell 16% last year.  However, BMW is hopeful of a much better year in 2005 as its direct investment in China begins to pay dividends.  The company only began assembling luxury high-powered sedans in China in 2003.  2004 was generally a good year for BMW, which saw revenues from its core car-making operations rise 11%. \\n'],\n",
       "      dtype=object)"
      ]
     },
     "execution_count": 25,
     "metadata": {},
     "output_type": "execute_result"
    }
   ],
   "source": [
    "news['news'].iloc[55:56].values"
   ]
  },
  {
   "cell_type": "code",
   "execution_count": 26,
   "metadata": {},
   "outputs": [
    {
     "data": {
      "text/plain": [
       "array(['The luxury carmaker saw strong sales of its three marques - BMW, Mini and Rolls-Royce - in Asia last year after the launch of three new models.\\nBMW sold nearly 95,000 cars in Asia last year, up 2 % on 2003.\\nBMW-brand sales rose 2 % to 80,600 while sales of Mini models rose 3 % to 14,800.'],\n",
       "      dtype=object)"
      ]
     },
     "execution_count": 26,
     "metadata": {},
     "output_type": "execute_result"
    }
   ],
   "source": [
    "news['newsSum'].iloc[55:56].values"
   ]
  },
  {
   "cell_type": "markdown",
   "metadata": {},
   "source": [
    "### Clean the Summarization text field"
   ]
  },
  {
   "cell_type": "code",
   "execution_count": 27,
   "metadata": {},
   "outputs": [],
   "source": [
    "news['newsSumClean'] = news['newsSum'].apply(clean_text)"
   ]
  },
  {
   "cell_type": "code",
   "execution_count": 28,
   "metadata": {},
   "outputs": [
    {
     "data": {
      "text/plain": [
       "array(['the luxury carmaker saw strong sale of it three marque bmw mini and roll royce in asia last year after the launch of three new model bmw sell nearly car in asia last year up on bmw brand sale rise to while sale of mini model rise to'],\n",
       "      dtype=object)"
      ]
     },
     "execution_count": 28,
     "metadata": {},
     "output_type": "execute_result"
    }
   ],
   "source": [
    "news['newsSumClean'].iloc[55:56].values"
   ]
  },
  {
   "cell_type": "markdown",
   "metadata": {},
   "source": [
    "### Repeat the classifier evaluation using SGDClassifier on Summarization text using gensim summarizer"
   ]
  },
  {
   "cell_type": "code",
   "execution_count": 29,
   "metadata": {},
   "outputs": [],
   "source": [
    "X_train,X_test,y_train,y_test =  train_test_split(news['newsSumClean'],news.iloc[:,5:10], random_state=42, test_size=0.20, shuffle=True)"
   ]
  },
  {
   "cell_type": "code",
   "execution_count": 30,
   "metadata": {},
   "outputs": [],
   "source": [
    "classifier=OneVsRestClassifier(SGDClassifier(), n_jobs=1)\n",
    "y_score=DoClassification(classifier,'decision_function' )\n",
    "computeMetrics(average_precision_score,y_score,'Gensim')"
   ]
  },
  {
   "cell_type": "code",
   "execution_count": 31,
   "metadata": {},
   "outputs": [
    {
     "data": {
      "text/html": [
       "<div>\n",
       "<style scoped>\n",
       "    .dataframe tbody tr th:only-of-type {\n",
       "        vertical-align: middle;\n",
       "    }\n",
       "\n",
       "    .dataframe tbody tr th {\n",
       "        vertical-align: top;\n",
       "    }\n",
       "\n",
       "    .dataframe thead th {\n",
       "        text-align: right;\n",
       "    }\n",
       "</style>\n",
       "<table border=\"1\" class=\"dataframe\">\n",
       "  <thead>\n",
       "    <tr style=\"text-align: right;\">\n",
       "      <th></th>\n",
       "      <th>type</th>\n",
       "      <th>SGDClassifier_average_precision_score</th>\n",
       "      <th>Gensim_average_precision_score</th>\n",
       "    </tr>\n",
       "  </thead>\n",
       "  <tbody>\n",
       "    <tr>\n",
       "      <th>0</th>\n",
       "      <td>type_business</td>\n",
       "      <td>0.967659</td>\n",
       "      <td>0.920503</td>\n",
       "    </tr>\n",
       "    <tr>\n",
       "      <th>1</th>\n",
       "      <td>type_entertainment</td>\n",
       "      <td>0.969602</td>\n",
       "      <td>0.933764</td>\n",
       "    </tr>\n",
       "    <tr>\n",
       "      <th>2</th>\n",
       "      <td>type_politics</td>\n",
       "      <td>0.979938</td>\n",
       "      <td>0.955183</td>\n",
       "    </tr>\n",
       "    <tr>\n",
       "      <th>3</th>\n",
       "      <td>type_sport</td>\n",
       "      <td>0.998669</td>\n",
       "      <td>0.981533</td>\n",
       "    </tr>\n",
       "    <tr>\n",
       "      <th>4</th>\n",
       "      <td>type_tech</td>\n",
       "      <td>0.980444</td>\n",
       "      <td>0.941780</td>\n",
       "    </tr>\n",
       "  </tbody>\n",
       "</table>\n",
       "</div>"
      ],
      "text/plain": [
       "                 type  SGDClassifier_average_precision_score  \\\n",
       "0       type_business                               0.967659   \n",
       "1  type_entertainment                               0.969602   \n",
       "2       type_politics                               0.979938   \n",
       "3          type_sport                               0.998669   \n",
       "4           type_tech                               0.980444   \n",
       "\n",
       "   Gensim_average_precision_score  \n",
       "0                        0.920503  \n",
       "1                        0.933764  \n",
       "2                        0.955183  \n",
       "3                        0.981533  \n",
       "4                        0.941780  "
      ]
     },
     "execution_count": 31,
     "metadata": {},
     "output_type": "execute_result"
    }
   ],
   "source": [
    "accuracy_classifier"
   ]
  },
  {
   "cell_type": "markdown",
   "metadata": {},
   "source": [
    "### Compare Summarization between Gensim and bert-extractive-summarizer  "
   ]
  },
  {
   "cell_type": "markdown",
   "metadata": {},
   "source": [
    "### Repeat the classifier evaluation using SGDClassifier on Summarization text using bert-extractive-summarizer "
   ]
  },
  {
   "cell_type": "code",
   "execution_count": 32,
   "metadata": {},
   "outputs": [
    {
     "name": "stderr",
     "output_type": "stream",
     "text": [
      "100%|██████████████████████████████████████| 362/362 [00:00<00:00, 48265.56B/s]\n"
     ]
    }
   ],
   "source": [
    "model = Summarizer()\n",
    "news['BERT'] = news['news'].apply(model)"
   ]
  },
  {
   "cell_type": "code",
   "execution_count": 38,
   "metadata": {},
   "outputs": [
    {
     "data": {
      "text/plain": [
       "array(['BMW drives record sales in Asia\\n \\n BMW has forecast sales growth of at least 10% in Asia this year after registering record sales there in 2004. However, BMW is hopeful of a much better year in 2005 as its direct investment in China begins to pay dividends.'],\n",
       "      dtype=object)"
      ]
     },
     "execution_count": 38,
     "metadata": {},
     "output_type": "execute_result"
    }
   ],
   "source": [
    "news['BERT'].iloc[55:56].values"
   ]
  },
  {
   "cell_type": "code",
   "execution_count": 39,
   "metadata": {},
   "outputs": [],
   "source": [
    "news['BERTClean'] = news['BERT'].apply(clean_text)"
   ]
  },
  {
   "cell_type": "code",
   "execution_count": 40,
   "metadata": {},
   "outputs": [],
   "source": [
    "X_train,X_test,y_train,y_test =  train_test_split(news['BERTClean'],news.iloc[:,5:10], random_state=42, test_size=0.20, shuffle=True)"
   ]
  },
  {
   "cell_type": "code",
   "execution_count": 41,
   "metadata": {},
   "outputs": [],
   "source": [
    "classifier=OneVsRestClassifier(SGDClassifier(), n_jobs=1)\n",
    "y_score=DoClassification(classifier,'decision_function' )\n",
    "computeMetrics(average_precision_score,y_score,'BERT')"
   ]
  },
  {
   "cell_type": "code",
   "execution_count": 42,
   "metadata": {
    "scrolled": true
   },
   "outputs": [
    {
     "data": {
      "text/html": [
       "<div>\n",
       "<style scoped>\n",
       "    .dataframe tbody tr th:only-of-type {\n",
       "        vertical-align: middle;\n",
       "    }\n",
       "\n",
       "    .dataframe tbody tr th {\n",
       "        vertical-align: top;\n",
       "    }\n",
       "\n",
       "    .dataframe thead th {\n",
       "        text-align: right;\n",
       "    }\n",
       "</style>\n",
       "<table border=\"1\" class=\"dataframe\">\n",
       "  <thead>\n",
       "    <tr style=\"text-align: right;\">\n",
       "      <th></th>\n",
       "      <th>type</th>\n",
       "      <th>SGDClassifier_average_precision_score</th>\n",
       "      <th>Gensim_average_precision_score</th>\n",
       "      <th>BERT_average_precision_score</th>\n",
       "    </tr>\n",
       "  </thead>\n",
       "  <tbody>\n",
       "    <tr>\n",
       "      <th>0</th>\n",
       "      <td>type_business</td>\n",
       "      <td>0.967659</td>\n",
       "      <td>0.920503</td>\n",
       "      <td>0.950801</td>\n",
       "    </tr>\n",
       "    <tr>\n",
       "      <th>1</th>\n",
       "      <td>type_entertainment</td>\n",
       "      <td>0.969602</td>\n",
       "      <td>0.933764</td>\n",
       "      <td>0.954705</td>\n",
       "    </tr>\n",
       "    <tr>\n",
       "      <th>2</th>\n",
       "      <td>type_politics</td>\n",
       "      <td>0.979938</td>\n",
       "      <td>0.955183</td>\n",
       "      <td>0.963077</td>\n",
       "    </tr>\n",
       "    <tr>\n",
       "      <th>3</th>\n",
       "      <td>type_sport</td>\n",
       "      <td>0.998669</td>\n",
       "      <td>0.981533</td>\n",
       "      <td>0.994207</td>\n",
       "    </tr>\n",
       "    <tr>\n",
       "      <th>4</th>\n",
       "      <td>type_tech</td>\n",
       "      <td>0.980444</td>\n",
       "      <td>0.941780</td>\n",
       "      <td>0.963798</td>\n",
       "    </tr>\n",
       "  </tbody>\n",
       "</table>\n",
       "</div>"
      ],
      "text/plain": [
       "                 type  SGDClassifier_average_precision_score  \\\n",
       "0       type_business                               0.967659   \n",
       "1  type_entertainment                               0.969602   \n",
       "2       type_politics                               0.979938   \n",
       "3          type_sport                               0.998669   \n",
       "4           type_tech                               0.980444   \n",
       "\n",
       "   Gensim_average_precision_score  BERT_average_precision_score  \n",
       "0                        0.920503                      0.950801  \n",
       "1                        0.933764                      0.954705  \n",
       "2                        0.955183                      0.963077  \n",
       "3                        0.981533                      0.994207  \n",
       "4                        0.941780                      0.963798  "
      ]
     },
     "execution_count": 42,
     "metadata": {},
     "output_type": "execute_result"
    }
   ],
   "source": [
    "accuracy_classifier"
   ]
  },
  {
   "cell_type": "code",
   "execution_count": 43,
   "metadata": {},
   "outputs": [
    {
     "data": {
      "text/html": [
       "<div>\n",
       "<style scoped>\n",
       "    .dataframe tbody tr th:only-of-type {\n",
       "        vertical-align: middle;\n",
       "    }\n",
       "\n",
       "    .dataframe tbody tr th {\n",
       "        vertical-align: top;\n",
       "    }\n",
       "\n",
       "    .dataframe thead th {\n",
       "        text-align: right;\n",
       "    }\n",
       "</style>\n",
       "<table border=\"1\" class=\"dataframe\">\n",
       "  <thead>\n",
       "    <tr style=\"text-align: right;\">\n",
       "      <th></th>\n",
       "      <th>Type</th>\n",
       "      <th>Variable</th>\n",
       "      <th>Value</th>\n",
       "    </tr>\n",
       "  </thead>\n",
       "  <tbody>\n",
       "    <tr>\n",
       "      <th>0</th>\n",
       "      <td>type_business</td>\n",
       "      <td>SGDClassifier_average_precision_score</td>\n",
       "      <td>0.967659</td>\n",
       "    </tr>\n",
       "    <tr>\n",
       "      <th>1</th>\n",
       "      <td>type_entertainment</td>\n",
       "      <td>SGDClassifier_average_precision_score</td>\n",
       "      <td>0.969602</td>\n",
       "    </tr>\n",
       "    <tr>\n",
       "      <th>2</th>\n",
       "      <td>type_politics</td>\n",
       "      <td>SGDClassifier_average_precision_score</td>\n",
       "      <td>0.979938</td>\n",
       "    </tr>\n",
       "    <tr>\n",
       "      <th>3</th>\n",
       "      <td>type_sport</td>\n",
       "      <td>SGDClassifier_average_precision_score</td>\n",
       "      <td>0.998669</td>\n",
       "    </tr>\n",
       "    <tr>\n",
       "      <th>4</th>\n",
       "      <td>type_tech</td>\n",
       "      <td>SGDClassifier_average_precision_score</td>\n",
       "      <td>0.980444</td>\n",
       "    </tr>\n",
       "    <tr>\n",
       "      <th>5</th>\n",
       "      <td>type_business</td>\n",
       "      <td>Gensim_average_precision_score</td>\n",
       "      <td>0.920503</td>\n",
       "    </tr>\n",
       "    <tr>\n",
       "      <th>6</th>\n",
       "      <td>type_entertainment</td>\n",
       "      <td>Gensim_average_precision_score</td>\n",
       "      <td>0.933764</td>\n",
       "    </tr>\n",
       "    <tr>\n",
       "      <th>7</th>\n",
       "      <td>type_politics</td>\n",
       "      <td>Gensim_average_precision_score</td>\n",
       "      <td>0.955183</td>\n",
       "    </tr>\n",
       "    <tr>\n",
       "      <th>8</th>\n",
       "      <td>type_sport</td>\n",
       "      <td>Gensim_average_precision_score</td>\n",
       "      <td>0.981533</td>\n",
       "    </tr>\n",
       "    <tr>\n",
       "      <th>9</th>\n",
       "      <td>type_tech</td>\n",
       "      <td>Gensim_average_precision_score</td>\n",
       "      <td>0.941780</td>\n",
       "    </tr>\n",
       "    <tr>\n",
       "      <th>10</th>\n",
       "      <td>type_business</td>\n",
       "      <td>BERT_average_precision_score</td>\n",
       "      <td>0.950801</td>\n",
       "    </tr>\n",
       "    <tr>\n",
       "      <th>11</th>\n",
       "      <td>type_entertainment</td>\n",
       "      <td>BERT_average_precision_score</td>\n",
       "      <td>0.954705</td>\n",
       "    </tr>\n",
       "    <tr>\n",
       "      <th>12</th>\n",
       "      <td>type_politics</td>\n",
       "      <td>BERT_average_precision_score</td>\n",
       "      <td>0.963077</td>\n",
       "    </tr>\n",
       "    <tr>\n",
       "      <th>13</th>\n",
       "      <td>type_sport</td>\n",
       "      <td>BERT_average_precision_score</td>\n",
       "      <td>0.994207</td>\n",
       "    </tr>\n",
       "    <tr>\n",
       "      <th>14</th>\n",
       "      <td>type_tech</td>\n",
       "      <td>BERT_average_precision_score</td>\n",
       "      <td>0.963798</td>\n",
       "    </tr>\n",
       "  </tbody>\n",
       "</table>\n",
       "</div>"
      ],
      "text/plain": [
       "                  Type                               Variable     Value\n",
       "0        type_business  SGDClassifier_average_precision_score  0.967659\n",
       "1   type_entertainment  SGDClassifier_average_precision_score  0.969602\n",
       "2        type_politics  SGDClassifier_average_precision_score  0.979938\n",
       "3           type_sport  SGDClassifier_average_precision_score  0.998669\n",
       "4            type_tech  SGDClassifier_average_precision_score  0.980444\n",
       "5        type_business         Gensim_average_precision_score  0.920503\n",
       "6   type_entertainment         Gensim_average_precision_score  0.933764\n",
       "7        type_politics         Gensim_average_precision_score  0.955183\n",
       "8           type_sport         Gensim_average_precision_score  0.981533\n",
       "9            type_tech         Gensim_average_precision_score  0.941780\n",
       "10       type_business           BERT_average_precision_score  0.950801\n",
       "11  type_entertainment           BERT_average_precision_score  0.954705\n",
       "12       type_politics           BERT_average_precision_score  0.963077\n",
       "13          type_sport           BERT_average_precision_score  0.994207\n",
       "14           type_tech           BERT_average_precision_score  0.963798"
      ]
     },
     "execution_count": 43,
     "metadata": {},
     "output_type": "execute_result"
    }
   ],
   "source": [
    "accuracy_classifier_melt = accuracy_classifier.melt(id_vars='type').rename(columns=str.title)\n",
    "accuracy_classifier_melt"
   ]
  },
  {
   "cell_type": "code",
   "execution_count": 44,
   "metadata": {},
   "outputs": [
    {
     "data": {
      "image/png": "[encoded data removed]",
      "text/plain": [
       "<Figure size 720x576 with 1 Axes>"
      ]
     },
     "metadata": {
      "needs_background": "light"
     },
     "output_type": "display_data"
    }
   ],
   "source": [
    "accuracy_classifier_melt.dropna(inplace=True)\n",
    "fig, ax1 = plt.subplots(figsize=(10, 8))\n",
    "type=sns.barplot(x='Type', y='Value', hue='Variable', data=accuracy_classifier_melt[-20:])\n",
    "for item in type.get_xticklabels():\n",
    "    item.set_rotation(45)\n",
    "ax1.set(xlabel='Type', ylabel='Average precision score')\n",
    "sns.despine(fig)"
   ]
  },
  {
   "cell_type": "markdown",
   "metadata": {},
   "source": [
    "### Ratio of classification accuracy after summarization by Gensim vs original news "
   ]
  },
  {
   "cell_type": "code",
   "execution_count": 45,
   "metadata": {},
   "outputs": [
    {
     "data": {
      "text/plain": [
       "0.966597746908765"
      ]
     },
     "execution_count": 45,
     "metadata": {},
     "output_type": "execute_result"
    }
   ],
   "source": [
    "accuracy_classifier.Gensim_average_precision_score.mean()/accuracy_classifier.SGDClassifier_average_precision_score.mean()"
   ]
  },
  {
   "cell_type": "markdown",
   "metadata": {},
   "source": [
    "### Ratio of classification accuracy after BERT summarization vs original news "
   ]
  },
  {
   "cell_type": "code",
   "execution_count": 46,
   "metadata": {},
   "outputs": [
    {
     "data": {
      "text/plain": [
       "0.9857600842511685"
      ]
     },
     "execution_count": 46,
     "metadata": {},
     "output_type": "execute_result"
    }
   ],
   "source": [
    "accuracy_classifier.BERT_average_precision_score.mean()/accuracy_classifier.SGDClassifier_average_precision_score.mean()"
   ]
  },
  {
   "cell_type": "code",
   "execution_count": 47,
   "metadata": {},
   "outputs": [],
   "source": [
    "accuracy_classifier.to_csv('NewsPerformMetrics.csv')"
   ]
  },
  {
   "cell_type": "markdown",
   "metadata": {
    "collapsed": true
   },
   "source": [
    "### Conclusion: BERT Summarization performs better than Gensim Summarization "
   ]
  },
  {
   "cell_type": "code",
   "execution_count": 48,
   "metadata": {},
   "outputs": [
    {
     "data": {
      "text/plain": [
       "\"Yukos unit buyer faces loan claim\\n \\n The owners of embattled Russian oil giant Yukos are to ask the buyer of its former production unit to pay back a $900m (Ã\\x82Â£479m) loan. Yukos' owner Menatep Group says it will ask Rosneft to repay a loan that Yugansk had secured on its assets. Rosneft already faces a similar $540m repayment demand from foreign banks.\""
      ]
     },
     "execution_count": 48,
     "metadata": {},
     "output_type": "execute_result"
    }
   ],
   "source": [
    "news['BERT'][2]"
   ]
  },
  {
   "cell_type": "code",
   "execution_count": 49,
   "metadata": {},
   "outputs": [
    {
     "data": {
      "text/plain": [
       "'Yukos unit buyer faces loan claim\\n \\n The owners of embattled Russian oil giant Yukos are to ask the buyer of its former production unit to pay back a $900m (Ã\\x82Â£479m) loan. \\n \\n State-owned Rosneft bought the Yugansk unit for $9 bn in a sale forced by Russia to part settle a $27 bn tax claim against Yukos.  Yukos\\' owner Menatep Group says it will ask Rosneft to repay a loan that Yugansk had secured on its assets.  Rosneft already faces a similar $540m repayment demand from foreign banks.  Legal experts said Rosneft\\'s purchase of Yugansk would include such obligations.  \"The pledged assets are with Rosneft, so it will have to pay real money to the creditors to avoid seizure of Yugansk assets,\" said Moscow-based US lawyer Jamie Firestone, who is not connected to the case.  Menatep Group\\'s managing director Tim Osborne told the Reuters news agency: \"If they default, we will fight them where the rule of law exists under the international arbitration clauses of the credit. \"\\n \\n Rosneft officials were unavailable for comment.  But the company has said it intends to take action against Menatep to recover some of the tax claims and debts owed by Yugansk.  Yukos had filed for bankruptcy protection in a US court in an attempt to prevent the forced sale of its main production arm.  The sale went ahead in December and Yugansk was sold to a little-known shell company which in turn was bought by Rosneft.  Yukos claims its downfall was punishment for the political ambitions of its founder Mikhail Khodorkovsky and has vowed to sue any participant in the sale. \\n'"
      ]
     },
     "execution_count": 49,
     "metadata": {},
     "output_type": "execute_result"
    }
   ],
   "source": [
    "news['news'][2]"
   ]
  },
  {
   "cell_type": "code",
   "execution_count": 50,
   "metadata": {},
   "outputs": [
    {
     "data": {
      "text/plain": [
       "\"State-owned Rosneft bought the Yugansk unit for $9 bn in a sale forced by Russia to part settle a $27 bn tax claim against Yukos.\\nYukos' owner Menatep Group says it will ask Rosneft to repay a loan that Yugansk had secured on its assets.\""
      ]
     },
     "execution_count": 50,
     "metadata": {},
     "output_type": "execute_result"
    }
   ],
   "source": [
    "# from gensim\n",
    "news['newsSum'][2]"
   ]
  },
  {
   "cell_type": "code",
   "execution_count": null,
   "metadata": {},
   "outputs": [],
   "source": []
  }
 ],
 "metadata": {
  "kernelspec": {
   "display_name": "Python 3",
   "language": "python",
   "name": "python3"
  },
  "language_info": {
   "codemirror_mode": {
    "name": "ipython",
    "version": 3
   },
   "file_extension": ".py",
   "mimetype": "text/x-python",
   "name": "python",
   "nbconvert_exporter": "python",
   "pygments_lexer": "ipython3",
   "version": "3.7.4"
  }
 },
 "nbformat": 4,
 "nbformat_minor": 1
}
