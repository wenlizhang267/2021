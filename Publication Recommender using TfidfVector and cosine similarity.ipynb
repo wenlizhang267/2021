{
 "cells": [
  {
   "cell_type": "markdown",
   "metadata": {},
   "source": [
    "### Count-based vector space models (BOW, TFIDF): losing word relationship and semantics"
   ]
  },
  {
   "cell_type": "code",
   "execution_count": 35,
   "metadata": {},
   "outputs": [
    {
     "data": {
      "text/html": [
       "        <script type=\"text/javascript\">\n",
       "        window.PlotlyConfig = {MathJaxConfig: 'local'};\n",
       "        if (window.MathJax) {MathJax.Hub.Config({SVG: {font: \"STIX-Web\"}});}\n",
       "        if (typeof require !== 'undefined') {\n",
       "        require.undef(\"plotly\");\n",
       "        requirejs.config({\n",
       "            paths: {\n",
       "                'plotly': ['https://cdn.plot.ly/plotly-latest.min']\n",
       "            }\n",
       "        });\n",
       "        require(['plotly'], function(Plotly) {\n",
       "            window._Plotly = Plotly;\n",
       "        });\n",
       "        }\n",
       "        </script>\n",
       "        "
      ]
     },
     "metadata": {},
     "output_type": "display_data"
    }
   ],
   "source": [
    "import pandas as pd\n",
    "import numpy as np\n",
    "import nltk\n",
    "from nltk.corpus import stopwords\n",
    "from sklearn.metrics.pairwise import linear_kernel\n",
    "from sklearn.metrics.pairwise import cosine_similarity\n",
    "from sklearn.feature_extraction.text import CountVectorizer\n",
    "from sklearn.feature_extraction.text import TfidfVectorizer\n",
    "import re\n",
    "import random\n",
    "\n",
    "pd.options.display.max_columns = 30\n",
    "from IPython.core.interactiveshell import InteractiveShell\n",
    "import plotly.graph_objs as go\n",
    "import chart_studio.plotly as py\n",
    "import cufflinks\n",
    "import plotly.figure_factory as ff\n",
    "InteractiveShell.ast_node_interactivity = 'all'\n",
    "from plotly.offline import iplot\n",
    "cufflinks.go_offline()\n",
    "cufflinks.set_config_file(world_readable=True,theme='ggplot')"
   ]
  },
  {
   "cell_type": "markdown",
   "metadata": {},
   "source": [
    "### Data are the search results using PubMed with a few key words¶\n",
    "https://www.ncbi.nlm.nih.gov/pubmed/"
   ]
  },
  {
   "cell_type": "code",
   "execution_count": 36,
   "metadata": {},
   "outputs": [],
   "source": [
    "with open('Pubmed.txt', 'r') as f:\n",
    "    #type(f.read())\n",
    "    resultstring=f.read()"
   ]
  },
  {
   "cell_type": "code",
   "execution_count": 37,
   "metadata": {},
   "outputs": [],
   "source": [
    "publist=re.split(\"PMID- \", resultstring)"
   ]
  },
  {
   "cell_type": "code",
   "execution_count": 38,
   "metadata": {},
   "outputs": [
    {
     "data": {
      "text/plain": [
       "9015"
      ]
     },
     "execution_count": 38,
     "metadata": {},
     "output_type": "execute_result"
    }
   ],
   "source": [
    "len(publist)"
   ]
  },
  {
   "cell_type": "markdown",
   "metadata": {},
   "source": [
    "### Extract PMID, abstract, title for each publication"
   ]
  },
  {
   "cell_type": "code",
   "execution_count": 39,
   "metadata": {},
   "outputs": [],
   "source": [
    "PMID=[]\n",
    "abstract=[]\n",
    "title=[]\n",
    "for i in range(len(publist)):\n",
    "    if len(publist[i])> 50:# only select real pub record\n",
    "        #print(publist[i])\n",
    "        PMID.append(re.search(r'^(\\d*)\\n',publist[i]).group(1))\n",
    "        abstractRaw=publist[i].replace(\"\\n\", \" \")\n",
    "        abstractRaw=abstractRaw.replace(\"This article is protected by copyright.\", \" \")\n",
    "        abstractRaw=abstractRaw.replace(\"All rights reserved.\", \" \")\n",
    "        abstractRaw=re.sub(r\"CI\\s*-\\s*\", \" \",abstractRaw)\n",
    "        ab=re.search(r'AB\\s*-(.*?)FAU\\s*-', abstractRaw)\n",
    "        ti=re.search(r'TI\\s*-(.*?)\\.', abstractRaw)\n",
    "        if ab!=None:\n",
    "            abstract.append(ab.group(1))\n",
    "        else:\n",
    "            abstract.append('')\n",
    "        if ti!=None:\n",
    "            title.append(ti.group(1))\n",
    "        else:\n",
    "            title.append('')\n",
    "       \n"
   ]
  },
  {
   "cell_type": "markdown",
   "metadata": {},
   "source": [
    "### Combine title and abstract"
   ]
  },
  {
   "cell_type": "code",
   "execution_count": 40,
   "metadata": {},
   "outputs": [
    {
     "data": {
      "text/html": [
       "<div>\n",
       "<style scoped>\n",
       "    .dataframe tbody tr th:only-of-type {\n",
       "        vertical-align: middle;\n",
       "    }\n",
       "\n",
       "    .dataframe tbody tr th {\n",
       "        vertical-align: top;\n",
       "    }\n",
       "\n",
       "    .dataframe thead th {\n",
       "        text-align: right;\n",
       "    }\n",
       "</style>\n",
       "<table border=\"1\" class=\"dataframe\">\n",
       "  <thead>\n",
       "    <tr style=\"text-align: right;\">\n",
       "      <th></th>\n",
       "      <th>PMID</th>\n",
       "      <th>title</th>\n",
       "      <th>abstract</th>\n",
       "    </tr>\n",
       "  </thead>\n",
       "  <tbody>\n",
       "    <tr>\n",
       "      <th>0</th>\n",
       "      <td>31161676</td>\n",
       "      <td>Zn-incorporation with graphene oxide on Ti su...</td>\n",
       "      <td>The poor osseointegration and postoperative b...</td>\n",
       "    </tr>\n",
       "    <tr>\n",
       "      <th>1</th>\n",
       "      <td>31159286</td>\n",
       "      <td>Impact of Different Titanium Implant Thread D...</td>\n",
       "      <td>Threads of dental implants with healing chamb...</td>\n",
       "    </tr>\n",
       "    <tr>\n",
       "      <th>2</th>\n",
       "      <td>31154539</td>\n",
       "      <td>Systemic and local effects of radiotherapy: a...</td>\n",
       "      <td>OBJECTIVES: Evaluate the modulating effect of...</td>\n",
       "    </tr>\n",
       "    <tr>\n",
       "      <th>3</th>\n",
       "      <td>31151775</td>\n",
       "      <td>In vitro proinflammatory gene expression chan...</td>\n",
       "      <td>BACKGROUND: The aim of this in vitro study wa...</td>\n",
       "    </tr>\n",
       "    <tr>\n",
       "      <th>4</th>\n",
       "      <td>31151256</td>\n",
       "      <td>Sandblasted and Acid Etched Titanium Dental I...</td>\n",
       "      <td>The field of dental implantology has made pro...</td>\n",
       "    </tr>\n",
       "  </tbody>\n",
       "</table>\n",
       "</div>"
      ],
      "text/plain": [
       "       PMID                                              title  \\\n",
       "0  31161676   Zn-incorporation with graphene oxide on Ti su...   \n",
       "1  31159286   Impact of Different Titanium Implant Thread D...   \n",
       "2  31154539   Systemic and local effects of radiotherapy: a...   \n",
       "3  31151775   In vitro proinflammatory gene expression chan...   \n",
       "4  31151256   Sandblasted and Acid Etched Titanium Dental I...   \n",
       "\n",
       "                                            abstract  \n",
       "0   The poor osseointegration and postoperative b...  \n",
       "1   Threads of dental implants with healing chamb...  \n",
       "2   OBJECTIVES: Evaluate the modulating effect of...  \n",
       "3   BACKGROUND: The aim of this in vitro study wa...  \n",
       "4   The field of dental implantology has made pro...  "
      ]
     },
     "execution_count": 40,
     "metadata": {},
     "output_type": "execute_result"
    }
   ],
   "source": [
    "data = {'PMID':PMID,'title':title, 'abstract':abstract} \n",
    "df = pd.DataFrame(data) \n",
    "df.abstract=df.abstract+df.title\n",
    "df.head()"
   ]
  },
  {
   "cell_type": "markdown",
   "metadata": {},
   "source": [
    "### Text preprocessing and cleaning"
   ]
  },
  {
   "cell_type": "code",
   "execution_count": 41,
   "metadata": {},
   "outputs": [
    {
     "name": "stderr",
     "output_type": "stream",
     "text": [
      "[nltk_data] Downloading package stopwords to\n",
      "[nltk_data]     C:\\Users\\wzhang\\AppData\\Roaming\\nltk_data...\n",
      "[nltk_data]   Package stopwords is already up-to-date!\n"
     ]
    },
    {
     "data": {
      "text/plain": [
       "True"
      ]
     },
     "execution_count": 41,
     "metadata": {},
     "output_type": "execute_result"
    }
   ],
   "source": [
    "#REPLACE_BY_SPACE_RE = re.compile('[/(){}\\[\\]\\|@,\\;\\\\\\\\]')#\\\\\\\\ is used to escape backslash\n",
    "nltk.download('stopwords')\n",
    "letteronly = re.compile('[^a-z #+_]') # only keep letters and a few symbol\n",
    "STOPWORDS = set(stopwords.words('english'))"
   ]
  },
  {
   "cell_type": "code",
   "execution_count": 42,
   "metadata": {},
   "outputs": [],
   "source": [
    "def clean_text(text):\n",
    "    \"\"\"\n",
    "        text: a string  \n",
    "        return: cleaned string\n",
    "    \"\"\"\n",
    "    text = text.lower() # lowercase text\n",
    "    text = letteronly.sub(' ', text) \n",
    "    ## stop words and length >1 removed at CountVectorize step\n",
    "    #text = ' '.join(word for word in text.split() if word not in STOPWORDS and len(word)>1) # remove stopwors from text\n",
    "    return text\n",
    "    \n",
    "df['abstractClean'] = df['abstract'].apply(clean_text)"
   ]
  },
  {
   "cell_type": "markdown",
   "metadata": {},
   "source": [
    "### Save the processed data"
   ]
  },
  {
   "cell_type": "code",
   "execution_count": 43,
   "metadata": {},
   "outputs": [
    {
     "data": {
      "text/plain": [
       "['Cleaneddf.pkl']"
      ]
     },
     "execution_count": 43,
     "metadata": {},
     "output_type": "execute_result"
    }
   ],
   "source": [
    "from sklearn.externals import joblib\n",
    "joblib.dump(df, 'Cleaneddf.pkl')\n"
   ]
  },
  {
   "cell_type": "code",
   "execution_count": 44,
   "metadata": {},
   "outputs": [
    {
     "data": {
      "text/plain": [
       "array([' the poor osseointegration and postoperative bacterial infection are prominently       responsible for the failure of titanium  ti  based implant in clinic  to address        above issues  methacryloyl modified graphene oxide  goma  as zinc ions  zn  +           reservoir and release platform was fabricated on the ti substrates with cathode       electrophoresis deposition  epd   afterwards  phenylboronic acid  pba        functionalization methacryloyl gelatin  gelma pba  was reacting with goma through       in situ free radical polymerization to prepare go zn gelma pba coating  the       obtained coating was confirmed by scanning electron microscopy  sem   x ray       photoelectron spectroscopy  xps  and zn ions release property  respectively  in       vitro cellular experiments including cell activity  alkaline phosphatase  alp         collagen secretion  extracellular matrix  ecm  mineralization  osteogenic genes       and proteins  revealed that go zn gelma pba coating was beneficial for enhancing        the adhesion  proliferation and differentiation of osteoblasts  the positive       results were related to the existence of gelatin  formation of boronic ester       between pba groups and carbohydrates of osteoblasts surface  meanwhile        antibacterial assay against staphylococcus aureus  s  aureus  and pseudomonas       aeruginosa  p  aeruginosa  confirmed that go zn gelma pba coating on ti       substrates had superior antibacterial capacity  availably inhibited the bacterial       adhesion and prevented formation of biofilm  hence  the study provides a       promising strategy for designing pro osteogenesis and antibacterial coating on ti       substrates for orthopedic applications              zn incorporation with graphene oxide on ti substrates surface to improve       osteogenic activity and inhibit bacterial adhesion',\n",
       "       ' threads of dental implants with healing chamber configurations have become a       target to improve osseointegration  this biomechanical and histometric study       aimed to evaluate the influence of implant healing chamber configurations on the        torque removal value  rtv   percentage of bone to implant contact  bic    bone       fraction occupancy inside the thread area  bafo    and bone and osteocyte density        ost  in the rabbit tibia after two months of healing  titanium implants with       three different thread configurations were evaluated  group    g    with a       conventional  v  thread shaped implant design  group    g    with square threads        and group    g    the experimental group with longer threads  healing chamber         ten rabbits      +       kg  received three implants in each tibia  one per       group   distributed in a randomized manner  after a period of two months  the       tibia blocks  implants and the surrounding tissue  were removed and processed for       ground sectioning to evaluate bic   bafo   and osteocyte density  the anova       one way statistical test was used followed by the bonferoni s multiple comparison       test to determine individual difference among groups  considering a statistical       difference when p         histometric evaluation showed a higher bafo  values and       ost density for g  in comparison with the other two groups  g  and g    with p                however  the rtv and bic  parameters were not significantly different       between groups  p          the histological data suggest that the healing       chambers in the implant macrogeometry can improve the bone reaction in comparison       with the conventional thread design   impact of different titanium implant thread designs on bone healing  a       biomechanical and histometric study with an animal model'],\n",
       "      dtype=object)"
      ]
     },
     "execution_count": 44,
     "metadata": {},
     "output_type": "execute_result"
    }
   ],
   "source": [
    "df['abstractClean'].values[:2]"
   ]
  },
  {
   "cell_type": "markdown",
   "metadata": {},
   "source": [
    "### Visualize Token (vocabulary) Frequency Distribution Before Removing Stop Words"
   ]
  },
  {
   "cell_type": "code",
   "execution_count": 45,
   "metadata": {},
   "outputs": [
    {
     "data": {
      "text/plain": [
       "(9014, 23825)"
      ]
     },
     "execution_count": 45,
     "metadata": {},
     "output_type": "execute_result"
    }
   ],
   "source": [
    "vec = CountVectorizer().fit(df['abstractClean'])\n",
    "bag_of_words = vec.transform(df['abstractClean'])\n",
    "bag_of_words.shape"
   ]
  },
  {
   "cell_type": "code",
   "execution_count": 46,
   "metadata": {},
   "outputs": [
    {
     "data": {
      "text/plain": [
       "(1, 23825)"
      ]
     },
     "execution_count": 46,
     "metadata": {},
     "output_type": "execute_result"
    }
   ],
   "source": [
    "sum_words = bag_of_words.sum(axis=0) \n",
    "sum_words.shape"
   ]
  },
  {
   "cell_type": "code",
   "execution_count": 47,
   "metadata": {},
   "outputs": [
    {
     "data": {
      "text/plain": [
       "[('the', 123450),\n",
       " ('poor', 350),\n",
       " ('osseointegration', 9099),\n",
       " ('and', 73723),\n",
       " ('postoperative', 513)]"
      ]
     },
     "execution_count": 47,
     "metadata": {},
     "output_type": "execute_result"
    }
   ],
   "source": [
    "words_freq = [(word, sum_words[0, idx]) for word, idx in vec.vocabulary_.items()]\n",
    "words_freq[:5]"
   ]
  },
  {
   "cell_type": "code",
   "execution_count": 48,
   "metadata": {},
   "outputs": [
    {
     "data": {
      "text/html": [
       "<div>\n",
       "<style scoped>\n",
       "    .dataframe tbody tr th:only-of-type {\n",
       "        vertical-align: middle;\n",
       "    }\n",
       "\n",
       "    .dataframe tbody tr th {\n",
       "        vertical-align: top;\n",
       "    }\n",
       "\n",
       "    .dataframe thead th {\n",
       "        text-align: right;\n",
       "    }\n",
       "</style>\n",
       "<table border=\"1\" class=\"dataframe\">\n",
       "  <thead>\n",
       "    <tr style=\"text-align: right;\">\n",
       "      <th></th>\n",
       "      <th>abstractClean</th>\n",
       "      <th>count</th>\n",
       "    </tr>\n",
       "  </thead>\n",
       "  <tbody>\n",
       "    <tr>\n",
       "      <th>0</th>\n",
       "      <td>the</td>\n",
       "      <td>123450</td>\n",
       "    </tr>\n",
       "    <tr>\n",
       "      <th>1</th>\n",
       "      <td>of</td>\n",
       "      <td>84245</td>\n",
       "    </tr>\n",
       "    <tr>\n",
       "      <th>2</th>\n",
       "      <td>and</td>\n",
       "      <td>73723</td>\n",
       "    </tr>\n",
       "    <tr>\n",
       "      <th>3</th>\n",
       "      <td>in</td>\n",
       "      <td>49281</td>\n",
       "    </tr>\n",
       "    <tr>\n",
       "      <th>4</th>\n",
       "      <td>to</td>\n",
       "      <td>38024</td>\n",
       "    </tr>\n",
       "  </tbody>\n",
       "</table>\n",
       "</div>"
      ],
      "text/plain": [
       "  abstractClean   count\n",
       "0           the  123450\n",
       "1            of   84245\n",
       "2           and   73723\n",
       "3            in   49281\n",
       "4            to   38024"
      ]
     },
     "execution_count": 48,
     "metadata": {},
     "output_type": "execute_result"
    }
   ],
   "source": [
    "def get_top_n_words(corpus, n=None):\n",
    "    vec = CountVectorizer().fit(corpus)\n",
    "    bag_of_words = vec.transform(corpus)\n",
    "    sum_words = bag_of_words.sum(axis=0) \n",
    "    words_freq = [(word, sum_words[0, idx]) for word, idx in vec.vocabulary_.items()]\n",
    "    words_freq =sorted(words_freq, key = lambda x: x[1], reverse=True)\n",
    "    return words_freq[:n]\n",
    "common_words = get_top_n_words(df['abstractClean'], 20)\n",
    "df1 = pd.DataFrame(common_words, columns = ['abstractClean' , 'count'])\n",
    "df1.head()"
   ]
  },
  {
   "cell_type": "code",
   "execution_count": 50,
   "metadata": {},
   "outputs": [
    {
     "data": {
      "application/vnd.plotly.v1+json": {
       "config": {
        "linkText": "Export to plot.ly",
        "plotlyServerURL": "https://plot.ly",
        "showLink": true
       },
       "data": [
        {
         "marker": {
          "color": "rgba(226, 74, 51, 0.6)",
          "line": {
           "color": "rgba(226, 74, 51, 1.0)",
           "width": 1
          }
         },
         "name": "count",
         "orientation": "h",
         "text": "",
         "type": "bar",
         "x": [
          9198,
          9736,
          9766,
          10265,
          10321,
          10583,
          11585,
          12998,
          19749,
          24308,
          25233,
          27280,
          30536,
          34314,
          35181,
          38024,
          49281,
          73723,
          84245,
          123450
         ],
         "y": [
          "is",
          "after",
          "study",
          "this",
          "that",
          "by",
          "at",
          "on",
          "for",
          "was",
          "with",
          "were",
          "implants",
          "implant",
          "bone",
          "to",
          "in",
          "and",
          "of",
          "the"
         ]
        }
       ],
       "layout": {
        "legend": {
         "bgcolor": "#FFFFFF",
         "font": {
          "color": "#666666"
         }
        },
        "paper_bgcolor": "#FFFFFF",
        "plot_bgcolor": "#E5E5E5",
        "template": {
         "data": {
          "bar": [
           {
            "error_x": {
             "color": "#2a3f5f"
            },
            "error_y": {
             "color": "#2a3f5f"
            },
            "marker": {
             "line": {
              "color": "#E5ECF6",
              "width": 0.5
             }
            },
            "type": "bar"
           }
          ],
          "barpolar": [
           {
            "marker": {
             "line": {
              "color": "#E5ECF6",
              "width": 0.5
             }
            },
            "type": "barpolar"
           }
          ],
          "carpet": [
           {
            "aaxis": {
             "endlinecolor": "#2a3f5f",
             "gridcolor": "white",
             "linecolor": "white",
             "minorgridcolor": "white",
             "startlinecolor": "#2a3f5f"
            },
            "baxis": {
             "endlinecolor": "#2a3f5f",
             "gridcolor": "white",
             "linecolor": "white",
             "minorgridcolor": "white",
             "startlinecolor": "#2a3f5f"
            },
            "type": "carpet"
           }
          ],
          "choropleth": [
           {
            "colorbar": {
             "outlinewidth": 0,
             "ticks": ""
            },
            "type": "choropleth"
           }
          ],
          "contour": [
           {
            "colorbar": {
             "outlinewidth": 0,
             "ticks": ""
            },
            "colorscale": [
             [
              0,
              "#0d0887"
             ],
             [
              0.1111111111111111,
              "#46039f"
             ],
             [
              0.2222222222222222,
              "#7201a8"
             ],
             [
              0.3333333333333333,
              "#9c179e"
             ],
             [
              0.4444444444444444,
              "#bd3786"
             ],
             [
              0.5555555555555556,
              "#d8576b"
             ],
             [
              0.6666666666666666,
              "#ed7953"
             ],
             [
              0.7777777777777778,
              "#fb9f3a"
             ],
             [
              0.8888888888888888,
              "#fdca26"
             ],
             [
              1,
              "#f0f921"
             ]
            ],
            "type": "contour"
           }
          ],
          "contourcarpet": [
           {
            "colorbar": {
             "outlinewidth": 0,
             "ticks": ""
            },
            "type": "contourcarpet"
           }
          ],
          "heatmap": [
           {
            "colorbar": {
             "outlinewidth": 0,
             "ticks": ""
            },
            "colorscale": [
             [
              0,
              "#0d0887"
             ],
             [
              0.1111111111111111,
              "#46039f"
             ],
             [
              0.2222222222222222,
              "#7201a8"
             ],
             [
              0.3333333333333333,
              "#9c179e"
             ],
             [
              0.4444444444444444,
              "#bd3786"
             ],
             [
              0.5555555555555556,
              "#d8576b"
             ],
             [
              0.6666666666666666,
              "#ed7953"
             ],
             [
              0.7777777777777778,
              "#fb9f3a"
             ],
             [
              0.8888888888888888,
              "#fdca26"
             ],
             [
              1,
              "#f0f921"
             ]
            ],
            "type": "heatmap"
           }
          ],
          "heatmapgl": [
           {
            "colorbar": {
             "outlinewidth": 0,
             "ticks": ""
            },
            "colorscale": [
             [
              0,
              "#0d0887"
             ],
             [
              0.1111111111111111,
              "#46039f"
             ],
             [
              0.2222222222222222,
              "#7201a8"
             ],
             [
              0.3333333333333333,
              "#9c179e"
             ],
             [
              0.4444444444444444,
              "#bd3786"
             ],
             [
              0.5555555555555556,
              "#d8576b"
             ],
             [
              0.6666666666666666,
              "#ed7953"
             ],
             [
              0.7777777777777778,
              "#fb9f3a"
             ],
             [
              0.8888888888888888,
              "#fdca26"
             ],
             [
              1,
              "#f0f921"
             ]
            ],
            "type": "heatmapgl"
           }
          ],
          "histogram": [
           {
            "marker": {
             "colorbar": {
              "outlinewidth": 0,
              "ticks": ""
             }
            },
            "type": "histogram"
           }
          ],
          "histogram2d": [
           {
            "colorbar": {
             "outlinewidth": 0,
             "ticks": ""
            },
            "colorscale": [
             [
              0,
              "#0d0887"
             ],
             [
              0.1111111111111111,
              "#46039f"
             ],
             [
              0.2222222222222222,
              "#7201a8"
             ],
             [
              0.3333333333333333,
              "#9c179e"
             ],
             [
              0.4444444444444444,
              "#bd3786"
             ],
             [
              0.5555555555555556,
              "#d8576b"
             ],
             [
              0.6666666666666666,
              "#ed7953"
             ],
             [
              0.7777777777777778,
              "#fb9f3a"
             ],
             [
              0.8888888888888888,
              "#fdca26"
             ],
             [
              1,
              "#f0f921"
             ]
            ],
            "type": "histogram2d"
           }
          ],
          "histogram2dcontour": [
           {
            "colorbar": {
             "outlinewidth": 0,
             "ticks": ""
            },
            "colorscale": [
             [
              0,
              "#0d0887"
             ],
             [
              0.1111111111111111,
              "#46039f"
             ],
             [
              0.2222222222222222,
              "#7201a8"
             ],
             [
              0.3333333333333333,
              "#9c179e"
             ],
             [
              0.4444444444444444,
              "#bd3786"
             ],
             [
              0.5555555555555556,
              "#d8576b"
             ],
             [
              0.6666666666666666,
              "#ed7953"
             ],
             [
              0.7777777777777778,
              "#fb9f3a"
             ],
             [
              0.8888888888888888,
              "#fdca26"
             ],
             [
              1,
              "#f0f921"
             ]
            ],
            "type": "histogram2dcontour"
           }
          ],
          "mesh3d": [
           {
            "colorbar": {
             "outlinewidth": 0,
             "ticks": ""
            },
            "type": "mesh3d"
           }
          ],
          "parcoords": [
           {
            "line": {
             "colorbar": {
              "outlinewidth": 0,
              "ticks": ""
             }
            },
            "type": "parcoords"
           }
          ],
          "scatter": [
           {
            "marker": {
             "colorbar": {
              "outlinewidth": 0,
              "ticks": ""
             }
            },
            "type": "scatter"
           }
          ],
          "scatter3d": [
           {
            "line": {
             "colorbar": {
              "outlinewidth": 0,
              "ticks": ""
             }
            },
            "marker": {
             "colorbar": {
              "outlinewidth": 0,
              "ticks": ""
             }
            },
            "type": "scatter3d"
           }
          ],
          "scattercarpet": [
           {
            "marker": {
             "colorbar": {
              "outlinewidth": 0,
              "ticks": ""
             }
            },
            "type": "scattercarpet"
           }
          ],
          "scattergeo": [
           {
            "marker": {
             "colorbar": {
              "outlinewidth": 0,
              "ticks": ""
             }
            },
            "type": "scattergeo"
           }
          ],
          "scattergl": [
           {
            "marker": {
             "colorbar": {
              "outlinewidth": 0,
              "ticks": ""
             }
            },
            "type": "scattergl"
           }
          ],
          "scattermapbox": [
           {
            "marker": {
             "colorbar": {
              "outlinewidth": 0,
              "ticks": ""
             }
            },
            "type": "scattermapbox"
           }
          ],
          "scatterpolar": [
           {
            "marker": {
             "colorbar": {
              "outlinewidth": 0,
              "ticks": ""
             }
            },
            "type": "scatterpolar"
           }
          ],
          "scatterpolargl": [
           {
            "marker": {
             "colorbar": {
              "outlinewidth": 0,
              "ticks": ""
             }
            },
            "type": "scatterpolargl"
           }
          ],
          "scatterternary": [
           {
            "marker": {
             "colorbar": {
              "outlinewidth": 0,
              "ticks": ""
             }
            },
            "type": "scatterternary"
           }
          ],
          "surface": [
           {
            "colorbar": {
             "outlinewidth": 0,
             "ticks": ""
            },
            "colorscale": [
             [
              0,
              "#0d0887"
             ],
             [
              0.1111111111111111,
              "#46039f"
             ],
             [
              0.2222222222222222,
              "#7201a8"
             ],
             [
              0.3333333333333333,
              "#9c179e"
             ],
             [
              0.4444444444444444,
              "#bd3786"
             ],
             [
              0.5555555555555556,
              "#d8576b"
             ],
             [
              0.6666666666666666,
              "#ed7953"
             ],
             [
              0.7777777777777778,
              "#fb9f3a"
             ],
             [
              0.8888888888888888,
              "#fdca26"
             ],
             [
              1,
              "#f0f921"
             ]
            ],
            "type": "surface"
           }
          ],
          "table": [
           {
            "cells": {
             "fill": {
              "color": "#EBF0F8"
             },
             "line": {
              "color": "white"
             }
            },
            "header": {
             "fill": {
              "color": "#C8D4E3"
             },
             "line": {
              "color": "white"
             }
            },
            "type": "table"
           }
          ]
         },
         "layout": {
          "annotationdefaults": {
           "arrowcolor": "#2a3f5f",
           "arrowhead": 0,
           "arrowwidth": 1
          },
          "colorscale": {
           "diverging": [
            [
             0,
             "#8e0152"
            ],
            [
             0.1,
             "#c51b7d"
            ],
            [
             0.2,
             "#de77ae"
            ],
            [
             0.3,
             "#f1b6da"
            ],
            [
             0.4,
             "#fde0ef"
            ],
            [
             0.5,
             "#f7f7f7"
            ],
            [
             0.6,
             "#e6f5d0"
            ],
            [
             0.7,
             "#b8e186"
            ],
            [
             0.8,
             "#7fbc41"
            ],
            [
             0.9,
             "#4d9221"
            ],
            [
             1,
             "#276419"
            ]
           ],
           "sequential": [
            [
             0,
             "#0d0887"
            ],
            [
             0.1111111111111111,
             "#46039f"
            ],
            [
             0.2222222222222222,
             "#7201a8"
            ],
            [
             0.3333333333333333,
             "#9c179e"
            ],
            [
             0.4444444444444444,
             "#bd3786"
            ],
            [
             0.5555555555555556,
             "#d8576b"
            ],
            [
             0.6666666666666666,
             "#ed7953"
            ],
            [
             0.7777777777777778,
             "#fb9f3a"
            ],
            [
             0.8888888888888888,
             "#fdca26"
            ],
            [
             1,
             "#f0f921"
            ]
           ],
           "sequentialminus": [
            [
             0,
             "#0d0887"
            ],
            [
             0.1111111111111111,
             "#46039f"
            ],
            [
             0.2222222222222222,
             "#7201a8"
            ],
            [
             0.3333333333333333,
             "#9c179e"
            ],
            [
             0.4444444444444444,
             "#bd3786"
            ],
            [
             0.5555555555555556,
             "#d8576b"
            ],
            [
             0.6666666666666666,
             "#ed7953"
            ],
            [
             0.7777777777777778,
             "#fb9f3a"
            ],
            [
             0.8888888888888888,
             "#fdca26"
            ],
            [
             1,
             "#f0f921"
            ]
           ]
          },
          "colorway": [
           "#636efa",
           "#EF553B",
           "#00cc96",
           "#ab63fa",
           "#FFA15A",
           "#19d3f3",
           "#FF6692",
           "#B6E880",
           "#FF97FF",
           "#FECB52"
          ],
          "font": {
           "color": "#2a3f5f"
          },
          "geo": {
           "bgcolor": "white",
           "lakecolor": "white",
           "landcolor": "#E5ECF6",
           "showlakes": true,
           "showland": true,
           "subunitcolor": "white"
          },
          "hoverlabel": {
           "align": "left"
          },
          "hovermode": "closest",
          "mapbox": {
           "style": "light"
          },
          "paper_bgcolor": "white",
          "plot_bgcolor": "#E5ECF6",
          "polar": {
           "angularaxis": {
            "gridcolor": "white",
            "linecolor": "white",
            "ticks": ""
           },
           "bgcolor": "#E5ECF6",
           "radialaxis": {
            "gridcolor": "white",
            "linecolor": "white",
            "ticks": ""
           }
          },
          "scene": {
           "xaxis": {
            "backgroundcolor": "#E5ECF6",
            "gridcolor": "white",
            "gridwidth": 2,
            "linecolor": "white",
            "showbackground": true,
            "ticks": "",
            "zerolinecolor": "white"
           },
           "yaxis": {
            "backgroundcolor": "#E5ECF6",
            "gridcolor": "white",
            "gridwidth": 2,
            "linecolor": "white",
            "showbackground": true,
            "ticks": "",
            "zerolinecolor": "white"
           },
           "zaxis": {
            "backgroundcolor": "#E5ECF6",
            "gridcolor": "white",
            "gridwidth": 2,
            "linecolor": "white",
            "showbackground": true,
            "ticks": "",
            "zerolinecolor": "white"
           }
          },
          "shapedefaults": {
           "line": {
            "color": "#2a3f5f"
           }
          },
          "ternary": {
           "aaxis": {
            "gridcolor": "white",
            "linecolor": "white",
            "ticks": ""
           },
           "baxis": {
            "gridcolor": "white",
            "linecolor": "white",
            "ticks": ""
           },
           "bgcolor": "#E5ECF6",
           "caxis": {
            "gridcolor": "white",
            "linecolor": "white",
            "ticks": ""
           }
          },
          "title": {
           "x": 0.05
          },
          "xaxis": {
           "automargin": true,
           "gridcolor": "white",
           "linecolor": "white",
           "ticks": "",
           "zerolinecolor": "white",
           "zerolinewidth": 2
          },
          "yaxis": {
           "automargin": true,
           "gridcolor": "white",
           "linecolor": "white",
           "ticks": "",
           "zerolinecolor": "white",
           "zerolinewidth": 2
          }
         }
        },
        "title": {
         "font": {
          "color": "#151516"
         },
         "text": "Top 20 words before removing stop words"
        },
        "xaxis": {
         "gridcolor": "#F6F6F6",
         "linecolor": "black",
         "showgrid": true,
         "tickfont": {
          "color": "#666666"
         },
         "title": {
          "font": {
           "color": "#666666"
          },
          "text": ""
         },
         "zerolinecolor": "#F6F6F6"
        },
        "yaxis": {
         "gridcolor": "#F6F6F6",
         "linecolor": "black",
         "showgrid": true,
         "tickfont": {
          "color": "#666666"
         },
         "title": {
          "font": {
           "color": "#666666"
          },
          "text": "Count"
         },
         "zerolinecolor": "#F6F6F6"
        }
       }
      },
      "text/html": [
       "<div>\n",
       "        \n",
       "        \n",
       "            <div id=\"32204486-7071-4c95-926e-17cb80f9e9d3\" class=\"plotly-graph-div\" style=\"height:525px; width:100%;\"></div>\n",
       "            <script type=\"text/javascript\">\n",
       "                require([\"plotly\"], function(Plotly) {\n",
       "                    window.PLOTLYENV=window.PLOTLYENV || {};\n",
       "                    window.PLOTLYENV.BASE_URL='https://plot.ly';\n",
       "                    \n",
       "                if (document.getElementById(\"32204486-7071-4c95-926e-17cb80f9e9d3\")) {\n",
       "                    Plotly.newPlot(\n",
       "                        '32204486-7071-4c95-926e-17cb80f9e9d3',\n",
       "                        [{\"marker\": {\"color\": \"rgba(226, 74, 51, 0.6)\", \"line\": {\"color\": \"rgba(226, 74, 51, 1.0)\", \"width\": 1}}, \"name\": \"count\", \"orientation\": \"h\", \"text\": \"\", \"type\": \"bar\", \"x\": [9198, 9736, 9766, 10265, 10321, 10583, 11585, 12998, 19749, 24308, 25233, 27280, 30536, 34314, 35181, 38024, 49281, 73723, 84245, 123450], \"y\": [\"is\", \"after\", \"study\", \"this\", \"that\", \"by\", \"at\", \"on\", \"for\", \"was\", \"with\", \"were\", \"implants\", \"implant\", \"bone\", \"to\", \"in\", \"and\", \"of\", \"the\"]}],\n",
       "                        {\"legend\": {\"bgcolor\": \"#FFFFFF\", \"font\": {\"color\": \"#666666\"}}, \"paper_bgcolor\": \"#FFFFFF\", \"plot_bgcolor\": \"#E5E5E5\", \"template\": {\"data\": {\"bar\": [{\"error_x\": {\"color\": \"#2a3f5f\"}, \"error_y\": {\"color\": \"#2a3f5f\"}, \"marker\": {\"line\": {\"color\": \"#E5ECF6\", \"width\": 0.5}}, \"type\": \"bar\"}], \"barpolar\": [{\"marker\": {\"line\": {\"color\": \"#E5ECF6\", \"width\": 0.5}}, \"type\": \"barpolar\"}], \"carpet\": [{\"aaxis\": {\"endlinecolor\": \"#2a3f5f\", \"gridcolor\": \"white\", \"linecolor\": \"white\", \"minorgridcolor\": \"white\", \"startlinecolor\": \"#2a3f5f\"}, \"baxis\": {\"endlinecolor\": \"#2a3f5f\", \"gridcolor\": \"white\", \"linecolor\": \"white\", \"minorgridcolor\": \"white\", \"startlinecolor\": \"#2a3f5f\"}, \"type\": \"carpet\"}], \"choropleth\": [{\"colorbar\": {\"outlinewidth\": 0, \"ticks\": \"\"}, \"type\": \"choropleth\"}], \"contour\": [{\"colorbar\": {\"outlinewidth\": 0, \"ticks\": \"\"}, \"colorscale\": [[0.0, \"#0d0887\"], [0.1111111111111111, \"#46039f\"], [0.2222222222222222, \"#7201a8\"], [0.3333333333333333, \"#9c179e\"], [0.4444444444444444, \"#bd3786\"], [0.5555555555555556, \"#d8576b\"], [0.6666666666666666, \"#ed7953\"], [0.7777777777777778, \"#fb9f3a\"], [0.8888888888888888, \"#fdca26\"], [1.0, \"#f0f921\"]], \"type\": \"contour\"}], \"contourcarpet\": [{\"colorbar\": {\"outlinewidth\": 0, \"ticks\": \"\"}, \"type\": \"contourcarpet\"}], \"heatmap\": [{\"colorbar\": {\"outlinewidth\": 0, \"ticks\": \"\"}, \"colorscale\": [[0.0, \"#0d0887\"], [0.1111111111111111, \"#46039f\"], [0.2222222222222222, \"#7201a8\"], [0.3333333333333333, \"#9c179e\"], [0.4444444444444444, \"#bd3786\"], [0.5555555555555556, \"#d8576b\"], [0.6666666666666666, \"#ed7953\"], [0.7777777777777778, \"#fb9f3a\"], [0.8888888888888888, \"#fdca26\"], [1.0, \"#f0f921\"]], \"type\": \"heatmap\"}], \"heatmapgl\": [{\"colorbar\": {\"outlinewidth\": 0, \"ticks\": \"\"}, \"colorscale\": [[0.0, \"#0d0887\"], [0.1111111111111111, \"#46039f\"], [0.2222222222222222, \"#7201a8\"], [0.3333333333333333, \"#9c179e\"], [0.4444444444444444, \"#bd3786\"], [0.5555555555555556, \"#d8576b\"], [0.6666666666666666, \"#ed7953\"], [0.7777777777777778, \"#fb9f3a\"], [0.8888888888888888, \"#fdca26\"], [1.0, \"#f0f921\"]], \"type\": \"heatmapgl\"}], \"histogram\": [{\"marker\": {\"colorbar\": {\"outlinewidth\": 0, \"ticks\": \"\"}}, \"type\": \"histogram\"}], \"histogram2d\": [{\"colorbar\": {\"outlinewidth\": 0, \"ticks\": \"\"}, \"colorscale\": [[0.0, \"#0d0887\"], [0.1111111111111111, \"#46039f\"], [0.2222222222222222, \"#7201a8\"], [0.3333333333333333, \"#9c179e\"], [0.4444444444444444, \"#bd3786\"], [0.5555555555555556, \"#d8576b\"], [0.6666666666666666, \"#ed7953\"], [0.7777777777777778, \"#fb9f3a\"], [0.8888888888888888, \"#fdca26\"], [1.0, \"#f0f921\"]], \"type\": \"histogram2d\"}], \"histogram2dcontour\": [{\"colorbar\": {\"outlinewidth\": 0, \"ticks\": \"\"}, \"colorscale\": [[0.0, \"#0d0887\"], [0.1111111111111111, \"#46039f\"], [0.2222222222222222, \"#7201a8\"], [0.3333333333333333, \"#9c179e\"], [0.4444444444444444, \"#bd3786\"], [0.5555555555555556, \"#d8576b\"], [0.6666666666666666, \"#ed7953\"], [0.7777777777777778, \"#fb9f3a\"], [0.8888888888888888, \"#fdca26\"], [1.0, \"#f0f921\"]], \"type\": \"histogram2dcontour\"}], \"mesh3d\": [{\"colorbar\": {\"outlinewidth\": 0, \"ticks\": \"\"}, \"type\": \"mesh3d\"}], \"parcoords\": [{\"line\": {\"colorbar\": {\"outlinewidth\": 0, \"ticks\": \"\"}}, \"type\": \"parcoords\"}], \"scatter\": [{\"marker\": {\"colorbar\": {\"outlinewidth\": 0, \"ticks\": \"\"}}, \"type\": \"scatter\"}], \"scatter3d\": [{\"line\": {\"colorbar\": {\"outlinewidth\": 0, \"ticks\": \"\"}}, \"marker\": {\"colorbar\": {\"outlinewidth\": 0, \"ticks\": \"\"}}, \"type\": \"scatter3d\"}], \"scattercarpet\": [{\"marker\": {\"colorbar\": {\"outlinewidth\": 0, \"ticks\": \"\"}}, \"type\": \"scattercarpet\"}], \"scattergeo\": [{\"marker\": {\"colorbar\": {\"outlinewidth\": 0, \"ticks\": \"\"}}, \"type\": \"scattergeo\"}], \"scattergl\": [{\"marker\": {\"colorbar\": {\"outlinewidth\": 0, \"ticks\": \"\"}}, \"type\": \"scattergl\"}], \"scattermapbox\": [{\"marker\": {\"colorbar\": {\"outlinewidth\": 0, \"ticks\": \"\"}}, \"type\": \"scattermapbox\"}], \"scatterpolar\": [{\"marker\": {\"colorbar\": {\"outlinewidth\": 0, \"ticks\": \"\"}}, \"type\": \"scatterpolar\"}], \"scatterpolargl\": [{\"marker\": {\"colorbar\": {\"outlinewidth\": 0, \"ticks\": \"\"}}, \"type\": \"scatterpolargl\"}], \"scatterternary\": [{\"marker\": {\"colorbar\": {\"outlinewidth\": 0, \"ticks\": \"\"}}, \"type\": \"scatterternary\"}], \"surface\": [{\"colorbar\": {\"outlinewidth\": 0, \"ticks\": \"\"}, \"colorscale\": [[0.0, \"#0d0887\"], [0.1111111111111111, \"#46039f\"], [0.2222222222222222, \"#7201a8\"], [0.3333333333333333, \"#9c179e\"], [0.4444444444444444, \"#bd3786\"], [0.5555555555555556, \"#d8576b\"], [0.6666666666666666, \"#ed7953\"], [0.7777777777777778, \"#fb9f3a\"], [0.8888888888888888, \"#fdca26\"], [1.0, \"#f0f921\"]], \"type\": \"surface\"}], \"table\": [{\"cells\": {\"fill\": {\"color\": \"#EBF0F8\"}, \"line\": {\"color\": \"white\"}}, \"header\": {\"fill\": {\"color\": \"#C8D4E3\"}, \"line\": {\"color\": \"white\"}}, \"type\": \"table\"}]}, \"layout\": {\"annotationdefaults\": {\"arrowcolor\": \"#2a3f5f\", \"arrowhead\": 0, \"arrowwidth\": 1}, \"colorscale\": {\"diverging\": [[0, \"#8e0152\"], [0.1, \"#c51b7d\"], [0.2, \"#de77ae\"], [0.3, \"#f1b6da\"], [0.4, \"#fde0ef\"], [0.5, \"#f7f7f7\"], [0.6, \"#e6f5d0\"], [0.7, \"#b8e186\"], [0.8, \"#7fbc41\"], [0.9, \"#4d9221\"], [1, \"#276419\"]], \"sequential\": [[0.0, \"#0d0887\"], [0.1111111111111111, \"#46039f\"], [0.2222222222222222, \"#7201a8\"], [0.3333333333333333, \"#9c179e\"], [0.4444444444444444, \"#bd3786\"], [0.5555555555555556, \"#d8576b\"], [0.6666666666666666, \"#ed7953\"], [0.7777777777777778, \"#fb9f3a\"], [0.8888888888888888, \"#fdca26\"], [1.0, \"#f0f921\"]], \"sequentialminus\": [[0.0, \"#0d0887\"], [0.1111111111111111, \"#46039f\"], [0.2222222222222222, \"#7201a8\"], [0.3333333333333333, \"#9c179e\"], [0.4444444444444444, \"#bd3786\"], [0.5555555555555556, \"#d8576b\"], [0.6666666666666666, \"#ed7953\"], [0.7777777777777778, \"#fb9f3a\"], [0.8888888888888888, \"#fdca26\"], [1.0, \"#f0f921\"]]}, \"colorway\": [\"#636efa\", \"#EF553B\", \"#00cc96\", \"#ab63fa\", \"#FFA15A\", \"#19d3f3\", \"#FF6692\", \"#B6E880\", \"#FF97FF\", \"#FECB52\"], \"font\": {\"color\": \"#2a3f5f\"}, \"geo\": {\"bgcolor\": \"white\", \"lakecolor\": \"white\", \"landcolor\": \"#E5ECF6\", \"showlakes\": true, \"showland\": true, \"subunitcolor\": \"white\"}, \"hoverlabel\": {\"align\": \"left\"}, \"hovermode\": \"closest\", \"mapbox\": {\"style\": \"light\"}, \"paper_bgcolor\": \"white\", \"plot_bgcolor\": \"#E5ECF6\", \"polar\": {\"angularaxis\": {\"gridcolor\": \"white\", \"linecolor\": \"white\", \"ticks\": \"\"}, \"bgcolor\": \"#E5ECF6\", \"radialaxis\": {\"gridcolor\": \"white\", \"linecolor\": \"white\", \"ticks\": \"\"}}, \"scene\": {\"xaxis\": {\"backgroundcolor\": \"#E5ECF6\", \"gridcolor\": \"white\", \"gridwidth\": 2, \"linecolor\": \"white\", \"showbackground\": true, \"ticks\": \"\", \"zerolinecolor\": \"white\"}, \"yaxis\": {\"backgroundcolor\": \"#E5ECF6\", \"gridcolor\": \"white\", \"gridwidth\": 2, \"linecolor\": \"white\", \"showbackground\": true, \"ticks\": \"\", \"zerolinecolor\": \"white\"}, \"zaxis\": {\"backgroundcolor\": \"#E5ECF6\", \"gridcolor\": \"white\", \"gridwidth\": 2, \"linecolor\": \"white\", \"showbackground\": true, \"ticks\": \"\", \"zerolinecolor\": \"white\"}}, \"shapedefaults\": {\"line\": {\"color\": \"#2a3f5f\"}}, \"ternary\": {\"aaxis\": {\"gridcolor\": \"white\", \"linecolor\": \"white\", \"ticks\": \"\"}, \"baxis\": {\"gridcolor\": \"white\", \"linecolor\": \"white\", \"ticks\": \"\"}, \"bgcolor\": \"#E5ECF6\", \"caxis\": {\"gridcolor\": \"white\", \"linecolor\": \"white\", \"ticks\": \"\"}}, \"title\": {\"x\": 0.05}, \"xaxis\": {\"automargin\": true, \"gridcolor\": \"white\", \"linecolor\": \"white\", \"ticks\": \"\", \"zerolinecolor\": \"white\", \"zerolinewidth\": 2}, \"yaxis\": {\"automargin\": true, \"gridcolor\": \"white\", \"linecolor\": \"white\", \"ticks\": \"\", \"zerolinecolor\": \"white\", \"zerolinewidth\": 2}}}, \"title\": {\"font\": {\"color\": \"#151516\"}, \"text\": \"Top 20 words before removing stop words\"}, \"xaxis\": {\"gridcolor\": \"#F6F6F6\", \"linecolor\": \"black\", \"showgrid\": true, \"tickfont\": {\"color\": \"#666666\"}, \"title\": {\"font\": {\"color\": \"#666666\"}, \"text\": \"\"}, \"zerolinecolor\": \"#F6F6F6\"}, \"yaxis\": {\"gridcolor\": \"#F6F6F6\", \"linecolor\": \"black\", \"showgrid\": true, \"tickfont\": {\"color\": \"#666666\"}, \"title\": {\"font\": {\"color\": \"#666666\"}, \"text\": \"Count\"}, \"zerolinecolor\": \"#F6F6F6\"}},\n",
       "                        {\"showLink\": true, \"linkText\": \"Export to plot.ly\", \"plotlyServerURL\": \"https://plot.ly\", \"responsive\": true}\n",
       "                    ).then(function(){\n",
       "                            \n",
       "var gd = document.getElementById('32204486-7071-4c95-926e-17cb80f9e9d3');\n",
       "var x = new MutationObserver(function (mutations, observer) {{\n",
       "        var display = window.getComputedStyle(gd).display;\n",
       "        if (!display || display === 'none') {{\n",
       "            console.log([gd, 'removed!']);\n",
       "            Plotly.purge(gd);\n",
       "            observer.disconnect();\n",
       "        }}\n",
       "}});\n",
       "\n",
       "// Listen for the removal of the full notebook cells\n",
       "var notebookContainer = gd.closest('#notebook-container');\n",
       "if (notebookContainer) {{\n",
       "    x.observe(notebookContainer, {childList: true});\n",
       "}}\n",
       "\n",
       "// Listen for the clearing of the current output cell\n",
       "var outputEl = gd.closest('.output');\n",
       "if (outputEl) {{\n",
       "    x.observe(outputEl, {childList: true});\n",
       "}}\n",
       "\n",
       "                        })\n",
       "                };\n",
       "                });\n",
       "            </script>\n",
       "        </div>"
      ]
     },
     "metadata": {},
     "output_type": "display_data"
    },
    {
     "ename": "AttributeError",
     "evalue": "'NoneType' object has no attribute 'show'",
     "output_type": "error",
     "traceback": [
      "\u001b[1;31m---------------------------------------------------------------------------\u001b[0m",
      "\u001b[1;31mAttributeError\u001b[0m                            Traceback (most recent call last)",
      "\u001b[1;32m<ipython-input-50-9783fffce4ef>\u001b[0m in \u001b[0;36m<module>\u001b[1;34m\u001b[0m\n\u001b[1;32m----> 1\u001b[1;33m \u001b[0mdf1\u001b[0m\u001b[1;33m.\u001b[0m\u001b[0mgroupby\u001b[0m\u001b[1;33m(\u001b[0m\u001b[1;34m'abstractClean'\u001b[0m\u001b[1;33m)\u001b[0m\u001b[1;33m.\u001b[0m\u001b[0msum\u001b[0m\u001b[1;33m(\u001b[0m\u001b[1;33m)\u001b[0m\u001b[1;33m[\u001b[0m\u001b[1;34m'count'\u001b[0m\u001b[1;33m]\u001b[0m\u001b[1;33m.\u001b[0m\u001b[0msort_values\u001b[0m\u001b[1;33m(\u001b[0m\u001b[1;33m)\u001b[0m\u001b[1;33m.\u001b[0m\u001b[0miplot\u001b[0m\u001b[1;33m(\u001b[0m\u001b[0mkind\u001b[0m\u001b[1;33m=\u001b[0m\u001b[1;34m'barh'\u001b[0m\u001b[1;33m,\u001b[0m \u001b[0myTitle\u001b[0m\u001b[1;33m=\u001b[0m\u001b[1;34m'Count'\u001b[0m\u001b[1;33m,\u001b[0m \u001b[0mlinecolor\u001b[0m\u001b[1;33m=\u001b[0m\u001b[1;34m'black'\u001b[0m\u001b[1;33m,\u001b[0m \u001b[0mtitle\u001b[0m\u001b[1;33m=\u001b[0m\u001b[1;34m'Top 20 words before removing stop words'\u001b[0m\u001b[1;33m)\u001b[0m\u001b[1;33m.\u001b[0m\u001b[0mshow\u001b[0m\u001b[1;33m(\u001b[0m\u001b[1;34m\"svg\"\u001b[0m\u001b[1;33m)\u001b[0m\u001b[1;33m\u001b[0m\u001b[1;33m\u001b[0m\u001b[0m\n\u001b[0m",
      "\u001b[1;31mAttributeError\u001b[0m: 'NoneType' object has no attribute 'show'"
     ]
    }
   ],
   "source": [
    "df1.groupby('abstractClean').sum()['count'].sort_values().iplot(kind='barh', yTitle='Count', linecolor='black', title='Top 20 words before removing stop words')\n"
   ]
  },
  {
   "cell_type": "markdown",
   "metadata": {},
   "source": [
    "### Visualize Token (vocabulary) Frequency Distribution After Removing Stop Words"
   ]
  },
  {
   "cell_type": "code",
   "execution_count": 16,
   "metadata": {},
   "outputs": [
    {
     "data": {
      "application/vnd.plotly.v1+json": {
       "config": {
        "linkText": "Export to plot.ly",
        "plotlyServerURL": "https://plot.ly",
        "showLink": true
       },
       "data": [
        {
         "marker": {
          "color": "rgba(226, 74, 51, 0.6)",
          "line": {
           "color": "rgba(226, 74, 51, 1.0)",
           "width": 1
          }
         },
         "name": "count",
         "orientation": "h",
         "text": "",
         "type": "bar",
         "x": [
          4156,
          4310,
          4431,
          4537,
          4573,
          4879,
          4951,
          5084,
          5782,
          6623,
          6700,
          7312,
          7533,
          7984,
          9099,
          9099,
          9766,
          30536,
          34314,
          35181
         ],
         "y": [
          "used",
          "healing",
          "placed",
          "using",
          "months",
          "clinical",
          "weeks",
          "tissue",
          "mm",
          "dental",
          "group",
          "patients",
          "results",
          "titanium",
          "osseointegration",
          "surface",
          "study",
          "implants",
          "implant",
          "bone"
         ]
        }
       ],
       "layout": {
        "legend": {
         "bgcolor": "#FFFFFF",
         "font": {
          "color": "#666666"
         }
        },
        "paper_bgcolor": "#FFFFFF",
        "plot_bgcolor": "#E5E5E5",
        "template": {
         "data": {
          "bar": [
           {
            "error_x": {
             "color": "#2a3f5f"
            },
            "error_y": {
             "color": "#2a3f5f"
            },
            "marker": {
             "line": {
              "color": "#E5ECF6",
              "width": 0.5
             }
            },
            "type": "bar"
           }
          ],
          "barpolar": [
           {
            "marker": {
             "line": {
              "color": "#E5ECF6",
              "width": 0.5
             }
            },
            "type": "barpolar"
           }
          ],
          "carpet": [
           {
            "aaxis": {
             "endlinecolor": "#2a3f5f",
             "gridcolor": "white",
             "linecolor": "white",
             "minorgridcolor": "white",
             "startlinecolor": "#2a3f5f"
            },
            "baxis": {
             "endlinecolor": "#2a3f5f",
             "gridcolor": "white",
             "linecolor": "white",
             "minorgridcolor": "white",
             "startlinecolor": "#2a3f5f"
            },
            "type": "carpet"
           }
          ],
          "choropleth": [
           {
            "colorbar": {
             "outlinewidth": 0,
             "ticks": ""
            },
            "type": "choropleth"
           }
          ],
          "contour": [
           {
            "colorbar": {
             "outlinewidth": 0,
             "ticks": ""
            },
            "colorscale": [
             [
              0,
              "#0d0887"
             ],
             [
              0.1111111111111111,
              "#46039f"
             ],
             [
              0.2222222222222222,
              "#7201a8"
             ],
             [
              0.3333333333333333,
              "#9c179e"
             ],
             [
              0.4444444444444444,
              "#bd3786"
             ],
             [
              0.5555555555555556,
              "#d8576b"
             ],
             [
              0.6666666666666666,
              "#ed7953"
             ],
             [
              0.7777777777777778,
              "#fb9f3a"
             ],
             [
              0.8888888888888888,
              "#fdca26"
             ],
             [
              1,
              "#f0f921"
             ]
            ],
            "type": "contour"
           }
          ],
          "contourcarpet": [
           {
            "colorbar": {
             "outlinewidth": 0,
             "ticks": ""
            },
            "type": "contourcarpet"
           }
          ],
          "heatmap": [
           {
            "colorbar": {
             "outlinewidth": 0,
             "ticks": ""
            },
            "colorscale": [
             [
              0,
              "#0d0887"
             ],
             [
              0.1111111111111111,
              "#46039f"
             ],
             [
              0.2222222222222222,
              "#7201a8"
             ],
             [
              0.3333333333333333,
              "#9c179e"
             ],
             [
              0.4444444444444444,
              "#bd3786"
             ],
             [
              0.5555555555555556,
              "#d8576b"
             ],
             [
              0.6666666666666666,
              "#ed7953"
             ],
             [
              0.7777777777777778,
              "#fb9f3a"
             ],
             [
              0.8888888888888888,
              "#fdca26"
             ],
             [
              1,
              "#f0f921"
             ]
            ],
            "type": "heatmap"
           }
          ],
          "heatmapgl": [
           {
            "colorbar": {
             "outlinewidth": 0,
             "ticks": ""
            },
            "colorscale": [
             [
              0,
              "#0d0887"
             ],
             [
              0.1111111111111111,
              "#46039f"
             ],
             [
              0.2222222222222222,
              "#7201a8"
             ],
             [
              0.3333333333333333,
              "#9c179e"
             ],
             [
              0.4444444444444444,
              "#bd3786"
             ],
             [
              0.5555555555555556,
              "#d8576b"
             ],
             [
              0.6666666666666666,
              "#ed7953"
             ],
             [
              0.7777777777777778,
              "#fb9f3a"
             ],
             [
              0.8888888888888888,
              "#fdca26"
             ],
             [
              1,
              "#f0f921"
             ]
            ],
            "type": "heatmapgl"
           }
          ],
          "histogram": [
           {
            "marker": {
             "colorbar": {
              "outlinewidth": 0,
              "ticks": ""
             }
            },
            "type": "histogram"
           }
          ],
          "histogram2d": [
           {
            "colorbar": {
             "outlinewidth": 0,
             "ticks": ""
            },
            "colorscale": [
             [
              0,
              "#0d0887"
             ],
             [
              0.1111111111111111,
              "#46039f"
             ],
             [
              0.2222222222222222,
              "#7201a8"
             ],
             [
              0.3333333333333333,
              "#9c179e"
             ],
             [
              0.4444444444444444,
              "#bd3786"
             ],
             [
              0.5555555555555556,
              "#d8576b"
             ],
             [
              0.6666666666666666,
              "#ed7953"
             ],
             [
              0.7777777777777778,
              "#fb9f3a"
             ],
             [
              0.8888888888888888,
              "#fdca26"
             ],
             [
              1,
              "#f0f921"
             ]
            ],
            "type": "histogram2d"
           }
          ],
          "histogram2dcontour": [
           {
            "colorbar": {
             "outlinewidth": 0,
             "ticks": ""
            },
            "colorscale": [
             [
              0,
              "#0d0887"
             ],
             [
              0.1111111111111111,
              "#46039f"
             ],
             [
              0.2222222222222222,
              "#7201a8"
             ],
             [
              0.3333333333333333,
              "#9c179e"
             ],
             [
              0.4444444444444444,
              "#bd3786"
             ],
             [
              0.5555555555555556,
              "#d8576b"
             ],
             [
              0.6666666666666666,
              "#ed7953"
             ],
             [
              0.7777777777777778,
              "#fb9f3a"
             ],
             [
              0.8888888888888888,
              "#fdca26"
             ],
             [
              1,
              "#f0f921"
             ]
            ],
            "type": "histogram2dcontour"
           }
          ],
          "mesh3d": [
           {
            "colorbar": {
             "outlinewidth": 0,
             "ticks": ""
            },
            "type": "mesh3d"
           }
          ],
          "parcoords": [
           {
            "line": {
             "colorbar": {
              "outlinewidth": 0,
              "ticks": ""
             }
            },
            "type": "parcoords"
           }
          ],
          "scatter": [
           {
            "marker": {
             "colorbar": {
              "outlinewidth": 0,
              "ticks": ""
             }
            },
            "type": "scatter"
           }
          ],
          "scatter3d": [
           {
            "line": {
             "colorbar": {
              "outlinewidth": 0,
              "ticks": ""
             }
            },
            "marker": {
             "colorbar": {
              "outlinewidth": 0,
              "ticks": ""
             }
            },
            "type": "scatter3d"
           }
          ],
          "scattercarpet": [
           {
            "marker": {
             "colorbar": {
              "outlinewidth": 0,
              "ticks": ""
             }
            },
            "type": "scattercarpet"
           }
          ],
          "scattergeo": [
           {
            "marker": {
             "colorbar": {
              "outlinewidth": 0,
              "ticks": ""
             }
            },
            "type": "scattergeo"
           }
          ],
          "scattergl": [
           {
            "marker": {
             "colorbar": {
              "outlinewidth": 0,
              "ticks": ""
             }
            },
            "type": "scattergl"
           }
          ],
          "scattermapbox": [
           {
            "marker": {
             "colorbar": {
              "outlinewidth": 0,
              "ticks": ""
             }
            },
            "type": "scattermapbox"
           }
          ],
          "scatterpolar": [
           {
            "marker": {
             "colorbar": {
              "outlinewidth": 0,
              "ticks": ""
             }
            },
            "type": "scatterpolar"
           }
          ],
          "scatterpolargl": [
           {
            "marker": {
             "colorbar": {
              "outlinewidth": 0,
              "ticks": ""
             }
            },
            "type": "scatterpolargl"
           }
          ],
          "scatterternary": [
           {
            "marker": {
             "colorbar": {
              "outlinewidth": 0,
              "ticks": ""
             }
            },
            "type": "scatterternary"
           }
          ],
          "surface": [
           {
            "colorbar": {
             "outlinewidth": 0,
             "ticks": ""
            },
            "colorscale": [
             [
              0,
              "#0d0887"
             ],
             [
              0.1111111111111111,
              "#46039f"
             ],
             [
              0.2222222222222222,
              "#7201a8"
             ],
             [
              0.3333333333333333,
              "#9c179e"
             ],
             [
              0.4444444444444444,
              "#bd3786"
             ],
             [
              0.5555555555555556,
              "#d8576b"
             ],
             [
              0.6666666666666666,
              "#ed7953"
             ],
             [
              0.7777777777777778,
              "#fb9f3a"
             ],
             [
              0.8888888888888888,
              "#fdca26"
             ],
             [
              1,
              "#f0f921"
             ]
            ],
            "type": "surface"
           }
          ],
          "table": [
           {
            "cells": {
             "fill": {
              "color": "#EBF0F8"
             },
             "line": {
              "color": "white"
             }
            },
            "header": {
             "fill": {
              "color": "#C8D4E3"
             },
             "line": {
              "color": "white"
             }
            },
            "type": "table"
           }
          ]
         },
         "layout": {
          "annotationdefaults": {
           "arrowcolor": "#2a3f5f",
           "arrowhead": 0,
           "arrowwidth": 1
          },
          "colorscale": {
           "diverging": [
            [
             0,
             "#8e0152"
            ],
            [
             0.1,
             "#c51b7d"
            ],
            [
             0.2,
             "#de77ae"
            ],
            [
             0.3,
             "#f1b6da"
            ],
            [
             0.4,
             "#fde0ef"
            ],
            [
             0.5,
             "#f7f7f7"
            ],
            [
             0.6,
             "#e6f5d0"
            ],
            [
             0.7,
             "#b8e186"
            ],
            [
             0.8,
             "#7fbc41"
            ],
            [
             0.9,
             "#4d9221"
            ],
            [
             1,
             "#276419"
            ]
           ],
           "sequential": [
            [
             0,
             "#0d0887"
            ],
            [
             0.1111111111111111,
             "#46039f"
            ],
            [
             0.2222222222222222,
             "#7201a8"
            ],
            [
             0.3333333333333333,
             "#9c179e"
            ],
            [
             0.4444444444444444,
             "#bd3786"
            ],
            [
             0.5555555555555556,
             "#d8576b"
            ],
            [
             0.6666666666666666,
             "#ed7953"
            ],
            [
             0.7777777777777778,
             "#fb9f3a"
            ],
            [
             0.8888888888888888,
             "#fdca26"
            ],
            [
             1,
             "#f0f921"
            ]
           ],
           "sequentialminus": [
            [
             0,
             "#0d0887"
            ],
            [
             0.1111111111111111,
             "#46039f"
            ],
            [
             0.2222222222222222,
             "#7201a8"
            ],
            [
             0.3333333333333333,
             "#9c179e"
            ],
            [
             0.4444444444444444,
             "#bd3786"
            ],
            [
             0.5555555555555556,
             "#d8576b"
            ],
            [
             0.6666666666666666,
             "#ed7953"
            ],
            [
             0.7777777777777778,
             "#fb9f3a"
            ],
            [
             0.8888888888888888,
             "#fdca26"
            ],
            [
             1,
             "#f0f921"
            ]
           ]
          },
          "colorway": [
           "#636efa",
           "#EF553B",
           "#00cc96",
           "#ab63fa",
           "#FFA15A",
           "#19d3f3",
           "#FF6692",
           "#B6E880",
           "#FF97FF",
           "#FECB52"
          ],
          "font": {
           "color": "#2a3f5f"
          },
          "geo": {
           "bgcolor": "white",
           "lakecolor": "white",
           "landcolor": "#E5ECF6",
           "showlakes": true,
           "showland": true,
           "subunitcolor": "white"
          },
          "hoverlabel": {
           "align": "left"
          },
          "hovermode": "closest",
          "mapbox": {
           "style": "light"
          },
          "paper_bgcolor": "white",
          "plot_bgcolor": "#E5ECF6",
          "polar": {
           "angularaxis": {
            "gridcolor": "white",
            "linecolor": "white",
            "ticks": ""
           },
           "bgcolor": "#E5ECF6",
           "radialaxis": {
            "gridcolor": "white",
            "linecolor": "white",
            "ticks": ""
           }
          },
          "scene": {
           "xaxis": {
            "backgroundcolor": "#E5ECF6",
            "gridcolor": "white",
            "gridwidth": 2,
            "linecolor": "white",
            "showbackground": true,
            "ticks": "",
            "zerolinecolor": "white"
           },
           "yaxis": {
            "backgroundcolor": "#E5ECF6",
            "gridcolor": "white",
            "gridwidth": 2,
            "linecolor": "white",
            "showbackground": true,
            "ticks": "",
            "zerolinecolor": "white"
           },
           "zaxis": {
            "backgroundcolor": "#E5ECF6",
            "gridcolor": "white",
            "gridwidth": 2,
            "linecolor": "white",
            "showbackground": true,
            "ticks": "",
            "zerolinecolor": "white"
           }
          },
          "shapedefaults": {
           "line": {
            "color": "#2a3f5f"
           }
          },
          "ternary": {
           "aaxis": {
            "gridcolor": "white",
            "linecolor": "white",
            "ticks": ""
           },
           "baxis": {
            "gridcolor": "white",
            "linecolor": "white",
            "ticks": ""
           },
           "bgcolor": "#E5ECF6",
           "caxis": {
            "gridcolor": "white",
            "linecolor": "white",
            "ticks": ""
           }
          },
          "title": {
           "x": 0.05
          },
          "xaxis": {
           "automargin": true,
           "gridcolor": "white",
           "linecolor": "white",
           "ticks": "",
           "zerolinecolor": "white",
           "zerolinewidth": 2
          },
          "yaxis": {
           "automargin": true,
           "gridcolor": "white",
           "linecolor": "white",
           "ticks": "",
           "zerolinecolor": "white",
           "zerolinewidth": 2
          }
         }
        },
        "title": {
         "font": {
          "color": "#151516"
         },
         "text": "Top 20 words after removing stop words"
        },
        "xaxis": {
         "gridcolor": "#F6F6F6",
         "linecolor": "black",
         "showgrid": true,
         "tickfont": {
          "color": "#666666"
         },
         "title": {
          "font": {
           "color": "#666666"
          },
          "text": ""
         },
         "zerolinecolor": "#F6F6F6"
        },
        "yaxis": {
         "gridcolor": "#F6F6F6",
         "linecolor": "black",
         "showgrid": true,
         "tickfont": {
          "color": "#666666"
         },
         "title": {
          "font": {
           "color": "#666666"
          },
          "text": "Count"
         },
         "zerolinecolor": "#F6F6F6"
        }
       }
      },
      "text/html": [
       "<div>\n",
       "        \n",
       "        \n",
       "            <div id=\"379270fe-3d5a-4ea0-a5e4-8685b647b527\" class=\"plotly-graph-div\" style=\"height:525px; width:100%;\"></div>\n",
       "            <script type=\"text/javascript\">\n",
       "                require([\"plotly\"], function(Plotly) {\n",
       "                    window.PLOTLYENV=window.PLOTLYENV || {};\n",
       "                    window.PLOTLYENV.BASE_URL='https://plot.ly';\n",
       "                    \n",
       "                if (document.getElementById(\"379270fe-3d5a-4ea0-a5e4-8685b647b527\")) {\n",
       "                    Plotly.newPlot(\n",
       "                        '379270fe-3d5a-4ea0-a5e4-8685b647b527',\n",
       "                        [{\"marker\": {\"color\": \"rgba(226, 74, 51, 0.6)\", \"line\": {\"color\": \"rgba(226, 74, 51, 1.0)\", \"width\": 1}}, \"name\": \"count\", \"orientation\": \"h\", \"text\": \"\", \"type\": \"bar\", \"x\": [4156, 4310, 4431, 4537, 4573, 4879, 4951, 5084, 5782, 6623, 6700, 7312, 7533, 7984, 9099, 9099, 9766, 30536, 34314, 35181], \"y\": [\"used\", \"healing\", \"placed\", \"using\", \"months\", \"clinical\", \"weeks\", \"tissue\", \"mm\", \"dental\", \"group\", \"patients\", \"results\", \"titanium\", \"osseointegration\", \"surface\", \"study\", \"implants\", \"implant\", \"bone\"]}],\n",
       "                        {\"legend\": {\"bgcolor\": \"#FFFFFF\", \"font\": {\"color\": \"#666666\"}}, \"paper_bgcolor\": \"#FFFFFF\", \"plot_bgcolor\": \"#E5E5E5\", \"template\": {\"data\": {\"bar\": [{\"error_x\": {\"color\": \"#2a3f5f\"}, \"error_y\": {\"color\": \"#2a3f5f\"}, \"marker\": {\"line\": {\"color\": \"#E5ECF6\", \"width\": 0.5}}, \"type\": \"bar\"}], \"barpolar\": [{\"marker\": {\"line\": {\"color\": \"#E5ECF6\", \"width\": 0.5}}, \"type\": \"barpolar\"}], \"carpet\": [{\"aaxis\": {\"endlinecolor\": \"#2a3f5f\", \"gridcolor\": \"white\", \"linecolor\": \"white\", \"minorgridcolor\": \"white\", \"startlinecolor\": \"#2a3f5f\"}, \"baxis\": {\"endlinecolor\": \"#2a3f5f\", \"gridcolor\": \"white\", \"linecolor\": \"white\", \"minorgridcolor\": \"white\", \"startlinecolor\": \"#2a3f5f\"}, \"type\": \"carpet\"}], \"choropleth\": [{\"colorbar\": {\"outlinewidth\": 0, \"ticks\": \"\"}, \"type\": \"choropleth\"}], \"contour\": [{\"colorbar\": {\"outlinewidth\": 0, \"ticks\": \"\"}, \"colorscale\": [[0.0, \"#0d0887\"], [0.1111111111111111, \"#46039f\"], [0.2222222222222222, \"#7201a8\"], [0.3333333333333333, \"#9c179e\"], [0.4444444444444444, \"#bd3786\"], [0.5555555555555556, \"#d8576b\"], [0.6666666666666666, \"#ed7953\"], [0.7777777777777778, \"#fb9f3a\"], [0.8888888888888888, \"#fdca26\"], [1.0, \"#f0f921\"]], \"type\": \"contour\"}], \"contourcarpet\": [{\"colorbar\": {\"outlinewidth\": 0, \"ticks\": \"\"}, \"type\": \"contourcarpet\"}], \"heatmap\": [{\"colorbar\": {\"outlinewidth\": 0, \"ticks\": \"\"}, \"colorscale\": [[0.0, \"#0d0887\"], [0.1111111111111111, \"#46039f\"], [0.2222222222222222, \"#7201a8\"], [0.3333333333333333, \"#9c179e\"], [0.4444444444444444, \"#bd3786\"], [0.5555555555555556, \"#d8576b\"], [0.6666666666666666, \"#ed7953\"], [0.7777777777777778, \"#fb9f3a\"], [0.8888888888888888, \"#fdca26\"], [1.0, \"#f0f921\"]], \"type\": \"heatmap\"}], \"heatmapgl\": [{\"colorbar\": {\"outlinewidth\": 0, \"ticks\": \"\"}, \"colorscale\": [[0.0, \"#0d0887\"], [0.1111111111111111, \"#46039f\"], [0.2222222222222222, \"#7201a8\"], [0.3333333333333333, \"#9c179e\"], [0.4444444444444444, \"#bd3786\"], [0.5555555555555556, \"#d8576b\"], [0.6666666666666666, \"#ed7953\"], [0.7777777777777778, \"#fb9f3a\"], [0.8888888888888888, \"#fdca26\"], [1.0, \"#f0f921\"]], \"type\": \"heatmapgl\"}], \"histogram\": [{\"marker\": {\"colorbar\": {\"outlinewidth\": 0, \"ticks\": \"\"}}, \"type\": \"histogram\"}], \"histogram2d\": [{\"colorbar\": {\"outlinewidth\": 0, \"ticks\": \"\"}, \"colorscale\": [[0.0, \"#0d0887\"], [0.1111111111111111, \"#46039f\"], [0.2222222222222222, \"#7201a8\"], [0.3333333333333333, \"#9c179e\"], [0.4444444444444444, \"#bd3786\"], [0.5555555555555556, \"#d8576b\"], [0.6666666666666666, \"#ed7953\"], [0.7777777777777778, \"#fb9f3a\"], [0.8888888888888888, \"#fdca26\"], [1.0, \"#f0f921\"]], \"type\": \"histogram2d\"}], \"histogram2dcontour\": [{\"colorbar\": {\"outlinewidth\": 0, \"ticks\": \"\"}, \"colorscale\": [[0.0, \"#0d0887\"], [0.1111111111111111, \"#46039f\"], [0.2222222222222222, \"#7201a8\"], [0.3333333333333333, \"#9c179e\"], [0.4444444444444444, \"#bd3786\"], [0.5555555555555556, \"#d8576b\"], [0.6666666666666666, \"#ed7953\"], [0.7777777777777778, \"#fb9f3a\"], [0.8888888888888888, \"#fdca26\"], [1.0, \"#f0f921\"]], \"type\": \"histogram2dcontour\"}], \"mesh3d\": [{\"colorbar\": {\"outlinewidth\": 0, \"ticks\": \"\"}, \"type\": \"mesh3d\"}], \"parcoords\": [{\"line\": {\"colorbar\": {\"outlinewidth\": 0, \"ticks\": \"\"}}, \"type\": \"parcoords\"}], \"scatter\": [{\"marker\": {\"colorbar\": {\"outlinewidth\": 0, \"ticks\": \"\"}}, \"type\": \"scatter\"}], \"scatter3d\": [{\"line\": {\"colorbar\": {\"outlinewidth\": 0, \"ticks\": \"\"}}, \"marker\": {\"colorbar\": {\"outlinewidth\": 0, \"ticks\": \"\"}}, \"type\": \"scatter3d\"}], \"scattercarpet\": [{\"marker\": {\"colorbar\": {\"outlinewidth\": 0, \"ticks\": \"\"}}, \"type\": \"scattercarpet\"}], \"scattergeo\": [{\"marker\": {\"colorbar\": {\"outlinewidth\": 0, \"ticks\": \"\"}}, \"type\": \"scattergeo\"}], \"scattergl\": [{\"marker\": {\"colorbar\": {\"outlinewidth\": 0, \"ticks\": \"\"}}, \"type\": \"scattergl\"}], \"scattermapbox\": [{\"marker\": {\"colorbar\": {\"outlinewidth\": 0, \"ticks\": \"\"}}, \"type\": \"scattermapbox\"}], \"scatterpolar\": [{\"marker\": {\"colorbar\": {\"outlinewidth\": 0, \"ticks\": \"\"}}, \"type\": \"scatterpolar\"}], \"scatterpolargl\": [{\"marker\": {\"colorbar\": {\"outlinewidth\": 0, \"ticks\": \"\"}}, \"type\": \"scatterpolargl\"}], \"scatterternary\": [{\"marker\": {\"colorbar\": {\"outlinewidth\": 0, \"ticks\": \"\"}}, \"type\": \"scatterternary\"}], \"surface\": [{\"colorbar\": {\"outlinewidth\": 0, \"ticks\": \"\"}, \"colorscale\": [[0.0, \"#0d0887\"], [0.1111111111111111, \"#46039f\"], [0.2222222222222222, \"#7201a8\"], [0.3333333333333333, \"#9c179e\"], [0.4444444444444444, \"#bd3786\"], [0.5555555555555556, \"#d8576b\"], [0.6666666666666666, \"#ed7953\"], [0.7777777777777778, \"#fb9f3a\"], [0.8888888888888888, \"#fdca26\"], [1.0, \"#f0f921\"]], \"type\": \"surface\"}], \"table\": [{\"cells\": {\"fill\": {\"color\": \"#EBF0F8\"}, \"line\": {\"color\": \"white\"}}, \"header\": {\"fill\": {\"color\": \"#C8D4E3\"}, \"line\": {\"color\": \"white\"}}, \"type\": \"table\"}]}, \"layout\": {\"annotationdefaults\": {\"arrowcolor\": \"#2a3f5f\", \"arrowhead\": 0, \"arrowwidth\": 1}, \"colorscale\": {\"diverging\": [[0, \"#8e0152\"], [0.1, \"#c51b7d\"], [0.2, \"#de77ae\"], [0.3, \"#f1b6da\"], [0.4, \"#fde0ef\"], [0.5, \"#f7f7f7\"], [0.6, \"#e6f5d0\"], [0.7, \"#b8e186\"], [0.8, \"#7fbc41\"], [0.9, \"#4d9221\"], [1, \"#276419\"]], \"sequential\": [[0.0, \"#0d0887\"], [0.1111111111111111, \"#46039f\"], [0.2222222222222222, \"#7201a8\"], [0.3333333333333333, \"#9c179e\"], [0.4444444444444444, \"#bd3786\"], [0.5555555555555556, \"#d8576b\"], [0.6666666666666666, \"#ed7953\"], [0.7777777777777778, \"#fb9f3a\"], [0.8888888888888888, \"#fdca26\"], [1.0, \"#f0f921\"]], \"sequentialminus\": [[0.0, \"#0d0887\"], [0.1111111111111111, \"#46039f\"], [0.2222222222222222, \"#7201a8\"], [0.3333333333333333, \"#9c179e\"], [0.4444444444444444, \"#bd3786\"], [0.5555555555555556, \"#d8576b\"], [0.6666666666666666, \"#ed7953\"], [0.7777777777777778, \"#fb9f3a\"], [0.8888888888888888, \"#fdca26\"], [1.0, \"#f0f921\"]]}, \"colorway\": [\"#636efa\", \"#EF553B\", \"#00cc96\", \"#ab63fa\", \"#FFA15A\", \"#19d3f3\", \"#FF6692\", \"#B6E880\", \"#FF97FF\", \"#FECB52\"], \"font\": {\"color\": \"#2a3f5f\"}, \"geo\": {\"bgcolor\": \"white\", \"lakecolor\": \"white\", \"landcolor\": \"#E5ECF6\", \"showlakes\": true, \"showland\": true, \"subunitcolor\": \"white\"}, \"hoverlabel\": {\"align\": \"left\"}, \"hovermode\": \"closest\", \"mapbox\": {\"style\": \"light\"}, \"paper_bgcolor\": \"white\", \"plot_bgcolor\": \"#E5ECF6\", \"polar\": {\"angularaxis\": {\"gridcolor\": \"white\", \"linecolor\": \"white\", \"ticks\": \"\"}, \"bgcolor\": \"#E5ECF6\", \"radialaxis\": {\"gridcolor\": \"white\", \"linecolor\": \"white\", \"ticks\": \"\"}}, \"scene\": {\"xaxis\": {\"backgroundcolor\": \"#E5ECF6\", \"gridcolor\": \"white\", \"gridwidth\": 2, \"linecolor\": \"white\", \"showbackground\": true, \"ticks\": \"\", \"zerolinecolor\": \"white\"}, \"yaxis\": {\"backgroundcolor\": \"#E5ECF6\", \"gridcolor\": \"white\", \"gridwidth\": 2, \"linecolor\": \"white\", \"showbackground\": true, \"ticks\": \"\", \"zerolinecolor\": \"white\"}, \"zaxis\": {\"backgroundcolor\": \"#E5ECF6\", \"gridcolor\": \"white\", \"gridwidth\": 2, \"linecolor\": \"white\", \"showbackground\": true, \"ticks\": \"\", \"zerolinecolor\": \"white\"}}, \"shapedefaults\": {\"line\": {\"color\": \"#2a3f5f\"}}, \"ternary\": {\"aaxis\": {\"gridcolor\": \"white\", \"linecolor\": \"white\", \"ticks\": \"\"}, \"baxis\": {\"gridcolor\": \"white\", \"linecolor\": \"white\", \"ticks\": \"\"}, \"bgcolor\": \"#E5ECF6\", \"caxis\": {\"gridcolor\": \"white\", \"linecolor\": \"white\", \"ticks\": \"\"}}, \"title\": {\"x\": 0.05}, \"xaxis\": {\"automargin\": true, \"gridcolor\": \"white\", \"linecolor\": \"white\", \"ticks\": \"\", \"zerolinecolor\": \"white\", \"zerolinewidth\": 2}, \"yaxis\": {\"automargin\": true, \"gridcolor\": \"white\", \"linecolor\": \"white\", \"ticks\": \"\", \"zerolinecolor\": \"white\", \"zerolinewidth\": 2}}}, \"title\": {\"font\": {\"color\": \"#151516\"}, \"text\": \"Top 20 words after removing stop words\"}, \"xaxis\": {\"gridcolor\": \"#F6F6F6\", \"linecolor\": \"black\", \"showgrid\": true, \"tickfont\": {\"color\": \"#666666\"}, \"title\": {\"font\": {\"color\": \"#666666\"}, \"text\": \"\"}, \"zerolinecolor\": \"#F6F6F6\"}, \"yaxis\": {\"gridcolor\": \"#F6F6F6\", \"linecolor\": \"black\", \"showgrid\": true, \"tickfont\": {\"color\": \"#666666\"}, \"title\": {\"font\": {\"color\": \"#666666\"}, \"text\": \"Count\"}, \"zerolinecolor\": \"#F6F6F6\"}},\n",
       "                        {\"showLink\": true, \"linkText\": \"Export to plot.ly\", \"plotlyServerURL\": \"https://plot.ly\", \"responsive\": true}\n",
       "                    ).then(function(){\n",
       "                            \n",
       "var gd = document.getElementById('379270fe-3d5a-4ea0-a5e4-8685b647b527');\n",
       "var x = new MutationObserver(function (mutations, observer) {{\n",
       "        var display = window.getComputedStyle(gd).display;\n",
       "        if (!display || display === 'none') {{\n",
       "            console.log([gd, 'removed!']);\n",
       "            Plotly.purge(gd);\n",
       "            observer.disconnect();\n",
       "        }}\n",
       "}});\n",
       "\n",
       "// Listen for the removal of the full notebook cells\n",
       "var notebookContainer = gd.closest('#notebook-container');\n",
       "if (notebookContainer) {{\n",
       "    x.observe(notebookContainer, {childList: true});\n",
       "}}\n",
       "\n",
       "// Listen for the clearing of the current output cell\n",
       "var outputEl = gd.closest('.output');\n",
       "if (outputEl) {{\n",
       "    x.observe(outputEl, {childList: true});\n",
       "}}\n",
       "\n",
       "                        })\n",
       "                };\n",
       "                });\n",
       "            </script>\n",
       "        </div>"
      ]
     },
     "metadata": {},
     "output_type": "display_data"
    }
   ],
   "source": [
    "def get_top_n_words(corpus, n=None):\n",
    "    vec = CountVectorizer(stop_words='english').fit(corpus)\n",
    "    bag_of_words = vec.transform(corpus)\n",
    "    sum_words = bag_of_words.sum(axis=0) \n",
    "    words_freq = [(word, sum_words[0, idx]) for word, idx in vec.vocabulary_.items()]\n",
    "    words_freq =sorted(words_freq, key = lambda x: x[1], reverse=True)\n",
    "    return words_freq[:n]\n",
    "common_words = get_top_n_words(df['abstractClean'], 20)\n",
    "df2 = pd.DataFrame(common_words, columns = ['abstractClean' , 'count'])\n",
    "df2.groupby('abstractClean').sum()['count'].sort_values().iplot(kind='barh', yTitle='Count', linecolor='black', title='Top 20 words after removing stop words')"
   ]
  },
  {
   "cell_type": "markdown",
   "metadata": {},
   "source": [
    "### Bigrams Frequency Distribution Before Removing Stop Word"
   ]
  },
  {
   "cell_type": "code",
   "execution_count": 17,
   "metadata": {},
   "outputs": [
    {
     "data": {
      "application/vnd.plotly.v1+json": {
       "config": {
        "linkText": "Export to plot.ly",
        "plotlyServerURL": "https://plot.ly",
        "showLink": true
       },
       "data": [
        {
         "marker": {
          "color": "rgba(226, 74, 51, 0.6)",
          "line": {
           "color": "rgba(226, 74, 51, 1.0)",
           "width": 1
          }
         },
         "name": "count",
         "orientation": "v",
         "text": "",
         "type": "bar",
         "x": [
          "of the",
          "in the",
          "the implant",
          "and the",
          "to the",
          "implants were",
          "on the",
          "this study",
          "dental implants",
          "at the",
          "for the",
          "with the",
          "the bone",
          "of this",
          "of bone",
          "peri implant",
          "implants in",
          "the implants",
          "was to",
          "study was"
         ],
         "y": [
          18321,
          13631,
          5440,
          5083,
          4718,
          4542,
          4420,
          4006,
          3816,
          3687,
          3585,
          3352,
          3328,
          3189,
          3149,
          2889,
          2707,
          2592,
          2447,
          2361
         ]
        }
       ],
       "layout": {
        "legend": {
         "bgcolor": "#FFFFFF",
         "font": {
          "color": "#666666"
         }
        },
        "paper_bgcolor": "#FFFFFF",
        "plot_bgcolor": "#E5E5E5",
        "template": {
         "data": {
          "bar": [
           {
            "error_x": {
             "color": "#2a3f5f"
            },
            "error_y": {
             "color": "#2a3f5f"
            },
            "marker": {
             "line": {
              "color": "#E5ECF6",
              "width": 0.5
             }
            },
            "type": "bar"
           }
          ],
          "barpolar": [
           {
            "marker": {
             "line": {
              "color": "#E5ECF6",
              "width": 0.5
             }
            },
            "type": "barpolar"
           }
          ],
          "carpet": [
           {
            "aaxis": {
             "endlinecolor": "#2a3f5f",
             "gridcolor": "white",
             "linecolor": "white",
             "minorgridcolor": "white",
             "startlinecolor": "#2a3f5f"
            },
            "baxis": {
             "endlinecolor": "#2a3f5f",
             "gridcolor": "white",
             "linecolor": "white",
             "minorgridcolor": "white",
             "startlinecolor": "#2a3f5f"
            },
            "type": "carpet"
           }
          ],
          "choropleth": [
           {
            "colorbar": {
             "outlinewidth": 0,
             "ticks": ""
            },
            "type": "choropleth"
           }
          ],
          "contour": [
           {
            "colorbar": {
             "outlinewidth": 0,
             "ticks": ""
            },
            "colorscale": [
             [
              0,
              "#0d0887"
             ],
             [
              0.1111111111111111,
              "#46039f"
             ],
             [
              0.2222222222222222,
              "#7201a8"
             ],
             [
              0.3333333333333333,
              "#9c179e"
             ],
             [
              0.4444444444444444,
              "#bd3786"
             ],
             [
              0.5555555555555556,
              "#d8576b"
             ],
             [
              0.6666666666666666,
              "#ed7953"
             ],
             [
              0.7777777777777778,
              "#fb9f3a"
             ],
             [
              0.8888888888888888,
              "#fdca26"
             ],
             [
              1,
              "#f0f921"
             ]
            ],
            "type": "contour"
           }
          ],
          "contourcarpet": [
           {
            "colorbar": {
             "outlinewidth": 0,
             "ticks": ""
            },
            "type": "contourcarpet"
           }
          ],
          "heatmap": [
           {
            "colorbar": {
             "outlinewidth": 0,
             "ticks": ""
            },
            "colorscale": [
             [
              0,
              "#0d0887"
             ],
             [
              0.1111111111111111,
              "#46039f"
             ],
             [
              0.2222222222222222,
              "#7201a8"
             ],
             [
              0.3333333333333333,
              "#9c179e"
             ],
             [
              0.4444444444444444,
              "#bd3786"
             ],
             [
              0.5555555555555556,
              "#d8576b"
             ],
             [
              0.6666666666666666,
              "#ed7953"
             ],
             [
              0.7777777777777778,
              "#fb9f3a"
             ],
             [
              0.8888888888888888,
              "#fdca26"
             ],
             [
              1,
              "#f0f921"
             ]
            ],
            "type": "heatmap"
           }
          ],
          "heatmapgl": [
           {
            "colorbar": {
             "outlinewidth": 0,
             "ticks": ""
            },
            "colorscale": [
             [
              0,
              "#0d0887"
             ],
             [
              0.1111111111111111,
              "#46039f"
             ],
             [
              0.2222222222222222,
              "#7201a8"
             ],
             [
              0.3333333333333333,
              "#9c179e"
             ],
             [
              0.4444444444444444,
              "#bd3786"
             ],
             [
              0.5555555555555556,
              "#d8576b"
             ],
             [
              0.6666666666666666,
              "#ed7953"
             ],
             [
              0.7777777777777778,
              "#fb9f3a"
             ],
             [
              0.8888888888888888,
              "#fdca26"
             ],
             [
              1,
              "#f0f921"
             ]
            ],
            "type": "heatmapgl"
           }
          ],
          "histogram": [
           {
            "marker": {
             "colorbar": {
              "outlinewidth": 0,
              "ticks": ""
             }
            },
            "type": "histogram"
           }
          ],
          "histogram2d": [
           {
            "colorbar": {
             "outlinewidth": 0,
             "ticks": ""
            },
            "colorscale": [
             [
              0,
              "#0d0887"
             ],
             [
              0.1111111111111111,
              "#46039f"
             ],
             [
              0.2222222222222222,
              "#7201a8"
             ],
             [
              0.3333333333333333,
              "#9c179e"
             ],
             [
              0.4444444444444444,
              "#bd3786"
             ],
             [
              0.5555555555555556,
              "#d8576b"
             ],
             [
              0.6666666666666666,
              "#ed7953"
             ],
             [
              0.7777777777777778,
              "#fb9f3a"
             ],
             [
              0.8888888888888888,
              "#fdca26"
             ],
             [
              1,
              "#f0f921"
             ]
            ],
            "type": "histogram2d"
           }
          ],
          "histogram2dcontour": [
           {
            "colorbar": {
             "outlinewidth": 0,
             "ticks": ""
            },
            "colorscale": [
             [
              0,
              "#0d0887"
             ],
             [
              0.1111111111111111,
              "#46039f"
             ],
             [
              0.2222222222222222,
              "#7201a8"
             ],
             [
              0.3333333333333333,
              "#9c179e"
             ],
             [
              0.4444444444444444,
              "#bd3786"
             ],
             [
              0.5555555555555556,
              "#d8576b"
             ],
             [
              0.6666666666666666,
              "#ed7953"
             ],
             [
              0.7777777777777778,
              "#fb9f3a"
             ],
             [
              0.8888888888888888,
              "#fdca26"
             ],
             [
              1,
              "#f0f921"
             ]
            ],
            "type": "histogram2dcontour"
           }
          ],
          "mesh3d": [
           {
            "colorbar": {
             "outlinewidth": 0,
             "ticks": ""
            },
            "type": "mesh3d"
           }
          ],
          "parcoords": [
           {
            "line": {
             "colorbar": {
              "outlinewidth": 0,
              "ticks": ""
             }
            },
            "type": "parcoords"
           }
          ],
          "scatter": [
           {
            "marker": {
             "colorbar": {
              "outlinewidth": 0,
              "ticks": ""
             }
            },
            "type": "scatter"
           }
          ],
          "scatter3d": [
           {
            "line": {
             "colorbar": {
              "outlinewidth": 0,
              "ticks": ""
             }
            },
            "marker": {
             "colorbar": {
              "outlinewidth": 0,
              "ticks": ""
             }
            },
            "type": "scatter3d"
           }
          ],
          "scattercarpet": [
           {
            "marker": {
             "colorbar": {
              "outlinewidth": 0,
              "ticks": ""
             }
            },
            "type": "scattercarpet"
           }
          ],
          "scattergeo": [
           {
            "marker": {
             "colorbar": {
              "outlinewidth": 0,
              "ticks": ""
             }
            },
            "type": "scattergeo"
           }
          ],
          "scattergl": [
           {
            "marker": {
             "colorbar": {
              "outlinewidth": 0,
              "ticks": ""
             }
            },
            "type": "scattergl"
           }
          ],
          "scattermapbox": [
           {
            "marker": {
             "colorbar": {
              "outlinewidth": 0,
              "ticks": ""
             }
            },
            "type": "scattermapbox"
           }
          ],
          "scatterpolar": [
           {
            "marker": {
             "colorbar": {
              "outlinewidth": 0,
              "ticks": ""
             }
            },
            "type": "scatterpolar"
           }
          ],
          "scatterpolargl": [
           {
            "marker": {
             "colorbar": {
              "outlinewidth": 0,
              "ticks": ""
             }
            },
            "type": "scatterpolargl"
           }
          ],
          "scatterternary": [
           {
            "marker": {
             "colorbar": {
              "outlinewidth": 0,
              "ticks": ""
             }
            },
            "type": "scatterternary"
           }
          ],
          "surface": [
           {
            "colorbar": {
             "outlinewidth": 0,
             "ticks": ""
            },
            "colorscale": [
             [
              0,
              "#0d0887"
             ],
             [
              0.1111111111111111,
              "#46039f"
             ],
             [
              0.2222222222222222,
              "#7201a8"
             ],
             [
              0.3333333333333333,
              "#9c179e"
             ],
             [
              0.4444444444444444,
              "#bd3786"
             ],
             [
              0.5555555555555556,
              "#d8576b"
             ],
             [
              0.6666666666666666,
              "#ed7953"
             ],
             [
              0.7777777777777778,
              "#fb9f3a"
             ],
             [
              0.8888888888888888,
              "#fdca26"
             ],
             [
              1,
              "#f0f921"
             ]
            ],
            "type": "surface"
           }
          ],
          "table": [
           {
            "cells": {
             "fill": {
              "color": "#EBF0F8"
             },
             "line": {
              "color": "white"
             }
            },
            "header": {
             "fill": {
              "color": "#C8D4E3"
             },
             "line": {
              "color": "white"
             }
            },
            "type": "table"
           }
          ]
         },
         "layout": {
          "annotationdefaults": {
           "arrowcolor": "#2a3f5f",
           "arrowhead": 0,
           "arrowwidth": 1
          },
          "colorscale": {
           "diverging": [
            [
             0,
             "#8e0152"
            ],
            [
             0.1,
             "#c51b7d"
            ],
            [
             0.2,
             "#de77ae"
            ],
            [
             0.3,
             "#f1b6da"
            ],
            [
             0.4,
             "#fde0ef"
            ],
            [
             0.5,
             "#f7f7f7"
            ],
            [
             0.6,
             "#e6f5d0"
            ],
            [
             0.7,
             "#b8e186"
            ],
            [
             0.8,
             "#7fbc41"
            ],
            [
             0.9,
             "#4d9221"
            ],
            [
             1,
             "#276419"
            ]
           ],
           "sequential": [
            [
             0,
             "#0d0887"
            ],
            [
             0.1111111111111111,
             "#46039f"
            ],
            [
             0.2222222222222222,
             "#7201a8"
            ],
            [
             0.3333333333333333,
             "#9c179e"
            ],
            [
             0.4444444444444444,
             "#bd3786"
            ],
            [
             0.5555555555555556,
             "#d8576b"
            ],
            [
             0.6666666666666666,
             "#ed7953"
            ],
            [
             0.7777777777777778,
             "#fb9f3a"
            ],
            [
             0.8888888888888888,
             "#fdca26"
            ],
            [
             1,
             "#f0f921"
            ]
           ],
           "sequentialminus": [
            [
             0,
             "#0d0887"
            ],
            [
             0.1111111111111111,
             "#46039f"
            ],
            [
             0.2222222222222222,
             "#7201a8"
            ],
            [
             0.3333333333333333,
             "#9c179e"
            ],
            [
             0.4444444444444444,
             "#bd3786"
            ],
            [
             0.5555555555555556,
             "#d8576b"
            ],
            [
             0.6666666666666666,
             "#ed7953"
            ],
            [
             0.7777777777777778,
             "#fb9f3a"
            ],
            [
             0.8888888888888888,
             "#fdca26"
            ],
            [
             1,
             "#f0f921"
            ]
           ]
          },
          "colorway": [
           "#636efa",
           "#EF553B",
           "#00cc96",
           "#ab63fa",
           "#FFA15A",
           "#19d3f3",
           "#FF6692",
           "#B6E880",
           "#FF97FF",
           "#FECB52"
          ],
          "font": {
           "color": "#2a3f5f"
          },
          "geo": {
           "bgcolor": "white",
           "lakecolor": "white",
           "landcolor": "#E5ECF6",
           "showlakes": true,
           "showland": true,
           "subunitcolor": "white"
          },
          "hoverlabel": {
           "align": "left"
          },
          "hovermode": "closest",
          "mapbox": {
           "style": "light"
          },
          "paper_bgcolor": "white",
          "plot_bgcolor": "#E5ECF6",
          "polar": {
           "angularaxis": {
            "gridcolor": "white",
            "linecolor": "white",
            "ticks": ""
           },
           "bgcolor": "#E5ECF6",
           "radialaxis": {
            "gridcolor": "white",
            "linecolor": "white",
            "ticks": ""
           }
          },
          "scene": {
           "xaxis": {
            "backgroundcolor": "#E5ECF6",
            "gridcolor": "white",
            "gridwidth": 2,
            "linecolor": "white",
            "showbackground": true,
            "ticks": "",
            "zerolinecolor": "white"
           },
           "yaxis": {
            "backgroundcolor": "#E5ECF6",
            "gridcolor": "white",
            "gridwidth": 2,
            "linecolor": "white",
            "showbackground": true,
            "ticks": "",
            "zerolinecolor": "white"
           },
           "zaxis": {
            "backgroundcolor": "#E5ECF6",
            "gridcolor": "white",
            "gridwidth": 2,
            "linecolor": "white",
            "showbackground": true,
            "ticks": "",
            "zerolinecolor": "white"
           }
          },
          "shapedefaults": {
           "line": {
            "color": "#2a3f5f"
           }
          },
          "ternary": {
           "aaxis": {
            "gridcolor": "white",
            "linecolor": "white",
            "ticks": ""
           },
           "baxis": {
            "gridcolor": "white",
            "linecolor": "white",
            "ticks": ""
           },
           "bgcolor": "#E5ECF6",
           "caxis": {
            "gridcolor": "white",
            "linecolor": "white",
            "ticks": ""
           }
          },
          "title": {
           "x": 0.05
          },
          "xaxis": {
           "automargin": true,
           "gridcolor": "white",
           "linecolor": "white",
           "ticks": "",
           "zerolinecolor": "white",
           "zerolinewidth": 2
          },
          "yaxis": {
           "automargin": true,
           "gridcolor": "white",
           "linecolor": "white",
           "ticks": "",
           "zerolinecolor": "white",
           "zerolinewidth": 2
          }
         }
        },
        "title": {
         "font": {
          "color": "#151516"
         },
         "text": "Top 20 bigrams before removing stop words"
        },
        "xaxis": {
         "gridcolor": "#F6F6F6",
         "linecolor": "black",
         "showgrid": true,
         "tickfont": {
          "color": "#666666"
         },
         "title": {
          "font": {
           "color": "#666666"
          },
          "text": ""
         },
         "zerolinecolor": "#F6F6F6"
        },
        "yaxis": {
         "gridcolor": "#F6F6F6",
         "linecolor": "black",
         "showgrid": true,
         "tickfont": {
          "color": "#666666"
         },
         "title": {
          "font": {
           "color": "#666666"
          },
          "text": "Count"
         },
         "zerolinecolor": "#F6F6F6"
        }
       }
      },
      "text/html": [
       "<div>\n",
       "        \n",
       "        \n",
       "            <div id=\"6a84f548-efec-4c1a-a486-6bae5e55e020\" class=\"plotly-graph-div\" style=\"height:525px; width:100%;\"></div>\n",
       "            <script type=\"text/javascript\">\n",
       "                require([\"plotly\"], function(Plotly) {\n",
       "                    window.PLOTLYENV=window.PLOTLYENV || {};\n",
       "                    window.PLOTLYENV.BASE_URL='https://plot.ly';\n",
       "                    \n",
       "                if (document.getElementById(\"6a84f548-efec-4c1a-a486-6bae5e55e020\")) {\n",
       "                    Plotly.newPlot(\n",
       "                        '6a84f548-efec-4c1a-a486-6bae5e55e020',\n",
       "                        [{\"marker\": {\"color\": \"rgba(226, 74, 51, 0.6)\", \"line\": {\"color\": \"rgba(226, 74, 51, 1.0)\", \"width\": 1}}, \"name\": \"count\", \"orientation\": \"v\", \"text\": \"\", \"type\": \"bar\", \"x\": [\"of the\", \"in the\", \"the implant\", \"and the\", \"to the\", \"implants were\", \"on the\", \"this study\", \"dental implants\", \"at the\", \"for the\", \"with the\", \"the bone\", \"of this\", \"of bone\", \"peri implant\", \"implants in\", \"the implants\", \"was to\", \"study was\"], \"y\": [18321, 13631, 5440, 5083, 4718, 4542, 4420, 4006, 3816, 3687, 3585, 3352, 3328, 3189, 3149, 2889, 2707, 2592, 2447, 2361]}],\n",
       "                        {\"legend\": {\"bgcolor\": \"#FFFFFF\", \"font\": {\"color\": \"#666666\"}}, \"paper_bgcolor\": \"#FFFFFF\", \"plot_bgcolor\": \"#E5E5E5\", \"template\": {\"data\": {\"bar\": [{\"error_x\": {\"color\": \"#2a3f5f\"}, \"error_y\": {\"color\": \"#2a3f5f\"}, \"marker\": {\"line\": {\"color\": \"#E5ECF6\", \"width\": 0.5}}, \"type\": \"bar\"}], \"barpolar\": [{\"marker\": {\"line\": {\"color\": \"#E5ECF6\", \"width\": 0.5}}, \"type\": \"barpolar\"}], \"carpet\": [{\"aaxis\": {\"endlinecolor\": \"#2a3f5f\", \"gridcolor\": \"white\", \"linecolor\": \"white\", \"minorgridcolor\": \"white\", \"startlinecolor\": \"#2a3f5f\"}, \"baxis\": {\"endlinecolor\": \"#2a3f5f\", \"gridcolor\": \"white\", \"linecolor\": \"white\", \"minorgridcolor\": \"white\", \"startlinecolor\": \"#2a3f5f\"}, \"type\": \"carpet\"}], \"choropleth\": [{\"colorbar\": {\"outlinewidth\": 0, \"ticks\": \"\"}, \"type\": \"choropleth\"}], \"contour\": [{\"colorbar\": {\"outlinewidth\": 0, \"ticks\": \"\"}, \"colorscale\": [[0.0, \"#0d0887\"], [0.1111111111111111, \"#46039f\"], [0.2222222222222222, \"#7201a8\"], [0.3333333333333333, \"#9c179e\"], [0.4444444444444444, \"#bd3786\"], [0.5555555555555556, \"#d8576b\"], [0.6666666666666666, \"#ed7953\"], [0.7777777777777778, \"#fb9f3a\"], [0.8888888888888888, \"#fdca26\"], [1.0, \"#f0f921\"]], \"type\": \"contour\"}], \"contourcarpet\": [{\"colorbar\": {\"outlinewidth\": 0, \"ticks\": \"\"}, \"type\": \"contourcarpet\"}], \"heatmap\": [{\"colorbar\": {\"outlinewidth\": 0, \"ticks\": \"\"}, \"colorscale\": [[0.0, \"#0d0887\"], [0.1111111111111111, \"#46039f\"], [0.2222222222222222, \"#7201a8\"], [0.3333333333333333, \"#9c179e\"], [0.4444444444444444, \"#bd3786\"], [0.5555555555555556, \"#d8576b\"], [0.6666666666666666, \"#ed7953\"], [0.7777777777777778, \"#fb9f3a\"], [0.8888888888888888, \"#fdca26\"], [1.0, \"#f0f921\"]], \"type\": \"heatmap\"}], \"heatmapgl\": [{\"colorbar\": {\"outlinewidth\": 0, \"ticks\": \"\"}, \"colorscale\": [[0.0, \"#0d0887\"], [0.1111111111111111, \"#46039f\"], [0.2222222222222222, \"#7201a8\"], [0.3333333333333333, \"#9c179e\"], [0.4444444444444444, \"#bd3786\"], [0.5555555555555556, \"#d8576b\"], [0.6666666666666666, \"#ed7953\"], [0.7777777777777778, \"#fb9f3a\"], [0.8888888888888888, \"#fdca26\"], [1.0, \"#f0f921\"]], \"type\": \"heatmapgl\"}], \"histogram\": [{\"marker\": {\"colorbar\": {\"outlinewidth\": 0, \"ticks\": \"\"}}, \"type\": \"histogram\"}], \"histogram2d\": [{\"colorbar\": {\"outlinewidth\": 0, \"ticks\": \"\"}, \"colorscale\": [[0.0, \"#0d0887\"], [0.1111111111111111, \"#46039f\"], [0.2222222222222222, \"#7201a8\"], [0.3333333333333333, \"#9c179e\"], [0.4444444444444444, \"#bd3786\"], [0.5555555555555556, \"#d8576b\"], [0.6666666666666666, \"#ed7953\"], [0.7777777777777778, \"#fb9f3a\"], [0.8888888888888888, \"#fdca26\"], [1.0, \"#f0f921\"]], \"type\": \"histogram2d\"}], \"histogram2dcontour\": [{\"colorbar\": {\"outlinewidth\": 0, \"ticks\": \"\"}, \"colorscale\": [[0.0, \"#0d0887\"], [0.1111111111111111, \"#46039f\"], [0.2222222222222222, \"#7201a8\"], [0.3333333333333333, \"#9c179e\"], [0.4444444444444444, \"#bd3786\"], [0.5555555555555556, \"#d8576b\"], [0.6666666666666666, \"#ed7953\"], [0.7777777777777778, \"#fb9f3a\"], [0.8888888888888888, \"#fdca26\"], [1.0, \"#f0f921\"]], \"type\": \"histogram2dcontour\"}], \"mesh3d\": [{\"colorbar\": {\"outlinewidth\": 0, \"ticks\": \"\"}, \"type\": \"mesh3d\"}], \"parcoords\": [{\"line\": {\"colorbar\": {\"outlinewidth\": 0, \"ticks\": \"\"}}, \"type\": \"parcoords\"}], \"scatter\": [{\"marker\": {\"colorbar\": {\"outlinewidth\": 0, \"ticks\": \"\"}}, \"type\": \"scatter\"}], \"scatter3d\": [{\"line\": {\"colorbar\": {\"outlinewidth\": 0, \"ticks\": \"\"}}, \"marker\": {\"colorbar\": {\"outlinewidth\": 0, \"ticks\": \"\"}}, \"type\": \"scatter3d\"}], \"scattercarpet\": [{\"marker\": {\"colorbar\": {\"outlinewidth\": 0, \"ticks\": \"\"}}, \"type\": \"scattercarpet\"}], \"scattergeo\": [{\"marker\": {\"colorbar\": {\"outlinewidth\": 0, \"ticks\": \"\"}}, \"type\": \"scattergeo\"}], \"scattergl\": [{\"marker\": {\"colorbar\": {\"outlinewidth\": 0, \"ticks\": \"\"}}, \"type\": \"scattergl\"}], \"scattermapbox\": [{\"marker\": {\"colorbar\": {\"outlinewidth\": 0, \"ticks\": \"\"}}, \"type\": \"scattermapbox\"}], \"scatterpolar\": [{\"marker\": {\"colorbar\": {\"outlinewidth\": 0, \"ticks\": \"\"}}, \"type\": \"scatterpolar\"}], \"scatterpolargl\": [{\"marker\": {\"colorbar\": {\"outlinewidth\": 0, \"ticks\": \"\"}}, \"type\": \"scatterpolargl\"}], \"scatterternary\": [{\"marker\": {\"colorbar\": {\"outlinewidth\": 0, \"ticks\": \"\"}}, \"type\": \"scatterternary\"}], \"surface\": [{\"colorbar\": {\"outlinewidth\": 0, \"ticks\": \"\"}, \"colorscale\": [[0.0, \"#0d0887\"], [0.1111111111111111, \"#46039f\"], [0.2222222222222222, \"#7201a8\"], [0.3333333333333333, \"#9c179e\"], [0.4444444444444444, \"#bd3786\"], [0.5555555555555556, \"#d8576b\"], [0.6666666666666666, \"#ed7953\"], [0.7777777777777778, \"#fb9f3a\"], [0.8888888888888888, \"#fdca26\"], [1.0, \"#f0f921\"]], \"type\": \"surface\"}], \"table\": [{\"cells\": {\"fill\": {\"color\": \"#EBF0F8\"}, \"line\": {\"color\": \"white\"}}, \"header\": {\"fill\": {\"color\": \"#C8D4E3\"}, \"line\": {\"color\": \"white\"}}, \"type\": \"table\"}]}, \"layout\": {\"annotationdefaults\": {\"arrowcolor\": \"#2a3f5f\", \"arrowhead\": 0, \"arrowwidth\": 1}, \"colorscale\": {\"diverging\": [[0, \"#8e0152\"], [0.1, \"#c51b7d\"], [0.2, \"#de77ae\"], [0.3, \"#f1b6da\"], [0.4, \"#fde0ef\"], [0.5, \"#f7f7f7\"], [0.6, \"#e6f5d0\"], [0.7, \"#b8e186\"], [0.8, \"#7fbc41\"], [0.9, \"#4d9221\"], [1, \"#276419\"]], \"sequential\": [[0.0, \"#0d0887\"], [0.1111111111111111, \"#46039f\"], [0.2222222222222222, \"#7201a8\"], [0.3333333333333333, \"#9c179e\"], [0.4444444444444444, \"#bd3786\"], [0.5555555555555556, \"#d8576b\"], [0.6666666666666666, \"#ed7953\"], [0.7777777777777778, \"#fb9f3a\"], [0.8888888888888888, \"#fdca26\"], [1.0, \"#f0f921\"]], \"sequentialminus\": [[0.0, \"#0d0887\"], [0.1111111111111111, \"#46039f\"], [0.2222222222222222, \"#7201a8\"], [0.3333333333333333, \"#9c179e\"], [0.4444444444444444, \"#bd3786\"], [0.5555555555555556, \"#d8576b\"], [0.6666666666666666, \"#ed7953\"], [0.7777777777777778, \"#fb9f3a\"], [0.8888888888888888, \"#fdca26\"], [1.0, \"#f0f921\"]]}, \"colorway\": [\"#636efa\", \"#EF553B\", \"#00cc96\", \"#ab63fa\", \"#FFA15A\", \"#19d3f3\", \"#FF6692\", \"#B6E880\", \"#FF97FF\", \"#FECB52\"], \"font\": {\"color\": \"#2a3f5f\"}, \"geo\": {\"bgcolor\": \"white\", \"lakecolor\": \"white\", \"landcolor\": \"#E5ECF6\", \"showlakes\": true, \"showland\": true, \"subunitcolor\": \"white\"}, \"hoverlabel\": {\"align\": \"left\"}, \"hovermode\": \"closest\", \"mapbox\": {\"style\": \"light\"}, \"paper_bgcolor\": \"white\", \"plot_bgcolor\": \"#E5ECF6\", \"polar\": {\"angularaxis\": {\"gridcolor\": \"white\", \"linecolor\": \"white\", \"ticks\": \"\"}, \"bgcolor\": \"#E5ECF6\", \"radialaxis\": {\"gridcolor\": \"white\", \"linecolor\": \"white\", \"ticks\": \"\"}}, \"scene\": {\"xaxis\": {\"backgroundcolor\": \"#E5ECF6\", \"gridcolor\": \"white\", \"gridwidth\": 2, \"linecolor\": \"white\", \"showbackground\": true, \"ticks\": \"\", \"zerolinecolor\": \"white\"}, \"yaxis\": {\"backgroundcolor\": \"#E5ECF6\", \"gridcolor\": \"white\", \"gridwidth\": 2, \"linecolor\": \"white\", \"showbackground\": true, \"ticks\": \"\", \"zerolinecolor\": \"white\"}, \"zaxis\": {\"backgroundcolor\": \"#E5ECF6\", \"gridcolor\": \"white\", \"gridwidth\": 2, \"linecolor\": \"white\", \"showbackground\": true, \"ticks\": \"\", \"zerolinecolor\": \"white\"}}, \"shapedefaults\": {\"line\": {\"color\": \"#2a3f5f\"}}, \"ternary\": {\"aaxis\": {\"gridcolor\": \"white\", \"linecolor\": \"white\", \"ticks\": \"\"}, \"baxis\": {\"gridcolor\": \"white\", \"linecolor\": \"white\", \"ticks\": \"\"}, \"bgcolor\": \"#E5ECF6\", \"caxis\": {\"gridcolor\": \"white\", \"linecolor\": \"white\", \"ticks\": \"\"}}, \"title\": {\"x\": 0.05}, \"xaxis\": {\"automargin\": true, \"gridcolor\": \"white\", \"linecolor\": \"white\", \"ticks\": \"\", \"zerolinecolor\": \"white\", \"zerolinewidth\": 2}, \"yaxis\": {\"automargin\": true, \"gridcolor\": \"white\", \"linecolor\": \"white\", \"ticks\": \"\", \"zerolinecolor\": \"white\", \"zerolinewidth\": 2}}}, \"title\": {\"font\": {\"color\": \"#151516\"}, \"text\": \"Top 20 bigrams before removing stop words\"}, \"xaxis\": {\"gridcolor\": \"#F6F6F6\", \"linecolor\": \"black\", \"showgrid\": true, \"tickfont\": {\"color\": \"#666666\"}, \"title\": {\"font\": {\"color\": \"#666666\"}, \"text\": \"\"}, \"zerolinecolor\": \"#F6F6F6\"}, \"yaxis\": {\"gridcolor\": \"#F6F6F6\", \"linecolor\": \"black\", \"showgrid\": true, \"tickfont\": {\"color\": \"#666666\"}, \"title\": {\"font\": {\"color\": \"#666666\"}, \"text\": \"Count\"}, \"zerolinecolor\": \"#F6F6F6\"}},\n",
       "                        {\"showLink\": true, \"linkText\": \"Export to plot.ly\", \"plotlyServerURL\": \"https://plot.ly\", \"responsive\": true}\n",
       "                    ).then(function(){\n",
       "                            \n",
       "var gd = document.getElementById('6a84f548-efec-4c1a-a486-6bae5e55e020');\n",
       "var x = new MutationObserver(function (mutations, observer) {{\n",
       "        var display = window.getComputedStyle(gd).display;\n",
       "        if (!display || display === 'none') {{\n",
       "            console.log([gd, 'removed!']);\n",
       "            Plotly.purge(gd);\n",
       "            observer.disconnect();\n",
       "        }}\n",
       "}});\n",
       "\n",
       "// Listen for the removal of the full notebook cells\n",
       "var notebookContainer = gd.closest('#notebook-container');\n",
       "if (notebookContainer) {{\n",
       "    x.observe(notebookContainer, {childList: true});\n",
       "}}\n",
       "\n",
       "// Listen for the clearing of the current output cell\n",
       "var outputEl = gd.closest('.output');\n",
       "if (outputEl) {{\n",
       "    x.observe(outputEl, {childList: true});\n",
       "}}\n",
       "\n",
       "                        })\n",
       "                };\n",
       "                });\n",
       "            </script>\n",
       "        </div>"
      ]
     },
     "metadata": {},
     "output_type": "display_data"
    }
   ],
   "source": [
    "def get_top_n_bigram(corpus, n=None):\n",
    "    vec = CountVectorizer(ngram_range=(2, 2)).fit(corpus)\n",
    "    bag_of_words = vec.transform(corpus)\n",
    "    sum_words = bag_of_words.sum(axis=0) \n",
    "    words_freq = [(word, sum_words[0, idx]) for word, idx in vec.vocabulary_.items()]\n",
    "    words_freq =sorted(words_freq, key = lambda x: x[1], reverse=True)\n",
    "    return words_freq[:n]\n",
    "common_words = get_top_n_bigram(df['abstractClean'], 20)\n",
    "df3 = pd.DataFrame(common_words, columns = ['abstractClean' , 'count'])\n",
    "df3.groupby('abstractClean').sum()['count'].sort_values(ascending=False).iplot(kind='bar', yTitle='Count', linecolor='black', title='Top 20 bigrams before removing stop words')"
   ]
  },
  {
   "cell_type": "markdown",
   "metadata": {},
   "source": [
    "### Bigrams Frequency Distribution After Removing Stop Word"
   ]
  },
  {
   "cell_type": "code",
   "execution_count": 18,
   "metadata": {},
   "outputs": [
    {
     "data": {
      "application/vnd.plotly.v1+json": {
       "config": {
        "linkText": "Export to plot.ly",
        "plotlyServerURL": "https://plot.ly",
        "showLink": true
       },
       "data": [
        {
         "marker": {
          "color": "rgba(226, 74, 51, 0.6)",
          "line": {
           "color": "rgba(226, 74, 51, 1.0)",
           "width": 1
          }
         },
         "name": "count",
         "orientation": "v",
         "text": "",
         "type": "bar",
         "x": [
          "dental implants",
          "bone implant",
          "peri implant",
          "implants placed",
          "implant contact",
          "implant placement",
          "bone formation",
          "titanium implants",
          "implant bone",
          "dental implant",
          "implant surface",
          "materials methods",
          "implant stability",
          "bone loss",
          "long term",
          "new bone",
          "soft tissue",
          "control group",
          "implant surfaces",
          "marginal bone"
         ],
         "y": [
          3820,
          3686,
          2889,
          2603,
          2176,
          2153,
          2125,
          2013,
          1905,
          1732,
          1668,
          1608,
          1469,
          1440,
          1299,
          1218,
          1185,
          1034,
          982,
          978
         ]
        }
       ],
       "layout": {
        "legend": {
         "bgcolor": "#FFFFFF",
         "font": {
          "color": "#666666"
         }
        },
        "paper_bgcolor": "#FFFFFF",
        "plot_bgcolor": "#E5E5E5",
        "template": {
         "data": {
          "bar": [
           {
            "error_x": {
             "color": "#2a3f5f"
            },
            "error_y": {
             "color": "#2a3f5f"
            },
            "marker": {
             "line": {
              "color": "#E5ECF6",
              "width": 0.5
             }
            },
            "type": "bar"
           }
          ],
          "barpolar": [
           {
            "marker": {
             "line": {
              "color": "#E5ECF6",
              "width": 0.5
             }
            },
            "type": "barpolar"
           }
          ],
          "carpet": [
           {
            "aaxis": {
             "endlinecolor": "#2a3f5f",
             "gridcolor": "white",
             "linecolor": "white",
             "minorgridcolor": "white",
             "startlinecolor": "#2a3f5f"
            },
            "baxis": {
             "endlinecolor": "#2a3f5f",
             "gridcolor": "white",
             "linecolor": "white",
             "minorgridcolor": "white",
             "startlinecolor": "#2a3f5f"
            },
            "type": "carpet"
           }
          ],
          "choropleth": [
           {
            "colorbar": {
             "outlinewidth": 0,
             "ticks": ""
            },
            "type": "choropleth"
           }
          ],
          "contour": [
           {
            "colorbar": {
             "outlinewidth": 0,
             "ticks": ""
            },
            "colorscale": [
             [
              0,
              "#0d0887"
             ],
             [
              0.1111111111111111,
              "#46039f"
             ],
             [
              0.2222222222222222,
              "#7201a8"
             ],
             [
              0.3333333333333333,
              "#9c179e"
             ],
             [
              0.4444444444444444,
              "#bd3786"
             ],
             [
              0.5555555555555556,
              "#d8576b"
             ],
             [
              0.6666666666666666,
              "#ed7953"
             ],
             [
              0.7777777777777778,
              "#fb9f3a"
             ],
             [
              0.8888888888888888,
              "#fdca26"
             ],
             [
              1,
              "#f0f921"
             ]
            ],
            "type": "contour"
           }
          ],
          "contourcarpet": [
           {
            "colorbar": {
             "outlinewidth": 0,
             "ticks": ""
            },
            "type": "contourcarpet"
           }
          ],
          "heatmap": [
           {
            "colorbar": {
             "outlinewidth": 0,
             "ticks": ""
            },
            "colorscale": [
             [
              0,
              "#0d0887"
             ],
             [
              0.1111111111111111,
              "#46039f"
             ],
             [
              0.2222222222222222,
              "#7201a8"
             ],
             [
              0.3333333333333333,
              "#9c179e"
             ],
             [
              0.4444444444444444,
              "#bd3786"
             ],
             [
              0.5555555555555556,
              "#d8576b"
             ],
             [
              0.6666666666666666,
              "#ed7953"
             ],
             [
              0.7777777777777778,
              "#fb9f3a"
             ],
             [
              0.8888888888888888,
              "#fdca26"
             ],
             [
              1,
              "#f0f921"
             ]
            ],
            "type": "heatmap"
           }
          ],
          "heatmapgl": [
           {
            "colorbar": {
             "outlinewidth": 0,
             "ticks": ""
            },
            "colorscale": [
             [
              0,
              "#0d0887"
             ],
             [
              0.1111111111111111,
              "#46039f"
             ],
             [
              0.2222222222222222,
              "#7201a8"
             ],
             [
              0.3333333333333333,
              "#9c179e"
             ],
             [
              0.4444444444444444,
              "#bd3786"
             ],
             [
              0.5555555555555556,
              "#d8576b"
             ],
             [
              0.6666666666666666,
              "#ed7953"
             ],
             [
              0.7777777777777778,
              "#fb9f3a"
             ],
             [
              0.8888888888888888,
              "#fdca26"
             ],
             [
              1,
              "#f0f921"
             ]
            ],
            "type": "heatmapgl"
           }
          ],
          "histogram": [
           {
            "marker": {
             "colorbar": {
              "outlinewidth": 0,
              "ticks": ""
             }
            },
            "type": "histogram"
           }
          ],
          "histogram2d": [
           {
            "colorbar": {
             "outlinewidth": 0,
             "ticks": ""
            },
            "colorscale": [
             [
              0,
              "#0d0887"
             ],
             [
              0.1111111111111111,
              "#46039f"
             ],
             [
              0.2222222222222222,
              "#7201a8"
             ],
             [
              0.3333333333333333,
              "#9c179e"
             ],
             [
              0.4444444444444444,
              "#bd3786"
             ],
             [
              0.5555555555555556,
              "#d8576b"
             ],
             [
              0.6666666666666666,
              "#ed7953"
             ],
             [
              0.7777777777777778,
              "#fb9f3a"
             ],
             [
              0.8888888888888888,
              "#fdca26"
             ],
             [
              1,
              "#f0f921"
             ]
            ],
            "type": "histogram2d"
           }
          ],
          "histogram2dcontour": [
           {
            "colorbar": {
             "outlinewidth": 0,
             "ticks": ""
            },
            "colorscale": [
             [
              0,
              "#0d0887"
             ],
             [
              0.1111111111111111,
              "#46039f"
             ],
             [
              0.2222222222222222,
              "#7201a8"
             ],
             [
              0.3333333333333333,
              "#9c179e"
             ],
             [
              0.4444444444444444,
              "#bd3786"
             ],
             [
              0.5555555555555556,
              "#d8576b"
             ],
             [
              0.6666666666666666,
              "#ed7953"
             ],
             [
              0.7777777777777778,
              "#fb9f3a"
             ],
             [
              0.8888888888888888,
              "#fdca26"
             ],
             [
              1,
              "#f0f921"
             ]
            ],
            "type": "histogram2dcontour"
           }
          ],
          "mesh3d": [
           {
            "colorbar": {
             "outlinewidth": 0,
             "ticks": ""
            },
            "type": "mesh3d"
           }
          ],
          "parcoords": [
           {
            "line": {
             "colorbar": {
              "outlinewidth": 0,
              "ticks": ""
             }
            },
            "type": "parcoords"
           }
          ],
          "scatter": [
           {
            "marker": {
             "colorbar": {
              "outlinewidth": 0,
              "ticks": ""
             }
            },
            "type": "scatter"
           }
          ],
          "scatter3d": [
           {
            "line": {
             "colorbar": {
              "outlinewidth": 0,
              "ticks": ""
             }
            },
            "marker": {
             "colorbar": {
              "outlinewidth": 0,
              "ticks": ""
             }
            },
            "type": "scatter3d"
           }
          ],
          "scattercarpet": [
           {
            "marker": {
             "colorbar": {
              "outlinewidth": 0,
              "ticks": ""
             }
            },
            "type": "scattercarpet"
           }
          ],
          "scattergeo": [
           {
            "marker": {
             "colorbar": {
              "outlinewidth": 0,
              "ticks": ""
             }
            },
            "type": "scattergeo"
           }
          ],
          "scattergl": [
           {
            "marker": {
             "colorbar": {
              "outlinewidth": 0,
              "ticks": ""
             }
            },
            "type": "scattergl"
           }
          ],
          "scattermapbox": [
           {
            "marker": {
             "colorbar": {
              "outlinewidth": 0,
              "ticks": ""
             }
            },
            "type": "scattermapbox"
           }
          ],
          "scatterpolar": [
           {
            "marker": {
             "colorbar": {
              "outlinewidth": 0,
              "ticks": ""
             }
            },
            "type": "scatterpolar"
           }
          ],
          "scatterpolargl": [
           {
            "marker": {
             "colorbar": {
              "outlinewidth": 0,
              "ticks": ""
             }
            },
            "type": "scatterpolargl"
           }
          ],
          "scatterternary": [
           {
            "marker": {
             "colorbar": {
              "outlinewidth": 0,
              "ticks": ""
             }
            },
            "type": "scatterternary"
           }
          ],
          "surface": [
           {
            "colorbar": {
             "outlinewidth": 0,
             "ticks": ""
            },
            "colorscale": [
             [
              0,
              "#0d0887"
             ],
             [
              0.1111111111111111,
              "#46039f"
             ],
             [
              0.2222222222222222,
              "#7201a8"
             ],
             [
              0.3333333333333333,
              "#9c179e"
             ],
             [
              0.4444444444444444,
              "#bd3786"
             ],
             [
              0.5555555555555556,
              "#d8576b"
             ],
             [
              0.6666666666666666,
              "#ed7953"
             ],
             [
              0.7777777777777778,
              "#fb9f3a"
             ],
             [
              0.8888888888888888,
              "#fdca26"
             ],
             [
              1,
              "#f0f921"
             ]
            ],
            "type": "surface"
           }
          ],
          "table": [
           {
            "cells": {
             "fill": {
              "color": "#EBF0F8"
             },
             "line": {
              "color": "white"
             }
            },
            "header": {
             "fill": {
              "color": "#C8D4E3"
             },
             "line": {
              "color": "white"
             }
            },
            "type": "table"
           }
          ]
         },
         "layout": {
          "annotationdefaults": {
           "arrowcolor": "#2a3f5f",
           "arrowhead": 0,
           "arrowwidth": 1
          },
          "colorscale": {
           "diverging": [
            [
             0,
             "#8e0152"
            ],
            [
             0.1,
             "#c51b7d"
            ],
            [
             0.2,
             "#de77ae"
            ],
            [
             0.3,
             "#f1b6da"
            ],
            [
             0.4,
             "#fde0ef"
            ],
            [
             0.5,
             "#f7f7f7"
            ],
            [
             0.6,
             "#e6f5d0"
            ],
            [
             0.7,
             "#b8e186"
            ],
            [
             0.8,
             "#7fbc41"
            ],
            [
             0.9,
             "#4d9221"
            ],
            [
             1,
             "#276419"
            ]
           ],
           "sequential": [
            [
             0,
             "#0d0887"
            ],
            [
             0.1111111111111111,
             "#46039f"
            ],
            [
             0.2222222222222222,
             "#7201a8"
            ],
            [
             0.3333333333333333,
             "#9c179e"
            ],
            [
             0.4444444444444444,
             "#bd3786"
            ],
            [
             0.5555555555555556,
             "#d8576b"
            ],
            [
             0.6666666666666666,
             "#ed7953"
            ],
            [
             0.7777777777777778,
             "#fb9f3a"
            ],
            [
             0.8888888888888888,
             "#fdca26"
            ],
            [
             1,
             "#f0f921"
            ]
           ],
           "sequentialminus": [
            [
             0,
             "#0d0887"
            ],
            [
             0.1111111111111111,
             "#46039f"
            ],
            [
             0.2222222222222222,
             "#7201a8"
            ],
            [
             0.3333333333333333,
             "#9c179e"
            ],
            [
             0.4444444444444444,
             "#bd3786"
            ],
            [
             0.5555555555555556,
             "#d8576b"
            ],
            [
             0.6666666666666666,
             "#ed7953"
            ],
            [
             0.7777777777777778,
             "#fb9f3a"
            ],
            [
             0.8888888888888888,
             "#fdca26"
            ],
            [
             1,
             "#f0f921"
            ]
           ]
          },
          "colorway": [
           "#636efa",
           "#EF553B",
           "#00cc96",
           "#ab63fa",
           "#FFA15A",
           "#19d3f3",
           "#FF6692",
           "#B6E880",
           "#FF97FF",
           "#FECB52"
          ],
          "font": {
           "color": "#2a3f5f"
          },
          "geo": {
           "bgcolor": "white",
           "lakecolor": "white",
           "landcolor": "#E5ECF6",
           "showlakes": true,
           "showland": true,
           "subunitcolor": "white"
          },
          "hoverlabel": {
           "align": "left"
          },
          "hovermode": "closest",
          "mapbox": {
           "style": "light"
          },
          "paper_bgcolor": "white",
          "plot_bgcolor": "#E5ECF6",
          "polar": {
           "angularaxis": {
            "gridcolor": "white",
            "linecolor": "white",
            "ticks": ""
           },
           "bgcolor": "#E5ECF6",
           "radialaxis": {
            "gridcolor": "white",
            "linecolor": "white",
            "ticks": ""
           }
          },
          "scene": {
           "xaxis": {
            "backgroundcolor": "#E5ECF6",
            "gridcolor": "white",
            "gridwidth": 2,
            "linecolor": "white",
            "showbackground": true,
            "ticks": "",
            "zerolinecolor": "white"
           },
           "yaxis": {
            "backgroundcolor": "#E5ECF6",
            "gridcolor": "white",
            "gridwidth": 2,
            "linecolor": "white",
            "showbackground": true,
            "ticks": "",
            "zerolinecolor": "white"
           },
           "zaxis": {
            "backgroundcolor": "#E5ECF6",
            "gridcolor": "white",
            "gridwidth": 2,
            "linecolor": "white",
            "showbackground": true,
            "ticks": "",
            "zerolinecolor": "white"
           }
          },
          "shapedefaults": {
           "line": {
            "color": "#2a3f5f"
           }
          },
          "ternary": {
           "aaxis": {
            "gridcolor": "white",
            "linecolor": "white",
            "ticks": ""
           },
           "baxis": {
            "gridcolor": "white",
            "linecolor": "white",
            "ticks": ""
           },
           "bgcolor": "#E5ECF6",
           "caxis": {
            "gridcolor": "white",
            "linecolor": "white",
            "ticks": ""
           }
          },
          "title": {
           "x": 0.05
          },
          "xaxis": {
           "automargin": true,
           "gridcolor": "white",
           "linecolor": "white",
           "ticks": "",
           "zerolinecolor": "white",
           "zerolinewidth": 2
          },
          "yaxis": {
           "automargin": true,
           "gridcolor": "white",
           "linecolor": "white",
           "ticks": "",
           "zerolinecolor": "white",
           "zerolinewidth": 2
          }
         }
        },
        "title": {
         "font": {
          "color": "#151516"
         },
         "text": "Top 20 bigrams After removing stop words"
        },
        "xaxis": {
         "gridcolor": "#F6F6F6",
         "linecolor": "black",
         "showgrid": true,
         "tickfont": {
          "color": "#666666"
         },
         "title": {
          "font": {
           "color": "#666666"
          },
          "text": ""
         },
         "zerolinecolor": "#F6F6F6"
        },
        "yaxis": {
         "gridcolor": "#F6F6F6",
         "linecolor": "black",
         "showgrid": true,
         "tickfont": {
          "color": "#666666"
         },
         "title": {
          "font": {
           "color": "#666666"
          },
          "text": "Count"
         },
         "zerolinecolor": "#F6F6F6"
        }
       }
      },
      "text/html": [
       "<div>\n",
       "        \n",
       "        \n",
       "            <div id=\"27705462-c450-4f84-b2dc-3556e6980ff3\" class=\"plotly-graph-div\" style=\"height:525px; width:100%;\"></div>\n",
       "            <script type=\"text/javascript\">\n",
       "                require([\"plotly\"], function(Plotly) {\n",
       "                    window.PLOTLYENV=window.PLOTLYENV || {};\n",
       "                    window.PLOTLYENV.BASE_URL='https://plot.ly';\n",
       "                    \n",
       "                if (document.getElementById(\"27705462-c450-4f84-b2dc-3556e6980ff3\")) {\n",
       "                    Plotly.newPlot(\n",
       "                        '27705462-c450-4f84-b2dc-3556e6980ff3',\n",
       "                        [{\"marker\": {\"color\": \"rgba(226, 74, 51, 0.6)\", \"line\": {\"color\": \"rgba(226, 74, 51, 1.0)\", \"width\": 1}}, \"name\": \"count\", \"orientation\": \"v\", \"text\": \"\", \"type\": \"bar\", \"x\": [\"dental implants\", \"bone implant\", \"peri implant\", \"implants placed\", \"implant contact\", \"implant placement\", \"bone formation\", \"titanium implants\", \"implant bone\", \"dental implant\", \"implant surface\", \"materials methods\", \"implant stability\", \"bone loss\", \"long term\", \"new bone\", \"soft tissue\", \"control group\", \"implant surfaces\", \"marginal bone\"], \"y\": [3820, 3686, 2889, 2603, 2176, 2153, 2125, 2013, 1905, 1732, 1668, 1608, 1469, 1440, 1299, 1218, 1185, 1034, 982, 978]}],\n",
       "                        {\"legend\": {\"bgcolor\": \"#FFFFFF\", \"font\": {\"color\": \"#666666\"}}, \"paper_bgcolor\": \"#FFFFFF\", \"plot_bgcolor\": \"#E5E5E5\", \"template\": {\"data\": {\"bar\": [{\"error_x\": {\"color\": \"#2a3f5f\"}, \"error_y\": {\"color\": \"#2a3f5f\"}, \"marker\": {\"line\": {\"color\": \"#E5ECF6\", \"width\": 0.5}}, \"type\": \"bar\"}], \"barpolar\": [{\"marker\": {\"line\": {\"color\": \"#E5ECF6\", \"width\": 0.5}}, \"type\": \"barpolar\"}], \"carpet\": [{\"aaxis\": {\"endlinecolor\": \"#2a3f5f\", \"gridcolor\": \"white\", \"linecolor\": \"white\", \"minorgridcolor\": \"white\", \"startlinecolor\": \"#2a3f5f\"}, \"baxis\": {\"endlinecolor\": \"#2a3f5f\", \"gridcolor\": \"white\", \"linecolor\": \"white\", \"minorgridcolor\": \"white\", \"startlinecolor\": \"#2a3f5f\"}, \"type\": \"carpet\"}], \"choropleth\": [{\"colorbar\": {\"outlinewidth\": 0, \"ticks\": \"\"}, \"type\": \"choropleth\"}], \"contour\": [{\"colorbar\": {\"outlinewidth\": 0, \"ticks\": \"\"}, \"colorscale\": [[0.0, \"#0d0887\"], [0.1111111111111111, \"#46039f\"], [0.2222222222222222, \"#7201a8\"], [0.3333333333333333, \"#9c179e\"], [0.4444444444444444, \"#bd3786\"], [0.5555555555555556, \"#d8576b\"], [0.6666666666666666, \"#ed7953\"], [0.7777777777777778, \"#fb9f3a\"], [0.8888888888888888, \"#fdca26\"], [1.0, \"#f0f921\"]], \"type\": \"contour\"}], \"contourcarpet\": [{\"colorbar\": {\"outlinewidth\": 0, \"ticks\": \"\"}, \"type\": \"contourcarpet\"}], \"heatmap\": [{\"colorbar\": {\"outlinewidth\": 0, \"ticks\": \"\"}, \"colorscale\": [[0.0, \"#0d0887\"], [0.1111111111111111, \"#46039f\"], [0.2222222222222222, \"#7201a8\"], [0.3333333333333333, \"#9c179e\"], [0.4444444444444444, \"#bd3786\"], [0.5555555555555556, \"#d8576b\"], [0.6666666666666666, \"#ed7953\"], [0.7777777777777778, \"#fb9f3a\"], [0.8888888888888888, \"#fdca26\"], [1.0, \"#f0f921\"]], \"type\": \"heatmap\"}], \"heatmapgl\": [{\"colorbar\": {\"outlinewidth\": 0, \"ticks\": \"\"}, \"colorscale\": [[0.0, \"#0d0887\"], [0.1111111111111111, \"#46039f\"], [0.2222222222222222, \"#7201a8\"], [0.3333333333333333, \"#9c179e\"], [0.4444444444444444, \"#bd3786\"], [0.5555555555555556, \"#d8576b\"], [0.6666666666666666, \"#ed7953\"], [0.7777777777777778, \"#fb9f3a\"], [0.8888888888888888, \"#fdca26\"], [1.0, \"#f0f921\"]], \"type\": \"heatmapgl\"}], \"histogram\": [{\"marker\": {\"colorbar\": {\"outlinewidth\": 0, \"ticks\": \"\"}}, \"type\": \"histogram\"}], \"histogram2d\": [{\"colorbar\": {\"outlinewidth\": 0, \"ticks\": \"\"}, \"colorscale\": [[0.0, \"#0d0887\"], [0.1111111111111111, \"#46039f\"], [0.2222222222222222, \"#7201a8\"], [0.3333333333333333, \"#9c179e\"], [0.4444444444444444, \"#bd3786\"], [0.5555555555555556, \"#d8576b\"], [0.6666666666666666, \"#ed7953\"], [0.7777777777777778, \"#fb9f3a\"], [0.8888888888888888, \"#fdca26\"], [1.0, \"#f0f921\"]], \"type\": \"histogram2d\"}], \"histogram2dcontour\": [{\"colorbar\": {\"outlinewidth\": 0, \"ticks\": \"\"}, \"colorscale\": [[0.0, \"#0d0887\"], [0.1111111111111111, \"#46039f\"], [0.2222222222222222, \"#7201a8\"], [0.3333333333333333, \"#9c179e\"], [0.4444444444444444, \"#bd3786\"], [0.5555555555555556, \"#d8576b\"], [0.6666666666666666, \"#ed7953\"], [0.7777777777777778, \"#fb9f3a\"], [0.8888888888888888, \"#fdca26\"], [1.0, \"#f0f921\"]], \"type\": \"histogram2dcontour\"}], \"mesh3d\": [{\"colorbar\": {\"outlinewidth\": 0, \"ticks\": \"\"}, \"type\": \"mesh3d\"}], \"parcoords\": [{\"line\": {\"colorbar\": {\"outlinewidth\": 0, \"ticks\": \"\"}}, \"type\": \"parcoords\"}], \"scatter\": [{\"marker\": {\"colorbar\": {\"outlinewidth\": 0, \"ticks\": \"\"}}, \"type\": \"scatter\"}], \"scatter3d\": [{\"line\": {\"colorbar\": {\"outlinewidth\": 0, \"ticks\": \"\"}}, \"marker\": {\"colorbar\": {\"outlinewidth\": 0, \"ticks\": \"\"}}, \"type\": \"scatter3d\"}], \"scattercarpet\": [{\"marker\": {\"colorbar\": {\"outlinewidth\": 0, \"ticks\": \"\"}}, \"type\": \"scattercarpet\"}], \"scattergeo\": [{\"marker\": {\"colorbar\": {\"outlinewidth\": 0, \"ticks\": \"\"}}, \"type\": \"scattergeo\"}], \"scattergl\": [{\"marker\": {\"colorbar\": {\"outlinewidth\": 0, \"ticks\": \"\"}}, \"type\": \"scattergl\"}], \"scattermapbox\": [{\"marker\": {\"colorbar\": {\"outlinewidth\": 0, \"ticks\": \"\"}}, \"type\": \"scattermapbox\"}], \"scatterpolar\": [{\"marker\": {\"colorbar\": {\"outlinewidth\": 0, \"ticks\": \"\"}}, \"type\": \"scatterpolar\"}], \"scatterpolargl\": [{\"marker\": {\"colorbar\": {\"outlinewidth\": 0, \"ticks\": \"\"}}, \"type\": \"scatterpolargl\"}], \"scatterternary\": [{\"marker\": {\"colorbar\": {\"outlinewidth\": 0, \"ticks\": \"\"}}, \"type\": \"scatterternary\"}], \"surface\": [{\"colorbar\": {\"outlinewidth\": 0, \"ticks\": \"\"}, \"colorscale\": [[0.0, \"#0d0887\"], [0.1111111111111111, \"#46039f\"], [0.2222222222222222, \"#7201a8\"], [0.3333333333333333, \"#9c179e\"], [0.4444444444444444, \"#bd3786\"], [0.5555555555555556, \"#d8576b\"], [0.6666666666666666, \"#ed7953\"], [0.7777777777777778, \"#fb9f3a\"], [0.8888888888888888, \"#fdca26\"], [1.0, \"#f0f921\"]], \"type\": \"surface\"}], \"table\": [{\"cells\": {\"fill\": {\"color\": \"#EBF0F8\"}, \"line\": {\"color\": \"white\"}}, \"header\": {\"fill\": {\"color\": \"#C8D4E3\"}, \"line\": {\"color\": \"white\"}}, \"type\": \"table\"}]}, \"layout\": {\"annotationdefaults\": {\"arrowcolor\": \"#2a3f5f\", \"arrowhead\": 0, \"arrowwidth\": 1}, \"colorscale\": {\"diverging\": [[0, \"#8e0152\"], [0.1, \"#c51b7d\"], [0.2, \"#de77ae\"], [0.3, \"#f1b6da\"], [0.4, \"#fde0ef\"], [0.5, \"#f7f7f7\"], [0.6, \"#e6f5d0\"], [0.7, \"#b8e186\"], [0.8, \"#7fbc41\"], [0.9, \"#4d9221\"], [1, \"#276419\"]], \"sequential\": [[0.0, \"#0d0887\"], [0.1111111111111111, \"#46039f\"], [0.2222222222222222, \"#7201a8\"], [0.3333333333333333, \"#9c179e\"], [0.4444444444444444, \"#bd3786\"], [0.5555555555555556, \"#d8576b\"], [0.6666666666666666, \"#ed7953\"], [0.7777777777777778, \"#fb9f3a\"], [0.8888888888888888, \"#fdca26\"], [1.0, \"#f0f921\"]], \"sequentialminus\": [[0.0, \"#0d0887\"], [0.1111111111111111, \"#46039f\"], [0.2222222222222222, \"#7201a8\"], [0.3333333333333333, \"#9c179e\"], [0.4444444444444444, \"#bd3786\"], [0.5555555555555556, \"#d8576b\"], [0.6666666666666666, \"#ed7953\"], [0.7777777777777778, \"#fb9f3a\"], [0.8888888888888888, \"#fdca26\"], [1.0, \"#f0f921\"]]}, \"colorway\": [\"#636efa\", \"#EF553B\", \"#00cc96\", \"#ab63fa\", \"#FFA15A\", \"#19d3f3\", \"#FF6692\", \"#B6E880\", \"#FF97FF\", \"#FECB52\"], \"font\": {\"color\": \"#2a3f5f\"}, \"geo\": {\"bgcolor\": \"white\", \"lakecolor\": \"white\", \"landcolor\": \"#E5ECF6\", \"showlakes\": true, \"showland\": true, \"subunitcolor\": \"white\"}, \"hoverlabel\": {\"align\": \"left\"}, \"hovermode\": \"closest\", \"mapbox\": {\"style\": \"light\"}, \"paper_bgcolor\": \"white\", \"plot_bgcolor\": \"#E5ECF6\", \"polar\": {\"angularaxis\": {\"gridcolor\": \"white\", \"linecolor\": \"white\", \"ticks\": \"\"}, \"bgcolor\": \"#E5ECF6\", \"radialaxis\": {\"gridcolor\": \"white\", \"linecolor\": \"white\", \"ticks\": \"\"}}, \"scene\": {\"xaxis\": {\"backgroundcolor\": \"#E5ECF6\", \"gridcolor\": \"white\", \"gridwidth\": 2, \"linecolor\": \"white\", \"showbackground\": true, \"ticks\": \"\", \"zerolinecolor\": \"white\"}, \"yaxis\": {\"backgroundcolor\": \"#E5ECF6\", \"gridcolor\": \"white\", \"gridwidth\": 2, \"linecolor\": \"white\", \"showbackground\": true, \"ticks\": \"\", \"zerolinecolor\": \"white\"}, \"zaxis\": {\"backgroundcolor\": \"#E5ECF6\", \"gridcolor\": \"white\", \"gridwidth\": 2, \"linecolor\": \"white\", \"showbackground\": true, \"ticks\": \"\", \"zerolinecolor\": \"white\"}}, \"shapedefaults\": {\"line\": {\"color\": \"#2a3f5f\"}}, \"ternary\": {\"aaxis\": {\"gridcolor\": \"white\", \"linecolor\": \"white\", \"ticks\": \"\"}, \"baxis\": {\"gridcolor\": \"white\", \"linecolor\": \"white\", \"ticks\": \"\"}, \"bgcolor\": \"#E5ECF6\", \"caxis\": {\"gridcolor\": \"white\", \"linecolor\": \"white\", \"ticks\": \"\"}}, \"title\": {\"x\": 0.05}, \"xaxis\": {\"automargin\": true, \"gridcolor\": \"white\", \"linecolor\": \"white\", \"ticks\": \"\", \"zerolinecolor\": \"white\", \"zerolinewidth\": 2}, \"yaxis\": {\"automargin\": true, \"gridcolor\": \"white\", \"linecolor\": \"white\", \"ticks\": \"\", \"zerolinecolor\": \"white\", \"zerolinewidth\": 2}}}, \"title\": {\"font\": {\"color\": \"#151516\"}, \"text\": \"Top 20 bigrams After removing stop words\"}, \"xaxis\": {\"gridcolor\": \"#F6F6F6\", \"linecolor\": \"black\", \"showgrid\": true, \"tickfont\": {\"color\": \"#666666\"}, \"title\": {\"font\": {\"color\": \"#666666\"}, \"text\": \"\"}, \"zerolinecolor\": \"#F6F6F6\"}, \"yaxis\": {\"gridcolor\": \"#F6F6F6\", \"linecolor\": \"black\", \"showgrid\": true, \"tickfont\": {\"color\": \"#666666\"}, \"title\": {\"font\": {\"color\": \"#666666\"}, \"text\": \"Count\"}, \"zerolinecolor\": \"#F6F6F6\"}},\n",
       "                        {\"showLink\": true, \"linkText\": \"Export to plot.ly\", \"plotlyServerURL\": \"https://plot.ly\", \"responsive\": true}\n",
       "                    ).then(function(){\n",
       "                            \n",
       "var gd = document.getElementById('27705462-c450-4f84-b2dc-3556e6980ff3');\n",
       "var x = new MutationObserver(function (mutations, observer) {{\n",
       "        var display = window.getComputedStyle(gd).display;\n",
       "        if (!display || display === 'none') {{\n",
       "            console.log([gd, 'removed!']);\n",
       "            Plotly.purge(gd);\n",
       "            observer.disconnect();\n",
       "        }}\n",
       "}});\n",
       "\n",
       "// Listen for the removal of the full notebook cells\n",
       "var notebookContainer = gd.closest('#notebook-container');\n",
       "if (notebookContainer) {{\n",
       "    x.observe(notebookContainer, {childList: true});\n",
       "}}\n",
       "\n",
       "// Listen for the clearing of the current output cell\n",
       "var outputEl = gd.closest('.output');\n",
       "if (outputEl) {{\n",
       "    x.observe(outputEl, {childList: true});\n",
       "}}\n",
       "\n",
       "                        })\n",
       "                };\n",
       "                });\n",
       "            </script>\n",
       "        </div>"
      ]
     },
     "metadata": {},
     "output_type": "display_data"
    }
   ],
   "source": [
    "def get_top_n_bigram(corpus, n=None):\n",
    "    vec = CountVectorizer(ngram_range=(2, 2), stop_words='english').fit(corpus)\n",
    "    bag_of_words = vec.transform(corpus)\n",
    "    sum_words = bag_of_words.sum(axis=0) \n",
    "    words_freq = [(word, sum_words[0, idx]) for word, idx in vec.vocabulary_.items()]\n",
    "    words_freq =sorted(words_freq, key = lambda x: x[1], reverse=True)\n",
    "    return words_freq[:n]\n",
    "common_words = get_top_n_bigram(df['abstractClean'], 20)\n",
    "df4 = pd.DataFrame(common_words, columns = ['abstractClean' , 'count'])\n",
    "df4.groupby('abstractClean').sum()['count'].sort_values(ascending=False).iplot(kind='bar', yTitle='Count', linecolor='black', title='Top 20 bigrams After removing stop words')"
   ]
  },
  {
   "cell_type": "markdown",
   "metadata": {},
   "source": [
    "### Trigrams Frequency Distribution Before Removing Stop Word"
   ]
  },
  {
   "cell_type": "code",
   "execution_count": 19,
   "metadata": {},
   "outputs": [
    {
     "data": {
      "application/vnd.plotly.v1+json": {
       "config": {
        "linkText": "Export to plot.ly",
        "plotlyServerURL": "https://plot.ly",
        "showLink": true
       },
       "data": [
        {
         "marker": {
          "color": "rgba(226, 74, 51, 0.6)",
          "line": {
           "color": "rgba(226, 74, 51, 1.0)",
           "width": 1
          }
         },
         "name": "count",
         "orientation": "v",
         "text": "",
         "type": "bar",
         "x": [
          "study was to",
          "of this study",
          "of the implant",
          "materials and methods",
          "this study was",
          "the aim of",
          "bone to implant",
          "to implant contact",
          "to evaluate the",
          "of dental implants",
          "the use of",
          "implants were placed",
          "aim of this",
          "peri implant bone",
          "the effect of",
          "were placed in",
          "of the implants",
          "bone implant contact",
          "the purpose of",
          "as well as"
         ],
         "y": [
          1941,
          1886,
          1655,
          1596,
          1511,
          1477,
          1364,
          1261,
          1224,
          1187,
          1137,
          1134,
          1108,
          1095,
          977,
          912,
          896,
          880,
          835,
          828
         ]
        }
       ],
       "layout": {
        "legend": {
         "bgcolor": "#FFFFFF",
         "font": {
          "color": "#666666"
         }
        },
        "paper_bgcolor": "#FFFFFF",
        "plot_bgcolor": "#E5E5E5",
        "template": {
         "data": {
          "bar": [
           {
            "error_x": {
             "color": "#2a3f5f"
            },
            "error_y": {
             "color": "#2a3f5f"
            },
            "marker": {
             "line": {
              "color": "#E5ECF6",
              "width": 0.5
             }
            },
            "type": "bar"
           }
          ],
          "barpolar": [
           {
            "marker": {
             "line": {
              "color": "#E5ECF6",
              "width": 0.5
             }
            },
            "type": "barpolar"
           }
          ],
          "carpet": [
           {
            "aaxis": {
             "endlinecolor": "#2a3f5f",
             "gridcolor": "white",
             "linecolor": "white",
             "minorgridcolor": "white",
             "startlinecolor": "#2a3f5f"
            },
            "baxis": {
             "endlinecolor": "#2a3f5f",
             "gridcolor": "white",
             "linecolor": "white",
             "minorgridcolor": "white",
             "startlinecolor": "#2a3f5f"
            },
            "type": "carpet"
           }
          ],
          "choropleth": [
           {
            "colorbar": {
             "outlinewidth": 0,
             "ticks": ""
            },
            "type": "choropleth"
           }
          ],
          "contour": [
           {
            "colorbar": {
             "outlinewidth": 0,
             "ticks": ""
            },
            "colorscale": [
             [
              0,
              "#0d0887"
             ],
             [
              0.1111111111111111,
              "#46039f"
             ],
             [
              0.2222222222222222,
              "#7201a8"
             ],
             [
              0.3333333333333333,
              "#9c179e"
             ],
             [
              0.4444444444444444,
              "#bd3786"
             ],
             [
              0.5555555555555556,
              "#d8576b"
             ],
             [
              0.6666666666666666,
              "#ed7953"
             ],
             [
              0.7777777777777778,
              "#fb9f3a"
             ],
             [
              0.8888888888888888,
              "#fdca26"
             ],
             [
              1,
              "#f0f921"
             ]
            ],
            "type": "contour"
           }
          ],
          "contourcarpet": [
           {
            "colorbar": {
             "outlinewidth": 0,
             "ticks": ""
            },
            "type": "contourcarpet"
           }
          ],
          "heatmap": [
           {
            "colorbar": {
             "outlinewidth": 0,
             "ticks": ""
            },
            "colorscale": [
             [
              0,
              "#0d0887"
             ],
             [
              0.1111111111111111,
              "#46039f"
             ],
             [
              0.2222222222222222,
              "#7201a8"
             ],
             [
              0.3333333333333333,
              "#9c179e"
             ],
             [
              0.4444444444444444,
              "#bd3786"
             ],
             [
              0.5555555555555556,
              "#d8576b"
             ],
             [
              0.6666666666666666,
              "#ed7953"
             ],
             [
              0.7777777777777778,
              "#fb9f3a"
             ],
             [
              0.8888888888888888,
              "#fdca26"
             ],
             [
              1,
              "#f0f921"
             ]
            ],
            "type": "heatmap"
           }
          ],
          "heatmapgl": [
           {
            "colorbar": {
             "outlinewidth": 0,
             "ticks": ""
            },
            "colorscale": [
             [
              0,
              "#0d0887"
             ],
             [
              0.1111111111111111,
              "#46039f"
             ],
             [
              0.2222222222222222,
              "#7201a8"
             ],
             [
              0.3333333333333333,
              "#9c179e"
             ],
             [
              0.4444444444444444,
              "#bd3786"
             ],
             [
              0.5555555555555556,
              "#d8576b"
             ],
             [
              0.6666666666666666,
              "#ed7953"
             ],
             [
              0.7777777777777778,
              "#fb9f3a"
             ],
             [
              0.8888888888888888,
              "#fdca26"
             ],
             [
              1,
              "#f0f921"
             ]
            ],
            "type": "heatmapgl"
           }
          ],
          "histogram": [
           {
            "marker": {
             "colorbar": {
              "outlinewidth": 0,
              "ticks": ""
             }
            },
            "type": "histogram"
           }
          ],
          "histogram2d": [
           {
            "colorbar": {
             "outlinewidth": 0,
             "ticks": ""
            },
            "colorscale": [
             [
              0,
              "#0d0887"
             ],
             [
              0.1111111111111111,
              "#46039f"
             ],
             [
              0.2222222222222222,
              "#7201a8"
             ],
             [
              0.3333333333333333,
              "#9c179e"
             ],
             [
              0.4444444444444444,
              "#bd3786"
             ],
             [
              0.5555555555555556,
              "#d8576b"
             ],
             [
              0.6666666666666666,
              "#ed7953"
             ],
             [
              0.7777777777777778,
              "#fb9f3a"
             ],
             [
              0.8888888888888888,
              "#fdca26"
             ],
             [
              1,
              "#f0f921"
             ]
            ],
            "type": "histogram2d"
           }
          ],
          "histogram2dcontour": [
           {
            "colorbar": {
             "outlinewidth": 0,
             "ticks": ""
            },
            "colorscale": [
             [
              0,
              "#0d0887"
             ],
             [
              0.1111111111111111,
              "#46039f"
             ],
             [
              0.2222222222222222,
              "#7201a8"
             ],
             [
              0.3333333333333333,
              "#9c179e"
             ],
             [
              0.4444444444444444,
              "#bd3786"
             ],
             [
              0.5555555555555556,
              "#d8576b"
             ],
             [
              0.6666666666666666,
              "#ed7953"
             ],
             [
              0.7777777777777778,
              "#fb9f3a"
             ],
             [
              0.8888888888888888,
              "#fdca26"
             ],
             [
              1,
              "#f0f921"
             ]
            ],
            "type": "histogram2dcontour"
           }
          ],
          "mesh3d": [
           {
            "colorbar": {
             "outlinewidth": 0,
             "ticks": ""
            },
            "type": "mesh3d"
           }
          ],
          "parcoords": [
           {
            "line": {
             "colorbar": {
              "outlinewidth": 0,
              "ticks": ""
             }
            },
            "type": "parcoords"
           }
          ],
          "scatter": [
           {
            "marker": {
             "colorbar": {
              "outlinewidth": 0,
              "ticks": ""
             }
            },
            "type": "scatter"
           }
          ],
          "scatter3d": [
           {
            "line": {
             "colorbar": {
              "outlinewidth": 0,
              "ticks": ""
             }
            },
            "marker": {
             "colorbar": {
              "outlinewidth": 0,
              "ticks": ""
             }
            },
            "type": "scatter3d"
           }
          ],
          "scattercarpet": [
           {
            "marker": {
             "colorbar": {
              "outlinewidth": 0,
              "ticks": ""
             }
            },
            "type": "scattercarpet"
           }
          ],
          "scattergeo": [
           {
            "marker": {
             "colorbar": {
              "outlinewidth": 0,
              "ticks": ""
             }
            },
            "type": "scattergeo"
           }
          ],
          "scattergl": [
           {
            "marker": {
             "colorbar": {
              "outlinewidth": 0,
              "ticks": ""
             }
            },
            "type": "scattergl"
           }
          ],
          "scattermapbox": [
           {
            "marker": {
             "colorbar": {
              "outlinewidth": 0,
              "ticks": ""
             }
            },
            "type": "scattermapbox"
           }
          ],
          "scatterpolar": [
           {
            "marker": {
             "colorbar": {
              "outlinewidth": 0,
              "ticks": ""
             }
            },
            "type": "scatterpolar"
           }
          ],
          "scatterpolargl": [
           {
            "marker": {
             "colorbar": {
              "outlinewidth": 0,
              "ticks": ""
             }
            },
            "type": "scatterpolargl"
           }
          ],
          "scatterternary": [
           {
            "marker": {
             "colorbar": {
              "outlinewidth": 0,
              "ticks": ""
             }
            },
            "type": "scatterternary"
           }
          ],
          "surface": [
           {
            "colorbar": {
             "outlinewidth": 0,
             "ticks": ""
            },
            "colorscale": [
             [
              0,
              "#0d0887"
             ],
             [
              0.1111111111111111,
              "#46039f"
             ],
             [
              0.2222222222222222,
              "#7201a8"
             ],
             [
              0.3333333333333333,
              "#9c179e"
             ],
             [
              0.4444444444444444,
              "#bd3786"
             ],
             [
              0.5555555555555556,
              "#d8576b"
             ],
             [
              0.6666666666666666,
              "#ed7953"
             ],
             [
              0.7777777777777778,
              "#fb9f3a"
             ],
             [
              0.8888888888888888,
              "#fdca26"
             ],
             [
              1,
              "#f0f921"
             ]
            ],
            "type": "surface"
           }
          ],
          "table": [
           {
            "cells": {
             "fill": {
              "color": "#EBF0F8"
             },
             "line": {
              "color": "white"
             }
            },
            "header": {
             "fill": {
              "color": "#C8D4E3"
             },
             "line": {
              "color": "white"
             }
            },
            "type": "table"
           }
          ]
         },
         "layout": {
          "annotationdefaults": {
           "arrowcolor": "#2a3f5f",
           "arrowhead": 0,
           "arrowwidth": 1
          },
          "colorscale": {
           "diverging": [
            [
             0,
             "#8e0152"
            ],
            [
             0.1,
             "#c51b7d"
            ],
            [
             0.2,
             "#de77ae"
            ],
            [
             0.3,
             "#f1b6da"
            ],
            [
             0.4,
             "#fde0ef"
            ],
            [
             0.5,
             "#f7f7f7"
            ],
            [
             0.6,
             "#e6f5d0"
            ],
            [
             0.7,
             "#b8e186"
            ],
            [
             0.8,
             "#7fbc41"
            ],
            [
             0.9,
             "#4d9221"
            ],
            [
             1,
             "#276419"
            ]
           ],
           "sequential": [
            [
             0,
             "#0d0887"
            ],
            [
             0.1111111111111111,
             "#46039f"
            ],
            [
             0.2222222222222222,
             "#7201a8"
            ],
            [
             0.3333333333333333,
             "#9c179e"
            ],
            [
             0.4444444444444444,
             "#bd3786"
            ],
            [
             0.5555555555555556,
             "#d8576b"
            ],
            [
             0.6666666666666666,
             "#ed7953"
            ],
            [
             0.7777777777777778,
             "#fb9f3a"
            ],
            [
             0.8888888888888888,
             "#fdca26"
            ],
            [
             1,
             "#f0f921"
            ]
           ],
           "sequentialminus": [
            [
             0,
             "#0d0887"
            ],
            [
             0.1111111111111111,
             "#46039f"
            ],
            [
             0.2222222222222222,
             "#7201a8"
            ],
            [
             0.3333333333333333,
             "#9c179e"
            ],
            [
             0.4444444444444444,
             "#bd3786"
            ],
            [
             0.5555555555555556,
             "#d8576b"
            ],
            [
             0.6666666666666666,
             "#ed7953"
            ],
            [
             0.7777777777777778,
             "#fb9f3a"
            ],
            [
             0.8888888888888888,
             "#fdca26"
            ],
            [
             1,
             "#f0f921"
            ]
           ]
          },
          "colorway": [
           "#636efa",
           "#EF553B",
           "#00cc96",
           "#ab63fa",
           "#FFA15A",
           "#19d3f3",
           "#FF6692",
           "#B6E880",
           "#FF97FF",
           "#FECB52"
          ],
          "font": {
           "color": "#2a3f5f"
          },
          "geo": {
           "bgcolor": "white",
           "lakecolor": "white",
           "landcolor": "#E5ECF6",
           "showlakes": true,
           "showland": true,
           "subunitcolor": "white"
          },
          "hoverlabel": {
           "align": "left"
          },
          "hovermode": "closest",
          "mapbox": {
           "style": "light"
          },
          "paper_bgcolor": "white",
          "plot_bgcolor": "#E5ECF6",
          "polar": {
           "angularaxis": {
            "gridcolor": "white",
            "linecolor": "white",
            "ticks": ""
           },
           "bgcolor": "#E5ECF6",
           "radialaxis": {
            "gridcolor": "white",
            "linecolor": "white",
            "ticks": ""
           }
          },
          "scene": {
           "xaxis": {
            "backgroundcolor": "#E5ECF6",
            "gridcolor": "white",
            "gridwidth": 2,
            "linecolor": "white",
            "showbackground": true,
            "ticks": "",
            "zerolinecolor": "white"
           },
           "yaxis": {
            "backgroundcolor": "#E5ECF6",
            "gridcolor": "white",
            "gridwidth": 2,
            "linecolor": "white",
            "showbackground": true,
            "ticks": "",
            "zerolinecolor": "white"
           },
           "zaxis": {
            "backgroundcolor": "#E5ECF6",
            "gridcolor": "white",
            "gridwidth": 2,
            "linecolor": "white",
            "showbackground": true,
            "ticks": "",
            "zerolinecolor": "white"
           }
          },
          "shapedefaults": {
           "line": {
            "color": "#2a3f5f"
           }
          },
          "ternary": {
           "aaxis": {
            "gridcolor": "white",
            "linecolor": "white",
            "ticks": ""
           },
           "baxis": {
            "gridcolor": "white",
            "linecolor": "white",
            "ticks": ""
           },
           "bgcolor": "#E5ECF6",
           "caxis": {
            "gridcolor": "white",
            "linecolor": "white",
            "ticks": ""
           }
          },
          "title": {
           "x": 0.05
          },
          "xaxis": {
           "automargin": true,
           "gridcolor": "white",
           "linecolor": "white",
           "ticks": "",
           "zerolinecolor": "white",
           "zerolinewidth": 2
          },
          "yaxis": {
           "automargin": true,
           "gridcolor": "white",
           "linecolor": "white",
           "ticks": "",
           "zerolinecolor": "white",
           "zerolinewidth": 2
          }
         }
        },
        "title": {
         "font": {
          "color": "#151516"
         },
         "text": "Top 20 trigrams before removing stop words"
        },
        "xaxis": {
         "gridcolor": "#F6F6F6",
         "linecolor": "black",
         "showgrid": true,
         "tickfont": {
          "color": "#666666"
         },
         "title": {
          "font": {
           "color": "#666666"
          },
          "text": ""
         },
         "zerolinecolor": "#F6F6F6"
        },
        "yaxis": {
         "gridcolor": "#F6F6F6",
         "linecolor": "black",
         "showgrid": true,
         "tickfont": {
          "color": "#666666"
         },
         "title": {
          "font": {
           "color": "#666666"
          },
          "text": "Count"
         },
         "zerolinecolor": "#F6F6F6"
        }
       }
      },
      "text/html": [
       "<div>\n",
       "        \n",
       "        \n",
       "            <div id=\"6c7e1465-94ee-4f36-b031-0a8e27ed9e30\" class=\"plotly-graph-div\" style=\"height:525px; width:100%;\"></div>\n",
       "            <script type=\"text/javascript\">\n",
       "                require([\"plotly\"], function(Plotly) {\n",
       "                    window.PLOTLYENV=window.PLOTLYENV || {};\n",
       "                    window.PLOTLYENV.BASE_URL='https://plot.ly';\n",
       "                    \n",
       "                if (document.getElementById(\"6c7e1465-94ee-4f36-b031-0a8e27ed9e30\")) {\n",
       "                    Plotly.newPlot(\n",
       "                        '6c7e1465-94ee-4f36-b031-0a8e27ed9e30',\n",
       "                        [{\"marker\": {\"color\": \"rgba(226, 74, 51, 0.6)\", \"line\": {\"color\": \"rgba(226, 74, 51, 1.0)\", \"width\": 1}}, \"name\": \"count\", \"orientation\": \"v\", \"text\": \"\", \"type\": \"bar\", \"x\": [\"study was to\", \"of this study\", \"of the implant\", \"materials and methods\", \"this study was\", \"the aim of\", \"bone to implant\", \"to implant contact\", \"to evaluate the\", \"of dental implants\", \"the use of\", \"implants were placed\", \"aim of this\", \"peri implant bone\", \"the effect of\", \"were placed in\", \"of the implants\", \"bone implant contact\", \"the purpose of\", \"as well as\"], \"y\": [1941, 1886, 1655, 1596, 1511, 1477, 1364, 1261, 1224, 1187, 1137, 1134, 1108, 1095, 977, 912, 896, 880, 835, 828]}],\n",
       "                        {\"legend\": {\"bgcolor\": \"#FFFFFF\", \"font\": {\"color\": \"#666666\"}}, \"paper_bgcolor\": \"#FFFFFF\", \"plot_bgcolor\": \"#E5E5E5\", \"template\": {\"data\": {\"bar\": [{\"error_x\": {\"color\": \"#2a3f5f\"}, \"error_y\": {\"color\": \"#2a3f5f\"}, \"marker\": {\"line\": {\"color\": \"#E5ECF6\", \"width\": 0.5}}, \"type\": \"bar\"}], \"barpolar\": [{\"marker\": {\"line\": {\"color\": \"#E5ECF6\", \"width\": 0.5}}, \"type\": \"barpolar\"}], \"carpet\": [{\"aaxis\": {\"endlinecolor\": \"#2a3f5f\", \"gridcolor\": \"white\", \"linecolor\": \"white\", \"minorgridcolor\": \"white\", \"startlinecolor\": \"#2a3f5f\"}, \"baxis\": {\"endlinecolor\": \"#2a3f5f\", \"gridcolor\": \"white\", \"linecolor\": \"white\", \"minorgridcolor\": \"white\", \"startlinecolor\": \"#2a3f5f\"}, \"type\": \"carpet\"}], \"choropleth\": [{\"colorbar\": {\"outlinewidth\": 0, \"ticks\": \"\"}, \"type\": \"choropleth\"}], \"contour\": [{\"colorbar\": {\"outlinewidth\": 0, \"ticks\": \"\"}, \"colorscale\": [[0.0, \"#0d0887\"], [0.1111111111111111, \"#46039f\"], [0.2222222222222222, \"#7201a8\"], [0.3333333333333333, \"#9c179e\"], [0.4444444444444444, \"#bd3786\"], [0.5555555555555556, \"#d8576b\"], [0.6666666666666666, \"#ed7953\"], [0.7777777777777778, \"#fb9f3a\"], [0.8888888888888888, \"#fdca26\"], [1.0, \"#f0f921\"]], \"type\": \"contour\"}], \"contourcarpet\": [{\"colorbar\": {\"outlinewidth\": 0, \"ticks\": \"\"}, \"type\": \"contourcarpet\"}], \"heatmap\": [{\"colorbar\": {\"outlinewidth\": 0, \"ticks\": \"\"}, \"colorscale\": [[0.0, \"#0d0887\"], [0.1111111111111111, \"#46039f\"], [0.2222222222222222, \"#7201a8\"], [0.3333333333333333, \"#9c179e\"], [0.4444444444444444, \"#bd3786\"], [0.5555555555555556, \"#d8576b\"], [0.6666666666666666, \"#ed7953\"], [0.7777777777777778, \"#fb9f3a\"], [0.8888888888888888, \"#fdca26\"], [1.0, \"#f0f921\"]], \"type\": \"heatmap\"}], \"heatmapgl\": [{\"colorbar\": {\"outlinewidth\": 0, \"ticks\": \"\"}, \"colorscale\": [[0.0, \"#0d0887\"], [0.1111111111111111, \"#46039f\"], [0.2222222222222222, \"#7201a8\"], [0.3333333333333333, \"#9c179e\"], [0.4444444444444444, \"#bd3786\"], [0.5555555555555556, \"#d8576b\"], [0.6666666666666666, \"#ed7953\"], [0.7777777777777778, \"#fb9f3a\"], [0.8888888888888888, \"#fdca26\"], [1.0, \"#f0f921\"]], \"type\": \"heatmapgl\"}], \"histogram\": [{\"marker\": {\"colorbar\": {\"outlinewidth\": 0, \"ticks\": \"\"}}, \"type\": \"histogram\"}], \"histogram2d\": [{\"colorbar\": {\"outlinewidth\": 0, \"ticks\": \"\"}, \"colorscale\": [[0.0, \"#0d0887\"], [0.1111111111111111, \"#46039f\"], [0.2222222222222222, \"#7201a8\"], [0.3333333333333333, \"#9c179e\"], [0.4444444444444444, \"#bd3786\"], [0.5555555555555556, \"#d8576b\"], [0.6666666666666666, \"#ed7953\"], [0.7777777777777778, \"#fb9f3a\"], [0.8888888888888888, \"#fdca26\"], [1.0, \"#f0f921\"]], \"type\": \"histogram2d\"}], \"histogram2dcontour\": [{\"colorbar\": {\"outlinewidth\": 0, \"ticks\": \"\"}, \"colorscale\": [[0.0, \"#0d0887\"], [0.1111111111111111, \"#46039f\"], [0.2222222222222222, \"#7201a8\"], [0.3333333333333333, \"#9c179e\"], [0.4444444444444444, \"#bd3786\"], [0.5555555555555556, \"#d8576b\"], [0.6666666666666666, \"#ed7953\"], [0.7777777777777778, \"#fb9f3a\"], [0.8888888888888888, \"#fdca26\"], [1.0, \"#f0f921\"]], \"type\": \"histogram2dcontour\"}], \"mesh3d\": [{\"colorbar\": {\"outlinewidth\": 0, \"ticks\": \"\"}, \"type\": \"mesh3d\"}], \"parcoords\": [{\"line\": {\"colorbar\": {\"outlinewidth\": 0, \"ticks\": \"\"}}, \"type\": \"parcoords\"}], \"scatter\": [{\"marker\": {\"colorbar\": {\"outlinewidth\": 0, \"ticks\": \"\"}}, \"type\": \"scatter\"}], \"scatter3d\": [{\"line\": {\"colorbar\": {\"outlinewidth\": 0, \"ticks\": \"\"}}, \"marker\": {\"colorbar\": {\"outlinewidth\": 0, \"ticks\": \"\"}}, \"type\": \"scatter3d\"}], \"scattercarpet\": [{\"marker\": {\"colorbar\": {\"outlinewidth\": 0, \"ticks\": \"\"}}, \"type\": \"scattercarpet\"}], \"scattergeo\": [{\"marker\": {\"colorbar\": {\"outlinewidth\": 0, \"ticks\": \"\"}}, \"type\": \"scattergeo\"}], \"scattergl\": [{\"marker\": {\"colorbar\": {\"outlinewidth\": 0, \"ticks\": \"\"}}, \"type\": \"scattergl\"}], \"scattermapbox\": [{\"marker\": {\"colorbar\": {\"outlinewidth\": 0, \"ticks\": \"\"}}, \"type\": \"scattermapbox\"}], \"scatterpolar\": [{\"marker\": {\"colorbar\": {\"outlinewidth\": 0, \"ticks\": \"\"}}, \"type\": \"scatterpolar\"}], \"scatterpolargl\": [{\"marker\": {\"colorbar\": {\"outlinewidth\": 0, \"ticks\": \"\"}}, \"type\": \"scatterpolargl\"}], \"scatterternary\": [{\"marker\": {\"colorbar\": {\"outlinewidth\": 0, \"ticks\": \"\"}}, \"type\": \"scatterternary\"}], \"surface\": [{\"colorbar\": {\"outlinewidth\": 0, \"ticks\": \"\"}, \"colorscale\": [[0.0, \"#0d0887\"], [0.1111111111111111, \"#46039f\"], [0.2222222222222222, \"#7201a8\"], [0.3333333333333333, \"#9c179e\"], [0.4444444444444444, \"#bd3786\"], [0.5555555555555556, \"#d8576b\"], [0.6666666666666666, \"#ed7953\"], [0.7777777777777778, \"#fb9f3a\"], [0.8888888888888888, \"#fdca26\"], [1.0, \"#f0f921\"]], \"type\": \"surface\"}], \"table\": [{\"cells\": {\"fill\": {\"color\": \"#EBF0F8\"}, \"line\": {\"color\": \"white\"}}, \"header\": {\"fill\": {\"color\": \"#C8D4E3\"}, \"line\": {\"color\": \"white\"}}, \"type\": \"table\"}]}, \"layout\": {\"annotationdefaults\": {\"arrowcolor\": \"#2a3f5f\", \"arrowhead\": 0, \"arrowwidth\": 1}, \"colorscale\": {\"diverging\": [[0, \"#8e0152\"], [0.1, \"#c51b7d\"], [0.2, \"#de77ae\"], [0.3, \"#f1b6da\"], [0.4, \"#fde0ef\"], [0.5, \"#f7f7f7\"], [0.6, \"#e6f5d0\"], [0.7, \"#b8e186\"], [0.8, \"#7fbc41\"], [0.9, \"#4d9221\"], [1, \"#276419\"]], \"sequential\": [[0.0, \"#0d0887\"], [0.1111111111111111, \"#46039f\"], [0.2222222222222222, \"#7201a8\"], [0.3333333333333333, \"#9c179e\"], [0.4444444444444444, \"#bd3786\"], [0.5555555555555556, \"#d8576b\"], [0.6666666666666666, \"#ed7953\"], [0.7777777777777778, \"#fb9f3a\"], [0.8888888888888888, \"#fdca26\"], [1.0, \"#f0f921\"]], \"sequentialminus\": [[0.0, \"#0d0887\"], [0.1111111111111111, \"#46039f\"], [0.2222222222222222, \"#7201a8\"], [0.3333333333333333, \"#9c179e\"], [0.4444444444444444, \"#bd3786\"], [0.5555555555555556, \"#d8576b\"], [0.6666666666666666, \"#ed7953\"], [0.7777777777777778, \"#fb9f3a\"], [0.8888888888888888, \"#fdca26\"], [1.0, \"#f0f921\"]]}, \"colorway\": [\"#636efa\", \"#EF553B\", \"#00cc96\", \"#ab63fa\", \"#FFA15A\", \"#19d3f3\", \"#FF6692\", \"#B6E880\", \"#FF97FF\", \"#FECB52\"], \"font\": {\"color\": \"#2a3f5f\"}, \"geo\": {\"bgcolor\": \"white\", \"lakecolor\": \"white\", \"landcolor\": \"#E5ECF6\", \"showlakes\": true, \"showland\": true, \"subunitcolor\": \"white\"}, \"hoverlabel\": {\"align\": \"left\"}, \"hovermode\": \"closest\", \"mapbox\": {\"style\": \"light\"}, \"paper_bgcolor\": \"white\", \"plot_bgcolor\": \"#E5ECF6\", \"polar\": {\"angularaxis\": {\"gridcolor\": \"white\", \"linecolor\": \"white\", \"ticks\": \"\"}, \"bgcolor\": \"#E5ECF6\", \"radialaxis\": {\"gridcolor\": \"white\", \"linecolor\": \"white\", \"ticks\": \"\"}}, \"scene\": {\"xaxis\": {\"backgroundcolor\": \"#E5ECF6\", \"gridcolor\": \"white\", \"gridwidth\": 2, \"linecolor\": \"white\", \"showbackground\": true, \"ticks\": \"\", \"zerolinecolor\": \"white\"}, \"yaxis\": {\"backgroundcolor\": \"#E5ECF6\", \"gridcolor\": \"white\", \"gridwidth\": 2, \"linecolor\": \"white\", \"showbackground\": true, \"ticks\": \"\", \"zerolinecolor\": \"white\"}, \"zaxis\": {\"backgroundcolor\": \"#E5ECF6\", \"gridcolor\": \"white\", \"gridwidth\": 2, \"linecolor\": \"white\", \"showbackground\": true, \"ticks\": \"\", \"zerolinecolor\": \"white\"}}, \"shapedefaults\": {\"line\": {\"color\": \"#2a3f5f\"}}, \"ternary\": {\"aaxis\": {\"gridcolor\": \"white\", \"linecolor\": \"white\", \"ticks\": \"\"}, \"baxis\": {\"gridcolor\": \"white\", \"linecolor\": \"white\", \"ticks\": \"\"}, \"bgcolor\": \"#E5ECF6\", \"caxis\": {\"gridcolor\": \"white\", \"linecolor\": \"white\", \"ticks\": \"\"}}, \"title\": {\"x\": 0.05}, \"xaxis\": {\"automargin\": true, \"gridcolor\": \"white\", \"linecolor\": \"white\", \"ticks\": \"\", \"zerolinecolor\": \"white\", \"zerolinewidth\": 2}, \"yaxis\": {\"automargin\": true, \"gridcolor\": \"white\", \"linecolor\": \"white\", \"ticks\": \"\", \"zerolinecolor\": \"white\", \"zerolinewidth\": 2}}}, \"title\": {\"font\": {\"color\": \"#151516\"}, \"text\": \"Top 20 trigrams before removing stop words\"}, \"xaxis\": {\"gridcolor\": \"#F6F6F6\", \"linecolor\": \"black\", \"showgrid\": true, \"tickfont\": {\"color\": \"#666666\"}, \"title\": {\"font\": {\"color\": \"#666666\"}, \"text\": \"\"}, \"zerolinecolor\": \"#F6F6F6\"}, \"yaxis\": {\"gridcolor\": \"#F6F6F6\", \"linecolor\": \"black\", \"showgrid\": true, \"tickfont\": {\"color\": \"#666666\"}, \"title\": {\"font\": {\"color\": \"#666666\"}, \"text\": \"Count\"}, \"zerolinecolor\": \"#F6F6F6\"}},\n",
       "                        {\"showLink\": true, \"linkText\": \"Export to plot.ly\", \"plotlyServerURL\": \"https://plot.ly\", \"responsive\": true}\n",
       "                    ).then(function(){\n",
       "                            \n",
       "var gd = document.getElementById('6c7e1465-94ee-4f36-b031-0a8e27ed9e30');\n",
       "var x = new MutationObserver(function (mutations, observer) {{\n",
       "        var display = window.getComputedStyle(gd).display;\n",
       "        if (!display || display === 'none') {{\n",
       "            console.log([gd, 'removed!']);\n",
       "            Plotly.purge(gd);\n",
       "            observer.disconnect();\n",
       "        }}\n",
       "}});\n",
       "\n",
       "// Listen for the removal of the full notebook cells\n",
       "var notebookContainer = gd.closest('#notebook-container');\n",
       "if (notebookContainer) {{\n",
       "    x.observe(notebookContainer, {childList: true});\n",
       "}}\n",
       "\n",
       "// Listen for the clearing of the current output cell\n",
       "var outputEl = gd.closest('.output');\n",
       "if (outputEl) {{\n",
       "    x.observe(outputEl, {childList: true});\n",
       "}}\n",
       "\n",
       "                        })\n",
       "                };\n",
       "                });\n",
       "            </script>\n",
       "        </div>"
      ]
     },
     "metadata": {},
     "output_type": "display_data"
    }
   ],
   "source": [
    "def get_top_n_trigram(corpus, n=None):\n",
    "    vec = CountVectorizer(ngram_range=(3, 3)).fit(corpus)\n",
    "    bag_of_words = vec.transform(corpus)\n",
    "    sum_words = bag_of_words.sum(axis=0) \n",
    "    words_freq = [(word, sum_words[0, idx]) for word, idx in vec.vocabulary_.items()]\n",
    "    words_freq =sorted(words_freq, key = lambda x: x[1], reverse=True)\n",
    "    return words_freq[:n]\n",
    "common_words = get_top_n_trigram(df['abstractClean'], 20)\n",
    "df5 = pd.DataFrame(common_words, columns = ['abstractClean' , 'count'])\n",
    "df5.groupby('abstractClean').sum()['count'].sort_values(ascending=False).iplot(kind='bar', yTitle='Count', linecolor='black', title='Top 20 trigrams before removing stop words')"
   ]
  },
  {
   "cell_type": "code",
   "execution_count": 20,
   "metadata": {},
   "outputs": [
    {
     "data": {
      "application/vnd.plotly.v1+json": {
       "config": {
        "linkText": "Export to plot.ly",
        "plotlyServerURL": "https://plot.ly",
        "showLink": true
       },
       "data": [
        {
         "marker": {
          "color": "rgba(226, 74, 51, 0.6)",
          "line": {
           "color": "rgba(226, 74, 51, 1.0)",
           "width": 1
          }
         },
         "name": "count",
         "orientation": "v",
         "text": "",
         "type": "bar",
         "x": [
          "bone implant contact",
          "peri implant bone",
          "john wiley sons",
          "bone implant interface",
          "new bone formation",
          "implant contact bic",
          "scanning electron microscopy",
          "resonance frequency analysis",
          "newly formed bone",
          "marginal bone loss",
          "implant stability quotient",
          "aim study evaluate",
          "osseointegration dental implants",
          "bone morphogenetic protein",
          "statistically significant differences",
          "dental implants placed",
          "wiley sons published",
          "published john wiley",
          "guided bone regeneration",
          "sandblasted acid etched"
         ],
         "y": [
          2129,
          1095,
          720,
          671,
          590,
          577,
          510,
          483,
          416,
          389,
          308,
          299,
          299,
          294,
          288,
          259,
          251,
          246,
          234,
          232
         ]
        }
       ],
       "layout": {
        "legend": {
         "bgcolor": "#FFFFFF",
         "font": {
          "color": "#666666"
         }
        },
        "paper_bgcolor": "#FFFFFF",
        "plot_bgcolor": "#E5E5E5",
        "template": {
         "data": {
          "bar": [
           {
            "error_x": {
             "color": "#2a3f5f"
            },
            "error_y": {
             "color": "#2a3f5f"
            },
            "marker": {
             "line": {
              "color": "#E5ECF6",
              "width": 0.5
             }
            },
            "type": "bar"
           }
          ],
          "barpolar": [
           {
            "marker": {
             "line": {
              "color": "#E5ECF6",
              "width": 0.5
             }
            },
            "type": "barpolar"
           }
          ],
          "carpet": [
           {
            "aaxis": {
             "endlinecolor": "#2a3f5f",
             "gridcolor": "white",
             "linecolor": "white",
             "minorgridcolor": "white",
             "startlinecolor": "#2a3f5f"
            },
            "baxis": {
             "endlinecolor": "#2a3f5f",
             "gridcolor": "white",
             "linecolor": "white",
             "minorgridcolor": "white",
             "startlinecolor": "#2a3f5f"
            },
            "type": "carpet"
           }
          ],
          "choropleth": [
           {
            "colorbar": {
             "outlinewidth": 0,
             "ticks": ""
            },
            "type": "choropleth"
           }
          ],
          "contour": [
           {
            "colorbar": {
             "outlinewidth": 0,
             "ticks": ""
            },
            "colorscale": [
             [
              0,
              "#0d0887"
             ],
             [
              0.1111111111111111,
              "#46039f"
             ],
             [
              0.2222222222222222,
              "#7201a8"
             ],
             [
              0.3333333333333333,
              "#9c179e"
             ],
             [
              0.4444444444444444,
              "#bd3786"
             ],
             [
              0.5555555555555556,
              "#d8576b"
             ],
             [
              0.6666666666666666,
              "#ed7953"
             ],
             [
              0.7777777777777778,
              "#fb9f3a"
             ],
             [
              0.8888888888888888,
              "#fdca26"
             ],
             [
              1,
              "#f0f921"
             ]
            ],
            "type": "contour"
           }
          ],
          "contourcarpet": [
           {
            "colorbar": {
             "outlinewidth": 0,
             "ticks": ""
            },
            "type": "contourcarpet"
           }
          ],
          "heatmap": [
           {
            "colorbar": {
             "outlinewidth": 0,
             "ticks": ""
            },
            "colorscale": [
             [
              0,
              "#0d0887"
             ],
             [
              0.1111111111111111,
              "#46039f"
             ],
             [
              0.2222222222222222,
              "#7201a8"
             ],
             [
              0.3333333333333333,
              "#9c179e"
             ],
             [
              0.4444444444444444,
              "#bd3786"
             ],
             [
              0.5555555555555556,
              "#d8576b"
             ],
             [
              0.6666666666666666,
              "#ed7953"
             ],
             [
              0.7777777777777778,
              "#fb9f3a"
             ],
             [
              0.8888888888888888,
              "#fdca26"
             ],
             [
              1,
              "#f0f921"
             ]
            ],
            "type": "heatmap"
           }
          ],
          "heatmapgl": [
           {
            "colorbar": {
             "outlinewidth": 0,
             "ticks": ""
            },
            "colorscale": [
             [
              0,
              "#0d0887"
             ],
             [
              0.1111111111111111,
              "#46039f"
             ],
             [
              0.2222222222222222,
              "#7201a8"
             ],
             [
              0.3333333333333333,
              "#9c179e"
             ],
             [
              0.4444444444444444,
              "#bd3786"
             ],
             [
              0.5555555555555556,
              "#d8576b"
             ],
             [
              0.6666666666666666,
              "#ed7953"
             ],
             [
              0.7777777777777778,
              "#fb9f3a"
             ],
             [
              0.8888888888888888,
              "#fdca26"
             ],
             [
              1,
              "#f0f921"
             ]
            ],
            "type": "heatmapgl"
           }
          ],
          "histogram": [
           {
            "marker": {
             "colorbar": {
              "outlinewidth": 0,
              "ticks": ""
             }
            },
            "type": "histogram"
           }
          ],
          "histogram2d": [
           {
            "colorbar": {
             "outlinewidth": 0,
             "ticks": ""
            },
            "colorscale": [
             [
              0,
              "#0d0887"
             ],
             [
              0.1111111111111111,
              "#46039f"
             ],
             [
              0.2222222222222222,
              "#7201a8"
             ],
             [
              0.3333333333333333,
              "#9c179e"
             ],
             [
              0.4444444444444444,
              "#bd3786"
             ],
             [
              0.5555555555555556,
              "#d8576b"
             ],
             [
              0.6666666666666666,
              "#ed7953"
             ],
             [
              0.7777777777777778,
              "#fb9f3a"
             ],
             [
              0.8888888888888888,
              "#fdca26"
             ],
             [
              1,
              "#f0f921"
             ]
            ],
            "type": "histogram2d"
           }
          ],
          "histogram2dcontour": [
           {
            "colorbar": {
             "outlinewidth": 0,
             "ticks": ""
            },
            "colorscale": [
             [
              0,
              "#0d0887"
             ],
             [
              0.1111111111111111,
              "#46039f"
             ],
             [
              0.2222222222222222,
              "#7201a8"
             ],
             [
              0.3333333333333333,
              "#9c179e"
             ],
             [
              0.4444444444444444,
              "#bd3786"
             ],
             [
              0.5555555555555556,
              "#d8576b"
             ],
             [
              0.6666666666666666,
              "#ed7953"
             ],
             [
              0.7777777777777778,
              "#fb9f3a"
             ],
             [
              0.8888888888888888,
              "#fdca26"
             ],
             [
              1,
              "#f0f921"
             ]
            ],
            "type": "histogram2dcontour"
           }
          ],
          "mesh3d": [
           {
            "colorbar": {
             "outlinewidth": 0,
             "ticks": ""
            },
            "type": "mesh3d"
           }
          ],
          "parcoords": [
           {
            "line": {
             "colorbar": {
              "outlinewidth": 0,
              "ticks": ""
             }
            },
            "type": "parcoords"
           }
          ],
          "scatter": [
           {
            "marker": {
             "colorbar": {
              "outlinewidth": 0,
              "ticks": ""
             }
            },
            "type": "scatter"
           }
          ],
          "scatter3d": [
           {
            "line": {
             "colorbar": {
              "outlinewidth": 0,
              "ticks": ""
             }
            },
            "marker": {
             "colorbar": {
              "outlinewidth": 0,
              "ticks": ""
             }
            },
            "type": "scatter3d"
           }
          ],
          "scattercarpet": [
           {
            "marker": {
             "colorbar": {
              "outlinewidth": 0,
              "ticks": ""
             }
            },
            "type": "scattercarpet"
           }
          ],
          "scattergeo": [
           {
            "marker": {
             "colorbar": {
              "outlinewidth": 0,
              "ticks": ""
             }
            },
            "type": "scattergeo"
           }
          ],
          "scattergl": [
           {
            "marker": {
             "colorbar": {
              "outlinewidth": 0,
              "ticks": ""
             }
            },
            "type": "scattergl"
           }
          ],
          "scattermapbox": [
           {
            "marker": {
             "colorbar": {
              "outlinewidth": 0,
              "ticks": ""
             }
            },
            "type": "scattermapbox"
           }
          ],
          "scatterpolar": [
           {
            "marker": {
             "colorbar": {
              "outlinewidth": 0,
              "ticks": ""
             }
            },
            "type": "scatterpolar"
           }
          ],
          "scatterpolargl": [
           {
            "marker": {
             "colorbar": {
              "outlinewidth": 0,
              "ticks": ""
             }
            },
            "type": "scatterpolargl"
           }
          ],
          "scatterternary": [
           {
            "marker": {
             "colorbar": {
              "outlinewidth": 0,
              "ticks": ""
             }
            },
            "type": "scatterternary"
           }
          ],
          "surface": [
           {
            "colorbar": {
             "outlinewidth": 0,
             "ticks": ""
            },
            "colorscale": [
             [
              0,
              "#0d0887"
             ],
             [
              0.1111111111111111,
              "#46039f"
             ],
             [
              0.2222222222222222,
              "#7201a8"
             ],
             [
              0.3333333333333333,
              "#9c179e"
             ],
             [
              0.4444444444444444,
              "#bd3786"
             ],
             [
              0.5555555555555556,
              "#d8576b"
             ],
             [
              0.6666666666666666,
              "#ed7953"
             ],
             [
              0.7777777777777778,
              "#fb9f3a"
             ],
             [
              0.8888888888888888,
              "#fdca26"
             ],
             [
              1,
              "#f0f921"
             ]
            ],
            "type": "surface"
           }
          ],
          "table": [
           {
            "cells": {
             "fill": {
              "color": "#EBF0F8"
             },
             "line": {
              "color": "white"
             }
            },
            "header": {
             "fill": {
              "color": "#C8D4E3"
             },
             "line": {
              "color": "white"
             }
            },
            "type": "table"
           }
          ]
         },
         "layout": {
          "annotationdefaults": {
           "arrowcolor": "#2a3f5f",
           "arrowhead": 0,
           "arrowwidth": 1
          },
          "colorscale": {
           "diverging": [
            [
             0,
             "#8e0152"
            ],
            [
             0.1,
             "#c51b7d"
            ],
            [
             0.2,
             "#de77ae"
            ],
            [
             0.3,
             "#f1b6da"
            ],
            [
             0.4,
             "#fde0ef"
            ],
            [
             0.5,
             "#f7f7f7"
            ],
            [
             0.6,
             "#e6f5d0"
            ],
            [
             0.7,
             "#b8e186"
            ],
            [
             0.8,
             "#7fbc41"
            ],
            [
             0.9,
             "#4d9221"
            ],
            [
             1,
             "#276419"
            ]
           ],
           "sequential": [
            [
             0,
             "#0d0887"
            ],
            [
             0.1111111111111111,
             "#46039f"
            ],
            [
             0.2222222222222222,
             "#7201a8"
            ],
            [
             0.3333333333333333,
             "#9c179e"
            ],
            [
             0.4444444444444444,
             "#bd3786"
            ],
            [
             0.5555555555555556,
             "#d8576b"
            ],
            [
             0.6666666666666666,
             "#ed7953"
            ],
            [
             0.7777777777777778,
             "#fb9f3a"
            ],
            [
             0.8888888888888888,
             "#fdca26"
            ],
            [
             1,
             "#f0f921"
            ]
           ],
           "sequentialminus": [
            [
             0,
             "#0d0887"
            ],
            [
             0.1111111111111111,
             "#46039f"
            ],
            [
             0.2222222222222222,
             "#7201a8"
            ],
            [
             0.3333333333333333,
             "#9c179e"
            ],
            [
             0.4444444444444444,
             "#bd3786"
            ],
            [
             0.5555555555555556,
             "#d8576b"
            ],
            [
             0.6666666666666666,
             "#ed7953"
            ],
            [
             0.7777777777777778,
             "#fb9f3a"
            ],
            [
             0.8888888888888888,
             "#fdca26"
            ],
            [
             1,
             "#f0f921"
            ]
           ]
          },
          "colorway": [
           "#636efa",
           "#EF553B",
           "#00cc96",
           "#ab63fa",
           "#FFA15A",
           "#19d3f3",
           "#FF6692",
           "#B6E880",
           "#FF97FF",
           "#FECB52"
          ],
          "font": {
           "color": "#2a3f5f"
          },
          "geo": {
           "bgcolor": "white",
           "lakecolor": "white",
           "landcolor": "#E5ECF6",
           "showlakes": true,
           "showland": true,
           "subunitcolor": "white"
          },
          "hoverlabel": {
           "align": "left"
          },
          "hovermode": "closest",
          "mapbox": {
           "style": "light"
          },
          "paper_bgcolor": "white",
          "plot_bgcolor": "#E5ECF6",
          "polar": {
           "angularaxis": {
            "gridcolor": "white",
            "linecolor": "white",
            "ticks": ""
           },
           "bgcolor": "#E5ECF6",
           "radialaxis": {
            "gridcolor": "white",
            "linecolor": "white",
            "ticks": ""
           }
          },
          "scene": {
           "xaxis": {
            "backgroundcolor": "#E5ECF6",
            "gridcolor": "white",
            "gridwidth": 2,
            "linecolor": "white",
            "showbackground": true,
            "ticks": "",
            "zerolinecolor": "white"
           },
           "yaxis": {
            "backgroundcolor": "#E5ECF6",
            "gridcolor": "white",
            "gridwidth": 2,
            "linecolor": "white",
            "showbackground": true,
            "ticks": "",
            "zerolinecolor": "white"
           },
           "zaxis": {
            "backgroundcolor": "#E5ECF6",
            "gridcolor": "white",
            "gridwidth": 2,
            "linecolor": "white",
            "showbackground": true,
            "ticks": "",
            "zerolinecolor": "white"
           }
          },
          "shapedefaults": {
           "line": {
            "color": "#2a3f5f"
           }
          },
          "ternary": {
           "aaxis": {
            "gridcolor": "white",
            "linecolor": "white",
            "ticks": ""
           },
           "baxis": {
            "gridcolor": "white",
            "linecolor": "white",
            "ticks": ""
           },
           "bgcolor": "#E5ECF6",
           "caxis": {
            "gridcolor": "white",
            "linecolor": "white",
            "ticks": ""
           }
          },
          "title": {
           "x": 0.05
          },
          "xaxis": {
           "automargin": true,
           "gridcolor": "white",
           "linecolor": "white",
           "ticks": "",
           "zerolinecolor": "white",
           "zerolinewidth": 2
          },
          "yaxis": {
           "automargin": true,
           "gridcolor": "white",
           "linecolor": "white",
           "ticks": "",
           "zerolinecolor": "white",
           "zerolinewidth": 2
          }
         }
        },
        "title": {
         "font": {
          "color": "#151516"
         },
         "text": "Top 20 trigrams after removing stop words"
        },
        "xaxis": {
         "gridcolor": "#F6F6F6",
         "linecolor": "black",
         "showgrid": true,
         "tickfont": {
          "color": "#666666"
         },
         "title": {
          "font": {
           "color": "#666666"
          },
          "text": ""
         },
         "zerolinecolor": "#F6F6F6"
        },
        "yaxis": {
         "gridcolor": "#F6F6F6",
         "linecolor": "black",
         "showgrid": true,
         "tickfont": {
          "color": "#666666"
         },
         "title": {
          "font": {
           "color": "#666666"
          },
          "text": "Count"
         },
         "zerolinecolor": "#F6F6F6"
        }
       }
      },
      "text/html": [
       "<div>\n",
       "        \n",
       "        \n",
       "            <div id=\"3a744265-ad08-4361-ae4c-1b37b05ab4de\" class=\"plotly-graph-div\" style=\"height:525px; width:100%;\"></div>\n",
       "            <script type=\"text/javascript\">\n",
       "                require([\"plotly\"], function(Plotly) {\n",
       "                    window.PLOTLYENV=window.PLOTLYENV || {};\n",
       "                    window.PLOTLYENV.BASE_URL='https://plot.ly';\n",
       "                    \n",
       "                if (document.getElementById(\"3a744265-ad08-4361-ae4c-1b37b05ab4de\")) {\n",
       "                    Plotly.newPlot(\n",
       "                        '3a744265-ad08-4361-ae4c-1b37b05ab4de',\n",
       "                        [{\"marker\": {\"color\": \"rgba(226, 74, 51, 0.6)\", \"line\": {\"color\": \"rgba(226, 74, 51, 1.0)\", \"width\": 1}}, \"name\": \"count\", \"orientation\": \"v\", \"text\": \"\", \"type\": \"bar\", \"x\": [\"bone implant contact\", \"peri implant bone\", \"john wiley sons\", \"bone implant interface\", \"new bone formation\", \"implant contact bic\", \"scanning electron microscopy\", \"resonance frequency analysis\", \"newly formed bone\", \"marginal bone loss\", \"implant stability quotient\", \"aim study evaluate\", \"osseointegration dental implants\", \"bone morphogenetic protein\", \"statistically significant differences\", \"dental implants placed\", \"wiley sons published\", \"published john wiley\", \"guided bone regeneration\", \"sandblasted acid etched\"], \"y\": [2129, 1095, 720, 671, 590, 577, 510, 483, 416, 389, 308, 299, 299, 294, 288, 259, 251, 246, 234, 232]}],\n",
       "                        {\"legend\": {\"bgcolor\": \"#FFFFFF\", \"font\": {\"color\": \"#666666\"}}, \"paper_bgcolor\": \"#FFFFFF\", \"plot_bgcolor\": \"#E5E5E5\", \"template\": {\"data\": {\"bar\": [{\"error_x\": {\"color\": \"#2a3f5f\"}, \"error_y\": {\"color\": \"#2a3f5f\"}, \"marker\": {\"line\": {\"color\": \"#E5ECF6\", \"width\": 0.5}}, \"type\": \"bar\"}], \"barpolar\": [{\"marker\": {\"line\": {\"color\": \"#E5ECF6\", \"width\": 0.5}}, \"type\": \"barpolar\"}], \"carpet\": [{\"aaxis\": {\"endlinecolor\": \"#2a3f5f\", \"gridcolor\": \"white\", \"linecolor\": \"white\", \"minorgridcolor\": \"white\", \"startlinecolor\": \"#2a3f5f\"}, \"baxis\": {\"endlinecolor\": \"#2a3f5f\", \"gridcolor\": \"white\", \"linecolor\": \"white\", \"minorgridcolor\": \"white\", \"startlinecolor\": \"#2a3f5f\"}, \"type\": \"carpet\"}], \"choropleth\": [{\"colorbar\": {\"outlinewidth\": 0, \"ticks\": \"\"}, \"type\": \"choropleth\"}], \"contour\": [{\"colorbar\": {\"outlinewidth\": 0, \"ticks\": \"\"}, \"colorscale\": [[0.0, \"#0d0887\"], [0.1111111111111111, \"#46039f\"], [0.2222222222222222, \"#7201a8\"], [0.3333333333333333, \"#9c179e\"], [0.4444444444444444, \"#bd3786\"], [0.5555555555555556, \"#d8576b\"], [0.6666666666666666, \"#ed7953\"], [0.7777777777777778, \"#fb9f3a\"], [0.8888888888888888, \"#fdca26\"], [1.0, \"#f0f921\"]], \"type\": \"contour\"}], \"contourcarpet\": [{\"colorbar\": {\"outlinewidth\": 0, \"ticks\": \"\"}, \"type\": \"contourcarpet\"}], \"heatmap\": [{\"colorbar\": {\"outlinewidth\": 0, \"ticks\": \"\"}, \"colorscale\": [[0.0, \"#0d0887\"], [0.1111111111111111, \"#46039f\"], [0.2222222222222222, \"#7201a8\"], [0.3333333333333333, \"#9c179e\"], [0.4444444444444444, \"#bd3786\"], [0.5555555555555556, \"#d8576b\"], [0.6666666666666666, \"#ed7953\"], [0.7777777777777778, \"#fb9f3a\"], [0.8888888888888888, \"#fdca26\"], [1.0, \"#f0f921\"]], \"type\": \"heatmap\"}], \"heatmapgl\": [{\"colorbar\": {\"outlinewidth\": 0, \"ticks\": \"\"}, \"colorscale\": [[0.0, \"#0d0887\"], [0.1111111111111111, \"#46039f\"], [0.2222222222222222, \"#7201a8\"], [0.3333333333333333, \"#9c179e\"], [0.4444444444444444, \"#bd3786\"], [0.5555555555555556, \"#d8576b\"], [0.6666666666666666, \"#ed7953\"], [0.7777777777777778, \"#fb9f3a\"], [0.8888888888888888, \"#fdca26\"], [1.0, \"#f0f921\"]], \"type\": \"heatmapgl\"}], \"histogram\": [{\"marker\": {\"colorbar\": {\"outlinewidth\": 0, \"ticks\": \"\"}}, \"type\": \"histogram\"}], \"histogram2d\": [{\"colorbar\": {\"outlinewidth\": 0, \"ticks\": \"\"}, \"colorscale\": [[0.0, \"#0d0887\"], [0.1111111111111111, \"#46039f\"], [0.2222222222222222, \"#7201a8\"], [0.3333333333333333, \"#9c179e\"], [0.4444444444444444, \"#bd3786\"], [0.5555555555555556, \"#d8576b\"], [0.6666666666666666, \"#ed7953\"], [0.7777777777777778, \"#fb9f3a\"], [0.8888888888888888, \"#fdca26\"], [1.0, \"#f0f921\"]], \"type\": \"histogram2d\"}], \"histogram2dcontour\": [{\"colorbar\": {\"outlinewidth\": 0, \"ticks\": \"\"}, \"colorscale\": [[0.0, \"#0d0887\"], [0.1111111111111111, \"#46039f\"], [0.2222222222222222, \"#7201a8\"], [0.3333333333333333, \"#9c179e\"], [0.4444444444444444, \"#bd3786\"], [0.5555555555555556, \"#d8576b\"], [0.6666666666666666, \"#ed7953\"], [0.7777777777777778, \"#fb9f3a\"], [0.8888888888888888, \"#fdca26\"], [1.0, \"#f0f921\"]], \"type\": \"histogram2dcontour\"}], \"mesh3d\": [{\"colorbar\": {\"outlinewidth\": 0, \"ticks\": \"\"}, \"type\": \"mesh3d\"}], \"parcoords\": [{\"line\": {\"colorbar\": {\"outlinewidth\": 0, \"ticks\": \"\"}}, \"type\": \"parcoords\"}], \"scatter\": [{\"marker\": {\"colorbar\": {\"outlinewidth\": 0, \"ticks\": \"\"}}, \"type\": \"scatter\"}], \"scatter3d\": [{\"line\": {\"colorbar\": {\"outlinewidth\": 0, \"ticks\": \"\"}}, \"marker\": {\"colorbar\": {\"outlinewidth\": 0, \"ticks\": \"\"}}, \"type\": \"scatter3d\"}], \"scattercarpet\": [{\"marker\": {\"colorbar\": {\"outlinewidth\": 0, \"ticks\": \"\"}}, \"type\": \"scattercarpet\"}], \"scattergeo\": [{\"marker\": {\"colorbar\": {\"outlinewidth\": 0, \"ticks\": \"\"}}, \"type\": \"scattergeo\"}], \"scattergl\": [{\"marker\": {\"colorbar\": {\"outlinewidth\": 0, \"ticks\": \"\"}}, \"type\": \"scattergl\"}], \"scattermapbox\": [{\"marker\": {\"colorbar\": {\"outlinewidth\": 0, \"ticks\": \"\"}}, \"type\": \"scattermapbox\"}], \"scatterpolar\": [{\"marker\": {\"colorbar\": {\"outlinewidth\": 0, \"ticks\": \"\"}}, \"type\": \"scatterpolar\"}], \"scatterpolargl\": [{\"marker\": {\"colorbar\": {\"outlinewidth\": 0, \"ticks\": \"\"}}, \"type\": \"scatterpolargl\"}], \"scatterternary\": [{\"marker\": {\"colorbar\": {\"outlinewidth\": 0, \"ticks\": \"\"}}, \"type\": \"scatterternary\"}], \"surface\": [{\"colorbar\": {\"outlinewidth\": 0, \"ticks\": \"\"}, \"colorscale\": [[0.0, \"#0d0887\"], [0.1111111111111111, \"#46039f\"], [0.2222222222222222, \"#7201a8\"], [0.3333333333333333, \"#9c179e\"], [0.4444444444444444, \"#bd3786\"], [0.5555555555555556, \"#d8576b\"], [0.6666666666666666, \"#ed7953\"], [0.7777777777777778, \"#fb9f3a\"], [0.8888888888888888, \"#fdca26\"], [1.0, \"#f0f921\"]], \"type\": \"surface\"}], \"table\": [{\"cells\": {\"fill\": {\"color\": \"#EBF0F8\"}, \"line\": {\"color\": \"white\"}}, \"header\": {\"fill\": {\"color\": \"#C8D4E3\"}, \"line\": {\"color\": \"white\"}}, \"type\": \"table\"}]}, \"layout\": {\"annotationdefaults\": {\"arrowcolor\": \"#2a3f5f\", \"arrowhead\": 0, \"arrowwidth\": 1}, \"colorscale\": {\"diverging\": [[0, \"#8e0152\"], [0.1, \"#c51b7d\"], [0.2, \"#de77ae\"], [0.3, \"#f1b6da\"], [0.4, \"#fde0ef\"], [0.5, \"#f7f7f7\"], [0.6, \"#e6f5d0\"], [0.7, \"#b8e186\"], [0.8, \"#7fbc41\"], [0.9, \"#4d9221\"], [1, \"#276419\"]], \"sequential\": [[0.0, \"#0d0887\"], [0.1111111111111111, \"#46039f\"], [0.2222222222222222, \"#7201a8\"], [0.3333333333333333, \"#9c179e\"], [0.4444444444444444, \"#bd3786\"], [0.5555555555555556, \"#d8576b\"], [0.6666666666666666, \"#ed7953\"], [0.7777777777777778, \"#fb9f3a\"], [0.8888888888888888, \"#fdca26\"], [1.0, \"#f0f921\"]], \"sequentialminus\": [[0.0, \"#0d0887\"], [0.1111111111111111, \"#46039f\"], [0.2222222222222222, \"#7201a8\"], [0.3333333333333333, \"#9c179e\"], [0.4444444444444444, \"#bd3786\"], [0.5555555555555556, \"#d8576b\"], [0.6666666666666666, \"#ed7953\"], [0.7777777777777778, \"#fb9f3a\"], [0.8888888888888888, \"#fdca26\"], [1.0, \"#f0f921\"]]}, \"colorway\": [\"#636efa\", \"#EF553B\", \"#00cc96\", \"#ab63fa\", \"#FFA15A\", \"#19d3f3\", \"#FF6692\", \"#B6E880\", \"#FF97FF\", \"#FECB52\"], \"font\": {\"color\": \"#2a3f5f\"}, \"geo\": {\"bgcolor\": \"white\", \"lakecolor\": \"white\", \"landcolor\": \"#E5ECF6\", \"showlakes\": true, \"showland\": true, \"subunitcolor\": \"white\"}, \"hoverlabel\": {\"align\": \"left\"}, \"hovermode\": \"closest\", \"mapbox\": {\"style\": \"light\"}, \"paper_bgcolor\": \"white\", \"plot_bgcolor\": \"#E5ECF6\", \"polar\": {\"angularaxis\": {\"gridcolor\": \"white\", \"linecolor\": \"white\", \"ticks\": \"\"}, \"bgcolor\": \"#E5ECF6\", \"radialaxis\": {\"gridcolor\": \"white\", \"linecolor\": \"white\", \"ticks\": \"\"}}, \"scene\": {\"xaxis\": {\"backgroundcolor\": \"#E5ECF6\", \"gridcolor\": \"white\", \"gridwidth\": 2, \"linecolor\": \"white\", \"showbackground\": true, \"ticks\": \"\", \"zerolinecolor\": \"white\"}, \"yaxis\": {\"backgroundcolor\": \"#E5ECF6\", \"gridcolor\": \"white\", \"gridwidth\": 2, \"linecolor\": \"white\", \"showbackground\": true, \"ticks\": \"\", \"zerolinecolor\": \"white\"}, \"zaxis\": {\"backgroundcolor\": \"#E5ECF6\", \"gridcolor\": \"white\", \"gridwidth\": 2, \"linecolor\": \"white\", \"showbackground\": true, \"ticks\": \"\", \"zerolinecolor\": \"white\"}}, \"shapedefaults\": {\"line\": {\"color\": \"#2a3f5f\"}}, \"ternary\": {\"aaxis\": {\"gridcolor\": \"white\", \"linecolor\": \"white\", \"ticks\": \"\"}, \"baxis\": {\"gridcolor\": \"white\", \"linecolor\": \"white\", \"ticks\": \"\"}, \"bgcolor\": \"#E5ECF6\", \"caxis\": {\"gridcolor\": \"white\", \"linecolor\": \"white\", \"ticks\": \"\"}}, \"title\": {\"x\": 0.05}, \"xaxis\": {\"automargin\": true, \"gridcolor\": \"white\", \"linecolor\": \"white\", \"ticks\": \"\", \"zerolinecolor\": \"white\", \"zerolinewidth\": 2}, \"yaxis\": {\"automargin\": true, \"gridcolor\": \"white\", \"linecolor\": \"white\", \"ticks\": \"\", \"zerolinecolor\": \"white\", \"zerolinewidth\": 2}}}, \"title\": {\"font\": {\"color\": \"#151516\"}, \"text\": \"Top 20 trigrams after removing stop words\"}, \"xaxis\": {\"gridcolor\": \"#F6F6F6\", \"linecolor\": \"black\", \"showgrid\": true, \"tickfont\": {\"color\": \"#666666\"}, \"title\": {\"font\": {\"color\": \"#666666\"}, \"text\": \"\"}, \"zerolinecolor\": \"#F6F6F6\"}, \"yaxis\": {\"gridcolor\": \"#F6F6F6\", \"linecolor\": \"black\", \"showgrid\": true, \"tickfont\": {\"color\": \"#666666\"}, \"title\": {\"font\": {\"color\": \"#666666\"}, \"text\": \"Count\"}, \"zerolinecolor\": \"#F6F6F6\"}},\n",
       "                        {\"showLink\": true, \"linkText\": \"Export to plot.ly\", \"plotlyServerURL\": \"https://plot.ly\", \"responsive\": true}\n",
       "                    ).then(function(){\n",
       "                            \n",
       "var gd = document.getElementById('3a744265-ad08-4361-ae4c-1b37b05ab4de');\n",
       "var x = new MutationObserver(function (mutations, observer) {{\n",
       "        var display = window.getComputedStyle(gd).display;\n",
       "        if (!display || display === 'none') {{\n",
       "            console.log([gd, 'removed!']);\n",
       "            Plotly.purge(gd);\n",
       "            observer.disconnect();\n",
       "        }}\n",
       "}});\n",
       "\n",
       "// Listen for the removal of the full notebook cells\n",
       "var notebookContainer = gd.closest('#notebook-container');\n",
       "if (notebookContainer) {{\n",
       "    x.observe(notebookContainer, {childList: true});\n",
       "}}\n",
       "\n",
       "// Listen for the clearing of the current output cell\n",
       "var outputEl = gd.closest('.output');\n",
       "if (outputEl) {{\n",
       "    x.observe(outputEl, {childList: true});\n",
       "}}\n",
       "\n",
       "                        })\n",
       "                };\n",
       "                });\n",
       "            </script>\n",
       "        </div>"
      ]
     },
     "metadata": {},
     "output_type": "display_data"
    }
   ],
   "source": [
    "def get_top_n_trigram(corpus, n=None):\n",
    "    vec = CountVectorizer(ngram_range=(3, 3), stop_words='english').fit(corpus)\n",
    "    bag_of_words = vec.transform(corpus)\n",
    "    sum_words = bag_of_words.sum(axis=0) \n",
    "    words_freq = [(word, sum_words[0, idx]) for word, idx in vec.vocabulary_.items()]\n",
    "    words_freq =sorted(words_freq, key = lambda x: x[1], reverse=True)\n",
    "    return words_freq[:n]\n",
    "common_words = get_top_n_trigram(df['abstractClean'], 20)\n",
    "df6 = pd.DataFrame(common_words, columns = ['abstractClean' , 'count'])\n",
    "df6.groupby('abstractClean').sum()['count'].sort_values(ascending=False).iplot(kind='bar', yTitle='Count', linecolor='black', title='Top 20 trigrams after removing stop words')"
   ]
  },
  {
   "cell_type": "markdown",
   "metadata": {},
   "source": [
    "### Abstract+title Length Distribution"
   ]
  },
  {
   "cell_type": "code",
   "execution_count": 21,
   "metadata": {},
   "outputs": [
    {
     "name": "stdout",
     "output_type": "stream",
     "text": [
      "Number of publications: 9014 \n",
      "Average word count 226.72842245396052 \n",
      "Minimum word count 1 \n",
      "Maximum word count 934\n"
     ]
    }
   ],
   "source": [
    "df['word_count'] = df['abstract'].apply(lambda x: len(str(x).split()))\n",
    "desc_lengths = list(df['word_count'])\n",
    "\n",
    "print(\"Number of publications:\",len(desc_lengths),\n",
    "      \"\\nAverage word count\", np.average(desc_lengths),\n",
    "      \"\\nMinimum word count\", min(desc_lengths),\n",
    "      \"\\nMaximum word count\", max(desc_lengths))"
   ]
  },
  {
   "cell_type": "code",
   "execution_count": 22,
   "metadata": {},
   "outputs": [
    {
     "data": {
      "application/vnd.plotly.v1+json": {
       "config": {
        "linkText": "Export to plot.ly",
        "plotlyServerURL": "https://plot.ly",
        "showLink": true
       },
       "data": [
        {
         "histfunc": "count",
         "histnorm": "",
         "marker": {
          "color": "rgba(226, 74, 51, 1.0)",
          "line": {
           "color": "#000000",
           "width": 1.3
          }
         },
         "name": "word_count",
         "nbinsx": 50,
         "opacity": 0.8,
         "orientation": "v",
         "type": "histogram",
         "x": [
          213,
          261,
          297,
          212,
          225,
          153,
          151,
          246,
          225,
          396,
          269,
          215,
          261,
          233,
          273,
          148,
          306,
          391,
          248,
          324,
          291,
          286,
          250,
          259,
          63,
          257,
          273,
          150,
          150,
          121,
          115,
          181,
          334,
          293,
          221,
          314,
          362,
          228,
          305,
          220,
          186,
          354,
          153,
          323,
          308,
          218,
          330,
          191,
          301,
          281,
          277,
          287,
          238,
          289,
          228,
          336,
          347,
          236,
          278,
          208,
          287,
          276,
          259,
          329,
          278,
          450,
          412,
          219,
          182,
          234,
          353,
          217,
          318,
          203,
          273,
          160,
          150,
          315,
          133,
          263,
          211,
          315,
          220,
          301,
          293,
          239,
          300,
          257,
          245,
          230,
          215,
          237,
          312,
          215,
          308,
          315,
          111,
          239,
          222,
          215,
          214,
          344,
          379,
          386,
          258,
          280,
          222,
          222,
          173,
          197,
          111,
          219,
          225,
          254,
          308,
          210,
          273,
          252,
          252,
          270,
          257,
          223,
          215,
          218,
          241,
          168,
          262,
          232,
          230,
          313,
          215,
          236,
          182,
          176,
          146,
          144,
          217,
          210,
          224,
          217,
          168,
          413,
          302,
          263,
          233,
          216,
          207,
          160,
          268,
          216,
          246,
          373,
          275,
          354,
          293,
          259,
          287,
          193,
          238,
          217,
          263,
          314,
          270,
          189,
          329,
          113,
          221,
          188,
          300,
          177,
          211,
          343,
          154,
          295,
          224,
          488,
          226,
          197,
          312,
          288,
          90,
          327,
          242,
          215,
          238,
          103,
          280,
          204,
          256,
          170,
          214,
          1,
          223,
          244,
          277,
          164,
          293,
          453,
          243,
          236,
          268,
          168,
          288,
          273,
          285,
          269,
          182,
          305,
          222,
          207,
          181,
          289,
          317,
          246,
          347,
          236,
          217,
          385,
          258,
          377,
          158,
          384,
          455,
          290,
          262,
          221,
          242,
          241,
          243,
          191,
          394,
          306,
          267,
          228,
          273,
          248,
          209,
          219,
          248,
          240,
          232,
          241,
          239,
          136,
          215,
          260,
          222,
          238,
          392,
          375,
          206,
          244,
          322,
          164,
          289,
          359,
          206,
          224,
          301,
          278,
          278,
          214,
          277,
          177,
          214,
          558,
          268,
          266,
          173,
          76,
          217,
          337,
          300,
          372,
          277,
          275,
          271,
          210,
          232,
          249,
          254,
          238,
          218,
          262,
          254,
          310,
          199,
          277,
          219,
          278,
          309,
          256,
          97,
          169,
          168,
          327,
          209,
          282,
          292,
          117,
          296,
          313,
          265,
          258,
          266,
          200,
          226,
          275,
          332,
          274,
          410,
          218,
          165,
          167,
          219,
          214,
          261,
          297,
          224,
          197,
          219,
          387,
          273,
          325,
          251,
          265,
          260,
          304,
          267,
          251,
          292,
          284,
          325,
          293,
          299,
          294,
          269,
          349,
          351,
          181,
          261,
          282,
          318,
          341,
          248,
          312,
          221,
          242,
          261,
          242,
          313,
          236,
          42,
          209,
          150,
          105,
          247,
          208,
          327,
          243,
          330,
          277,
          212,
          342,
          365,
          245,
          220,
          186,
          267,
          198,
          94,
          253,
          368,
          295,
          145,
          138,
          292,
          252,
          306,
          247,
          263,
          321,
          52,
          254,
          121,
          247,
          262,
          105,
          139,
          253,
          220,
          264,
          303,
          187,
          318,
          376,
          268,
          292,
          382,
          137,
          291,
          138,
          204,
          224,
          275,
          76,
          228,
          195,
          215,
          318,
          138,
          126,
          320,
          284,
          317,
          248,
          329,
          524,
          337,
          125,
          272,
          306,
          212,
          99,
          302,
          350,
          176,
          152,
          216,
          290,
          227,
          221,
          312,
          239,
          356,
          376,
          214,
          149,
          179,
          243,
          351,
          250,
          102,
          267,
          193,
          314,
          218,
          265,
          261,
          362,
          320,
          212,
          320,
          212,
          273,
          251,
          306,
          314,
          276,
          322,
          376,
          229,
          235,
          311,
          111,
          211,
          272,
          353,
          133,
          257,
          224,
          202,
          231,
          203,
          293,
          314,
          229,
          166,
          165,
          180,
          211,
          231,
          254,
          234,
          243,
          243,
          10,
          234,
          1,
          220,
          226,
          396,
          239,
          199,
          248,
          243,
          224,
          464,
          268,
          184,
          245,
          268,
          291,
          75,
          173,
          231,
          373,
          235,
          479,
          222,
          294,
          269,
          240,
          261,
          255,
          326,
          289,
          186,
          288,
          206,
          271,
          214,
          298,
          227,
          254,
          299,
          399,
          217,
          224,
          328,
          140,
          170,
          286,
          331,
          214,
          260,
          163,
          146,
          251,
          221,
          266,
          202,
          398,
          298,
          420,
          262,
          239,
          327,
          289,
          155,
          243,
          230,
          149,
          229,
          274,
          218,
          263,
          211,
          145,
          251,
          221,
          201,
          213,
          238,
          254,
          250,
          216,
          247,
          380,
          277,
          305,
          266,
          173,
          304,
          190,
          314,
          299,
          205,
          337,
          221,
          96,
          235,
          175,
          234,
          343,
          282,
          365,
          221,
          254,
          193,
          263,
          262,
          356,
          328,
          296,
          184,
          233,
          359,
          316,
          115,
          329,
          206,
          336,
          279,
          215,
          209,
          122,
          297,
          307,
          182,
          277,
          229,
          446,
          357,
          181,
          307,
          350,
          253,
          259,
          231,
          138,
          166,
          170,
          253,
          327,
          140,
          206,
          266,
          209,
          173,
          81,
          384,
          112,
          314,
          178,
          263,
          265,
          288,
          348,
          82,
          377,
          236,
          384,
          196,
          210,
          290,
          477,
          323,
          254,
          175,
          232,
          168,
          293,
          208,
          315,
          308,
          173,
          178,
          280,
          187,
          227,
          204,
          288,
          220,
          226,
          290,
          244,
          197,
          228,
          129,
          276,
          295,
          219,
          100,
          191,
          244,
          337,
          200,
          175,
          287,
          314,
          248,
          235,
          318,
          349,
          209,
          277,
          268,
          263,
          268,
          257,
          258,
          285,
          269,
          254,
          290,
          212,
          229,
          177,
          386,
          226,
          263,
          274,
          136,
          303,
          127,
          394,
          251,
          265,
          160,
          178,
          226,
          318,
          303,
          136,
          215,
          241,
          291,
          192,
          276,
          139,
          196,
          270,
          186,
          217,
          253,
          284,
          314,
          203,
          121,
          168,
          286,
          321,
          219,
          204,
          251,
          272,
          190,
          233,
          361,
          227,
          222,
          278,
          257,
          197,
          236,
          234,
          232,
          204,
          213,
          241,
          185,
          295,
          280,
          498,
          282,
          219,
          165,
          251,
          224,
          367,
          182,
          102,
          182,
          315,
          275,
          282,
          219,
          145,
          209,
          227,
          109,
          247,
          207,
          237,
          199,
          207,
          310,
          220,
          158,
          275,
          217,
          230,
          215,
          267,
          296,
          267,
          257,
          241,
          261,
          246,
          312,
          193,
          322,
          202,
          281,
          289,
          215,
          186,
          230,
          321,
          339,
          7,
          286,
          286,
          324,
          241,
          310,
          113,
          274,
          303,
          232,
          285,
          199,
          202,
          223,
          209,
          133,
          289,
          270,
          221,
          221,
          272,
          353,
          277,
          202,
          377,
          231,
          127,
          293,
          245,
          374,
          343,
          270,
          339,
          189,
          328,
          282,
          142,
          264,
          161,
          270,
          443,
          473,
          252,
          277,
          722,
          214,
          277,
          248,
          232,
          223,
          261,
          447,
          275,
          245,
          171,
          338,
          222,
          259,
          193,
          127,
          395,
          282,
          261,
          470,
          268,
          18,
          239,
          291,
          412,
          337,
          258,
          249,
          177,
          158,
          219,
          177,
          264,
          171,
          206,
          233,
          186,
          338,
          276,
          337,
          226,
          259,
          160,
          225,
          202,
          193,
          273,
          291,
          212,
          217,
          266,
          255,
          208,
          240,
          215,
          247,
          239,
          176,
          217,
          338,
          287,
          282,
          344,
          250,
          105,
          92,
          275,
          201,
          255,
          236,
          258,
          324,
          343,
          266,
          207,
          208,
          103,
          221,
          219,
          203,
          233,
          188,
          290,
          12,
          171,
          329,
          232,
          292,
          439,
          338,
          255,
          232,
          298,
          386,
          232,
          234,
          203,
          447,
          214,
          225,
          223,
          268,
          275,
          195,
          189,
          321,
          318,
          278,
          163,
          261,
          323,
          75,
          382,
          186,
          213,
          431,
          266,
          216,
          204,
          125,
          166,
          347,
          262,
          243,
          338,
          324,
          214,
          279,
          280,
          281,
          185,
          245,
          288,
          174,
          235,
          281,
          222,
          202,
          161,
          216,
          324,
          249,
          220,
          224,
          241,
          230,
          292,
          316,
          90,
          125,
          388,
          224,
          233,
          274,
          292,
          337,
          255,
          224,
          137,
          162,
          183,
          519,
          222,
          286,
          132,
          382,
          309,
          268,
          343,
          271,
          312,
          225,
          251,
          215,
          223,
          262,
          196,
          259,
          301,
          608,
          23,
          268,
          211,
          291,
          211,
          220,
          264,
          167,
          377,
          163,
          235,
          207,
          284,
          176,
          209,
          351,
          297,
          311,
          348,
          268,
          240,
          197,
          207,
          244,
          151,
          393,
          226,
          372,
          250,
          312,
          311,
          315,
          248,
          266,
          495,
          260,
          326,
          214,
          258,
          324,
          282,
          315,
          290,
          262,
          283,
          209,
          200,
          228,
          205,
          174,
          228,
          378,
          249,
          186,
          280,
          344,
          239,
          216,
          305,
          177,
          247,
          305,
          268,
          152,
          189,
          213,
          189,
          234,
          148,
          216,
          208,
          245,
          237,
          264,
          299,
          760,
          235,
          220,
          194,
          200,
          234,
          421,
          294,
          171,
          445,
          236,
          270,
          237,
          235,
          165,
          171,
          260,
          227,
          168,
          242,
          442,
          294,
          293,
          255,
          189,
          269,
          293,
          302,
          127,
          203,
          522,
          259,
          161,
          202,
          249,
          249,
          196,
          207,
          282,
          280,
          210,
          214,
          332,
          216,
          214,
          141,
          157,
          161,
          218,
          264,
          316,
          215,
          170,
          199,
          267,
          201,
          236,
          92,
          310,
          364,
          182,
          239,
          269,
          297,
          260,
          242,
          188,
          277,
          268,
          227,
          269,
          262,
          229,
          260,
          265,
          228,
          214,
          245,
          159,
          234,
          243,
          193,
          180,
          246,
          146,
          212,
          283,
          270,
          214,
          388,
          257,
          309,
          290,
          220,
          328,
          272,
          287,
          297,
          168,
          163,
          254,
          396,
          291,
          311,
          266,
          280,
          190,
          288,
          210,
          306,
          139,
          277,
          300,
          223,
          281,
          217,
          303,
          221,
          260,
          211,
          171,
          214,
          261,
          375,
          203,
          188,
          448,
          244,
          224,
          98,
          259,
          247,
          155,
          210,
          208,
          320,
          369,
          154,
          233,
          330,
          185,
          222,
          359,
          237,
          149,
          184,
          256,
          311,
          248,
          364,
          235,
          311,
          216,
          259,
          273,
          259,
          394,
          148,
          383,
          275,
          277,
          205,
          268,
          235,
          262,
          274,
          198,
          267,
          249,
          348,
          392,
          294,
          297,
          334,
          265,
          273,
          233,
          314,
          276,
          335,
          305,
          375,
          340,
          82,
          333,
          156,
          256,
          244,
          228,
          249,
          213,
          131,
          262,
          139,
          252,
          204,
          236,
          240,
          297,
          265,
          205,
          250,
          243,
          264,
          235,
          250,
          196,
          130,
          274,
          246,
          351,
          243,
          295,
          227,
          211,
          201,
          296,
          331,
          254,
          147,
          399,
          210,
          136,
          144,
          168,
          71,
          12,
          313,
          302,
          288,
          389,
          266,
          221,
          295,
          281,
          313,
          247,
          205,
          391,
          333,
          210,
          298,
          296,
          221,
          268,
          210,
          282,
          296,
          245,
          273,
          276,
          342,
          184,
          353,
          307,
          237,
          314,
          296,
          250,
          258,
          228,
          240,
          317,
          267,
          369,
          192,
          202,
          236,
          233,
          259,
          275,
          142,
          235,
          155,
          177,
          207,
          105,
          266,
          191,
          219,
          487,
          322,
          82,
          206,
          300,
          207,
          343,
          197,
          179,
          259,
          260,
          282,
          261,
          283,
          471,
          225,
          389,
          183,
          305,
          327,
          145,
          191,
          225,
          271,
          237,
          126,
          276,
          397,
          182,
          253,
          220,
          376,
          339,
          212,
          302,
          337,
          263,
          327,
          358,
          250,
          251,
          302,
          199,
          219,
          236,
          261,
          318,
          260,
          182,
          203,
          345,
          250,
          291,
          258,
          198,
          257,
          149,
          295,
          256,
          243,
          472,
          565,
          199,
          291,
          246,
          172,
          208,
          293,
          129,
          175,
          210,
          335,
          251,
          285,
          153,
          341,
          127,
          187,
          195,
          184,
          93,
          332,
          258,
          139,
          230,
          278,
          298,
          288,
          250,
          297,
          262,
          311,
          275,
          265,
          187,
          257,
          264,
          115,
          210,
          225,
          295,
          312,
          311,
          282,
          298,
          200,
          247,
          10,
          235,
          202,
          239,
          263,
          243,
          205,
          284,
          115,
          118,
          236,
          285,
          328,
          303,
          228,
          222,
          244,
          246,
          204,
          237,
          278,
          170,
          232,
          175,
          205,
          82,
          234,
          145,
          307,
          170,
          327,
          332,
          217,
          322,
          366,
          253,
          218,
          200,
          119,
          220,
          456,
          211,
          278,
          252,
          303,
          183,
          320,
          313,
          199,
          353,
          263,
          270,
          319,
          194,
          261,
          223,
          291,
          274,
          320,
          251,
          290,
          377,
          230,
          285,
          259,
          321,
          394,
          171,
          262,
          332,
          263,
          373,
          218,
          333,
          296,
          294,
          287,
          267,
          145,
          150,
          222,
          199,
          101,
          112,
          224,
          230,
          217,
          243,
          266,
          293,
          279,
          181,
          305,
          261,
          344,
          351,
          217,
          336,
          225,
          222,
          247,
          398,
          266,
          259,
          227,
          270,
          354,
          248,
          241,
          143,
          212,
          251,
          249,
          307,
          256,
          369,
          223,
          263,
          161,
          298,
          263,
          262,
          216,
          276,
          232,
          256,
          268,
          223,
          212,
          199,
          264,
          274,
          130,
          141,
          406,
          259,
          229,
          217,
          182,
          207,
          225,
          131,
          383,
          279,
          275,
          364,
          224,
          120,
          242,
          157,
          190,
          224,
          318,
          190,
          315,
          204,
          216,
          209,
          208,
          312,
          400,
          146,
          242,
          241,
          171,
          146,
          588,
          207,
          252,
          192,
          277,
          195,
          276,
          563,
          270,
          159,
          285,
          277,
          284,
          260,
          253,
          243,
          239,
          259,
          260,
          383,
          197,
          490,
          302,
          350,
          172,
          223,
          227,
          300,
          213,
          228,
          216,
          183,
          314,
          220,
          300,
          213,
          287,
          281,
          285,
          194,
          283,
          192,
          186,
          217,
          182,
          188,
          271,
          254,
          210,
          175,
          230,
          251,
          249,
          251,
          244,
          68,
          208,
          13,
          272,
          130,
          312,
          220,
          231,
          273,
          283,
          286,
          220,
          199,
          343,
          215,
          240,
          330,
          234,
          289,
          226,
          174,
          214,
          298,
          220,
          260,
          255,
          247,
          300,
          215,
          207,
          288,
          285,
          256,
          240,
          223,
          245,
          207,
          496,
          251,
          230,
          356,
          238,
          274,
          237,
          264,
          220,
          8,
          275,
          154,
          143,
          278,
          203,
          240,
          182,
          340,
          177,
          283,
          83,
          176,
          456,
          236,
          271,
          216,
          255,
          148,
          171,
          101,
          176,
          223,
          259,
          267,
          203,
          206,
          360,
          368,
          85,
          175,
          186,
          398,
          230,
          59,
          199,
          173,
          208,
          225,
          199,
          266,
          161,
          197,
          200,
          275,
          185,
          244,
          188,
          272,
          260,
          268,
          239,
          205,
          297,
          103,
          192,
          212,
          325,
          296,
          289,
          309,
          211,
          141,
          269,
          253,
          213,
          264,
          183,
          359,
          182,
          209,
          281,
          344,
          248,
          341,
          187,
          141,
          288,
          289,
          281,
          188,
          122,
          194,
          287,
          248,
          226,
          243,
          241,
          256,
          281,
          171,
          248,
          245,
          208,
          271,
          319,
          255,
          266,
          212,
          447,
          225,
          147,
          207,
          176,
          247,
          269,
          127,
          228,
          227,
          144,
          283,
          229,
          233,
          320,
          287,
          203,
          171,
          315,
          210,
          272,
          223,
          306,
          382,
          133,
          197,
          74,
          271,
          285,
          227,
          237,
          267,
          287,
          306,
          271,
          200,
          309,
          312,
          123,
          190,
          500,
          140,
          177,
          316,
          262,
          228,
          151,
          148,
          197,
          187,
          82,
          387,
          358,
          243,
          191,
          123,
          291,
          116,
          284,
          363,
          283,
          256,
          302,
          187,
          344,
          232,
          223,
          169,
          264,
          343,
          266,
          173,
          277,
          296,
          204,
          222,
          226,
          400,
          118,
          130,
          93,
          276,
          211,
          175,
          134,
          246,
          241,
          245,
          270,
          261,
          238,
          215,
          416,
          257,
          266,
          113,
          213,
          229,
          273,
          219,
          282,
          320,
          98,
          331,
          234,
          226,
          208,
          179,
          170,
          211,
          218,
          118,
          117,
          281,
          235,
          308,
          210,
          297,
          167,
          198,
          224,
          240,
          256,
          193,
          240,
          25,
          258,
          281,
          310,
          230,
          366,
          253,
          249,
          267,
          240,
          401,
          380,
          251,
          283,
          298,
          223,
          161,
          315,
          187,
          127,
          427,
          83,
          214,
          180,
          223,
          292,
          7,
          182,
          189,
          167,
          201,
          208,
          249,
          142,
          117,
          337,
          328,
          193,
          208,
          222,
          354,
          142,
          260,
          206,
          345,
          279,
          199,
          162,
          228,
          216,
          199,
          218,
          255,
          234,
          230,
          251,
          252,
          148,
          326,
          305,
          157,
          141,
          216,
          233,
          255,
          216,
          131,
          224,
          196,
          100,
          71,
          96,
          8,
          379,
          442,
          229,
          256,
          272,
          288,
          194,
          286,
          113,
          194,
          205,
          273,
          211,
          295,
          134,
          265,
          269,
          259,
          218,
          192,
          249,
          301,
          320,
          226,
          220,
          292,
          177,
          281,
          191,
          219,
          178,
          184,
          209,
          220,
          171,
          207,
          307,
          142,
          221,
          10,
          2,
          268,
          221,
          226,
          118,
          272,
          117,
          281,
          412,
          200,
          203,
          170,
          417,
          257,
          266,
          242,
          335,
          222,
          242,
          249,
          269,
          259,
          162,
          192,
          216,
          343,
          245,
          261,
          211,
          234,
          299,
          280,
          199,
          208,
          229,
          256,
          205,
          238,
          354,
          278,
          276,
          151,
          226,
          248,
          268,
          232,
          263,
          210,
          234,
          278,
          345,
          149,
          247,
          186,
          280,
          292,
          263,
          218,
          193,
          239,
          268,
          400,
          225,
          266,
          252,
          412,
          211,
          237,
          261,
          148,
          215,
          270,
          274,
          312,
          297,
          239,
          215,
          226,
          240,
          222,
          114,
          198,
          215,
          201,
          285,
          165,
          375,
          207,
          144,
          266,
          242,
          244,
          210,
          121,
          315,
          244,
          186,
          228,
          267,
          171,
          288,
          220,
          247,
          318,
          212,
          187,
          312,
          146,
          255,
          186,
          517,
          258,
          268,
          163,
          227,
          173,
          228,
          304,
          306,
          213,
          389,
          254,
          253,
          222,
          267,
          235,
          234,
          208,
          148,
          198,
          220,
          246,
          207,
          264,
          113,
          264,
          4,
          105,
          67,
          117,
          209,
          132,
          364,
          453,
          270,
          308,
          366,
          132,
          247,
          183,
          234,
          202,
          250,
          280,
          243,
          315,
          207,
          8,
          200,
          182,
          281,
          163,
          173,
          190,
          305,
          90,
          326,
          171,
          280,
          345,
          11,
          240,
          281,
          244,
          190,
          265,
          242,
          321,
          283,
          213,
          165,
          252,
          269,
          219,
          114,
          274,
          256,
          14,
          15,
          82,
          270,
          219,
          94,
          220,
          202,
          258,
          228,
          239,
          222,
          259,
          146,
          243,
          127,
          217,
          7,
          289,
          297,
          268,
          283,
          260,
          360,
          134,
          262,
          263,
          395,
          162,
          210,
          229,
          289,
          145,
          266,
          208,
          267,
          284,
          311,
          259,
          270,
          303,
          354,
          124,
          267,
          20,
          270,
          275,
          182,
          223,
          230,
          15,
          204,
          232,
          315,
          215,
          276,
          287,
          158,
          283,
          253,
          222,
          94,
          225,
          218,
          207,
          253,
          298,
          223,
          72,
          158,
          256,
          255,
          260,
          219,
          244,
          220,
          184,
          7,
          205,
          312,
          363,
          230,
          246,
          210,
          241,
          206,
          308,
          213,
          325,
          167,
          259,
          242,
          201,
          229,
          220,
          269,
          555,
          153,
          306,
          433,
          273,
          248,
          223,
          239,
          475,
          123,
          224,
          341,
          233,
          280,
          170,
          213,
          264,
          291,
          316,
          249,
          303,
          209,
          284,
          288,
          220,
          206,
          230,
          24,
          228,
          233,
          219,
          239,
          265,
          314,
          298,
          240,
          274,
          144,
          187,
          214,
          310,
          235,
          190,
          203,
          195,
          79,
          189,
          121,
          231,
          243,
          183,
          87,
          227,
          241,
          298,
          146,
          146,
          167,
          477,
          220,
          187,
          360,
          149,
          220,
          289,
          234,
          106,
          291,
          224,
          187,
          260,
          423,
          95,
          260,
          124,
          247,
          291,
          423,
          267,
          164,
          392,
          243,
          263,
          244,
          268,
          420,
          180,
          336,
          285,
          139,
          200,
          261,
          283,
          254,
          125,
          253,
          196,
          86,
          161,
          232,
          227,
          241,
          241,
          218,
          226,
          302,
          248,
          228,
          165,
          164,
          146,
          229,
          271,
          279,
          222,
          409,
          382,
          432,
          207,
          227,
          213,
          223,
          326,
          84,
          163,
          305,
          245,
          324,
          486,
          218,
          275,
          157,
          138,
          161,
          207,
          241,
          226,
          218,
          307,
          234,
          214,
          223,
          148,
          198,
          251,
          142,
          277,
          188,
          176,
          231,
          234,
          230,
          401,
          236,
          124,
          273,
          324,
          298,
          337,
          288,
          241,
          190,
          211,
          200,
          233,
          216,
          271,
          12,
          285,
          262,
          242,
          266,
          281,
          172,
          140,
          223,
          240,
          308,
          185,
          268,
          106,
          264,
          257,
          198,
          207,
          150,
          288,
          215,
          163,
          375,
          114,
          236,
          315,
          288,
          352,
          431,
          221,
          278,
          152,
          218,
          266,
          293,
          218,
          242,
          209,
          190,
          228,
          190,
          280,
          247,
          230,
          303,
          235,
          368,
          368,
          234,
          305,
          317,
          271,
          201,
          243,
          230,
          328,
          295,
          285,
          221,
          4,
          311,
          268,
          270,
          226,
          179,
          233,
          187,
          236,
          469,
          261,
          331,
          366,
          273,
          140,
          150,
          299,
          182,
          271,
          296,
          255,
          222,
          226,
          213,
          153,
          298,
          327,
          201,
          278,
          291,
          247,
          12,
          218,
          207,
          165,
          225,
          291,
          253,
          164,
          276,
          283,
          342,
          127,
          260,
          170,
          138,
          148,
          221,
          275,
          254,
          290,
          222,
          243,
          244,
          236,
          261,
          283,
          239,
          230,
          285,
          217,
          203,
          327,
          275,
          263,
          272,
          318,
          396,
          333,
          291,
          148,
          13,
          222,
          222,
          144,
          278,
          259,
          189,
          226,
          254,
          237,
          169,
          207,
          367,
          315,
          286,
          76,
          226,
          217,
          154,
          152,
          206,
          252,
          179,
          248,
          296,
          226,
          261,
          213,
          243,
          273,
          278,
          260,
          259,
          215,
          214,
          255,
          149,
          278,
          204,
          197,
          210,
          259,
          258,
          190,
          205,
          214,
          119,
          129,
          267,
          169,
          657,
          165,
          133,
          219,
          240,
          150,
          470,
          180,
          166,
          211,
          292,
          103,
          111,
          146,
          270,
          301,
          234,
          141,
          218,
          234,
          210,
          174,
          191,
          297,
          223,
          271,
          170,
          335,
          10,
          326,
          258,
          237,
          250,
          215,
          233,
          246,
          284,
          141,
          271,
          350,
          290,
          356,
          337,
          156,
          364,
          20,
          286,
          267,
          292,
          295,
          361,
          291,
          252,
          195,
          157,
          141,
          211,
          123,
          111,
          193,
          336,
          245,
          224,
          76,
          148,
          257,
          275,
          206,
          246,
          232,
          290,
          293,
          166,
          146,
          251,
          227,
          221,
          442,
          202,
          275,
          362,
          261,
          254,
          268,
          180,
          216,
          210,
          245,
          329,
          197,
          155,
          215,
          80,
          128,
          278,
          243,
          246,
          282,
          458,
          293,
          206,
          201,
          201,
          229,
          133,
          209,
          198,
          368,
          180,
          389,
          277,
          265,
          250,
          255,
          269,
          275,
          262,
          194,
          140,
          179,
          276,
          377,
          297,
          378,
          278,
          227,
          71,
          185,
          263,
          194,
          246,
          252,
          201,
          307,
          270,
          131,
          226,
          268,
          293,
          316,
          281,
          221,
          259,
          158,
          279,
          10,
          10,
          213,
          180,
          153,
          134,
          216,
          257,
          235,
          271,
          250,
          306,
          301,
          235,
          299,
          286,
          192,
          156,
          312,
          200,
          179,
          217,
          210,
          177,
          80,
          252,
          256,
          245,
          186,
          242,
          291,
          264,
          207,
          171,
          224,
          292,
          281,
          233,
          195,
          183,
          318,
          350,
          216,
          316,
          223,
          257,
          232,
          284,
          215,
          140,
          206,
          133,
          206,
          224,
          216,
          220,
          314,
          170,
          172,
          88,
          263,
          253,
          65,
          99,
          147,
          279,
          285,
          128,
          104,
          205,
          313,
          13,
          5,
          407,
          301,
          249,
          233,
          183,
          236,
          239,
          223,
          205,
          224,
          240,
          248,
          198,
          409,
          269,
          233,
          288,
          360,
          223,
          348,
          258,
          401,
          115,
          332,
          193,
          252,
          193,
          287,
          223,
          140,
          216,
          184,
          312,
          329,
          162,
          158,
          288,
          202,
          169,
          286,
          263,
          121,
          86,
          255,
          189,
          221,
          280,
          220,
          266,
          228,
          379,
          183,
          171,
          290,
          157,
          198,
          266,
          227,
          231,
          256,
          183,
          280,
          287,
          253,
          242,
          285,
          248,
          380,
          168,
          263,
          263,
          118,
          230,
          214,
          101,
          222,
          158,
          164,
          169,
          69,
          66,
          226,
          243,
          301,
          179,
          168,
          270,
          287,
          243,
          226,
          306,
          309,
          221,
          253,
          304,
          292,
          180,
          223,
          223,
          158,
          46,
          232,
          7,
          97,
          257,
          343,
          277,
          182,
          206,
          250,
          229,
          313,
          294,
          227,
          286,
          307,
          121,
          122,
          162,
          169,
          275,
          132,
          267,
          227,
          158,
          247,
          220,
          274,
          295,
          201,
          297,
          282,
          208,
          290,
          261,
          283,
          229,
          261,
          190,
          341,
          296,
          160,
          248,
          213,
          227,
          251,
          262,
          312,
          243,
          297,
          125,
          167,
          251,
          115,
          262,
          174,
          191,
          57,
          181,
          267,
          225,
          140,
          237,
          226,
          209,
          357,
          244,
          269,
          216,
          297,
          130,
          224,
          314,
          208,
          291,
          208,
          207,
          179,
          288,
          168,
          282,
          224,
          225,
          212,
          269,
          311,
          284,
          94,
          109,
          233,
          242,
          199,
          118,
          180,
          223,
          319,
          206,
          676,
          236,
          106,
          200,
          288,
          324,
          148,
          222,
          271,
          158,
          272,
          241,
          162,
          235,
          220,
          292,
          300,
          272,
          307,
          11,
          12,
          187,
          454,
          305,
          293,
          129,
          182,
          275,
          311,
          212,
          203,
          293,
          189,
          129,
          84,
          228,
          245,
          176,
          261,
          259,
          288,
          182,
          204,
          228,
          215,
          294,
          254,
          217,
          240,
          305,
          207,
          191,
          240,
          219,
          149,
          219,
          88,
          241,
          248,
          180,
          207,
          253,
          387,
          8,
          6,
          207,
          206,
          220,
          222,
          211,
          257,
          164,
          260,
          286,
          315,
          244,
          317,
          200,
          397,
          278,
          208,
          226,
          255,
          236,
          233,
          206,
          198,
          155,
          357,
          139,
          628,
          163,
          284,
          314,
          288,
          269,
          257,
          231,
          291,
          294,
          249,
          264,
          295,
          315,
          186,
          329,
          374,
          261,
          259,
          243,
          210,
          148,
          268,
          263,
          243,
          318,
          228,
          252,
          303,
          221,
          266,
          296,
          235,
          269,
          292,
          238,
          203,
          168,
          194,
          63,
          150,
          226,
          314,
          248,
          199,
          226,
          229,
          230,
          273,
          225,
          181,
          267,
          204,
          153,
          223,
          246,
          209,
          262,
          309,
          315,
          274,
          223,
          219,
          253,
          177,
          158,
          376,
          217,
          212,
          199,
          194,
          171,
          355,
          313,
          90,
          202,
          197,
          235,
          98,
          149,
          214,
          466,
          194,
          258,
          93,
          157,
          263,
          176,
          274,
          335,
          208,
          178,
          298,
          207,
          170,
          302,
          204,
          254,
          15,
          219,
          302,
          328,
          149,
          231,
          217,
          222,
          259,
          212,
          192,
          324,
          207,
          292,
          238,
          267,
          247,
          224,
          268,
          206,
          212,
          196,
          274,
          217,
          263,
          145,
          263,
          54,
          218,
          280,
          231,
          6,
          166,
          216,
          245,
          206,
          260,
          262,
          224,
          165,
          188,
          153,
          231,
          262,
          197,
          201,
          211,
          248,
          142,
          253,
          227,
          228,
          251,
          225,
          106,
          201,
          286,
          102,
          255,
          348,
          187,
          277,
          280,
          177,
          225,
          265,
          202,
          288,
          250,
          185,
          219,
          286,
          207,
          207,
          160,
          238,
          287,
          282,
          211,
          288,
          216,
          145,
          315,
          225,
          163,
          275,
          182,
          205,
          108,
          290,
          207,
          265,
          311,
          212,
          263,
          279,
          268,
          164,
          255,
          296,
          260,
          313,
          173,
          214,
          186,
          147,
          131,
          258,
          189,
          125,
          86,
          150,
          164,
          262,
          172,
          193,
          290,
          8,
          10,
          262,
          241,
          338,
          246,
          291,
          189,
          262,
          179,
          240,
          299,
          167,
          231,
          305,
          183,
          305,
          180,
          270,
          279,
          266,
          7,
          6,
          276,
          324,
          94,
          287,
          285,
          196,
          175,
          301,
          385,
          12,
          320,
          272,
          228,
          279,
          81,
          6,
          277,
          237,
          307,
          190,
          230,
          295,
          256,
          237,
          311,
          221,
          233,
          290,
          274,
          82,
          89,
          226,
          262,
          239,
          309,
          260,
          209,
          248,
          173,
          175,
          321,
          309,
          521,
          308,
          200,
          197,
          229,
          261,
          273,
          173,
          261,
          220,
          196,
          154,
          201,
          149,
          190,
          277,
          214,
          239,
          158,
          191,
          115,
          246,
          296,
          169,
          162,
          135,
          5,
          256,
          192,
          165,
          115,
          226,
          122,
          170,
          125,
          216,
          190,
          151,
          298,
          187,
          206,
          111,
          268,
          224,
          176,
          320,
          271,
          323,
          260,
          248,
          203,
          242,
          271,
          304,
          163,
          284,
          372,
          322,
          265,
          249,
          185,
          159,
          194,
          334,
          134,
          321,
          191,
          225,
          8,
          236,
          130,
          269,
          249,
          328,
          198,
          164,
          10,
          315,
          120,
          267,
          250,
          203,
          11,
          281,
          256,
          269,
          243,
          252,
          165,
          180,
          266,
          268,
          303,
          188,
          225,
          248,
          275,
          175,
          177,
          244,
          303,
          249,
          201,
          87,
          160,
          260,
          133,
          204,
          181,
          195,
          225,
          23,
          173,
          197,
          171,
          164,
          125,
          229,
          253,
          220,
          179,
          241,
          302,
          301,
          201,
          297,
          256,
          274,
          278,
          267,
          339,
          327,
          227,
          266,
          228,
          401,
          402,
          173,
          235,
          259,
          158,
          150,
          293,
          228,
          208,
          199,
          326,
          272,
          259,
          309,
          247,
          80,
          392,
          167,
          275,
          233,
          103,
          261,
          201,
          213,
          308,
          262,
          258,
          185,
          248,
          281,
          302,
          215,
          273,
          256,
          236,
          246,
          275,
          270,
          6,
          194,
          11,
          202,
          206,
          5,
          280,
          302,
          261,
          309,
          180,
          335,
          215,
          266,
          221,
          268,
          239,
          271,
          259,
          273,
          210,
          213,
          195,
          254,
          140,
          249,
          206,
          262,
          220,
          266,
          280,
          178,
          360,
          151,
          153,
          245,
          289,
          248,
          101,
          90,
          299,
          178,
          205,
          219,
          226,
          262,
          233,
          251,
          468,
          306,
          247,
          302,
          231,
          261,
          202,
          279,
          237,
          208,
          249,
          153,
          105,
          122,
          226,
          187,
          137,
          340,
          267,
          237,
          345,
          343,
          165,
          287,
          297,
          215,
          229,
          275,
          237,
          224,
          218,
          113,
          185,
          266,
          154,
          283,
          208,
          278,
          213,
          144,
          195,
          269,
          167,
          216,
          80,
          179,
          156,
          239,
          215,
          387,
          382,
          200,
          245,
          284,
          218,
          105,
          211,
          103,
          155,
          268,
          339,
          161,
          264,
          231,
          301,
          261,
          387,
          263,
          277,
          230,
          281,
          394,
          282,
          314,
          312,
          306,
          283,
          222,
          224,
          307,
          304,
          291,
          259,
          254,
          168,
          298,
          267,
          326,
          286,
          302,
          191,
          278,
          305,
          116,
          103,
          176,
          294,
          191,
          185,
          155,
          264,
          251,
          320,
          275,
          320,
          224,
          253,
          257,
          232,
          183,
          238,
          286,
          273,
          313,
          104,
          98,
          176,
          235,
          155,
          317,
          274,
          228,
          201,
          346,
          375,
          271,
          345,
          269,
          242,
          274,
          237,
          346,
          359,
          381,
          221,
          318,
          255,
          361,
          243,
          274,
          259,
          277,
          247,
          238,
          248,
          386,
          244,
          145,
          267,
          261,
          224,
          321,
          214,
          168,
          130,
          152,
          205,
          279,
          245,
          102,
          71,
          180,
          276,
          287,
          254,
          308,
          370,
          163,
          355,
          76,
          270,
          155,
          376,
          224,
          222,
          297,
          293,
          303,
          231,
          310,
          670,
          294,
          183,
          199,
          152,
          177,
          241,
          295,
          242,
          189,
          213,
          297,
          175,
          213,
          296,
          274,
          198,
          316,
          105,
          65,
          253,
          312,
          200,
          107,
          295,
          135,
          297,
          252,
          264,
          291,
          200,
          515,
          268,
          127,
          289,
          233,
          176,
          372,
          100,
          219,
          9,
          165,
          257,
          192,
          221,
          247,
          159,
          266,
          445,
          239,
          328,
          326,
          224,
          304,
          217,
          15,
          140,
          157,
          253,
          171,
          145,
          160,
          188,
          128,
          218,
          169,
          275,
          305,
          228,
          296,
          259,
          300,
          296,
          300,
          214,
          238,
          330,
          342,
          110,
          145,
          154,
          212,
          120,
          452,
          293,
          263,
          158,
          421,
          326,
          281,
          227,
          294,
          258,
          297,
          203,
          155,
          221,
          235,
          270,
          208,
          288,
          173,
          152,
          228,
          207,
          313,
          139,
          366,
          229,
          158,
          180,
          242,
          174,
          145,
          187,
          148,
          249,
          277,
          168,
          209,
          218,
          141,
          88,
          192,
          86,
          282,
          9,
          349,
          270,
          219,
          320,
          283,
          255,
          247,
          234,
          240,
          311,
          456,
          335,
          225,
          242,
          242,
          239,
          268,
          146,
          279,
          282,
          270,
          279,
          253,
          281,
          236,
          244,
          287,
          284,
          277,
          275,
          284,
          308,
          305,
          307,
          319,
          222,
          178,
          338,
          246,
          183,
          110,
          165,
          142,
          334,
          275,
          235,
          211,
          192,
          252,
          204,
          259,
          237,
          108,
          178,
          154,
          224,
          98,
          253,
          325,
          296,
          456,
          236,
          340,
          264,
          214,
          194,
          85,
          409,
          221,
          276,
          256,
          251,
          364,
          219,
          263,
          237,
          196,
          314,
          274,
          320,
          311,
          429,
          187,
          245,
          209,
          211,
          176,
          133,
          325,
          340,
          214,
          258,
          256,
          604,
          90,
          280,
          208,
          288,
          242,
          181,
          251,
          311,
          216,
          227,
          210,
          400,
          275,
          281,
          296,
          107,
          221,
          107,
          82,
          79,
          173,
          231,
          146,
          262,
          220,
          263,
          466,
          160,
          261,
          285,
          303,
          262,
          222,
          242,
          297,
          123,
          231,
          203,
          285,
          143,
          243,
          206,
          16,
          250,
          263,
          216,
          266,
          324,
          239,
          275,
          232,
          255,
          235,
          226,
          220,
          172,
          215,
          356,
          298,
          279,
          318,
          271,
          329,
          211,
          304,
          320,
          188,
          277,
          86,
          320,
          208,
          295,
          150,
          236,
          159,
          191,
          245,
          322,
          315,
          270,
          220,
          346,
          151,
          294,
          279,
          225,
          245,
          239,
          129,
          214,
          194,
          228,
          246,
          251,
          250,
          395,
          175,
          181,
          186,
          222,
          149,
          303,
          254,
          215,
          281,
          267,
          182,
          265,
          271,
          248,
          264,
          225,
          164,
          347,
          209,
          375,
          203,
          286,
          253,
          183,
          144,
          238,
          276,
          137,
          178,
          203,
          317,
          241,
          154,
          212,
          290,
          172,
          268,
          281,
          310,
          65,
          188,
          250,
          241,
          340,
          202,
          188,
          239,
          200,
          228,
          192,
          285,
          206,
          245,
          289,
          4,
          155,
          268,
          198,
          255,
          294,
          278,
          236,
          331,
          236,
          228,
          183,
          231,
          246,
          252,
          233,
          275,
          162,
          228,
          402,
          316,
          10,
          174,
          260,
          299,
          158,
          294,
          392,
          158,
          182,
          169,
          165,
          141,
          164,
          163,
          169,
          274,
          255,
          268,
          218,
          266,
          340,
          342,
          275,
          266,
          229,
          222,
          170,
          142,
          234,
          175,
          86,
          205,
          324,
          239,
          284,
          355,
          214,
          70,
          155,
          215,
          125,
          262,
          137,
          157,
          140,
          301,
          211,
          254,
          186,
          219,
          252,
          298,
          269,
          114,
          290,
          407,
          209,
          151,
          196,
          249,
          284,
          274,
          164,
          129,
          286,
          291,
          454,
          270,
          275,
          216,
          302,
          316,
          234,
          184,
          219,
          267,
          259,
          298,
          222,
          257,
          172,
          217,
          208,
          186,
          226,
          242,
          113,
          203,
          116,
          190,
          122,
          255,
          146,
          299,
          259,
          221,
          239,
          220,
          92,
          94,
          157,
          85,
          201,
          202,
          86,
          180,
          199,
          279,
          281,
          220,
          217,
          150,
          123,
          277,
          226,
          281,
          222,
          348,
          310,
          308,
          317,
          128,
          260,
          292,
          300,
          194,
          259,
          250,
          298,
          269,
          272,
          182,
          220,
          278,
          276,
          216,
          114,
          230,
          164,
          277,
          236,
          261,
          268,
          271,
          162,
          214,
          200,
          227,
          205,
          199,
          177,
          184,
          205,
          265,
          284,
          178,
          219,
          221,
          155,
          185,
          459,
          110,
          119,
          133,
          120,
          196,
          229,
          175,
          273,
          155,
          254,
          127,
          144,
          253,
          232,
          238,
          206,
          133,
          303,
          266,
          223,
          306,
          149,
          341,
          282,
          195,
          208,
          184,
          318,
          223,
          216,
          353,
          347,
          239,
          282,
          255,
          110,
          251,
          271,
          310,
          313,
          336,
          243,
          260,
          185,
          212,
          199,
          17,
          180,
          208,
          374,
          284,
          8,
          306,
          271,
          247,
          516,
          257,
          303,
          211,
          212,
          247,
          274,
          236,
          241,
          289,
          130,
          262,
          179,
          295,
          239,
          259,
          221,
          302,
          242,
          229,
          239,
          376,
          228,
          235,
          203,
          272,
          128,
          329,
          287,
          373,
          102,
          275,
          329,
          313,
          281,
          274,
          273,
          303,
          113,
          354,
          95,
          118,
          87,
          151,
          272,
          90,
          230,
          227,
          258,
          9,
          245,
          200,
          144,
          84,
          208,
          101,
          371,
          234,
          143,
          186,
          243,
          157,
          238,
          227,
          162,
          224,
          217,
          146,
          241,
          240,
          224,
          219,
          199,
          233,
          269,
          345,
          219,
          227,
          192,
          202,
          229,
          410,
          206,
          225,
          260,
          284,
          339,
          217,
          218,
          298,
          212,
          350,
          139,
          165,
          249,
          287,
          217,
          228,
          171,
          303,
          255,
          217,
          240,
          201,
          111,
          253,
          174,
          243,
          390,
          264,
          271,
          153,
          131,
          267,
          262,
          279,
          180,
          199,
          280,
          179,
          188,
          309,
          225,
          259,
          222,
          133,
          167,
          109,
          185,
          106,
          118,
          203,
          283,
          268,
          243,
          319,
          182,
          259,
          243,
          282,
          309,
          267,
          274,
          271,
          226,
          309,
          218,
          319,
          183,
          254,
          258,
          248,
          223,
          271,
          268,
          206,
          151,
          260,
          262,
          343,
          344,
          285,
          285,
          265,
          339,
          271,
          201,
          342,
          183,
          277,
          153,
          79,
          223,
          3,
          100,
          373,
          237,
          155,
          105,
          168,
          343,
          304,
          240,
          213,
          416,
          173,
          150,
          239,
          318,
          388,
          156,
          239,
          158,
          266,
          194,
          207,
          293,
          233,
          220,
          213,
          292,
          237,
          191,
          273,
          280,
          236,
          295,
          277,
          244,
          239,
          311,
          297,
          147,
          211,
          264,
          267,
          242,
          270,
          228,
          260,
          218,
          324,
          199,
          213,
          354,
          261,
          2,
          241,
          143,
          296,
          203,
          235,
          210,
          246,
          267,
          166,
          238,
          165,
          251,
          249,
          248,
          260,
          161,
          152,
          220,
          238,
          290,
          247,
          207,
          259,
          216,
          87,
          248,
          239,
          268,
          170,
          152,
          157,
          114,
          308,
          196,
          69,
          361,
          266,
          262,
          204,
          267,
          151,
          297,
          223,
          240,
          219,
          229,
          87,
          159,
          259,
          252,
          124,
          375,
          357,
          226,
          243,
          342,
          270,
          360,
          243,
          259,
          248,
          285,
          191,
          186,
          208,
          278,
          210,
          18,
          208,
          11,
          178,
          270,
          268,
          362,
          210,
          228,
          222,
          279,
          257,
          275,
          370,
          251,
          221,
          259,
          238,
          159,
          255,
          252,
          162,
          184,
          227,
          117,
          224,
          285,
          292,
          319,
          316,
          216,
          292,
          284,
          334,
          181,
          133,
          111,
          232,
          297,
          284,
          188,
          282,
          231,
          275,
          312,
          266,
          240,
          313,
          302,
          238,
          282,
          156,
          205,
          120,
          260,
          345,
          186,
          296,
          315,
          336,
          241,
          164,
          258,
          275,
          245,
          151,
          260,
          254,
          208,
          115,
          170,
          149,
          215,
          200,
          103,
          131,
          213,
          158,
          442,
          161,
          257,
          323,
          273,
          252,
          173,
          165,
          249,
          217,
          199,
          271,
          187,
          344,
          225,
          156,
          267,
          201,
          259,
          329,
          323,
          214,
          213,
          120,
          150,
          205,
          211,
          327,
          209,
          168,
          288,
          259,
          236,
          315,
          238,
          204,
          240,
          210,
          205,
          190,
          381,
          595,
          218,
          249,
          253,
          217,
          181,
          365,
          336,
          279,
          272,
          152,
          207,
          226,
          273,
          358,
          310,
          187,
          272,
          147,
          213,
          151,
          132,
          202,
          257,
          305,
          365,
          337,
          260,
          183,
          265,
          260,
          215,
          350,
          291,
          179,
          272,
          216,
          154,
          154,
          223,
          264,
          217,
          228,
          154,
          142,
          212,
          272,
          327,
          270,
          189,
          579,
          222,
          224,
          297,
          201,
          257,
          217,
          249,
          271,
          223,
          100,
          270,
          198,
          237,
          344,
          233,
          228,
          117,
          276,
          185,
          301,
          392,
          259,
          249,
          122,
          129,
          191,
          233,
          264,
          288,
          206,
          250,
          269,
          156,
          263,
          46,
          263,
          135,
          252,
          380,
          87,
          212,
          219,
          189,
          235,
          272,
          314,
          292,
          310,
          305,
          295,
          247,
          231,
          316,
          219,
          265,
          343,
          202,
          211,
          433,
          256,
          81,
          300,
          246,
          277,
          234,
          265,
          282,
          252,
          231,
          233,
          308,
          201,
          294,
          203,
          316,
          248,
          273,
          370,
          228,
          256,
          209,
          191,
          205,
          291,
          273,
          147,
          162,
          195,
          302,
          112,
          380,
          153,
          156,
          293,
          245,
          219,
          278,
          300,
          287,
          432,
          219,
          228,
          233,
          203,
          138,
          134,
          65,
          173,
          122,
          256,
          303,
          293,
          285,
          223,
          311,
          149,
          394,
          205,
          230,
          347,
          277,
          279,
          289,
          263,
          408,
          304,
          256,
          258,
          259,
          251,
          184,
          227,
          374,
          219,
          221,
          224,
          221,
          254,
          226,
          264,
          244,
          200,
          273,
          150,
          286,
          261,
          208,
          241,
          255,
          292,
          269,
          220,
          229,
          261,
          214,
          205,
          147,
          348,
          215,
          207,
          267,
          213,
          273,
          325,
          316,
          270,
          279,
          252,
          312,
          306,
          212,
          248,
          283,
          307,
          187,
          217,
          191,
          252,
          111,
          232,
          190,
          243,
          176,
          168,
          248,
          239,
          256,
          371,
          220,
          192,
          321,
          310,
          330,
          233,
          219,
          48,
          268,
          117,
          470,
          128,
          249,
          233,
          199,
          114,
          216,
          112,
          149,
          114,
          374,
          203,
          217,
          264,
          322,
          188,
          274,
          163,
          267,
          150,
          154,
          165,
          166,
          153,
          133,
          200,
          147,
          324,
          115,
          299,
          313,
          273,
          226,
          249,
          149,
          224,
          246,
          261,
          325,
          319,
          370,
          265,
          204,
          600,
          161,
          230,
          157,
          354,
          258,
          260,
          228,
          198,
          145,
          222,
          292,
          290,
          225,
          406,
          203,
          137,
          375,
          380,
          381,
          170,
          222,
          253,
          16,
          104,
          449,
          213,
          304,
          262,
          106,
          325,
          169,
          105,
          138,
          108,
          239,
          221,
          207,
          219,
          268,
          204,
          294,
          280,
          268,
          200,
          179,
          344,
          315,
          260,
          249,
          159,
          178,
          240,
          246,
          172,
          312,
          142,
          132,
          322,
          252,
          286,
          368,
          253,
          9,
          303,
          245,
          255,
          290,
          316,
          245,
          259,
          7,
          287,
          422,
          219,
          283,
          316,
          268,
          268,
          184,
          267,
          287,
          251,
          230,
          192,
          9,
          222,
          277,
          339,
          250,
          317,
          308,
          326,
          322,
          262,
          366,
          177,
          260,
          127,
          281,
          215,
          220,
          124,
          160,
          250,
          246,
          277,
          201,
          377,
          355,
          208,
          173,
          213,
          154,
          169,
          258,
          91,
          272,
          154,
          348,
          265,
          243,
          254,
          153,
          152,
          262,
          252,
          256,
          249,
          85,
          233,
          290,
          305,
          256,
          213,
          360,
          225,
          514,
          160,
          248,
          261,
          98,
          171,
          178,
          226,
          199,
          216,
          10,
          206,
          170,
          135,
          274,
          244,
          212,
          254,
          154,
          330,
          271,
          304,
          326,
          202,
          199,
          166,
          257,
          220,
          217,
          262,
          329,
          278,
          263,
          254,
          126,
          170,
          86,
          122,
          213,
          249,
          176,
          303,
          226,
          235,
          183,
          375,
          329,
          152,
          169,
          264,
          7,
          112,
          248,
          317,
          232,
          99,
          170,
          278,
          152,
          332,
          253,
          242,
          248,
          303,
          263,
          274,
          61,
          201,
          413,
          217,
          256,
          209,
          255,
          233,
          272,
          135,
          210,
          251,
          258,
          249,
          192,
          313,
          255,
          291,
          330,
          179,
          267,
          184,
          366,
          313,
          284,
          228,
          186,
          358,
          263,
          263,
          243,
          268,
          214,
          218,
          309,
          257,
          251,
          293,
          246,
          108,
          175,
          254,
          271,
          302,
          225,
          186,
          151,
          142,
          307,
          137,
          87,
          280,
          196,
          213,
          244,
          288,
          420,
          198,
          397,
          289,
          181,
          218,
          176,
          268,
          198,
          277,
          274,
          211,
          216,
          204,
          103,
          265,
          217,
          199,
          216,
          218,
          218,
          216,
          215,
          184,
          303,
          147,
          365,
          223,
          230,
          349,
          257,
          264,
          335,
          185,
          255,
          283,
          274,
          235,
          186,
          188,
          252,
          154,
          214,
          117,
          179,
          152,
          200,
          156,
          258,
          232,
          214,
          290,
          233,
          260,
          325,
          219,
          186,
          233,
          219,
          385,
          271,
          147,
          279,
          160,
          305,
          277,
          244,
          243,
          172,
          194,
          235,
          196,
          285,
          403,
          409,
          168,
          169,
          291,
          178,
          271,
          205,
          283,
          223,
          279,
          217,
          286,
          103,
          247,
          237,
          313,
          272,
          321,
          317,
          175,
          242,
          224,
          275,
          105,
          265,
          104,
          275,
          264,
          209,
          210,
          374,
          237,
          224,
          214,
          176,
          341,
          192,
          84,
          188,
          257,
          306,
          170,
          174,
          221,
          325,
          328,
          215,
          235,
          226,
          228,
          157,
          192,
          239,
          217,
          100,
          322,
          358,
          226,
          200,
          163,
          344,
          263,
          295,
          135,
          206,
          314,
          160,
          355,
          305,
          262,
          261,
          316,
          248,
          296,
          276,
          282,
          277,
          192,
          221,
          469,
          256,
          217,
          253,
          218,
          387,
          253,
          319,
          303,
          178,
          233,
          287,
          245,
          248,
          248,
          268,
          109,
          206,
          242,
          268,
          283,
          231,
          151,
          209,
          289,
          233,
          258,
          302,
          272,
          173,
          228,
          217,
          267,
          256,
          236,
          208,
          219,
          112,
          6,
          58,
          261,
          200,
          514,
          106,
          234,
          217,
          243,
          145,
          278,
          305,
          146,
          212,
          216,
          80,
          286,
          174,
          134,
          202,
          265,
          270,
          13,
          221,
          253,
          291,
          236,
          248,
          151,
          181,
          366,
          267,
          263,
          516,
          303,
          178,
          212,
          269,
          228,
          253,
          331,
          128,
          182,
          202,
          256,
          152,
          223,
          248,
          347,
          226,
          161,
          290,
          269,
          261,
          267,
          266,
          215,
          207,
          225,
          203,
          277,
          274,
          203,
          314,
          409,
          72,
          188,
          322,
          276,
          243,
          91,
          194,
          292,
          233,
          211,
          206,
          332,
          237,
          69,
          105,
          86,
          269,
          285,
          256,
          326,
          258,
          204,
          146,
          238,
          304,
          296,
          164,
          177,
          256,
          231,
          176,
          199,
          220,
          135,
          147,
          264,
          217,
          218,
          187,
          207,
          210,
          225,
          223,
          82,
          238,
          213,
          204,
          208,
          171,
          290,
          212,
          206,
          191,
          267,
          122,
          238,
          397,
          336,
          370,
          262,
          294,
          157,
          157,
          236,
          355,
          254,
          282,
          198,
          420,
          268,
          319,
          275,
          288,
          339,
          232,
          254,
          265,
          132,
          177,
          122,
          251,
          10,
          217,
          221,
          156,
          220,
          280,
          277,
          256,
          172,
          183,
          217,
          226,
          224,
          215,
          222,
          261,
          268,
          265,
          295,
          7,
          349,
          273,
          279,
          146,
          276,
          136,
          161,
          284,
          221,
          205,
          283,
          173,
          210,
          115,
          236,
          292,
          261,
          198,
          93,
          212,
          238,
          258,
          262,
          251,
          269,
          225,
          101,
          191,
          216,
          107,
          274,
          262,
          293,
          228,
          288,
          165,
          176,
          190,
          186,
          262,
          178,
          157,
          264,
          247,
          238,
          180,
          271,
          209,
          7,
          228,
          195,
          340,
          133,
          188,
          97,
          245,
          400,
          252,
          239,
          252,
          203,
          216,
          302,
          342,
          275,
          267,
          212,
          216,
          148,
          358,
          259,
          178,
          207,
          276,
          256,
          262,
          221,
          177,
          223,
          113,
          234,
          274,
          314,
          273,
          222,
          148,
          334,
          207,
          167,
          309,
          151,
          262,
          150,
          251,
          277,
          215,
          222,
          182,
          248,
          207,
          179,
          183,
          213,
          251,
          290,
          142,
          307,
          189,
          413,
          218,
          339,
          231,
          302,
          278,
          239,
          213,
          190,
          98,
          163,
          167,
          227,
          228,
          188,
          230,
          240,
          359,
          340,
          207,
          279,
          216,
          180,
          87,
          161,
          232,
          229,
          301,
          218,
          220,
          369,
          221,
          99,
          134,
          197,
          156,
          504,
          347,
          92,
          295,
          221,
          251,
          198,
          546,
          181,
          216,
          151,
          323,
          101,
          413,
          169,
          219,
          264,
          459,
          309,
          251,
          288,
          317,
          108,
          162,
          157,
          204,
          172,
          132,
          265,
          253,
          140,
          255,
          207,
          277,
          257,
          98,
          208,
          262,
          73,
          255,
          209,
          156,
          176,
          173,
          2,
          57,
          203,
          108,
          220,
          118,
          365,
          163,
          247,
          167,
          189,
          8,
          204,
          196,
          341,
          440,
          120,
          261,
          330,
          232,
          280,
          191,
          341,
          8,
          235,
          112,
          227,
          127,
          128,
          311,
          133,
          321,
          291,
          216,
          139,
          213,
          130,
          225,
          372,
          265,
          197,
          526,
          226,
          206,
          277,
          271,
          384,
          374,
          265,
          182,
          281,
          215,
          261,
          214,
          182,
          136,
          168,
          263,
          168,
          289,
          114,
          92,
          55,
          10,
          12,
          12,
          255,
          233,
          333,
          218,
          271,
          147,
          351,
          92,
          95,
          293,
          156,
          255,
          190,
          120,
          244,
          247,
          325,
          106,
          217,
          147,
          255,
          160,
          130,
          236,
          135,
          206,
          233,
          262,
          216,
          161,
          198,
          277,
          193,
          73,
          11,
          422,
          141,
          274,
          165,
          237,
          86,
          172,
          60,
          148,
          138,
          241,
          158,
          404,
          334,
          233,
          292,
          197,
          241,
          238,
          216,
          153,
          370,
          363,
          209,
          122,
          209,
          223,
          239,
          336,
          311,
          222,
          301,
          223,
          314,
          194,
          97,
          265,
          228,
          371,
          197,
          165,
          7,
          276,
          322,
          107,
          152,
          459,
          211,
          7,
          171,
          403,
          294,
          270,
          302,
          237,
          212,
          423,
          403,
          272,
          208,
          211,
          335,
          261,
          229,
          319,
          279,
          285,
          233,
          236,
          232,
          150,
          280,
          227,
          279,
          187,
          204,
          276,
          303,
          437,
          302,
          229,
          347,
          137,
          276,
          217,
          214,
          285,
          268,
          276,
          183,
          192,
          256,
          239,
          278,
          233,
          147,
          181,
          268,
          205,
          212,
          308,
          171,
          152,
          250,
          224,
          174,
          211,
          277,
          189,
          276,
          175,
          293,
          204,
          208,
          9,
          264,
          227,
          265,
          383,
          183,
          66,
          364,
          133,
          244,
          206,
          227,
          203,
          191,
          196,
          196,
          164,
          146,
          152,
          340,
          243,
          246,
          243,
          314,
          391,
          106,
          216,
          220,
          203,
          205,
          97,
          320,
          84,
          210,
          252,
          157,
          287,
          90,
          174,
          257,
          392,
          503,
          234,
          257,
          207,
          114,
          528,
          414,
          162,
          208,
          184,
          197,
          211,
          274,
          239,
          277,
          299,
          170,
          209,
          268,
          397,
          420,
          332,
          304,
          124,
          356,
          350,
          38,
          215,
          292,
          269,
          265,
          280,
          237,
          91,
          314,
          288,
          229,
          348,
          334,
          219,
          157,
          271,
          231,
          79,
          220,
          176,
          226,
          127,
          314,
          181,
          270,
          200,
          417,
          229,
          249,
          228,
          323,
          234,
          172,
          193,
          248,
          250,
          203,
          284,
          226,
          140,
          158,
          194,
          223,
          249,
          154,
          261,
          254,
          187,
          274,
          163,
          171,
          309,
          224,
          157,
          297,
          319,
          259,
          253,
          230,
          148,
          157,
          336,
          467,
          208,
          289,
          232,
          244,
          213,
          201,
          221,
          292,
          255,
          321,
          278,
          442,
          133,
          302,
          128,
          201,
          200,
          232,
          187,
          168,
          143,
          216,
          208,
          11,
          209,
          197,
          145,
          123,
          252,
          237,
          229,
          191,
          231,
          293,
          241,
          11,
          231,
          218,
          173,
          261,
          245,
          269,
          259,
          266,
          11,
          66,
          214,
          146,
          262,
          185,
          283,
          209,
          144,
          177,
          63,
          84,
          147,
          137,
          10,
          318,
          297,
          367,
          265,
          88,
          203,
          186,
          202,
          134,
          216,
          243,
          240,
          125,
          188,
          246,
          262,
          296,
          77,
          204,
          162,
          238,
          244,
          387,
          260,
          218,
          338,
          263,
          323,
          161,
          184,
          196,
          249,
          321,
          321,
          144,
          214,
          129,
          212,
          203,
          184,
          240,
          244,
          291,
          287,
          305,
          205,
          208,
          134,
          211,
          187,
          264,
          158,
          133,
          201,
          254,
          193,
          499,
          123,
          249,
          282,
          191,
          353,
          156,
          262,
          188,
          222,
          244,
          209,
          274,
          304,
          285,
          288,
          177,
          271,
          272,
          290,
          346,
          209,
          160,
          276,
          146,
          269,
          153,
          165,
          109,
          191,
          244,
          238,
          226,
          90,
          290,
          211,
          266,
          189,
          196,
          307,
          194,
          134,
          127,
          264,
          241,
          147,
          97,
          62,
          225,
          277,
          316,
          190,
          249,
          329,
          332,
          206,
          245,
          216,
          175,
          301,
          167,
          242,
          240,
          227,
          187,
          445,
          214,
          214,
          190,
          199,
          6,
          120,
          371,
          283,
          95,
          298,
          196,
          114,
          352,
          219,
          249,
          64,
          277,
          273,
          215,
          233,
          211,
          222,
          297,
          241,
          226,
          75,
          408,
          508,
          420,
          280,
          291,
          317,
          224,
          188,
          264,
          306,
          378,
          311,
          282,
          148,
          294,
          254,
          324,
          157,
          364,
          258,
          169,
          209,
          140,
          172,
          98,
          313,
          272,
          289,
          236,
          233,
          400,
          7,
          345,
          199,
          145,
          242,
          340,
          263,
          62,
          228,
          230,
          152,
          280,
          342,
          149,
          209,
          201,
          76,
          96,
          6,
          128,
          243,
          273,
          337,
          273,
          281,
          276,
          6,
          173,
          281,
          244,
          257,
          154,
          10,
          220,
          251,
          366,
          311,
          291,
          195,
          215,
          10,
          277,
          349,
          244,
          301,
          133,
          278,
          5,
          4,
          261,
          255,
          288,
          223,
          85,
          404,
          268,
          218,
          178,
          152,
          216,
          228,
          215,
          82,
          265,
          173,
          188,
          188,
          180,
          261,
          228,
          394,
          178,
          327,
          157,
          59,
          95,
          332,
          212,
          278,
          363,
          342,
          235,
          342,
          141,
          187,
          236,
          198,
          261,
          298,
          266,
          209,
          180,
          72,
          627,
          270,
          231,
          335,
          231,
          148,
          333,
          296,
          8,
          265,
          408,
          267,
          237,
          191,
          84,
          167,
          213,
          166,
          207,
          261,
          281,
          414,
          288,
          292,
          181,
          216,
          237,
          115,
          227,
          304,
          248,
          299,
          197,
          258,
          290,
          301,
          238,
          235,
          227,
          437,
          110,
          304,
          205,
          217,
          285,
          170,
          8,
          234,
          165,
          300,
          214,
          245,
          234,
          261,
          218,
          291,
          391,
          265,
          74,
          171,
          223,
          262,
          205,
          113,
          197,
          458,
          419,
          402,
          234,
          253,
          293,
          507,
          417,
          210,
          299,
          94,
          153,
          220,
          250,
          347,
          402,
          294,
          70,
          270,
          280,
          322,
          335,
          161,
          313,
          330,
          277,
          185,
          204,
          108,
          91,
          104,
          205,
          226,
          99,
          168,
          172,
          130,
          307,
          203,
          120,
          271,
          182,
          426,
          357,
          94,
          194,
          108,
          260,
          266,
          327,
          235,
          240,
          155,
          161,
          218,
          238,
          221,
          202,
          231,
          340,
          281,
          346,
          299,
          5,
          328,
          247,
          125,
          163,
          260,
          113,
          292,
          420,
          271,
          76,
          173,
          293,
          248,
          1,
          199,
          213,
          269,
          199,
          217,
          262,
          361,
          281,
          264,
          238,
          288,
          250,
          185,
          158,
          192,
          198,
          258,
          262,
          146,
          243,
          349,
          259,
          225,
          181,
          210,
          225,
          219,
          253,
          213,
          94,
          293,
          232,
          140,
          263,
          173,
          243,
          133,
          310,
          292,
          182,
          264,
          380,
          312,
          256,
          167,
          269,
          150,
          192,
          269,
          328,
          310,
          198,
          307,
          335,
          426,
          205,
          205,
          2,
          13,
          142,
          258,
          256,
          268,
          240,
          239,
          250,
          197,
          228,
          147,
          299,
          261,
          260,
          252,
          376,
          248,
          210,
          114,
          402,
          10,
          169,
          234,
          211,
          231,
          248,
          258,
          212,
          155,
          182,
          222,
          211,
          305,
          273,
          232,
          263,
          247,
          217,
          282,
          278,
          140,
          289,
          165,
          181,
          192,
          346,
          239,
          210,
          320,
          411,
          114,
          284,
          468,
          220,
          242,
          154,
          229,
          224,
          292,
          368,
          303,
          183,
          116,
          314,
          390,
          236,
          217,
          207,
          64,
          256,
          189,
          237,
          288,
          164,
          140,
          247,
          114,
          124,
          123,
          273,
          214,
          171,
          167,
          178,
          184,
          248,
          157,
          232,
          286,
          388,
          211,
          413,
          269,
          251,
          335,
          268,
          142,
          271,
          232,
          258,
          171,
          293,
          292,
          492,
          152,
          71,
          157,
          782,
          232,
          215,
          199,
          332,
          432,
          7,
          148,
          225,
          280,
          159,
          218,
          286,
          343,
          250,
          283,
          257,
          342,
          209,
          73,
          195,
          264,
          230,
          154,
          12,
          109,
          156,
          130,
          123,
          83,
          110,
          317,
          243,
          179,
          274,
          374,
          251,
          256,
          188,
          169,
          286,
          298,
          202,
          112,
          95,
          315,
          119,
          170,
          425,
          289,
          193,
          401,
          229,
          252,
          592,
          288,
          71,
          243,
          204,
          341,
          200,
          254,
          117,
          212,
          254,
          201,
          138,
          217,
          180,
          170,
          253,
          122,
          210,
          54,
          82,
          220,
          62,
          305,
          94,
          108,
          99,
          284,
          230,
          367,
          248,
          212,
          389,
          399,
          473,
          561,
          371,
          434,
          130,
          376,
          370,
          229,
          263,
          150,
          215,
          286,
          159,
          151,
          184,
          277,
          162,
          133,
          129,
          189,
          166,
          241,
          51,
          313,
          219,
          152,
          164,
          265,
          139,
          158,
          4,
          308,
          265,
          4,
          381,
          154,
          79,
          79,
          76,
          171,
          233,
          89,
          157,
          289,
          213,
          229,
          289,
          214,
          207,
          407,
          149,
          190,
          201,
          213,
          197,
          115,
          183,
          213,
          278,
          269,
          163,
          306,
          3,
          322,
          369,
          249,
          217,
          206,
          232,
          214,
          167,
          248,
          306,
          321,
          315,
          235,
          201,
          305,
          163,
          374,
          264,
          65,
          170,
          934,
          658,
          188,
          256,
          107,
          119,
          253,
          220,
          315,
          109,
          78,
          237,
          240,
          370,
          208,
          237,
          166,
          265,
          105,
          359,
          83,
          67,
          63,
          49,
          53,
          328,
          273,
          161,
          250,
          257,
          82,
          184,
          105,
          376,
          151,
          365,
          278,
          195,
          264,
          159,
          162,
          192,
          274,
          197,
          322,
          184,
          331,
          175,
          236,
          189,
          102,
          392,
          221,
          388,
          267,
          240,
          217,
          135,
          260,
          467,
          297,
          227,
          275,
          250,
          292,
          233,
          216,
          251,
          181,
          252,
          190,
          283,
          263,
          243,
          327,
          335,
          103,
          104,
          253,
          332,
          183,
          275,
          242,
          108,
          301,
          218,
          231,
          232,
          186,
          105,
          289,
          216,
          219,
          2,
          255,
          224,
          352,
          203,
          266,
          274,
          391,
          299,
          219,
          314,
          169,
          216,
          255,
          291,
          317,
          286,
          275,
          397,
          319,
          443,
          277,
          233,
          331,
          248,
          226,
          162,
          260,
          215,
          132,
          287,
          217,
          316,
          234,
          12,
          209,
          257,
          202,
          251,
          178,
          60,
          115,
          114,
          147,
          284,
          257,
          230,
          200,
          207,
          15,
          129,
          90,
          186,
          93,
          144,
          215,
          473,
          126,
          291,
          253,
          314,
          129,
          257,
          225,
          250,
          179,
          7,
          282,
          124,
          7,
          128,
          197,
          317,
          180,
          335,
          197,
          243,
          175,
          225,
          287,
          219,
          406,
          398,
          200,
          178,
          140,
          265,
          419,
          394,
          226,
          465,
          175,
          177,
          115,
          150,
          141,
          198,
          252,
          119,
          294,
          90,
          132,
          145,
          254,
          275,
          284,
          269,
          142,
          369,
          234,
          282,
          287,
          269,
          270,
          252,
          227,
          203,
          303,
          241,
          282,
          197,
          318,
          316,
          186,
          101,
          272,
          276,
          174,
          220,
          119,
          281,
          366,
          274,
          324,
          282,
          356,
          199,
          155,
          283,
          255,
          246,
          164,
          266,
          96,
          206,
          320,
          186,
          557,
          163,
          102,
          148,
          198,
          210,
          217,
          290,
          62,
          208,
          152,
          282,
          253,
          284,
          219,
          253,
          196,
          225,
          272,
          101,
          316,
          317,
          250,
          367,
          217,
          280,
          312,
          228,
          207,
          228,
          290,
          107,
          269,
          179,
          219,
          115,
          213,
          9,
          146,
          298,
          160,
          250,
          278,
          115,
          190,
          214,
          84,
          326,
          62,
          97,
          111,
          145,
          155,
          210,
          177,
          9,
          9,
          143,
          208,
          65,
          280,
          335,
          223,
          276,
          289,
          302,
          34,
          263,
          96,
          263,
          252,
          116,
          194,
          178,
          96,
          318,
          75,
          149,
          95,
          252,
          248,
          270,
          296,
          132,
          10,
          113,
          354,
          271,
          99,
          209,
          307,
          183,
          226,
          273,
          442,
          346,
          14,
          221,
          249,
          238,
          152,
          311,
          213,
          297,
          208,
          198,
          242,
          202,
          150,
          259,
          296,
          183,
          219,
          136,
          175,
          208,
          254,
          210,
          309,
          252,
          330,
          205,
          176,
          76,
          188,
          232,
          102,
          252,
          126,
          140,
          356,
          285,
          115,
          250,
          208,
          214,
          267,
          217,
          266,
          193,
          384,
          68,
          261,
          359,
          191,
          209,
          235,
          253,
          148,
          46,
          88,
          172,
          398,
          233,
          330,
          115,
          82,
          281,
          4,
          215,
          400,
          206,
          112,
          118,
          296,
          310,
          253,
          117,
          137,
          140,
          219,
          202,
          236,
          170,
          268,
          304,
          158,
          206,
          284,
          222,
          221,
          251,
          210,
          258,
          288,
          232,
          211,
          232,
          131,
          183,
          249,
          277,
          76,
          115,
          177,
          138,
          12,
          538,
          258,
          188,
          170,
          213,
          284,
          6,
          12,
          431,
          297,
          109,
          369,
          158,
          286,
          198,
          164,
          218,
          376,
          150,
          142,
          159,
          164,
          228,
          368,
          272,
          227,
          103,
          388,
          200,
          90,
          126,
          151,
          366,
          242,
          298,
          123,
          206,
          231,
          131,
          127,
          109,
          224,
          333,
          213,
          353,
          171,
          264,
          313,
          406,
          196,
          103,
          225,
          111,
          81,
          79,
          173,
          202,
          180,
          112,
          200,
          245,
          240,
          256,
          188,
          238,
          222,
          265,
          249,
          138,
          154,
          225,
          216,
          209,
          208,
          175,
          301,
          249,
          131,
          178,
          135,
          224,
          168,
          354,
          107,
          142,
          433,
          153,
          130,
          56,
          130,
          144,
          19,
          203,
          176,
          228,
          93,
          173,
          119,
          88,
          172,
          333,
          276,
          126,
          213,
          148,
          271,
          265,
          295,
          128,
          111,
          221,
          166,
          137,
          82,
          361,
          288,
          224,
          241,
          263,
          560,
          144,
          179,
          172,
          130,
          147,
          130,
          157,
          255,
          8,
          137,
          142,
          4,
          187,
          143,
          205,
          164,
          2,
          154,
          195,
          220,
          258,
          98,
          96,
          71,
          109,
          222,
          260,
          210,
          447,
          245,
          131,
          190,
          282,
          290,
          320,
          81,
          252,
          280,
          287,
          170,
          247,
          176,
          202,
          133,
          205,
          236,
          273,
          313,
          245,
          212,
          105,
          127,
          255,
          224,
          150,
          154,
          192,
          207,
          260,
          317,
          228,
          376,
          225,
          269,
          210,
          210,
          223,
          127,
          75,
          216,
          171,
          243,
          244,
          140,
          276,
          267,
          223,
          303,
          302,
          172,
          207,
          116,
          190,
          221,
          284,
          172,
          334,
          156,
          195,
          368,
          274,
          279,
          117,
          181,
          251,
          180,
          153,
          229,
          137,
          209,
          295,
          339,
          153,
          270,
          147,
          132,
          161,
          238,
          174,
          333,
          349,
          344,
          338,
          470,
          237,
          209,
          340,
          200,
          329,
          157,
          152,
          248,
          277,
          243,
          96,
          162,
          170,
          98,
          96,
          104,
          251,
          364,
          160,
          192,
          80,
          292,
          291,
          79,
          119,
          163,
          69,
          180,
          178,
          155,
          252,
          111,
          169,
          151,
          427,
          183,
          153,
          325,
          178,
          302,
          187,
          64,
          111,
          102,
          77,
          48,
          138,
          248,
          287,
          231,
          182,
          241,
          153,
          260,
          287,
          242,
          248,
          209,
          37,
          186,
          251,
          94,
          300,
          275,
          189,
          250,
          349,
          120,
          92,
          159,
          61,
          295,
          173,
          112,
          229,
          133,
          97,
          60,
          154,
          185,
          131,
          203,
          165,
          121,
          244,
          109,
          114,
          126,
          161,
          132,
          237,
          322,
          394,
          70,
          339,
          68,
          124,
          144,
          318,
          117,
          292,
          263,
          125,
          8,
          148,
          195,
          172,
          144,
          188,
          292,
          203,
          198,
          178,
          222,
          159,
          275,
          229,
          168,
          132,
          252,
          526,
          227,
          127,
          209,
          267,
          190,
          131,
          213,
          245,
          182,
          293,
          277,
          237,
          343,
          227,
          242,
          203,
          199,
          277,
          275,
          216,
          334,
          165,
          161,
          182,
          316,
          390,
          191,
          16,
          162,
          206,
          219,
          189,
          317,
          148,
          131,
          250,
          386,
          382,
          186,
          10,
          141,
          227,
          278,
          195,
          144,
          223,
          174,
          268,
          244,
          265,
          276,
          171,
          213,
          376,
          151,
          142,
          176,
          5,
          286,
          336,
          135,
          248,
          533,
          455,
          160,
          117,
          56,
          123,
          263,
          165,
          147,
          258,
          363,
          234,
          196,
          236,
          84,
          217,
          220,
          393,
          189,
          346,
          259,
          370,
          164,
          168,
          305,
          300,
          214,
          200,
          185,
          182,
          186,
          227,
          293,
          176,
          122,
          156,
          242,
          156,
          68,
          123,
          79,
          196,
          98,
          286,
          221,
          244,
          6,
          300,
          158,
          366,
          110,
          159,
          277,
          173,
          145,
          37,
          179,
          192,
          209,
          185,
          329,
          258,
          155,
          81,
          258,
          111,
          135,
          206,
          253,
          238,
          160,
          84,
          153,
          343,
          142,
          225,
          2,
          3,
          74,
          110,
          78,
          145,
          112,
          256,
          278,
          237,
          244,
          77,
          198,
          148,
          191,
          157,
          124,
          174,
          139,
          148,
          327,
          316,
          11,
          224,
          285,
          278,
          245,
          149,
          265,
          244,
          228,
          284,
          100,
          214,
          197,
          429,
          191,
          208,
          10,
          220,
          114,
          117,
          299,
          65,
          69,
          82,
          205,
          143,
          134,
          301,
          228,
          148,
          53,
          221,
          167,
          251,
          195,
          274,
          486,
          204,
          137,
          80,
          332,
          426,
          191,
          122,
          193,
          243,
          225,
          272,
          229,
          332,
          104,
          121,
          242,
          112,
          94,
          248,
          140,
          230,
          285,
          277,
          256,
          187,
          331,
          88,
          164,
          99,
          123,
          42,
          213,
          86,
          74,
          98,
          97,
          107,
          359,
          335,
          295,
          240,
          183,
          79,
          149,
          170,
          144,
          169,
          131,
          164,
          262,
          139,
          278,
          165,
          130,
          17,
          134,
          247,
          120,
          72,
          202,
          187,
          7,
          79,
          2,
          225,
          249,
          239,
          107,
          252,
          263,
          93,
          146,
          249,
          37,
          145,
          144,
          146,
          84,
          178,
          185,
          199,
          338,
          153,
          131,
          126,
          13,
          346,
          66,
          138,
          331,
          239,
          170,
          107,
          133,
          264,
          315,
          186,
          174,
          117,
          127,
          203,
          125,
          155,
          115,
          207,
          404,
          6,
          125,
          121,
          163,
          224,
          229,
          59,
          269,
          403,
          317,
          323,
          263,
          153,
          233,
          182,
          272,
          115,
          272,
          103,
          145,
          160,
          141,
          6,
          136,
          119,
          304,
          104,
          96,
          107,
          103,
          120,
          130,
          86,
          125,
          171,
          116,
          152,
          100,
          272,
          256,
          77,
          226,
          186,
          199,
          264,
          175,
          128,
          85,
          263,
          219,
          273,
          97,
          226,
          186,
          253,
          64,
          130,
          270,
          194,
          133,
          191,
          217,
          231,
          113,
          226,
          264,
          194,
          43,
          76,
          131,
          135,
          284,
          97,
          247,
          167,
          147,
          256,
          93,
          114,
          211,
          55,
          95,
          134,
          12,
          72,
          209,
          11,
          149,
          147,
          82,
          249,
          183,
          282,
          385,
          13,
          64,
          249,
          50,
          159,
          203,
          197,
          80,
          245,
          56,
          630,
          460,
          413,
          156,
          153,
          182,
          92,
          140,
          148,
          126,
          8,
          132,
          82,
          148,
          226,
          182,
          116,
          226,
          169,
          323,
          184,
          233,
          97,
          264,
          44,
          143,
          109,
          211,
          170,
          287,
          8,
          262,
          183,
          109,
          218,
          178,
          228,
          90,
          238,
          109,
          146,
          207,
          145,
          93,
          190,
          182,
          210,
          155,
          86,
          166,
          122,
          96,
          275,
          172,
          105,
          192,
          60,
          110,
          151,
          207,
          105,
          315,
          155,
          307,
          145,
          103,
          140,
          205,
          272,
          253,
          260,
          263,
          107,
          157,
          247,
          214,
          172,
          159,
          145,
          109,
          272,
          215,
          157,
          94,
          166,
          118,
          116,
          155,
          108,
          191,
          94,
          154,
          4,
          6,
          16,
          148,
          210,
          184,
          267,
          97,
          144,
          248,
          374,
          347,
          246,
          201,
          248,
          236,
          230,
          233,
          145,
          232,
          206,
          114,
          230,
          185,
          226,
          128,
          157,
          265,
          96,
          203,
          221,
          139,
          216,
          77,
          76,
          262,
          101,
          202,
          366,
          193,
          184,
          414,
          107,
          136,
          167,
          213,
          181,
          129,
          165,
          143,
          147,
          146,
          207,
          158,
          245,
          165,
          162,
          148,
          188,
          96,
          182,
          106,
          197,
          112,
          176,
          65,
          176,
          134,
          188,
          166,
          153,
          129,
          112,
          252,
          12,
          2,
          6,
          185,
          120,
          9,
          156,
          249,
          137,
          237,
          216,
          240,
          237,
          259,
          132,
          54,
          56,
          368,
          127,
          72,
          147,
          141,
          169,
          147,
          60,
          158,
          200,
          209,
          121,
          174,
          105,
          119,
          374,
          218,
          285,
          147,
          162,
          90,
          245,
          255,
          307,
          249,
          99,
          182,
          163,
          155,
          3,
          171,
          128,
          144,
          175,
          158,
          114,
          62,
          127,
          255,
          95,
          215,
          239,
          189,
          121,
          181,
          231,
          217,
          174,
          142,
          234,
          263,
          175,
          109,
          160,
          186,
          135,
          215,
          104,
          99,
          179,
          80,
          175,
          83,
          210,
          205,
          143,
          89,
          177,
          123,
          169,
          214,
          219,
          121,
          134,
          9,
          206,
          17,
          131,
          142,
          61,
          200,
          223,
          217,
          147,
          146,
          97,
          220,
          165,
          208,
          150,
          254,
          247,
          148,
          3,
          152,
          87,
          267,
          197,
          156,
          173,
          84,
          108,
          417,
          250,
          120,
          133,
          264,
          70,
          106,
          78,
          115,
          250,
          110,
          168,
          122,
          257,
          270,
          106,
          291,
          97,
          288,
          129,
          238,
          2,
          9,
          92,
          263,
          73,
          228,
          173,
          157,
          136,
          138,
          151,
          40,
          4,
          196,
          135,
          302,
          294,
          145,
          108,
          113,
          117,
          135,
          122,
          255,
          147,
          195,
          152,
          59,
          215,
          298,
          92,
          327,
          296,
          87,
          72,
          187,
          209,
          98,
          243,
          142,
          158,
          152,
          145,
          212,
          94,
          100,
          51,
          154,
          110,
          160,
          98,
          88,
          284,
          122,
          129,
          101,
          60,
          100,
          151,
          133,
          153,
          185,
          63,
          101,
          118,
          156,
          224,
          116,
          103,
          137,
          191,
          167,
          174,
          207,
          179,
          127,
          224,
          320,
          202,
          60,
          251,
          280,
          229,
          53,
          57,
          94,
          90,
          56,
          245,
          218,
          70,
          114,
          129,
          82,
          222,
          328,
          249,
          148,
          247,
          56,
          264,
          83,
          143,
          6,
          178,
          163,
          263,
          74,
          2,
          176,
          195,
          236,
          222,
          267,
          276,
          140,
          99,
          151,
          241,
          43,
          48,
          40,
          6,
          197,
          11,
          3,
          86,
          121,
          78,
          153,
          7,
          6,
          90,
          184,
          137,
          3,
          136,
          242,
          211,
          9,
          3,
          177,
          4,
          131,
          208,
          55,
          6,
          131,
          84,
          120,
          130,
          83,
          130,
          115,
          180,
          88,
          5,
          8,
          99,
          129,
          73,
          136,
          142,
          182,
          145,
          131,
          95,
          12,
          280,
          113,
          114,
          88,
          153,
          104,
          115,
          212,
          201,
          182,
          221,
          7,
          52,
          114,
          228,
          7,
          163,
          280,
          199,
          127,
          178,
          333,
          196,
          225,
          258,
          60,
          216,
          214,
          183,
          231,
          146,
          66,
          72,
          219,
          110,
          188,
          111,
          9,
          200,
          96,
          3,
          256,
          85,
          41,
          98,
          269,
          276,
          258,
          242,
          34,
          80,
          49,
          323,
          57,
          102,
          277,
          126,
          291,
          97,
          79,
          98,
          131,
          87,
          127,
          209,
          240,
          358,
          6,
          218,
          172,
          65,
          5,
          9,
          143,
          192,
          110,
          151,
          3,
          128,
          148,
          318,
          102,
          103,
          135,
          152,
          11,
          78,
          116,
          106,
          104,
          186,
          140,
          174,
          159,
          130,
          10,
          10,
          11,
          308,
          178,
          121,
          136,
          188,
          123,
          216,
          144,
          247,
          27,
          179,
          79,
          140,
          227,
          139,
          83,
          175,
          399,
          362,
          175,
          402,
          83,
          8,
          6,
          94,
          126,
          119,
          183,
          42,
          132,
          279,
          76,
          170,
          307,
          16,
          6,
          125,
          216,
          174,
          100,
          107,
          235,
          100,
          142,
          178,
          145,
          6,
          124,
          282,
          165,
          114,
          127,
          343,
          151,
          7,
          161,
          8,
          227,
          4,
          10,
          120,
          305
         ]
        }
       ],
       "layout": {
        "barmode": "overlay",
        "legend": {
         "bgcolor": "#FFFFFF",
         "font": {
          "color": "#666666"
         }
        },
        "paper_bgcolor": "#FFFFFF",
        "plot_bgcolor": "#E5E5E5",
        "template": {
         "data": {
          "bar": [
           {
            "error_x": {
             "color": "#2a3f5f"
            },
            "error_y": {
             "color": "#2a3f5f"
            },
            "marker": {
             "line": {
              "color": "#E5ECF6",
              "width": 0.5
             }
            },
            "type": "bar"
           }
          ],
          "barpolar": [
           {
            "marker": {
             "line": {
              "color": "#E5ECF6",
              "width": 0.5
             }
            },
            "type": "barpolar"
           }
          ],
          "carpet": [
           {
            "aaxis": {
             "endlinecolor": "#2a3f5f",
             "gridcolor": "white",
             "linecolor": "white",
             "minorgridcolor": "white",
             "startlinecolor": "#2a3f5f"
            },
            "baxis": {
             "endlinecolor": "#2a3f5f",
             "gridcolor": "white",
             "linecolor": "white",
             "minorgridcolor": "white",
             "startlinecolor": "#2a3f5f"
            },
            "type": "carpet"
           }
          ],
          "choropleth": [
           {
            "colorbar": {
             "outlinewidth": 0,
             "ticks": ""
            },
            "type": "choropleth"
           }
          ],
          "contour": [
           {
            "colorbar": {
             "outlinewidth": 0,
             "ticks": ""
            },
            "colorscale": [
             [
              0,
              "#0d0887"
             ],
             [
              0.1111111111111111,
              "#46039f"
             ],
             [
              0.2222222222222222,
              "#7201a8"
             ],
             [
              0.3333333333333333,
              "#9c179e"
             ],
             [
              0.4444444444444444,
              "#bd3786"
             ],
             [
              0.5555555555555556,
              "#d8576b"
             ],
             [
              0.6666666666666666,
              "#ed7953"
             ],
             [
              0.7777777777777778,
              "#fb9f3a"
             ],
             [
              0.8888888888888888,
              "#fdca26"
             ],
             [
              1,
              "#f0f921"
             ]
            ],
            "type": "contour"
           }
          ],
          "contourcarpet": [
           {
            "colorbar": {
             "outlinewidth": 0,
             "ticks": ""
            },
            "type": "contourcarpet"
           }
          ],
          "heatmap": [
           {
            "colorbar": {
             "outlinewidth": 0,
             "ticks": ""
            },
            "colorscale": [
             [
              0,
              "#0d0887"
             ],
             [
              0.1111111111111111,
              "#46039f"
             ],
             [
              0.2222222222222222,
              "#7201a8"
             ],
             [
              0.3333333333333333,
              "#9c179e"
             ],
             [
              0.4444444444444444,
              "#bd3786"
             ],
             [
              0.5555555555555556,
              "#d8576b"
             ],
             [
              0.6666666666666666,
              "#ed7953"
             ],
             [
              0.7777777777777778,
              "#fb9f3a"
             ],
             [
              0.8888888888888888,
              "#fdca26"
             ],
             [
              1,
              "#f0f921"
             ]
            ],
            "type": "heatmap"
           }
          ],
          "heatmapgl": [
           {
            "colorbar": {
             "outlinewidth": 0,
             "ticks": ""
            },
            "colorscale": [
             [
              0,
              "#0d0887"
             ],
             [
              0.1111111111111111,
              "#46039f"
             ],
             [
              0.2222222222222222,
              "#7201a8"
             ],
             [
              0.3333333333333333,
              "#9c179e"
             ],
             [
              0.4444444444444444,
              "#bd3786"
             ],
             [
              0.5555555555555556,
              "#d8576b"
             ],
             [
              0.6666666666666666,
              "#ed7953"
             ],
             [
              0.7777777777777778,
              "#fb9f3a"
             ],
             [
              0.8888888888888888,
              "#fdca26"
             ],
             [
              1,
              "#f0f921"
             ]
            ],
            "type": "heatmapgl"
           }
          ],
          "histogram": [
           {
            "marker": {
             "colorbar": {
              "outlinewidth": 0,
              "ticks": ""
             }
            },
            "type": "histogram"
           }
          ],
          "histogram2d": [
           {
            "colorbar": {
             "outlinewidth": 0,
             "ticks": ""
            },
            "colorscale": [
             [
              0,
              "#0d0887"
             ],
             [
              0.1111111111111111,
              "#46039f"
             ],
             [
              0.2222222222222222,
              "#7201a8"
             ],
             [
              0.3333333333333333,
              "#9c179e"
             ],
             [
              0.4444444444444444,
              "#bd3786"
             ],
             [
              0.5555555555555556,
              "#d8576b"
             ],
             [
              0.6666666666666666,
              "#ed7953"
             ],
             [
              0.7777777777777778,
              "#fb9f3a"
             ],
             [
              0.8888888888888888,
              "#fdca26"
             ],
             [
              1,
              "#f0f921"
             ]
            ],
            "type": "histogram2d"
           }
          ],
          "histogram2dcontour": [
           {
            "colorbar": {
             "outlinewidth": 0,
             "ticks": ""
            },
            "colorscale": [
             [
              0,
              "#0d0887"
             ],
             [
              0.1111111111111111,
              "#46039f"
             ],
             [
              0.2222222222222222,
              "#7201a8"
             ],
             [
              0.3333333333333333,
              "#9c179e"
             ],
             [
              0.4444444444444444,
              "#bd3786"
             ],
             [
              0.5555555555555556,
              "#d8576b"
             ],
             [
              0.6666666666666666,
              "#ed7953"
             ],
             [
              0.7777777777777778,
              "#fb9f3a"
             ],
             [
              0.8888888888888888,
              "#fdca26"
             ],
             [
              1,
              "#f0f921"
             ]
            ],
            "type": "histogram2dcontour"
           }
          ],
          "mesh3d": [
           {
            "colorbar": {
             "outlinewidth": 0,
             "ticks": ""
            },
            "type": "mesh3d"
           }
          ],
          "parcoords": [
           {
            "line": {
             "colorbar": {
              "outlinewidth": 0,
              "ticks": ""
             }
            },
            "type": "parcoords"
           }
          ],
          "scatter": [
           {
            "marker": {
             "colorbar": {
              "outlinewidth": 0,
              "ticks": ""
             }
            },
            "type": "scatter"
           }
          ],
          "scatter3d": [
           {
            "line": {
             "colorbar": {
              "outlinewidth": 0,
              "ticks": ""
             }
            },
            "marker": {
             "colorbar": {
              "outlinewidth": 0,
              "ticks": ""
             }
            },
            "type": "scatter3d"
           }
          ],
          "scattercarpet": [
           {
            "marker": {
             "colorbar": {
              "outlinewidth": 0,
              "ticks": ""
             }
            },
            "type": "scattercarpet"
           }
          ],
          "scattergeo": [
           {
            "marker": {
             "colorbar": {
              "outlinewidth": 0,
              "ticks": ""
             }
            },
            "type": "scattergeo"
           }
          ],
          "scattergl": [
           {
            "marker": {
             "colorbar": {
              "outlinewidth": 0,
              "ticks": ""
             }
            },
            "type": "scattergl"
           }
          ],
          "scattermapbox": [
           {
            "marker": {
             "colorbar": {
              "outlinewidth": 0,
              "ticks": ""
             }
            },
            "type": "scattermapbox"
           }
          ],
          "scatterpolar": [
           {
            "marker": {
             "colorbar": {
              "outlinewidth": 0,
              "ticks": ""
             }
            },
            "type": "scatterpolar"
           }
          ],
          "scatterpolargl": [
           {
            "marker": {
             "colorbar": {
              "outlinewidth": 0,
              "ticks": ""
             }
            },
            "type": "scatterpolargl"
           }
          ],
          "scatterternary": [
           {
            "marker": {
             "colorbar": {
              "outlinewidth": 0,
              "ticks": ""
             }
            },
            "type": "scatterternary"
           }
          ],
          "surface": [
           {
            "colorbar": {
             "outlinewidth": 0,
             "ticks": ""
            },
            "colorscale": [
             [
              0,
              "#0d0887"
             ],
             [
              0.1111111111111111,
              "#46039f"
             ],
             [
              0.2222222222222222,
              "#7201a8"
             ],
             [
              0.3333333333333333,
              "#9c179e"
             ],
             [
              0.4444444444444444,
              "#bd3786"
             ],
             [
              0.5555555555555556,
              "#d8576b"
             ],
             [
              0.6666666666666666,
              "#ed7953"
             ],
             [
              0.7777777777777778,
              "#fb9f3a"
             ],
             [
              0.8888888888888888,
              "#fdca26"
             ],
             [
              1,
              "#f0f921"
             ]
            ],
            "type": "surface"
           }
          ],
          "table": [
           {
            "cells": {
             "fill": {
              "color": "#EBF0F8"
             },
             "line": {
              "color": "white"
             }
            },
            "header": {
             "fill": {
              "color": "#C8D4E3"
             },
             "line": {
              "color": "white"
             }
            },
            "type": "table"
           }
          ]
         },
         "layout": {
          "annotationdefaults": {
           "arrowcolor": "#2a3f5f",
           "arrowhead": 0,
           "arrowwidth": 1
          },
          "colorscale": {
           "diverging": [
            [
             0,
             "#8e0152"
            ],
            [
             0.1,
             "#c51b7d"
            ],
            [
             0.2,
             "#de77ae"
            ],
            [
             0.3,
             "#f1b6da"
            ],
            [
             0.4,
             "#fde0ef"
            ],
            [
             0.5,
             "#f7f7f7"
            ],
            [
             0.6,
             "#e6f5d0"
            ],
            [
             0.7,
             "#b8e186"
            ],
            [
             0.8,
             "#7fbc41"
            ],
            [
             0.9,
             "#4d9221"
            ],
            [
             1,
             "#276419"
            ]
           ],
           "sequential": [
            [
             0,
             "#0d0887"
            ],
            [
             0.1111111111111111,
             "#46039f"
            ],
            [
             0.2222222222222222,
             "#7201a8"
            ],
            [
             0.3333333333333333,
             "#9c179e"
            ],
            [
             0.4444444444444444,
             "#bd3786"
            ],
            [
             0.5555555555555556,
             "#d8576b"
            ],
            [
             0.6666666666666666,
             "#ed7953"
            ],
            [
             0.7777777777777778,
             "#fb9f3a"
            ],
            [
             0.8888888888888888,
             "#fdca26"
            ],
            [
             1,
             "#f0f921"
            ]
           ],
           "sequentialminus": [
            [
             0,
             "#0d0887"
            ],
            [
             0.1111111111111111,
             "#46039f"
            ],
            [
             0.2222222222222222,
             "#7201a8"
            ],
            [
             0.3333333333333333,
             "#9c179e"
            ],
            [
             0.4444444444444444,
             "#bd3786"
            ],
            [
             0.5555555555555556,
             "#d8576b"
            ],
            [
             0.6666666666666666,
             "#ed7953"
            ],
            [
             0.7777777777777778,
             "#fb9f3a"
            ],
            [
             0.8888888888888888,
             "#fdca26"
            ],
            [
             1,
             "#f0f921"
            ]
           ]
          },
          "colorway": [
           "#636efa",
           "#EF553B",
           "#00cc96",
           "#ab63fa",
           "#FFA15A",
           "#19d3f3",
           "#FF6692",
           "#B6E880",
           "#FF97FF",
           "#FECB52"
          ],
          "font": {
           "color": "#2a3f5f"
          },
          "geo": {
           "bgcolor": "white",
           "lakecolor": "white",
           "landcolor": "#E5ECF6",
           "showlakes": true,
           "showland": true,
           "subunitcolor": "white"
          },
          "hoverlabel": {
           "align": "left"
          },
          "hovermode": "closest",
          "mapbox": {
           "style": "light"
          },
          "paper_bgcolor": "white",
          "plot_bgcolor": "#E5ECF6",
          "polar": {
           "angularaxis": {
            "gridcolor": "white",
            "linecolor": "white",
            "ticks": ""
           },
           "bgcolor": "#E5ECF6",
           "radialaxis": {
            "gridcolor": "white",
            "linecolor": "white",
            "ticks": ""
           }
          },
          "scene": {
           "xaxis": {
            "backgroundcolor": "#E5ECF6",
            "gridcolor": "white",
            "gridwidth": 2,
            "linecolor": "white",
            "showbackground": true,
            "ticks": "",
            "zerolinecolor": "white"
           },
           "yaxis": {
            "backgroundcolor": "#E5ECF6",
            "gridcolor": "white",
            "gridwidth": 2,
            "linecolor": "white",
            "showbackground": true,
            "ticks": "",
            "zerolinecolor": "white"
           },
           "zaxis": {
            "backgroundcolor": "#E5ECF6",
            "gridcolor": "white",
            "gridwidth": 2,
            "linecolor": "white",
            "showbackground": true,
            "ticks": "",
            "zerolinecolor": "white"
           }
          },
          "shapedefaults": {
           "line": {
            "color": "#2a3f5f"
           }
          },
          "ternary": {
           "aaxis": {
            "gridcolor": "white",
            "linecolor": "white",
            "ticks": ""
           },
           "baxis": {
            "gridcolor": "white",
            "linecolor": "white",
            "ticks": ""
           },
           "bgcolor": "#E5ECF6",
           "caxis": {
            "gridcolor": "white",
            "linecolor": "white",
            "ticks": ""
           }
          },
          "title": {
           "x": 0.05
          },
          "xaxis": {
           "automargin": true,
           "gridcolor": "white",
           "linecolor": "white",
           "ticks": "",
           "zerolinecolor": "white",
           "zerolinewidth": 2
          },
          "yaxis": {
           "automargin": true,
           "gridcolor": "white",
           "linecolor": "white",
           "ticks": "",
           "zerolinecolor": "white",
           "zerolinewidth": 2
          }
         }
        },
        "title": {
         "font": {
          "color": "#151516"
         },
         "text": "Word Count Distribution"
        },
        "xaxis": {
         "gridcolor": "#F6F6F6",
         "linecolor": "black",
         "showgrid": true,
         "tickfont": {
          "color": "#666666"
         },
         "title": {
          "font": {
           "color": "#666666"
          },
          "text": "word count"
         },
         "zerolinecolor": "#F6F6F6"
        },
        "yaxis": {
         "gridcolor": "#F6F6F6",
         "linecolor": "black",
         "showgrid": true,
         "tickfont": {
          "color": "#666666"
         },
         "title": {
          "font": {
           "color": "#666666"
          },
          "text": "count"
         },
         "zerolinecolor": "#F6F6F6"
        }
       }
      },
      "text/html": [
       "<div>\n",
       "        \n",
       "        \n",
       "            <div id=\"13e479bb-ea48-4527-a6cd-4a6504bb3533\" class=\"plotly-graph-div\" style=\"height:525px; width:100%;\"></div>\n",
       "            <script type=\"text/javascript\">\n",
       "                require([\"plotly\"], function(Plotly) {\n",
       "                    window.PLOTLYENV=window.PLOTLYENV || {};\n",
       "                    window.PLOTLYENV.BASE_URL='https://plot.ly';\n",
       "                    \n",
       "                if (document.getElementById(\"13e479bb-ea48-4527-a6cd-4a6504bb3533\")) {\n",
       "                    Plotly.newPlot(\n",
       "                        '13e479bb-ea48-4527-a6cd-4a6504bb3533',\n",
       "                        [{\"histfunc\": \"count\", \"histnorm\": \"\", \"marker\": {\"color\": \"rgba(226, 74, 51, 1.0)\", \"line\": {\"color\": \"#000000\", \"width\": 1.3}}, \"name\": \"word_count\", \"nbinsx\": 50, \"opacity\": 0.8, \"orientation\": \"v\", \"type\": \"histogram\", \"x\": [213, 261, 297, 212, 225, 153, 151, 246, 225, 396, 269, 215, 261, 233, 273, 148, 306, 391, 248, 324, 291, 286, 250, 259, 63, 257, 273, 150, 150, 121, 115, 181, 334, 293, 221, 314, 362, 228, 305, 220, 186, 354, 153, 323, 308, 218, 330, 191, 301, 281, 277, 287, 238, 289, 228, 336, 347, 236, 278, 208, 287, 276, 259, 329, 278, 450, 412, 219, 182, 234, 353, 217, 318, 203, 273, 160, 150, 315, 133, 263, 211, 315, 220, 301, 293, 239, 300, 257, 245, 230, 215, 237, 312, 215, 308, 315, 111, 239, 222, 215, 214, 344, 379, 386, 258, 280, 222, 222, 173, 197, 111, 219, 225, 254, 308, 210, 273, 252, 252, 270, 257, 223, 215, 218, 241, 168, 262, 232, 230, 313, 215, 236, 182, 176, 146, 144, 217, 210, 224, 217, 168, 413, 302, 263, 233, 216, 207, 160, 268, 216, 246, 373, 275, 354, 293, 259, 287, 193, 238, 217, 263, 314, 270, 189, 329, 113, 221, 188, 300, 177, 211, 343, 154, 295, 224, 488, 226, 197, 312, 288, 90, 327, 242, 215, 238, 103, 280, 204, 256, 170, 214, 1, 223, 244, 277, 164, 293, 453, 243, 236, 268, 168, 288, 273, 285, 269, 182, 305, 222, 207, 181, 289, 317, 246, 347, 236, 217, 385, 258, 377, 158, 384, 455, 290, 262, 221, 242, 241, 243, 191, 394, 306, 267, 228, 273, 248, 209, 219, 248, 240, 232, 241, 239, 136, 215, 260, 222, 238, 392, 375, 206, 244, 322, 164, 289, 359, 206, 224, 301, 278, 278, 214, 277, 177, 214, 558, 268, 266, 173, 76, 217, 337, 300, 372, 277, 275, 271, 210, 232, 249, 254, 238, 218, 262, 254, 310, 199, 277, 219, 278, 309, 256, 97, 169, 168, 327, 209, 282, 292, 117, 296, 313, 265, 258, 266, 200, 226, 275, 332, 274, 410, 218, 165, 167, 219, 214, 261, 297, 224, 197, 219, 387, 273, 325, 251, 265, 260, 304, 267, 251, 292, 284, 325, 293, 299, 294, 269, 349, 351, 181, 261, 282, 318, 341, 248, 312, 221, 242, 261, 242, 313, 236, 42, 209, 150, 105, 247, 208, 327, 243, 330, 277, 212, 342, 365, 245, 220, 186, 267, 198, 94, 253, 368, 295, 145, 138, 292, 252, 306, 247, 263, 321, 52, 254, 121, 247, 262, 105, 139, 253, 220, 264, 303, 187, 318, 376, 268, 292, 382, 137, 291, 138, 204, 224, 275, 76, 228, 195, 215, 318, 138, 126, 320, 284, 317, 248, 329, 524, 337, 125, 272, 306, 212, 99, 302, 350, 176, 152, 216, 290, 227, 221, 312, 239, 356, 376, 214, 149, 179, 243, 351, 250, 102, 267, 193, 314, 218, 265, 261, 362, 320, 212, 320, 212, 273, 251, 306, 314, 276, 322, 376, 229, 235, 311, 111, 211, 272, 353, 133, 257, 224, 202, 231, 203, 293, 314, 229, 166, 165, 180, 211, 231, 254, 234, 243, 243, 10, 234, 1, 220, 226, 396, 239, 199, 248, 243, 224, 464, 268, 184, 245, 268, 291, 75, 173, 231, 373, 235, 479, 222, 294, 269, 240, 261, 255, 326, 289, 186, 288, 206, 271, 214, 298, 227, 254, 299, 399, 217, 224, 328, 140, 170, 286, 331, 214, 260, 163, 146, 251, 221, 266, 202, 398, 298, 420, 262, 239, 327, 289, 155, 243, 230, 149, 229, 274, 218, 263, 211, 145, 251, 221, 201, 213, 238, 254, 250, 216, 247, 380, 277, 305, 266, 173, 304, 190, 314, 299, 205, 337, 221, 96, 235, 175, 234, 343, 282, 365, 221, 254, 193, 263, 262, 356, 328, 296, 184, 233, 359, 316, 115, 329, 206, 336, 279, 215, 209, 122, 297, 307, 182, 277, 229, 446, 357, 181, 307, 350, 253, 259, 231, 138, 166, 170, 253, 327, 140, 206, 266, 209, 173, 81, 384, 112, 314, 178, 263, 265, 288, 348, 82, 377, 236, 384, 196, 210, 290, 477, 323, 254, 175, 232, 168, 293, 208, 315, 308, 173, 178, 280, 187, 227, 204, 288, 220, 226, 290, 244, 197, 228, 129, 276, 295, 219, 100, 191, 244, 337, 200, 175, 287, 314, 248, 235, 318, 349, 209, 277, 268, 263, 268, 257, 258, 285, 269, 254, 290, 212, 229, 177, 386, 226, 263, 274, 136, 303, 127, 394, 251, 265, 160, 178, 226, 318, 303, 136, 215, 241, 291, 192, 276, 139, 196, 270, 186, 217, 253, 284, 314, 203, 121, 168, 286, 321, 219, 204, 251, 272, 190, 233, 361, 227, 222, 278, 257, 197, 236, 234, 232, 204, 213, 241, 185, 295, 280, 498, 282, 219, 165, 251, 224, 367, 182, 102, 182, 315, 275, 282, 219, 145, 209, 227, 109, 247, 207, 237, 199, 207, 310, 220, 158, 275, 217, 230, 215, 267, 296, 267, 257, 241, 261, 246, 312, 193, 322, 202, 281, 289, 215, 186, 230, 321, 339, 7, 286, 286, 324, 241, 310, 113, 274, 303, 232, 285, 199, 202, 223, 209, 133, 289, 270, 221, 221, 272, 353, 277, 202, 377, 231, 127, 293, 245, 374, 343, 270, 339, 189, 328, 282, 142, 264, 161, 270, 443, 473, 252, 277, 722, 214, 277, 248, 232, 223, 261, 447, 275, 245, 171, 338, 222, 259, 193, 127, 395, 282, 261, 470, 268, 18, 239, 291, 412, 337, 258, 249, 177, 158, 219, 177, 264, 171, 206, 233, 186, 338, 276, 337, 226, 259, 160, 225, 202, 193, 273, 291, 212, 217, 266, 255, 208, 240, 215, 247, 239, 176, 217, 338, 287, 282, 344, 250, 105, 92, 275, 201, 255, 236, 258, 324, 343, 266, 207, 208, 103, 221, 219, 203, 233, 188, 290, 12, 171, 329, 232, 292, 439, 338, 255, 232, 298, 386, 232, 234, 203, 447, 214, 225, 223, 268, 275, 195, 189, 321, 318, 278, 163, 261, 323, 75, 382, 186, 213, 431, 266, 216, 204, 125, 166, 347, 262, 243, 338, 324, 214, 279, 280, 281, 185, 245, 288, 174, 235, 281, 222, 202, 161, 216, 324, 249, 220, 224, 241, 230, 292, 316, 90, 125, 388, 224, 233, 274, 292, 337, 255, 224, 137, 162, 183, 519, 222, 286, 132, 382, 309, 268, 343, 271, 312, 225, 251, 215, 223, 262, 196, 259, 301, 608, 23, 268, 211, 291, 211, 220, 264, 167, 377, 163, 235, 207, 284, 176, 209, 351, 297, 311, 348, 268, 240, 197, 207, 244, 151, 393, 226, 372, 250, 312, 311, 315, 248, 266, 495, 260, 326, 214, 258, 324, 282, 315, 290, 262, 283, 209, 200, 228, 205, 174, 228, 378, 249, 186, 280, 344, 239, 216, 305, 177, 247, 305, 268, 152, 189, 213, 189, 234, 148, 216, 208, 245, 237, 264, 299, 760, 235, 220, 194, 200, 234, 421, 294, 171, 445, 236, 270, 237, 235, 165, 171, 260, 227, 168, 242, 442, 294, 293, 255, 189, 269, 293, 302, 127, 203, 522, 259, 161, 202, 249, 249, 196, 207, 282, 280, 210, 214, 332, 216, 214, 141, 157, 161, 218, 264, 316, 215, 170, 199, 267, 201, 236, 92, 310, 364, 182, 239, 269, 297, 260, 242, 188, 277, 268, 227, 269, 262, 229, 260, 265, 228, 214, 245, 159, 234, 243, 193, 180, 246, 146, 212, 283, 270, 214, 388, 257, 309, 290, 220, 328, 272, 287, 297, 168, 163, 254, 396, 291, 311, 266, 280, 190, 288, 210, 306, 139, 277, 300, 223, 281, 217, 303, 221, 260, 211, 171, 214, 261, 375, 203, 188, 448, 244, 224, 98, 259, 247, 155, 210, 208, 320, 369, 154, 233, 330, 185, 222, 359, 237, 149, 184, 256, 311, 248, 364, 235, 311, 216, 259, 273, 259, 394, 148, 383, 275, 277, 205, 268, 235, 262, 274, 198, 267, 249, 348, 392, 294, 297, 334, 265, 273, 233, 314, 276, 335, 305, 375, 340, 82, 333, 156, 256, 244, 228, 249, 213, 131, 262, 139, 252, 204, 236, 240, 297, 265, 205, 250, 243, 264, 235, 250, 196, 130, 274, 246, 351, 243, 295, 227, 211, 201, 296, 331, 254, 147, 399, 210, 136, 144, 168, 71, 12, 313, 302, 288, 389, 266, 221, 295, 281, 313, 247, 205, 391, 333, 210, 298, 296, 221, 268, 210, 282, 296, 245, 273, 276, 342, 184, 353, 307, 237, 314, 296, 250, 258, 228, 240, 317, 267, 369, 192, 202, 236, 233, 259, 275, 142, 235, 155, 177, 207, 105, 266, 191, 219, 487, 322, 82, 206, 300, 207, 343, 197, 179, 259, 260, 282, 261, 283, 471, 225, 389, 183, 305, 327, 145, 191, 225, 271, 237, 126, 276, 397, 182, 253, 220, 376, 339, 212, 302, 337, 263, 327, 358, 250, 251, 302, 199, 219, 236, 261, 318, 260, 182, 203, 345, 250, 291, 258, 198, 257, 149, 295, 256, 243, 472, 565, 199, 291, 246, 172, 208, 293, 129, 175, 210, 335, 251, 285, 153, 341, 127, 187, 195, 184, 93, 332, 258, 139, 230, 278, 298, 288, 250, 297, 262, 311, 275, 265, 187, 257, 264, 115, 210, 225, 295, 312, 311, 282, 298, 200, 247, 10, 235, 202, 239, 263, 243, 205, 284, 115, 118, 236, 285, 328, 303, 228, 222, 244, 246, 204, 237, 278, 170, 232, 175, 205, 82, 234, 145, 307, 170, 327, 332, 217, 322, 366, 253, 218, 200, 119, 220, 456, 211, 278, 252, 303, 183, 320, 313, 199, 353, 263, 270, 319, 194, 261, 223, 291, 274, 320, 251, 290, 377, 230, 285, 259, 321, 394, 171, 262, 332, 263, 373, 218, 333, 296, 294, 287, 267, 145, 150, 222, 199, 101, 112, 224, 230, 217, 243, 266, 293, 279, 181, 305, 261, 344, 351, 217, 336, 225, 222, 247, 398, 266, 259, 227, 270, 354, 248, 241, 143, 212, 251, 249, 307, 256, 369, 223, 263, 161, 298, 263, 262, 216, 276, 232, 256, 268, 223, 212, 199, 264, 274, 130, 141, 406, 259, 229, 217, 182, 207, 225, 131, 383, 279, 275, 364, 224, 120, 242, 157, 190, 224, 318, 190, 315, 204, 216, 209, 208, 312, 400, 146, 242, 241, 171, 146, 588, 207, 252, 192, 277, 195, 276, 563, 270, 159, 285, 277, 284, 260, 253, 243, 239, 259, 260, 383, 197, 490, 302, 350, 172, 223, 227, 300, 213, 228, 216, 183, 314, 220, 300, 213, 287, 281, 285, 194, 283, 192, 186, 217, 182, 188, 271, 254, 210, 175, 230, 251, 249, 251, 244, 68, 208, 13, 272, 130, 312, 220, 231, 273, 283, 286, 220, 199, 343, 215, 240, 330, 234, 289, 226, 174, 214, 298, 220, 260, 255, 247, 300, 215, 207, 288, 285, 256, 240, 223, 245, 207, 496, 251, 230, 356, 238, 274, 237, 264, 220, 8, 275, 154, 143, 278, 203, 240, 182, 340, 177, 283, 83, 176, 456, 236, 271, 216, 255, 148, 171, 101, 176, 223, 259, 267, 203, 206, 360, 368, 85, 175, 186, 398, 230, 59, 199, 173, 208, 225, 199, 266, 161, 197, 200, 275, 185, 244, 188, 272, 260, 268, 239, 205, 297, 103, 192, 212, 325, 296, 289, 309, 211, 141, 269, 253, 213, 264, 183, 359, 182, 209, 281, 344, 248, 341, 187, 141, 288, 289, 281, 188, 122, 194, 287, 248, 226, 243, 241, 256, 281, 171, 248, 245, 208, 271, 319, 255, 266, 212, 447, 225, 147, 207, 176, 247, 269, 127, 228, 227, 144, 283, 229, 233, 320, 287, 203, 171, 315, 210, 272, 223, 306, 382, 133, 197, 74, 271, 285, 227, 237, 267, 287, 306, 271, 200, 309, 312, 123, 190, 500, 140, 177, 316, 262, 228, 151, 148, 197, 187, 82, 387, 358, 243, 191, 123, 291, 116, 284, 363, 283, 256, 302, 187, 344, 232, 223, 169, 264, 343, 266, 173, 277, 296, 204, 222, 226, 400, 118, 130, 93, 276, 211, 175, 134, 246, 241, 245, 270, 261, 238, 215, 416, 257, 266, 113, 213, 229, 273, 219, 282, 320, 98, 331, 234, 226, 208, 179, 170, 211, 218, 118, 117, 281, 235, 308, 210, 297, 167, 198, 224, 240, 256, 193, 240, 25, 258, 281, 310, 230, 366, 253, 249, 267, 240, 401, 380, 251, 283, 298, 223, 161, 315, 187, 127, 427, 83, 214, 180, 223, 292, 7, 182, 189, 167, 201, 208, 249, 142, 117, 337, 328, 193, 208, 222, 354, 142, 260, 206, 345, 279, 199, 162, 228, 216, 199, 218, 255, 234, 230, 251, 252, 148, 326, 305, 157, 141, 216, 233, 255, 216, 131, 224, 196, 100, 71, 96, 8, 379, 442, 229, 256, 272, 288, 194, 286, 113, 194, 205, 273, 211, 295, 134, 265, 269, 259, 218, 192, 249, 301, 320, 226, 220, 292, 177, 281, 191, 219, 178, 184, 209, 220, 171, 207, 307, 142, 221, 10, 2, 268, 221, 226, 118, 272, 117, 281, 412, 200, 203, 170, 417, 257, 266, 242, 335, 222, 242, 249, 269, 259, 162, 192, 216, 343, 245, 261, 211, 234, 299, 280, 199, 208, 229, 256, 205, 238, 354, 278, 276, 151, 226, 248, 268, 232, 263, 210, 234, 278, 345, 149, 247, 186, 280, 292, 263, 218, 193, 239, 268, 400, 225, 266, 252, 412, 211, 237, 261, 148, 215, 270, 274, 312, 297, 239, 215, 226, 240, 222, 114, 198, 215, 201, 285, 165, 375, 207, 144, 266, 242, 244, 210, 121, 315, 244, 186, 228, 267, 171, 288, 220, 247, 318, 212, 187, 312, 146, 255, 186, 517, 258, 268, 163, 227, 173, 228, 304, 306, 213, 389, 254, 253, 222, 267, 235, 234, 208, 148, 198, 220, 246, 207, 264, 113, 264, 4, 105, 67, 117, 209, 132, 364, 453, 270, 308, 366, 132, 247, 183, 234, 202, 250, 280, 243, 315, 207, 8, 200, 182, 281, 163, 173, 190, 305, 90, 326, 171, 280, 345, 11, 240, 281, 244, 190, 265, 242, 321, 283, 213, 165, 252, 269, 219, 114, 274, 256, 14, 15, 82, 270, 219, 94, 220, 202, 258, 228, 239, 222, 259, 146, 243, 127, 217, 7, 289, 297, 268, 283, 260, 360, 134, 262, 263, 395, 162, 210, 229, 289, 145, 266, 208, 267, 284, 311, 259, 270, 303, 354, 124, 267, 20, 270, 275, 182, 223, 230, 15, 204, 232, 315, 215, 276, 287, 158, 283, 253, 222, 94, 225, 218, 207, 253, 298, 223, 72, 158, 256, 255, 260, 219, 244, 220, 184, 7, 205, 312, 363, 230, 246, 210, 241, 206, 308, 213, 325, 167, 259, 242, 201, 229, 220, 269, 555, 153, 306, 433, 273, 248, 223, 239, 475, 123, 224, 341, 233, 280, 170, 213, 264, 291, 316, 249, 303, 209, 284, 288, 220, 206, 230, 24, 228, 233, 219, 239, 265, 314, 298, 240, 274, 144, 187, 214, 310, 235, 190, 203, 195, 79, 189, 121, 231, 243, 183, 87, 227, 241, 298, 146, 146, 167, 477, 220, 187, 360, 149, 220, 289, 234, 106, 291, 224, 187, 260, 423, 95, 260, 124, 247, 291, 423, 267, 164, 392, 243, 263, 244, 268, 420, 180, 336, 285, 139, 200, 261, 283, 254, 125, 253, 196, 86, 161, 232, 227, 241, 241, 218, 226, 302, 248, 228, 165, 164, 146, 229, 271, 279, 222, 409, 382, 432, 207, 227, 213, 223, 326, 84, 163, 305, 245, 324, 486, 218, 275, 157, 138, 161, 207, 241, 226, 218, 307, 234, 214, 223, 148, 198, 251, 142, 277, 188, 176, 231, 234, 230, 401, 236, 124, 273, 324, 298, 337, 288, 241, 190, 211, 200, 233, 216, 271, 12, 285, 262, 242, 266, 281, 172, 140, 223, 240, 308, 185, 268, 106, 264, 257, 198, 207, 150, 288, 215, 163, 375, 114, 236, 315, 288, 352, 431, 221, 278, 152, 218, 266, 293, 218, 242, 209, 190, 228, 190, 280, 247, 230, 303, 235, 368, 368, 234, 305, 317, 271, 201, 243, 230, 328, 295, 285, 221, 4, 311, 268, 270, 226, 179, 233, 187, 236, 469, 261, 331, 366, 273, 140, 150, 299, 182, 271, 296, 255, 222, 226, 213, 153, 298, 327, 201, 278, 291, 247, 12, 218, 207, 165, 225, 291, 253, 164, 276, 283, 342, 127, 260, 170, 138, 148, 221, 275, 254, 290, 222, 243, 244, 236, 261, 283, 239, 230, 285, 217, 203, 327, 275, 263, 272, 318, 396, 333, 291, 148, 13, 222, 222, 144, 278, 259, 189, 226, 254, 237, 169, 207, 367, 315, 286, 76, 226, 217, 154, 152, 206, 252, 179, 248, 296, 226, 261, 213, 243, 273, 278, 260, 259, 215, 214, 255, 149, 278, 204, 197, 210, 259, 258, 190, 205, 214, 119, 129, 267, 169, 657, 165, 133, 219, 240, 150, 470, 180, 166, 211, 292, 103, 111, 146, 270, 301, 234, 141, 218, 234, 210, 174, 191, 297, 223, 271, 170, 335, 10, 326, 258, 237, 250, 215, 233, 246, 284, 141, 271, 350, 290, 356, 337, 156, 364, 20, 286, 267, 292, 295, 361, 291, 252, 195, 157, 141, 211, 123, 111, 193, 336, 245, 224, 76, 148, 257, 275, 206, 246, 232, 290, 293, 166, 146, 251, 227, 221, 442, 202, 275, 362, 261, 254, 268, 180, 216, 210, 245, 329, 197, 155, 215, 80, 128, 278, 243, 246, 282, 458, 293, 206, 201, 201, 229, 133, 209, 198, 368, 180, 389, 277, 265, 250, 255, 269, 275, 262, 194, 140, 179, 276, 377, 297, 378, 278, 227, 71, 185, 263, 194, 246, 252, 201, 307, 270, 131, 226, 268, 293, 316, 281, 221, 259, 158, 279, 10, 10, 213, 180, 153, 134, 216, 257, 235, 271, 250, 306, 301, 235, 299, 286, 192, 156, 312, 200, 179, 217, 210, 177, 80, 252, 256, 245, 186, 242, 291, 264, 207, 171, 224, 292, 281, 233, 195, 183, 318, 350, 216, 316, 223, 257, 232, 284, 215, 140, 206, 133, 206, 224, 216, 220, 314, 170, 172, 88, 263, 253, 65, 99, 147, 279, 285, 128, 104, 205, 313, 13, 5, 407, 301, 249, 233, 183, 236, 239, 223, 205, 224, 240, 248, 198, 409, 269, 233, 288, 360, 223, 348, 258, 401, 115, 332, 193, 252, 193, 287, 223, 140, 216, 184, 312, 329, 162, 158, 288, 202, 169, 286, 263, 121, 86, 255, 189, 221, 280, 220, 266, 228, 379, 183, 171, 290, 157, 198, 266, 227, 231, 256, 183, 280, 287, 253, 242, 285, 248, 380, 168, 263, 263, 118, 230, 214, 101, 222, 158, 164, 169, 69, 66, 226, 243, 301, 179, 168, 270, 287, 243, 226, 306, 309, 221, 253, 304, 292, 180, 223, 223, 158, 46, 232, 7, 97, 257, 343, 277, 182, 206, 250, 229, 313, 294, 227, 286, 307, 121, 122, 162, 169, 275, 132, 267, 227, 158, 247, 220, 274, 295, 201, 297, 282, 208, 290, 261, 283, 229, 261, 190, 341, 296, 160, 248, 213, 227, 251, 262, 312, 243, 297, 125, 167, 251, 115, 262, 174, 191, 57, 181, 267, 225, 140, 237, 226, 209, 357, 244, 269, 216, 297, 130, 224, 314, 208, 291, 208, 207, 179, 288, 168, 282, 224, 225, 212, 269, 311, 284, 94, 109, 233, 242, 199, 118, 180, 223, 319, 206, 676, 236, 106, 200, 288, 324, 148, 222, 271, 158, 272, 241, 162, 235, 220, 292, 300, 272, 307, 11, 12, 187, 454, 305, 293, 129, 182, 275, 311, 212, 203, 293, 189, 129, 84, 228, 245, 176, 261, 259, 288, 182, 204, 228, 215, 294, 254, 217, 240, 305, 207, 191, 240, 219, 149, 219, 88, 241, 248, 180, 207, 253, 387, 8, 6, 207, 206, 220, 222, 211, 257, 164, 260, 286, 315, 244, 317, 200, 397, 278, 208, 226, 255, 236, 233, 206, 198, 155, 357, 139, 628, 163, 284, 314, 288, 269, 257, 231, 291, 294, 249, 264, 295, 315, 186, 329, 374, 261, 259, 243, 210, 148, 268, 263, 243, 318, 228, 252, 303, 221, 266, 296, 235, 269, 292, 238, 203, 168, 194, 63, 150, 226, 314, 248, 199, 226, 229, 230, 273, 225, 181, 267, 204, 153, 223, 246, 209, 262, 309, 315, 274, 223, 219, 253, 177, 158, 376, 217, 212, 199, 194, 171, 355, 313, 90, 202, 197, 235, 98, 149, 214, 466, 194, 258, 93, 157, 263, 176, 274, 335, 208, 178, 298, 207, 170, 302, 204, 254, 15, 219, 302, 328, 149, 231, 217, 222, 259, 212, 192, 324, 207, 292, 238, 267, 247, 224, 268, 206, 212, 196, 274, 217, 263, 145, 263, 54, 218, 280, 231, 6, 166, 216, 245, 206, 260, 262, 224, 165, 188, 153, 231, 262, 197, 201, 211, 248, 142, 253, 227, 228, 251, 225, 106, 201, 286, 102, 255, 348, 187, 277, 280, 177, 225, 265, 202, 288, 250, 185, 219, 286, 207, 207, 160, 238, 287, 282, 211, 288, 216, 145, 315, 225, 163, 275, 182, 205, 108, 290, 207, 265, 311, 212, 263, 279, 268, 164, 255, 296, 260, 313, 173, 214, 186, 147, 131, 258, 189, 125, 86, 150, 164, 262, 172, 193, 290, 8, 10, 262, 241, 338, 246, 291, 189, 262, 179, 240, 299, 167, 231, 305, 183, 305, 180, 270, 279, 266, 7, 6, 276, 324, 94, 287, 285, 196, 175, 301, 385, 12, 320, 272, 228, 279, 81, 6, 277, 237, 307, 190, 230, 295, 256, 237, 311, 221, 233, 290, 274, 82, 89, 226, 262, 239, 309, 260, 209, 248, 173, 175, 321, 309, 521, 308, 200, 197, 229, 261, 273, 173, 261, 220, 196, 154, 201, 149, 190, 277, 214, 239, 158, 191, 115, 246, 296, 169, 162, 135, 5, 256, 192, 165, 115, 226, 122, 170, 125, 216, 190, 151, 298, 187, 206, 111, 268, 224, 176, 320, 271, 323, 260, 248, 203, 242, 271, 304, 163, 284, 372, 322, 265, 249, 185, 159, 194, 334, 134, 321, 191, 225, 8, 236, 130, 269, 249, 328, 198, 164, 10, 315, 120, 267, 250, 203, 11, 281, 256, 269, 243, 252, 165, 180, 266, 268, 303, 188, 225, 248, 275, 175, 177, 244, 303, 249, 201, 87, 160, 260, 133, 204, 181, 195, 225, 23, 173, 197, 171, 164, 125, 229, 253, 220, 179, 241, 302, 301, 201, 297, 256, 274, 278, 267, 339, 327, 227, 266, 228, 401, 402, 173, 235, 259, 158, 150, 293, 228, 208, 199, 326, 272, 259, 309, 247, 80, 392, 167, 275, 233, 103, 261, 201, 213, 308, 262, 258, 185, 248, 281, 302, 215, 273, 256, 236, 246, 275, 270, 6, 194, 11, 202, 206, 5, 280, 302, 261, 309, 180, 335, 215, 266, 221, 268, 239, 271, 259, 273, 210, 213, 195, 254, 140, 249, 206, 262, 220, 266, 280, 178, 360, 151, 153, 245, 289, 248, 101, 90, 299, 178, 205, 219, 226, 262, 233, 251, 468, 306, 247, 302, 231, 261, 202, 279, 237, 208, 249, 153, 105, 122, 226, 187, 137, 340, 267, 237, 345, 343, 165, 287, 297, 215, 229, 275, 237, 224, 218, 113, 185, 266, 154, 283, 208, 278, 213, 144, 195, 269, 167, 216, 80, 179, 156, 239, 215, 387, 382, 200, 245, 284, 218, 105, 211, 103, 155, 268, 339, 161, 264, 231, 301, 261, 387, 263, 277, 230, 281, 394, 282, 314, 312, 306, 283, 222, 224, 307, 304, 291, 259, 254, 168, 298, 267, 326, 286, 302, 191, 278, 305, 116, 103, 176, 294, 191, 185, 155, 264, 251, 320, 275, 320, 224, 253, 257, 232, 183, 238, 286, 273, 313, 104, 98, 176, 235, 155, 317, 274, 228, 201, 346, 375, 271, 345, 269, 242, 274, 237, 346, 359, 381, 221, 318, 255, 361, 243, 274, 259, 277, 247, 238, 248, 386, 244, 145, 267, 261, 224, 321, 214, 168, 130, 152, 205, 279, 245, 102, 71, 180, 276, 287, 254, 308, 370, 163, 355, 76, 270, 155, 376, 224, 222, 297, 293, 303, 231, 310, 670, 294, 183, 199, 152, 177, 241, 295, 242, 189, 213, 297, 175, 213, 296, 274, 198, 316, 105, 65, 253, 312, 200, 107, 295, 135, 297, 252, 264, 291, 200, 515, 268, 127, 289, 233, 176, 372, 100, 219, 9, 165, 257, 192, 221, 247, 159, 266, 445, 239, 328, 326, 224, 304, 217, 15, 140, 157, 253, 171, 145, 160, 188, 128, 218, 169, 275, 305, 228, 296, 259, 300, 296, 300, 214, 238, 330, 342, 110, 145, 154, 212, 120, 452, 293, 263, 158, 421, 326, 281, 227, 294, 258, 297, 203, 155, 221, 235, 270, 208, 288, 173, 152, 228, 207, 313, 139, 366, 229, 158, 180, 242, 174, 145, 187, 148, 249, 277, 168, 209, 218, 141, 88, 192, 86, 282, 9, 349, 270, 219, 320, 283, 255, 247, 234, 240, 311, 456, 335, 225, 242, 242, 239, 268, 146, 279, 282, 270, 279, 253, 281, 236, 244, 287, 284, 277, 275, 284, 308, 305, 307, 319, 222, 178, 338, 246, 183, 110, 165, 142, 334, 275, 235, 211, 192, 252, 204, 259, 237, 108, 178, 154, 224, 98, 253, 325, 296, 456, 236, 340, 264, 214, 194, 85, 409, 221, 276, 256, 251, 364, 219, 263, 237, 196, 314, 274, 320, 311, 429, 187, 245, 209, 211, 176, 133, 325, 340, 214, 258, 256, 604, 90, 280, 208, 288, 242, 181, 251, 311, 216, 227, 210, 400, 275, 281, 296, 107, 221, 107, 82, 79, 173, 231, 146, 262, 220, 263, 466, 160, 261, 285, 303, 262, 222, 242, 297, 123, 231, 203, 285, 143, 243, 206, 16, 250, 263, 216, 266, 324, 239, 275, 232, 255, 235, 226, 220, 172, 215, 356, 298, 279, 318, 271, 329, 211, 304, 320, 188, 277, 86, 320, 208, 295, 150, 236, 159, 191, 245, 322, 315, 270, 220, 346, 151, 294, 279, 225, 245, 239, 129, 214, 194, 228, 246, 251, 250, 395, 175, 181, 186, 222, 149, 303, 254, 215, 281, 267, 182, 265, 271, 248, 264, 225, 164, 347, 209, 375, 203, 286, 253, 183, 144, 238, 276, 137, 178, 203, 317, 241, 154, 212, 290, 172, 268, 281, 310, 65, 188, 250, 241, 340, 202, 188, 239, 200, 228, 192, 285, 206, 245, 289, 4, 155, 268, 198, 255, 294, 278, 236, 331, 236, 228, 183, 231, 246, 252, 233, 275, 162, 228, 402, 316, 10, 174, 260, 299, 158, 294, 392, 158, 182, 169, 165, 141, 164, 163, 169, 274, 255, 268, 218, 266, 340, 342, 275, 266, 229, 222, 170, 142, 234, 175, 86, 205, 324, 239, 284, 355, 214, 70, 155, 215, 125, 262, 137, 157, 140, 301, 211, 254, 186, 219, 252, 298, 269, 114, 290, 407, 209, 151, 196, 249, 284, 274, 164, 129, 286, 291, 454, 270, 275, 216, 302, 316, 234, 184, 219, 267, 259, 298, 222, 257, 172, 217, 208, 186, 226, 242, 113, 203, 116, 190, 122, 255, 146, 299, 259, 221, 239, 220, 92, 94, 157, 85, 201, 202, 86, 180, 199, 279, 281, 220, 217, 150, 123, 277, 226, 281, 222, 348, 310, 308, 317, 128, 260, 292, 300, 194, 259, 250, 298, 269, 272, 182, 220, 278, 276, 216, 114, 230, 164, 277, 236, 261, 268, 271, 162, 214, 200, 227, 205, 199, 177, 184, 205, 265, 284, 178, 219, 221, 155, 185, 459, 110, 119, 133, 120, 196, 229, 175, 273, 155, 254, 127, 144, 253, 232, 238, 206, 133, 303, 266, 223, 306, 149, 341, 282, 195, 208, 184, 318, 223, 216, 353, 347, 239, 282, 255, 110, 251, 271, 310, 313, 336, 243, 260, 185, 212, 199, 17, 180, 208, 374, 284, 8, 306, 271, 247, 516, 257, 303, 211, 212, 247, 274, 236, 241, 289, 130, 262, 179, 295, 239, 259, 221, 302, 242, 229, 239, 376, 228, 235, 203, 272, 128, 329, 287, 373, 102, 275, 329, 313, 281, 274, 273, 303, 113, 354, 95, 118, 87, 151, 272, 90, 230, 227, 258, 9, 245, 200, 144, 84, 208, 101, 371, 234, 143, 186, 243, 157, 238, 227, 162, 224, 217, 146, 241, 240, 224, 219, 199, 233, 269, 345, 219, 227, 192, 202, 229, 410, 206, 225, 260, 284, 339, 217, 218, 298, 212, 350, 139, 165, 249, 287, 217, 228, 171, 303, 255, 217, 240, 201, 111, 253, 174, 243, 390, 264, 271, 153, 131, 267, 262, 279, 180, 199, 280, 179, 188, 309, 225, 259, 222, 133, 167, 109, 185, 106, 118, 203, 283, 268, 243, 319, 182, 259, 243, 282, 309, 267, 274, 271, 226, 309, 218, 319, 183, 254, 258, 248, 223, 271, 268, 206, 151, 260, 262, 343, 344, 285, 285, 265, 339, 271, 201, 342, 183, 277, 153, 79, 223, 3, 100, 373, 237, 155, 105, 168, 343, 304, 240, 213, 416, 173, 150, 239, 318, 388, 156, 239, 158, 266, 194, 207, 293, 233, 220, 213, 292, 237, 191, 273, 280, 236, 295, 277, 244, 239, 311, 297, 147, 211, 264, 267, 242, 270, 228, 260, 218, 324, 199, 213, 354, 261, 2, 241, 143, 296, 203, 235, 210, 246, 267, 166, 238, 165, 251, 249, 248, 260, 161, 152, 220, 238, 290, 247, 207, 259, 216, 87, 248, 239, 268, 170, 152, 157, 114, 308, 196, 69, 361, 266, 262, 204, 267, 151, 297, 223, 240, 219, 229, 87, 159, 259, 252, 124, 375, 357, 226, 243, 342, 270, 360, 243, 259, 248, 285, 191, 186, 208, 278, 210, 18, 208, 11, 178, 270, 268, 362, 210, 228, 222, 279, 257, 275, 370, 251, 221, 259, 238, 159, 255, 252, 162, 184, 227, 117, 224, 285, 292, 319, 316, 216, 292, 284, 334, 181, 133, 111, 232, 297, 284, 188, 282, 231, 275, 312, 266, 240, 313, 302, 238, 282, 156, 205, 120, 260, 345, 186, 296, 315, 336, 241, 164, 258, 275, 245, 151, 260, 254, 208, 115, 170, 149, 215, 200, 103, 131, 213, 158, 442, 161, 257, 323, 273, 252, 173, 165, 249, 217, 199, 271, 187, 344, 225, 156, 267, 201, 259, 329, 323, 214, 213, 120, 150, 205, 211, 327, 209, 168, 288, 259, 236, 315, 238, 204, 240, 210, 205, 190, 381, 595, 218, 249, 253, 217, 181, 365, 336, 279, 272, 152, 207, 226, 273, 358, 310, 187, 272, 147, 213, 151, 132, 202, 257, 305, 365, 337, 260, 183, 265, 260, 215, 350, 291, 179, 272, 216, 154, 154, 223, 264, 217, 228, 154, 142, 212, 272, 327, 270, 189, 579, 222, 224, 297, 201, 257, 217, 249, 271, 223, 100, 270, 198, 237, 344, 233, 228, 117, 276, 185, 301, 392, 259, 249, 122, 129, 191, 233, 264, 288, 206, 250, 269, 156, 263, 46, 263, 135, 252, 380, 87, 212, 219, 189, 235, 272, 314, 292, 310, 305, 295, 247, 231, 316, 219, 265, 343, 202, 211, 433, 256, 81, 300, 246, 277, 234, 265, 282, 252, 231, 233, 308, 201, 294, 203, 316, 248, 273, 370, 228, 256, 209, 191, 205, 291, 273, 147, 162, 195, 302, 112, 380, 153, 156, 293, 245, 219, 278, 300, 287, 432, 219, 228, 233, 203, 138, 134, 65, 173, 122, 256, 303, 293, 285, 223, 311, 149, 394, 205, 230, 347, 277, 279, 289, 263, 408, 304, 256, 258, 259, 251, 184, 227, 374, 219, 221, 224, 221, 254, 226, 264, 244, 200, 273, 150, 286, 261, 208, 241, 255, 292, 269, 220, 229, 261, 214, 205, 147, 348, 215, 207, 267, 213, 273, 325, 316, 270, 279, 252, 312, 306, 212, 248, 283, 307, 187, 217, 191, 252, 111, 232, 190, 243, 176, 168, 248, 239, 256, 371, 220, 192, 321, 310, 330, 233, 219, 48, 268, 117, 470, 128, 249, 233, 199, 114, 216, 112, 149, 114, 374, 203, 217, 264, 322, 188, 274, 163, 267, 150, 154, 165, 166, 153, 133, 200, 147, 324, 115, 299, 313, 273, 226, 249, 149, 224, 246, 261, 325, 319, 370, 265, 204, 600, 161, 230, 157, 354, 258, 260, 228, 198, 145, 222, 292, 290, 225, 406, 203, 137, 375, 380, 381, 170, 222, 253, 16, 104, 449, 213, 304, 262, 106, 325, 169, 105, 138, 108, 239, 221, 207, 219, 268, 204, 294, 280, 268, 200, 179, 344, 315, 260, 249, 159, 178, 240, 246, 172, 312, 142, 132, 322, 252, 286, 368, 253, 9, 303, 245, 255, 290, 316, 245, 259, 7, 287, 422, 219, 283, 316, 268, 268, 184, 267, 287, 251, 230, 192, 9, 222, 277, 339, 250, 317, 308, 326, 322, 262, 366, 177, 260, 127, 281, 215, 220, 124, 160, 250, 246, 277, 201, 377, 355, 208, 173, 213, 154, 169, 258, 91, 272, 154, 348, 265, 243, 254, 153, 152, 262, 252, 256, 249, 85, 233, 290, 305, 256, 213, 360, 225, 514, 160, 248, 261, 98, 171, 178, 226, 199, 216, 10, 206, 170, 135, 274, 244, 212, 254, 154, 330, 271, 304, 326, 202, 199, 166, 257, 220, 217, 262, 329, 278, 263, 254, 126, 170, 86, 122, 213, 249, 176, 303, 226, 235, 183, 375, 329, 152, 169, 264, 7, 112, 248, 317, 232, 99, 170, 278, 152, 332, 253, 242, 248, 303, 263, 274, 61, 201, 413, 217, 256, 209, 255, 233, 272, 135, 210, 251, 258, 249, 192, 313, 255, 291, 330, 179, 267, 184, 366, 313, 284, 228, 186, 358, 263, 263, 243, 268, 214, 218, 309, 257, 251, 293, 246, 108, 175, 254, 271, 302, 225, 186, 151, 142, 307, 137, 87, 280, 196, 213, 244, 288, 420, 198, 397, 289, 181, 218, 176, 268, 198, 277, 274, 211, 216, 204, 103, 265, 217, 199, 216, 218, 218, 216, 215, 184, 303, 147, 365, 223, 230, 349, 257, 264, 335, 185, 255, 283, 274, 235, 186, 188, 252, 154, 214, 117, 179, 152, 200, 156, 258, 232, 214, 290, 233, 260, 325, 219, 186, 233, 219, 385, 271, 147, 279, 160, 305, 277, 244, 243, 172, 194, 235, 196, 285, 403, 409, 168, 169, 291, 178, 271, 205, 283, 223, 279, 217, 286, 103, 247, 237, 313, 272, 321, 317, 175, 242, 224, 275, 105, 265, 104, 275, 264, 209, 210, 374, 237, 224, 214, 176, 341, 192, 84, 188, 257, 306, 170, 174, 221, 325, 328, 215, 235, 226, 228, 157, 192, 239, 217, 100, 322, 358, 226, 200, 163, 344, 263, 295, 135, 206, 314, 160, 355, 305, 262, 261, 316, 248, 296, 276, 282, 277, 192, 221, 469, 256, 217, 253, 218, 387, 253, 319, 303, 178, 233, 287, 245, 248, 248, 268, 109, 206, 242, 268, 283, 231, 151, 209, 289, 233, 258, 302, 272, 173, 228, 217, 267, 256, 236, 208, 219, 112, 6, 58, 261, 200, 514, 106, 234, 217, 243, 145, 278, 305, 146, 212, 216, 80, 286, 174, 134, 202, 265, 270, 13, 221, 253, 291, 236, 248, 151, 181, 366, 267, 263, 516, 303, 178, 212, 269, 228, 253, 331, 128, 182, 202, 256, 152, 223, 248, 347, 226, 161, 290, 269, 261, 267, 266, 215, 207, 225, 203, 277, 274, 203, 314, 409, 72, 188, 322, 276, 243, 91, 194, 292, 233, 211, 206, 332, 237, 69, 105, 86, 269, 285, 256, 326, 258, 204, 146, 238, 304, 296, 164, 177, 256, 231, 176, 199, 220, 135, 147, 264, 217, 218, 187, 207, 210, 225, 223, 82, 238, 213, 204, 208, 171, 290, 212, 206, 191, 267, 122, 238, 397, 336, 370, 262, 294, 157, 157, 236, 355, 254, 282, 198, 420, 268, 319, 275, 288, 339, 232, 254, 265, 132, 177, 122, 251, 10, 217, 221, 156, 220, 280, 277, 256, 172, 183, 217, 226, 224, 215, 222, 261, 268, 265, 295, 7, 349, 273, 279, 146, 276, 136, 161, 284, 221, 205, 283, 173, 210, 115, 236, 292, 261, 198, 93, 212, 238, 258, 262, 251, 269, 225, 101, 191, 216, 107, 274, 262, 293, 228, 288, 165, 176, 190, 186, 262, 178, 157, 264, 247, 238, 180, 271, 209, 7, 228, 195, 340, 133, 188, 97, 245, 400, 252, 239, 252, 203, 216, 302, 342, 275, 267, 212, 216, 148, 358, 259, 178, 207, 276, 256, 262, 221, 177, 223, 113, 234, 274, 314, 273, 222, 148, 334, 207, 167, 309, 151, 262, 150, 251, 277, 215, 222, 182, 248, 207, 179, 183, 213, 251, 290, 142, 307, 189, 413, 218, 339, 231, 302, 278, 239, 213, 190, 98, 163, 167, 227, 228, 188, 230, 240, 359, 340, 207, 279, 216, 180, 87, 161, 232, 229, 301, 218, 220, 369, 221, 99, 134, 197, 156, 504, 347, 92, 295, 221, 251, 198, 546, 181, 216, 151, 323, 101, 413, 169, 219, 264, 459, 309, 251, 288, 317, 108, 162, 157, 204, 172, 132, 265, 253, 140, 255, 207, 277, 257, 98, 208, 262, 73, 255, 209, 156, 176, 173, 2, 57, 203, 108, 220, 118, 365, 163, 247, 167, 189, 8, 204, 196, 341, 440, 120, 261, 330, 232, 280, 191, 341, 8, 235, 112, 227, 127, 128, 311, 133, 321, 291, 216, 139, 213, 130, 225, 372, 265, 197, 526, 226, 206, 277, 271, 384, 374, 265, 182, 281, 215, 261, 214, 182, 136, 168, 263, 168, 289, 114, 92, 55, 10, 12, 12, 255, 233, 333, 218, 271, 147, 351, 92, 95, 293, 156, 255, 190, 120, 244, 247, 325, 106, 217, 147, 255, 160, 130, 236, 135, 206, 233, 262, 216, 161, 198, 277, 193, 73, 11, 422, 141, 274, 165, 237, 86, 172, 60, 148, 138, 241, 158, 404, 334, 233, 292, 197, 241, 238, 216, 153, 370, 363, 209, 122, 209, 223, 239, 336, 311, 222, 301, 223, 314, 194, 97, 265, 228, 371, 197, 165, 7, 276, 322, 107, 152, 459, 211, 7, 171, 403, 294, 270, 302, 237, 212, 423, 403, 272, 208, 211, 335, 261, 229, 319, 279, 285, 233, 236, 232, 150, 280, 227, 279, 187, 204, 276, 303, 437, 302, 229, 347, 137, 276, 217, 214, 285, 268, 276, 183, 192, 256, 239, 278, 233, 147, 181, 268, 205, 212, 308, 171, 152, 250, 224, 174, 211, 277, 189, 276, 175, 293, 204, 208, 9, 264, 227, 265, 383, 183, 66, 364, 133, 244, 206, 227, 203, 191, 196, 196, 164, 146, 152, 340, 243, 246, 243, 314, 391, 106, 216, 220, 203, 205, 97, 320, 84, 210, 252, 157, 287, 90, 174, 257, 392, 503, 234, 257, 207, 114, 528, 414, 162, 208, 184, 197, 211, 274, 239, 277, 299, 170, 209, 268, 397, 420, 332, 304, 124, 356, 350, 38, 215, 292, 269, 265, 280, 237, 91, 314, 288, 229, 348, 334, 219, 157, 271, 231, 79, 220, 176, 226, 127, 314, 181, 270, 200, 417, 229, 249, 228, 323, 234, 172, 193, 248, 250, 203, 284, 226, 140, 158, 194, 223, 249, 154, 261, 254, 187, 274, 163, 171, 309, 224, 157, 297, 319, 259, 253, 230, 148, 157, 336, 467, 208, 289, 232, 244, 213, 201, 221, 292, 255, 321, 278, 442, 133, 302, 128, 201, 200, 232, 187, 168, 143, 216, 208, 11, 209, 197, 145, 123, 252, 237, 229, 191, 231, 293, 241, 11, 231, 218, 173, 261, 245, 269, 259, 266, 11, 66, 214, 146, 262, 185, 283, 209, 144, 177, 63, 84, 147, 137, 10, 318, 297, 367, 265, 88, 203, 186, 202, 134, 216, 243, 240, 125, 188, 246, 262, 296, 77, 204, 162, 238, 244, 387, 260, 218, 338, 263, 323, 161, 184, 196, 249, 321, 321, 144, 214, 129, 212, 203, 184, 240, 244, 291, 287, 305, 205, 208, 134, 211, 187, 264, 158, 133, 201, 254, 193, 499, 123, 249, 282, 191, 353, 156, 262, 188, 222, 244, 209, 274, 304, 285, 288, 177, 271, 272, 290, 346, 209, 160, 276, 146, 269, 153, 165, 109, 191, 244, 238, 226, 90, 290, 211, 266, 189, 196, 307, 194, 134, 127, 264, 241, 147, 97, 62, 225, 277, 316, 190, 249, 329, 332, 206, 245, 216, 175, 301, 167, 242, 240, 227, 187, 445, 214, 214, 190, 199, 6, 120, 371, 283, 95, 298, 196, 114, 352, 219, 249, 64, 277, 273, 215, 233, 211, 222, 297, 241, 226, 75, 408, 508, 420, 280, 291, 317, 224, 188, 264, 306, 378, 311, 282, 148, 294, 254, 324, 157, 364, 258, 169, 209, 140, 172, 98, 313, 272, 289, 236, 233, 400, 7, 345, 199, 145, 242, 340, 263, 62, 228, 230, 152, 280, 342, 149, 209, 201, 76, 96, 6, 128, 243, 273, 337, 273, 281, 276, 6, 173, 281, 244, 257, 154, 10, 220, 251, 366, 311, 291, 195, 215, 10, 277, 349, 244, 301, 133, 278, 5, 4, 261, 255, 288, 223, 85, 404, 268, 218, 178, 152, 216, 228, 215, 82, 265, 173, 188, 188, 180, 261, 228, 394, 178, 327, 157, 59, 95, 332, 212, 278, 363, 342, 235, 342, 141, 187, 236, 198, 261, 298, 266, 209, 180, 72, 627, 270, 231, 335, 231, 148, 333, 296, 8, 265, 408, 267, 237, 191, 84, 167, 213, 166, 207, 261, 281, 414, 288, 292, 181, 216, 237, 115, 227, 304, 248, 299, 197, 258, 290, 301, 238, 235, 227, 437, 110, 304, 205, 217, 285, 170, 8, 234, 165, 300, 214, 245, 234, 261, 218, 291, 391, 265, 74, 171, 223, 262, 205, 113, 197, 458, 419, 402, 234, 253, 293, 507, 417, 210, 299, 94, 153, 220, 250, 347, 402, 294, 70, 270, 280, 322, 335, 161, 313, 330, 277, 185, 204, 108, 91, 104, 205, 226, 99, 168, 172, 130, 307, 203, 120, 271, 182, 426, 357, 94, 194, 108, 260, 266, 327, 235, 240, 155, 161, 218, 238, 221, 202, 231, 340, 281, 346, 299, 5, 328, 247, 125, 163, 260, 113, 292, 420, 271, 76, 173, 293, 248, 1, 199, 213, 269, 199, 217, 262, 361, 281, 264, 238, 288, 250, 185, 158, 192, 198, 258, 262, 146, 243, 349, 259, 225, 181, 210, 225, 219, 253, 213, 94, 293, 232, 140, 263, 173, 243, 133, 310, 292, 182, 264, 380, 312, 256, 167, 269, 150, 192, 269, 328, 310, 198, 307, 335, 426, 205, 205, 2, 13, 142, 258, 256, 268, 240, 239, 250, 197, 228, 147, 299, 261, 260, 252, 376, 248, 210, 114, 402, 10, 169, 234, 211, 231, 248, 258, 212, 155, 182, 222, 211, 305, 273, 232, 263, 247, 217, 282, 278, 140, 289, 165, 181, 192, 346, 239, 210, 320, 411, 114, 284, 468, 220, 242, 154, 229, 224, 292, 368, 303, 183, 116, 314, 390, 236, 217, 207, 64, 256, 189, 237, 288, 164, 140, 247, 114, 124, 123, 273, 214, 171, 167, 178, 184, 248, 157, 232, 286, 388, 211, 413, 269, 251, 335, 268, 142, 271, 232, 258, 171, 293, 292, 492, 152, 71, 157, 782, 232, 215, 199, 332, 432, 7, 148, 225, 280, 159, 218, 286, 343, 250, 283, 257, 342, 209, 73, 195, 264, 230, 154, 12, 109, 156, 130, 123, 83, 110, 317, 243, 179, 274, 374, 251, 256, 188, 169, 286, 298, 202, 112, 95, 315, 119, 170, 425, 289, 193, 401, 229, 252, 592, 288, 71, 243, 204, 341, 200, 254, 117, 212, 254, 201, 138, 217, 180, 170, 253, 122, 210, 54, 82, 220, 62, 305, 94, 108, 99, 284, 230, 367, 248, 212, 389, 399, 473, 561, 371, 434, 130, 376, 370, 229, 263, 150, 215, 286, 159, 151, 184, 277, 162, 133, 129, 189, 166, 241, 51, 313, 219, 152, 164, 265, 139, 158, 4, 308, 265, 4, 381, 154, 79, 79, 76, 171, 233, 89, 157, 289, 213, 229, 289, 214, 207, 407, 149, 190, 201, 213, 197, 115, 183, 213, 278, 269, 163, 306, 3, 322, 369, 249, 217, 206, 232, 214, 167, 248, 306, 321, 315, 235, 201, 305, 163, 374, 264, 65, 170, 934, 658, 188, 256, 107, 119, 253, 220, 315, 109, 78, 237, 240, 370, 208, 237, 166, 265, 105, 359, 83, 67, 63, 49, 53, 328, 273, 161, 250, 257, 82, 184, 105, 376, 151, 365, 278, 195, 264, 159, 162, 192, 274, 197, 322, 184, 331, 175, 236, 189, 102, 392, 221, 388, 267, 240, 217, 135, 260, 467, 297, 227, 275, 250, 292, 233, 216, 251, 181, 252, 190, 283, 263, 243, 327, 335, 103, 104, 253, 332, 183, 275, 242, 108, 301, 218, 231, 232, 186, 105, 289, 216, 219, 2, 255, 224, 352, 203, 266, 274, 391, 299, 219, 314, 169, 216, 255, 291, 317, 286, 275, 397, 319, 443, 277, 233, 331, 248, 226, 162, 260, 215, 132, 287, 217, 316, 234, 12, 209, 257, 202, 251, 178, 60, 115, 114, 147, 284, 257, 230, 200, 207, 15, 129, 90, 186, 93, 144, 215, 473, 126, 291, 253, 314, 129, 257, 225, 250, 179, 7, 282, 124, 7, 128, 197, 317, 180, 335, 197, 243, 175, 225, 287, 219, 406, 398, 200, 178, 140, 265, 419, 394, 226, 465, 175, 177, 115, 150, 141, 198, 252, 119, 294, 90, 132, 145, 254, 275, 284, 269, 142, 369, 234, 282, 287, 269, 270, 252, 227, 203, 303, 241, 282, 197, 318, 316, 186, 101, 272, 276, 174, 220, 119, 281, 366, 274, 324, 282, 356, 199, 155, 283, 255, 246, 164, 266, 96, 206, 320, 186, 557, 163, 102, 148, 198, 210, 217, 290, 62, 208, 152, 282, 253, 284, 219, 253, 196, 225, 272, 101, 316, 317, 250, 367, 217, 280, 312, 228, 207, 228, 290, 107, 269, 179, 219, 115, 213, 9, 146, 298, 160, 250, 278, 115, 190, 214, 84, 326, 62, 97, 111, 145, 155, 210, 177, 9, 9, 143, 208, 65, 280, 335, 223, 276, 289, 302, 34, 263, 96, 263, 252, 116, 194, 178, 96, 318, 75, 149, 95, 252, 248, 270, 296, 132, 10, 113, 354, 271, 99, 209, 307, 183, 226, 273, 442, 346, 14, 221, 249, 238, 152, 311, 213, 297, 208, 198, 242, 202, 150, 259, 296, 183, 219, 136, 175, 208, 254, 210, 309, 252, 330, 205, 176, 76, 188, 232, 102, 252, 126, 140, 356, 285, 115, 250, 208, 214, 267, 217, 266, 193, 384, 68, 261, 359, 191, 209, 235, 253, 148, 46, 88, 172, 398, 233, 330, 115, 82, 281, 4, 215, 400, 206, 112, 118, 296, 310, 253, 117, 137, 140, 219, 202, 236, 170, 268, 304, 158, 206, 284, 222, 221, 251, 210, 258, 288, 232, 211, 232, 131, 183, 249, 277, 76, 115, 177, 138, 12, 538, 258, 188, 170, 213, 284, 6, 12, 431, 297, 109, 369, 158, 286, 198, 164, 218, 376, 150, 142, 159, 164, 228, 368, 272, 227, 103, 388, 200, 90, 126, 151, 366, 242, 298, 123, 206, 231, 131, 127, 109, 224, 333, 213, 353, 171, 264, 313, 406, 196, 103, 225, 111, 81, 79, 173, 202, 180, 112, 200, 245, 240, 256, 188, 238, 222, 265, 249, 138, 154, 225, 216, 209, 208, 175, 301, 249, 131, 178, 135, 224, 168, 354, 107, 142, 433, 153, 130, 56, 130, 144, 19, 203, 176, 228, 93, 173, 119, 88, 172, 333, 276, 126, 213, 148, 271, 265, 295, 128, 111, 221, 166, 137, 82, 361, 288, 224, 241, 263, 560, 144, 179, 172, 130, 147, 130, 157, 255, 8, 137, 142, 4, 187, 143, 205, 164, 2, 154, 195, 220, 258, 98, 96, 71, 109, 222, 260, 210, 447, 245, 131, 190, 282, 290, 320, 81, 252, 280, 287, 170, 247, 176, 202, 133, 205, 236, 273, 313, 245, 212, 105, 127, 255, 224, 150, 154, 192, 207, 260, 317, 228, 376, 225, 269, 210, 210, 223, 127, 75, 216, 171, 243, 244, 140, 276, 267, 223, 303, 302, 172, 207, 116, 190, 221, 284, 172, 334, 156, 195, 368, 274, 279, 117, 181, 251, 180, 153, 229, 137, 209, 295, 339, 153, 270, 147, 132, 161, 238, 174, 333, 349, 344, 338, 470, 237, 209, 340, 200, 329, 157, 152, 248, 277, 243, 96, 162, 170, 98, 96, 104, 251, 364, 160, 192, 80, 292, 291, 79, 119, 163, 69, 180, 178, 155, 252, 111, 169, 151, 427, 183, 153, 325, 178, 302, 187, 64, 111, 102, 77, 48, 138, 248, 287, 231, 182, 241, 153, 260, 287, 242, 248, 209, 37, 186, 251, 94, 300, 275, 189, 250, 349, 120, 92, 159, 61, 295, 173, 112, 229, 133, 97, 60, 154, 185, 131, 203, 165, 121, 244, 109, 114, 126, 161, 132, 237, 322, 394, 70, 339, 68, 124, 144, 318, 117, 292, 263, 125, 8, 148, 195, 172, 144, 188, 292, 203, 198, 178, 222, 159, 275, 229, 168, 132, 252, 526, 227, 127, 209, 267, 190, 131, 213, 245, 182, 293, 277, 237, 343, 227, 242, 203, 199, 277, 275, 216, 334, 165, 161, 182, 316, 390, 191, 16, 162, 206, 219, 189, 317, 148, 131, 250, 386, 382, 186, 10, 141, 227, 278, 195, 144, 223, 174, 268, 244, 265, 276, 171, 213, 376, 151, 142, 176, 5, 286, 336, 135, 248, 533, 455, 160, 117, 56, 123, 263, 165, 147, 258, 363, 234, 196, 236, 84, 217, 220, 393, 189, 346, 259, 370, 164, 168, 305, 300, 214, 200, 185, 182, 186, 227, 293, 176, 122, 156, 242, 156, 68, 123, 79, 196, 98, 286, 221, 244, 6, 300, 158, 366, 110, 159, 277, 173, 145, 37, 179, 192, 209, 185, 329, 258, 155, 81, 258, 111, 135, 206, 253, 238, 160, 84, 153, 343, 142, 225, 2, 3, 74, 110, 78, 145, 112, 256, 278, 237, 244, 77, 198, 148, 191, 157, 124, 174, 139, 148, 327, 316, 11, 224, 285, 278, 245, 149, 265, 244, 228, 284, 100, 214, 197, 429, 191, 208, 10, 220, 114, 117, 299, 65, 69, 82, 205, 143, 134, 301, 228, 148, 53, 221, 167, 251, 195, 274, 486, 204, 137, 80, 332, 426, 191, 122, 193, 243, 225, 272, 229, 332, 104, 121, 242, 112, 94, 248, 140, 230, 285, 277, 256, 187, 331, 88, 164, 99, 123, 42, 213, 86, 74, 98, 97, 107, 359, 335, 295, 240, 183, 79, 149, 170, 144, 169, 131, 164, 262, 139, 278, 165, 130, 17, 134, 247, 120, 72, 202, 187, 7, 79, 2, 225, 249, 239, 107, 252, 263, 93, 146, 249, 37, 145, 144, 146, 84, 178, 185, 199, 338, 153, 131, 126, 13, 346, 66, 138, 331, 239, 170, 107, 133, 264, 315, 186, 174, 117, 127, 203, 125, 155, 115, 207, 404, 6, 125, 121, 163, 224, 229, 59, 269, 403, 317, 323, 263, 153, 233, 182, 272, 115, 272, 103, 145, 160, 141, 6, 136, 119, 304, 104, 96, 107, 103, 120, 130, 86, 125, 171, 116, 152, 100, 272, 256, 77, 226, 186, 199, 264, 175, 128, 85, 263, 219, 273, 97, 226, 186, 253, 64, 130, 270, 194, 133, 191, 217, 231, 113, 226, 264, 194, 43, 76, 131, 135, 284, 97, 247, 167, 147, 256, 93, 114, 211, 55, 95, 134, 12, 72, 209, 11, 149, 147, 82, 249, 183, 282, 385, 13, 64, 249, 50, 159, 203, 197, 80, 245, 56, 630, 460, 413, 156, 153, 182, 92, 140, 148, 126, 8, 132, 82, 148, 226, 182, 116, 226, 169, 323, 184, 233, 97, 264, 44, 143, 109, 211, 170, 287, 8, 262, 183, 109, 218, 178, 228, 90, 238, 109, 146, 207, 145, 93, 190, 182, 210, 155, 86, 166, 122, 96, 275, 172, 105, 192, 60, 110, 151, 207, 105, 315, 155, 307, 145, 103, 140, 205, 272, 253, 260, 263, 107, 157, 247, 214, 172, 159, 145, 109, 272, 215, 157, 94, 166, 118, 116, 155, 108, 191, 94, 154, 4, 6, 16, 148, 210, 184, 267, 97, 144, 248, 374, 347, 246, 201, 248, 236, 230, 233, 145, 232, 206, 114, 230, 185, 226, 128, 157, 265, 96, 203, 221, 139, 216, 77, 76, 262, 101, 202, 366, 193, 184, 414, 107, 136, 167, 213, 181, 129, 165, 143, 147, 146, 207, 158, 245, 165, 162, 148, 188, 96, 182, 106, 197, 112, 176, 65, 176, 134, 188, 166, 153, 129, 112, 252, 12, 2, 6, 185, 120, 9, 156, 249, 137, 237, 216, 240, 237, 259, 132, 54, 56, 368, 127, 72, 147, 141, 169, 147, 60, 158, 200, 209, 121, 174, 105, 119, 374, 218, 285, 147, 162, 90, 245, 255, 307, 249, 99, 182, 163, 155, 3, 171, 128, 144, 175, 158, 114, 62, 127, 255, 95, 215, 239, 189, 121, 181, 231, 217, 174, 142, 234, 263, 175, 109, 160, 186, 135, 215, 104, 99, 179, 80, 175, 83, 210, 205, 143, 89, 177, 123, 169, 214, 219, 121, 134, 9, 206, 17, 131, 142, 61, 200, 223, 217, 147, 146, 97, 220, 165, 208, 150, 254, 247, 148, 3, 152, 87, 267, 197, 156, 173, 84, 108, 417, 250, 120, 133, 264, 70, 106, 78, 115, 250, 110, 168, 122, 257, 270, 106, 291, 97, 288, 129, 238, 2, 9, 92, 263, 73, 228, 173, 157, 136, 138, 151, 40, 4, 196, 135, 302, 294, 145, 108, 113, 117, 135, 122, 255, 147, 195, 152, 59, 215, 298, 92, 327, 296, 87, 72, 187, 209, 98, 243, 142, 158, 152, 145, 212, 94, 100, 51, 154, 110, 160, 98, 88, 284, 122, 129, 101, 60, 100, 151, 133, 153, 185, 63, 101, 118, 156, 224, 116, 103, 137, 191, 167, 174, 207, 179, 127, 224, 320, 202, 60, 251, 280, 229, 53, 57, 94, 90, 56, 245, 218, 70, 114, 129, 82, 222, 328, 249, 148, 247, 56, 264, 83, 143, 6, 178, 163, 263, 74, 2, 176, 195, 236, 222, 267, 276, 140, 99, 151, 241, 43, 48, 40, 6, 197, 11, 3, 86, 121, 78, 153, 7, 6, 90, 184, 137, 3, 136, 242, 211, 9, 3, 177, 4, 131, 208, 55, 6, 131, 84, 120, 130, 83, 130, 115, 180, 88, 5, 8, 99, 129, 73, 136, 142, 182, 145, 131, 95, 12, 280, 113, 114, 88, 153, 104, 115, 212, 201, 182, 221, 7, 52, 114, 228, 7, 163, 280, 199, 127, 178, 333, 196, 225, 258, 60, 216, 214, 183, 231, 146, 66, 72, 219, 110, 188, 111, 9, 200, 96, 3, 256, 85, 41, 98, 269, 276, 258, 242, 34, 80, 49, 323, 57, 102, 277, 126, 291, 97, 79, 98, 131, 87, 127, 209, 240, 358, 6, 218, 172, 65, 5, 9, 143, 192, 110, 151, 3, 128, 148, 318, 102, 103, 135, 152, 11, 78, 116, 106, 104, 186, 140, 174, 159, 130, 10, 10, 11, 308, 178, 121, 136, 188, 123, 216, 144, 247, 27, 179, 79, 140, 227, 139, 83, 175, 399, 362, 175, 402, 83, 8, 6, 94, 126, 119, 183, 42, 132, 279, 76, 170, 307, 16, 6, 125, 216, 174, 100, 107, 235, 100, 142, 178, 145, 6, 124, 282, 165, 114, 127, 343, 151, 7, 161, 8, 227, 4, 10, 120, 305]}],\n",
       "                        {\"barmode\": \"overlay\", \"legend\": {\"bgcolor\": \"#FFFFFF\", \"font\": {\"color\": \"#666666\"}}, \"paper_bgcolor\": \"#FFFFFF\", \"plot_bgcolor\": \"#E5E5E5\", \"template\": {\"data\": {\"bar\": [{\"error_x\": {\"color\": \"#2a3f5f\"}, \"error_y\": {\"color\": \"#2a3f5f\"}, \"marker\": {\"line\": {\"color\": \"#E5ECF6\", \"width\": 0.5}}, \"type\": \"bar\"}], \"barpolar\": [{\"marker\": {\"line\": {\"color\": \"#E5ECF6\", \"width\": 0.5}}, \"type\": \"barpolar\"}], \"carpet\": [{\"aaxis\": {\"endlinecolor\": \"#2a3f5f\", \"gridcolor\": \"white\", \"linecolor\": \"white\", \"minorgridcolor\": \"white\", \"startlinecolor\": \"#2a3f5f\"}, \"baxis\": {\"endlinecolor\": \"#2a3f5f\", \"gridcolor\": \"white\", \"linecolor\": \"white\", \"minorgridcolor\": \"white\", \"startlinecolor\": \"#2a3f5f\"}, \"type\": \"carpet\"}], \"choropleth\": [{\"colorbar\": {\"outlinewidth\": 0, \"ticks\": \"\"}, \"type\": \"choropleth\"}], \"contour\": [{\"colorbar\": {\"outlinewidth\": 0, \"ticks\": \"\"}, \"colorscale\": [[0.0, \"#0d0887\"], [0.1111111111111111, \"#46039f\"], [0.2222222222222222, \"#7201a8\"], [0.3333333333333333, \"#9c179e\"], [0.4444444444444444, \"#bd3786\"], [0.5555555555555556, \"#d8576b\"], [0.6666666666666666, \"#ed7953\"], [0.7777777777777778, \"#fb9f3a\"], [0.8888888888888888, \"#fdca26\"], [1.0, \"#f0f921\"]], \"type\": \"contour\"}], \"contourcarpet\": [{\"colorbar\": {\"outlinewidth\": 0, \"ticks\": \"\"}, \"type\": \"contourcarpet\"}], \"heatmap\": [{\"colorbar\": {\"outlinewidth\": 0, \"ticks\": \"\"}, \"colorscale\": [[0.0, \"#0d0887\"], [0.1111111111111111, \"#46039f\"], [0.2222222222222222, \"#7201a8\"], [0.3333333333333333, \"#9c179e\"], [0.4444444444444444, \"#bd3786\"], [0.5555555555555556, \"#d8576b\"], [0.6666666666666666, \"#ed7953\"], [0.7777777777777778, \"#fb9f3a\"], [0.8888888888888888, \"#fdca26\"], [1.0, \"#f0f921\"]], \"type\": \"heatmap\"}], \"heatmapgl\": [{\"colorbar\": {\"outlinewidth\": 0, \"ticks\": \"\"}, \"colorscale\": [[0.0, \"#0d0887\"], [0.1111111111111111, \"#46039f\"], [0.2222222222222222, \"#7201a8\"], [0.3333333333333333, \"#9c179e\"], [0.4444444444444444, \"#bd3786\"], [0.5555555555555556, \"#d8576b\"], [0.6666666666666666, \"#ed7953\"], [0.7777777777777778, \"#fb9f3a\"], [0.8888888888888888, \"#fdca26\"], [1.0, \"#f0f921\"]], \"type\": \"heatmapgl\"}], \"histogram\": [{\"marker\": {\"colorbar\": {\"outlinewidth\": 0, \"ticks\": \"\"}}, \"type\": \"histogram\"}], \"histogram2d\": [{\"colorbar\": {\"outlinewidth\": 0, \"ticks\": \"\"}, \"colorscale\": [[0.0, \"#0d0887\"], [0.1111111111111111, \"#46039f\"], [0.2222222222222222, \"#7201a8\"], [0.3333333333333333, \"#9c179e\"], [0.4444444444444444, \"#bd3786\"], [0.5555555555555556, \"#d8576b\"], [0.6666666666666666, \"#ed7953\"], [0.7777777777777778, \"#fb9f3a\"], [0.8888888888888888, \"#fdca26\"], [1.0, \"#f0f921\"]], \"type\": \"histogram2d\"}], \"histogram2dcontour\": [{\"colorbar\": {\"outlinewidth\": 0, \"ticks\": \"\"}, \"colorscale\": [[0.0, \"#0d0887\"], [0.1111111111111111, \"#46039f\"], [0.2222222222222222, \"#7201a8\"], [0.3333333333333333, \"#9c179e\"], [0.4444444444444444, \"#bd3786\"], [0.5555555555555556, \"#d8576b\"], [0.6666666666666666, \"#ed7953\"], [0.7777777777777778, \"#fb9f3a\"], [0.8888888888888888, \"#fdca26\"], [1.0, \"#f0f921\"]], \"type\": \"histogram2dcontour\"}], \"mesh3d\": [{\"colorbar\": {\"outlinewidth\": 0, \"ticks\": \"\"}, \"type\": \"mesh3d\"}], \"parcoords\": [{\"line\": {\"colorbar\": {\"outlinewidth\": 0, \"ticks\": \"\"}}, \"type\": \"parcoords\"}], \"scatter\": [{\"marker\": {\"colorbar\": {\"outlinewidth\": 0, \"ticks\": \"\"}}, \"type\": \"scatter\"}], \"scatter3d\": [{\"line\": {\"colorbar\": {\"outlinewidth\": 0, \"ticks\": \"\"}}, \"marker\": {\"colorbar\": {\"outlinewidth\": 0, \"ticks\": \"\"}}, \"type\": \"scatter3d\"}], \"scattercarpet\": [{\"marker\": {\"colorbar\": {\"outlinewidth\": 0, \"ticks\": \"\"}}, \"type\": \"scattercarpet\"}], \"scattergeo\": [{\"marker\": {\"colorbar\": {\"outlinewidth\": 0, \"ticks\": \"\"}}, \"type\": \"scattergeo\"}], \"scattergl\": [{\"marker\": {\"colorbar\": {\"outlinewidth\": 0, \"ticks\": \"\"}}, \"type\": \"scattergl\"}], \"scattermapbox\": [{\"marker\": {\"colorbar\": {\"outlinewidth\": 0, \"ticks\": \"\"}}, \"type\": \"scattermapbox\"}], \"scatterpolar\": [{\"marker\": {\"colorbar\": {\"outlinewidth\": 0, \"ticks\": \"\"}}, \"type\": \"scatterpolar\"}], \"scatterpolargl\": [{\"marker\": {\"colorbar\": {\"outlinewidth\": 0, \"ticks\": \"\"}}, \"type\": \"scatterpolargl\"}], \"scatterternary\": [{\"marker\": {\"colorbar\": {\"outlinewidth\": 0, \"ticks\": \"\"}}, \"type\": \"scatterternary\"}], \"surface\": [{\"colorbar\": {\"outlinewidth\": 0, \"ticks\": \"\"}, \"colorscale\": [[0.0, \"#0d0887\"], [0.1111111111111111, \"#46039f\"], [0.2222222222222222, \"#7201a8\"], [0.3333333333333333, \"#9c179e\"], [0.4444444444444444, \"#bd3786\"], [0.5555555555555556, \"#d8576b\"], [0.6666666666666666, \"#ed7953\"], [0.7777777777777778, \"#fb9f3a\"], [0.8888888888888888, \"#fdca26\"], [1.0, \"#f0f921\"]], \"type\": \"surface\"}], \"table\": [{\"cells\": {\"fill\": {\"color\": \"#EBF0F8\"}, \"line\": {\"color\": \"white\"}}, \"header\": {\"fill\": {\"color\": \"#C8D4E3\"}, \"line\": {\"color\": \"white\"}}, \"type\": \"table\"}]}, \"layout\": {\"annotationdefaults\": {\"arrowcolor\": \"#2a3f5f\", \"arrowhead\": 0, \"arrowwidth\": 1}, \"colorscale\": {\"diverging\": [[0, \"#8e0152\"], [0.1, \"#c51b7d\"], [0.2, \"#de77ae\"], [0.3, \"#f1b6da\"], [0.4, \"#fde0ef\"], [0.5, \"#f7f7f7\"], [0.6, \"#e6f5d0\"], [0.7, \"#b8e186\"], [0.8, \"#7fbc41\"], [0.9, \"#4d9221\"], [1, \"#276419\"]], \"sequential\": [[0.0, \"#0d0887\"], [0.1111111111111111, \"#46039f\"], [0.2222222222222222, \"#7201a8\"], [0.3333333333333333, \"#9c179e\"], [0.4444444444444444, \"#bd3786\"], [0.5555555555555556, \"#d8576b\"], [0.6666666666666666, \"#ed7953\"], [0.7777777777777778, \"#fb9f3a\"], [0.8888888888888888, \"#fdca26\"], [1.0, \"#f0f921\"]], \"sequentialminus\": [[0.0, \"#0d0887\"], [0.1111111111111111, \"#46039f\"], [0.2222222222222222, \"#7201a8\"], [0.3333333333333333, \"#9c179e\"], [0.4444444444444444, \"#bd3786\"], [0.5555555555555556, \"#d8576b\"], [0.6666666666666666, \"#ed7953\"], [0.7777777777777778, \"#fb9f3a\"], [0.8888888888888888, \"#fdca26\"], [1.0, \"#f0f921\"]]}, \"colorway\": [\"#636efa\", \"#EF553B\", \"#00cc96\", \"#ab63fa\", \"#FFA15A\", \"#19d3f3\", \"#FF6692\", \"#B6E880\", \"#FF97FF\", \"#FECB52\"], \"font\": {\"color\": \"#2a3f5f\"}, \"geo\": {\"bgcolor\": \"white\", \"lakecolor\": \"white\", \"landcolor\": \"#E5ECF6\", \"showlakes\": true, \"showland\": true, \"subunitcolor\": \"white\"}, \"hoverlabel\": {\"align\": \"left\"}, \"hovermode\": \"closest\", \"mapbox\": {\"style\": \"light\"}, \"paper_bgcolor\": \"white\", \"plot_bgcolor\": \"#E5ECF6\", \"polar\": {\"angularaxis\": {\"gridcolor\": \"white\", \"linecolor\": \"white\", \"ticks\": \"\"}, \"bgcolor\": \"#E5ECF6\", \"radialaxis\": {\"gridcolor\": \"white\", \"linecolor\": \"white\", \"ticks\": \"\"}}, \"scene\": {\"xaxis\": {\"backgroundcolor\": \"#E5ECF6\", \"gridcolor\": \"white\", \"gridwidth\": 2, \"linecolor\": \"white\", \"showbackground\": true, \"ticks\": \"\", \"zerolinecolor\": \"white\"}, \"yaxis\": {\"backgroundcolor\": \"#E5ECF6\", \"gridcolor\": \"white\", \"gridwidth\": 2, \"linecolor\": \"white\", \"showbackground\": true, \"ticks\": \"\", \"zerolinecolor\": \"white\"}, \"zaxis\": {\"backgroundcolor\": \"#E5ECF6\", \"gridcolor\": \"white\", \"gridwidth\": 2, \"linecolor\": \"white\", \"showbackground\": true, \"ticks\": \"\", \"zerolinecolor\": \"white\"}}, \"shapedefaults\": {\"line\": {\"color\": \"#2a3f5f\"}}, \"ternary\": {\"aaxis\": {\"gridcolor\": \"white\", \"linecolor\": \"white\", \"ticks\": \"\"}, \"baxis\": {\"gridcolor\": \"white\", \"linecolor\": \"white\", \"ticks\": \"\"}, \"bgcolor\": \"#E5ECF6\", \"caxis\": {\"gridcolor\": \"white\", \"linecolor\": \"white\", \"ticks\": \"\"}}, \"title\": {\"x\": 0.05}, \"xaxis\": {\"automargin\": true, \"gridcolor\": \"white\", \"linecolor\": \"white\", \"ticks\": \"\", \"zerolinecolor\": \"white\", \"zerolinewidth\": 2}, \"yaxis\": {\"automargin\": true, \"gridcolor\": \"white\", \"linecolor\": \"white\", \"ticks\": \"\", \"zerolinecolor\": \"white\", \"zerolinewidth\": 2}}}, \"title\": {\"font\": {\"color\": \"#151516\"}, \"text\": \"Word Count Distribution\"}, \"xaxis\": {\"gridcolor\": \"#F6F6F6\", \"linecolor\": \"black\", \"showgrid\": true, \"tickfont\": {\"color\": \"#666666\"}, \"title\": {\"font\": {\"color\": \"#666666\"}, \"text\": \"word count\"}, \"zerolinecolor\": \"#F6F6F6\"}, \"yaxis\": {\"gridcolor\": \"#F6F6F6\", \"linecolor\": \"black\", \"showgrid\": true, \"tickfont\": {\"color\": \"#666666\"}, \"title\": {\"font\": {\"color\": \"#666666\"}, \"text\": \"count\"}, \"zerolinecolor\": \"#F6F6F6\"}},\n",
       "                        {\"showLink\": true, \"linkText\": \"Export to plot.ly\", \"plotlyServerURL\": \"https://plot.ly\", \"responsive\": true}\n",
       "                    ).then(function(){\n",
       "                            \n",
       "var gd = document.getElementById('13e479bb-ea48-4527-a6cd-4a6504bb3533');\n",
       "var x = new MutationObserver(function (mutations, observer) {{\n",
       "        var display = window.getComputedStyle(gd).display;\n",
       "        if (!display || display === 'none') {{\n",
       "            console.log([gd, 'removed!']);\n",
       "            Plotly.purge(gd);\n",
       "            observer.disconnect();\n",
       "        }}\n",
       "}});\n",
       "\n",
       "// Listen for the removal of the full notebook cells\n",
       "var notebookContainer = gd.closest('#notebook-container');\n",
       "if (notebookContainer) {{\n",
       "    x.observe(notebookContainer, {childList: true});\n",
       "}}\n",
       "\n",
       "// Listen for the clearing of the current output cell\n",
       "var outputEl = gd.closest('.output');\n",
       "if (outputEl) {{\n",
       "    x.observe(outputEl, {childList: true});\n",
       "}}\n",
       "\n",
       "                        })\n",
       "                };\n",
       "                });\n",
       "            </script>\n",
       "        </div>"
      ]
     },
     "metadata": {},
     "output_type": "display_data"
    }
   ],
   "source": [
    "df['word_count'].iplot(\n",
    "    kind='hist',\n",
    "    bins = 50,\n",
    "    linecolor='black',\n",
    "    xTitle='word count',\n",
    "    yTitle='count',\n",
    "    title='Word Count Distribution')"
   ]
  },
  {
   "cell_type": "code",
   "execution_count": 23,
   "metadata": {},
   "outputs": [],
   "source": [
    "df.set_index('PMID', inplace = True)"
   ]
  },
  {
   "cell_type": "markdown",
   "metadata": {},
   "source": [
    "### Use linear_kernel to compare Tfidf vectors, equal to dot product"
   ]
  },
  {
   "cell_type": "code",
   "execution_count": 24,
   "metadata": {
    "scrolled": true
   },
   "outputs": [],
   "source": [
    "tf = TfidfVectorizer(analyzer='word', ngram_range=(1, 3), min_df=0, stop_words='english')\n",
    "tfidf_matrix = tf.fit_transform(df['abstractClean'])\n",
    "cosine_similarities = linear_kernel(tfidf_matrix, tfidf_matrix)"
   ]
  },
  {
   "cell_type": "code",
   "execution_count": 25,
   "metadata": {},
   "outputs": [
    {
     "data": {
      "text/plain": [
       "array([1.00000000e+00, 1.92501046e-03, 4.08680011e-03, ...,\n",
       "       7.69268338e-04, 2.76236677e-03, 4.45844797e-03])"
      ]
     },
     "execution_count": 25,
     "metadata": {},
     "output_type": "execute_result"
    }
   ],
   "source": [
    "cosine_similarities[0]"
   ]
  },
  {
   "cell_type": "code",
   "execution_count": 26,
   "metadata": {},
   "outputs": [
    {
     "data": {
      "text/plain": [
       "0    31161676\n",
       "1    31159286\n",
       "2    31154539\n",
       "3    31151775\n",
       "4    31151256\n",
       "Name: PMID, dtype: object"
      ]
     },
     "execution_count": 26,
     "metadata": {},
     "output_type": "execute_result"
    }
   ],
   "source": [
    "indices = pd.Series(df.index)\n",
    "indices[:5]"
   ]
  },
  {
   "cell_type": "code",
   "execution_count": 27,
   "metadata": {},
   "outputs": [],
   "source": [
    "def recommendations(PMID, cosine_similarities):\n",
    "    \n",
    "    recommended_pub = []\n",
    "    notrecommended_pub = []\n",
    "    # getting the index of the publication that matches the PMID\n",
    "    idx = indices[indices == PMID].index[0]\n",
    "    # creating a Series with the similarity scores in descending order\n",
    "    score_series = pd.Series(cosine_similarities[idx]).sort_values(ascending = False)\n",
    "    # getting the indexes of the 10 most similar publications except itself\n",
    "    top_10_indexes = list(score_series.iloc[1:11].index)\n",
    "    bottom_10_indexes = list(score_series.iloc[:-10:-1].index)\n",
    "    \n",
    "    # populating the list with the PMID  of the top 10 matching publications\n",
    "    for i in top_10_indexes:\n",
    "        recommended_pub.append(list(df.index)[i]) \n",
    "    for i in bottom_10_indexes:\n",
    "        notrecommended_pub.append(list(df.index)[i]) \n",
    "    return recommended_pub,notrecommended_pub"
   ]
  },
  {
   "cell_type": "markdown",
   "metadata": {},
   "source": [
    "### Select top 10 and bottom 10 similar publications"
   ]
  },
  {
   "cell_type": "code",
   "execution_count": 28,
   "metadata": {
    "scrolled": true
   },
   "outputs": [
    {
     "data": {
      "text/plain": [
       "(['21682427',\n",
       "  '26936559',\n",
       "  '25262877',\n",
       "  '30075648',\n",
       "  '22916620',\n",
       "  '20123866',\n",
       "  '30678295',\n",
       "  '29724028',\n",
       "  '22916621',\n",
       "  '24905878'],\n",
       " ['11813663',\n",
       "  '29851432',\n",
       "  '25390863',\n",
       "  '7902448',\n",
       "  '25764595',\n",
       "  '9118279',\n",
       "  '9206397',\n",
       "  '9470600',\n",
       "  '24678866'])"
      ]
     },
     "execution_count": 28,
     "metadata": {},
     "output_type": "execute_result"
    }
   ],
   "source": [
    "recommendations('25619479',cosine_similarities) "
   ]
  },
  {
   "cell_type": "markdown",
   "metadata": {
    "collapsed": true
   },
   "source": [
    "### Use cosine_similarities to compare tfidf vectors, same as lineal kernal (also called dot-product) since data is normalized\n",
    "Cosine similarity only cares about angle difference, while dot product cares about angle and magnitude. If you normalize your data to have the same magnitude, the two are indistinguishable."
   ]
  },
  {
   "cell_type": "code",
   "execution_count": 29,
   "metadata": {},
   "outputs": [
    {
     "data": {
      "text/plain": [
       "scipy.sparse.csr.csr_matrix"
      ]
     },
     "execution_count": 29,
     "metadata": {},
     "output_type": "execute_result"
    }
   ],
   "source": [
    "type(tfidf_matrix)"
   ]
  },
  {
   "cell_type": "code",
   "execution_count": 30,
   "metadata": {},
   "outputs": [
    {
     "data": {
      "text/plain": [
       "<9014x1457328 sparse matrix of type '<class 'numpy.float64'>'\n",
       "\twith 3022034 stored elements in Compressed Sparse Row format>"
      ]
     },
     "execution_count": 30,
     "metadata": {},
     "output_type": "execute_result"
    }
   ],
   "source": [
    "from sklearn.metrics.pairwise import cosine_similarity  \n",
    "\n",
    "tf = TfidfVectorizer(analyzer='word', ngram_range=(1, 3), min_df=0, stop_words='english')\n",
    "tfidf_matrix = tf.fit_transform(df['abstractClean'])\n",
    "tfidf_matrix"
   ]
  },
  {
   "cell_type": "code",
   "execution_count": 31,
   "metadata": {},
   "outputs": [
    {
     "data": {
      "text/plain": [
       "array([[1.00000000e+00, 1.92501046e-03, 4.08680011e-03, ...,\n",
       "        7.69268338e-04, 2.76236677e-03, 4.45844797e-03],\n",
       "       [1.92501046e-03, 1.00000000e+00, 2.18761935e-02, ...,\n",
       "        9.73180593e-03, 3.52168900e-03, 1.26797034e-02],\n",
       "       [4.08680011e-03, 2.18761935e-02, 1.00000000e+00, ...,\n",
       "        2.92793931e-03, 8.60953121e-03, 9.74783959e-03],\n",
       "       ...,\n",
       "       [7.69268338e-04, 9.73180593e-03, 2.92793931e-03, ...,\n",
       "        1.00000000e+00, 1.28736833e-03, 3.27100266e-03],\n",
       "       [2.76236677e-03, 3.52168900e-03, 8.60953121e-03, ...,\n",
       "        1.28736833e-03, 1.00000000e+00, 1.48272003e-02],\n",
       "       [4.45844797e-03, 1.26797034e-02, 9.74783959e-03, ...,\n",
       "        3.27100266e-03, 1.48272003e-02, 1.00000000e+00]])"
      ]
     },
     "execution_count": 31,
     "metadata": {},
     "output_type": "execute_result"
    },
    {
     "data": {
      "text/plain": [
       "(['21682427',\n",
       "  '26936559',\n",
       "  '25262877',\n",
       "  '30075648',\n",
       "  '22916620',\n",
       "  '20123866',\n",
       "  '30678295',\n",
       "  '29724028',\n",
       "  '22916621',\n",
       "  '24905878'],\n",
       " ['11813663',\n",
       "  '29851432',\n",
       "  '25390863',\n",
       "  '7902448',\n",
       "  '25764595',\n",
       "  '9118279',\n",
       "  '9206397',\n",
       "  '9470600',\n",
       "  '24678866'])"
      ]
     },
     "execution_count": 31,
     "metadata": {},
     "output_type": "execute_result"
    }
   ],
   "source": [
    "cosine_similarity = cosine_similarity(tfidf_matrix, tfidf_matrix)\n",
    "cosine_similarity\n",
    "recommendations('25619479',cosine_similarity)"
   ]
  },
  {
   "cell_type": "markdown",
   "metadata": {},
   "source": [
    "### Review results- pick top one match "
   ]
  },
  {
   "cell_type": "code",
   "execution_count": 32,
   "metadata": {},
   "outputs": [
    {
     "data": {
      "text/plain": [
       "' Dental implant stability, which is an important parameter for the surgical       outcome, can now be assessed using quantitative ultrasound. However, the       acoustical propagation in dental implants remains poorly understood. The       objective of this numerical study was to understand the propagation phenomena of        ultrasonic waves in cylindrically shaped prototype dental implants and to       investigate the sensitivity of the ultrasonic response to the surrounding bone       quantity and quality. The 10-MHz ultrasonic response of the implant was       calculated using an axisymetric 3D finite element model, which was validated by       comparison with results obtained experimentally and using a 2D finite difference        numerical model. The results show that the implant ultrasonic response changes       significantly when a liquid layer is located at the implant interface compared to       the case of an interface fully bounded with bone tissue. A dedicated model based        on experimental measurements was developed in order to account for the evolution        of the bone biomechanical properties at the implant interface. The effect of a       gradient of material properties on the implant ultrasonic response is determined.       Based on the reproducibility of the measurement, the results indicate that the       device should be sensitive to the effects of a healing duration of less than one        week. In all cases, the amplitude of the implant response is shown to decrease       when the dental implant primary and secondary stability increase, which is       consistent with the experimental results. This study paves the way for the       development of a quantitative ultrasound method to evaluate dental implant       stability.  Finite element simulation of ultrasonic wave propagation in a dental implant for        biomechanical stability assessment'"
      ]
     },
     "execution_count": 32,
     "metadata": {},
     "output_type": "execute_result"
    }
   ],
   "source": [
    "df.loc['25619479']['abstract'] # original"
   ]
  },
  {
   "cell_type": "code",
   "execution_count": 33,
   "metadata": {},
   "outputs": [
    {
     "data": {
      "text/plain": [
       "' Osseointegration of dental implants remains poorly understood. The objective of       this numerical study is to understand the propagation phenomena of ultrasonic       waves in prototypes cylindrically shaped implants and to investigate the       sensitivity of their ultrasonic response to the surrounding bone biomechanical       properties. The 10 MHz ultrasonic response of the implant was calculated using a        finite difference numerical simulation tool and was compared to rf signals taken        from a recent experimental study by Mathieu et al. [Ultrasound Med. Biol. 37,       262-270 (2011a)]. Reflection and mode conversion phenomena were analyzed to       understand the origin of the different echoes and the importance of lateral wave        propagation was evidenced. The sensitivity of the ultrasonic response of the       implant to changes of (i) amount of bone in contact with the implant, (ii)       cortical bone thickness, and (iii) surrounding bone material properties, was       compared to the reproducibility of the measurements. The results show that,       either a change of 1 mm of bone in contact with the implant, or 1.1 mm of       cortical thickness or 12% of trabecular bone mass density should be detectable.       This study paves the way for the investigation of the use of quantitative       ultrasound techniques for the evaluation of bone-implant interface properties and       implant stability.  (c) 2011 Acoustical Society of America  Numerical simulation of ultrasonic wave propagation for the evaluation of dental        implant biomechanical stability'"
      ]
     },
     "execution_count": 33,
     "metadata": {},
     "output_type": "execute_result"
    }
   ],
   "source": [
    "# Very good match\n",
    "df.loc['21682427']['abstract'] # top one match"
   ]
  },
  {
   "cell_type": "code",
   "execution_count": 34,
   "metadata": {},
   "outputs": [
    {
     "data": {
      "text/plain": [
       "' Teeth in a day'"
      ]
     },
     "execution_count": 34,
     "metadata": {},
     "output_type": "execute_result"
    }
   ],
   "source": [
    "# bottom one match \n",
    "df.loc['11813663']['abstract'] # not very good match. this PMID doesn't have abstract. the following string comes from title"
   ]
  },
  {
   "cell_type": "markdown",
   "metadata": {},
   "source": [
    "Room to improve: corpus not big, need fine tune parameters\n",
    "\n",
    "To do: to understand if there is any advantage of using vector embedding models compared with TfidfVector/cosine similarity. "
   ]
  },
  {
   "cell_type": "code",
   "execution_count": null,
   "metadata": {},
   "outputs": [],
   "source": []
  }
 ],
 "metadata": {
  "kernelspec": {
   "display_name": "Python 3",
   "language": "python",
   "name": "python3"
  },
  "language_info": {
   "codemirror_mode": {
    "name": "ipython",
    "version": 3
   },
   "file_extension": ".py",
   "mimetype": "text/x-python",
   "name": "python",
   "nbconvert_exporter": "python",
   "pygments_lexer": "ipython3",
   "version": "3.7.3"
  }
 },
 "nbformat": 4,
 "nbformat_minor": 2
}
