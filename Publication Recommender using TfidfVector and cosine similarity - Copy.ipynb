{
 "cells": [
  {
   "cell_type": "markdown",
   "metadata": {},
   "source": [
    "### Count-based vector space models (BOW, TFIGF): losing word relationship and semantics"
   ]
  },
  {
   "cell_type": "code",
   "execution_count": 18,
   "metadata": {},
   "outputs": [],
   "source": [
    "import pandas as pd\n",
    "import numpy as np\n",
    "import nltk\n",
    "from nltk.corpus import stopwords\n",
    "from sklearn.metrics.pairwise import linear_kernel\n",
    "from sklearn.metrics.pairwise import cosine_similarity\n",
    "from sklearn.feature_extraction.text import CountVectorizer\n",
    "from sklearn.feature_extraction.text import TfidfVectorizer\n",
    "from sklearn.decomposition import LatentDirichletAllocation\n",
    "import re\n",
    "import random\n",
    "\n",
    "pd.options.display.max_columns = 30\n",
    "from IPython.core.interactiveshell import InteractiveShell\n",
    "import plotly.graph_objs as go\n",
    "#import chart_studio.plotly as py\n",
    "#import cufflinks\n",
    "import plotly.figure_factory as ff\n",
    "InteractiveShell.ast_node_interactivity = 'all'\n",
    "from plotly.offline import iplot\n",
    "#cufflinks.go_offline()\n",
    "#cufflinks.set_config_file(world_readable=True,theme='ggplot')"
   ]
  },
  {
   "cell_type": "markdown",
   "metadata": {},
   "source": [
    "### Data are the search results using PubMed with a few key words¶\n",
    "https://www.ncbi.nlm.nih.gov/pubmed/"
   ]
  },
  {
   "cell_type": "code",
   "execution_count": 2,
   "metadata": {},
   "outputs": [],
   "source": [
    "with open('Pubmed.txt', 'r') as f:\n",
    "    #type(f.read())\n",
    "    resultstring=f.read()"
   ]
  },
  {
   "cell_type": "code",
   "execution_count": 3,
   "metadata": {},
   "outputs": [],
   "source": [
    "publist=re.split(\"PMID- \", resultstring)"
   ]
  },
  {
   "cell_type": "code",
   "execution_count": 4,
   "metadata": {},
   "outputs": [
    {
     "data": {
      "text/plain": [
       "9015"
      ]
     },
     "execution_count": 4,
     "metadata": {},
     "output_type": "execute_result"
    }
   ],
   "source": [
    "len(publist)"
   ]
  },
  {
   "cell_type": "markdown",
   "metadata": {},
   "source": [
    "### Extract PMID, abstract, title for each publication"
   ]
  },
  {
   "cell_type": "code",
   "execution_count": 5,
   "metadata": {},
   "outputs": [],
   "source": [
    "PMID=[]\n",
    "abstract=[]\n",
    "title=[]\n",
    "for i in range(len(publist)):\n",
    "    if len(publist[i])> 50:# only select real pub record\n",
    "        #print(publist[i])\n",
    "        PMID.append(re.search(r'^(\\d*)\\n',publist[i]).group(1))\n",
    "        abstractRaw=publist[i].replace(\"\\n\", \" \")\n",
    "        abstractRaw=abstractRaw.replace(\"This article is protected by copyright.\", \" \")\n",
    "        abstractRaw=abstractRaw.replace(\"All rights reserved.\", \" \")\n",
    "        abstractRaw=re.sub(r\"CI\\s*-\\s*\", \" \",abstractRaw)\n",
    "        ab=re.search(r'AB\\s*-(.*?)FAU\\s*-', abstractRaw)\n",
    "        ti=re.search(r'TI\\s*-(.*?)\\.', abstractRaw)\n",
    "        if ab!=None:\n",
    "            abstract.append(ab.group(1))\n",
    "        else:\n",
    "            abstract.append('')\n",
    "        if ti!=None:\n",
    "            title.append(ti.group(1))\n",
    "        else:\n",
    "            title.append('')\n",
    "       \n"
   ]
  },
  {
   "cell_type": "markdown",
   "metadata": {},
   "source": [
    "### Combine title and abstract"
   ]
  },
  {
   "cell_type": "code",
   "execution_count": 6,
   "metadata": {},
   "outputs": [
    {
     "data": {
      "text/html": [
       "<div>\n",
       "<style scoped>\n",
       "    .dataframe tbody tr th:only-of-type {\n",
       "        vertical-align: middle;\n",
       "    }\n",
       "\n",
       "    .dataframe tbody tr th {\n",
       "        vertical-align: top;\n",
       "    }\n",
       "\n",
       "    .dataframe thead th {\n",
       "        text-align: right;\n",
       "    }\n",
       "</style>\n",
       "<table border=\"1\" class=\"dataframe\">\n",
       "  <thead>\n",
       "    <tr style=\"text-align: right;\">\n",
       "      <th></th>\n",
       "      <th>PMID</th>\n",
       "      <th>title</th>\n",
       "      <th>abstract</th>\n",
       "    </tr>\n",
       "  </thead>\n",
       "  <tbody>\n",
       "    <tr>\n",
       "      <td>0</td>\n",
       "      <td>31161676</td>\n",
       "      <td>Zn-incorporation with graphene oxide on Ti su...</td>\n",
       "      <td>The poor osseointegration and postoperative b...</td>\n",
       "    </tr>\n",
       "    <tr>\n",
       "      <td>1</td>\n",
       "      <td>31159286</td>\n",
       "      <td>Impact of Different Titanium Implant Thread D...</td>\n",
       "      <td>Threads of dental implants with healing chamb...</td>\n",
       "    </tr>\n",
       "    <tr>\n",
       "      <td>2</td>\n",
       "      <td>31154539</td>\n",
       "      <td>Systemic and local effects of radiotherapy: a...</td>\n",
       "      <td>OBJECTIVES: Evaluate the modulating effect of...</td>\n",
       "    </tr>\n",
       "    <tr>\n",
       "      <td>3</td>\n",
       "      <td>31151775</td>\n",
       "      <td>In vitro proinflammatory gene expression chan...</td>\n",
       "      <td>BACKGROUND: The aim of this in vitro study wa...</td>\n",
       "    </tr>\n",
       "    <tr>\n",
       "      <td>4</td>\n",
       "      <td>31151256</td>\n",
       "      <td>Sandblasted and Acid Etched Titanium Dental I...</td>\n",
       "      <td>The field of dental implantology has made pro...</td>\n",
       "    </tr>\n",
       "  </tbody>\n",
       "</table>\n",
       "</div>"
      ],
      "text/plain": [
       "       PMID                                              title  \\\n",
       "0  31161676   Zn-incorporation with graphene oxide on Ti su...   \n",
       "1  31159286   Impact of Different Titanium Implant Thread D...   \n",
       "2  31154539   Systemic and local effects of radiotherapy: a...   \n",
       "3  31151775   In vitro proinflammatory gene expression chan...   \n",
       "4  31151256   Sandblasted and Acid Etched Titanium Dental I...   \n",
       "\n",
       "                                            abstract  \n",
       "0   The poor osseointegration and postoperative b...  \n",
       "1   Threads of dental implants with healing chamb...  \n",
       "2   OBJECTIVES: Evaluate the modulating effect of...  \n",
       "3   BACKGROUND: The aim of this in vitro study wa...  \n",
       "4   The field of dental implantology has made pro...  "
      ]
     },
     "execution_count": 6,
     "metadata": {},
     "output_type": "execute_result"
    }
   ],
   "source": [
    "data = {'PMID':PMID,'title':title, 'abstract':abstract} \n",
    "df = pd.DataFrame(data) \n",
    "df.abstract=df.abstract+df.title\n",
    "df.head()"
   ]
  },
  {
   "cell_type": "markdown",
   "metadata": {},
   "source": [
    "### Text preprocessing and cleaning"
   ]
  },
  {
   "cell_type": "code",
   "execution_count": 7,
   "metadata": {},
   "outputs": [
    {
     "name": "stderr",
     "output_type": "stream",
     "text": [
      "[nltk_data] Downloading package stopwords to\n",
      "[nltk_data]     C:\\Users\\wzhang\\AppData\\Roaming\\nltk_data...\n",
      "[nltk_data]   Unzipping corpora\\stopwords.zip.\n"
     ]
    }
   ],
   "source": [
    "#REPLACE_BY_SPACE_RE = re.compile('[/(){}\\[\\]\\|@,\\;\\\\\\\\]')#\\\\\\\\ is used to escape backslash\n",
    "nltk.download('stopwords')\n",
    "letteronly = re.compile('[^a-z #+_]') # only keep letters and a few symbol\n",
    "STOPWORDS = set(stopwords.words('english'))"
   ]
  },
  {
   "cell_type": "code",
   "execution_count": 8,
   "metadata": {},
   "outputs": [],
   "source": [
    "def clean_text(text):\n",
    "    \"\"\"\n",
    "        text: a string  \n",
    "        return: cleaned string\n",
    "    \"\"\"\n",
    "    text = text.lower() # lowercase text\n",
    "    text = letteronly.sub(' ', text) \n",
    "    ## stop words and length >1 removed at CountVectorize step\n",
    "    #text = ' '.join(word for word in text.split() if word not in STOPWORDS and len(word)>1) # remove stopwors from text\n",
    "    return text\n",
    "    \n",
    "df['abstractClean'] = df['abstract'].apply(clean_text)"
   ]
  },
  {
   "cell_type": "markdown",
   "metadata": {},
   "source": [
    "### Save the processed data"
   ]
  },
  {
   "cell_type": "code",
   "execution_count": 43,
   "metadata": {},
   "outputs": [
    {
     "data": {
      "text/plain": [
       "['Cleaneddf.pkl']"
      ]
     },
     "execution_count": 43,
     "metadata": {},
     "output_type": "execute_result"
    }
   ],
   "source": [
    "from sklearn.externals import joblib\n",
    "joblib.dump(df, 'Cleaneddf.pkl')\n"
   ]
  },
  {
   "cell_type": "code",
   "execution_count": 9,
   "metadata": {},
   "outputs": [
    {
     "data": {
      "text/plain": [
       "array([' the poor osseointegration and postoperative bacterial infection are prominently       responsible for the failure of titanium  ti  based implant in clinic  to address        above issues  methacryloyl modified graphene oxide  goma  as zinc ions  zn  +           reservoir and release platform was fabricated on the ti substrates with cathode       electrophoresis deposition  epd   afterwards  phenylboronic acid  pba        functionalization methacryloyl gelatin  gelma pba  was reacting with goma through       in situ free radical polymerization to prepare go zn gelma pba coating  the       obtained coating was confirmed by scanning electron microscopy  sem   x ray       photoelectron spectroscopy  xps  and zn ions release property  respectively  in       vitro cellular experiments including cell activity  alkaline phosphatase  alp         collagen secretion  extracellular matrix  ecm  mineralization  osteogenic genes       and proteins  revealed that go zn gelma pba coating was beneficial for enhancing        the adhesion  proliferation and differentiation of osteoblasts  the positive       results were related to the existence of gelatin  formation of boronic ester       between pba groups and carbohydrates of osteoblasts surface  meanwhile        antibacterial assay against staphylococcus aureus  s  aureus  and pseudomonas       aeruginosa  p  aeruginosa  confirmed that go zn gelma pba coating on ti       substrates had superior antibacterial capacity  availably inhibited the bacterial       adhesion and prevented formation of biofilm  hence  the study provides a       promising strategy for designing pro osteogenesis and antibacterial coating on ti       substrates for orthopedic applications              zn incorporation with graphene oxide on ti substrates surface to improve       osteogenic activity and inhibit bacterial adhesion',\n",
       "       ' threads of dental implants with healing chamber configurations have become a       target to improve osseointegration  this biomechanical and histometric study       aimed to evaluate the influence of implant healing chamber configurations on the        torque removal value  rtv   percentage of bone to implant contact  bic    bone       fraction occupancy inside the thread area  bafo    and bone and osteocyte density        ost  in the rabbit tibia after two months of healing  titanium implants with       three different thread configurations were evaluated  group    g    with a       conventional  v  thread shaped implant design  group    g    with square threads        and group    g    the experimental group with longer threads  healing chamber         ten rabbits      +       kg  received three implants in each tibia  one per       group   distributed in a randomized manner  after a period of two months  the       tibia blocks  implants and the surrounding tissue  were removed and processed for       ground sectioning to evaluate bic   bafo   and osteocyte density  the anova       one way statistical test was used followed by the bonferoni s multiple comparison       test to determine individual difference among groups  considering a statistical       difference when p         histometric evaluation showed a higher bafo  values and       ost density for g  in comparison with the other two groups  g  and g    with p                however  the rtv and bic  parameters were not significantly different       between groups  p          the histological data suggest that the healing       chambers in the implant macrogeometry can improve the bone reaction in comparison       with the conventional thread design   impact of different titanium implant thread designs on bone healing  a       biomechanical and histometric study with an animal model'],\n",
       "      dtype=object)"
      ]
     },
     "execution_count": 9,
     "metadata": {},
     "output_type": "execute_result"
    }
   ],
   "source": [
    "df['abstractClean'].values[:2]"
   ]
  },
  {
   "cell_type": "markdown",
   "metadata": {},
   "source": [
    "### Visualize Token (vocabulary) Frequency Distribution Before Removing Stop Words"
   ]
  },
  {
   "cell_type": "code",
   "execution_count": 10,
   "metadata": {},
   "outputs": [
    {
     "data": {
      "text/plain": [
       "(9014, 23825)"
      ]
     },
     "execution_count": 10,
     "metadata": {},
     "output_type": "execute_result"
    }
   ],
   "source": [
    "vec = CountVectorizer().fit(df['abstractClean'])\n",
    "bag_of_words = vec.transform(df['abstractClean'])\n",
    "bag_of_words.shape"
   ]
  },
  {
   "cell_type": "code",
   "execution_count": 14,
   "metadata": {},
   "outputs": [
    {
     "data": {
      "text/plain": [
       "numpy.matrix"
      ]
     },
     "execution_count": 14,
     "metadata": {},
     "output_type": "execute_result"
    }
   ],
   "source": [
    "type(sum_words)"
   ]
  },
  {
   "cell_type": "code",
   "execution_count": 15,
   "metadata": {},
   "outputs": [
    {
     "data": {
      "text/plain": [
       "matrix([[ 6, 24,  9, ...,  1,  2,  3]], dtype=int64)"
      ]
     },
     "execution_count": 15,
     "metadata": {},
     "output_type": "execute_result"
    }
   ],
   "source": [
    "sum_words"
   ]
  },
  {
   "cell_type": "code",
   "execution_count": 13,
   "metadata": {},
   "outputs": [
    {
     "data": {
      "text/plain": [
       "(1, 23825)"
      ]
     },
     "execution_count": 13,
     "metadata": {},
     "output_type": "execute_result"
    }
   ],
   "source": [
    "sum_words = bag_of_words.sum(axis=0) \n",
    "sum_words.shape"
   ]
  },
  {
   "cell_type": "code",
   "execution_count": 16,
   "metadata": {},
   "outputs": [
    {
     "data": {
      "text/plain": [
       "dict_items([('the', 21567), ('poor', 16711), ('osseointegration', 15085), ('and', 887), ('postoperative', 16818), ('bacterial', 1724), ('infection', 10306), ('are', 1239), ('prominently', 17345), ('responsible', 18659), ('for', 8068), ('failure', 7568), ('of', 14710), ('titanium', 21842), ('ti', 21722), ('based', 1798), ('implant', 10027), ('in', 10116), ('clinic', 3613), ('to', 21900), ('address', 311), ('above', 58), ('issues', 11062), ('methacryloyl', 12658), ('modified', 13267), ('graphene', 8779), ('oxide', 15502), ('goma', 8696), ('as', 1338), ('zinc', 23773), ('ions', 10938), ('zn', 23786), ('reservoir', 18589), ('release', 18368), ('platform', 16480), ('was', 23373), ('fabricated', 7525), ('on', 14793), ('substrates', 20873), ('with', 23566), ('cathode', 3072), ('electrophoresis', 6529), ('deposition', 5387), ('epd', 6931), ('afterwards', 488), ('phenylboronic', 16184), ('acid', 210), ('pba', 15789), ('functionalization', 8316), ('gelatin', 8466), ('gelma', 8473), ('reacting', 17995), ('through', 21706), ('situ', 19923), ('free', 8221), ('radical', 17807), ('polymerization', 16662), ('prepare', 17077), ('go', 8682), ('coating', 3686), ('obtained', 14624), ('confirmed', 4140), ('by', 2773), ('scanning', 19256), ('electron', 6524), ('microscopy', 12952), ('sem', 19486), ('ray', 17945), ('photoelectron', 16257), ('spectroscopy', 20255), ('xps', 23688), ('property', 17384), ('respectively', 18648), ('vitro', 23265), ('cellular', 3182), ('experiments', 7381), ('including', 10172), ('cell', 3178), ('activity', 270), ('alkaline', 624), ('phosphatase', 16207), ('alp', 690), ('collagen', 3768), ('secretion', 19421), ('extracellular', 7462), ('matrix', 12302), ('ecm', 6345), ('mineralization', 13096), ('osteogenic', 15209), ('genes', 8498), ('proteins', 17453), ('revealed', 18785), ('that', 21565), ('beneficial', 1939), ('enhancing', 6829), ('adhesion', 333), ('proliferation', 17330), ('differentiation', 5643), ('osteoblasts', 15163), ('positive', 16765), ('results', 18699), ('were', 23463), ('related', 18354), ('existence', 7327), ('formation', 8106), ('boronic', 2518), ('ester', 7095), ('between', 1979), ('groups', 8837), ('carbohydrates', 2968), ('surface', 21088), ('meanwhile', 12413), ('antibacterial', 1014), ('assay', 1385), ('against', 493), ('staphylococcus', 20463), ('aureus', 1574), ('pseudomonas', 17544), ('aeruginosa', 440), ('had', 8901), ('superior', 21010), ('capacity', 2933), ('availably', 1644), ('inhibited', 10399), ('prevented', 17163), ('biofilm', 2146), ('hence', 9181), ('study', 20738), ('provides', 17497), ('promising', 17348), ('strategy', 20655), ('designing', 5448), ('pro', 17218), ('osteogenesis', 15207), ('orthopedic', 15004), ('applications', 1155), ('incorporation', 10196), ('improve', 10102), ('inhibit', 10397), ('threads', 21683), ('dental', 5316), ('implants', 10058), ('healing', 9089), ('chamber', 3308), ('configurations', 4132), ('have', 9038), ('become', 1888), ('target', 21338), ('this', 21661), ('biomechanical', 2204), ('histometric', 9324), ('aimed', 558), ('evaluate', 7178), ('influence', 10338), ('torque', 21982), ('removal', 18430), ('value', 23004), ('rtv', 19066), ('percentage', 15931), ('bone', 2478), ('contact', 4295), ('bic', 2017), ('fraction', 8183), ('occupancy', 14656), ('inside', 10477), ('thread', 21680), ('area', 1240), ('bafo', 1743), ('osteocyte', 15187), ('density', 5312), ('ost', 15130), ('rabbit', 17794), ('tibia', 21734), ('after', 483), ('two', 22453), ('months', 13379), ('three', 21688), ('different', 5636), ('evaluated', 7179), ('group', 8833), ('conventional', 4397), ('shaped', 19667), ('design', 5441), ('square', 20365), ('experimental', 7376), ('longer', 11864), ('ten', 21452), ('rabbits', 17795), ('kg', 11250), ('received', 18080), ('each', 6297), ('one', 14798), ('per', 15928), ('distributed', 5968), ('randomized', 17895), ('manner', 12197), ('period', 15995), ('blocks', 2391), ('surrounding', 21119), ('tissue', 21829), ('removed', 18433), ('processed', 17249), ('ground', 8829), ('sectioning', 19429), ('anova', 977), ('way', 23401), ('statistical', 20489), ('test', 21505), ('used', 22948), ('followed', 8056), ('bonferoni', 2492), ('multiple', 13608), ('comparison', 3918), ('determine', 5506), ('individual', 10259), ('difference', 5634), ('among', 795), ('considering', 4239), ('when', 23481), ('evaluation', 7182), ('showed', 19749), ('higher', 9271), ('values', 23005), ('other', 15327), ('however', 9490), ('parameters', 15648), ('not', 14469), ('significantly', 19807), ('histological', 9320), ('data', 4999), ('suggest', 20922), ('chambers', 3309), ('macrogeometry', 12038), ('can', 2883), ('reaction', 17996), ('impact', 9986), ('designs', 5449), ('an', 827), ('animal', 929), ('model', 13252), ('objectives', 14592), ('modulating', 13280), ('effect', 6417), ('ionizing', 10935), ('radiation', 17805), ('blood', 2393), ('cytokine', 4939), ('levels', 11634), ('remodeling', 18421), ('interface', 10634), ('around', 1276), ('understand', 22653), ('mechanisms', 12431), ('which', 23491), ('impair', 9992), ('receptor', 18091), ('site', 19918), ('material', 12288), ('methods', 12671), ('sixty', 19932), ('rats', 17942), ('submitted', 20821), ('grade', 8735), ('femurs', 7711), ('divided', 5996), ('into', 10780), ('following', 8058), ('no', 14179), ('irradiation', 10972), ('ir', 10960), ('control', 4376), ('only', 14809), ('early', 6305), ('late', 11477), ('weeks', 23435), ('previous', 17170), ('animals', 930), ('irradiated', 10971), ('fractional', 8184), ('stages', 20428), ('gy', 8881), ('at', 1448), ('days', 5010), ('final', 7843), ('procedure', 17239), ('five', 7895), ('randomly', 17896), ('euthanized', 7172), ('serum', 19592), ('tnf', 21889), ('il', 9851), ('beta', 1969), ('tgf', 21554), ('csf', 4770), ('measured', 12417), ('from', 8267), ('collected', 3786), ('prior', 17206), ('euthanasia', 7167), ('using', 22956), ('elisa', 6579), ('pieces', 16340), ('containing', 4304), ('subjected', 20791), ('immunohistochemical', 9955), ('labeling', 11358), ('tartrate', 21342), ('resistant', 18612), ('osteocalcin', 15164), ('caspase', 3037), ('markers', 12242), ('mct', 12389), ('analysis', 854), ('tukey', 22402), ('applied', 1157), ('indicated', 10238), ('modifies', 13269), ('production', 17268), ('anti', 1009), ('inflammatory', 10334), ('cytokines', 4940), ('expression', 7432), ('involved', 10917), ('apoptosis', 1128), ('well', 23458), ('changes', 3318), ('conclusions', 4069), ('suggests', 20929), ('radiotherapy', 17865), ('placement', 16419), ('surgery', 21099), ('occurs', 14667), ('installation', 10494), ('would', 23638), ('allow', 669), ('recovery', 18156), ('renewal', 18443), ('cells', 3181), ('avoid', 1667), ('future', 8357), ('failures', 7569), ('clinical', 3614), ('relevance', 18372), ('search', 19397), ('modifications', 13266), ('caused', 3098), ('indicate', 10237), ('ideal', 9784), ('without', 23573), ('affecting', 454), ('process', 17248), ('systemic', 21266), ('local', 11825), ('effects', 6426), ('placed', 16417), ('background', 1711), ('aim', 557), ('identify', 9798), ('gene', 8478), ('proinflammatory', 17315), ('human', 9544), ('whole', 23506), ('surfaces', 21090), ('plasma', 16449), ('treatment', 22246), ('materials', 12292), ('conditioned', 4096), ('low', 11911), ('pressure', 17127), ('lpp', 11927), ('atmospheric', 1471), ('app', 1130), ('submerged', 20807), ('unconditioned', 22591), ('samples', 19152), ('served', 19595), ('negative', 13978), ('sampling', 19153), ('performed', 15962), ('mrna', 13484), ('interleukin', 10667), ('tumor', 22404), ('necrosis', 13966), ('factor', 7552), ('alpha', 692), ('assessed', 1396), ('rt', 19054), ('qpcr', 17703), ('significant', 19806), ('increases', 10202), ('observed', 14612), ('decreases', 5124), ('identified', 9795), ('conclusion', 4068), ('differences', 5635), ('incubation', 10212), ('be', 1862), ('present', 17104), ('leads', 11546), ('downregulation', 6122), ('might', 13047), ('copyright', 4458), ('european', 7162), ('association', 1421), ('cranio', 4662), ('maxillo', 12328), ('facial', 7536), ('published', 17601), ('elsevier', 6591), ('ltd', 11944), ('treated', 22244), ('field', 7808), ('implantology', 10051), ('has', 9025), ('made', 12070), ('progress', 17303), ('recent', 18086), ('years', 23707), ('allowing', 672), ('safer', 19123), ('predictable', 16983), ('oral', 14901), ('rehabilitations', 18319), ('surely', 21087), ('rehabilitation', 18317), ('times', 21789), ('also', 703), ('been', 1894), ('reduced', 18193), ('thanks', 21563), ('advent', 417), ('new', 14084), ('favour', 7635), ('phases', 16166), ('clinician', 3617), ('rehabilitate', 18314), ('their', 21570), ('patients', 15767), ('earlier', 6303), ('carry', 3020), ('out', 15352), ('conducted', 4102), ('pubmed', 17604), ('embase', 6613), ('databases', 5001), ('articles', 1320), ('initially', 10411), ('according', 152), ('keywords', 11249), ('numbered', 14543), ('then', 21576), ('subsequently', 20842), ('once', 14794), ('inclusion', 10173), ('exclusion', 7286), ('criteria', 4706), ('review', 18797), ('carried', 3015), ('type', 22459), ('allows', 673), ('us', 22939), ('fully', 8304), ('features', 7673), ('all', 628), ('advantages', 415), ('or', 14899), ('supported', 21043), ('manufacturing', 12212), ('company', 3905), ('provided', 17494), ('indications', 10242), ('regarding', 18267), ('confocal', 4149), ('scans', 19258), ('we', 23408), ('say', 19212), ('these', 21625), ('it', 11065), ('possible', 16777), ('shorten', 19731), ('time', 21782), ('necessary', 13955), ('obtain', 14622), ('therefore', 21596), ('secondary', 19414), ('stability', 20410), ('part', 15679), ('guarantee', 8858), ('improved', 10103), ('excellent', 7259), ('wettability', 23472), ('biological', 2182), ('processes', 17250), ('derive', 5409), ('such', 20904), ('exposed', 7419), ('resulting', 18698), ('increase', 10200), ('sandblasted', 19159), ('etched', 7118), ('systematic', 21262), ('influences', 10340), ('peri', 15969), ('various', 23031), ('nano', 13728), ('engineering', 6816), ('techniques', 21400), ('modification', 13265), ('anodization', 963), ('is', 11000), ('simple', 19850), ('high', 9270), ('throughput', 21708), ('cost', 4547), ('nanoporous', 13819), ('promote', 17352), ('impart', 10000), ('antimicrobial', 1052), ('immunomodulatory', 9971), ('properties', 17383), ('anodized', 965), ('rounded', 19017), ('tip', 21815), ('commercial', 3869), ('aqueous', 1213), ('phosphoric', 16230), ('calcium', 2832), ('potassium', 16854), ('acetate', 187), ('characterized', 3340), ('morphology', 13406), ('composition', 3993), ('energy', 6800), ('dispersive', 5884), ('spectrometry', 20246), ('appearance', 1138), ('nanopores', 13817), ('successful', 20896), ('nanoscale', 13827), ('additionally', 306), ('metal', 12609), ('cations', 3082), ('salts', 19143), ('incorporated', 10193), ('porous', 16739), ('together', 21908), ('phosphate', 16209), ('convenient', 4394), ('proposed', 17402), ('method', 12666), ('nanostructuring', 13846), ('alloy', 675), ('could', 4561), ('fabrication', 7527), ('biocompatibility', 2120), ('next', 14096), ('stage', 20426), ('research', 18564), ('micro', 12735), ('scale', 19236), ('patterning', 15773), ('presence', 17103), ('modifying', 13271), ('variety', 23030), ('employed', 6663), ('disciplines', 5790), ('medical', 12476), ('science', 19311), ('depending', 5369), ('requirement', 18548), ('particular', 15693), ('application', 1154), ('metals', 12627), ('alloys', 678), ('ceramics', 3247), ('polymers', 16666), ('commonly', 3883), ('biomaterials', 2198), ('main', 12097), ('focus', 8039), ('structural', 20716), ('microstructural', 12974), ('orthopaedic', 14995), ('need', 13969), ('possess', 16770), ('certain', 3262), ('important', 10079), ('qualities', 17727), ('ensure', 6861), ('safe', 19121), ('effective', 6419), ('use', 22947), ('like', 11701), ('relevant', 18375), ('mechanical', 12425), ('corrosion', 4520), ('wear', 23421), ('resistance', 18610), ('summarized', 20970), ('attempts', 1507), ('upon', 22902), ('processing', 17251), ('routes', 19022), ('inculcated', 10215), ('paper', 15610), ('provide', 17493), ('insight', 10478), ('extent', 7450), ('effort', 6435), ('put', 17658), ('developing', 5525), ('highly', 9279), ('aims', 560), ('purpose', 17643), ('fixation', 7901), ('printed', 17200), ('hydroxyapatite', 9629), ('ha', 8885), ('coatings', 3687), ('canine', 2905), ('transcortical', 22090), ('characteristics', 3336), ('ingrowth', 10386), ('al', 574), ('cylindrical', 4918), ('laser', 11465), ('rapid', 17912), ('lrm', 11932), ('four', 8158), ('post', 16779), ('implantation', 10034), ('push', 17653), ('testing', 21513), ('precipitated', 16947), ('pa', 15530), ('sprayed', 20344), ('psha', 17549), ('substantial', 20855), ('both', 2523), ('periods', 16018), ('increased', 10201), ('tests', 21516), ('minimum', 13125), ('shear', 19686), ('strength', 20664), ('mpa', 13465), ('there', 21593), ('amount', 798), ('types', 22461), ('either', 6469), ('exhibited', 7321), ('consistent', 4245), ('suitability', 20931), ('novel', 14490), ('additive', 308), ('cite', 3527), ('article', 1319), ('joint', 11151), ('supple', 21030), ('characterization', 3337), ('mechanics', 12428), ('biomaterial', 2197), ('alumina', 726), ('blasted', 2361), ('ab', 14), ('ae', 432), ('microabrasive', 12737), ('blasting', 2363), ('microblasted', 12765), ('commercially', 3871), ('pure', 17632), ('ii', 9833), ('compared', 3913), ('machined', 12029), ('optical', 14873), ('interferometry', 10647), ('ifm', 9815), ('roughness', 19014), ('sa', 19105), ('sq', 20362), ('hundred', 9556), ('forty', 8136), ('radii', 17812), ('beagle', 1870), ('dogs', 6046), ('texture', 21540), ('regardless', 18268), ('substrate', 20872), ('vivo', 23270), ('presented', 17107), ('mean', 12404), ('relative', 18362), ('textured', 21541), ('but', 2756), ('resulted', 18697), ('osteointegrative', 15234), ('microgeometric', 12838), ('etching', 7119), ('primary', 17185), ('press', 17120), ('fit', 7888), ('femoral', 7701), ('knee', 11294), ('prostheses', 17423), ('dimensions', 5703), ('being', 1919), ('undersized', 22652), ('respect', 18643), ('cuts', 4885), ('created', 4684), ('intra', 10784), ('operatively', 14842), ('dictated', 5616), ('specified', 20233), ('during', 6246), ('compressive', 4010), ('stresses', 20678), ('generated', 8488), ('causes', 3099), ('permanent', 16051), ('damage', 4969), ('unknown', 22772), ('may', 12347), ('contributing', 4370), ('aseptic', 1355), ('loosening', 11884), ('cause', 3097), ('revisions', 18807), ('arthroplasty', 1311), ('ex', 7231), ('quantify', 17734), ('resolution', 18618), ('peripheral', 16034), ('quantitative', 17740), ('computed', 4028), ('tomography', 21942), ('hr', 9508), ('pqct', 16910), ('imaging', 9889), ('digital', 5668), ('volume', 23292), ('correlation', 4502), ('dvc', 6254), ('deformation', 5178), ('due', 6222), ('six', 19928), ('cadaveric', 2796), ('distal', 5929), ('femora', 7700), ('resected', 18572), ('imaged', 9883), ('mum', 13634), ('voxel', 23307), ('isotropic', 11042), ('fitted', 7892), ('cementless', 3194), ('sigma', 19788), ('pfc', 16117), ('rescanned', 18560), ('femur', 7708), ('examined', 7246), ('anterior', 994), ('posterior', 16789), ('medial', 12461), ('lateral', 11482), ('condyles', 4114), ('volumes', 23293), ('interest', 10628), ('vois', 23284), ('mm', 13217), ('depth', 5400), ('bv', 2768), ('tv', 22436), ('pre', 16927), ('images', 9885), ('calculated', 2839), ('increasing', 10203), ('assess', 1395), ('trabecular', 22034), ('displacements', 5888), ('plastically', 16463), ('accumulated', 166), ('strains', 20644), ('tvpost', 22438), ('tvpre', 22439), ('ratio', 17933), ('vs', 23314), ('consistently', 4246), ('consecutive', 4213), ('points', 16576), ('indicating', 10240), ('compaction', 3900), ('accordingly', 153), ('displacement', 5887), ('suggested', 20923), ('up', 22892), ('peak', 15843), ('third', 21656), ('principal', 17194), ('muepsilon', 13547), ('absolute', 70), ('error', 7045), ('sd', 19379), ('yield', 23715), ('strain', 20641), ('combining', 3843), ('spatial', 20205), ('resolutions', 18619), ('obtainable', 14623), ('determines', 5508), ('plastic', 16462), ('occurring', 14666), ('within', 23572), ('compare', 3912), ('advance', 406), ('validate', 22993), ('computational', 4024), ('models', 13257), ('providing', 17498), ('information', 10350), ('about', 57), ('experimentally', 7377), ('studies', 20736), ('assist', 1410), ('determining', 5509), ('subsequent', 20841), ('quantification', 17730), ('microarchitecture', 12748), ('upper', 22903), ('limb', 11709), ('loss', 11898), ('greatly', 8800), ('impacts', 9991), ('productivity', 17270), ('quality', 17728), ('life', 11668), ('despite', 5463), ('wealth', 23419), ('prosthetic', 17428), ('device', 5533), ('options', 14896), ('user', 22951), ('dissatisfaction', 5907), ('rejection', 18350), ('rates', 17929), ('persist', 16083), ('connective', 4200), ('end', 6721), ('large', 11454), ('potential', 16858), ('rewards', 18821), ('risks', 18915), ('making', 12119), ('economic', 6346), ('difficult', 5647), ('sought', 20165), ('benefits', 1945), ('harms', 9010), ('integration', 10554), ('technologies', 21405), ('devices', 5534), ('inform', 10346), ('development', 5526), ('stated', 20475), ('preference', 17023), ('instrument', 10522), ('environmental', 6906), ('scan', 19249), ('done', 6068), ('perspectives', 16098), ('advancements', 409), ('consisted', 4242), ('keyword', 11248), ('literature', 11780), ('grey', 8806), ('community', 3892), ('advisory', 428), ('board', 2446), ('cab', 2783), ('key', 11244), ('informant', 10347), ('interviews', 10771), ('members', 12524), ('guided', 8867), ('comprised', 4013), ('adults', 404), ('personal', 16091), ('professional', 17273), ('experiences', 7373), ('highlights', 9278), ('targeted', 21339), ('muscle', 13644), ('reinnervation', 18334), ('cortical', 4524), ('nerve', 14023), ('most', 13424), ('matches', 12285), ('found', 8153), ('discussed', 5832), ('amongst', 796), ('users', 22952), ('regulators', 18312), ('emerging', 6642), ('greater', 8798), ('versus', 23126), ('invasiveness', 10889), ('clear', 3590), ('benefit', 1942), ('risk', 18913), ('tradeoff', 22063), ('gap', 8404), ('centered', 3206), ('directions', 5742), ('include', 10169), ('incorporating', 10195), ('identifying', 9799), ('united', 22756), ('states', 20478), ('explore', 7408), ('osteoblast', 15159), ('interactions', 10583), ('under', 22614), ('cigarette', 3485), ('smoke', 20047), ('extract', 7470), ('cse', 4769), ('exposure', 7424), ('simulate', 19866), ('liquid', 11771), ('environment', 6905), ('immersed', 9906), ('physical', 16293), ('micromorphology', 12885), ('elemental', 6555), ('hydrophilicity', 9610), ('mc', 12371), ('cultured', 4822), ('concentrations', 4051), ('changed', 3317), ('obvious', 14634), ('moreover', 13391), ('downregulated', 6120), ('spreading', 20348), ('speculated', 20258), ('some', 20139), ('carbon', 2969), ('compounds', 3999), ('adsorbed', 397), ('influenced', 10339), ('hoped', 9449), ('valuable', 23002), ('further', 8342), ('smoking', 20052), ('mediated', 12469), ('inhibition', 10401), ('widely', 23517), ('recognized', 18111), ('nanotextures', 13857), ('affect', 452), ('protein', 17449), ('absorption', 82), ('they', 21629), ('nowadays', 14497), ('great', 8797), ('fast', 7610), ('maintain', 12102), ('physiological', 16305), ('biomedical', 2208), ('order', 14922), ('suitable', 20932), ('must', 13652), ('should', 19744), ('produced', 17262), ('industrial', 10280), ('scalable', 19235), ('real', 18020), ('sustainable', 21149), ('costs', 4554), ('often', 14729), ('barrier', 1791), ('market', 12243), ('entry', 6895), ('premises', 17057), ('chemical', 3371), ('designed', 5446), ('its', 11085), ('able', 48), ('produce', 17261), ('layer', 11512), ('peculiar', 15858), ('sponge', 20321), ('nanotexture', 13855), ('coupled', 4597), ('hydroxyl', 9636), ('here', 9198), ('previously', 17171), ('inorganic', 10452), ('bioactivity', 2083), ('intended', 10564), ('ability', 40), ('induce', 10266), ('apatite', 1099), ('precipitation', 16950), ('simulated', 19867), ('body', 2458), ('fluid', 7982), ('physicochemical', 16298), ('layers', 11515), ('means', 12410), ('fesem', 7724), ('zeta', 23761), ('response', 18656), ('progenitors', 17288), ('bacteria', 1723), ('tested', 21507), ('nanotextured', 13856), ('successfully', 20897), ('thus', 21714), ('demonstrating', 5281), ('good', 8704), ('reduce', 18192), ('colonization', 3811), ('periodontal', 16001), ('pathogens', 15747), ('aggregatibacter', 516), ('actinomycetemcomitans', 255), ('short', 19727), ('finally', 7846), ('applicability', 1151), ('acetabular', 182), ('cup', 4832), ('screw', 19362), ('sphered', 20275), ('laryngeal', 11458), ('demonstrated', 5279), ('cytocompatible', 4934), ('objective', 14589), ('develop', 5522), ('protocol', 17468), ('hip', 9298), ('represents', 18524), ('gait', 8379), ('loading', 11818), ('compression', 4009), ('torsion', 21987), ('if', 9811), ('alternative', 717), ('traditional', 22064), ('collarless', 3781), ('tapered', 21328), ('stem', 20521), ('clinically', 3615), ('challenging', 3307), ('case', 3030), ('moderate', 13258), ('canal', 2886), ('flare', 7932), ('index', 10230), ('twenty', 22447), ('laboratory', 11372), ('prepared', 17078), ('constructs', 4284), ('overload', 15445), ('construct', 4278), ('stiffness', 20584), ('load', 11811), ('migration', 13051), ('outcome', 15355), ('variables', 23020), ('did', 5619), ('show', 19747), ('any', 1081), ('rotation', 19000), ('torsional', 21988), ('subsidence', 20847), ('inducible', 10272), ('collared', 3780), ('stiffer', 20583), ('bolt', 2467), ('reductions', 18200), ('loads', 11821), ('approximately', 1198), ('seven', 19617), ('nm', 14166), ('highlight', 9275), ('importance', 10078), ('limiting', 11718), ('level', 11629), ('trotting', 22353), ('jumping', 11176), ('replacement', 18485), ('georg', 8535), ('thieme', 21638), ('verlag', 23116), ('stuttgart', 20744), ('york', 23724), ('decreased', 5123), ('marrow', 12251), ('adiposity', 348), ('occur', 14660), ('aging', 522), ('strontium', 20713), ('sr', 20372), ('anabolic', 829), ('agent', 502), ('osteoporosis', 15271), ('inhibitory', 10404), ('adipogenesis', 343), ('favors', 7634), ('derived', 5410), ('mesenchymal', 12568), ('bmscs', 2441), ('little', 11788), ('known', 11306), ('aged', 497), ('doped', 6080), ('developed', 5523), ('via', 23157), ('grit', 8816), ('sla', 19960), ('combined', 3840), ('hydrothermal', 9620), ('initial', 10410), ('intracellular', 10790), ('redox', 18191), ('state', 20474), ('adipogenic', 344), ('senescent', 19511), ('investigated', 10901), ('promoted', 17353), ('upregulation', 22910), ('integrin', 10557), ('addition', 304), ('oxidative', 15501), ('stress', 20676), ('decreasing', 5125), ('reactive', 18002), ('oxygen', 15516), ('species', 20226), ('radicals', 17809), ('content', 4319), ('glutathione', 8646), ('peroxidase', 16071), ('more', 13389), ('suppressed', 21050), ('lipid', 11752), ('droplet', 6188), ('adipokines', 345), ('transcription', 22096), ('peroxisome', 16073), ('proliferator', 17332), ('activated', 260), ('gamma', 8398), ('ppargamma', 16890), ('signal', 19794), ('transducer', 22110), ('activator', 264), ('inhibiting', 10400), ('implanted', 10038), ('tibiae', 21735), ('mo', 13233), ('old', 14757), ('sprague', 20342), ('dawley', 5008), ('wk', 23579), ('histomorphometric', 9338), ('enhanced', 6824), ('adipose', 347), ('functions', 8323), ('antiadipogenesis', 1011), ('capability', 2927), ('population', 16724), ('defects', 5149), ('maxillofacial', 12330), ('region', 18281), ('arise', 1258), ('several', 19624), ('reasons', 18051), ('trauma', 22224), ('cyst', 4923), ('medication', 12481), ('osteonecrosis', 15253), ('jaw', 11112), ('misuse', 13187), ('irritant', 10992), ('agents', 503), ('reconstruction', 18138), ('autogenous', 1610), ('grafts', 8751), ('remain', 18398), ('gold', 8692), ('standard', 20446), ('alternatives', 719), ('our', 15349), ('year', 23705), ('woman', 23597), ('referred', 18227), ('fixed', 7907), ('bridge', 2611), ('her', 9194), ('edentulous', 6380), ('defected', 5147), ('left', 11574), ('nd', 13943), ('premolar', 17058), ('st', 20404), ('molar', 13300), ('examinations', 7244), ('devitalizing', 5540), ('dependent', 5367), ('defect', 5146), ('iliac', 9857), ('crest', 4697), ('aic', 547), ('grafting', 8747), ('technique', 21399), ('preferred', 17027), ('consecutively', 4214), ('week', 23432), ('month', 13377), ('uneventful', 22690), ('patient', 15766), ('signs', 19813), ('resorption', 18633), ('gingival', 8579), ('inflammation', 10331), ('pain', 15557), ('borne', 2516), ('bridges', 2614), ('seem', 19454), ('stable', 20420), ('satisfactory', 19187), ('iatrogenically', 9742), ('maxillary', 12324), ('alveolar', 732), ('report', 18505), ('art', 1294), ('technological', 21403), ('enhance', 6823), ('chronologically', 3480), ('described', 5430), ('bridging', 2617), ('ordinary', 14926), ('advanced', 407), ('approaches', 1186), ('texturing', 21543), ('biomimetic', 2219), ('procedures', 17240), ('peptides', 15924), ('bioactive', 2080), ('enhancement', 6825), ('furthermore', 8344), ('findings', 7852), ('developments', 5528), ('available', 1643), ('yet', 23712), ('lack', 11385), ('validation', 22997), ('required', 18547), ('endorse', 6764), ('statement', 20476), ('significance', 19804), ('advances', 410), ('accelerate', 106), ('reported', 18506), ('ranging', 17901), ('printing', 17203), ('accomplished', 145), ('morphological', 13402), ('mineral', 13091), ('speed', 20262), ('molecules', 13309), ('nanostructured', 13844), ('induced', 10267), ('accumulation', 169), ('acta', 248), ('materialia', 12289), ('inc', 10139), ('rights', 18884), ('reserved', 18586), ('cement', 3189), ('retained', 18714), ('crowns', 4733), ('requires', 18550), ('prosthesis', 17424), ('rotary', 18996), ('instruments', 10528), ('measure', 12415), ('how', 9487), ('much', 13527), ('crown', 4732), ('temperature', 21432), ('erbium', 7028), ('yttrium', 23738), ('aluminum', 730), ('garnet', 8414), ('er', 7021), ('yag', 23696), ('retrieve', 18749), ('lithium', 11782), ('disilicate', 5850), ('abutments', 94), ('luted', 11978), ('composite', 3990), ('resin', 18606), ('glass', 8603), ('ionomer', 10936), ('rmgi', 18925), ('identical', 9791), ('prefabricated', 17017), ('cr', 4649), ('cements', 3200), ('lute', 11977), ('specimens', 20236), ('kept', 11228), ('humidity', 9554), ('hours', 9479), ('facilitate', 7539), ('retrieval', 18747), ('recorded', 18147), ('abutment', 93), ('minutes', 13146), ('analyzed', 858), ('paired', 15563), ('average', 1651), ('seconds', 19416), ('temperatures', 21433), ('ranged', 17899), ('degrees', 5198), ('statistically', 20490), ('examination', 7243), ('visible', 23235), ('faster', 7616), ('remove', 18432), ('rise', 18907), ('heat', 9099), ('does', 6042), ('appear', 1137), ('enough', 6845), ('adverse', 419), ('protected', 17442), ('analyze', 857), ('manufacture', 12208), ('lightweight', 11700), ('sufficient', 20916), ('fatigue', 7623), ('performance', 15960), ('enable', 6674), ('total', 21995), ('tha', 21560), ('lattice', 11501), ('structure', 20718), ('geometry', 8534), ('frequently', 8240), ('reduction', 18198), ('mass', 12267), ('flexibility', 7949), ('roughened', 19009), ('semispherical', 19503), ('pores', 16729), ('manufactured', 12209), ('direct', 5736), ('sintering', 19893), ('dmls', 6019), ('iso', 11017), ('analyses', 852), ('numerically', 14548), ('finite', 7865), ('element', 6554), ('masses', 12269), ('solid', 20116), ('determined', 5507), ('flexible', 7950), ('behavior', 1910), ('pore', 16728), ('diameter', 5585), ('while', 23492), ('keeping', 11219), ('constant', 4258), ('fea', 7666), ('reasonable', 18048), ('agreement', 535), ('additively', 309), ('similar', 19843), ('presents', 17110), ('reference', 18221), ('newly', 14092), ('completed', 3957), ('concentration', 4050), ('methylene', 12680), ('blue', 2406), ('mb', 12351), ('photosensitizer', 16282), ('eradication', 7027), ('efficacy', 6430), ('photodynamic', 16255), ('therapy', 21592), ('apdt', 1104), ('contaminated', 4310), ('linked', 11744), ('first', 7877), ('evaluating', 7181), ('sandblasting', 19160), ('totally', 22000), ('discs', 5829), ('gram', 8755), ('streptococcus', 20673), ('mutans', 13658), ('adhered', 327), ('disc', 5775), ('mug', 13550), ('ml', 13213), ('diode', 5723), ('maximum', 12343), ('output', 15378), ('mw', 13673), ('min', 13084), ('cm', 3656), ('bactericidal', 1727), ('viability', 23159), ('lipopolysaccharide', 11759), ('lps', 11928), ('assays', 1387), ('disinfected', 5851), ('support', 21042), ('mg', 12706), ('attachment', 1493), ('predetermined', 16975), ('culture', 4821), ('intervals', 10758), ('variance', 23021), ('hoc', 9384), ('scheffe', 19291), ('observation', 14608), ('survival', 21128), ('remarkably', 18406), ('lower', 11913), ('quantity', 17743), ('colonies', 3807), ('similarly', 19846), ('amounts', 801), ('remaining', 18401), ('intriguingly', 10857), ('comparable', 3907), ('contamination', 4313), ('limits', 11719), ('formulation', 8124), ('lethal', 11616), ('nevertheless', 14083), ('practice', 16916), ('implantitis', 10041), ('remains', 18402), ('studied', 20735), ('since', 19877), ('common', 3880), ('single', 19881), ('missing', 13183), ('teeth', 21411), ('jaws', 11115), ('mainstream', 12101), ('factors', 7554), ('extremely', 7500), ('negatively', 13979), ('diabetes', 5568), ('conditions', 4099), ('medications', 12482), ('interfere', 10639), ('wound', 23639), ('disorders', 5871), ('diseases', 5839), ('neurocognitive', 14037), ('cardiovascular', 2997), ('disease', 5837), ('immunodeficiency', 9945), ('virus', 23222), ('hiv', 9361), ('hypothyroidism', 9723), ('rheumatoid', 18848), ('arthritis', 1305), ('selective', 19479), ('serotonin', 19590), ('reuptake', 18773), ('inhibitors', 10403), ('ssris', 20401), ('proton', 17471), ('pump', 17621), ('ppis', 16900), ('antihypertensives', 1049), ('although', 721), ('demonstrate', 5278), ('affects', 455), ('controlled', 4381), ('diabetics', 5570), ('prophylactic', 17385), ('antibiotics', 1022), ('shown', 19751), ('long', 11863), ('term', 21485), ('soft', 20096), ('complications', 3978), ('reviews', 18802), ('fail', 7564), ('rate', 17926), ('caution', 3103), ('exercised', 7308), ('onj', 14805), ('especially', 7075), ('malignancies', 12137), ('evidence', 7204), ('neurologic', 14043), ('preliminary', 17042), ('fairly', 7572), ('validated', 22994), ('continuous', 4338), ('concomitant', 4074), ('comorbidities', 3894), ('complicate', 3973), ('guide', 8866), ('guidelines', 8869), ('academy', 100), ('ao', 1087), ('summit', 20978), ('held', 9117), ('august', 1569), ('oak', 14572), ('brook', 2652), ('hills', 9282), ('illinois', 9865), ('relationship', 18360), ('electronic', 6525), ('manual', 12206), ('searches', 19399), ('independent', 10226), ('examiners', 7248), ('meta', 12598), ('regression', 18298), ('explored', 7409), ('insertion', 10469), ('quotient', 17788), ('isq', 11046), ('marginal', 12231), ('mbl', 12362), ('overall', 15404), ('included', 10170), ('assessment', 1399), ('resonance', 18623), ('frequncy', 8241), ('rfa', 18823), ('combination', 3836), ('periotest', 16033), ('reached', 17990), ('strong', 20709), ('unit', 22753), ('accuracy', 172), ('insufficient', 10530), ('issue', 11061), ('efficient', 6433), ('achievement', 202), ('detrimental', 5516), ('current', 4849), ('tracking', 22053), ('over', 15402), ('useful', 22949), ('robust', 18950), ('connection', 4198), ('existing', 7329), ('metrics', 12695), ('inconclusive', 10182), ('polyetheretherketone', 16630), ('peek', 15872), ('considered', 4238), ('because', 1887), ('elastic', 6480), ('modulus', 13290), ('bacteriostasis', 1731), ('osseointegrative', 15087), ('bioinert', 2167), ('impede', 10007), ('facile', 7538), ('versatile', 23121), ('dexamethasone', 5547), ('plus', 16533), ('minocycline', 13140), ('loaded', 11816), ('liposomes', 11764), ('dex', 5545), ('mino', 13139), ('bonded', 2475), ('mussel', 13651), ('inspired', 10489), ('polydopamine', 16625), ('effectively', 6420), ('modulated', 13278), ('discouraged', 5810), ('herein', 9203), ('multifunctional', 13580), ('studying', 20739), ('liposome', 11763), ('prevent', 17160), ('attenuate', 1515), ('ossification', 15115), ('physiologic', 16304), ('established', 7088), ('favorable', 7630), ('cytocompatibility', 4933), ('bare', 1783), ('osteoinductive', 15227), ('osteoconductive', 15180), ('functionalized', 8318), ('liposomal', 11762), ('releasing', 18371), ('released', 18369), ('subcutaneous', 20772), ('foreign', 8084), ('corroborated', 4512), ('triple', 22322), ('functional', 8310), ('bisphosphonate', 2335), ('restore', 18676), ('bony', 2495), ('resorptive', 18636), ('zoledronic', 23796), ('zol', 23794), ('systemically', 21267), ('sclerostin', 19334), ('antibody', 1024), ('principle', 17197), ('sole', 20111), ('rat', 17923), ('uncoated', 22583), ('coated', 3685), ('inserted', 10467), ('proximal', 17515), ('osteoporotic', 15273), ('ovariectomy', 15396), ('weekly', 23434), ('microct', 12797), ('histology', 9323), ('histomorphology', 9336), ('pronounced', 17368), ('along', 686), ('entire', 6884), ('length', 11591), ('cancellous', 2895), ('alone', 685), ('receiving', 18083), ('led', 11566), ('osteoanabolic', 15151), ('than', 21562), ('competence', 3935), ('myeloma', 13686), ('undergoing', 22625), ('bisphosphonates', 2336), ('turn', 22426), ('functionally', 8320), ('stabilized', 20414), ('many', 12215), ('meticulous', 12691), ('selection', 19476), ('proper', 17381), ('consultation', 4288), ('physician', 16295), ('minimally', 13112), ('invasive', 10887), ('cautions', 3105), ('investigate', 10900), ('chronic', 3475), ('restraint', 18683), ('adult', 402), ('male', 12127), ('wistar', 23564), ('albino', 584), ('surgical', 21101), ('metaphyseal', 12634), ('tibial', 21736), ('cnt', 3667), ('rs', 19048), ('surgically', 21102), ('day', 5009), ('beginning', 1899), ('weight', 23442), ('tissues', 21831), ('undecalcified', 22609), ('cortisol', 4537), ('cardiac', 2995), ('centrifugation', 3222), ('adversely', 420), ('investigation', 10904), ('promoting', 17357), ('topographies', 21969), ('elements', 6557), ('angles', 919), ('ionic', 10930), ('releases', 18370), ('sample', 19150), ('analysed', 849), ('special', 20217), ('separately', 19546), ('sixteen', 19929), ('ovariectomized', 15395), ('zealand', 23748), ('glucocorticoid', 8631), ('administration', 368), ('sham', 19663), ('controls', 4384), ('generating', 8490), ('metaphysis', 12639), ('sacrificed', 19112), ('rtvs', 19067), ('ba', 1701), ('nanostructures', 13845), ('appropriate', 1189), ('displayed', 5891), ('healthy', 9095), ('reactions', 17997), ('non', 14205), ('promotes', 17356), ('robotic', 18948), ('fiction', 7803), ('rapidly', 17914), ('increasingly', 10204), ('minimal', 13111), ('overview', 15473), ('dentistry', 5331), ('constantly', 4259), ('evolving', 7224), ('continuously', 4339), ('expanding', 7350), ('recently', 18087), ('robot', 18947), ('assisted', 1413), ('system', 21261), ('cleared', 3593), ('food', 8063), ('drug', 6195), ('world', 23624), ('autonomous', 1625), ('zhao', 23764), ('colleagues', 3784), ('china', 3416), ('so', 20073), ('called', 2861), ('intelligent', 10563), ('degree', 5197), ('autonomy', 1626), ('automatically', 1622), ('adjust', 355), ('intraoperative', 10820), ('execute', 7293), ('tasks', 21344), ('directly', 5745), ('apparent', 1132), ('surgeon', 21096), ('robotics', 18949), ('department', 5356), ('moscow', 13423), ('university', 22770), ('medicine', 12483), ('underwent', 22665), ('augmentation', 1561), ('temporary', 21443), ('dentures', 5346), ('preceding', 16943), ('authors', 1593), ('implemented', 10065), ('acrylic', 243), ('partial', 15681), ('denture', 5345), ('klammer', 11284), ('front', 8268), ('operative', 14841), ('those', 21673), ('traditionally', 22065), ('removable', 18429), ('comparative', 3910), ('vacuum', 22986), ('formed', 8111), ('retainers', 18716), ('relies', 18383), ('friction', 8253), ('absence', 67), ('mobility', 13239), ('osteotomy', 15308), ('immediately', 9903), ('frequency', 8237), ('success', 20894), ('propose', 17401), ('recommendations', 18119), ('manage', 12159), ('achieved', 201), ('pg', 16128), ('lid', 11660), ('pii', 16351), ('macro', 12033), ('topography', 21970), ('plays', 16491), ('role', 18973), ('ie', 9808), ('hydrophobicity', 9615), ('stimulation', 20595), ('better', 1976), ('immediate', 9902), ('trials', 22268), ('warranted', 23369), ('people', 15920), ('what', 23477), ('best', 1967), ('operations', 14840), ('encounters', 6709), ('difficulties', 5648), ('challenges', 3306), ('rf', 18822), ('describe', 5429), ('numerical', 14547), ('simulations', 19871), ('exact', 7236), ('correlated', 4499), ('complicated', 3974), ('mathematical', 12295), ('predict', 16981), ('merits', 12562), ('prediction', 16988), ('reliability', 18377), ('compatibility', 3924), ('simulation', 19870), ('kriging', 11330), ('surrogate', 21116), ('latin', 11496), ('hypercube', 9670), ('lh', 11647), ('competent', 3936), ('sophisticated', 20156), ('fem', 7696), ('helpful', 9125), ('guidance', 8865), ('designers', 5447), ('researchers', 18567), ('plans', 16439), ('substratum', 20874), ('targets', 21341), ('race', 17798), ('compete', 3934), ('eukaryotic', 7156), ('opportunity', 14862), ('colonize', 3813), ('victory', 23183), ('former', 8112), ('associated', 1418), ('infections', 10307), ('serious', 19583), ('threat', 21684), ('health', 9093), ('undermine', 22636), ('function', 8309), ('head', 9077), ('start', 20469), ('taken', 21302), ('place', 16414), ('prevention', 17165), ('strategies', 20654), ('rely', 18395), ('antibiotic', 1020), ('therapies', 21590), ('becoming', 1890), ('ineffective', 10284), ('growing', 8841), ('prevalence', 17157), ('kill', 11261), ('physically', 16294), ('rupturing', 19091), ('emerged', 6638), ('solution', 20129), ('mitigation', 13193), ('example', 7251), ('bearing', 1881), ('outcomes', 15356), ('host', 9467), ('growth', 8844), ('osteosarcoma', 15290), ('them', 21571), ('having', 9040), ('infected', 10304), ('pathogenic', 15746), ('osteoblastic', 15160), ('whilst', 23494), ('simultaneously', 19874), ('sterile', 20560), ('flat', 7936), ('help', 9123), ('win', 23543), ('fate', 7621), ('hyperlipidemia', 9680), ('regeneration', 18275), ('explained', 7387), ('examine', 7245), ('twelve', 22446), ('half', 8925), ('fed', 7677), ('cholesterol', 3441), ('diet', 5626), ('hypercholesterolemia', 9669), ('tibias', 21737), ('split', 20311), ('mouth', 13451), ('hypercholesterol', 9668), ('graft', 8745), ('xenograft', 23674), ('hyperlipidemic', 9681), ('baseline', 1800), ('readings', 18015), ('limitations', 11716), ('decrease', 5122), ('confirm', 4138), ('implantal', 10032), ('sitagliptin', 19917), ('dipeptidyl', 5727), ('peptidase', 15922), ('inhibitor', 10402), ('treat', 22242), ('diabetic', 5569), ('thirty', 21660), ('gd', 8449), ('gds', 8455), ('normoglycemic', 14462), ('gn', 8678), ('gns', 8681), ('right', 18883), ('water', 23382), ('administered', 364), ('glycemia', 8654), ('homa', 9405), ('insulinemia', 10535), ('microtomographic', 13000), ('hyperglycemia', 9673), ('insulin', 10534), ('glycemic', 8655), ('number', 14542), ('thickness', 21636), ('revealing', 18786), ('deleterious', 5221), ('metabolism', 12601), ('reverse', 18790), ('suggesting', 20924), ('action', 256), ('protective', 17446), ('decompensated', 5100), ('ternary', 21497), ('dopant', 6077), ('utilizing', 22972), ('wt', 23661), ('zno', 23788), ('sio', 19905), ('angiogenesis', 911), ('ag', 490), ('dopants', 6078), ('deposited', 5385), ('kw', 11346), ('spray', 20343), ('equipped', 7013), ('supersonic', 21023), ('nozzle', 14501), ('bond', 2472), ('strengths', 20669), ('coli', 3759), ('timepoints', 21788), ('znsiag', 23790), ('undoped', 22678), ('surgeries', 21098), ('revision', 18805), ('replacements', 18486), ('ever', 7196), ('span', 20193), ('escalation', 7064), ('young', 23727), ('come', 3845), ('incorporates', 10194), ('biologically', 2183), ('metallic', 12611), ('oxides', 15503), ('radio', 17813), ('induction', 10275), ('scapular', 19263), ('flaps', 7931), ('examines', 7249), ('scapula', 19262), ('locations', 11839), ('preoperative', 17064), ('planning', 16437), ('eight', 6453), ('chest', 3393), ('ct', 4783), ('men', 12531), ('women', 23598), ('captured', 2956), ('age', 496), ('height', 9111), ('border', 2509), ('equal', 6991), ('segments', 19465), ('midpoints', 13035), ('segment', 19460), ('labeled', 11357), ('proximally', 17516), ('distally', 5933), ('cross', 4716), ('section', 19426), ('recipient', 18100), ('sites', 19920), ('ameloblastoma', 756), ('mandible', 12170), ('who', 23505), ('specific', 20227), ('flap', 7928), ('availability', 1642), ('males', 12129), ('females', 7698), ('portion', 16749), ('depths', 5401), ('heights', 9114), ('bmi', 2425), ('endosteal', 6778), ('receive', 18079), ('difficulty', 5650), ('his', 9303), ('will', 23537), ('predictably', 16984), ('accommodate', 137), ('middle', 13027), ('portions', 16750), ('wiley', 23533), ('periodicals', 15999), ('oromandibular', 14972), ('decisive', 5091), ('knowledge', 11305), ('straumann', 20659), ('slaactive', 19961), ('thomenn', 21665), ('incell', 10142), ('superhydrophilic', 21000), ('medline', 12496), ('internet', 10698), ('database', 5000), ('publications', 17599), ('selected', 19473), ('cumulative', 4827), ('csr', 4776), ('thommen', 21666), ('systems', 21269), ('inicell', 10409), ('slactive', 19965), ('contacti', 4297), ('minipig', 13127), ('employing', 6664), ('minipigs', 13128), ('authorisation', 1589), ('ethics', 7129), ('committee', 3878), ('sand', 19157), ('same', 19148), ('hydrophilic', 9609), ('nitrogen', 14155), ('atmosphere', 1469), ('particle', 15691), ('bombardment', 2470), ('bioactivated', 2076), ('thermochemically', 21608), ('internal', 10692), ('polished', 16592), ('neck', 13961), ('sacrificing', 19114), ('spearman', 20216), ('rank', 17903), ('coefficient', 3719), ('elevated', 6561), ('osteoconductivity', 15182), ('maintaining', 12108), ('evolution', 7217), ('mature', 12310), ('lamellar', 11422), ('maturity', 12315), ('slower', 20012), ('maturation', 12309), ('necropsy', 13964), ('favourable', 7636), ('histomorfometric', 9330), ('nitinol', 14145), ('dimensional', 5700), ('anisotropic', 938), ('interconnective', 10612), ('open', 14827), ('combustion', 3844), ('synthesis', 21246), ('cs', 4765), ('ni', 14117), ('powders', 16879), ('product', 17267), ('tailored', 21295), ('closely', 3635), ('match', 12283), ('minimize', 13121), ('shielding', 19711), ('gpa', 8724), ('porosity', 16738), ('vol', 23285), ('size', 19933), ('microm', 12869), ('meets', 12505), ('basic', 1807), ('demand', 5260), ('composed', 3989), ('cubic', 4805), ('austenitic', 1580), ('monoclinic', 13338), ('martensitic', 12256), ('niti', 14144), ('rich', 18876), ('exhibits', 7323), ('breakdown', 2587), ('potentials', 16861), ('mv', 13669), ('ovine', 15477), ('strucutre', 20722), ('complete', 3956), ('across', 240), ('separate', 19544), ('lumbar', 11960), ('interbody', 10588), ('fusion', 8353), ('substantiating', 20860), ('spine', 20289), ('proven', 17491), ('exceptional', 7262), ('candidate', 2903), ('wide', 23516), ('range', 17898), ('highlighted', 9276), ('prerequisite', 17089), ('conceptualized', 4057), ('goal', 8683), ('improving', 10107), ('osseodensification', 15054), ('od', 14685), ('viscoelastic', 23226), ('philosophy', 16194), ('runs', 19085), ('counter', 4569), ('drilling', 6172), ('maintained', 12106), ('regions', 18283), ('where', 23483), ('already', 701), ('compromised', 4017), ('focuses', 8041), ('cases', 3032), ('sinus', 19895), ('crestal', 4698), ('synthetic', 21255), ('putty', 17664), ('socket', 20088), ('shield', 19709), ('esthetic', 7098), ('zone', 23799), ('clinicians', 3618), ('understanding', 22654), ('optimize', 14889), ('drill', 6169), ('densify', 5306), ('hard', 8990), ('probing', 17231), ('measuring', 12422), ('mesial', 12577), ('periapical', 15973), ('radiograph', 17827), ('probe', 17228), ('change', 3316), ('measurements', 12419), ('radiographic', 17829), ('yielded', 23716), ('acceptable', 120), ('trend', 22251), ('indicates', 10239), ('prospective', 17414), ('management', 12162), ('periodic', 15996), ('imperative', 10013), ('gastric', 8419), ('drugs', 6196), ('fractures', 8193), ('kidney', 11258), ('deficiency', 5159), ('dementia', 5268), ('pneumonia', 16554), ('causing', 3100), ('fracture', 8191), ('deterioration', 5498), ('impaired', 9993), ('emphasized', 6657), ('link', 11741), ('intake', 10543), ('concerns', 4062), ('raised', 17875), ('inadequate', 10130), ('interference', 10641), ('pharmacological', 16159), ('needed', 13970), ('whether', 23490), ('ppi', 16899), ('coexisting', 3725), ('excessive', 7266), ('fluoride', 7992), ('underlying', 22635), ('still', 20589), ('mitogen', 13197), ('kinase', 11268), ('mapk', 12219), ('yes', 23711), ('yap', 23701), ('signaling', 19795), ('pathways', 15765), ('thought', 21675), ('hippo', 9300), ('pathway', 15764), ('behaviors', 1912), ('cp', 4628), ('naf', 13714), ('microscope', 12946), ('cck', 3145), ('flow', 7968), ('cytometry', 4944), ('expressions', 7433), ('detected', 5488), ('western', 23468), ('blot', 2397), ('bl', 2351), ('mice', 12731), ('destroyed', 5469), ('passivation', 15721), ('film', 7833), ('remarkable', 18405), ('jnk', 11139), ('seemed', 19455), ('regulate', 18305), ('phosphorylation', 16235), ('fluorosis', 8010), ('mouse', 13450), ('ppm', 16903), ('nuclear', 14529), ('translocation', 22163), ('altered', 709), ('axis', 1690), ('contributed', 4368), ('activation', 263), ('regulating', 18308), ('messages', 12595), ('regulated', 18306), ('talk', 21307), ('regulation', 18309), ('foams', 8035), ('interconnected', 10608), ('channels', 3322), ('penetration', 15908), ('forming', 8118), ('anchorage', 879), ('bio', 2073), ('inert', 10288), ('desirable', 5451), ('work', 23608), ('particles', 15692), ('active', 266), ('blended', 2374), ('powder', 16876), ('injection', 10425), ('moulding', 13443), ('mim', 13077), ('space', 20183), ('holder', 9388), ('produces', 17264), ('potentially', 16860), ('inducing', 10273), ('do', 6025), ('behaviour', 1913), ('induces', 10270), ('brittleness', 2635), ('reduces', 18194), ('interaction', 10582), ('weak', 23409), ('ceramic', 3244), ('adding', 303), ('small', 20024), ('form', 8097), ('biocomposite', 2122), ('mandibular', 12176), ('omentum', 14777), ('bioreactor', 2262), ('engineered', 6815), ('nine', 14132), ('miniature', 13105), ('pigs', 16350), ('morphogenetic', 13397), ('aspirate', 1380), ('scaffolds', 19234), ('biphasic', 2315), ('bcp', 1850), ('scaffold', 19232), ('another', 975), ('harvested', 9022), ('ratios', 17940), ('bics', 2032), ('inter', 10578), ('densities', 5307), ('shows', 19752), ('de', 5036), ('novo', 14493), ('prosthodontic', 17433), ('international', 10695), ('surgeons', 21097), ('ectopic', 6361), ('introduction', 10864), ('oldest', 14760), ('superiority', 21011), ('controversies', 4387), ('exist', 7324), ('prospero', 17417), ('registration', 18290), ('crd', 4680), ('cochrane', 3701), ('participants', 15685), ('neither', 13992), ('nor', 14449), ('alcohol', 591), ('consumption', 4293), ('heavy', 9105), ('pooled', 16709), ('rrs', 19047), ('confidence', 4126), ('cis', 3520), ('dichotomous', 5610), ('weighted', 23444), ('wmd', 23581), ('random', 17890), ('dersimonian', 5426), ('laird', 11416), ('estimation', 7107), ('chi', 3398), ('heterogeneity', 9215), ('gain', 8375), ('probability', 17224), ('records', 18151), ('duplicates', 6236), ('met', 12597), ('involving', 10920), ('rr', 19043), ('ci', 3482), ('contrast', 4365), ('reveals', 18787), ('subjects', 20796), ('determination', 5503), ('strongly', 20712), ('create', 4683), ('distribution', 5971), ('diagrams', 5579), ('showing', 19750), ('position', 16759), ('retrospectively', 18764), ('micromotor', 12889), ('sex', 19629), ('positions', 16764), ('arch', 1227), ('retrieved', 18750), ('variation', 23025), ('adjacent', 349), ('given', 8588), ('displays', 5893), ('interindividual', 10661), ('meaningful', 12406), ('basis', 1812), ('maxilla', 12320), ('currently', 4850), ('goes', 8687), ('beyond', 1984), ('creation', 4687), ('possibility', 16776), ('re', 17985), ('light', 11697), ('source', 20172), ('dioxide', 5725), ('tio', 21804), ('photocatalyst', 16248), ('photocatalytic', 16249), ('efficiency', 6432), ('limited', 11717), ('ultraviolet', 22529), ('uv', 22976), ('electromagnetic', 6518), ('spectrum', 20257), ('carcinogenic', 2991), ('codoped', 3716), ('bismuth', 2331), ('electrolytic', 6516), ('oxidation', 15500), ('peo', 15919), ('achieve', 200), ('complex', 3963), ('albumin', 589), ('adsorption', 401), ('untreated', 22880), ('shifted', 19714), ('band', 1770), ('facilitated', 7540), ('degradation', 5192), ('methyl', 12675), ('orange', 14907), ('dark', 4990), ('even', 7186), ('greatest', 8799), ('dual', 6217), ('sanguinis', 19168), ('actinomyces', 253), ('naeslundii', 13713), ('darkness', 4994), ('reusable', 18774), ('presenting', 17108), ('noncytotoxicity', 14264), ('fibroblast', 7768), ('stronger', 20710), ('histologically', 9321), ('radiographically', 17831), ('piece', 16339), ('zirconia', 23778), ('buccal', 2696), ('dehiscence', 5201), ('sides', 19775), ('housing', 9484), ('_d', 0), ('width', 23526), ('t_d', 21272), ('hemi', 9139), ('median', 12465), ('margo', 12235), ('mucosae', 13541), ('apically', 1112), ('borderline', 2512), ('mucosa', 13540), ('linear', 11729), ('mucosal', 13542), ('apical', 1111), ('shift', 19713), ('john', 11145), ('sons', 20152), ('histologic', 9319), ('preclinical', 16956), ('intrafibrillarly', 10803), ('mineralized', 13099), ('imc', 9892), ('grafted', 8746), ('critical', 4708), ('sized', 19935), ('surrounded', 21118), ('extrafibrillarly', 7478), ('emc', 6634), ('blank', 2359), ('natural', 13904), ('tomographic', 21937), ('biochemical', 2106), ('evaluations', 7183), ('postoperatively', 16819), ('microarray', 12749), ('technology', 21406), ('transcriptional', 22097), ('profile', 17276), ('mu', 13524), ('ultimate', 22502), ('maximal', 12334), ('pull', 17605), ('force', 8073), ('overexpression', 15426), ('mainly', 12098), ('immuno', 9935), ('skeletogenesis', 19941), ('neurogenesis', 14042), ('jawbone', 11113), ('differentially', 5638), ('expressed', 7429), ('pilot', 16355), ('trends', 22253), ('europe', 7161), ('delphi', 5244), ('methodology', 12670), ('steering', 20517), ('team', 21382), ('experts', 7384), ('questionnaire', 17767), ('questions', 17769), ('topics', 21965), ('survey', 21123), ('rounds', 19020), ('anonymous', 970), ('second', 19412), ('round', 19016), ('question', 17763), ('answers', 982), ('percentages', 15932), ('invited', 10912), ('participate', 15686), ('answered', 980), ('consensus', 4216), ('categories', 3062), ('topic', 21962), ('majority', 12114), ('face', 7529), ('meeting', 12504), ('towards', 22013), ('replace', 18482), ('chewing', 3397), ('units', 22760), ('customized', 4879), ('cbct', 3120), ('tool', 21954), ('diagnosis', 5575), ('restorative', 18674), ('workflows', 23614), ('incidence', 10149), ('interventions', 10766), ('bioinertness', 2168), ('pristine', 17212), ('impairs', 9997), ('nanotubes', 13870), ('tnt', 21896), ('anodic', 958), ('hbmp', 9057), ('sustained', 21150), ('pattern', 15771), ('particularly', 15696), ('cytoskeleton', 4949), ('organization', 14939), ('immunofluorescence', 9948), ('staining', 20435), ('vinculin', 23204), ('upregulated', 22907), ('osteopontin', 15270), ('bonding', 2476), ('synergistic', 21229), ('played', 16488), ('nanotopography', 13866), ('immobilization', 9920), ('synergistically', 21230), ('enhances', 6828), ('preosteoblast', 17068), ('cisplatin', 3521), ('repair', 18463), ('ctl', 4790), ('placebo', 16415), ('installed', 10496), ('arrangement', 1280), ('fibers', 7758), ('morphometrical', 13408), ('areal', 1241), ('occupied', 14657), ('phosphorus', 16232), ('manova', 12201), ('games', 8397), ('howell', 9489), ('thin', 21641), ('trabeculae', 22033), ('birefringent', 2323), ('irregular', 10976), ('implications', 10072), ('interfered', 10640), ('chemotherapy', 3389), ('histometrical', 9325), ('microbial', 12757), ('major', 12113), ('operation', 14838), ('silver', 19841), ('nanoparticles', 13801), ('agnps', 526), ('hypotoxicity', 9724), ('firmly', 7875), ('anchoring', 882), ('onto', 14815), ('likely', 11703), ('relieve', 18384), ('biosynthesized', 2289), ('green', 8802), ('chitosan', 3427), ('stabilizing', 20418), ('reducing', 18195), ('heparin', 9185), ('polyelectrolyte', 16626), ('multilayers', 13587), ('pems', 15901), ('constructed', 4279), ('alkali', 622), ('lbl', 11523), ('self', 19484), ('assembly', 1392), ('till', 21774), ('construction', 4281), ('multilayer', 13585), ('fibroblasts', 7771), ('hgfs', 9256), ('manifests', 12189), ('viable', 23160), ('seal', 19389), ('preparation', 17074), ('improvements', 10105), ('synergic', 21226), ('feature', 7671), ('components', 3988), ('hybrid', 9578), ('regenerative', 18276), ('drawn', 6161), ('attention', 1513), ('aiming', 559), ('aerogel', 437), ('potent', 16857), ('adopted', 385), ('approach', 1184), ('regime', 18277), ('synthesized', 21252), ('pot', 16853), ('sol', 20104), ('gel', 8465), ('hybridization', 9579), ('organosilane', 14946), ('tetraethyl', 21527), ('orthosilicate', 15007), ('silk', 19837), ('fibroin', 7779), ('sf', 19635), ('biopolymer', 2250), ('unidirectional', 22723), ('freeze', 8231), ('casting', 3043), ('supercritical', 20989), ('drying', 6198), ('ultralight', 22510), ('silica', 19827), ('hybrids', 9583), ('hierarchically', 9267), ('organized', 14943), ('interesting', 10630), ('honeycomb', 9441), ('alignment', 614), ('anisotropy', 939), ('varied', 23028), ('scales', 19240), ('macropore', 12048), ('lied', 11664), ('systematically', 21264), ('magnitude', 12091), ('improvement', 10104), ('counterparts', 4584), ('acted', 249), ('very', 23137), ('assessments', 1400), ('nonhemolytic', 14296), ('microenvironment', 12814), ('trigger', 22301), ('radiology', 17844), ('microcomputed', 12786), ('toxicology', 22016), ('zero', 23758), ('toxic', 22014), ('hematological', 9131), ('clearly', 3597), ('mechanically', 12426), ('bioaerogel', 2086), ('ordered', 14923), ('multiscale', 13620), ('sense', 19518), ('microgrooves', 12849), ('double', 6103), ('generate', 8487), ('smooth', 20053), ('disks', 5856), ('conical', 4178), ('iv', 11091), ('below', 1930), ('profilometry', 17282), ('atomic', 1473), ('mfa', 12700), ('patterns', 15774), ('highest', 9272), ('stimulates', 20593), ('accelerating', 109), ('microrugosities', 12942), ('zirconium', 23779), ('tizr', 21861), ('hbmscs', 9059), ('responses', 18657), ('holes', 9394), ('affected', 453), ('tisla', 21825), ('tislactive', 21826), ('tizrsla', 21863), ('tizrslactive', 21864), ('zr', 23803), ('microstructures', 12978), ('corresponding', 4508), ('roxolidsla', 19032), ('roxolidslactive', 19033), ('institute', 10509), ('basel', 1799), ('switzerland', 21190), ('seeded', 19446), ('terms', 21496), ('nonsurgical', 14419), ('actual', 272), ('counteract', 4570), ('resective', 18576), ('implantoplasty', 10054), ('diagnosed', 5572), ('applying', 1160), ('follow', 8055), ('screened', 19358), ('eligible', 6573), ('contacted', 4296), ('asked', 1368), ('undergo', 22623), ('radiologic', 17839), ('progressive', 17308), ('bleeding', 2372), ('suppuration', 21056), ('establish', 7087), ('fulfilled', 8299), ('lost', 11901), ('remained', 18400), ('bop', 2506), ('absent', 68), ('resolved', 18621), ('antibiofilm', 1015), ('progression', 17307), ('adequate', 324), ('longevity', 11866), ('fields', 7809), ('orthopaedics', 14996), ('neurology', 14045), ('delicate', 5228), ('notorious', 14486), ('thermal', 21603), ('weaken', 23410), ('fixative', 7903), ('vibrational', 23168), ('vd', 23071), ('overcoming', 15411), ('cd', 3160), ('fresh', 8242), ('intention', 10574), ('investigating', 10903), ('frequencies', 8236), ('feed', 7681), ('sections', 19430), ('skeletally', 19940), ('influential', 10343), ('optimal', 14877), ('taguchi', 21289), ('relational', 18358), ('khz', 11255), ('ipem', 10950), ('histopathology', 9349), ('grades', 8737), ('cylinder', 4914), ('shape', 19666), ('emission', 6645), ('randomization', 17893), ('en', 6673), ('bloc', 2384), ('interfaces', 10636), ('dimensionally', 5701), ('counterclockwise', 4576), ('measurement', 12418), ('measures', 12421), ('topographic', 21966), ('whereas', 23485), ('clue', 3649), ('artificial', 1333), ('substitute', 20864), ('coordination', 4435), ('motor', 13438), ('approximating', 1200), ('dramatically', 6152), ('functionality', 8315), ('transhumeral', 22142), ('amputation', 819), ('epimysial', 6955), ('electrodes', 6506), ('osseointegrated', 15082), ('bidirectional', 2038), ('communication', 3889), ('skeletal', 19939), ('opra', 14869), ('context', 4323), ('routine', 19023), ('grasping', 8788), ('pick', 16323), ('lift', 11679), ('virtual', 23218), ('eggs', 6444), ('care', 2998), ('myoelectric', 13694), ('namely', 13725), ('controllability', 4378), ('terminal', 21487), ('grip', 8814), ('object', 14587), ('transfer', 22120), ('failed', 7565), ('surprisingly', 21115), ('temporal', 21439), ('forces', 8076), ('reliable', 18378), ('depended', 5363), ('visual', 23245), ('feedback', 7682), ('incidental', 10152), ('sensory', 19535), ('auditory', 1556), ('osseoperceptive', 15095), ('restoring', 18680), ('grasp', 8787), ('amputees', 822), ('idea', 9783), ('supplemental', 21032), ('tactile', 21284), ('learn', 11554), ('ultimately', 22503), ('hands', 8964), ('hand', 8951), ('periprosthetic', 16039), ('recipients', 18101), ('integral', 10546), ('leg', 11575), ('ilp', 9878), ('opl', 14857), ('retrospective', 18763), ('cohort', 3738), ('setting', 19609), ('private', 17214), ('hospital', 9463), ('specialized', 20222), ('transfemoral', 22119), ('amputations', 820), ('intervention', 10764), ('longitudinal', 11868), ('coverage', 4612), ('inverse', 10893), ('gruen', 8845), ('zones', 23800), ('comparing', 3916), ('architecture', 1232), ('raise', 17874), ('rays', 17946), ('appears', 1143), ('prognostic', 17295), ('ms', 13489), ('sbas', 19216), ('before', 1895), ('edx', 6409), ('albinus', 585), ('again', 492), ('opn', 14858), ('oc', 14636), ('covering', 4614), ('ca', 2780), ('intense', 10565), ('immunolabeling', 9963), ('topographical', 21967), ('allowed', 671), ('interlocking', 10675), ('reconstructive', 18140), ('female', 7697), ('labrador', 11376), ('tooth', 21957), ('extraction', 7473), ('side', 19773), ('later', 11481), ('cleaned', 3583), ('curettes', 4844), ('cotton', 4560), ('pellets', 15889), ('soaked', 20075), ('saline', 19138), ('allocated', 650), ('filled', 7825), ('deproteinized', 5398), ('bovine', 2537), ('covered', 4613), ('membrane', 12526), ('radiological', 17840), ('biopsies', 2256), ('larger', 11456), ('lesions', 11607), ('moderately', 13259), ('rough', 19007), ('preservation', 17111), ('margin', 12230), ('masticatory', 12280), ('replacing', 18488), ('discomfort', 5796), ('became', 1886), ('popular', 16718), ('line', 11725), ('offering', 14720), ('comfortable', 3849), ('lasting', 11473), ('osseo', 15044), ('reflects', 18246), ('modulators', 13284), ('lllt', 11799), ('platelet', 16474), ('fibrin', 7765), ('prf', 17179), ('noninvasive', 14315), ('alleviates', 642), ('stimulatory', 20599), ('randomised', 17892), ('trial', 22267), ('bilaterally', 2052), ('twice', 22448), ('starting', 20471), ('daily', 4963), ('rating', 17931), ('nrs', 14509), ('intraoral', 10822), ('radiography', 17834), ('ninth', 14136), ('radiofrequency', 17823), ('statically', 20481), ('augmented', 1565), ('discuss', 5831), ('feasibility', 7669), ('effectiveness', 6421), ('scientific', 19314), ('bilateral', 2051), ('extracted', 7471), ('dog', 6044), ('point', 16571), ('scanned', 19253), ('digitally', 5671), ('reconstructed', 18136), ('detection', 5491), ('consists', 4248), ('counted', 4568), ('slides', 19991), ('stained', 20433), ('toluidine', 21932), ('disadvantages', 5756), ('took', 21953), ('modeling', 13254), ('smaller', 20025), ('seen', 19458), ('concerning', 4061), ('bias', 2007), ('simpler', 19851), ('selecting', 19475), ('saliva', 19139), ('clean', 3582), ('attached', 1491), ('outperformed', 15375), ('ones', 14799), ('substantially', 20856), ('happened', 8978), ('decontaminating', 5108), ('restoration', 18672), ('dictating', 5618), ('series', 19581), ('molecular', 13307), ('events', 7192), ('apposition', 1168), ('whereby', 23486), ('integrate', 10549), ('native', 13903), ('withstanding', 23575), ('enabling', 6677), ('richer', 18878), ('vasculature', 23044), ('capable', 2928), ('supplying', 21041), ('progenitor', 17287), ('take', 21300), ('outlines', 15366), ('thereafter', 21594), ('protocols', 17470), ('introduce', 10860), ('rationale', 17936), ('supporting', 21044), ('concept', 4053), ('heavily', 9104), ('utilized', 22970), ('modern', 13260), ('view', 23191), ('favored', 7632), ('moduli', 13289), ('nb', 13913), ('hf', 9241), ('ta', 21273), ('tensile', 21468), ('universal', 22764), ('machine', 12028), ('lowest', 11916), ('consultations', 4289), ('shared', 19672), ('decision', 5089), ('explosion', 7413), ('provision', 17500), ('sdm', 19383), ('undesirable', 22666), ('satisfaction', 19184), ('scoping', 19342), ('reports', 18511), ('status', 20496), ('web', 23428), ('ovidsp', 15476), ('scopus', 19343), ('dare', 4989), ('cinahl', 3491), ('reviewed', 18798), ('december', 5076), ('duplicated', 6235), ('deleted', 5220), ('titles', 21853), ('abstracts', 84), ('full', 8303), ('text', 21536), ('eliminated', 6575), ('leading', 11545), ('date', 5004), ('dentists', 5332), ('engage', 6806), ('decisions', 5090), ('aspects', 1376), ('discussion', 5835), ('discussing', 5834), ('interacted', 10580), ('poorly', 16714), ('emphasis', 6652), ('contributions', 4372), ('understood', 22656), ('exploring', 7412), ('existed', 7326), ('examining', 7250), ('consent', 4217), ('deciding', 5084), ('wish', 23560), ('places', 16422), ('microgroove', 12847), ('parameter', 15647), ('settings', 19610), ('hierarchical', 9266), ('scc', 19279), ('epithelial', 6970), ('gingivalis', 8580), ('sealing', 19393), ('scoring', 19347), ('groove', 8821), ('decorating', 5112), ('choice', 3436), ('preliminarily', 17041), ('proved', 17490), ('feasible', 7670), ('screening', 19359), ('problem', 17232), ('depends', 5370), ('anatomic', 871), ('individualized', 10260), ('offer', 14718), ('custom', 4873), ('microscale', 12945), ('unclear', 22582), ('situation', 19925), ('fabricating', 7526), ('lilacs', 11706), ('library', 11656), ('prototyping', 17475), ('beam', 1872), ('melting', 12521), ('title', 21851), ('summary', 20973), ('read', 18007), ('completely', 3958), ('owing', 15485), ('descriptive', 5435), ('solve', 20131), ('problems', 17235), ('diverse', 5991), ('defined', 5164), ('editorial', 6396), ('council', 4563), ('journal', 11158), ('geometric', 8530), ('shapes', 19668), ('tri', 22264), ('oval', 15391), ('strongest', 20711), ('bear', 1877), ('external', 7455), ('circular', 3501), ('alteration', 707), ('maxima', 12333), ('minima', 13110), ('less', 11608), ('accrual', 162), ('occlusal', 14647), ('dip', 5726), ('eventually', 7195), ('throughout', 21707), ('collectively', 3790), ('chemically', 3372), ('sae', 19119), ('mechanism', 12430), ('helps', 9127), ('adin', 338), ('spss', 20358), ('statistics', 20492), ('windows', 23547), ('version', 23124), ('ibm', 9754), ('corp', 4483), ('armonk', 1271), ('ny', 14564), ('usa', 22940), ('fastest', 7617), ('severely', 19626), ('unpleasant', 22803), ('sequelae', 19558), ('few', 7729), ('attain', 1498), ('membranes', 12527), ('ridge', 18879), ('contour', 4341), ('root', 18985), ('aids', 553), ('retaining', 18717), ('ligament', 11684), ('buccofacial', 2700), ('aspect', 1375), ('lingual', 11737), ('maintains', 12109), ('aesthetics', 446), ('partially', 15682), ('yttria', 23737), ('tetragonal', 21529), ('polycrystals', 16622), ('tzp', 22470), ('ceria', 3259), ('nanocomposite', 13745), ('ce', 3166), ('nanosecond', 13831), ('pulsed', 17616), ('regular', 18303), ('concave', 4035), ('convex', 4411), ('black', 2352), ('atoms', 1476), ('grid', 8809), ('blastedhf', 2362), ('toward', 22012), ('march', 12229), ('rtq', 19062), ('pi', 16317), ('biologic', 2181), ('bw', 2772), ('ncm', 13936), ('estimated', 7104), ('confounding', 4163), ('duration', 6244), ('qualitative', 17725), ('assumed', 1425), ('quantitatively', 17741), ('tended', 21456), ('importantly', 10080), ('predominantly', 17006), ('superelastic', 20990), ('niobium', 14138), ('tantalum', 21323), ('advantageous', 413), ('physico', 16297), ('close', 3633), ('microprobe', 12922), ('abstract', 83), ('oh', 14733), ('play', 16487), ('treatments', 22247), ('white', 23497), ('polygonal', 16643), ('actin', 250), ('correspondence', 4507), ('introduced', 10861), ('initiate', 10412), ('histo', 9311), ('morphometric', 13407), ('generally', 8486), ('sockets', 20089), ('beagles', 1871), ('microelectrode', 12812), ('sympathetic', 21202), ('nerves', 14024), ('infraorbital', 10363), ('sided', 19774), ('evoke', 7214), ('electric', 6495), ('electrical', 6496), ('stimulated', 20592), ('worth', 23635), ('originally', 14959), ('living', 11795), ('carrying', 3021), ('now', 14496), ('said', 19133), ('regarded', 18266), ('movement', 13459), ('osseointegrate', 15081), ('regenerate', 18271), ('general', 8481), ('essential', 7082), ('pathology', 15756), ('school', 19301), ('buenos', 2707), ('aires', 565), ('devoted', 5544), ('substitutes', 20866), ('summarizes', 20971), ('experience', 7371), ('includes', 10171), ('focusing', 8042), ('floor', 7958), ('continuing', 4336), ('challenge', 3304), ('biomedicine', 2210), ('contribute', 4367), ('america', 764), ('elucidation', 6599), ('scielo', 19310), ('fulfill', 8298), ('approved', 1193), ('american', 765), ('ethic', 7125), ('iii', 9838), ('least', 11557), ('author', 1587), ('institution', 10513), ('conducive', 4100), ('compensate', 3927), ('dimension', 5699), ('crossover', 4728), ('electromyographic', 6522), ('emg', 6643), ('connectivity', 4201), ('masseter', 12270), ('attachments', 1494), ('retain', 18712), ('overdentures', 15415), ('atrophied', 1487), ('ridges', 18880), ('atrophic', 1486), ('adaptation', 289), ('areas', 1242), ('participant', 15684), ('successively', 20901), ('ball', 1757), ('bar', 1779), ('amplitude', 815), ('cycle', 4899), ('burst', 2751), ('wearing', 23424), ('locator', 11840), ('carrot', 3019), ('cake', 2814), ('foods', 8064), ('noted', 14476), ('exception', 7261), ('except', 7260), ('recommended', 18120), ('retentive', 18726), ('enrolled', 6853), ('osseospeed', 15101), ('ev', 7175), ('astra', 1438), ('tech', 21391), ('dentsply', 5343), ('sirona', 19914), ('simultaneous', 19873), ('repeated', 18474), ('unpaired', 22797), ('integrated', 10550), ('complication', 3977), ('consider', 4233), ('phones', 16202), ('consequences', 4221), ('phone', 16201), ('emitted', 6647), ('phase', 16164), ('grouped', 8834), ('speech', 20261), ('mode', 13251), ('standby', 20452), ('histopathologic', 9346), ('transmitted', 22174), ('pairwise', 15566), ('comparisons', 3919), ('fisher', 7881), ('nonexposed', 14282), ('overuse', 15472), ('delay', 5215), ('fibular', 7799), ('fe', 7665), ('fibula', 7797), ('files', 7822), ('lengths', 11595), ('diameters', 5586), ('representing', 18523), ('von', 23305), ('mises', 13167), ('noticeable', 14482), ('gradually', 8742), ('minimized', 13122), ('pc', 15802), ('xg', 23677), ('coat', 3684), ('cytotoxicity', 4952), ('morphologies', 13405), ('respective', 18647), ('corrosive', 4521), ('medium', 12490), ('accelerated', 107), ('storage', 20628), ('bioglass', 2159), ('si', 19763), ('crack', 4651), ('crucial', 4737), ('unlikely', 22777), ('chemistry', 3377), ('determinatively', 5505), ('promotion', 17358), ('inhibitation', 10398), ('lies', 11666), ('srtio', 20391), ('srcl', 20377), ('diffraction', 5652), ('spectroscopyand', 20256), ('figure', 7816), ('inductively', 10278), ('gave', 8436), ('result', 18695), ('modulation', 13281), ('supposed', 21047), ('overcome', 15409), ('electrospraying', 6542), ('salt', 19142), ('carrier', 3016), ('polymer', 16658), ('polyvinylpyrrolidone', 16699), ('solvents', 20134), ('electrosprayed', 6541), ('pyrolysised', 17690), ('furnace', 8339), ('polymeric', 16660), ('angle', 917), ('wca', 23406), ('xrd', 23690), ('afm', 476), ('sbf', 19219), ('precipitates', 16948), ('investigations', 10906), ('mtt', 13522), ('dp', 6136), ('sp', 20181), ('implying', 10077), ('periodontology', 16013), ('entitled', 6888), ('periodontics', 16005), ('evaluates', 7180), ('defines', 5165), ('etiologic', 7143), ('scaling', 19241), ('planing', 16434), ('mandatory', 12168), ('step', 20532), ('reevaluation', 18212), ('chapters', 3327), ('looking', 11875), ('occlusion', 14649), ('revisited', 18808), ('maintenance', 12111), ('therapeutic', 21586), ('thoroughly', 21671), ('dentifrices', 5325), ('hygiene', 9654), ('editors', 6397), ('convey', 4414), ('nutshell', 14556), ('concepts', 4055), ('entail', 6866), ('century', 3227), ('others', 15328), ('usually', 22959), ('hap', 8974), ('tricalcium', 22280), ('tcp', 21373), ('phosphates', 16211), ('bones', 2487), ('detached', 5476), ('premature', 17050), ('component', 3985), ('detachment', 5478), ('outer', 15359), ('bulk', 2720), ('reinforced', 18329), ('sinter', 19891), ('gradated', 8732), ('producing', 17266), ('compromising', 4019), ('regional', 18282), ('acceleratory', 113), ('phenomenon', 16178), ('rap', 17909), ('turnover', 22429), ('hypothesizing', 9720), ('orthognathic', 14988), ('set', 19607), ('exerts', 7313), ('until', 22875), ('noxious', 14500), ('stimuli', 20600), ('classified', 3570), ('interval', 10757), ('designated', 5443), ('mbr', 12369), ('last', 11471), ('gingivitis', 8581), ('deteriorating', 5497), ('integrity', 10559), ('considerations', 4237), ('addressed', 312), ('prognosis', 17294), ('endosseous', 6774), ('discovered', 5813), ('discovery', 5815), ('genetic', 8501), ('osteoinduction', 15226), ('benefited', 1943), ('genome', 8512), ('osteoprogenitor', 15276), ('immune', 9927), ('osteoclastogenesis', 15172), ('identification', 9794), ('noncoding', 14240), ('rnas', 18933), ('micrornas', 12933), ('controlling', 4383), ('emphasizing', 6659), ('osterix', 15315), ('runt', 19086), ('runx', 19087), ('bmp', 2432), ('smad', 20023), ('monocyte', 13344), ('macrophage', 12045), ('lineage', 11726), ('elucidating', 6598), ('gaps', 8408), ('evident', 7209), ('microrna', 12932), ('nanosilver', 13833), ('attracted', 1527), ('too', 21952), ('poly', 16599), ('dl', 6005), ('lactic', 11392), ('co', 3668), ('glycolic', 8664), ('nspti', 14516), ('methicillin', 12664), ('mrsa', 13487), ('opportunistic', 14860), ('pathogen', 15743), ('pao', 15608), ('masson', 12274), ('trichrome', 22283), ('survived', 21131), ('colony', 3818), ('cfu', 3286), ('prominent', 17344), ('suppressing', 21052), ('activities', 269), ('osteoinductivity', 15229), ('perform', 15959), ('tim', 21778), ('tit', 21834), ('profilometer', 17280), ('historesin', 9350), ('cut', 4881), ('decalcified', 5068), ('histomorphological', 9334), ('deviation', 5531), ('failing', 7566), ('ailing', 555), ('option', 14894), ('branemark', 2570), ('evolved', 7222), ('restoratively', 18675), ('driven', 6179), ('cone', 4117), ('bean', 1876), ('helped', 9124), ('deficiencies', 5158), ('idealize', 9785), ('positioning', 16763), ('horizontal', 9453), ('vertical', 23134), ('discusses', 5833), ('block', 2385), ('particulate', 15698), ('distraction', 5962), ('expansion', 7352), ('algorithm', 607), ('nanostructure', 13843), ('color', 3819), ('expand', 7345), ('safety', 19125), ('yucatan', 23740), ('mini', 13104), ('quadrant', 17712), ('scores', 19346), ('epithelium', 6972), ('delta', 5245), ('irrespective', 10982), ('spacing', 20189), ('favor', 7629), ('predicate', 16978), ('electrochemical', 6500), ('contributes', 4369), ('caps', 2950), ('regard', 18265), ('extremities', 7501), ('prevalent', 17159), ('limbs', 11710), ('nonetheless', 14279), ('equally', 6995), ('today', 21905), ('relating', 18356), ('extremity', 7502), ('anchored', 881), ('comes', 3846), ('eleven', 6567), ('movements', 13460), ('voluntary', 23299), ('felt', 7695), ('apprehensive', 1183), ('relatively', 18363), ('concluded', 4065), ('subject', 20790), ('variability', 23018), ('uncertainty', 22577), ('illustrates', 9874), ('diversity', 5994), ('microspheres', 12968), ('rational', 17935), ('tailor', 21292), ('path', 15741), ('hatching', 9034), ('stripy', 20701), ('bulbous', 2717), ('bs', 2675), ('superposed', 21018), ('culturing', 4824), ('calvaria', 2866), ('preosteoblastic', 17069), ('typical', 22462), ('microstructured', 12977), ('varying', 23036), ('structures', 20720), ('optimum', 14893), ('microstructure', 12976), ('osteointegration', 15233), ('rare', 17915), ('problematic', 17233), ('dominant', 6058), ('comprehensive', 4002), ('reporting', 18510), ('toxicity', 22015), ('online', 14808), ('searching', 19400), ('tools', 21956), ('google', 8705), ('scholar', 19299), ('allergy', 639), ('yellow', 23709), ('nail', 13718), ('syndrome', 21222), ('updated', 22895), ('compiled', 3945), ('expanded', 7348), ('generation', 8491), ('lead', 11542), ('allergic', 637), ('hypersensitivity', 9690), ('pay', 15784), ('aware', 1680), ('diagnose', 5571), ('spite', 20299), ('occurrence', 14664), ('limitation', 11715), ('alloying', 677), ('magnesium', 12076), ('scandium', 19251), ('sc', 19230), ('transform', 22129), ('hexagonal', 9233), ('closed', 3634), ('packed', 15541), ('hcp', 9068), ('bcc', 1844), ('altering', 710), ('routines', 19025), ('usage', 22943), ('comprehensively', 4003), ('phased', 16165), ('incorporate', 10192), ('layered', 11513), ('protect', 17441), ('cytotoxic', 4951), ('mmy', 13226), ('hematology', 9133), ('indexes', 10233), ('hepatic', 9187), ('renal', 18437), ('implied', 10073), ('structured', 20719), ('earth', 6308), ('exhibit', 7320), ('memory', 12529), ('constitutional', 4270), ('biodegradable', 2131), ('testings', 21514), ('organisms', 14938), ('hydrogen', 9602), ('gas', 8415), ('ion', 10929), ('substituted', 20865), ('past', 15725), ('decade', 5064), ('vapor', 23015), ('magnetron', 12083), ('sputtering', 20361), ('pvdms', 17672), ('discharge', 5785), ('power', 16881), ('voltage', 23288), ('elucidated', 6596), ('comings', 3854), ('amorphous', 797), ('crystalline', 4754), ('reproduction', 18534), ('bioapatite', 2088), ('substitution', 20868), ('explains', 7389), ('crystal', 4753), ('outside', 15384), ('cavity', 3113), ('auricular', 1577), ('retrained', 18742), ('insights', 10479), ('gained', 8376), ('percutaneous', 15948), ('conduction', 4104), ('hearing', 9096), ('vistafix', 23243), ('vxi', 23328), ('november', 14492), ('necessity', 13960), ('subjective', 20793), ('glasgow', 8602), ('inventory', 10892), ('gbi', 8440), ('none', 14277), ('skin', 19952), ('adequately', 325), ('ointment', 14749), ('score', 19344), ('every', 7199), ('auricle', 1575), ('satisfied', 19188), ('numbers', 14544), ('preferably', 17022), ('character', 3328), ('draw', 6157), ('multidisciplinary', 13572), ('nanocoating', 13743), ('stored', 20629), ('sodium', 20092), ('chloride', 3430), ('fourth', 8163), ('premolars', 17059), ('heal', 9087), ('mbic', 12361), ('osteoid', 15216), ('oic', 14743), ('tbic', 21363), ('mbafo', 12353), ('oafo', 14569), ('tbafo', 21359), ('surfacex', 21091), ('additional', 305), ('facilitates', 7541), ('dynamics', 6273), ('attributed', 1534), ('hydrophobic', 9614), ('homogeneous', 9419), ('uniform', 22727), ('nanonetwork', 13796), ('tns', 21895), ('enables', 6676), ('establishment', 7091), ('firmer', 7874), ('spm', 20313), ('electrostatic', 6544), ('bsa', 2676), ('fibronectin', 7786), ('hfn', 9246), ('quartz', 17751), ('microbalance', 12751), ('qcm', 17696), ('sensors', 19534), ('absorbance', 75), ('charge', 3345), ('notably', 14471), ('sequential', 19565), ('fluorescence', 7987), ('screws', 19368), ('considerable', 4234), ('orthopedics', 15005), ('optimized', 14890), ('economical', 6347), ('ambient', 741), ('drastic', 6155), ('stainless', 20437), ('steel', 20510), ('biocompatible', 2121), ('matching', 12286), ('attractive', 1531), ('sulfonation', 20948), ('sulfonate', 20946), ('fuel', 8292), ('cast', 3039), ('sulfonated', 20947), ('films', 7835), ('rinsing', 18904), ('immersion', 9908), ('naoh', 13877), ('osteoclastic', 15171), ('bioinspired', 2171), ('pdop', 15838), ('polyphenol', 16681), ('tannic', 21320), ('ptan', 17574), ('nature', 13907), ('ad', 284), ('biomolecular', 2236), ('conjugation', 4189), ('osteoclast', 15170), ('serves', 19596), ('modulate', 13277), ('suppress', 21049), ('dependently', 5368), ('course', 4603), ('observations', 14610), ('contaminations', 4314), ('remnants', 18417), ('relation', 18357), ('superficial', 20994), ('deeper', 5137), ('valleys', 23001), ('peaks', 15845), ('reason', 18047), ('easily', 6312), ('damaged', 4970), ('relate', 18353), ('cosmetic', 4544), ('transcutaneous', 22103), ('sophono', 20158), ('baha', 1745), ('attract', 1525), ('cosmetically', 4545), ('connect', 4195), ('ponto', 16706), ('indirect', 10249), ('processor', 17253), ('db', 5012), ('monitored', 13329), ('sedation', 19441), ('ambulatory', 746), ('hour', 9478), ('inclinations', 10166), ('distributions', 5972), ('delayed', 5216), ('inclination', 10165), ('static', 20480), ('multivectoral', 13633), ('direction', 5739), ('unilaterally', 22734), ('cantilever', 2917), ('sigmamax', 19789), ('sigmamin', 19790), ('micromotion', 12887), ('occurred', 14663), ('tilted', 21776), ('largest', 11457), ('estrogen', 7111), ('menopausal', 12538), ('transforming', 22133), ('postsham', 16840), ('osteoblastogenesis', 15162), ('lay', 11511), ('down', 6113), ('spatio', 20207), ('acidification', 213), ('osteoclasts', 15174), ('adsorb', 396), ('lysis', 12013), ('lysate', 12009), ('abl', 43), ('vigorous', 23198), ('washing', 23377), ('seeding', 19447), ('nadph', 13712), ('oxidase', 15498), ('nox', 14498), ('transcriptase', 22095), ('polymerase', 16659), ('chain', 3299), ('murine', 13642), ('stromal', 20708), ('turned', 22427), ('blocked', 2387), ('antagonist', 985), ('sb', 19213), ('came', 2874), ('nucleus', 14538), ('abls', 49), ('impetus', 10020), ('specifically', 20228), ('adsorbs', 400), ('paramount', 15651), ('innovations', 10446), ('supplement', 21031), ('narrative', 13882), ('details', 5483), ('definition', 5169), ('realized', 18030), ('bodies', 2455), ('fact', 7550), ('protection', 17444), ('microroughness', 12941), ('nanoroughness', 13825), ('tiunite', 21856), ('documented', 6036), ('unproven', 22812), ('promise', 17346), ('seems', 19457), ('encompassing', 6704), ('alter', 705), ('thereby', 21595), ('predictability', 16982), ('coagulation', 3674), ('onset', 14813), ('thrombogenicity', 21702), ('thrombogenic', 21701), ('incubating', 10211), ('heparinized', 9186), ('hemocyte', 9163), ('microscopic', 12948), ('biomarkers', 2194), ('cascade', 3028), ('thrombin', 21696), ('antithrombin', 1069), ('thromboglobulin', 21703), ('differing', 5645), ('extents', 7452), ('augments', 1567), ('dmf', 6017), ('innovatively', 10448), ('cobalt', 3690), ('chromium', 3471), ('cocr', 3702), ('improves', 10106), ('adhere', 326), ('machining', 12032), ('lines', 11735), ('observing', 14615), ('filament', 7819), ('medulla', 12500), ('proliferated', 17327), ('melted', 12520), ('slm', 20003), ('widespread', 23523), ('encourage', 6711), ('tuned', 22414), ('variations', 23027), ('investigates', 10902), ('rotopolishing', 19005), ('silc', 19822), ('cleaning', 3585), ('tension', 21471), ('monotonic', 13370), ('cyclic', 4902), ('profiles', 17278), ('geometries', 8533), ('inherent', 10393), ('mismatch', 13176), ('tinb', 21796), ('hypothesize', 9717), ('hmsc', 9375), ('peroxide', 16072), ('electrolyte', 6514), ('lsm', 11939), ('nanoindentation', 13775), ('hmcs', 9369), ('hardness', 8998), ('focal', 8037), ('complexes', 3965), ('solidity', 20119), ('pseudopodia', 17547), ('alizarin', 619), ('red', 18178), ('stainings', 20436), ('stimulate', 20591), ('stiff', 20582), ('silicate', 19828), ('casi', 3033), ('route', 19021), ('cover', 4611), ('electrospray', 6540), ('annealing', 949), ('air', 562), ('analytical', 856), ('neutral', 14071), ('raman', 17883), ('rutile', 19099), ('consisting', 4247), ('annealed', 948), ('aesthetic', 443), ('opacity', 14822), ('unique', 22748), ('mimic', 13079), ('critically', 4709), ('words', 23605), ('mesh', 12570), ('graded', 8736), ('gritblasting', 8818), ('cvd', 4889), ('pvd', 17671), ('dopamine', 6075), ('encouraging', 6714), ('consequent', 4222), ('fulfilling', 8300), ('needs', 13974), ('largely', 11455), ('decipher', 5088), ('enlargement', 6835), ('apex', 1108), ('enriched', 6849), ('nonporous', 14371), ('collar', 3779), ('micropores', 12917), ('elsewhere', 6592), ('friendly', 8260), ('dry', 6197), ('packaging', 15540), ('balance', 1753), ('balancing', 1755), ('discoveries', 5814), ('nanopatterns', 13805), ('sizes', 19936), ('chance', 3313), ('quest', 17762), ('ongoing', 14802), ('functionalities', 8314), ('ebid', 6324), ('accurate', 173), ('reproducible', 18531), ('decoration', 5113), ('silicon', 19834), ('supplements', 21037), ('disorder', 5868), ('nanopillar', 13808), ('evidenced', 7206), ('disrupted', 5902), ('substance', 20853), ('nanotechnology', 13854), ('multi', 13560), ('lt', 11941), ('pla', 16412), ('regenerated', 18272), ('affinity', 460), ('piii', 16352), ('dc', 5024), ('makes', 12117), ('tangible', 21316), ('wet', 23469), ('ameliorated', 750), ('endings', 6731), ('nervous', 14025), ('denervation', 5290), ('capsaicin', 2951), ('normal', 14452), ('observe', 14611), ('separation', 19549), ('binding', 2071), ('innervation', 10441), ('hydrofluoric', 9598), ('coins', 3756), ('fold', 8048), ('osteoprotegerin', 15284), ('media', 12460), ('indirectly', 10250), ('firm', 7873), ('junction', 11178), ('give', 8587), ('osseous', 15107), ('prp', 17518), ('pretreatment', 17151), ('bioaffinity', 2087), ('plates', 16479), ('fibrinogen', 7766), ('fgn', 7745), ('willebrand', 23538), ('vwf', 23327), ('fn', 8028), ('citrated', 3532), ('volunteers', 23303), ('suspensions', 21145), ('buffered', 2709), ('pbs', 15800), ('plate', 16469), ('phalloidin', 16146), ('tetrazolium', 21533), ('dye', 6262), ('immunocytochemical', 9943), ('platelets', 16475), ('disturbed', 5978), ('abundantly', 90), ('efficiently', 6434), ('stabilization', 20412), ('involvement', 10918), ('dna', 6024), ('methylation', 12678), ('elusive', 6601), ('profiling', 17279), ('illumina', 9868), ('infinium', 10326), ('epic', 6935), ('beadchip', 1865), ('cpg', 4634), ('methylated', 12677), ('hypermethylated', 9684), ('hypomethylated', 9709), ('enrichment', 6851), ('wnt', 23583), ('igf', 9821), ('carboxypeptidase', 2989), ('family', 7590), ('member', 12523), ('cpxm', 4648), ('eur', 7159), ('sci', 19307), ('autoclavation', 1601), ('roots', 18987), ('tr', 22031), ('assigned', 1406), ('quadrants', 17713), ('bd', 1856), ('bc', 1841), ('aa', 1), ('vestibular', 23145), ('exposures', 7425), ('marked', 12239), ('cups', 4833), ('interposition', 10716), ('sawbone', 19206), ('interposed', 10714), ('fatty', 7624), ('fibrous', 7793), ('rim', 18894), ('millimeter', 13068), ('hemispherical', 9160), ('stryker', 20728), ('mahwah', 12095), ('nj', 14160), ('reamed', 18036), ('cavities', 3112), ('shells', 19700), ('seated', 19404), ('lever', 11635), ('spaced', 20184), ('evenly', 7188), ('eccentrically', 6336), ('forced', 8074), ('opposite', 14865), ('pole', 16586), ('secure', 19433), ('society', 20083), ('orthop', 14993), ('res', 18558), ('thumb', 21713), ('donor', 6069), ('thirteen', 21659), ('started', 20470), ('standardized', 20450), ('osseoperception', 15094), ('jamar', 11102), ('operated', 14835), ('unaffected', 22545), ('necessitating', 13959), ('refined', 18233), ('far', 7594), ('durable', 6242), ('severe', 19625), ('intensive', 10570), ('osteoimmunomodulation', 15222), ('transited', 22145), ('lysozyme', 12016), ('ptl', 17583), ('prime', 17188), ('hyaluronate', 9576), ('assembled', 1389), ('aspirin', 1384), ('asa', 1342), ('decorated', 5111), ('primed', 17189), ('macrophages', 12046), ('mirrors', 13155), ('establishing', 7090), ('osteoimmunomodulatory', 15223), ('zro', 23805), ('unfortunately', 22706), ('achieves', 203), ('difficultly', 5649), ('contain', 4300), ('zsa', 23807), ('conjunction', 4190), ('immobilized', 9922), ('linker', 11745), ('procyanidin', 17259), ('featured', 7672), ('steadier', 20505), ('prolonged', 17337), ('akt', 573), ('phosphoinositide', 16218), ('immobilize', 9921), ('back', 1709), ('carved', 3026), ('bamboo', 1767), ('pegs', 15882), ('ancient', 885), ('verified', 23112), ('mid', 13021), ('profoundly', 17285), ('enormously', 6841), ('concentrating', 4049), ('finding', 7851), ('shifting', 19715), ('taking', 21304), ('biomed', 2207), ('mater', 12287), ('requirements', 18549), ('describes', 5431), ('nasal', 13889), ('planned', 16436), ('guides', 8870), ('substructure', 20875), ('copy', 4455), ('milled', 13064), ('prototypes', 17474), ('spectrophotometry', 20251), ('computerized', 4032), ('silicone', 19835), ('base', 1797), ('eye', 7514), ('retention', 18724), ('appointment', 1162), ('workflow', 23613), ('ingredients', 10382), ('continually', 4331), ('concentrated', 4047), ('nanozr', 13875), ('bending', 1936), ('toughness', 22010), ('polychrome', 16619), ('fluorescent', 7988), ('computer', 4029), ('unmodified', 22784), ('chinese', 3419), ('icariin', 9762), ('abilities', 39), ('nanotube', 13869), ('cannot', 2910), ('meet', 12503), ('plga', 16511), ('overlay', 15441), ('mixing', 13204), ('manifested', 12187), ('extended', 7440), ('epidermal', 6942), ('keratinocytes', 11235), ('steps', 20536), ('top', 21961), ('dynamic', 6270), ('adhering', 330), ('upstream', 22919), ('keratinocyte', 11234), ('dissipation', 5919), ('monitoring', 13330), ('module', 13286), ('setup', 19615), ('bottom', 2526), ('envision', 6910), ('unsolved', 22854), ('picture', 16335), ('endoprosthetic', 6761), ('initiation', 10416), ('explants', 7397), ('proteome', 17460), ('stems', 20526), ('explanted', 7396), ('frozen', 8275), ('eluted', 6603), ('lc', 11526), ('peptide', 15923), ('consist', 4241), ('origin', 14957), ('specificity', 20232), ('transcriptome', 22100), ('abundant', 89), ('hemoglobin', 9165), ('detailed', 5481), ('vch', 23070), ('gmbh', 8675), ('kgaa', 11251), ('weinheim', 23447), ('intrasurgical', 10841), ('big', 2043), ('nonsteroidal', 14411), ('nsaids', 14512), ('prescribed', 17097), ('managing', 12164), ('nsaid', 14511), ('conflicting', 4145), ('cox', 4625), ('precisely', 16954), ('practical', 16913), ('aid', 550), ('msc', 13491), ('adsc', 394), ('titania', 21839), ('interact', 10579), ('bioengineering', 2142), ('biotechnology', 2296), ('anatomical', 872), ('alloplastic', 664), ('forward', 8139), ('prosthetics', 17430), ('debated', 5055), ('biomimetics', 2221), ('fabric', 7523), ('meant', 12411), ('respond', 18651), ('attack', 1495), ('true', 22358), ('searched', 19398), ('january', 11106), ('nanosurface', 13847), ('latter', 11499), ('avant', 1646), ('garde', 8410), ('works', 23619), ('biotechnologies', 2295), ('you', 23726), ('make', 12115), ('huge', 9543), ('obstacle', 14617), ('pathologies', 15754), ('infiltration', 10323), ('eliminate', 6574), ('nanotechnologies', 13853), ('reconstructions', 18139), ('papers', 15611), ('prokaryotic', 17323), ('lymphocyte', 11994), ('ostensibly', 15145), ('initiated', 10413), ('lymphocytes', 11995), ('possessed', 16771), ('activate', 259), ('fgf', 7741), ('blocking', 2389), ('erk', 7035), ('supernatant', 21013), ('reversed', 18791), ('pivotal', 16401), ('phenomena', 16173), ('biofunctional', 2149), ('positioned', 16762), ('articular', 1321), ('fixtures', 7912), ('histomorphometrical', 9339), ('appeared', 1141), ('fixture', 7911), ('covalently', 4607), ('analyse', 848), ('hormone', 9456), ('hrt', 9515), ('humans', 9547), ('june', 11183), ('observational', 14609), ('interventional', 10765), ('cal', 2815), ('pocket', 16561), ('ppd', 16894), ('rbl', 17957), ('fifteen', 7810), ('postmenopausal', 16812), ('inconsistent', 10187), ('prescription', 17100), ('purposes', 17646), ('mscs', 13492), ('isolated', 11025), ('craniofacial', 4663), ('embryological', 6630), ('neural', 14034), ('represent', 18517), ('mch', 12381), ('resorbable', 18629), ('rbm', 17958), ('nca', 13928), ('fasl', 7609), ('interestingly', 10631), ('confirming', 4141), ('reflect', 18238), ('behaviours', 1915), ('immunomodulation', 9970), ('lasers', 11468), ('numerous', 14549), ('conservative', 4226), ('aluminium', 728), ('bed', 1891), ('brings', 2629), ('injury', 10431), ('positively', 16766), ('hemostasis', 9178), ('performing', 15963), ('impressions', 10097), ('implementation', 10064), ('federation', 7679), ('dentaire', 5315), ('internationale', 10696), ('fdi', 7662), ('notation', 14472), ('employment', 6665), ('scalpel', 19247), ('uncovering', 22603), ('variable', 23019), ('rethink', 18728), ('cutting', 4887), ('drills', 6174), ('rotational', 19001), ('velocity', 23096), ('obviating', 14633), ('irrigation', 10991), ('coolant', 4421), ('consequently', 4224), ('flutes', 8015), ('autologous', 1616), ('chips', 3423), ('coagulum', 3675), ('osteotomies', 15305), ('preserve', 17112), ('ligature', 11694), ('zla', 23785), ('alternately', 714), ('mandibles', 12172), ('canines', 2906), ('restored', 18677), ('unloaded', 22779), ('stopped', 20624), ('placing', 16423), ('ligatures', 11696), ('plaque', 16447), ('accumulate', 165), ('spontaneous', 20332), ('radiographs', 17833), ('detectable', 5487), ('dilemma', 5691), ('ovx', 15481), ('sheep', 19694), ('merely', 12554), ('mt', 13512), ('nt', 14518), ('mnt', 13232), ('hbmmscs', 9056), ('constitute', 4265), ('polyethylene', 16632), ('glycol', 8663), ('peg', 15879), ('solvent', 20133), ('pegasos', 15880), ('clearing', 3596), ('immersing', 9907), ('substances', 20854), ('transparent', 22184), ('intact', 10541), ('endogenous', 6750), ('preserved', 17113), ('transgenic', 22138), ('labelling', 11360), ('visualized', 23251), ('labels', 11361), ('disturbing', 5979), ('channel', 3320), ('image', 9882), ('stacks', 20424), ('acquired', 229), ('quantified', 17732), ('visualization', 23249), ('hemocompatibility', 9162), ('procured', 17258), ('manufacturers', 12211), ('sintered', 19892), ('carbide', 2965), ('pm', 16535), ('polish', 16591), ('specimen', 20235), ('rinsed', 18902), ('remnant', 18416), ('polishing', 16593), ('ultrasonic', 22515), ('distilled', 5939), ('microns', 12893), ('hydrochloric', 9595), ('hemolysis', 9167), ('prothrombin', 17466), ('aggregation', 517), ('added', 300), ('count', 4567), ('leucocyte', 11621), ('know', 11303), ('destruct', 5470), ('modsla', 13273), ('circumferential', 3510), ('allograft', 659), ('mcba', 12373), ('maxgraft', 12318), ('sbbm', 19217), ('cerabone', 3240), ('roxolid', 19031), ('distance', 5935), ('shoulder', 19745), ('aggregate', 513), ('fbic', 7646), ('reach', 17989), ('uses', 22953), ('intentionally', 10576), ('likelihood', 11702), ('clearchoice', 3592), ('center', 3205), ('minneapolis', 13137), ('category', 3066), ('actually', 273), ('provisional', 17501), ('succeeded', 20892), ('sectional', 19427), ('gather', 8423), ('opinion', 14853), ('brazilian', 2576), ('specialists', 20220), ('orthodontics', 14985), ('malocclusion', 12146), ('participated', 15687), ('telephone', 21422), ('item', 11072), ('request', 18542), ('skull', 19955), ('tomographies', 21940), ('software', 20101), ('moment', 13316), ('plan', 16426), ('waiting', 23340), ('mind', 13088), ('anticipating', 1029), ('orthodontic', 14983), ('unfavourable', 22700), ('got', 8710), ('specialist', 20219), ('obtaining', 14625), ('specialty', 20225), ('exercise', 7307), ('specialties', 20224), ('wait', 23338), ('interviewed', 10769), ('acquire', 228), ('sns', 20072), ('sympathectomy', 21201), ('hydroxydopamine', 9633), ('intraperitoneal', 10831), ('histomorphometry', 9342), ('links', 11748), ('histomorphologic', 9333), ('counts', 4595), ('consideration', 4236), ('modality', 13249), ('accepted', 123), ('awareness', 1681), ('attitude', 1523), ('acceptance', 122), ('visiting', 23240), ('college', 3792), ('dharwad', 5560), ('sciences', 19313), ('sdmcdsh', 19384), ('explanatory', 7392), ('individuals', 10262), ('knew', 11296), ('dentist', 5330), ('relatives', 18364), ('friends', 8261), ('disapproved', 5767), ('afford', 467), ('expensive', 7370), ('accept', 118), ('public', 17597), ('biology', 2186), ('insert', 10466), ('perhaps', 15967), ('why', 23511), ('sometimes', 20143), ('advice', 423), ('correct', 4491), ('osteoimmunobiology', 15220), ('vision', 23237), ('equilibrium', 7008), ('susceptible', 21139), ('proposals', 17400), ('mechanotransduction', 12452), ('coupling', 4599), ('suffers', 20914), ('undertaken', 22659), ('aided', 551), ('lipomodeling', 11757), ('massive', 12272), ('recurrence', 18172), ('hemimandible', 9150), ('cervical', 3268), ('resect', 18571), ('away', 1682), ('refusal', 18256), ('lipofilling', 11754), ('esthetically', 7100), ('fitting', 7893), ('require', 18546), ('endowing', 6786), ('pda', 15823), ('aroused', 1277), ('biometal', 2214), ('bioceramic', 2101), ('responsive', 18661), ('detail', 5480), ('exerted', 7311), ('fak', 7573), ('bsp', 2685), ('considerably', 4235), ('uncovered', 22602), ('affirmed', 462), ('innovative', 10447), ('ways', 23402), ('innovation', 10445), ('offered', 14719), ('conveniently', 4395), ('multipoint', 13613), ('transported', 22196), ('intraoperatively', 10821), ('hounsfield', 9477), ('hu', 9538), ('mental', 12540), ('ctmi', 4794), ('preoperatively', 17065), ('likewise', 11705), ('conversion', 4405), ('expected', 7358), ('upwards', 22926), ('correlate', 4498), ('curves', 4861), ('assignment', 1408), ('domestic', 6056), ('pta', 17573), ('rods', 18963), ('mmx', 13225), ('condyle', 4113), ('slices', 19988), ('disperse', 5880), ('xeds', 23667), ('package', 15537), ('loosing', 11888), ('chimeric', 3411), ('closer', 3636), ('inner', 10439), ('grew', 8805), ('denser', 5303), ('percent', 15930), ('ongrowth', 14803), ('cancer', 2897), ('chemotherapies', 3388), ('fewer', 7730), ('antiangiogenic', 1013), ('fourteen', 8162), ('avastin', 1648), ('doses', 6094), ('bevacizumab', 1980), ('intraperitoneally', 10832), ('mobilisation', 13235), ('acousto', 225), ('wave', 23388), ('propagation', 17376), ('explores', 7411), ('integrating', 10553), ('extension', 7445), ('illustrate', 9872), ('unification', 22725), ('core', 4471), ('wrapped', 23650), ('plasticine', 16464), ('damped', 4974), ('adhesive', 335), ('epoxy', 6982), ('piezoelectric', 16343), ('serve', 19594), ('actuators', 278), ('actuating', 276), ('extramedullary', 7479), ('strut', 20726), ('excited', 7280), ('mhz', 12726), ('pulse', 17615), ('reception', 18090), ('sensing', 19522), ('located', 11836), ('furthest', 8346), ('struts', 20727), ('parent', 15665), ('formulated', 8122), ('damping', 4979), ('waves', 23394), ('prestressed', 17134), ('nuances', 14527), ('uncommon', 22586), ('endoprostheses', 6759), ('adds', 315), ('endoprosthesis', 6760), ('dose', 6092), ('restrict', 18686), ('organic', 14933), ('chelators', 3370), ('chelating', 3367), ('epidermidis', 6943), ('escherichia', 7066), ('biosafety', 2269), ('nearby', 13950), ('modify', 13270), ('ogp', 14732), ('nac', 13707), ('conjugating', 4188), ('acetylcysteine', 196), ('functionalize', 8317), ('introducing', 10863), ('raw', 17944), ('kind', 11270), ('secreting', 19420), ('nf', 14097), ('kappab', 11205), ('nfat', 14099), ('offers', 14721), ('mediate', 12468), ('osteoimmunology', 15221), ('conditioning', 4098), ('apparently', 1133), ('publication', 17598), ('suppression', 21053), ('postsurgery', 16843), ('localized', 11833), ('fabricate', 7524), ('nanotubular', 13871), ('tiag', 21725), ('nts', 14525), ('concern', 4059), ('condylar', 4112), ('believe', 1925), ('cold', 3758), ('frontal', 8269), ('label', 11356), ('interthread', 10754), ('periimplant', 15984), ('concentric', 4052), ('bands', 1773), ('chronological', 3479), ('homogenous', 9426), ('unwanted', 22886), ('merit', 12560), ('argon', 1252), ('pji', 16407), ('formidable', 8116), ('extensively', 7448), ('pursued', 17648), ('defensin', 5151), ('mbd', 12358), ('wages', 23335), ('fight', 7814), ('yields', 23718), ('exerting', 7312), ('broad', 2638), ('paves', 15781), ('physio', 16302), ('lyophilization', 12004), ('etc', 7116), ('network', 14031), ('endows', 6787), ('prove', 17489), ('supplementary', 21033), ('proves', 17492), ('hot', 9471), ('potato', 16855), ('yielding', 23717), ('salvage', 19144), ('practiced', 16917), ('sarcoma', 19174), ('modalities', 13248), ('modes', 13261), ('alterations', 708), ('manuscript', 12213), ('principles', 17198), ('tec', 21390), ('advancement', 408), ('oncology', 14797), ('translation', 22158), ('bedside', 1893), ('connected', 4196), ('complaints', 3950), ('scheduled', 19290), ('elevation', 6563), ('overdenture', 15414), ('differ', 5632), ('inferior', 10315), ('ntr', 14524), ('adherent', 329), ('accompanied', 140), ('definite', 5167), ('undetermined', 22669), ('clodronate', 3629), ('deplete', 5375), ('microgram', 12842), ('depleted', 5376), ('mul', 13552), ('sacrifice', 19111), ('lipclod', 11750), ('injected', 10423), ('buffer', 2708), ('empty', 6667), ('lip', 11749), ('radiologically', 17841), ('ccr', 3154), ('phenotype', 16179), ('rest', 18665), ('rankl', 17906), ('pcr', 15818), ('infiltrated', 10320), ('slightly', 19995), ('activating', 262), ('attenuated', 1516), ('severity', 19628), ('depletion', 5378), ('polarization', 16582), ('remolding', 18426), ('involves', 10919), ('vital', 23256), ('stimulating', 20594), ('psychiatric', 17560), ('li', 11648), ('canonical', 2912), ('catenin', 3067), ('blotting', 2399), ('opg', 14846), ('homeostasis', 9410), ('manipulated', 12191), ('implantion', 10040), ('microporous', 12920), ('scaning', 19252), ('fsem', 8280), ('nonirradiated', 14317), ('get', 8548), ('hbo', 9060), ('vegf', 23082), ('mortality', 13419), ('experiment', 7375), ('ocn', 14670), ('ps', 17524), ('ss', 20392), ('ossseointegration', 15124), ('attended', 1511), ('tohoku', 21912), ('excluding', 7285), ('placements', 16420), ('oads', 14568), ('receiver', 18081), ('sound', 20166), ('drilled', 6170), ('cranium', 4669), ('undergone', 22626), ('simplification', 19858), ('candidacy', 2902), ('processors', 17254), ('recombinant', 18114), ('rhbmp', 18843), ('preovariectomy', 17072), ('postovariectomy', 16822), ('kit', 11280), ('embedded', 6615), ('killed', 11262), ('hematoxylin', 9137), ('eosin', 6924), ('spectrometer', 20244), ('metaphyses', 12635), ('phosphorous', 16231), ('sulfur', 20951), ('osteoconduction', 15179), ('extending', 7442), ('thorough', 21670), ('hz', 9733), ('keronitetm', 11239), ('near', 13949), ('parallel', 15640), ('foetal', 8044), ('fhob', 7751), ('metabolic', 12600), ('mineralisation', 13092), ('monocytes', 13345), ('interdigitation', 10626), ('rigorous', 18889), ('sonication', 20148), ('facilitating', 7542), ('impeding', 10011), ('untoward', 22877), ('cage', 2809), ('redmond', 18189), ('discectomy', 5779), ('acdf', 176), ('prospectively', 17415), ('senior', 19513), ('cages', 2810), ('sterilized', 20566), ('original', 14958), ('unavailable', 22559), ('delamination', 5214), ('demonstrates', 5280), ('australia', 1583), ('arthrodesis', 1307), ('try', 22369), ('find', 7850), ('uncontaminated', 22596), ('centre', 3217), ('conclude', 4064), ('compromise', 4016), ('distant', 5938), ('salivary', 19140), ('avoided', 1670), ('british', 2633), ('primarily', 17184), ('players', 16489), ('complement', 3951), ('innate', 10438), ('immunity', 9932), ('physiology', 16307), ('adiponectin', 346), ('apn', 1120), ('utilize', 22969), ('administers', 366), ('transgene', 22137), ('transduced', 22109), ('adenovirus', 321), ('egfp', 6442), ('precursor', 16968), ('secreted', 19419), ('slice', 19986), ('hemotoxylin', 9179), ('ebp', 6326), ('ameliorate', 749), ('adenoviral', 320), ('delivery', 5243), ('ameliorates', 751), ('installing', 10497), ('mimicking', 13081), ('fragments', 8202), ('alternate', 712), ('facility', 7545), ('purification', 17635), ('combine', 3839), ('fragment', 8197), ('hbii', 9051), ('mixed', 13202), ('molecule', 13308), ('install', 10493), ('rgd', 18832), ('mutation', 13660), ('mutations', 13661), ('guiding', 8871), ('bonds', 2477), ('disk', 5855), ('glutamic', 8644), ('nanorods', 13822), ('nha', 14110), ('alb', 581), ('fourier', 8160), ('transformed', 22131), ('infrared', 10365), ('plants', 16445), ('nanorod', 13821), ('nanofibrous', 13763), ('intrinsic', 10858), ('mimics', 13083), ('niche', 14119), ('onfc', 14800), ('caprolactone', 2949), ('ascorbic', 1350), ('glycerophosphate', 8658), ('steer', 20516), ('diffractometry', 5657), ('biomineralization', 2228), ('holds', 9391), ('easy', 6315), ('marking', 12247), ('era', 7022), ('electrospun', 6543), ('creating', 4686), ('intimate', 10777), ('jcm', 11118), ('arithmetical', 1263), ('ra', 17793), ('rq', 19042), ('orientation', 14951), ('uniformly', 22729), ('gaussian', 8431), ('skewness', 19947), ('kurtosis', 11344), ('tells', 21429), ('marginally', 12232), ('lesson', 11612), ('nonloaded', 14326), ('sulcus', 20941), ('crevicular', 4703), ('parathyroid', 15661), ('pth', 17581), ('lysine', 12012), ('pll', 16515), ('catechol', 3060), ('schiff', 19295), ('amino', 776), ('monomers', 13356), ('aldehyde', 596), ('dihydroxybenzylaldehyde', 5686), ('dhba', 5561), ('cathodic', 3074), ('electrophoretic', 6530), ('charging', 3348), ('bioceramics', 2103), ('sub', 20751), ('micron', 12892), ('lifespan', 11672), ('electrodeposition', 6505), ('carbonate', 2970), ('ap', 1095), ('dissolution', 5923), ('granules', 8769), ('granule', 8768), ('panoramic', 15606), ('abnormal', 51), ('swelling', 21182), ('residual', 18599), ('deficient', 5160), ('destruction', 5471), ('microarc', 12746), ('mao', 12216), ('theoretical', 21581), ('prospects', 17416), ('decontamination', 5109), ('always', 737), ('removing', 18435), ('eliminating', 6577), ('yattrium', 23703), ('curette', 4842), ('chlorhexidine', 3429), ('pectrophotometer', 15857), ('aerobic', 436), ('microorganisms', 12895), ('cfus', 3287), ('anaerobic', 834), ('kruskal', 11333), ('wallis', 23353), ('mechanicals', 12427), ('chx', 3481), ('biofilms', 2147), ('roughed', 19008), ('see', 19444), ('display', 5890), ('mucositis', 13544), ('necessarily', 13954), ('lose', 11895), ('defense', 5150), ('steady', 20507), ('authored', 1588), ('contribution', 4371), ('documents', 6038), ('elicit', 6569), ('demarcation', 5265), ('survive', 21130), ('environments', 6907), ('immunological', 9968), ('actions', 257), ('automatic', 1620), ('diagnostics', 5577), ('instances', 10500), ('instead', 10504), ('indicative', 10243), ('represented', 18522), ('counteracted', 4571), ('evolve', 7221), ('reactivation', 18001), ('balanced', 1754), ('counterbalanced', 4575), ('ensue', 6857), ('attacks', 1497), ('act', 247), ('theory', 21584), ('apprehension', 1182), ('compartments', 3921), ('bicortically', 2029), ('diaphysis', 5598), ('sutured', 21160), ('compartment', 3920), ('morphometry', 13410), ('restrictions', 18690), ('hub', 9539), ('ebscohost', 6328), ('references', 18223), ('english', 6820), ('language', 11446), ('excluded', 7283), ('screenings', 19360), ('reviewers', 18800), ('biocompability', 2118), ('chances', 3314), ('inflammations', 10332), ('hazardous', 9043), ('nicotine', 14125), ('biofunction', 2148), ('habmmscs', 8897), ('smokers', 20051), ('nonsmokers', 14402), ('oil', 14746), ('ectopically', 6362), ('inductions', 10276), ('multilineage', 13589), ('besides', 1964), ('checked', 3360), ('poorer', 16712), ('worse', 23630), ('earliest', 6304), ('popularity', 16719), ('surfaced', 21089), ('opposing', 14864), ('photographs', 16269), ('underneath', 22638), ('cantilevers', 2919), ('prosthodontists', 17437), ('swine', 21184), ('pullout', 17608), ('belonging', 1929), ('historical', 9352), ('reproducibility', 18530), ('kinetics', 11275), ('older', 14759), ('normalization', 14455), ('normalized', 14457), ('disappeared', 5763), ('ages', 504), ('construed', 4285), ('submicron', 20817), ('scaled', 19237), ('possesses', 16772), ('arc', 1225), ('shortens', 19734), ('ht', 9530), ('anatase', 870), ('crystallinities', 4755), ('microwave', 13020), ('mwdd', 13675), ('ph', 16134), ('mediums', 12491), ('mwcp', 13674), ('ftir', 8286), ('tem', 21431), ('crystals', 4764), ('spikes', 20284), ('precipitate', 16946), ('crystallinity', 4756), ('sheet', 19696), ('viabilities', 23158), ('th', 21559), ('nanomorphologies', 13793), ('retains', 18719), ('contents', 4321), ('ebm', 6325), ('rails', 17873), ('handling', 8961), ('lordosis', 11891), ('transforaminal', 22128), ('tlif', 21877), ('plif', 16514), ('routinely', 19024), ('cts', 4798), ('flexion', 7951), ('segmental', 19461), ('endplates', 6789), ('registered', 18286), ('learning', 11556), ('curve', 4859), ('follows', 8060), ('radius', 17869), ('addressing', 314), ('endplate', 6788), ('stomatological', 20618), ('paid', 15556), ('believed', 1926), ('regulatory', 18313), ('reparative', 18469), ('pcna', 15813), ('immunoreactive', 9972), ('sampled', 19151), ('immunoreactivity', 9974), ('outnumbered', 15371), ('vicinity', 23177), ('subpopulations', 20835), ('chondroblasts', 3445), ('osteocytes', 15188), ('proliferative', 17331), ('carriers', 3017), ('enoxacin', 6846), ('slow', 20009), ('chromatography', 3469), ('hyaluronic', 9577), ('col', 3757), ('hya', 9571), ('predominant', 17005), ('specialised', 20218), ('weighing', 23441), ('apices', 1114), ('chosen', 3462), ('instinct', 10507), ('bovenden', 2535), ('histomorphometrically', 9340), ('enabled', 6675), ('characterize', 3339), ('accurately', 174), ('preserves', 17114), ('permit', 16059), ('decalcification', 5067), ('assessing', 1398), ('rfs', 18830), ('nobelactive', 14181), ('subdivision', 20777), ('kaplan', 11203), ('meier', 12511), ('interproximal', 10724), ('compensated', 3928), ('polyamide', 16604), ('takes', 21303), ('ultrasound', 22522), ('nodule', 14197), ('he', 9076), ('devastating', 5521), ('collection', 3788), ('staphylococci', 20462), ('analyzing', 862), ('adherence', 328), ('anin', 934), ('emulating', 6671), ('compares', 3915), ('np', 14502), ('didn', 5621), ('spp', 20341), ('chemokine', 3379), ('sulcular', 20940), ('pisf', 16385), ('piezosurgery', 16345), ('contralateral', 4361), ('edentulism', 6379), ('indices', 10246), ('cbl', 3127), ('plex', 16506), ('immunoassay', 9936), ('brunner', 2664), ('langer', 11444), ('depend', 5359), ('eighteen', 6454), ('interleukine', 10668), ('granulocyte', 8770), ('interferon', 10648), ('ifn', 9816), ('mip', 13148), ('chemoattractant', 3378), ('mcp', 12386), ('ip', 10945), ('monokine', 13349), ('mig', 13046), ('egf', 6441), ('hepatocyte', 9189), ('hgf', 9255), ('vascular', 23038), ('endothelial', 6781), ('multitude', 13628), ('mostly', 13425), ('rantes', 17908), ('biomarker', 2193), ('account', 154), ('piezosurgical', 16346), ('tolerance', 21920), ('bromophenyl', 2650), ('cyclopentyl', 4911), ('octyl', 14681), ('imidazol', 9897), ('amine', 774), ('bound', 2527), ('planktonic', 16435), ('counting', 4592), ('advantage', 412), ('emphasize', 6656), ('covalent', 4606), ('appl', 1146), ('biomater', 2196), ('aryl', 1337), ('aminoimidazole', 785), ('crosslinked', 4724), ('glutaraldehyde', 8645), ('ga', 8364), ('hmscs', 9376), ('kgy', 11252), ('roi', 18971), ('utility', 22967), ('coarse', 3679), ('grained', 8753), ('passivated', 15719), ('oxtein', 15512), ('zaragoza', 23744), ('spain', 20191), ('coding', 3715), ('code', 3707), ('decontaminated', 5107), ('sealed', 19391), ('packages', 15539), ('opened', 14828), ('cultures', 4823), ('rz', 19104), ('rp', 19035), ('rv', 19100), ('rc', 17968), ('throws', 21710), ('spongy', 20330), ('compatible', 3925), ('chorreated', 3460), ('passive', 15722), ('indispensable', 10253), ('lacking', 11387), ('hypothesized', 9718), ('participation', 15690), ('polyether', 16629), ('ether', 7123), ('ketone', 11241), ('copper', 4451), ('proximity', 17517), ('dealing', 5045), ('glycoprotein', 8668), ('transmembrane', 22168), ('coronal', 4480), ('narrower', 13886), ('wider', 23522), ('comprising', 4015), ('foxhounds', 8167), ('periosteal', 16029), ('healed', 9088), ('uneventfully', 22691), ('fill', 7824), ('subcrestal', 20767), ('minor', 13141), ('modest', 13262), ('conversely', 4404), ('thicker', 21634), ('foxhound', 8166), ('shed', 19691), ('transalveolar', 22083), ('cas', 3027), ('hydraulic', 9588), ('jan', 11105), ('july', 11174), ('hangzhou', 8970), ('dropped', 6192), ('perforations', 15958), ('condition', 4093), ('experienced', 7372), ('drop', 6187), ('lifted', 11680), ('happening', 8979), ('eighty', 6456), ('fell', 7693), ('off', 14716), ('easier', 6310), ('saving', 19203), ('lifting', 11681), ('comparatively', 3911), ('concerned', 4060), ('augment', 1560), ('modular', 13275), ('newest', 14090), ('additions', 307), ('portfolio', 16748), ('downsizing', 6126), ('impaction', 9989), ('uncemented', 22573), ('promises', 17347), ('modularity', 13276), ('versatility', 23122), ('paprosky', 15619), ('iiia', 9839), ('iiib', 9840), ('pelvic', 15892), ('discontinuity', 5806), ('septic', 19554), ('iia', 9834), ('harris', 9016), ('mhhs', 12723), ('proms', 17366), ('disability', 5750), ('osteoarthritis', 15155), ('hoos', 9446), ('analogue', 845), ('vas', 23037), ('cor', 4459), ('flange', 7924), ('breakage', 2585), ('latest', 11491), ('tendencies', 21457), ('referenced', 18222), ('lateralized', 11485), ('caudalized', 3090), ('almost', 680), ('customization', 4877), ('hrqol', 9513), ('persons', 16096), ('transtibial', 22208), ('april', 1203), ('predefined', 16974), ('programme', 17299), ('abductor', 31), ('timed', 21784), ('tug', 22401), ('wheelchair', 23479), ('boundedness', 2531), ('walking', 23349), ('minute', 13145), ('mwt', 13677), ('ups', 22915), ('stump', 20741), ('managed', 12161), ('breakages', 2586), ('bahs', 1750), ('regards', 18269), ('incision', 10159), ('holgers', 9397), ('classification', 3568), ('visits', 23241), ('annually', 953), ('populations', 16725), ('scheme', 19292), ('astragaloside', 1439), ('osteoblastlike', 15161), ('detect', 5485), ('scratch', 19354), ('transwell', 22213), ('rna', 18932), ('hedgehog', 9107), ('sonic', 20146), ('shh', 19708), ('gli', 8615), ('finger', 7857), ('transcriptionquantitative', 22098), ('cyclopamine', 4910), ('dosage', 6090), ('microg', 12834), ('os', 15016), ('mechanistic', 12432), ('bur', 2734), ('cutter', 4886), ('debris', 5063), ('fotona', 8150), ('runner', 19083), ('scanner', 19254), ('preparations', 17075), ('rib', 18868), ('tongue', 21949), ('rules', 19078), ('max', 12317), ('quantum', 17744), ('qsp', 17707), ('emphasizes', 6658), ('overtake', 15469), ('technical', 21395), ('deepness', 5140), ('morphophysiology', 13411), ('explain', 7386), ('situations', 19926), ('reconcile', 18123), ('histopathological', 9347), ('ihc', 9831), ('immunohistochemically', 9956), ('participating', 15689), ('monoclonal', 13339), ('antibodies', 1023), ('separates', 19547), ('prevents', 17169), ('ensures', 6863), ('immunohistochemistry', 9957), ('researched', 18565), ('lately', 11478), ('detriment', 5515), ('contradictory', 4354), ('opportune', 14859), ('oradea', 14900), ('romania', 18980), ('tolerated', 21925), ('organism', 14937), ('replaced', 18484), ('consolidation', 4253), ('diaphyseal', 5594), ('osteons', 15257), ('supports', 21046), ('built', 2715), ('welding', 23454), ('needle', 13972), ('atrophy', 1489), ('scialom', 19308), ('bicortical', 2027), ('joined', 11148), ('mondani', 13322), ('welder', 23453), ('restorations', 18673), ('session', 19605), ('electrowelded', 6552), ('needles', 13973), ('spinal', 20287), ('propensity', 17379), ('bioabsorbable', 2074), ('pl', 16411), ('lactide', 11393), ('plla', 16516), ('pldlla', 16495), ('pga', 16129), ('combinations', 3837), ('diverged', 5987), ('varies', 23029), ('indeterminate', 10229), ('utilization', 22968), ('instrumentation', 10525), ('pitches', 16391), ('pitch', 16390), ('histomophometric', 9328), ('osteotome', 15301), ('porcine', 16727), ('horizontally', 9454), ('stevenel', 20576), ('van', 23009), ('gieson', 8570), ('picro', 16332), ('fuschin', 8348), ('omnibus', 14788), ('estimate', 7103), ('standpoint', 20454), ('timeline', 21786), ('calvarial', 2868), ('resorbed', 18630), ('knife', 11297), ('edge', 6384), ('plated', 16473), ('buccally', 2697), ('palatally', 15571), ('window', 23545), ('scored', 19345), ('biopsy', 2257), ('technically', 21396), ('overlooked', 15449), ('osseotite', 15105), ('biomet', 2213), ('nobel', 14180), ('biocare', 2097), ('rxd', 19103), ('vials', 23161), ('cxcl', 4893), ('tnfa', 21890), ('tgfb', 21555), ('angiogenic', 913), ('hsd', 9520), ('alternatively', 718), ('dysplasia', 6289), ('ddh', 5033), ('hips', 9301), ('recruited', 18162), ('clustered', 3652), ('radiolucent', 17847), ('delee', 5219), ('charnley', 3352), ('sclerotic', 19336), ('circumferences', 3508), ('osteophyte', 15266), ('wall', 23350), ('radiolucency', 17846), ('sciencedirect', 19312), ('inoculation', 10450), ('never', 14082), ('periodically', 15998), ('exchanged', 7270), ('floss', 7964), ('inducement', 10268), ('itself', 11086), ('insertions', 10472), ('resorbing', 18631), ('interactive', 10584), ('cryofixation', 4747), ('focused', 8040), ('milling', 13072), ('atom', 1472), ('diffusion', 5662), ('interspersed', 10748), ('illustrated', 9873), ('layout', 11517), ('granular', 8762), ('osseointegrating', 15084), ('filling', 7830), ('voids', 23282), ('instability', 10491), ('description', 5433), ('coralline', 4465), ('chag', 3297), ('homologous', 9431), ('glue', 8641), ('hfg', 9244), ('trephine', 22256), ('bioptic', 2258), ('mixture', 13205), ('minimizing', 13124), ('morbidity', 13385), ('osteopenia', 15260), ('pttm', 17588), ('panel', 15599), ('osteopenic', 15261), ('cylinders', 4915), ('array', 1282), ('tisuperfamily', 21833), ('soluble', 20128), ('ligand', 11690), ('receptors', 18092), ('transcriptomic', 22101), ('compromises', 4018), ('engineer', 6814), ('asc', 1344), ('sheets', 19697), ('ascs', 1352), ('markedly', 12240), ('biofunctionality', 2151), ('desired', 5453), ('owed', 15482), ('dispersed', 5881), ('twining', 22450), ('neighbor', 13987), ('grains', 8754), ('indeed', 10219), ('comet', 3847), ('nanocomposites', 13746), ('genotoxicity', 8515), ('nickel', 14123), ('avenue', 1649), ('conformal', 4152), ('crt', 4736), ('intensity', 10569), ('imrt', 10113), ('predictor', 16991), ('fragility', 8196), ('irregularities', 10977), ('characteristic', 3335), ('imperfecta', 10016), ('oi', 14741), ('weakened', 23411), ('outpatient', 15373), ('ensuring', 6864), ('predisposing', 17000), ('unnecessary', 22789), ('sls', 20019), ('live', 11789), ('dead', 5039), ('thiazolyl', 21630), ('quasi', 17752), ('gradient', 8738), ('porosities', 16737), ('inducibility', 10271), ('performances', 15961), ('adjoining', 351), ('vertebrae', 23128), ('ideally', 9787), ('attach', 1490), ('move', 13457), ('grow', 8840), ('differentiate', 5639), ('plasmapore', 16452), ('xp', 23683), ('mellitus', 12516), ('dm', 6013), ('clarify', 3552), ('fat', 7619), ('streptozotocin', 20675), ('nbv', 13926), ('im', 9881), ('superordinate', 21015), ('patent', 15738), ('regulator', 18311), ('sensitive', 19524), ('microtopography', 13007), ('transfected', 22116), ('shrna', 19757), ('targeting', 21340), ('knockdown', 11299), ('stably', 20421), ('silenced', 19824), ('angiopoietin', 915), ('tubule', 22396), ('ng', 14106), ('rhvegf', 18865), ('rescued', 18562), ('neutralization', 14074), ('vegfr', 23085), ('flk', 7956), ('roles', 18974), ('autocrine', 1605), ('paracrine', 15624), ('regulates', 18307), ('descriptions', 5434), ('ultrastructural', 22524), ('macroporous', 12052), ('organisation', 14935), ('heterogeneous', 9216), ('mineralised', 13093), ('unmineralised', 22782), ('meso', 12587), ('continuum', 4340), ('fibrils', 7764), ('collagenous', 3775), ('macromolecules', 12043), ('sialoprotein', 19766), ('distinct', 5940), ('arrangements', 1281), ('ultrastructure', 22526), ('interpretation', 10719), ('artefacts', 1296), ('hampered', 8946), ('shortcomings', 19730), ('resolving', 18622), ('finer', 7856), ('governed', 8720), ('eventual', 7193), ('interpretations', 10720), ('vitamin', 23261), ('edif', 6390), ('squared', 20366), ('gender', 8476), ('habit', 8891), ('history', 9355), ('edifs', 6391), ('lowering', 11915), ('dramatic', 6151), ('sandblast', 19158), ('roughening', 19010), ('unaltered', 22549), ('osteolysis', 15239), ('sources', 20173), ('pico', 16327), ('framework', 8208), ('questionnaires', 17768), ('exhaustive', 7318), ('items', 11073), ('prisma', 17210), ('manuscripts', 12214), ('chemicals', 3373), ('dissolve', 5925), ('cycles', 4900), ('fluorides', 7993), ('proportion', 17393), ('implantable', 10030), ('unexpected', 22693), ('circadian', 3495), ('clock', 3627), ('neuronal', 14048), ('pas', 15710), ('domain', 6052), ('npas', 14503), ('elucidate', 6595), ('bmsc', 2440), ('knockout', 11302), ('ko', 11308), ('recovered', 18153), ('lacked', 11386), ('dense', 5301), ('typically', 22463), ('wild', 23532), ('unbiased', 22566), ('genetics', 8504), ('reporter', 18508), ('pharmacologically', 16160), ('networks', 14032), ('adrenergic', 392), ('downstream', 6127), ('camp', 2879), ('creb', 4688), ('neuroskeletal', 14062), ('explantation', 7394), ('myriad', 13702), ('elaborate', 6474), ('nonideal', 14300), ('heated', 9100), ('thermo', 21606), ('preserving', 17115), ('determinate', 5502), ('penicillin', 15909), ('nonallergic', 14213), ('rehabilitated', 18315), ('september', 19553), ('catalonia', 3053), ('uic', 22491), ('amoxicillin', 802), ('orally', 14905), ('clindamycin', 3612), ('postsurgical', 16844), ('suffering', 20913), ('brand', 2567), ('location', 11838), ('skill', 19949), ('psychometric', 17567), ('elderly', 6490), ('class', 3560), ('prosthodontics', 17435), ('wore', 23607), ('unsatisfactory', 22842), ('analog', 841), ('comfort', 3848), ('chew', 3395), ('speak', 20210), ('ease', 6309), ('esthetics', 7102), ('asking', 1369), ('consistencies', 4243), ('sieving', 19783), ('symphysis', 21207), ('transitioned', 22148), ('intaglio', 10542), ('reevaluated', 18211), ('parametric', 15649), ('nonparametric', 14359), ('wilcoxon', 23531), ('converted', 4408), ('transition', 22146), ('perceptions', 15938), ('sloped', 20005), ('compact', 3896), ('microthread', 12991), ('slope', 20004), ('optimization', 14887), ('bruxism', 2672), ('dealt', 5047), ('accredited', 159), ('implantologists', 10050), ('semi', 19492), ('practicing', 16919), ('academic', 99), ('practices', 16918), ('netherlands', 14029), ('thematic', 21572), ('bruxing', 2671), ('contradictive', 4353), ('attitudes', 1524), ('views', 23197), ('though', 21674), ('superstructure', 21024), ('articulation', 1326), ('repeatedly', 18475), ('pointed', 16572), ('splints', 20310), ('alongside', 687), ('anamnesis', 863), ('intuition', 10870), ('awake', 1678), ('contraindication', 4359), ('implantological', 10047), ('circumstances', 3516), ('sleep', 19978), ('causal', 3093), ('everyday', 7201), ('ica', 9759), ('constituents', 4264), ('herba', 9196), ('epimedii', 6954), ('nanofilm', 13764), ('grown', 8842), ('priming', 17192), ('biotypes', 2308), ('seeking', 19452), ('govern', 8719), ('organizational', 14940), ('interplay', 10710), ('biophysical', 2246), ('cues', 4811), ('hbc', 9047), ('sharp', 19676), ('rugged', 19074), ('shallower', 19662), ('accessible', 129), ('moieties', 13294), ('soaking', 20076), ('optimizing', 14892), ('reacts', 18006), ('bath', 1823), ('complementary', 3952), ('operating', 14837), ('analogous', 843), ('screwing', 19366), ('unscrewing', 22848), ('confer', 4120), ('elaborated', 6475), ('sphene', 20272), ('catisio', 3083), ('biocoating', 2114), ('hadscs', 8904), ('preceramic', 16944), ('fillers', 7827), ('tris', 22330), ('hcl', 9066), ('immunofluorescent', 9949), ('deposits', 5390), ('cpti', 4647), ('termed', 21486), ('solutions', 20130), ('nanowire', 13873), ('nanopetal', 13806), ('highlighting', 9277), ('progresses', 17305), ('objectively', 14590), ('timing', 21790), ('sequence', 19561), ('unpredictable', 22806), ('subset', 20843), ('quite', 17783), ('precipitous', 16952), ('profound', 17284), ('bungee', 2731), ('prematurely', 17051), ('quotients', 17789), ('monitor', 13328), ('personalized', 16094), ('congenital', 4168), ('malformations', 12131), ('traumatic', 22225), ('ear', 6300), ('neoplastic', 14014), ('tertiary', 21500), ('und', 22606), ('retroauricular', 18756), ('adhesions', 334), ('scaring', 19271), ('influencing', 10341), ('tribologic', 22277), ('nitride', 14148), ('antiallergic', 1012), ('molybdenum', 13315), ('cocrmo', 3703), ('corundum', 4539), ('incubated', 10210), ('sonicated', 20147), ('emergency', 6640), ('dsm', 6207), ('serial', 19577), ('dilutions', 5697), ('safranin', 19127), ('photographed', 16266), ('resveratrol', 18710), ('resv', 18709), ('inhalation', 10391), ('csi', 4773), ('lrp', 11933), ('osx', 15324), ('dkk', 6004), ('reverses', 18792), ('benefiting', 1944), ('tm', 21879), ('demineralized', 5271), ('chart', 3354), ('vent', 23104), ('provider', 17495), ('multivariate', 13632), ('logistic', 11855), ('odds', 14688), ('preventing', 17164), ('treating', 22245), ('periimplantitis', 15986), ('disappointing', 5766), ('hypothesis', 9714), ('replaceable', 18483), ('sleeve', 19982), ('endangering', 6724), ('supportive', 21045), ('planting', 16444), ('etiopathological', 7150), ('expounds', 7427), ('oxidized', 15507), ('associations', 1422), ('rendering', 18441), ('dihydrolipoamide', 5683), ('dehydrogenase', 5208), ('dldh', 6007), ('coordinative', 4436), ('cys', 4922), ('glu', 8629), ('asp', 1371), ('motif', 13428), ('residues', 18601), ('bioengineered', 2141), ('arg', 1247), ('gly', 8649), ('expressing', 7431), ('mba', 12352), ('fine', 7854), ('mir', 13149), ('obscure', 14604), ('trabecula', 22032), ('overexpressed', 15424), ('tightly', 21765), ('mrnas', 13485), ('deregulated', 5403), ('dishevelled', 5849), ('dvl', 6256), ('declined', 5096), ('frizzled', 8265), ('fzd', 8362), ('cytoskeletons', 4950), ('sparse', 20201), ('disordered', 5869), ('promoter', 17354), ('utr', 22974), ('concentrate', 4046), ('contains', 4306), ('leukocytes', 11625), ('diagnoses', 5573), ('walls', 23354), ('freshly', 8243), ('spongious', 20329), ('matured', 12311), ('gingiva', 8577), ('lessons', 11613), ('solely', 20112), ('exhibiting', 7322), ('monotype', 13373), ('arm', 1267), ('requiring', 18551), ('institut', 10508), ('analysing', 853), ('whom', 23509), ('withdrew', 23571), ('frame', 8205), ('par', 15620), ('instance', 10499), ('www', 23663), ('clinicaltrials', 3616), ('gov', 8718), ('nct', 13942), ('nineteen', 14133), ('nanotite', 13861), ('graphical', 8782), ('bonferroni', 2493), ('pearson', 15848), ('behaved', 1907), ('tate', 21347), ('elbow', 6487), ('foam', 8033), ('humerus', 9551), ('antebrachium', 990), ('elbows', 6488), ('maximally', 12335), ('converging', 4403), ('diverging', 5990), ('photography', 16270), ('differed', 5633), ('convergent', 4401), ('divergent', 5989), ('posts', 16839), ('constraints', 4277), ('veterinary', 23152), ('parts', 15708), ('inexpensive', 10294), ('tail', 21290), ('costume', 4555), ('walled', 23351), ('threaded', 21681), ('axial', 1685), ('sensitivity', 19527), ('rather', 17930), ('screen', 19357), ('caudal', 3089), ('vertebra', 23127), ('intensely', 10566), ('contacting', 4298), ('summarize', 20969), ('subdermal', 20775), ('attempt', 1504), ('reliably', 18379), ('paparaspinal', 15609), ('muscles', 13645), ('nuclei', 14536), ('vessel', 23142), ('revascularisation', 18780), ('quercitrin', 17758), ('flavonoid', 7941), ('supplemented', 21035), ('kappa', 11204), ('trap', 22215), ('inmunostaining', 10437), ('lactate', 11391), ('ldh', 11535), ('calcr', 2836), ('ctsk', 4800), ('atpase', 1478), ('mmp', 13221), ('nanocoated', 13742), ('sourcesthe', 20175), ('isi', 11011), ('sigle', 19787), ('opengrey', 14829), ('restriction', 18689), ('selectionrandomised', 19478), ('rcts', 17976), ('immunosuppression', 9981), ('synthesisthree', 21250), ('independently', 10227), ('disagreements', 5760), ('newcastle', 14088), ('ottawa', 15344), ('nos', 14467), ('resultsthree', 18700), ('methodological', 12668), ('compound', 3996), ('conclusionsthe', 4071), ('lichen', 11658), ('planus', 16446), ('corticosteroids', 4535), ('noncontrolled', 14255), ('sessions', 19606), ('classical', 3564), ('destructive', 5472), ('remission', 18413), ('manifestations', 12186), ('glycation', 8653), ('products', 17271), ('overproduction', 15456), ('dihydroxyvitamin', 5687), ('defensive', 5153), ('rage', 17872), ('possibly', 16778), ('downregulating', 6121), ('adjuvant', 361), ('nails', 13720), ('medullary', 12502), ('intracerebral', 10791), ('intramedullary', 10813), ('mongrel', 13326), ('periosteum', 16030), ('begins', 1901), ('granulation', 8766), ('creates', 4685), ('subperiosteally', 20832), ('epsilon', 6984), ('pcl', 15810), ('electrospinning', 6539), ('structurally', 20717), ('inspected', 10486), ('upto', 22924), ('hfob', 9248), ('fifty', 7812), ('demands', 5263), ('posed', 16755), ('metallurgy', 12626), ('composites', 3992), ('costly', 4552), ('extruded', 7506), ('filaments', 7820), ('elongated', 6586), ('extrusion', 7508), ('discrete', 5818), ('hank', 8971), ('hbss', 9062), ('elution', 6605), ('compositions', 3995), ('grading', 8740), ('periphery', 16037), ('gradations', 8734), ('cad', 2793), ('spider', 20282), ('lattices', 11502), ('diamond', 5592), ('interconnecting', 10609), ('muct', 13546), ('replicated', 18497), ('cranial', 4658), ('cap', 2925), ('cranioplasty', 4666), ('persistent', 16086), ('brain', 2561), ('partly', 15706), ('vascularized', 23043), ('susceptibility', 21138), ('tag', 21288), ('snps', 20068), ('lta', 11942), ('ltb', 11943), ('genotypes', 8518), ('univariate', 22763), ('allelle', 635), ('allele', 632), ('polymorphisms', 16672), ('bilayer', 2053), ('hat', 9033), ('mgo', 12714), ('interfacial', 10637), ('favoring', 7633), ('recruitment', 18164), ('osteogenetic', 15208), ('overlying', 15452), ('interrod', 10730), ('spaces', 20188), ('clarified', 3550), ('vanishing', 23014), ('avoiding', 1671), ('binary', 2066), ('conduct', 4101), ('forest', 8091), ('plots', 16518), ('statistic', 20487), ('consort', 4254), ('rct', 17974), ('definitions', 5170), ('eligibility', 6572), ('interpreted', 10721), ('eds', 6401), ('wst', 23660), ('biodegradation', 2133), ('slowest', 20013), ('effected', 6418), ('extensive', 7447), ('properly', 17382), ('recovering', 18154), ('localization', 11831), ('etiology', 7146), ('regularly', 18304), ('engraftment', 6821), ('autografts', 1614), ('autograft', 1611), ('social', 20079), ('nmr', 14175), ('verify', 23114), ('union', 22745), ('hydrolytic', 9605), ('teos', 21480), ('oa', 14567), ('ot', 15325), ('definitive', 5171), ('delivered', 5239), ('tdef', 21377), ('timpl', 21793), ('casts', 3046), ('superimposed', 21005), ('dedicated', 5128), ('margins', 12234), ('digitized', 5674), ('biotype', 2307), ('thick', 21631), ('noticed', 14484), ('myb', 13680), ('plasmid', 16455), ('conjugated', 4186), ('ch', 3294), ('gnps', 8680), ('fos', 8141), ('multinucleated', 13599), ('gnp', 8679), ('morphogenic', 13398), ('ephb', 6933), ('applicable', 1152), ('amputated', 818), ('uncertain', 22575), ('apart', 1098), ('cent', 3204), ('death', 5051), ('sitting', 19921), ('bjs', 2349), ('straight', 20638), ('duplicate', 6234), ('robins', 18942), ('md', 12391), ('subgroup', 20785), ('nonrandomized', 14376), ('imprecision', 10091), ('inconsistency', 10186), ('eao', 6299), ('initiative', 10417), ('register', 18285), ('bring', 2627), ('conference', 4121), ('manageable', 12160), ('select', 19472), ('examples', 7252), ('registers', 18288), ('essentially', 7083), ('journals', 11159), ('cct', 3156), ('comment', 3864), ('dentition', 5333), ('infraposition', 10364), ('iip', 9843), ('pcp', 15815), ('prone', 17367), ('predilection', 16995), ('pcps', 15817), ('doctors', 6031), ('dentitions', 5334), ('bahi', 1749), ('africa', 480), ('biosis', 2276), ('global', 8622), ('pediatric', 15861), ('appraisal', 1172), ('directness', 5746), ('passed', 15716), ('losses', 11900), ('overlapping', 15440), ('impeded', 10008), ('disuse', 5982), ('ambulation', 744), ('proof', 17370), ('dorset', 6085), ('forelimb', 8085), ('compress', 4004), ('warsaw', 23372), ('anchor', 878), ('plug', 16525), ('splinting', 20309), ('shorter', 19735), ('adapters', 293), ('adapter', 292), ('displaying', 5892), ('valid', 22992), ('endo', 6733), ('exo', 7332), ('steroidal', 20573), ('ovid', 15475), ('reviewer', 18799), ('cataloguing', 3052), ('explicitly', 7399), ('antidepressant', 1036), ('ssri', 20400), ('unicortical', 22720), ('sertraline', 19591), ('hinders', 9288), ('indicators', 10245), ('sentinel', 19540), ('prevalences', 17158), ('access', 126), ('representative', 18520), ('seventy', 19622), ('smctrl', 20031), ('rctrl', 17975), ('smplas', 20061), ('rplas', 19039), ('nanocrystalline', 13749), ('ncsio', 13941), ('smnb', 20045), ('rnb', 18935), ('intravital', 10849), ('fluorochrome', 7998), ('visualize', 23250), ('dbf', 5017), ('accordance', 150), ('changing', 3319), ('superimposing', 21006), ('recession', 18096), ('pink', 16365), ('pes', 16110), ('wes', 23466), ('labial', 11362), ('centred', 3218), ('decades', 5065), ('suspected', 21142), ('detoxification', 5512), ('plenty', 16503), ('survivorship', 21135), ('continue', 4333), ('ribbed', 18869), ('waldemar', 23343), ('hamburg', 8941), ('germany', 8543), ('lcu', 11530), ('comprise', 4012), ('unilateral', 22733), ('absorptiometry', 81), ('anteroposterior', 1002), ('plain', 16425), ('fitness', 7890), ('isthmus', 11064), ('engh', 6813), ('heterotopic', 9225), ('brooker', 2653), ('ontario', 14814), ('mcmaster', 12384), ('universities', 22769), ('dissemination', 5913), ('affiliated', 458), ('chongqing', 3454), ('disseminated', 5912), ('national', 13899), ('conferences', 4122), ('peer', 15878), ('registry', 18292), ('http', 9536), ('chictr', 3403), ('org', 14929), ('cn', 3664), ('centrifugal', 3221), ('fgbms', 7740), ('titaniumniobium', 21843), ('vanadium', 23010), ('saos', 19172), ('correspondingly', 4509), ('dexa', 5546), ('nanosurfaces', 13849), ('neovascularization', 14018), ('intravitally', 10850), ('vessels', 23143), ('matures', 12313), ('sooner', 20155), ('precursors', 16969), ('informs', 10355), ('putative', 17659), ('neovascular', 14017), ('morphogenesis', 13396), ('hyaluronan', 9575), ('derivatives', 5407), ('sulphated', 20955), ('sha', 19650), ('da', 4956), ('moiety', 13295), ('guarantees', 8861), ('charged', 3346), ('sulphation', 20956), ('ds', 6200), ('anticoagulant', 1031), ('derivatization', 5408), ('mol', 13299), ('esem', 7069), ('phenotypes', 16180), ('cytoskeletal', 4948), ('nuclearity', 14530), ('differential', 5637), ('clastokine', 3575), ('cthrc', 4788), ('causative', 3096), ('morphologically', 13403), ('potency', 16856), ('logarithmically', 11851), ('combinatorial', 3838), ('locally', 11834), ('disadvantage', 5753), ('negligible', 13986), ('phenotypic', 16181), ('doubled', 6104), ('hypertension', 9691), ('losartan', 11894), ('angiotensin', 916), ('blocker', 2388), ('spontaneously', 20333), ('hypertensive', 9692), ('shr', 19753), ('normotensive', 14463), ('miniscrews', 13134), ('endpoint', 6790), ('endpoints', 6791), ('unchanged', 22579), ('bsf', 2681), ('morse', 13415), ('taper', 21327), ('bf', 1985), ('explaining', 7388), ('trace', 22042), ('transduction', 22113), ('rearrangement', 18046), ('dae', 4959), ('wo', 23586), ('diminution', 5718), ('phosphorylating', 16234), ('rac', 17797), ('cofilin', 3729), ('guaranteeing', 8860), ('mediating', 12471), ('src', 20376), ('unbalance', 22563), ('cyclin', 4905), ('kinases', 11269), ('cdks', 3163), ('ink', 10432), ('cip', 3493), ('provoke', 17511), ('driving', 6183), ('certainly', 3264), ('drives', 6182), ('requisite', 18552), ('antibiosis', 1019), ('ciprofloxacin', 3494), ('chemoselective', 3383), ('amide', 772), ('capabilities', 2926), ('osteodifferentiation', 15195), ('obviously', 14635), ('invading', 10874), ('preparing', 17080), ('immobilizing', 9923), ('therapeutics', 21589), ('supply', 21040), ('nanoengineered', 13755), ('tnts', 21897), ('solving', 20136), ('ldd', 11533), ('expert', 7382), ('arrays', 1283), ('requisites', 18553), ('rigidity', 18886), ('hd', 9070), ('pairs', 15565), ('sulfuric', 20952), ('isotonic', 11037), ('rad', 17799), ('reveal', 18784), ('slight', 19993), ('conductive', 4105), ('deafness', 5042), ('cosmesis', 4543), ('adjunctive', 353), ('cleating', 3598), ('stitch', 20604), ('yr', 23733), ('punch', 17624), ('overgrowth', 15431), ('outlying', 15370), ('obesity', 14581), ('coronary', 4482), ('artery', 1300), ('hazard', 9042), ('narrow', 13884), ('hex', 9230), ('degraded', 5194), ('shell', 19699), ('dentin', 5326), ('cementum', 3201), ('pdl', 15831), ('satisfactorily', 19186), ('radicular', 17810), ('alveolus', 735), ('neo', 13995), ('summer', 20976), ('junior', 11184), ('representatives', 18521), ('societies', 20082), ('brought', 2657), ('certification', 3266), ('education', 6407), ('working', 23615), ('outline', 15364), ('cafe', 2806), ('summaries', 20964), ('recognition', 18108), ('accreditation', 158), ('training', 22073), ('programs', 17302), ('students', 20734), ('professionals', 17274), ('dbb', 5013), ('epiphysis', 6960), ('encapsulation', 6689), ('assayed', 1386), ('implanting', 10039), ('inherently', 10394), ('central', 3212), ('microrough', 12935), ('aoc', 1089), ('mp', 13464), ('hgecs', 9254), ('neuroscientists', 14058), ('permanently', 16052), ('headposts', 9083), ('stabilize', 20413), ('nonhuman', 14298), ('primates', 17187), ('nhps', 14116), ('electrophysiology', 6532), ('magnetic', 12078), ('fmri', 8026), ('mri', 13482), ('nhp', 14115), ('skulls', 19956), ('intersections', 10742), ('pulled', 17606), ('subcutaneously', 20773), ('bold', 2464), ('chen', 3390), ('et', 7113), ('mcandrew', 12372), ('mulliken', 13558), ('overton', 15471), ('relied', 18381), ('measurable', 12414), ('wellbeing', 23459), ('neuroscience', 14057), ('staging', 20430), ('photofunctionalization', 16261), ('yokohama', 23721), ('city', 3534), ('nonuse', 14435), ('stepwise', 20537), ('notable', 14470), ('chairside', 3303), ('exclusively', 7289), ('volumetric', 23294), ('ring', 18896), ('columnar', 3830), ('forms', 8119), ('finnish', 7868), ('bred', 2596), ('formalin', 8100), ('dehydrated', 5205), ('ethanol', 7122), ('formations', 8107), ('mod', 13245), ('tiox', 21814), ('rfpecvd', 18829), ('calculation', 2842), ('plot', 16517), ('oxidization', 15505), ('po', 16560), ('indentations', 10222), ('coexistent', 3724), ('super', 20985), ('unfavorable', 22699), ('discriminative', 5827), ('biomimetically', 2220), ('maxillae', 12321), ('goats', 8686), ('physiologically', 16306), ('apparatus', 1131), ('excised', 7274), ('neoformed', 14004), ('respecting', 18646), ('permits', 16061), ('rtka', 19058), ('sleeves', 19983), ('midterm', 13044), ('revised', 18804), ('reinfection', 18327), ('encounter', 6706), ('motion', 13432), ('satisfying', 19191), ('lycopene', 11991), ('vehicle', 23088), ('gavaged', 8434), ('gavage', 8433), ('cemented', 3192), ('couple', 4596), ('tja', 21865), ('roentgen', 18964), ('stereophotogrammetric', 20554), ('elementary', 6556), ('geometrical', 8531), ('egs', 6447), ('rsa', 19049), ('calculate', 2838), ('interchangeable', 10599), ('marker', 12241), ('axes', 1684), ('predictive', 16990), ('migrated', 13049), ('rotated', 18998), ('deg', 5185), ('medio', 12488), ('thresholds', 21694), ('tsfe', 22378), ('peking', 15886), ('stomatology', 20619), ('division', 6001), ('beijing', 1918), ('table', 21275), ('osteotomes', 15302), ('gauged', 8427), ('deemed', 5131), ('equivalent', 7017), ('discomforts', 5797), ('identifier', 9796), ('february', 7675), ('mapping', 12223), ('sagittal', 19129), ('planes', 16430), ('frames', 8207), ('intraobserver', 10819), ('cohen', 3732), ('interobserver', 10699), ('rois', 18972), ('detecting', 5490), ('visually', 23253), ('comprehensible', 4000), ('enrich', 6848), ('bts', 2695), ('pave', 15779), ('terminology', 21493), ('connecting', 4197), ('polycrystal', 16620), ('immature', 9901), ('recommend', 18116), ('japan', 11107), ('alif', 610), ('undertake', 22658), ('die', 5622), ('pressing', 17126), ('retroperitoneal', 18761), ('transperitoneal', 22186), ('oswestry', 15323), ('confirms', 4142), ('spacer', 20186), ('matter', 12306), ('debate', 5054), ('yearly', 23706), ('radiographical', 17830), ('multicenter', 13562), ('swede', 21177), ('identically', 9792), ('countersinking', 4587), ('fashion', 7606), ('foramen', 8069), ('microgap', 12835), ('correction', 4494), ('se', 19387), ('standards', 20451), ('confines', 4136), ('limit', 11712), ('mere', 12553), ('criterion', 4707), ('endodontic', 6745), ('classic', 3563), ('corrected', 4492), ('simply', 19864), ('resorting', 18638), ('technicians', 21398), ('dt', 6211), ('perspective', 16097), ('pretested', 17147), ('informed', 10353), ('certified', 3267), ('laboratories', 11370), ('riyadh', 18918), ('ksa', 11338), ('demographic', 5274), ('job', 11140), ('orders', 14925), ('requests', 18545), ('porcelain', 16726), ('fused', 8350), ('pfm', 16120), ('instructions', 10520), ('inaccuracies', 10119), ('impression', 10096), ('bite', 2340), ('obstacles', 14618), ('repairs', 18466), ('facing', 7546), ('chipping', 3422), ('frequent', 8239), ('discrepancies', 5816), ('malignant', 12139), ('tumours', 22410), ('anteriorly', 996), ('bowed', 2540), ('curvature', 4857), ('curved', 4860), ('perpendicular', 16076), ('tomosynthesis', 21945), ('shimadzu', 19717), ('artefact', 1295), ('smart', 20027), ('oncological', 14796), ('visit', 23238), ('deaths', 5052), ('tumour', 22409), ('surviving', 21132), ('nearly', 13952), ('undetectable', 22668), ('interconnectivity', 10613), ('spark', 20200), ('interconnection', 10610), ('nacl', 13710), ('polyethyleneglicol', 16633), ('binder', 2069), ('bioactivation', 2078), ('macropores', 12049), ('quarterhorse', 17747), ('crossbreed', 4719), ('horses', 9460), ('distracted', 5960), ('ifd', 9812), ('polyaxial', 16611), ('pedicle', 15863), ('rod', 18959), ('monthly', 13378), ('safely', 19122), ('iatrogenic', 9741), ('justify', 11190), ('vertebral', 23129), ('myelopathy', 13687), ('methotrexate', 12672), ('mtx', 13523), ('immunosuppressive', 9982), ('disturbances', 5977), ('blast', 2360), ('microtexturing', 12989), ('microcosm', 12790), ('enamel', 6679), ('mounted', 13448), ('trays', 22239), ('worn', 23626), ('confluent', 4148), ('microcolonies', 12783), ('colonized', 3814), ('edges', 6386), ('pits', 16395), ('unexpectedly', 22694), ('colonizing', 3817), ('threading', 21682), ('orthogonally', 14990), ('microtextured', 12987), ('immunoinflammatory', 9962), ('nonosteogenic', 14356), ('tnfalpha', 21891), ('favorably', 7631), ('antiosteoporotic', 1057), ('adjunct', 352), ('endodontically', 6746), ('commonest', 3882), ('contraindicate', 4356), ('debrided', 5060), ('dentoalveolar', 5337), ('receptacle', 18088), ('subacute', 20752), ('perio', 15994), ('debridement', 5061), ('settled', 19612), ('interests', 10632), ('rougher', 19011), ('microtopographies', 13006), ('nanotopographies', 13865), ('elaborations', 6477), ('availabilities', 1641), ('plethora', 16505), ('choosing', 3458), ('practitioners', 16922), ('cementation', 3191), ('disturb', 5975), ('myths', 13703), ('bps', 2550), ('alendronate', 598), ('aln', 682), ('intravenous', 10846), ('pamidronate', 15592), ('pam', 15591), ('telopeptide', 21430), ('ctx', 4801), ('serums', 19593), ('bp', 2547), ('accentuated', 117), ('precise', 16953), ('excess', 7265), ('penetrating', 15907), ('photographic', 16267), ('shifts', 19716), ('contraction', 4347), ('correlations', 4503), ('itvs', 11089), ('subsinus', 20849), ('adjusted', 357), ('manufacturer', 12210), ('subjectively', 20794), ('misch', 13161), ('wrench', 23652), ('accounted', 155), ('encountered', 6707), ('itv', 11088), ('attained', 1500), ('olp', 14772), ('erosive', 7042), ('zest', 23760), ('anchors', 884), ('escondido', 7067), ('scarce', 19266), ('define', 5163), ('sets', 19608), ('qualitatively', 17726), ('stimulus', 20601), ('clot', 3640), ('anodically', 959), ('cathepsin', 3069), ('catk', 3084), ('calcitonin', 2830), ('imposes', 10085), ('mitigating', 13192), ('mesoporous', 12590), ('mlt', 13216), ('catabolic', 3049), ('tb', 21357), ('mentioned', 12544), ('gives', 8589), ('robustly', 18951), ('ald', 595), ('withdrawal', 23567), ('suspended', 21143), ('subgroups', 20786), ('int', 10540), ('interrupted', 10734), ('bmd', 2421), ('dxa', 6259), ('discontinued', 5804), ('discontinuation', 5803), ('impairing', 9994), ('biostimulation', 2282), ('steadily', 20506), ('densitometric', 5309), ('omega', 14776), ('wavelength', 23391), ('sec', 19408), ('panoramas', 15605), ('digora', 5679), ('student', 20733), ('speeded', 20263), ('emphasising', 6655), ('biostimulatory', 2283), ('speeds', 20265), ('cooling', 4425), ('rpm', 19040), ('countersink', 4586), ('reaching', 17992), ('irrelevant', 10981), ('reestablish', 18206), ('mdis', 12397), ('proposition', 17404), ('flapless', 7929), ('mdi', 12396), ('speaking', 20211), ('srha', 20381), ('nanocapsule', 13739), ('immobilisation', 9916), ('superhydrophilicity', 21001), ('nanocapsules', 13740), ('angio', 909), ('lmhf', 11802), ('molars', 13301), ('aadva', 4), ('phi', 16188), ('jig', 11137), ('electrically', 6497), ('inspirited', 10490), ('heterojunction', 9221), ('resolve', 18620), ('conflict', 4143), ('sno', 20067), ('bilayered', 2054), ('cue', 4809), ('multicellular', 13561), ('decoupled', 5121), ('combing', 3842), ('ectodermal', 6360), ('edd', 6370), ('developmental', 5527), ('hair', 8920), ('organs', 14948), ('ectoderm', 6359), ('multicentre', 13564), ('bivariate', 2346), ('standardised', 20447), ('adjustment', 359), ('deteriorates', 5496), ('matched', 12284), ('nonconvenient', 14256), ('unable', 22539), ('eat', 6317), ('lll', 11798), ('emitting', 6648), ('photobiomodulation', 16245), ('prostaglandin', 17418), ('pge', 16130), ('person', 16090), ('midline', 13031), ('pvalue', 17668), ('rd', 17977), ('acetazolamide', 188), ('canals', 2889), ('gels', 8474), ('zoledronate', 23795), ('unsuccessful', 22864), ('aside', 1364), ('achieving', 204), ('contours', 4344), ('blending', 2375), ('nonautogenous', 14221), ('nongrafted', 14294), ('temporized', 21445), ('dermis', 5421), ('perception', 15937), ('skeleton', 19942), ('uk', 22493), ('formalised', 8101), ('deep', 5132), ('developers', 5524), ('biomechanically', 2205), ('forefront', 8081), ('universally', 22765), ('densification', 5305), ('versah', 23120), ('progressing', 17306), ('visited', 23239), ('yonsei', 23722), ('seoul', 19543), ('charts', 3355), ('lifetime', 11676), ('tables', 21276), ('estimates', 7105), ('log', 11849), ('frailty', 8204), ('completing', 3961), ('attributable', 1532), ('look', 11873), ('workload', 23616), ('engaged', 6807), ('onwards', 14818), ('spanning', 20195), ('overwhelming', 15474), ('correlates', 4500), ('unusual', 22883), ('operate', 14834), ('seniors', 19515), ('juniors', 11185), ('matters', 12307), ('seniority', 19514), ('manages', 12163), ('utilise', 22963), ('appropriately', 1190), ('diagnostic', 5576), ('quadas', 17711), ('mesiodistal', 12583), ('buccolingual', 2701), ('visualisation', 23246), ('masking', 12265), ('shallow', 19661), ('radiolucencies', 17845), ('intrabony', 10786), ('notwithstanding', 14487), ('restricted', 18687), ('overlap', 15439), ('optimised', 14883), ('realize', 18029), ('embedment', 6617), ('characterised', 3333), ('igm', 9824), ('igg', 9823), ('react', 17993), ('antigens', 1046), ('transfusion', 22135), ('antigen', 1043), ('exemplified', 7301), ('acute', 280), ('sickness', 19771), ('figures', 7817), ('recognised', 18106), ('exists', 7330), ('patch', 15729), ('acts', 271), ('behind', 1916), ('allergies', 638), ('avoidance', 1669), ('methacryloyloxyethyl', 12661), ('phosphorylcholine', 16236), ('pmpc', 16547), ('heating', 9101), ('profiler', 17277), ('characterise', 3332), ('elimination', 6578), ('protects', 17448), ('scratching', 19356), ('tomogram', 21934), ('goat', 8685), ('tomograms', 21935), ('synchrotron', 21218), ('fluids', 7984), ('phf', 16187), ('photofunctionalized', 16262), ('check', 3359), ('photofunctionalizing', 16263), ('intervertebral', 10767), ('spacers', 20187), ('appositional', 1169), ('caprine', 2948), ('sic', 19768), ('biodynamic', 2137), ('null', 14540), ('hemimaxillary', 9152), ('resection', 18574), ('adenoid', 318), ('cystic', 4927), ('carcinoma', 2993), ('acc', 104), ('palate', 15572), ('unwilling', 22888), ('episode', 6962), ('maxillectomy', 12326), ('obturator', 14628), ('healthcare', 9094), ('burden', 2736), ('predominately', 17009), ('focussed', 8043), ('vitally', 23260), ('ilium', 9862), ('subtractive', 20884), ('twist', 22452), ('clockwise', 3628), ('cw', 4890), ('densah', 5300), ('jackson', 11099), ('mi', 12727), ('multifluted', 13577), ('burs', 2750), ('ccw', 3158), ('preosteoblasts', 17070), ('impairments', 9996), ('bii', 2048), ('macroscopic', 12057), ('reflection', 18242), ('modeled', 13253), ('sinusoidal', 19901), ('wavenumber', 23393), ('dependence', 5364), ('cancellation', 2892), ('scattering', 19276), ('presumptive', 17139), ('hemisected', 9156), ('chrome', 3470), ('contacts', 4299), ('centric', 3220), ('schemes', 19293), ('voltages', 23289), ('weighed', 23440), ('microscopical', 12949), ('bibliographical', 2012), ('abiotic', 42), ('allogenic', 656), ('morbidities', 13384), ('transmission', 22171), ('purportedly', 17642), ('osteopromotive', 15281), ('interspinous', 10750), ('isd', 11006), ('cobb', 3691), ('cohorts', 3739), ('genders', 8477), ('depression', 5394), ('nonsignificant', 14397), ('careful', 2999), ('implication', 10071), ('unrealistic', 22818), ('abrasion', 60), ('polyurethane', 16697), ('pu', 17593), ('nanocoatings', 13744), ('permitted', 16062), ('fda', 7656), ('document', 6032), ('suffer', 20911), ('ultra', 22504), ('ufgti', 22487), ('patterned', 15772), ('angular', 921), ('ecap', 6332), ('drawing', 6160), ('grain', 8752), ('metallographic', 12617), ('nanometre', 13788), ('ultrafine', 22507), ('symax', 21194), ('omnifit', 14789), ('combines', 3841), ('anteverted', 1007), ('hhs', 9259), ('oxford', 15495), ('ohs', 14740), ('womac', 23596), ('pelvis', 15894), ('signed', 19801), ('teams', 21383), ('observer', 14613), ('raters', 17928), ('thigh', 21639), ('antlers', 1072), ('sika', 19814), ('deer', 5141), ('remodelling', 18424), ('mammals', 12156), ('antler', 1071), ('tunnel', 22418), ('widening', 23520), ('cruciate', 4739), ('acl', 218), ('tendon', 21460), ('rh', 18838), ('replenishing', 18491), ('stock', 20610), ('oversized', 15464), ('tunnels', 22421), ('ipsilateral', 10957), ('semitendinosus', 19504), ('folded', 8049), ('ends', 6793), ('own', 15487), ('proposes', 17403), ('radial', 17801), ('deliver', 5238), ('eg', 6440), ('nondestructive', 14272), ('resonant', 18625), ('scarcity', 19268), ('tie', 21750), ('evolutions', 7219), ('tied', 21751), ('simplifying', 19863), ('assumptions', 1429), ('opposed', 14863), ('frictional', 8254), ('constraint', 4276), ('discriminant', 5822), ('really', 18031), ('discriminate', 5823), ('continues', 4335), ('altogether', 725), ('indication', 10241), ('saved', 19200), ('icp', 9770), ('contra', 4345), ('click', 3607), ('simpli', 19855), ('inertion', 10289), ('simplif', 19857), ('vice', 23175), ('versa', 23119), ('noval', 14488), ('arches', 1229), ('lubricant', 11950), ('bicorticalization', 2028), ('lubricated', 11951), ('handpiece', 8962), ('allocation', 651), ('histologist', 9322), ('blinded', 2380), ('experimentation', 7378), ('jeopardize', 11128), ('idr', 9803), ('reconstruct', 18135), ('tuberosity', 22392), ('provisioning', 17506), ('sports', 20337), ('accident', 132), ('reapplication', 18042), ('maneuvers', 12181), ('subepithelial', 20780), ('incentive', 10144), ('functionalise', 8312), ('fluoro', 7996), ('hydroxy', 9627), ('oleoyloxy', 14763), ('butyl', 2765), ('phosphonate', 16222), ('fhbp', 7750), ('lysophosphatidic', 12014), ('lpa', 11921), ('insults', 10537), ('autoclaving', 1604), ('reuse', 18775), ('functionalised', 8313), ('realised', 18023), ('depicted', 5372), ('stylised', 20746), ('steeped', 20513), ('polar', 16579), ('leaving', 11560), ('acyl', 283), ('extensions', 7446), ('chains', 3300), ('finish', 7861), ('calcitriol', 2831), ('metabolite', 12602), ('fluorophosphonate', 8005), ('hydroxyapatiteyttrium', 9631), ('spread', 20346), ('hydroxiapatite', 9623), ('substrat', 20870), ('adolescents', 383), ('eruptive', 7053), ('ankylosed', 944), ('stationary', 20486), ('spans', 20196), ('incisor', 10162), ('underscoring', 22651), ('microgrooved', 12848), ('nonadjacent', 14212), ('transmucosal', 22177), ('affymetrix', 472), ('genespring', 8500), ('encoding', 6701), ('keratins', 11236), ('cornified', 4479), ('fibril', 7761), ('junctional', 11179), ('ostogenic', 15321), ('ameloblast', 754), ('odam', 14686), ('follicular', 8054), ('dendritic', 5287), ('fdcsp', 7660), ('xenogeneic', 23671), ('tomographically', 21939), ('postgrafting', 16799), ('torques', 21984), ('fundamental', 8325), ('microthreaded', 12992), ('ribs', 18875), ('micromobility', 12883), ('postextractive', 16795), ('generates', 8489), ('repulsive', 18540), ('grinding', 8813), ('anodizing', 966), ('cre', 4682), ('rbp', 17964), ('fl', 7914), ('classically', 3565), ('restrained', 18681), ('nanomaterials', 13780), ('designation', 5444), ('abnormalities', 52), ('stemming', 20525), ('bo', 2445), ('mole', 13306), ('bigger', 2044), ('cao', 2924), ('comprises', 4014), ('tendons', 21461), ('covers', 4615), ('hardest', 8995), ('amelogenins', 760), ('enamelins', 6682), ('screens', 19361), ('diffuse', 5658), ('reflectivity', 18245), ('appearances', 1139), ('semitranslucent', 19505), ('reparation', 18467), ('occupies', 14658), ('vary', 23035), ('statpearls', 20494), ('publishing', 17603), ('llc', 11797), ('bti', 2692), ('choices', 3437), ('refinement', 18234), ('lateralization', 11484), ('concomitantly', 4075), ('documentation', 6034), ('regimen', 18278), ('iiipr', 9841), ('iinr', 9842), ('canvassed', 2923), ('concludes', 4066), ('benchmark', 1932), ('foundation', 8154), ('shedding', 19692), ('calcification', 2819), ('ranelate', 17897), ('sran', 20373), ('bibliographic', 2011), ('october', 14677), ('radioactive', 17814), ('tendency', 21458), ('biotolerance', 2302), ('anticorrosive', 1035), ('miniplates', 13130), ('erythrocytes', 7057), ('antioxidants', 1059), ('fixations', 7902), ('outlining', 15367), ('hypotheses', 9713), ('suggestion', 20925), ('arthroplasties', 1310), ('colonisation', 3808), ('sn', 20063), ('conven', 4392), ('tional', 21813), ('sputter', 20359), ('overgrown', 15430), ('tune', 22412), ('collect', 3785), ('passage', 15713), ('nanocrystals', 13751), ('func', 8308), ('encapsulated', 6687), ('coordinating', 4434), ('antiresorptive', 1063), ('coral', 4463), ('kinds', 11271), ('euthanatized', 7168), ('hyperbaric', 9663), ('alloxan', 674), ('metaphysical', 12637), ('pinealectomized', 16362), ('rattus', 17943), ('norvegicus', 14466), ('melatonin', 12514), ('pnx', 16558), ('pnxm', 16559), ('pinealectomy', 16363), ('implalife', 10025), ('sao', 19171), ('paulo', 15777), ('brazil', 2575), ('op', 14821), ('tot', 21994), ('conn', 4194), ('dn', 6023), ('pineal', 16361), ('gland', 8599), ('pibl', 16319), ('malleolus', 12141), ('repaired', 18464), ('gross', 8826), ('fuchsin', 8290), ('dprinted', 6142), ('carbonated', 2971), ('cha', 3295), ('endowed', 6785), ('superstructures', 21025), ('giving', 8590), ('fractal', 8182), ('prospect', 17413), ('pemfs', 15899), ('pins', 16372), ('inbred', 10138), ('articularly', 1322), ('microtomography', 13002), ('biomechanics', 2206), ('stimulations', 20596), ('microhardness', 12851), ('capsule', 2953), ('counteracting', 4572), ('prompting', 17364), ('individually', 10261), ('ostelysis', 15143), ('perimplant', 15989), ('tablets', 21277), ('sandpaper', 19164), ('tiles', 21773), ('chip', 3420), ('osteopotin', 15274), ('rnux', 18936), ('satb', 19180), ('giant', 8565), ('share', 19671), ('manifest', 12184), ('subtypes', 20887), ('originated', 14961), ('lot', 11902), ('facts', 7555), ('rapeutic', 17911), ('coordinate', 4432), ('slowly', 20014), ('tremendous', 22249), ('starts', 20472), ('bioactivators', 2079), ('camlog', 2877), ('conelog', 4118), ('epicrestally', 6937), ('strictly', 20687), ('activates', 261), ('polystyrene', 16691), ('tcps', 21374), ('estradiol', 7110), ('behave', 1906), ('donors', 6070), ('pt', 17572), ('responded', 18652), ('latent', 11480), ('sexes', 19631), ('sexual', 19634), ('dimorphism', 5719), ('nanotechnological', 13851), ('derivation', 5405), ('intraosseous', 10827), ('interfering', 10644), ('microbiome', 12762), ('calculating', 2841), ('pharmacokinetics', 16157), ('tailoring', 21296), ('mic', 12730), ('inactivated', 10123), ('paradigm', 15625), ('fracturing', 8194), ('predicts', 16993), ('break', 2584), ('downwards', 6130), ('capacities', 2930), ('injections', 10426), ('vascularization', 23042), ('protrusion', 17485), ('elevations', 6564), ('protruded', 17481), ('continued', 4334), ('symptoms', 21212), ('sinusitis', 19898), ('thickening', 21633), ('circumstance', 3515), ('abh', 36), ('pd', 15822), ('sprouts', 20356), ('woven', 23642), ('tfe', 21551), ('schneiderian', 19298), ('quicker', 17773), ('goals', 8684), ('spearing', 20215), ('trochanteric', 22343), ('impingement', 10022), ('cortex', 4522), ('named', 13724), ('misleading', 13175), ('refers', 18229), ('deeply', 5139), ('malalignment', 12124), ('incorrect', 10198), ('sizing', 19937), ('radiostereometric', 17860), ('vast', 23052), ('transferred', 22125), ('favouring', 7639), ('trochanter', 22342), ('calcar', 2817), ('efort', 6438), ('rev', 18778), ('doi', 6048), ('prototype', 17472), ('std', 20503), ('ecd', 6340), ('bat', 1819), ('ossoeintegration', 15121), ('sulphuric', 20960), ('shot', 19742), ('bombarded', 2469), ('unravelling', 22816), ('differently', 5644), ('biomolecules', 2238), ('rectangular', 18168), ('postextraction', 16794), ('soon', 20154), ('controversy', 4388), ('prgfs', 17181), ('faculty', 7558), ('king', 11276), ('george', 8536), ('lucknow', 11957), ('prgf', 17180), ('etiological', 7144), ('orofacial', 14971), ('periodontium', 16010), ('encompass', 6702), ('infectious', 10308), ('periodontitis', 16009), ('preconditions', 16965), ('keratinized', 11233), ('malpositioning', 12150), ('lifelong', 11671), ('efforts', 6436), ('departure', 5358), ('lining', 11739), ('averages', 1653), ('clusters', 3655), ('faces', 7532), ('researcher', 18566), ('poses', 16756), ('constrained', 4274), ('mobile', 13234), ('kss', 11339), ('varus', 23034), ('valgus', 22991), ('vvc', 23325), ('rotating', 18999), ('epiphyseal', 6957), ('deteriorated', 5495), ('youtube', 23732), ('videos', 23189), ('residents', 18596), ('trained', 22071), ('calibrated', 2850), ('exclude', 7282), ('lectures', 11565), ('demographics', 5275), ('usefulness', 22950), ('benchmarking', 1933), ('mention', 12543), ('video', 23185), ('sculpting', 19377), ('grooves', 8823), ('nodules', 14198), ('persisting', 16088), ('unlike', 22776), ('neutralizing', 14076), ('scl', 19328), ('coincident', 3749), ('twofold', 22454), ('citric', 3533), ('autoclave', 1602), ('sterilization', 20565), ('reusing', 18777), ('maxon', 12345), ('sexau', 19630), ('freiburg', 8232), ('ziterion', 23782), ('uffenheim', 22485), ('tomopgraphy', 21943), ('textures', 21542), ('necessitates', 13958), ('steam', 20508), ('sht', 19760), ('osteoimmune', 15219), ('osteo', 15146), ('genesis', 8499), ('unravel', 22815), ('concurrently', 4082), ('unravels', 22817), ('connections', 4199), ('interfacing', 10638), ('vibration', 23167), ('vibrated', 23165), ('sie', 19779), ('mercury', 12552), ('porosimetry', 16736), ('birefringence', 2322), ('realtimepcrarray', 18034), ('vegfb', 23084), ('bmps', 2439), ('chemokines', 3380), ('ccl', 3146), ('cxc', 4892), ('cl', 3539), ('inos', 10453), ('predominance', 17004), ('mmps', 13222), ('phex', 16186), ('sost', 20163), ('evidencing', 7208), ('orchestrating', 14919), ('autopsy', 1632), ('donated', 6064), ('methacrylate', 12655), ('pmma', 16542), ('injectable', 10422), ('injectability', 10421), ('sacrifices', 19113), ('mgss', 12717), ('degrade', 5193), ('solidification', 20117), ('mgs', 12715), ('vertebroplasty', 23132), ('kyphoplasty', 11350), ('biodegradability', 2130), ('inevitably', 10293), ('sequels', 19560), ('mechanobiology', 12437), ('hole', 9392), ('specially', 20223), ('regimens', 18279), ('mechanobiological', 12435), ('unidentified', 22722), ('cyclically', 4904), ('modal', 13247), ('dataset', 5002), ('segmentation', 19462), ('virtually', 23219), ('branch', 2563), ('boundary', 2529), ('vibrometric', 23172), ('unless', 22775), ('reosseointegration', 18461), ('died', 5623), ('ozone', 15528), ('dti', 6214), ('irradiations', 10973), ('gallium', 8388), ('arsenide', 1292), ('btl', 2693), ('generator', 8494), ('ozonedta', 15529), ('gaseous', 8417), ('simplified', 19860), ('xi', 23678), ('jiao', 11135), ('tong', 21948), ('forbidden', 8072), ('outstanding', 15385), ('specifications', 20230), ('nanohydroxyapatite', 13773), ('imposed', 10084), ('nanohydroxyapatites', 13774), ('reactivity', 18004), ('letting', 11619), ('bind', 2068), ('sas', 19179), ('protamine', 17438), ('alginate', 605), ('biofunctionalized', 2154), ('nanopolymorphic', 13815), ('ah', 538), ('tiah', 21726), ('alg', 602), ('biofunctionalization', 2152), ('exogenous', 7334), ('dampened', 4975), ('biomolecule', 2237), ('facilitative', 7543), ('integrins', 10558), ('nonsubmerged', 14416), ('distances', 5936), ('aje', 570), ('thermally', 21604), ('sof', 20094), ('postplacement', 16823), ('witnessed', 23577), ('redefined', 18182), ('satisfy', 19190), ('expectations', 7357), ('ili', 9855), ('eli', 6568), ('cli', 3606), ('subclassifications', 20762), ('micromovements', 12891), ('determinant', 5500), ('undoubtedly', 22680), ('homogeneity', 9418), ('untreatable', 22879), ('extractive', 7475), ('eip', 6464), ('entity', 6889), ('switching', 21189), ('agreed', 533), ('just', 11186), ('update', 22894), ('rarely', 17918), ('german', 8540), ('additives', 310), ('credited', 4692), ('implicated', 10068), ('wnts', 23584), ('mediator', 12473), ('commitment', 3876), ('interim', 10658), ('repositioning', 18514), ('seating', 19405), ('orienting', 14954), ('intraorally', 10823), ('hollowed', 9401), ('internally', 10694), ('relined', 18388), ('staged', 20427), ('oriented', 14953), ('contained', 4301), ('canaliculi', 2888), ('mechanosensitive', 12445), ('lacuno', 11402), ('canalicular', 2887), ('triggers', 22304), ('communicate', 3886), ('blockade', 2386), ('nanofiber', 13761), ('nfm', 14102), ('cg', 3288), ('polycaprolactone', 16614), ('nanofibers', 13762), ('joining', 11149), ('unloading', 22780), ('micromotions', 12888), ('distinction', 5941), ('elasto', 6484), ('constants', 4260), ('rigid', 18885), ('capture', 2955), ('computationally', 4025), ('realistic', 18025), ('powerful', 16883), ('nonlinear', 14321), ('homogenized', 9425), ('curcumin', 4838), ('plac', 16413), ('curc', 4837), ('ins', 10461), ('histometrically', 9326), ('closure', 3639), ('favourably', 7637), ('harmful', 9003), ('attentions', 1514), ('cpp', 4642), ('pyrophosphate', 17693), ('sps', 20357), ('catio', 3078), ('consolidated', 4251), ('granulated', 8764), ('lectin', 11562), ('mitogenic', 13198), ('cramoll', 4656), ('cratylia', 4678), ('mollis', 13310), ('seeds', 19449), ('allylamine', 679), ('hydrochloride', 9596), ('pah', 15555), ('paa', 15531), ('lastly', 11474), ('impedance', 10005), ('eis', 6466), ('ovalbumin', 15392), ('significative', 19808), ('resazurin', 18559), ('seed', 19445), ('outperforms', 15377), ('storing', 20631), ('na', 13705), ('outperforming', 15376), ('retraction', 18740), ('extracts', 7476), ('gfp', 8555), ('intravenously', 10847), ('tracing', 22048), ('triggered', 22302), ('sdf', 19380), ('cxcr', 4894), ('homing', 9413), ('rbmsc', 17961), ('event', 7189), ('sequences', 19563), ('totalizing', 21998), ('rtt', 19065), ('worldwide', 23625), ('jeopardizing', 11131), ('reproducing', 18533), ('arrive', 1289), ('husbandry', 9563), ('ethical', 7126), ('jawbones', 11114), ('tkar', 21870), ('fu', 8289), ('flowchart', 7969), ('checklist', 3363), ('edit', 6393), ('reoperations', 18455), ('extrapolated', 7490), ('iib', 9835), ('aori', 1092), ('partifcularly', 15702), ('recapitulating', 18075), ('organ', 14930), ('cartilaginous', 3023), ('decellularised', 5074), ('cartilage', 3022), ('pdcm', 15824), ('chondrogenically', 3450), ('bricks', 2610), ('cb', 3117), ('immunodeficient', 9946), ('quickly', 17775), ('cbs', 3134), ('realising', 18024), ('endochondral', 6738), ('template', 21435), ('answer', 979), ('smd', 20032), ('purity', 17637), ('hp', 9493), ('fostering', 8148), ('cytological', 4941), ('heightened', 9113), ('bvf', 2771), ('pf', 16116), ('orbits', 14915), ('signifi', 19803), ('cantly', 2921), ('pus', 17652), ('fistula', 7883), ('tenderness', 21459), ('redness', 18190), ('fever', 7727), ('proportional', 17394), ('hazards', 9044), ('retreated', 18743), ('collars', 3782), ('fibrotic', 7792), ('tethers', 21520), ('ankylosis', 946), ('angulation', 924), ('convenience', 4393), ('decoronation', 5116), ('unconsolidated', 22593), ('contraindications', 4360), ('decoronate', 5115), ('fundamentals', 8327), ('explanations', 7391), ('hwnt', 9569), ('vector', 23076), ('totbic', 22002), ('newbic', 14085), ('provoked', 17512), ('unreserved', 22827), ('nonmobile', 14339), ('ngf', 14107), ('injecting', 10424), ('stain', 20432), ('poloxamer', 16598), ('microparticles', 12897), ('cu', 4802), ('bmg', 2423), ('elasticity', 6481), ('hypoeutectic', 9705), ('validity', 22998), ('clarifies', 3551), ('origins', 14964), ('transplanted', 22191), ('immunoblotting', 9940), ('otherwise', 15329), ('bioavailability', 2092), ('antiadhesive', 1010), ('antiinflammatory', 1051), ('protecting', 17443), ('formulations', 8125), ('osteomyelitis', 15249), ('uams', 22473), ('xen', 23668), ('kirschner', 11279), ('wires', 23554), ('prophylaxis', 17387), ('uninfected', 22738), ('bioluminescence', 2189), ('semiquantitatively', 19500), ('mild', 13056), ('tive', 21859), ('medians', 12467), ('exert', 7310), ('clinics', 3624), ('phantoms', 16148), ('ui', 22490), ('qus', 17790), ('bai', 1751), ('depress', 5392), ('prompt', 17362), ('harnessing', 9014), ('eliminates', 6576), ('shortcoming', 19729), ('render', 18439), ('avocado', 1666), ('soybean', 20180), ('unsaponifiables', 22841), ('asu', 1441), ('ctr', 4796), ('arthritic', 1304), ('completion', 3962), ('bbt', 1839), ('tia', 21723), ('tads', 21287), ('tad', 21286), ('spring', 20351), ('ligated', 11692), ('hooks', 9444), ('archwire', 1235), ('supplementation', 21034), ('screwdriver', 19364), ('microanalysis', 12739), ('gloss', 8626), ('dull', 6225), ('photomicrographs', 16273), ('spectroscopic', 20253), ('splinted', 20307), ('unsplinted', 22856), ('configuration', 4130), ('complemented', 3953), ('collaboration', 3763), ('scenarios', 19285), ('fluorhydroxyapatite', 7990), ('fagha', 7563), ('solubility', 20127), ('agha', 520), ('entered', 6871), ('mua', 13525), ('spherical', 20277), ('innocent', 10442), ('vitality', 23257), ('absorbable', 74), ('acs', 246), ('extend', 7439), ('pig', 16347), ('gottingen', 8714), ('cc', 3139), ('shelf', 19698), ('fractions', 8187), ('execution', 7296), ('suture', 21159), ('appreciably', 1178), ('inductive', 10277), ('shall', 19660), ('antimir', 1054), ('msic', 13499), ('nothing', 14479), ('uncovers', 22604), ('anticipated', 1028), ('blind', 2379), ('infusion', 10374), ('settling', 19614), ('enormous', 6840), ('scope', 19341), ('nanofeatures', 13759), ('interdisciplinary', 10627), ('brief', 2618), ('classes', 3562), ('hydrides', 9590), ('metadiaphysis', 12607), ('gription', 8815), ('stiktite', 20588), ('tritanum', 22334), ('histomorthometry', 9343), ('tips', 21821), ('correspond', 4505), ('omitting', 14786), ('immunostaining', 9978), ('recycle', 18176), ('sensations', 19517), ('elicited', 6570), ('axons', 1696), ('cuff', 4812), ('electrode', 6503), ('electromechanical', 6519), ('evoking', 7216), ('somatosensory', 20138), ('percepts', 15939), ('tracked', 22051), ('perceived', 15929), ('evoked', 7215), ('pointlike', 16575), ('pushing', 17655), ('afferents', 457), ('discrimination', 5826), ('trains', 22074), ('gauge', 8426), ('distinguish', 5946), ('stringent', 20694), ('psychophysical', 17568), ('axonal', 1695), ('opens', 14832), ('opportunities', 14861), ('precision', 16955), ('conveying', 4416), ('cutaneous', 4882), ('noteworthy', 14478), ('amputee', 821), ('tactilelike', 21285), ('micrometer', 12876), ('multimodal', 13593), ('successive', 20900), ('going', 8691), ('correlating', 4501), ('bundles', 2730), ('outermost', 15360), ('house', 9480), ('renaissance', 18436), ('reportedly', 18507), ('seriously', 19584), ('advertised', 421), ('degrading', 5196), ('observers', 14614), ('intermediate', 10681), ('roc', 18953), ('predicting', 16987), ('readers', 18011), ('rigor', 18888), ('umbrella', 22532), ('consulted', 4290), ('disagreement', 5759), ('robis', 18944), ('crests', 4700), ('nh', 14109), ('tens', 21466), ('nanometers', 13787), ('wonderful', 23600), ('beds', 1892), ('boost', 2501), ('prescribing', 17099), ('habits', 8894), ('sent', 19536), ('postgraduate', 16798), ('preventively', 17168), ('respondents', 18653), ('clavulanate', 3579), ('regimes', 18280), ('symptomatic', 21210), ('relief', 18382), ('return', 18769), ('cam', 2872), ('prototyped', 17473), ('bespoke', 1966), ('dimentional', 5704), ('cerec', 3258), ('galileos', 8386), ('prosthetically', 17429), ('landmarks', 11441), ('mill', 13063), ('doctoral', 6030), ('tibase', 21732), ('vita', 23255), ('enamic', 6684), ('pleasing', 16501), ('stereolithographic', 20544), ('deviations', 5532), ('ranges', 17900), ('exceeding', 7256), ('coronally', 4481), ('evidences', 7207), ('urgently', 22933), ('ophiopogonin', 14848), ('herbal', 9197), ('radix', 17870), ('ophiopogon', 14847), ('japonicus', 11109), ('antioxidant', 1058), ('promotive', 17360), ('ns', 14510), ('ros', 18988), ('dysfunctions', 6283), ('apoptotic', 1129), ('inactivation', 10125), ('reactivating', 18000), ('afforded', 469), ('oetogenesis', 14709), ('abolished', 55), ('alleviated', 641), ('aas', 13), ('behalf', 1905), ('rom', 18978), ('merle', 12564), ('aubigne', 1541), ('walk', 23346), ('dislocation', 5858), ('rising', 18912), ('complexities', 3967), ('precluded', 16959), ('nanodot', 13754), ('sscs', 20395), ('nanowires', 13874), ('anticipate', 1027), ('errors', 7046), ('aligned', 612), ('anteversion', 1006), ('asses', 1394), ('conformations', 4155), ('elliptical', 6583), ('staying', 20500), ('trouble', 22354), ('sputtered', 20360), ('nanopatterned', 13803), ('inertness', 10290), ('microtopographic', 13003), ('nanotopographic', 13862), ('layering', 11514), ('titano', 21846), ('nanograined', 13766), ('coincubation', 3753), ('microtopographically', 13005), ('nanotopographically', 13864), ('translational', 22159), ('rbh', 17954), ('iti', 11081), ('rbhin', 17955), ('responsively', 18662), ('spraying', 20345), ('characters', 3343), ('pulp', 17611), ('dpsc', 6144), ('oss', 15036), ('loose', 11879), ('slender', 19984), ('arranged', 1279), ('linearly', 11731), ('lacunae', 11398), ('transformation', 22130), ('sunfit', 20981), ('serf', 19576), ('decines', 5087), ('france', 8210), ('posterolateral', 16792), ('osirix', 15031), ('pixmeo', 16405), ('geneva', 8505), ('intraprosthetic', 10833), ('ipd', 10949), ('signalling', 19796), ('kyoto', 11349), ('encyclopedia', 6719), ('genomes', 8513), ('kegg', 11221), ('ingenuity', 10377), ('ipa', 10946), ('genomic', 8514), ('proteomic', 17461), ('notch', 14473), ('omics', 14781), ('outputs', 15379), ('complexity', 3968), ('bioinformatics', 2169), ('crosstalk', 4729), ('prerequisites', 17090), ('tritanium', 22333), ('iic', 9836), ('suffered', 20912), ('contiguously', 4327), ('returning', 18771), ('sparsely', 20202), ('sine', 19879), ('triangle', 22270), ('metalloproteinase', 12620), ('ziebart', 23766), ('fan', 7592), ('schulze', 19305), ('kammerer', 11201), ('bader', 1736), ('jonitz', 11156), ('heincke', 9115), ('bjr', 2348), ('proteoglycans', 17457), ('retro', 18753), ('inverso', 10896), ('dhvp', 5565), ('vitronectin', 23266), ('grams', 8757), ('fluorochromic', 8000), ('inducted', 10274), ('peptidomimetic', 15926), ('farthest', 7600), ('mineralizing', 13101), ('posing', 16757), ('chapter', 3326), ('sustainability', 21148), ('impladent', 10024), ('lasak', 11462), ('czech', 4954), ('republic', 18537), ('charles', 3351), ('motol', 13437), ('branemarks', 2571), ('hasn', 9028), ('suprastrucure', 21085), ('weren', 23465), ('undergoes', 22624), ('competition', 3938), ('agnp', 525), ('galvanic', 8393), ('kelvin', 11224), ('snpsa', 20069), ('polarity', 16581), ('accepting', 124), ('donating', 6066), ('describing', 5432), ('normally', 14458), ('antral', 1073), ('pseudocysts', 17539), ('psuedocysts', 17559), ('finished', 7862), ('presentation', 17105), ('lacks', 11388), ('mirror', 13153), ('rmscs', 18929), ('mitigated', 13191), ('elevating', 6562), ('nonself', 14395), ('categorized', 3065), ('consuming', 4292), ('mustrain', 13653), ('cervus', 3274), ('nippon', 14139), ('acp', 226), ('ibsp', 9756), ('saa', 19106), ('itih', 11082), ('noggin', 14199), ('angpt', 920), ('ptn', 17585), ('phelligridin', 16170), ('violet', 23215), ('tromography', 22349), ('krypton', 11336), ('krf', 11329), ('fluoridated', 7991), ('fha', 7748), ('reflectance', 18239), ('atr', 1479), ('stir', 20602), ('fsp', 8282), ('strengthen', 20665), ('constructing', 4280), ('tc', 21370), ('vickers', 23179), ('coarser', 3682), ('acicular', 209), ('martensite', 12255), ('augmenting', 1566), ('tailorable', 21294), ('ignored', 9827), ('underexplored', 22621), ('extends', 7443), ('withstand', 23574), ('intimately', 10778), ('residuum', 18602), ('tfa', 21547), ('ambulate', 743), ('episodes', 6963), ('experiencing', 7374), ('washed', 23375), ('sl', 19959), ('aw', 1676), ('ma', 12020), ('nondecalcified', 14268), ('shortened', 19732), ('cerium', 3260), ('ceonps', 3230), ('ceonp', 3229), ('durations', 6245), ('elevate', 6560), ('manipulation', 12193), ('valence', 22989), ('palatal', 15570), ('undisturbed', 22677), ('compressed', 4005), ('predominated', 17008), ('devoid', 5542), ('harbors', 8988), ('ninety', 14135), ('suprastructure', 21083), ('portable', 16745), ('submucosal', 20822), ('gathered', 8424), ('loadings', 11819), ('la', 11354), ('slas', 19972), ('cleaner', 3584), ('pss', 17556), ('stps', 20634), ('blps', 2403), ('haps', 8983), ('thoracic', 21667), ('clawn', 3580), ('spines', 20290), ('biis', 2049), ('hapss', 8984), ('blpss', 2404), ('stpss', 20635), ('strengthens', 20668), ('shortening', 19733), ('tokyo', 21916), ('fukuoka', 8295), ('indicator', 10244), ('kaempferol', 11197), ('dulbecco', 6224), ('dpbs', 6137), ('coprecipitation', 4452), ('ck', 3536), ('ak', 571), ('rbmscs', 17962), ('approximate', 1196), ('supragingival', 21069), ('nanopitted', 13812), ('electropolished', 6535), ('sbae', 19215), ('precoated', 16961), ('colonizer', 3815), ('microsmooth', 12962), ('hypothesise', 9715), ('precoating', 16962), ('nanopitting', 13813), ('mechanostat', 12449), ('strained', 20642), ('ndi', 13945), ('mos', 13421), ('screwless', 19367), ('locking', 11844), ('stud', 20732), ('equator', 7001), ('calculus', 2844), ('gi', 8564), ('postloading', 16811), ('blc', 2368), ('oscillated', 15020), ('onward', 14817), ('peaked', 15844), ('retainer', 18715), ('pylons', 17682), ('sbip', 19224), ('remodel', 18418), ('entering', 6873), ('nonoccupied', 14348), ('fighting', 7815), ('pylon', 17681), ('scintigraphy', 19321), ('transdermal', 22106), ('mtmos', 13518), ('characterisations', 3331), ('drive', 6178), ('obese', 14580), ('cafeteria', 2807), ('express', 7428), ('impairment', 9995), ('wptg', 23646), ('dbbm', 5014), ('alveoli', 733), ('widened', 23519), ('compacting', 3899), ('quantities', 17742), ('retreatment', 18744), ('discern', 5780), ('mineralizational', 13097), ('integrative', 10556), ('triangular', 22271), ('nonrestorable', 14384), ('resorptions', 18635), ('functioning', 8322), ('companies', 3903), ('claim', 3540), ('mix', 13201), ('minds', 13090), ('tried', 22291), ('praising', 16925), ('choose', 3455), ('kilograms', 11266), ('anesthesia', 899), ('magnetically', 12079), ('smf', 20037), ('iron', 10968), ('nanoparticle', 13800), ('iop', 10939), ('electrochemically', 6501), ('codeposited', 3711), ('iops', 10942), ('hydrogel', 9599), ('maximized', 12340), ('actuated', 275), ('embodying', 6620), ('implementing', 10066), ('spatially', 20206), ('tetraborate', 21523), ('electrolytes', 6515), ('microslots', 12961), ('volcano', 23287), ('proportions', 17398), ('gammad', 8399), ('nk', 14161), ('rejected', 18348), ('polylactic', 16651), ('microsphere', 12967), ('mixer', 13203), ('seedling', 19448), ('tuber', 22389), ('transplantation', 22190), ('tsv', 22381), ('ilia', 9856), ('nucleating', 14533), ('atemporal', 1452), ('tfas', 21548), ('sweden', 21178), ('wheelchairs', 23480), ('locomotion', 11845), ('walked', 23347), ('unsupported', 22869), ('hypothetically', 9722), ('underline', 22630), ('assistive', 1415), ('stubbies', 20731), ('underestimated', 22619), ('noncoated', 14239), ('aggregactibacter', 512), ('porphyromonas', 16742), ('treponema', 22259), ('denticola', 5324), ('tannerella', 21318), ('forsythia', 8127), ('prevotella', 17175), ('intermedia', 10679), ('dropout', 6190), ('nonosseointegrated', 14353), ('microbiologic', 12758), ('recalled', 18071), ('amounted', 799), ('interquartile', 10725), ('iqr', 10959), ('sign', 19793), ('drks', 6185), ('traumatized', 22230), ('curettage', 4841), ('resembling', 18583), ('aiding', 552), ('fiber', 7755), ('subdivided', 20776), ('gray', 8793), ('rg', 18831), ('expose', 7418), ('fixing', 7908), ('trans', 22081), ('humeral', 9549), ('stressed', 20677), ('foreseeing', 8089), ('fall', 7574), ('victims', 23182), ('acquisition', 233), ('cat', 3048), ('throught', 21709), ('fz', 8361), ('tz', 22467), ('moments', 13318), ('mx', 13678), ('my', 13679), ('passing', 15718), ('trapezoidal', 22220), ('falling', 7578), ('scenario', 19284), ('glenoid', 8611), ('shoulders', 19746), ('tsa', 22373), ('confined', 4134), ('faceplate', 7531), ('tsas', 22375), ('columns', 3831), ('judged', 11167), ('hemiarthroplasty', 9143), ('durability', 6241), ('trustees', 22367), ('emergence', 6639), ('pemf', 15898), ('osteopathy', 15259), ('pti', 17582), ('anabolism', 830), ('resisting', 18614), ('nontoxic', 14428), ('deteriorations', 5499), ('ingrowths', 10387), ('skeletons', 19944), ('enriches', 6850), ('signals', 19798), ('conventionally', 4398), ('nih', 14128), ('macroporosity', 12051), ('receives', 18082), ('threshold', 21691), ('rubber', 19069), ('dam', 4968), ('isolate', 11024), ('thermometer', 21617), ('exceeded', 7255), ('overheating', 15435), ('perforation', 15957), ('nonusers', 14437), ('mann', 12196), ('whitney', 23504), ('immobile', 9915), ('magnification', 12086), ('tight', 21759), ('metrically', 12694), ('osseoincorporation', 15066), ('cadaver', 2794), ('hemipelvises', 9155), ('bead', 1864), ('porocoat', 16733), ('pac', 15532), ('newer', 14089), ('gac', 8368), ('replicating', 18498), ('picf', 16321), ('headings', 9081), ('indexers', 10232), ('lists', 11778), ('methodologic', 12667), ('downs', 6124), ('reading', 18014), ('list', 11775), ('nitric', 14147), ('ratings', 17932), ('asymptomatic', 1445), ('extrapolate', 7489), ('consultable', 4286), ('transplant', 22189), ('possibilities', 16775), ('prefabrication', 17018), ('harvesting', 9023), ('reproduce', 18527), ('rtqs', 19063), ('le', 11539), ('quanta', 17729), ('feg', 7688), ('fei', 7689), ('hillsboro', 9283), ('horiba', 9452), ('simvastatin', 19875), ('autophagy', 1628), ('nanometalene', 13785), ('aperture', 1106), ('funding', 8328), ('seaspine', 19402), ('usd', 22946), ('dowels', 6111), ('apertures', 1107), ('nonreactive', 14377), ('adopting', 386), ('multipotential', 13616), ('constituted', 4266), ('athymic', 1458), ('perpendicularly', 16077), ('smile', 20040), ('attempting', 1506), ('save', 19199), ('historically', 9353), ('revolved', 18819), ('diagnosing', 5574), ('timely', 21787), ('inadequacies', 10128), ('impossible', 10088), ('keys', 11246), ('haversian', 9039), ('trabecules', 22039), ('gee', 8459), ('exchangeable', 7269), ('tixos', 21860), ('leader', 11543), ('novaxa', 14489), ('milan', 13054), ('italy', 11068), ('implus', 10075), ('beneath', 1938), ('transgingivally', 22140), ('tetracycline', 21525), ('calcein', 2818), ('complexone', 3970), ('veins', 23091), ('carefully', 3000), ('sectioned', 19428), ('dissected', 5910), ('lscm', 11937), ('mar', 12225), ('creeping', 4694), ('duke', 6223), ('ears', 6307), ('anotia', 976), ('microtia', 12994), ('suits', 20936), ('preferences', 17024), ('laryngoscope', 11460), ('laryngological', 11459), ('rhinological', 18857), ('otological', 15336), ('pfmr', 16121), ('protek', 17454), ('sulzer', 20961), ('sanded', 19161), ('wagner', 23336), ('pma', 16536), ('beguec', 1903), ('deceased', 5073), ('usual', 22958), ('monoblock', 13336), ('expectancy', 7355), ('sunitinib', 20982), ('aerospace', 439), ('polycrystalline', 16621), ('conformable', 4151), ('mammalian', 12155), ('specify', 20234), ('relationships', 18361), ('minimization', 13120), ('momentum', 13319), ('acting', 251), ('osseus', 15109), ('undertook', 22663), ('ration', 17934), ('mesially', 12579), ('papillae', 15613), ('papillary', 15614), ('periodontally', 16002), ('hopeless', 9451), ('adapted', 291), ('hn', 9377), ('hitachi', 9357), ('thymosin', 21718), ('tbeta', 21361), ('bromodeoxyuridine', 2648), ('synthase', 21243), ('cyclooxygenase', 4909), ('inhibits', 10405), ('hypoxia', 9726), ('wks', 23580), ('vivoss', 23271), ('provisionalization', 17502), ('blade', 2355), ('harvest', 9021), ('microscrews', 12955), ('smoker', 20050), ('heads', 9086), ('reentry', 18205), ('cores', 4472), ('proliferates', 17328), ('phosphorylated', 16233), ('immunocompetent', 9941), ('odontoblast', 14696), ('pulpal', 17612), ('enzyme', 6916), ('immunosorbent', 9976), ('thp', 21678), ('ldl', 11537), ('lox', 11919), ('rhopn', 18861), ('mitochondrial', 13196), ('excessively', 7267), ('diminish', 5714), ('discarded', 5777), ('literatures', 11781), ('multifactorial', 13575), ('histochemical', 9312), ('broadly', 2644), ('hallmarks', 8931), ('featuring', 7674), ('meshwork', 12575), ('scalloped', 19244), ('summarizing', 20972), ('exposition', 7422), ('iodine', 10927), ('antiseptic', 1067), ('ol', 14752), ('id', 9780), ('orbital', 14910), ('craniomaxillofacial', 4664), ('ostoeporotic', 15320), ('researches', 18568), ('intragastrically', 10806), ('implantations', 10036), ('ibcr', 9748), ('lamella', 11420), ('cblw', 3128), ('trabercular', 22041), ('tw', 22441), ('ar', 1216), ('microalloyed', 12738), ('aes', 441), ('accelerates', 108), ('liberation', 11653), ('spectrometric', 20245), ('lipus', 11768), ('microfilaments', 12824), ('alphacgrp', 694), ('microvascular', 13012), ('vasodilator', 23051), ('lentiviral', 11600), ('decline', 5095), ('rescue', 18561), ('relocated', 18391), ('transfection', 22118), ('consequence', 4220), ('vasodilative', 23050), ('suppressive', 21054), ('cahpo', 2813), ('dicalcium', 5607), ('dihydrate', 5681), ('afterward', 487), ('mars', 12253), ('sharing', 19674), ('architectures', 1233), ('ingrown', 10385), ('magnitudes', 12092), ('microstrain', 12972), ('tribocorrosive', 22275), ('tribocorrosion', 22274), ('sliding', 19992), ('reciprocating', 18104), ('circuit', 3499), ('ocp', 14671), ('cof', 3726), ('scars', 19273), ('accessed', 127), ('ascribed', 1351), ('tribo', 22273), ('solicitations', 20115), ('tribofilm', 22276), ('grants', 8760), ('naci', 13708), ('cotinine', 4557), ('plasmatic', 16454), ('autosomal', 1635), ('wich', 23513), ('presentations', 17106), ('man', 12158), ('whithout', 23502), ('broader', 2643), ('medically', 12477), ('uncover', 22601), ('appraises', 1175), ('dento', 5336), ('personalising', 16092), ('emerges', 6641), ('shade', 19651), ('hinder', 9285), ('signatures', 19800), ('osseointegrable', 15079), ('amp', 803), ('stacked', 20422), ('immunotherapy', 9983), ('glucosaminidase', 8636), ('gmd', 8676), ('exchange', 7268), ('bioluminescent', 2190), ('lac', 11380), ('lux', 11981), ('vancomycin', 23011), ('bli', 2378), ('hardware', 8999), ('monotherapies', 13368), ('abscess', 65), ('communities', 3891), ('synergy', 21232), ('synergizes', 21231), ('restorable', 18670), ('rooted', 18986), ('dmcs', 6015), ('cementing', 3193), ('dmc', 6014), ('ethylene', 7137), ('pe', 15842), ('liners', 11734), ('dislocations', 5859), ('attend', 1508), ('necessitated', 13957), ('microl', 12862), ('assesses', 1397), ('clouds', 3644), ('tessellated', 21503), ('geomagic', 8529), ('studio', 20737), ('intersecting', 10740), ('solidworks', 20122), ('permutation', 16066), ('ansys', 983), ('vm', 23274), ('plateau', 16470), ('vps', 23313), ('pitted', 16397), ('cracks', 4654), ('octacalcium', 14674), ('screwed', 19365), ('vg', 23155), ('titamax', 21835), ('neodent', 14001), ('wc', 23405), ('bi', 2003), ('quadri', 17715), ('qs', 17705), ('osstell', 15126), ('tailed', 21291), ('increment', 10205), ('raising', 17878), ('indexed', 10231), ('threatening', 21687), ('arising', 1261), ('addresses', 313), ('diminished', 5715), ('abandonment', 18), ('categorize', 3064), ('synthesize', 21251), ('aggregated', 514), ('vibratory', 23170), ('economics', 6349), ('electromyography', 6523), ('vbf', 23057), ('dome', 6054), ('extraoral', 7482), ('biogran', 2161), ('bg', 1991), ('domes', 6055), ('extraosseous', 7488), ('equivalency', 7016), ('statins', 20484), ('fluvastatin', 8016), ('topical', 21963), ('exoprosthesis', 7339), ('lazy', 11518), ('quadratic', 17714), ('formula', 8120), ('considers', 4240), ('overloading', 15447), ('refer', 18220), ('heel', 9110), ('strike', 20690), ('toe', 21906), ('assume', 1424), ('donation', 6067), ('bladder', 2354), ('sinuses', 19896), ('gently', 8523), ('haematoxylin', 8910), ('radiopaque', 17853), ('challenged', 3305), ('lekholm', 11586), ('zarb', 23745), ('nanosized', 13835), ('spin', 20286), ('perforating', 15956), ('perforated', 15955), ('ago', 527), ('unanswered', 22555), ('entirely', 6885), ('unplanned', 22802), ('volunteer', 23300), ('disclosed', 5792), ('thermocouples', 21611), ('thermography', 21616), ('costae', 4548), ('cuni', 4829), ('camera', 2875), ('pressures', 17129), ('deltat', 5257), ('extracortical', 7467), ('shaft', 19655), ('envelope', 6901), ('osteoconnectivity', 15184), ('adaptive', 296), ('rm', 18923), ('thirds', 21658), ('noninfiltrated', 14307), ('forth', 8132), ('wherein', 23487), ('csrha', 4779), ('admscs', 380), ('radiopacity', 17852), ('mumol', 13635), ('pnp', 16555), ('proving', 17499), ('substantiated', 20858), ('histograms', 9318), ('signified', 19810), ('fdp', 7663), ('fdps', 7664), ('regain', 18262), ('conflicts', 4146), ('solved', 20132), ('employ', 6662), ('aforementioned', 477), ('summarises', 20967), ('characterisation', 3330), ('photo', 16241), ('ringer', 18898), ('indigenously', 10248), ('potentiostat', 16865), ('gamry', 8402), ('dimethylthiazol', 5710), ('yl', 23719), ('diphenyltetrazolium', 5729), ('bromide', 2647), ('speeding', 20264), ('hhob', 9258), ('cultivated', 4818), ('hydrophilised', 9611), ('sah', 19131), ('painted', 15561), ('tps', 22027), ('amplified', 811), ('delivering', 5241), ('cytochemistry', 4932), ('qic', 17699), ('itgav', 11078), ('talin', 21306), ('neurotoxicity', 14068), ('harnessed', 9012), ('templates', 21436), ('inverted', 10898), ('basal', 1795), ('maximizing', 12342), ('underlined', 22631), ('optimizations', 14888), ('surround', 21117), ('inconveniences', 10191), ('reaches', 17991), ('burial', 2739), ('extender', 7441), ('percussion', 15946), ('neoformation', 14003), ('referring', 18228), ('evaluators', 7184), ('sulfate', 20943), ('antibiotically', 1021), ('impregnated', 10092), ('constellations', 4262), ('tripalmitin', 22316), ('beads', 1869), ('gentamicin', 8521), ('tobramycin', 21904), ('hemihydrate', 9149), ('osteoset', 15293), ('quick', 17770), ('herafill', 9195), ('atleast', 1467), ('caso', 3036), ('atlatest', 1466), ('tav', 21354), ('poisson', 16577), ('casing', 3034), ('terephthalate', 21483), ('suspension', 21144), ('superfine', 20997), ('anat', 869), ('rec', 18067), ('microthreads', 12993), ('enbloc', 6685), ('hitomorphometry', 9360), ('bibliometric', 2015), ('classics', 3566), ('authorship', 1594), ('geographic', 8526), ('country', 4594), ('centralisation', 3213), ('north', 14464), ('productive', 17269), ('dominated', 6061), ('collaborations', 3764), ('internationally', 10697), ('institutionally', 10515), ('decentralisation', 5081), ('authorships', 1595), ('institutes', 10511), ('reflected', 18240), ('evolutionary', 7218), ('prominence', 17342), ('forecast', 8079), ('gadolinium', 8369), ('owned', 15488), ('magnezix', 12085), ('mischmetal', 13162), ('vsmc', 23316), ('standing', 20453), ('mst', 13507), ('dripping', 6177), ('nanostructural', 13840), ('nsz', 14517), ('condensed', 4088), ('abrasive', 61), ('apa', 1096), ('erythritol', 7056), ('hydroxylapatite', 9638), ('biocalcium', 2095), ('biocap', 2096), ('nontreated', 14431), ('stretched', 20682), ('bien', 2039), ('paranoid', 15653), ('schizophrenia', 19296), ('illness', 9866), ('observable', 14606), ('personality', 16093), ('psychology', 17566), ('obsessive', 14616), ('compulsive', 4021), ('haloperidol', 8934), ('oxcarbazepine', 15494), ('olanzapine', 14755), ('seroquel', 19589), ('exploration', 7404), ('decay', 5071), ('agenesis', 501), ('incisors', 10163), ('impacted', 9987), ('wisdom', 23557), ('extractions', 7474), ('abscenses', 64), ('parents', 15667), ('appointments', 1163), ('conducting', 4103), ('necessaire', 13953), ('squizofrenic', 20371), ('unsuccessfully', 22865), ('minnesota', 13138), ('pool', 16708), ('socio', 20084), ('insurance', 10538), ('tobacco', 21901), ('endodontics', 6747), ('carboxymethyl', 2987), ('preactivated', 16928), ('proceeding', 17244), ('enhancements', 6826), ('polymerized', 16664), ('propolis', 17392), ('resinous', 18607), ('honeybees', 9440), ('enzymes', 6917), ('texturised', 21544), ('interacts', 10585), ('couples', 4598), ('calcify', 2822), ('net', 14027), ('nhosts', 14114), ('msla', 13502), ('nhost', 14113), ('selectively', 19480), ('subunits', 20889), ('denatured', 5283), ('intersects', 10743), ('concentrates', 4048), ('ramus', 17888), ('reinserted', 18335), ('microscopically', 12950), ('scientifically', 19315), ('reasoned', 18050), ('overtime', 15470), ('framed', 8206), ('microbiological', 12759), ('gfrc', 8556), ('differentiated', 5640), ('congenitally', 4169), ('hypoplastic', 9712), ('loosened', 11882), ('hypertrophic', 9695), ('underdeveloped', 22617), ('disarticulation', 5768), ('ncf', 13933), ('lymphoid', 11998), ('neutrophils', 14080), ('separating', 19548), ('translates', 22156), ('build', 2712), ('menaquinone', 12532), ('mk', 13209), ('carboxylated', 2985), ('gla', 8596), ('quantitated', 17737), ('monotherapy', 13369), ('stereolithographical', 20545), ('ptv', 17589), ('predicted', 16985), ('vascularity', 23041), ('pose', 16754), ('catastrophic', 3058), ('documenting', 6037), ('contemporary', 4318), ('unstable', 22858), ('caries', 3002), ('profession', 17272), ('exodontia', 7333), ('mayan', 12348), ('maggiolo', 12074), ('tube', 22388), ('strock', 20706), ('brothers', 2656), ('vitallium', 23259), ('formiggini', 8117), ('father', 7622), ('zepponi', 23755), ('subperiosteal', 20831), ('dahl', 4962), ('permucosal', 16064), ('dr', 6147), ('linkow', 11747), ('cornerstone', 4477), ('serendipitous', 19574), ('invention', 10891), ('intervening', 10762), ('endow', 6784), ('mj', 13208), ('mitigate', 13190), ('allogeneic', 655), ('downgrading', 6115), ('reinforcement', 18330), ('longterm', 11872), ('dihydroxy', 5685), ('phenylalanine', 16183), ('dopa', 6074), ('za', 23743), ('anyridge', 1084), ('megagen', 12508), ('gyeongbuk', 8882), ('south', 20177), ('korea', 11320), ('xpeed', 23686), ('violent', 23214), ('mobilization', 13240), ('unused', 22882), ('hollows', 9402), ('reminiscent', 18412), ('perfectly', 15954), ('bmmscs', 2430), ('nonviral', 14441), ('complexed', 3964), ('genemodified', 8479), ('tissueengineered', 21830), ('sirius', 19912), ('spindle', 20288), ('triangularshaped', 22272), ('cluster', 3651), ('calcified', 2821), ('droplets', 6189), ('matrices', 12300), ('bmmsc', 2429), ('complexing', 3966), ('symptomatology', 21211), ('seventeen', 19619), ('astm', 1437), ('nw', 14562), ('nanoplate', 13814), ('pkc', 16410), ('instantly', 10503), ('welded', 23452), ('instant', 10501), ('prama', 16926), ('ubiquitination', 22474), ('lipids', 11753), ('expertise', 7383), ('handlers', 8960), ('deployed', 5381), ('freehanded', 8227), ('operators', 14844), ('executing', 7295), ('operator', 14843), ('hereby', 9200), ('glucose', 8637), ('israel', 11058), ('naturally', 13906), ('cryopreservation', 4751), ('invoke', 10914), ('seemingly', 19456), ('achievable', 199), ('morselized', 13416), ('anticatabolic', 1026), ('increments', 10208), ('uncompensated', 22588), ('lucency', 11954), ('finned', 7867), ('pegged', 15881), ('imparting', 10002), ('semaphorin', 19490), ('sema', 19487), ('osteoprotection', 15282), ('immunohistomorphometry', 9961), ('polarized', 16584), ('preferential', 17025), ('flank', 7926), ('repetitive', 18481), ('unite', 22755), ('papilla', 15612), ('scar', 19265), ('faced', 7530), ('smoothening', 20056), ('switch', 21187), ('programmed', 17300), ('magnet', 12077), ('waldenburg', 23344), ('rhinoceros', 18856), ('mcneel', 12385), ('seattle', 19406), ('wa', 23330), ('monolithic', 13353), ('pair', 15562), ('exported', 7417), ('format', 8105), ('houston', 9486), ('cusp', 4866), ('damaging', 4972), ('disruption', 5904), ('involuntary', 10915), ('icsi', 9774), ('texts', 21538), ('educate', 6404), ('keratin', 11230), ('wool', 23603), ('ossointegration', 15122), ('hind', 9284), ('sulphonated', 20958), ('axially', 1686), ('degenerated', 5186), ('cohere', 3733), ('vertera', 23133), ('atlanta', 1463), ('expulsion', 7435), ('getting', 8549), ('stick', 20578), ('premise', 17056), ('apolipoproteins', 1125), ('tn', 21886), ('wettable', 23473), ('santa', 19170), ('ines', 10291), ('alive', 618), ('thicknesses', 21637), ('noncantilever', 14236), ('lesser', 11611), ('stemmed', 20524), ('conceivably', 4042), ('extra', 7460), ('minimise', 13116), ('supplementing', 21036), ('neoplasm', 14012), ('resections', 18575), ('inferiority', 10316), ('minimises', 13118), ('minimising', 13119), ('extreme', 7499), ('seldom', 19471), ('generalized', 8485), ('estimating', 7106), ('equations', 7000), ('radiograms', 17826), ('insignificant', 10480), ('extraorally', 7483), ('ioc', 10924), ('eoc', 6919), ('gcf', 8444), ('bode', 2451), ('pds', 15840), ('devise', 5535), ('doing', 6049), ('rodent', 18960), ('dying', 6265), ('necrotic', 13967), ('transalveolarly', 22084), ('yantai', 23700), ('stomatologic', 20617), ('maintainanance', 12104), ('onlay', 14806), ('allografts', 662), ('downgraded', 6114), ('indirectness', 10251), ('certainty', 3265), ('incomparable', 10177), ('septa', 19551), ('shares', 19673), ('cellularity', 3183), ('subgingival', 20783), ('predispose', 16997), ('shenggu', 19703), ('pills', 16354), ('dentium', 5335), ('nonseparation', 14396), ('nonparametrical', 14360), ('yb', 23704), ('controllable', 4379), ('fluences', 7981), ('fluence', 7980), ('umbilical', 22531), ('cord', 4467), ('vein', 23090), ('cho', 3433), ('endoosseous', 6757), ('dispersion', 5882), ('mts', 13521), ('sdr', 19385), ('cytoplasmic', 4946), ('lamelipodia', 11419), ('groves', 8839), ('filopodia', 7836), ('interconnections', 10611), ('variously', 23032), ('inevitable', 10292), ('cautionary', 3104), ('lieu', 11667), ('whenever', 23482), ('returned', 18770), ('shields', 19712), ('performs', 15964), ('competitively', 3940), ('coefficients', 3720), ('artifacts', 1331), ('doxycycline', 6134), ('dox', 6131), ('extracting', 7472), ('glasses', 8604), ('bmgs', 2424), ('gigapascal', 8571), ('unattainable', 22558), ('impartment', 10003), ('nanobubbles', 13738), ('softening', 20098), ('nanobubble', 13737), ('transitional', 22147), ('broadened', 2640), ('mechanosensing', 12444), ('mechanoengineering', 12440), ('doping', 6081), ('blades', 2356), ('pixels', 16404), ('intergroup', 10656), ('wolff', 23588), ('law', 11510), ('cps', 4644), ('endoprosthetics', 6762), ('posttraumatic', 16846), ('deformity', 5183), ('resume', 18702), ('jobs', 11141), ('interprosthetic', 10723), ('risers', 18910), ('zygomatic', 23816), ('silicones', 19836), ('inconspicuous', 10188), ('anaplastologist', 865), ('desire', 5452), ('camouflage', 2878), ('mirrored', 13154), ('replica', 18494), ('revolutionize', 18817), ('lifts', 11683), ('vanished', 23013), ('leaves', 11559), ('denial', 5291), ('prion', 17205), ('osseoinductive', 15068), ('boneblock', 2479), ('morphologic', 13401), ('denoted', 5298), ('slaffinity', 19966), ('comparably', 3908), ('stripping', 20699), ('holding', 9390), ('transitive', 22151), ('secretions', 19422), ('multinuclear', 13598), ('regulative', 18310), ('srankl', 20374), ('royal', 19034), ('melbourne', 12515), ('benign', 1948), ('nose', 14468), ('orbit', 14908), ('rhinectomy', 18854), ('accessibility', 128), ('insure', 10539), ('exposes', 7420), ('zop', 23802), ('liability', 11649), ('parafunctional', 15634), ('probably', 17226), ('swallow', 21172), ('exploratory', 7407), ('rule', 19075), ('cheaper', 3358), ('orchestrate', 14917), ('cascades', 3029), ('preferentially', 17026), ('piston', 16387), ('publicized', 17600), ('circles', 3497), ('harm', 9002), ('comments', 3868), ('eska', 7071), ('warning', 23367), ('hospitals', 9466), ('radiostereophotometric', 17862), ('withdrawn', 23570), ('australasian', 1582), ('sensed', 19519), ('attempted', 1505), ('caveolae', 3109), ('phagocytosis', 16141), ('edged', 6385), ('ppaam', 16889), ('amplify', 814), ('micropillars', 12907), ('atp', 1477), ('biologists', 2185), ('multilevel', 13588), ('multivariable', 13631), ('sidak', 19772), ('uhmwpe', 22489), ('ligaments', 11689), ('sutures', 21161), ('imperatively', 10014), ('harboring', 8987), ('microdents', 12802), ('micropatterned', 12899), ('deposit', 5384), ('microdent', 12801), ('calvariae', 2867), ('bgp', 1997), ('pelvises', 15895), ('descriptively', 5436), ('covariance', 4608), ('resultant', 18696), ('degenerative', 5188), ('fails', 7567), ('demanding', 5262), ('psychotic', 17570), ('cessation', 3275), ('rasping', 17921), ('socioeconomic', 20085), ('nbf', 13916), ('chondroitin', 3452), ('standardization', 20448), ('confounders', 4162), ('grounds', 8831), ('interferes', 10643), ('xenogenic', 23672), ('depositions', 5389), ('oxytetracycline', 15524), ('nanobone', 13736), ('polyethylenimine', 16635), ('excitation', 7278), ('pem', 15897), ('continuity', 4337), ('irritation', 10996), ('stoma', 20614), ('perioperative', 16023), ('tolerating', 21927), ('mentor', 12546), ('forkhead', 8096), ('foxo', 8168), ('viewed', 23192), ('sensor', 19531), ('ob', 14576), ('glycometabolism', 8666), ('modulator', 13283), ('giemsa', 8569), ('ge', 8456), ('goettingen', 8688), ('overestimated', 15422), ('radiographed', 17828), ('jeopardized', 11129), ('ics', 9773), ('ic', 9758), ('dic', 5606), ('equivalence', 7015), ('recessions', 18097), ('ibuprofen', 9757), ('questionable', 17764), ('miniscrew', 13133), ('continual', 4330), ('intermittent', 10687), ('glucocorticoids', 8632), ('epiphyses', 6958), ('expect', 7354), ('razis', 17948), ('erupted', 7049), ('razi', 17947), ('ankylos', 943), ('frialit', 8249), ('synchro', 21214), ('nobelreplace', 14188), ('groovy', 8825), ('sz', 21270), ('orthodontist', 14986), ('osseointegra', 15078), ('sharply', 19679), ('tends', 21462), ('gb', 8438), ('possessing', 16773), ('unfilled', 22702), ('cfp', 3280), ('cfrp', 3283), ('stylus', 20747), ('downgrowth', 6118), ('building', 2713), ('necks', 13962), ('overlaid', 15438), ('densely', 5302), ('pseudopods', 17548), ('secured', 19434), ('parietal', 15673), ('string', 20693), ('ontology', 14816), ('articulated', 1323), ('corroborate', 4511), ('lesion', 11606), ('intervened', 10760), ('suppurated', 21055), ('fistulized', 7887), ('pharmaceutically', 16153), ('capacitively', 2932), ('reactor', 18005), ('flight', 7955), ('tof', 21907), ('sims', 19865), ('lamellae', 11421), ('fib', 7754), ('cultivation', 4819), ('sroxcly', 20388), ('incoherent', 10175), ('pathogenesis', 15744), ('hej', 9116), ('dissect', 5909), ('nba', 13914), ('rba', 17951), ('fluorochromes', 7999), ('agglomeration', 506), ('incidents', 10154), ('enter', 6870), ('endocytosis', 6743), ('trojan', 22347), ('horse', 9459), ('disrupt', 5901), ('pathological', 15753), ('dielectric', 5625), ('dbd', 5016), ('dh', 5558), ('desiccator', 5440), ('kpa', 11325), ('container', 4302), ('hydrocarbon', 9591), ('bioresponse', 2266), ('strengthened', 20666), ('nanoscaled', 13828), ('wetting', 23475), ('energetic', 6797), ('marketed', 12244), ('candidates', 2904), ('macromolecular', 12042), ('biosystem', 2290), ('firstly', 7878), ('fragmentary', 8199), ('secondly', 19415), ('cleanliness', 3587), ('reproducibly', 18532), ('ultrathin', 22528), ('polysiloxane', 16690), ('sioxcy', 19907), ('hyprotect', 9728), ('gate', 8421), ('sioxcycoated', 19908), ('gbr', 8442), ('postimplantation', 16803), ('survivals', 21129), ('gl', 8595), ('silanization', 19819), ('dapi', 4987), ('pseudopod', 17545), ('qrt', 17704), ('arginase', 1249), ('hierarchy', 9268), ('shock', 19723), ('nanotitanium', 13860), ('acceleration', 110), ('assists', 1416), ('expositions', 7423), ('hurdle', 9560), ('strikingly', 20692), ('repressed', 18525), ('aunp', 1570), ('antagomir', 984), ('aunps', 1571), ('uptaken', 22921), ('microcomputerized', 12788), ('misexpression', 13168), ('osseointegation', 15077), ('nanoreserviors', 13820), ('raloxifene', 17880), ('ral', 17879), ('multilayered', 13586), ('composited', 3991), ('submicrometer', 20816), ('bit', 2339), ('thermochemical', 21607), ('bad', 1735), ('arrhenius', 1286), ('equation', 6999), ('nanomorphology', 13794), ('nanopore', 13816), ('nanomorphological', 13792), ('preformed', 17029), ('pftm', 16125), ('pftms', 16126), ('molding', 13304), ('manually', 12207), ('biometrical', 2217), ('numeric', 14546), ('grxs', 8846), ('sbs', 19228), ('assign', 1405), ('postel', 16787), ('adapt', 286), ('dietetics', 5628), ('germanium', 8542), ('metalloid', 12618), ('neighbors', 13990), ('dietary', 5627), ('eutectic', 7165), ('rolled', 18976), ('decent', 5080), ('pioneering', 16374), ('children', 3410), ('aural', 1572), ('atresia', 1483), ('rendered', 18440), ('atretic', 1484), ('adjusting', 358), ('prejudice', 17040), ('wbv', 23404), ('tracp', 22055), ('appendicular', 1145), ('connector', 4202), ('protrudes', 17482), ('downgrow', 6117), ('grossly', 8827), ('albeit', 582), ('receding', 18077), ('lysed', 12010), ('cats', 3086), ('entrapment', 6891), ('painful', 15558), ('ulcers', 22496), ('clients', 3609), ('feline', 7692), ('uneven', 22688), ('discontinuous', 5807), ('crevices', 4702), ('curb', 4836), ('instrumentations', 10526), ('avirulent', 1662), ('virulent', 23221), ('brush', 2665), ('checkerboard', 3361), ('interferometer', 10645), ('uniquely', 22749), ('edentulated', 6376), ('mmd', 13218), ('mml', 13219), ('unstained', 22859), ('midsections', 13040), ('faceted', 7534), ('reflecting', 18241), ('midsection', 13039), ('decellularized', 5075), ('osteochondral', 15167), ('plugs', 16527), ('institutional', 10514), ('cincinnati', 3492), ('marx', 12259), ('mris', 13483), ('nonfailure', 14284), ('advise', 426), ('arthroscopy', 1315), ('ehrs', 6450), ('attributes', 1535), ('actively', 267), ('irrevocable', 10987), ('sizeable', 19934), ('assurance', 1430), ('determinants', 5501), ('antineoplastic', 1055), ('exacerbated', 7233), ('chemotherapeutic', 3386), ('catheters', 3071), ('pumps', 17623), ('breach', 2580), ('characterizes', 3341), ('phenomenological', 16175), ('reflective', 18244), ('lifeworld', 11678), ('meaning', 12405), ('struggle', 20723), ('familiar', 7587), ('begin', 1898), ('struggling', 20724), ('reconnecting', 18128), ('outlook', 15369), ('stamina', 20443), ('outweigh', 15388), ('psychosocial', 17569), ('initiatives', 10418), ('forums', 8138), ('dialog', 5581), ('supracrestal', 21066), ('neglected', 13984), ('submerging', 20810), ('untied', 22873), ('pli', 16512), ('msbi', 13490), ('bases', 1805), ('atraumatic', 1480), ('ifds', 9813), ('uncontrolled', 22597), ('worst', 23634), ('misfit', 13169), ('electronically', 6526), ('boolean', 2499), ('written', 23657), ('filtering', 7839), ('distortion', 5956), ('heterogenic', 9217), ('tightening', 21762), ('tolerable', 21919), ('imply', 10076), ('neglect', 13982), ('declare', 5092), ('followup', 8061), ('ischemia', 11002), ('centers', 3208), ('ineligible', 10286), ('estimator', 7109), ('temporarily', 21442), ('underpowered', 22642), ('calls', 2863), ('suspicion', 21146), ('program', 17297), ('invasion', 10885), ('pathologic', 15752), ('alloplasts', 665), ('necessitate', 13956), ('xenografts', 23675), ('intercalary', 10589), ('tumors', 22408), ('joints', 11154), ('diaphysectomy', 5595), ('musculoskeletal', 13650), ('shortest', 19736), ('physeal', 16292), ('counseled', 4564), ('slack', 19964), ('documentable', 6033), ('demonstration', 5282), ('reimplantation', 18323), ('aquilion', 1215), ('toshiba', 21993), ('cysts', 4928), ('spongioplasty', 20325), ('convexity', 4413), ('younger', 23728), ('alloplasty', 666), ('keeps', 11220), ('osteoactive', 15148), ('opted', 14871), ('column', 3829), ('acetabulum', 184), ('granulating', 8765), ('room', 18984), ('fractured', 8192), ('functioned', 8321), ('sirna', 19913), ('pei', 15885), ('ngo', 14108), ('biomodified', 2233), ('gpp', 8727), ('uptake', 22920), ('silencing', 19825), ('casein', 3031), ('interacting', 10581), ('ckip', 3538), ('sickip', 19770), ('practicable', 16912), ('biomodification', 2232), ('urgent', 22932), ('combat', 3834), ('efficacious', 6428), ('bathed', 1824), ('struck', 20715), ('sufficiently', 20918), ('retard', 18720), ('elute', 6602), ('antimicrobials', 1053), ('avert', 1656), ('killing', 11264), ('drawbacks', 6159), ('disfigurement', 5844), ('island', 11013), ('panorama', 15604), ('irsm', 10998), ('oop', 14819), ('happy', 8982), ('aclr', 219), ('muftir', 13549), ('pdgf', 15828), ('bb', 1831), ('fix', 7897), ('broaden', 2639), ('thinking', 21644), ('slfj', 19985), ('interphalangeal', 10707), ('pip', 16376), ('pinch', 16359), ('disabilities', 5749), ('dash', 4997), ('needing', 13971), ('contracture', 4349), ('pedicles', 15865), ('bama', 1765), ('hbmsc', 9058), ('intercommunicated', 10604), ('abtsract', 87), ('navigation', 13912), ('vectorvision', 23079), ('zi', 23765), ('rbic', 17956), ('zygoma', 23814), ('chicago', 3400), ('quad', 17710), ('zis', 23781), ('injuries', 10429), ('nanometric', 13789), ('biosensors', 2272), ('principally', 17195), ('surveillance', 21122), ('lectins', 11563), ('contaminants', 4308), ('angiogenetic', 912), ('establishes', 7089), ('dlip', 6009), ('cytoxicity', 4953), ('concordance', 4076), ('anticancer', 1025), ('delinasios', 5231), ('chemotaxis', 3385), ('repairing', 18465), ('transient', 22143), ('melastatin', 12513), ('trpm', 22357), ('antagonizing', 989), ('recruits', 18165), ('statements', 20477), ('manipulating', 12192), ('ddm', 5034), ('mucoperiosteal', 13536), ('autobt', 1598), ('fourmonths', 8161), ('barriers', 1792), ('injured', 10428), ('luciferase', 11956), ('track', 22050), ('upregulating', 22909), ('lipoprotein', 11761), ('scraping', 19352), ('loop', 11877), ('avenues', 1650), ('entities', 6887), ('toll', 21928), ('tlr', 21878), ('ligation', 11693), ('mediates', 12470), ('deviate', 5530), ('immensely', 9905), ('modelled', 13255), ('biting', 2343), ('surpass', 21109), ('tial', 21728), ('allowable', 670), ('boneimplant', 2483), ('enlisted', 6839), ('erratum', 7043), ('simulating', 19869), ('kodak', 11309), ('auc', 1542), ('interexaminer', 10633), ('agreements', 536), ('kendall', 11225), ('false', 7581), ('fired', 7871), ('balb', 1756), ('clearance', 3591), ('repulsion', 18539), ('caffeine', 2808), ('codeine', 3709), ('analgesics', 840), ('analgesic', 839), ('packs', 15543), ('consultant', 4287), ('pharmacist', 16155), ('capsules', 2954), ('acetaminophen', 186), ('severities', 19627), ('note', 14475), ('recording', 18149), ('maximizes', 12341), ('rhesus', 18846), ('monkeys', 13332), ('feet', 7687), ('conform', 4150), ('fastened', 7612), ('watertight', 23383), ('headpost', 9082), ('retracted', 18739), ('neurophysiology', 14052), ('monkey', 13331), ('fetal', 7726), ('ki', 11256), ('backscatter', 1716), ('bsem', 2680), ('quantifying', 17735), ('scanners', 19255), ('voxels', 23308), ('empirical', 6660), ('kvp', 11345), ('microa', 12736), ('projections', 17320), ('automated', 1619), ('intercept', 10593), ('huvecs', 9565), ('hif', 9269), ('nutrient', 14552), ('supplies', 21039), ('perfusion', 15966), ('marine', 12237), ('haemoglobin', 8911), ('hemoxcell', 9180), ('cytocompatibly', 4935), ('cellularization', 3184), ('oxygenate', 15518), ('hypoxic', 9727), ('criticized', 4711), ('flaws', 7944), ('unaesthetic', 22544), ('hue', 9541), ('credibility', 4691), ('subheadings', 20787), ('polyelectrolytes', 16627), ('cancers', 2900), ('expenses', 7369), ('chemotherapeutics', 3387), ('administrated', 367), ('biointegration', 2175), ('tubular', 22395), ('doxorubicin', 6132), ('apo', 1122), ('trail', 22068), ('mda', 12392), ('txsa', 22456), ('cationic', 3080), ('hobs', 9383), ('hob', 9382), ('biotolerant', 2303), ('loosely', 11880), ('lam', 11417), ('cationically', 3081), ('polydimethylsiloxane', 16623), ('pdms', 15836), ('cosmetics', 4546), ('rgo', 18836), ('adscs', 395), ('forcing', 8077), ('rbt', 17966), ('lm', 11800), ('wire', 23551), ('interimplant', 10659), ('subtly', 20880), ('dlms', 6011), ('characterizations', 3338), ('podia', 16565), ('adipocytes', 340), ('coexist', 3722), ('adipocyte', 339), ('electro', 6498), ('di', 5566), ('ammonium', 793), ('anode', 957), ('spectroscope', 20252), ('ft', 8284), ('rosette', 18992), ('tape', 21326), ('laceration', 11382), ('biologics', 2184), ('grayish', 8794), ('anticorrosion', 1034), ('perfect', 15951), ('probable', 17225), ('synterization', 21242), ('sustain', 21147), ('liberated', 11651), ('priority', 17209), ('haematoma', 8907), ('oedema', 14705), ('erythema', 7054), ('cushioning', 4865), ('ensheathed', 6856), ('immortalized', 9925), ('localised', 11829), ('naturalised', 13905), ('dcp', 5028), ('cpc', 4631), ('mixtures', 13206), ('onfh', 14801), ('debilitating', 5057), ('collapse', 3777), ('salvageable', 19145), ('fgs', 7746), ('degradable', 5191), ('bobine', 2448), ('bbm', 1835), ('pbm', 15795), ('hydroxyapatites', 9630), ('lipoic', 11755), ('ala', 575), ('scavenger', 19277), ('superoxide', 21016), ('dismutase', 5866), ('sod', 20090), ('blots', 2398), ('dysfunction', 6281), ('karger', 11208), ('involve', 10916), ('gdf', 8451), ('efficacies', 6427), ('cyclodextrin', 4908), ('hep', 9183), ('osteoproliferative', 15278), ('letters', 11618), ('editor', 6395), ('commentaries', 3865), ('corresponds', 4510), ('acoustic', 222), ('enhancer', 6827), ('insertor', 10473), ('eighth', 6455), ('iaj', 9737), ('chlorexidine', 3428), ('digluconate', 5678), ('pxt', 17675), ('fungi', 8330), ('tf', 21546), ('inactivating', 10124), ('inheritance', 10395), ('pushout', 17657), ('cavitation', 3111), ('validating', 22996), ('maxi', 12319), ('participates', 15688), ('microdamage', 12799), ('predictors', 16992), ('bredent', 2598), ('bluesky', 2408), ('senden', 19508), ('lab', 11355), ('unspecific', 22855), ('unsuitable', 22867), ('whose', 23510), ('hexagon', 9232), ('smartpegs', 20030), ('microunit', 13010), ('examiner', 7247), ('icc', 9764), ('friedman', 8257), ('msfe', 13497), ('cranially', 4659), ('islands', 11014), ('mfse', 12705), ('dis', 5748), ('reconnections', 18130), ('precipitating', 16949), ('marginless', 12233), ('disconnections', 5801), ('lok', 11859), ('ll', 11796), ('advocated', 430), ('serving', 19602), ('personnel', 16095), ('families', 7589), ('biohorizons', 2163), ('intragroup', 10807), ('endosseously', 6775), ('bearer', 1879), ('overloaded', 15446), ('luxation', 11984), ('judgement', 11168), ('oris', 14966), ('rbmmscs', 17960), ('chair', 3301), ('vesicular', 23140), ('svl', 21165), ('cbvl', 3137), ('photoluminescence', 16272), ('svls', 21166), ('cbvls', 3138), ('carboxyfluorescein', 2981), ('phosphatidylserine', 16214), ('potentiality', 16859), ('nc', 13927), ('lb', 11519), ('wb', 23403), ('centinewton', 3211), ('moved', 13458), ('elisas', 6580), ('lived', 11790), ('distractor', 5964), ('mozo', 13463), ('grau', 8790), ('distractors', 5965), ('distracting', 5961), ('latency', 11479), ('osseodistractors', 15057), ('refinements', 18235), ('osseodistraction', 15056), ('iu', 11090), ('ostectomy', 15136), ('historic', 9351), ('topically', 21964), ('formatted', 8110), ('zv', 23809), ('uncompromised', 22590), ('service', 19597), ('zeolitic', 23754), ('imidazolate', 9898), ('zif', 23768), ('aht', 544), ('sessile', 19604), ('ahts', 545), ('noise', 14200), ('stent', 20530), ('autopolymerized', 1629), ('stone', 20620), ('coping', 4443), ('glucocorticosteroids', 8634), ('glucocorticosteroid', 8633), ('thousand', 21676), ('commonplace', 3884), ('interchange', 10597), ('similarities', 19844), ('anatomy', 876), ('competing', 3937), ('methyltrimethoxysilane', 12690), ('glycidoxypropyl', 8659), ('trimethoxysilane', 22311), ('explanation', 7390), ('subcomponents', 20765), ('dysregulation', 6292), ('pharmacology', 16161), ('door', 6072), ('elder', 6489), ('polymedicated', 16656), ('commentary', 3866), ('inflammatories', 10333), ('mespe', 12593), ('pluripotent', 16531), ('hoechst', 9385), ('alpl', 699), ('alamar', 577), ('minerals', 13103), ('ligands', 11691), ('fouling', 8152), ('brushes', 2667), ('oligo', 14765), ('tethered', 21518), ('interforaminal', 10651), ('neoss', 14016), ('harrogate', 9018), ('ostell', 15142), ('switched', 21188), ('incidences', 10150), ('hematoma', 9134), ('marks', 12249), ('differs', 5646), ('saddle', 19117), ('nmt', 14177), ('def', 5142), ('absorb', 72), ('tessellation', 21504), ('stl', 20607), ('translucent', 22166), ('tzi', 22469), ('ips', 10955), ('vte', 23318), ('vertically', 23135), ('obliquely', 14598), ('oblique', 14597), ('unremarkable', 22825), ('incomplete', 10179), ('vasculogenesis', 23045), ('chicken', 3402), ('embryo', 6628), ('chorioallantoic', 3459), ('nrp', 14508), ('lacunas', 11401), ('embryos', 6633), ('adipocytokine', 342), ('tbi', 21362), ('milieu', 13060), ('aicar', 548), ('ampk', 808), ('mitochondria', 13195), ('reversing', 18794), ('morbility', 13386), ('destabilization', 5464), ('threatened', 21686), ('embedding', 6616), ('rationally', 17939), ('shooting', 19725), ('mlo', 13214), ('peened', 15876), ('palladium', 15581), ('spicules', 20281), ('uisp', 22492), ('executed', 7294), ('ars', 1291), ('lamelta', 11426), ('pericytes', 15982), ('bm', 2411), ('pcs', 15820), ('ovariectomised', 15394), ('depositing', 5386), ('circumference', 3507), ('supracortical', 21064), ('protruding', 17483), ('popularized', 16721), ('intentional', 10575), ('weigh', 23439), ('plausibility', 16485), ('becomes', 1889), ('viewing', 23194), ('https', 9537), ('youtu', 23731), ('lnmeuxj', 11808), ('xpa', 23684), ('plvrxnhb', 16534), ('ejqbqjcymbwkbwi', 6472), ('xpbb', 23685), ('yuhi', 23741), ('tx', 22455), ('rn', 18931), ('te', 21379), ('epcs', 6930), ('integrates', 10552), ('lactoferrin', 11394), ('lf', 11644), ('regenerating', 18274), ('nonloading', 14327), ('somewhat', 20144), ('prerequisities', 17091), ('icbm', 9763), ('insoluble', 10485), ('bvd', 2770), ('vbg', 23061), ('pvbg', 17669), ('versions', 23125), ('compute', 4027), ('map', 12218), ('computerised', 4030), ('threonine', 21690), ('phospho', 16217), ('thr', 21679), ('titanate', 21838), ('anxiety', 1080), ('trait', 22075), ('stai', 20431), ('feel', 7684), ('responding', 18654), ('absolutely', 71), ('clamped', 3545), ('subscore', 20839), ('clamping', 3546), ('financial', 7848), ('unaffordable', 22546), ('filtration', 7841), ('preventive', 17167), ('biotransformation', 2305), ('correlative', 4504), ('macroscales', 12056), ('colocalized', 3805), ('sulfide', 20945), ('gh', 8559), ('collagenated', 3771), ('pcbb', 15804), ('localizations', 11832), ('biggest', 2045), ('sustaining', 21152), ('vacant', 22981), ('stand', 20445), ('transmit', 22172), ('optimism', 14885), ('doesn', 6043), ('maximize', 12339), ('furthered', 8343), ('trabeculated', 22037), ('mitotic', 13199), ('originates', 14962), ('progeny', 17289), ('unifying', 22731), ('ipcha', 10948), ('isqs', 11054), ('chelator', 3369), ('deferoxamine', 5155), ('dfo', 5554), ('anatomically', 873), ('monetite', 13324), ('midshaft', 13041), ('ulnar', 22501), ('metric', 12693), ('callus', 2864), ('bridged', 2612), ('bioresorbable', 2264), ('expense', 7368), ('biomimicry', 2224), ('transdermally', 22107), ('transcortically', 22091), ('thrust', 21712), ('saw', 19205), ('perimeter', 15988), ('subscapularis', 20838), ('rupture', 19088), ('rotator', 19004), ('tear', 21385), ('affirm', 461), ('vpi', 23310), ('pdi', 15830), ('gradual', 8741), ('initiating', 10415), ('analogy', 847), ('php', 16283), ('nanomaterial', 13779), ('osteogeneration', 15206), ('add', 299), ('clicking', 3608), ('page', 15553), ('clips', 3626), ('rings', 18899), ('magnets', 12084), ('hope', 9448), ('practitioner', 16921), ('cited', 3528), ('clip', 3625), ('favoured', 7638), ('prosthetist', 17431), ('odontostomatological', 14702), ('tiu', 21854), ('gaalas', 8365), ('mus', 13643), ('pw', 17674), ('optional', 14895), ('rinse', 18901), ('edu', 6403), ('discourage', 5809), ('lambda', 11418), ('aoi', 1090), ('espana', 7072), ('sociedad', 20081), ('espanola', 7073), ('otorrinolaringologia', 15341), ('cirugia', 3519), ('cabeza', 2784), ('cuello', 4810), ('ignoring', 9828), ('mof', 13292), ('naringin', 13880), ('attaining', 1501), ('macrodesign', 12035), ('cyclosporine', 4913), ('csa', 4766), ('clt', 3648), ('rsm', 19052), ('wettabilities', 23471), ('tetraethoxysilane', 21526), ('glycidoxypropyltrimethoxysilane', 8660), ('gptms', 8729), ('siloxane', 19840), ('rtn', 19059), ('rtnm', 19061), ('bicv', 2035), ('bicvr', 2036), ('bicl', 2024), ('bicr', 2030), ('blt', 2405), ('australian', 1584), ('ud', 22482), ('tapping', 21333), ('tap', 21325), ('ctmay', 4793), ('neuromusculoskeletal', 14047), ('gateway', 8422), ('exploit', 7400), ('controller', 4382), ('bioelectric', 2138), ('decoding', 5099), ('intent', 10573), ('neurostimulator', 14063), ('algorithms', 608), ('paradigms', 15626), ('neuromuscular', 14046), ('appealing', 1136), ('negating', 13977), ('acidic', 212), ('propylene', 17412), ('ppc', 16892), ('starch', 20467), ('degrades', 5195), ('glycerol', 8657), ('plasticizers', 16466), ('doubles', 6105), ('blends', 2376), ('pellet', 15888), ('blend', 2373), ('tunable', 22411), ('asist', 1366), ('oticon', 15330), ('cochlear', 3698), ('eluting', 6604), ('marketing', 12245), ('exciting', 7281), ('subcellular', 20760), ('antifouling', 1041), ('shark', 19675), ('breathing', 2595), ('stents', 20531), ('gastrointestinal', 8420), ('urinary', 22935), ('dressings', 6165), ('fluidic', 7983), ('bloodstream', 2394), ('mutually', 13666), ('antagonistic', 986), ('delinquent', 5237), ('electropolishing', 6536), ('recognize', 18110), ('preventable', 17161), ('purchased', 17631), ('pathognomonic', 15748), ('puts', 17661), ('photofunctionalisation', 16259), ('photofunctionalised', 16260), ('yamauchi', 23697), ('itabashi', 11066), ('wada', 23331), ('tanaka', 21311), ('kumagai', 11341), ('ishibashi', 11010), ('yamouchi', 23698), ('tabulated', 21278), ('mediators', 12474), ('fibrogenic', 7778), ('elicits', 6571), ('clinicomicrobial', 3620), ('clinicoradiographic', 3622), ('flora', 7960), ('nondiabetic', 14274), ('clinicoradiological', 3623), ('intricate', 10853), ('atraumatically', 1482), ('curetted', 4843), ('granuloma', 8772), ('whitesky', 23501), ('telescopic', 21427), ('foraminal', 8071), ('dennis', 5294), ('barber', 1780), ('varnish', 23033), ('fluted', 8014), ('simplicity', 19856), ('adoption', 387), ('thas', 21564), ('reoperation', 18454), ('subsiding', 20848), ('repeat', 18471), ('fasting', 7618), ('associate', 1417), ('eigenvalue', 6452), ('resp', 18642), ('tribological', 22278), ('pairings', 15564), ('septum', 19555), ('interradicular', 10726), ('hypoglycemiant', 9706), ('revert', 18796), ('metformin', 12652), ('deprived', 5397), ('mdm', 12398), ('hyperglycemic', 9674), ('disparity', 5875), ('confound', 4160), ('ascertained', 1349), ('assuming', 1427), ('compensation', 3931), ('disadvantageous', 5755), ('vulnerable', 23323), ('epidemiology', 6941), ('statin', 20482), ('pertinent', 16104), ('feeling', 7685), ('fel', 7690), ('dynamix', 6275), ('vam', 23008), ('magics', 12075), ('arcam', 1226), ('gouges', 8717), ('peel', 15874), ('meshed', 12571), ('synostosis', 21238), ('gouge', 8716), ('immobility', 9919), ('intensively', 10571), ('functionalizing', 8319), ('arthoplasty', 1302), ('stiffnesses', 20585), ('depuy', 5402), ('anderson', 888), ('tray', 22238), ('intensifies', 10567), ('apply', 1159), ('battery', 1826), ('curetting', 4845), ('recommendation', 18118), ('aligns', 616), ('manipulations', 12194), ('similarity', 19845), ('tend', 21455), ('micrographs', 12845), ('prevailing', 17155), ('tribosystems', 22279), ('biocomposites', 2123), ('contraindicated', 4357), ('eruption', 7051), ('infraocclusion', 10362), ('positional', 16760), ('postinsertion', 16806), ('modelling', 13256), ('meshless', 12574), ('intracranial', 10798), ('hg', 9249), ('replaces', 18487), ('meshing', 12573), ('assistance', 1411), ('easiest', 6311), ('symmetrical', 21197), ('asymmetrical', 1443), ('consistency', 4244), ('replicate', 18496), ('distinctive', 5943), ('fcn', 7654), ('physicians', 16296), ('nonsmoker', 14401), ('harder', 8994), ('tentatively', 21475), ('exoprosthetics', 7341), ('sana', 19156), ('klinik', 11286), ('lubeck', 11948), ('eep', 6415), ('exceptions', 7264), ('eefp', 6413), ('regaining', 18264), ('questioned', 17765), ('broadening', 2641), ('pathbreaking', 15742), ('myoelectrically', 13695), ('wearer', 23422), ('orthotist', 15010), ('cpo', 4641), ('mounting', 13449), ('adaptors', 297), ('wearers', 23423), ('wanted', 23360), ('exoprostheses', 7338), ('endoshafts', 6770), ('espe', 7074), ('friadent', 8248), ('formaldehyde', 8099), ('cure', 4839), ('technovit', 21407), ('leica', 11583), ('microtome', 12997), ('olympus', 14774), ('infinity', 10325), ('verifying', 23115), ('polyphosphoric', 16685), ('ppa', 16888), ('pullulan', 17610), ('ppl', 16901), ('adaptability', 287), ('bic_all', 2018), ('bic_gap', 2019), ('transaxially', 22086), ('synonyms', 21236), ('bioresponses', 2267), ('accomplish', 144), ('conclusive', 4072), ('conquer', 4208), ('gkiiklkaslkll', 8593), ('conh', 4176), ('parotid', 15677), ('secretory', 19423), ('eradicated', 7024), ('fusobacterium', 8355), ('nucleatum', 14535), ('equimolar', 7009), ('metronidazole', 12696), ('astratech', 1440), ('gains', 8378), ('ankle', 941), ('takedown', 21301), ('tar', 21337), ('tibiotalar', 21741), ('referral', 18226), ('nonunion', 14433), ('malunion', 12153), ('hindfoot', 9289), ('nonconstrained', 14249), ('weightbearing', 23443), ('talar', 21305), ('malleolar', 12140), ('quarter', 17746), ('neutrally', 14077), ('arthrofibrosis', 1308), ('arthrolysis', 1309), ('inlay', 10433), ('tilt', 21775), ('dorsiflexion', 6087), ('plantar', 16441), ('anodisation', 960), ('myoblast', 13691), ('dynamical', 6271), ('anodising', 962), ('anodised', 961), ('curative', 4835), ('nitrate', 14146), ('nanoleafy', 13776), ('tnl', 21892), ('nanoag', 13730), ('tnlag', 21893), ('nanoscratch', 13830), ('representation', 18518), ('dictate', 5615), ('relations', 18359), ('multiply', 13612), ('interchanged', 10601), ('summits', 20979), ('banp', 1777), ('armitage', 1270), ('interventation', 10763), ('premedication', 17054), ('diazepam', 5602), ('subcrestally', 20768), ('millimeters', 13069), ('aos', 1094), ('recall', 18070), ('loosenings', 11885), ('persistently', 16087), ('sixth', 19930), ('unanimously', 22553), ('unlimited', 22778), ('tmr', 21885), ('quo', 17786), ('corrective', 4496), ('scoliosis', 19340), ('fragile', 8195), ('timecourse', 21783), ('instrumented', 10527), ('biopolymers', 2251), ('mh', 12719), ('decorin', 5114), ('cv', 4888), ('relaxed', 18366), ('densitometry', 5311), ('centrally', 3215), ('vault', 23054), ('reinsertion', 18336), ('subchondral', 20761), ('pin', 16358), ('pout', 16875), ('pcf', 15808), ('diametric', 5589), ('fits', 7891), ('fins', 7869), ('seat', 19403), ('chamfered', 3311), ('apico', 1115), ('uncovery', 22605), ('equicrestal', 7005), ('categorical', 3061), ('japanese', 11108), ('wounds', 23641), ('denaturing', 5284), ('derma', 5413), ('derivative', 5406), ('nbd', 13915), ('equine', 7010), ('methylthiazol', 12688), ('nitrophenyl', 14156), ('pnpp', 16556), ('calcifying', 2823), ('fzn', 8363), ('compositional', 3994), ('preclude', 16958), ('colonise', 3809), ('ptvs', 17590), ('histopathologically', 9348), ('encapsulate', 6686), ('evidencebased', 7205), ('sextant', 19632), ('straightforward', 20640), ('sac', 19109), ('stratified', 20657), ('skillful', 19950), ('cryopreserved', 4752), ('morsellised', 13417), ('viral', 23216), ('aaos', 10), ('splitting', 20312), ('occlusive', 14651), ('deformities', 5182), ('tent', 21473), ('auto', 1596), ('maker', 12116), ('putted', 17662), ('transversal', 22209), ('ceramometal', 3251), ('periodical', 15997), ('enclosure', 6699), ('coaxial', 3689), ('doxy', 6133), ('polyvinyl', 16698), ('pva', 17667), ('nfs', 14105), ('pass', 15712), ('modulates', 13279), ('fictional', 7804), ('decorrence', 5117), ('sh', 19649), ('alters', 720), ('interleukins', 10669), ('nanograms', 13767), ('milliliter', 13067), ('osteoclastogenic', 15173), ('sup', 20984), ('adjuvate', 363), ('compromized', 4020), ('simplifications', 19859), ('micromovement', 12890), ('orthogonal', 14989), ('frictionless', 8255), ('osteoradionecrosis', 15287), ('advised', 427), ('ascending', 1345), ('avascular', 1647), ('avn', 1665), ('agora', 530), ('ara', 1217), ('permeates', 16056), ('coil', 3742), ('neosentalloy', 14015), ('permissions', 16057), ('please', 16499), ('email', 6607), ('oup', 15348), ('com', 3832), ('sourcesmedline', 20174), ('bibliographies', 2013), ('selectionlongitudinal', 19477), ('dentate', 5320), ('synthesisauthors', 21247), ('organised', 14936), ('resultstwenty', 18701), ('conclusionsimplants', 4070), ('unions', 22746), ('smfs', 20038), ('neodymium', 14002), ('bore', 2514), ('ready', 18018), ('supercharged', 20988), ('gelling', 8472), ('igsr', 9830), ('phosphazene', 16216), ('milestone', 13059), ('followings', 8059), ('taping', 21331), ('moose', 13382), ('whatever', 23478), ('weldone', 23455), ('angulated', 923), ('void', 23281), ('epss', 6986), ('discontinuities', 5805), ('losing', 11897), ('enlarged', 6834), ('oxytocin', 15525), ('inspection', 10487), ('antagonize', 988), ('tka', 21869), ('classifications', 3569), ('ascertain', 1348), ('hypothesised', 9716), ('catki', 3085), ('odanacatib', 14687), ('odn', 14691), ('gavaging', 8435), ('incremental', 10206), ('psychological', 17564), ('wholly', 23508), ('crestally', 4699), ('quintanilla', 17780), ('valladolid', 22999), ('develops', 5529), ('retrograde', 18759), ('completes', 3960), ('isrs', 11059), ('anorganic', 972), ('abb', 20), ('isr', 11057), ('nonperforated', 14364), ('collapsed', 3778), ('exopolysaccharide', 7337), ('un', 22537), ('sigmavm', 19791), ('taumax', 21352), ('epsilonmax', 6985), ('tridimensional', 22289), ('recreate', 18157), ('permitting', 16063), ('cocci', 3695), ('encased', 6690), ('replication', 18499), ('recreates', 18159), ('tracker', 22052), ('supervised', 21027), ('irrelevance', 10980), ('leave', 11558), ('footprint', 8067), ('repositories', 18515), ('definitively', 5172), ('panels', 15600), ('metalloproteinases', 12621), ('scientists', 19316), ('reductionist', 18199), ('isolating', 11027), ('neobiotech', 13997), ('reamers', 18038), ('stereolithography', 20546), ('crosslinkable', 4723), ('trimethylene', 22312), ('ptmc', 17584), ('resins', 18608), ('kinetic', 11274), ('corralling', 4490), ('osteopromotion', 15280), ('erodible', 7040), ('cdna', 3164), ('biogenesis', 2156), ('amk', 790), ('plating', 16482), ('microbes', 12756), ('krebs', 11328), ('bicarbonate', 2020), ('byproducts', 2778), ('osteal', 15131), ('iliotibial', 9861), ('tract', 22056), ('foot', 8065), ('falls', 7580), ('microprocessor', 12923), ('redefine', 18181), ('monophasic', 13361), ('endosseus', 6776), ('osteoalveolar', 15150), ('unfortunate', 22705), ('rigidly', 18887), ('grows', 8843), ('avidly', 1660), ('cadavers', 2798), ('antiquity', 1061), ('millions', 13074), ('deficit', 5161), ('neighbouring', 13991), ('interdental', 10617), ('rho', 18858), ('risking', 18914), ('cgf', 3289), ('toothless', 21959), ('ohrqol', 14739), ('hospitalized', 9465), ('nonhospitalized', 14297), ('khalid', 11253), ('saud', 19197), ('kingdom', 11277), ('saudi', 19198), ('arabia', 1218), ('geriatric', 8538), ('decayed', 5072), ('dmft', 6018), ('caregivers', 3001), ('sensitized', 19529), ('infusing', 10373), ('glycolide', 8665), ('encapsulating', 6688), ('cryogel', 4749), ('supra', 21058), ('entrapped', 6892), ('electrohydrodynamic', 6513), ('atomization', 1475), ('bmpi', 2435), ('bmpm', 2436), ('homogenously', 9427), ('indentation', 10221), ('ecorr', 6352), ('resides', 18597), ('stoichiometric', 20611), ('hardly', 8997), ('industrially', 10281), ('exam', 7242), ('retroactive', 18755), ('vancouver', 23012), ('displaced', 5886), ('conservatively', 4227), ('osteosynthesis', 15298), ('comminution', 3874), ('corticocancellous', 4533), ('cerclage', 3255), ('tapes', 21330), ('cables', 2788), ('reimplant', 18322), ('feared', 7668), ('itap', 11069), ('dermal', 5414), ('flanges', 7925), ('chimutengwende', 3414), ('gordon', 8706), ('hbmmsc', 9055), ('contrary', 4364), ('sporadic', 20334), ('postnatal', 16814), ('undifferentiated', 22672), ('predifferentiated', 16994), ('dpscs', 6145), ('applicatioh', 1153), ('physisorption', 16313), ('physisorbed', 16312), ('theta', 21628), ('colorimetric', 3821), ('poli', 16588), ('kroll', 11331), ('polynass', 16675), ('equipment', 7012), ('styrene', 20748), ('insufficiently', 10531), ('protrusions', 17486), ('unify', 22730), ('unscrewed', 22847), ('attenuates', 1517), ('superimpose', 21004), ('colloidal', 3799), ('lithography', 11783), ('downregulatory', 6123), ('titaniumoksit', 21844), ('lza', 12019), ('sza', 21271), ('avoids', 1672), ('briefly', 2619), ('transradial', 22204), ('swedish', 21179), ('lossening', 11899), ('wrong', 23658), ('dysplastic', 6291), ('dorr', 6083), ('reabsorption', 17988), ('guaranteed', 8859), ('trapezoid', 22219), ('tapering', 21329), ('plane', 16428), ('pedestal', 15860), ('testified', 21509), ('meter', 12650), ('sold', 20106), ('reseller', 18578), ('regressed', 18296), ('returns', 18772), ('typed', 22460), ('sales', 19135), ('tell', 21428), ('record', 18145), ('cushion', 4863), ('resembles', 18582), ('terminating', 21491), ('detoxify', 5513), ('arresting', 1285), ('preferable', 17021), ('childhood', 3409), ('posterosuperior', 16793), ('dbhl', 5018), ('warble', 23362), ('tone', 21947), ('orv', 15013), ('hetil', 9228), ('infectives', 10310), ('pdlla', 15833), ('copolymer', 4447), ('vectors', 23078), ('coprogs', 4454), ('infective', 10309), ('gluconate', 8635), ('triclosan', 22285), ('shielded', 19710), ('resuspended', 18708), ('pdna', 15837), ('antiinfective', 1050), ('pet', 16112), ('owners', 15489), ('rostral', 18995), ('companion', 3904), ('diseased', 5838), ('pitfalls', 16392), ('summarise', 20965), ('reversal', 18789), ('remodeled', 18420), ('topological', 21972), ('transport', 22194), ('am', 738), ('triply', 22324), ('tpms', 22023), ('unprecedented', 22804), ('physics', 16301), ('topology', 21975), ('permeability', 16053), ('resembled', 18581), ('curvatures', 4858), ('ample', 809), ('endurance', 6794), ('substituting', 20867), ('exceptionally', 7263), ('oligonucleotides', 14768), ('strands', 20646), ('retarded', 18722), ('hybridized', 9581), ('as_cs_bmp', 1341), ('nonconjugated', 14248), ('as_bmp', 1339), ('as_cs_', 1340), ('conjugates', 4187), ('dried', 6166), ('fdb', 7657), ('outward', 15387), ('filters', 7840), ('phosphor', 16229), ('vistascan', 23244), ('durr', 6248), ('bietigheim', 2040), ('bissingen', 2338), ('instrumentarium', 10524), ('tuusula', 22435), ('finland', 7866), ('juxtaposition', 11194), ('likert', 11704), ('intraexaminer', 10801), ('sharpen', 19677), ('task', 21343), ('elastin', 6483), ('statherin', 20479), ('drifts', 6168), ('gordonii', 8707), ('recombinamer', 18113), ('cmx', 3663), ('ret', 18711), ('con', 4034), ('destructively', 5473), ('stereomicroscopy', 20551), ('metallogaphic', 12616), ('hm', 9367), ('eit', 6468), ('etait', 7115), ('hv', 9566), ('macroscopically', 12059), ('traces', 22046), ('appended', 1144), ('fictitious', 7805), ('ale', 597), ('immunhostochemistry', 9931), ('rhpdgf', 18862), ('hps', 9507), ('multiunit', 13629), ('multiinstitutional', 13583), ('compliant', 3972), ('humeri', 9550), ('diaphyses', 5596), ('ulna', 22499), ('permissive', 16058), ('traction', 22057), ('bushing', 2755), ('palsy', 15590), ('neurapraxia', 14035), ('glenohumeral', 8610), ('subluxations', 20800), ('liner', 11733), ('vasoconstriction', 23048), ('jeopardizes', 11130), ('interlayers', 10666), ('ceased', 3168), ('autografting', 1613), ('twin', 22449), ('motivated', 13435), ('hollow', 9400), ('mgsr', 12716), ('rapamycin', 17910), ('sequentially', 19566), ('mtor', 13519), ('eil', 6459), ('trf', 22262), ('brf', 2607), ('trfs', 22263), ('brfs', 2608), ('eils', 6460), ('declination', 5094), ('proxima', 17514), ('generic', 8495), ('eq', 6990), ('hereafter', 9199), ('broaching', 2637), ('attainment', 1502), ('piezo', 16342), ('osteodistraction', 15197), ('tekka', 21418), ('condensing', 4091), ('conceivable', 4041), ('ameliorating', 752), ('dcs', 5030), ('mhc', 12721), ('appraised', 1174), ('undefined', 22610), ('nci', 13935), ('stabilityis', 20411), ('sufficientin', 20917), ('motions', 13434), ('xive', 23681), ('cow', 4621), ('honest', 9438), ('resemblance', 18579), ('breeding', 2601), ('keep', 11217), ('spongiosa', 20326), ('osseintegration', 15042), ('transmandibular', 22167), ('tmi', 21881), ('clsm', 3647), ('longitudinally', 11869), ('box', 2544), ('reintroduced', 18345), ('approximated', 1197), ('controversial', 4385), ('facultative', 7557), ('anaerobes', 833), ('symptom', 21209), ('hgdf', 9252), ('gfs', 8557), ('trisomy', 22332), ('chromosomal', 3473), ('anomalies', 968), ('mes', 12567), ('viewpoint', 23195), ('prognoses', 17293), ('want', 23359), ('project', 17316), ('caucasian', 3087), ('aquila', 1214), ('assuring', 1434), ('heterologous', 9222), ('smartbone', 20028), ('contextual', 4325), ('radboud', 17800), ('nijmegen', 14130), ('plant', 16440), ('pectins', 15855), ('mineralize', 13098), ('pectin', 15854), ('rhamnogalacturonan', 18841), ('pulps', 17613), ('bglap', 1996), ('beneficially', 1940), ('bte', 2690), ('lipi', 11751), ('stembios', 20522), ('smoothly', 20060), ('aeti', 447), ('nanofeatured', 13758), ('geographical', 8527), ('undercut', 22615), ('biomineralized', 2229), ('earned', 6306), ('gluteal', 8647), ('originating', 14963), ('parental', 15666), ('obchis', 14579), ('sensorineural', 19533), ('office', 14722), ('cauterization', 3101), ('interview', 10768), ('rated', 17927), ('obchi', 14578), ('substantively', 20861), ('photoemission', 16258), ('docking', 6028), ('lmms', 11803), ('muvarepsilon', 13668), ('illustrating', 9875), ('mechanosensory', 12448), ('pseudarthrosis', 17532), ('translated', 22155), ('jet', 11133), ('ntappj', 14519), ('pioneer', 16373), ('bacterium', 1733), ('prestoblue', 17131), ('ammonia', 792), ('subjecting', 20792), ('collagens', 3776), ('laminins', 11435), ('phosphonic', 16226), ('pyridoxal', 17687), ('plp', 16521), ('hemophilic', 9171), ('retards', 18723), ('hemophilicity', 9172), ('inactive', 10126), ('entails', 6867), ('ailments', 556), ('metallurgical', 12625), ('antiseptics', 1068), ('eradicating', 7026), ('microscrew', 12954), ('fmax', 8021), ('antigenicity', 1045), ('precludes', 16960), ('loosen', 11881), ('bioprinter', 2252), ('shearing', 19688), ('prepares', 17079), ('packaged', 15538), ('bioprinting', 2253), ('refashioning', 18218), ('electively', 6494), ('logistics', 11856), ('thinning', 21650), ('zonal', 23798), ('oga', 14730), ('adapting', 294), ('thereupon', 21600), ('averaged', 1652), ('comparability', 3906), ('premaxillary', 17053), ('projection', 17319), ('democratization', 5273), ('master', 12276), ('customize', 4878), ('embed', 6614), ('rx', 19102), ('reopening', 18452), ('breed', 2599), ('epicondyle', 6936), ('transgingival', 22139), ('separated', 19545), ('analyzers', 860), ('isqb', 11047), ('expandable', 7347), ('condensation', 4086), ('scant', 19259), ('substantiate', 20857), ('postimplant', 16802), ('microfractures', 12832), ('gtb', 8851), ('amaro', 740), ('molndal', 13311), ('jawsbone', 11116), ('guideline', 8868), ('exceeds', 7257), ('thinner', 21647), ('spongiosia', 20328), ('skills', 19951), ('investigators', 10909), ('versed', 23123), ('hydroxapatite', 9622), ('cuboidal', 4808), ('microporosities', 12918), ('cracking', 4653), ('ankylosing', 945), ('spondylitis', 20318), ('hurler', 9561), ('zoning', 23801), ('wereevaluated', 23464), ('spot', 20339), ('welds', 23456), ('hypertrophy', 9697), ('masculine', 12261), ('endosteum', 6780), ('buttressing', 2764), ('lengthening', 11594), ('discharging', 5787), ('intrapelvic', 10830), ('smallest', 20026), ('wiring', 23555), ('transfers', 22127), ('ep', 6926), ('biphosphonates', 2318), ('serm', 19585), ('opioids', 14855), ('adjuvants', 362), ('anticoagulants', 1032), ('ramifications', 17884), ('ovariectomies', 15393), ('auxiliary', 1638), ('highfrequency', 9274), ('paxillin', 15783), ('betacatenin', 1970), ('ethylenediamine', 7138), ('tetraacetic', 21522), ('edta', 6402), ('chelation', 3368), ('alkalescent', 621), ('encouraged', 6712), ('mongrels', 13327), ('oro', 14969), ('noxa', 14499), ('ungrafted', 22709), ('fbs', 7648), ('mortem', 13420), ('identity', 9800), ('compelling', 3926), ('simplify', 19862), ('shrinkage', 19755), ('prompted', 17363), ('confidently', 4127), ('occasional', 14640), ('granulomas', 8773), ('progressively', 17309), ('stabilizes', 20417), ('springer', 20352), ('million', 13073), ('americans', 766), ('outlive', 15368), ('avoidable', 1668), ('dyslipidemia', 6285), ('depict', 5371), ('boneto', 2489), ('interpret', 10718), ('exactly', 7237), ('facto', 7551), ('fragmented', 8201), ('bentham', 1951), ('publishers', 17602), ('queries', 17760), ('epub', 6989), ('benthamscience', 1952), ('reputation', 18541), ('discipline', 5789), ('pioneers', 16375), ('professor', 17275), ('gothenburg', 8712), ('andre', 890), ('schroeder', 19304), ('bern', 1959), ('laid', 11415), ('celebrates', 3177), ('basics', 1809), ('presurgical', 17141), ('adaptations', 290), ('hottest', 9473), ('suggestions', 20926), ('begun', 1904), ('analyzes', 861), ('intramembraneous', 10814), ('fibered', 7756), ('transiently', 22144), ('exposing', 7421), ('toughened', 22009), ('inseparable', 10465), ('survivability', 21127), ('exacerbation', 7235), ('entries', 6894), ('longest', 11865), ('reality', 18027), ('effusion', 6437), ('synovitis', 21240), ('disastrously', 5774), ('ntas', 14520), ('ticu', 21747), ('ecs', 6356), ('optimally', 14879), ('gide', 8568), ('unpredictability', 22805), ('mucogingival', 13533), ('vestibulum', 23150), ('supersulcus', 21026), ('deepening', 5135), ('veneering', 23101), ('orthopantomogram', 14999), ('mandi', 12169), ('bular', 2716), ('skyscan', 19958), ('bruker', 2663), ('kontich', 11317), ('belgium', 1922), ('calibrating', 2851), ('optimisation', 14880), ('abrasives', 62), ('analyzer', 859), ('disturbs', 5980), ('proportionally', 17396), ('residing', 18598), ('inappropriate', 10134), ('superinfections', 21009), ('eradicate', 7023), ('particularities', 15694), ('fk', 7913), ('tacrolimus', 21283), ('nakhon', 13723), ('pathom', 15757), ('thailand', 21561), ('kits', 11281), ('weakly', 23416), ('sv', 21164), ('micelles', 12733), ('micelle', 12732), ('ceo', 3228), ('molten', 13313), ('pattering', 15770), ('nanotec', 13850), ('vellox', 23094), ('radiolucid', 17848), ('verification', 23111), ('recurrent', 18174), ('suboptimal', 20826), ('subsided', 20846), ('nonloose', 14328), ('acquisitions', 234), ('pressfit', 17124), ('counterface', 4578), ('ageing', 498), ('osteogeneic', 15205), ('angiogeneic', 910), ('influx', 10344), ('outflow', 15361), ('magt', 12093), ('transporter', 22197), ('kdr', 11216), ('sm', 20021), ('multifunctions', 13582), ('bacitracin', 1708), ('maude', 12316), ('oai', 14570), ('oais', 14571), ('subcategories', 20759), ('overgeneralization', 15428), ('listed', 11776), ('discernible', 5783), ('misrepresent', 13181), ('disparate', 5874), ('suited', 20935), ('otologic', 15335), ('prelude', 17047), ('mononuclear', 13358), ('practicality', 16914), ('omis', 14783), ('resorbabla', 18628), ('balsting', 1762), ('aga', 491), ('khan', 11254), ('karachi', 11207), ('pakistan', 15568), ('resilient', 18605), ('sfe', 19637), ('happier', 8981), ('eventhough', 7190), ('wounded', 23640), ('tidal', 21748), ('spiral', 20294), ('boron', 2517), ('cdc', 3161), ('gtpases', 8852), ('reorganization', 18456), ('micropitted', 12911), ('depressed', 5393), ('gsk', 8848), ('fusiform', 8351), ('sheds', 19693), ('compounding', 3998), ('rhbmps', 18844), ('fascinating', 7605), ('harsh', 9019), ('fabrications', 7528), ('unity', 22761), ('microcoagulation', 12781), ('defective', 5148), ('mineralizes', 13100), ('audit', 1555), ('vbgs', 23062), ('tandem', 21312), ('dispensing', 5879), ('strategic', 20652), ('exponential', 7415), ('distributing', 5970), ('apatites', 1100), ('nanometer', 13786), ('apt', 1207), ('ibandronate', 9747), ('iba', 9744), ('ireland', 10964), ('posteriorly', 16790), ('gingivae', 8578), ('ttingen', 22385), ('lag', 11411), ('hemimandibles', 9151), ('nontapered', 14423), ('adolescent', 382), ('bsc', 2678), ('uvtreated', 22979), ('decortication', 5119), ('reinforces', 18332), ('ostim', 15317), ('bdta', 1861), ('ndis', 13946), ('sdis', 19382), ('fpds', 8172), ('fpd', 8171), ('sdi', 19381), ('fusions', 8354), ('undertakings', 22662), ('arthrosis', 1316), ('osteopaenia', 15258), ('afflicted', 466), ('bondage', 2474), ('dosages', 6091), ('maximise', 12336), ('osteogenicity', 15211), ('therefrom', 21597), ('triggering', 22303), ('undesired', 22667), ('postulate', 16849), ('interstices', 10751), ('attest', 1520), ('hajdu', 8923), ('cheney', 3391), ('hcs', 9069), ('hereditary', 9201), ('acro', 236), ('stature', 20495), ('athens', 1453), ('greece', 8801), ('deriving', 5412), ('thermosensitive', 21621), ('guangxi', 8854), ('bap', 1778), ('clarifying', 3553), ('microbeam', 12755), ('diffractometer', 5655), ('probed', 17229), ('stoichiometry', 20613), ('spectra', 20242), ('terminated', 21490), ('adventitious', 418), ('implacil', 10023), ('zimmer', 23771), ('elapsed', 6478), ('chief', 3404), ('postulated', 16850), ('mistakes', 13184), ('ac', 96), ('preface', 17019), ('baltic', 1763), ('lithuanian', 11784), ('aetiology', 449), ('aetiological', 448), ('indagated', 10218), ('tiered', 21752), ('accented', 115), ('misfits', 13170), ('systematization', 21265), ('exp', 7344), ('lacuna', 11397), ('compliance', 3971), ('exempt', 7302), ('tii', 21772), ('tati', 21348), ('nonfunctional', 14289), ('procedural', 17238), ('aggressive', 519), ('forecasting', 8080), ('abc', 25), ('tenting', 21477), ('cii', 3487), ('boney', 2491), ('aii', 554), ('annual', 952), ('mbca', 12356), ('pericardium', 15977), ('biradicular', 2321), ('resorbability', 18627), ('accessing', 130), ('knockoff', 11301), ('knockin', 11300), ('microsurgery', 12982), ('objects', 14594), ('nestin', 14026), ('resource', 18639), ('iterative', 11076), ('worsened', 23632), ('counterbalance', 4574), ('predictions', 16989), ('gha', 8560), ('detrimentally', 5517), ('platforms', 16481), ('totaling', 21997), ('pared', 15664), ('dim', 5698), ('strict', 20686), ('papillas', 15615), ('shlomi', 19722), ('ipies', 10951), ('boneceramic', 2480), ('smoother', 20057), ('aminoacids', 777), ('mf', 12699), ('lingually', 11738), ('fenestrations', 7715), ('pertaining', 16101), ('fenestration', 7714), ('classifying', 3573), ('therapeutically', 21588), ('coglycolic', 3730), ('codeliver', 3710), ('loadcases', 11815), ('crossing', 4722), ('stumbling', 20740), ('loadcase', 11814), ('implies', 10074), ('instructed', 10518), ('oligopeptide', 14769), ('picogreen', 16328), ('immunoblot', 9938), ('fitc', 7889), ('signalregulated', 19797), ('speedy', 20266), ('microtopographical', 13004), ('propranolol', 17405), ('favours', 7640), ('slanano', 19967), ('offset', 14727), ('robustness', 18952), ('coculture', 3704), ('forwarded', 8140), ('readily', 18012), ('boding', 2457), ('revolutionized', 18818), ('castable', 3040), ('mello', 12517), ('enterococci', 6875), ('calgary', 2847), ('sensititre', 19523), ('isolates', 11026), ('microtitre', 12996), ('congo', 4170), ('agar', 494), ('intraspecies', 10838), ('slime', 19996), ('producers', 17263), ('staphylococcal', 20461), ('translate', 22154), ('commencement', 3859), ('preinjection', 17038), ('accessory', 131), ('ubiquitous', 22475), ('feverish', 7728), ('streaming', 20661), ('ippa', 10954), ('graphitic', 8785), ('controlateral', 4377), ('xylenol', 23695), ('methylmethacrylate', 12686), ('thinned', 21646), ('tic', 21742), ('bfr', 1987), ('smoothing', 20059), ('formamide', 8103), ('diiodomethane', 5688), ('cah', 2812), ('lwab', 11987), ('neumann', 14033), ('smoothed', 20054), ('provoking', 17513), ('bounds', 2533), ('themes', 21574), ('homeostatic', 9411), ('invariant', 10883), ('octahedral', 14676), ('metaanalyses', 12599), ('abundance', 88), ('belonged', 1928), ('viruses', 23223), ('phyla', 16290), ('genera', 8480), ('campylobacter', 2882), ('rectus', 18169), ('biv', 2345), ('intramandibular', 10810), ('soldering', 20109), ('fusing', 8352), ('solder', 20107), ('castings', 3044), ('epma', 6977), ('frameworks', 8209), ('presently', 17109), ('hydroxide', 9624), ('avital', 1663), ('inducer', 10269), ('reanastomized', 18040), ('transplants', 22193), ('vestibulo', 23147), ('vestibulooral', 23148), ('revascularized', 18783), ('dca', 5025), ('coincided', 3746), ('miscommunication', 13163), ('east', 6313), ('coast', 3683), ('moncton', 13321), ('canada', 2884), ('theoretically', 21582), ('atz', 1539), ('viscosity', 23231), ('eta', 7114), ('creep', 4693), ('djo', 6003), ('austin', 1581), ('supraspinatus', 21080), ('humanely', 9545), ('relaxation', 18365), ('titan', 21836), ('chromosulfuric', 3474), ('hyperhydrophilic', 9676), ('dumbbell', 6226), ('osseoconductive', 15051), ('culminates', 4814), ('intertrochanteric', 10756), ('intercondylar', 10606), ('coagulase', 3673), ('streptococci', 20672), ('enterococcus', 6876), ('faecalis', 7560), ('updates', 22896), ('freedom', 8223), ('narrowing', 13887), ('cuspal', 4867), ('inclines', 10168), ('multifarious', 13576), ('controversially', 4386), ('mkiii', 13211), ('mkiv', 13212), ('valley', 23000), ('coolants', 4422), ('satelec', 19181), ('suprasson', 21081), ('ems', 6668), ('minimaster', 13113), ('crossfit', 4720), ('operational', 14839), ('translating', 22157), ('gea', 8457), ('tioblast', 21806), ('commence', 3857), ('kennedy', 11226), ('prosthodontist', 17436), ('compressibility', 4007), ('converting', 4409), ('compacted', 3898), ('biochemicals', 2108), ('autografted', 1612), ('eips', 6465), ('endodontitis', 6749), ('complained', 3947), ('persisted', 16084), ('devitalized', 5539), ('contiguous', 4326), ('harmony', 9009), ('pouch', 16869), ('nonmolar', 14342), ('temporization', 21444), ('diazonium', 5603), ('phosphonation', 16225), ('introduces', 10862), ('standpoints', 20455), ('volumetrically', 23296), ('immunehistochemical', 9928), ('podoplanin', 16567), ('licl', 11659), ('transitions', 22150), ('qualified', 17722), ('ez', 7520), ('plateaued', 16471), ('orchestrates', 14918), ('communicating', 3888), ('topologically', 21973), ('micrometre', 12878), ('hno', 9378), ('presumably', 17135), ('resist', 18609), ('havd', 9037), ('drastically', 6156), ('nanomodified', 13791), ('inject', 10420), ('lathe', 11493), ('legs', 11580), ('investigator', 10908), ('seventies', 19621), ('aminopropyldimethylethoxy', 787), ('silane', 19816), ('apdmes', 1103), ('hydroxylation', 9640), ('discard', 5776), ('opposition', 14867), ('rounder', 19018), ('foundations', 8155), ('friendlier', 8259), ('downsides', 6125), ('abbm', 21), ('metatarsus', 12649), ('standardize', 20449), ('sum', 20962), ('lest', 11614), ('stabilities', 20409), ('plateaus', 16472), ('alo', 683), ('sharpness', 19680), ('impediment', 10010), ('fluorapatite', 7985), ('fa', 7521), ('periodontopathogens', 16017), ('rodlike', 18962), ('deactivation', 5038), ('updating', 22897), ('attracting', 1528), ('perimplantitis', 15990), ('lights', 11699), ('shadows', 19654), ('arthroscopic', 1313), ('brushing', 2668), ('powdered', 16877), ('poured', 16874), ('ultraporous', 22512), ('trident', 22288), ('psl', 17552), ('radiosclerotic', 17857), ('utmost', 22973), ('southampton', 20178), ('straps', 20649), ('harnesses', 9013), ('irritations', 10997), ('unlabelled', 22774), ('collective', 3789), ('hyperglycaemia', 9672), ('resilience', 18603), ('looked', 11874), ('rodents', 18961), ('pathophysiology', 15760), ('genetically', 8502), ('instantaneous', 10502), ('datasets', 5003), ('interdevice', 10621), ('interoperator', 10701), ('calibration', 2852), ('goto', 8713), ('kakizaki', 11198), ('gk', 8592), ('intramuscularly', 10818), ('covariates', 4610), ('cgy', 3293), ('ingot', 10381), ('ultrasonically', 22516), ('epiflurosence', 6949), ('asd', 1353), ('ticer', 21743), ('osstem', 15128), ('dopands', 6076), ('zl', 23784), ('osteocompatibility', 15176), ('pco', 15814), ('mold', 13302), ('charges', 3347), ('eletronically', 6558), ('benex', 1946), ('reshape', 18592), ('bag', 1744), ('evaporation', 7185), ('fugitive', 8293), ('formers', 8114), ('avinent', 1661), ('barcelona', 1782), ('sited', 19919), ('chronically', 3476), ('hfd', 9242), ('diets', 5630), ('repetition', 18480), ('prefer', 17020), ('pulses', 17617), ('embryonic', 6632), ('debatable', 5053), ('reconstructing', 18137), ('unreliable', 22824), ('violating', 23212), ('allografted', 660), ('noncrack', 14262), ('approval', 1192), ('pistoning', 16388), ('engenders', 6812), ('aseptically', 1357), ('protocoled', 17469), ('optima', 14876), ('ultrawide', 22530), ('bundang', 2728), ('noticeably', 14483), ('mpli', 13473), ('postoperation', 16817), ('pockets', 16563), ('interpolation', 10712), ('imported', 10081), ('slurry', 20020), ('printer', 17201), ('oat', 14575), ('anticoagulated', 1033), ('thera', 21585), ('lase', 11463), ('spots', 20340), ('euthanization', 7171), ('detector', 5493), ('comparedto', 3914), ('someday', 20140), ('ls', 11936), ('hab', 8887), ('habt', 8898), ('fixators', 7906), ('tetracalcium', 21524), ('ttcp', 22384), ('reinforcing', 18333), ('hydration', 9587), ('varepsilon', 23017), ('microsurfaced', 12980), ('nanosurfaced', 13848), ('instron', 10517), ('tau', 21350), ('accord', 149), ('equivalently', 7018), ('measureable', 12416), ('ysz', 23736), ('ibad', 9745), ('crystallize', 4760), ('crystallizing', 4762), ('orderly', 14924), ('disorderly', 5870), ('nanonet', 13795), ('san', 19155), ('hydrogels', 9601), ('tough', 22008), ('hybridizing', 9582), ('bondable', 2473), ('fungal', 8329), ('troublesome', 22355), ('tackle', 21280), ('percolated', 15943), ('fungicidal', 8331), ('soda', 20091), ('lime', 11711), ('technic', 21394), ('weaker', 23414), ('corroboratively', 4516), ('duplex', 6233), ('homogeneously', 9420), ('alleviate', 640), ('expedite', 7359), ('drainage', 6149), ('ours', 15350), ('temporo', 21446), ('hrct', 9509), ('scalp', 19246), ('cgfs', 3290), ('contention', 4320), ('confronted', 4165), ('corpus', 4488), ('premaxilla', 17052), ('revascularization', 18782), ('seeks', 19453), ('roughnesses', 19015), ('nbic', 13921), ('obic', 14586), ('peculiarities', 15859), ('gamalant', 8395), ('paste', 15726), ('forte', 8130), ('histochemistry', 9314), ('osteonectin', 15254), ('timp', 21792), ('outrunning', 15380), ('afterapplication', 484), ('elucidates', 6597), ('fibrillar', 7762), ('osteoprotective', 15283), ('highfat', 9273), ('lowdose', 11912), ('amodified', 794), ('finishes', 7863), ('inoculated', 10449), ('infecting', 10305), ('absorbances', 76), ('av', 1639), ('microorganism', 12894), ('vitalium', 23258), ('explantations', 7395), ('tolerability', 21918), ('ablation', 45), ('rehabilitating', 18316), ('inflamed', 10330), ('tripolyphosphate', 22329), ('formulate', 8121), ('nps', 14505), ('upside', 22918), ('stringently', 20695), ('arabic', 1219), ('overdose', 15417), ('leukocyte', 11624), ('soak', 20074), ('wetted', 23474), ('exeeding', 7298), ('irrigans', 10988), ('factorial', 7553), ('entrance', 6890), ('cooled', 4423), ('thermographic', 21615), ('oilp', 14747), ('endanger', 6722), ('outbreak', 15354), ('remineralization', 18410), ('intracorporeal', 10795), ('cosurface', 4556), ('capacitive', 2931), ('stimulators', 20598), ('copolymers', 4450), ('monomer', 13354), ('dimethyl', 5708), ('methacryloxyethyl', 12656), ('dmmep', 6020), ('dipicolyl', 5732), ('aminoethyl', 782), ('alkylated', 627), ('bromohexane', 2649), ('quaternized', 17757), ('ellipsometry', 6582), ('quaternary', 17755), ('quaternization', 17756), ('precondition', 16964), ('capflex', 2937), ('backside', 1719), ('zeiss', 23751), ('axioplan', 1689), ('summated', 20974), ('articulating', 1325), ('gliding', 8617), ('nationally', 13900), ('ed', 6363), ('nationwide', 13902), ('disposition', 5896), ('morbid', 13383), ('discharged', 5786), ('admitted', 375), ('neds', 13968), ('adapts', 298), ('noncanonical', 14235), ('cilia', 3488), ('organelle', 14931), ('mechanosensor', 12446), ('pericellular', 15978), ('mechanoregulation', 12442), ('accompany', 142), ('slanew', 19968), ('slaold', 19970), ('photon', 16275), ('hydrocarbons', 9592), ('accompanying', 143), ('oncologic', 14795), ('quotes', 17787), ('touareg', 22004), ('ice', 9767), ('uniti', 22758), ('mis', 13156), ('ivory', 11096), ('qsi', 17706), ('southern', 20179), ('distinctly', 5945), ('branched', 2564), ('pps', 16906), ('passively', 15723), ('hplc', 9500), ('hyperinflammatory', 9677), ('tigecycline', 21757), ('lowered', 11914), ('pod', 16564), ('bifurcation', 2042), ('neobone', 13998), ('underreaming', 22646), ('sequestering', 19568), ('motility', 13431), ('sialophosphoprotein', 19765), ('dspp', 6209), ('odontoblasts', 14697), ('dmp', 6021), ('daegu', 4960), ('sg', 19644), ('emd', 6635), ('anyang', 1082), ('alamarblue', 578), ('reagent', 18019), ('fluorometric', 8004), ('shortage', 19728), ('ergonomic', 7033), ('optimisations', 14881), ('silico', 19831), ('nhap', 14112), ('customised', 4876), ('ivd', 11094), ('degeneration', 5187), ('transosseous', 22181), ('undemineralized', 22613), ('stereological', 20548), ('advisable', 425), ('excision', 7276), ('pyogenic', 17684), ('hyperplastic', 9688), ('lasram', 11470), ('opal', 14823), ('vestibuloplasty', 23149), ('irritants', 10993), ('incisions', 10160), ('ddg', 5032), ('abandoned', 16), ('spreads', 20349), ('angled', 918), ('occlusions', 14650), ('cantilevered', 2918), ('boley', 2465), ('cohesive', 3737), ('srs', 20390), ('truly', 22360), ('retentions', 18725), ('respects', 18649), ('saves', 19202), ('alkalin', 623), ('matrigel', 12301), ('animas', 931), ('manganese', 12182), ('fluorine', 7995), ('fmnhap', 8024), ('villous', 23201), ('symmetry', 21200), ('jeil', 11120), ('innovated', 10444), ('seifi', 19469), ('sts', 20729), ('decontaminate', 5106), ('nanogrooved', 13769), ('grooved', 8822), ('risedronate', 18908), ('cpsc', 4645), ('sorption', 20159), ('fractural', 8190), ('lapsed', 11451), ('brr', 2660), ('camg', 2876), ('ian', 9739), ('realization', 18028), ('neurosurgery', 14064), ('sensation', 19516), ('neurosensory', 14061), ('disturbance', 5976), ('modi', 13264), ('prostaglandins', 17419), ('recruit', 18161), ('neutrophil', 14078), ('traps', 22223), ('nets', 14030), ('zygomatico', 23817), ('foley', 8052), ('catheter', 3070), ('departments', 5357), ('novokuznetsk', 14494), ('sechenov', 19410), ('msmu', 13503), ('clamps', 3547), ('replantation', 18489), ('ogaap', 14731), ('multirooted', 13619), ('conception', 4054), ('recognising', 18107), ('installations', 10495), ('primitive', 17193), ('laterally', 11486), ('bmus', 2442), ('gaining', 8377), ('trajectory', 22078), ('exit', 7331), ('polylactide', 16652), ('pldla', 16494), ('intraindividual', 10808), ('lives', 11794), ('conceived', 4044), ('dishes', 5848), ('microdomains', 12807), ('acellular', 178), ('detach', 5474), ('domains', 6053), ('intricated', 10854), ('cauliflowers', 3092), ('sturctures', 20743), ('cyto', 4929), ('interlocked', 10674), ('osteoinetegration', 15230), ('conic', 4177), ('input', 10457), ('oxalife', 15492), ('tree', 22248), ('rosterdent', 18993), ('carl', 3005), ('proplus', 17391), ('lext', 11643), ('ols', 14773), ('dissimilar', 5915), ('contouring', 4343), ('implantprosthetic', 10057), ('preexisting', 17015), ('unitary', 22754), ('inf', 10298), ('kappabeta', 11206), ('ictp', 9778), ('multiplexed', 13609), ('registering', 18287), ('karyotype', 11210), ('ames', 767), ('mirna', 13150), ('vcam', 23068), ('nwrbm', 14563), ('chemistries', 3376), ('washout', 23379), ('applies', 1158), ('auriculectomy', 1579), ('anterolateral', 1000), ('exenteration', 7305), ('latissimus', 11497), ('dorsi', 6086), ('trajectories', 22077), ('df', 5550), ('impulse', 10109), ('commercialized', 3870), ('cheap', 3357), ('warrants', 23370), ('technologically', 21404), ('unicca', 22717), ('disappear', 5761), ('ablated', 44), ('thickened', 21632), ('approaching', 1187), ('isotopes', 11039), ('tiob', 21805), ('sodiumdodecylsulfate', 20093), ('sds', 19386), ('inoculum', 10451), ('swab', 21168), ('roll', 18975), ('realm', 18032), ('solubilities', 20126), ('adopt', 384), ('heighten', 9112), ('diminishing', 5717), ('potentiodynamic', 16863), ('ufg', 22486), ('passes', 15717), ('uf', 22484), ('dotted', 6102), ('intraclass', 10792), ('educational', 6408), ('testimonial', 21511), ('testimonials', 21512), ('sorted', 20162), ('inaudible', 10135), ('booklet', 2497), ('exclusions', 7287), ('fair', 7571), ('informative', 10352), ('appearing', 1142), ('permanency', 16050), ('uploaded', 22901), ('breadth', 2583), ('misinformation', 13173), ('protease', 17439), ('slpi', 20016), ('serine', 19582), ('suppresses', 21051), ('cbic', 3126), ('sbic', 19223), ('osseoconduction', 15050), ('handicap', 8955), ('handicapped', 8956), ('rehabilitative', 18320), ('infrequently', 10370), ('audiological', 1548), ('softband', 20097), ('unaided', 22547), ('cords', 4470), ('subgingivally', 20784), ('raises', 17877), ('hypergranulation', 9675), ('redundancy', 18201), ('nanotechnologically', 13852), ('dcd', 5026), ('nanomesh', 13783), ('microscratched', 12953), ('trenches', 22250), ('proliferate', 17326), ('freeforming', 8225), ('confers', 4125), ('unconfined', 22592), ('uniaxial', 22716), ('uptaking', 22923), ('diffusivity', 5664), ('shinbones', 19720), ('microfluorescence', 12829), ('station', 20485), ('xrf', 23691), ('beamline', 1874), ('lnls', 11807), ('portuguese', 16752), ('laboratorio', 11371), ('nacional', 13709), ('luz', 11986), ('sincrotron', 19878), ('intensities', 10568), ('shinbone', 19719), ('ethnicity', 7133), ('cpgs', 4635), ('clark', 3555), ('stanford', 20457), ('ole', 14762), ('jensen', 11123), ('edition', 6394), ('jomi', 11155), ('strived', 20703), ('gradients', 8739), ('exhaustively', 7319), ('nonlinearly', 14324), ('resources', 18641), ('transferable', 22122), ('industry', 10282), ('interception', 10594), ('interceptions', 10595), ('appositions', 1171), ('chemotactic', 3384), ('plerixafor', 16504), ('ntb', 14521), ('nanotexturing', 13858), ('overlooking', 15450), ('simulator', 19872), ('mandibulae', 12175), ('nbh', 13919), ('nfb', 14101), ('vestibule', 23146), ('barium', 1785), ('bto', 2694), ('batio', 1825), ('crystallite', 4757), ('decrement', 5126), ('flattened', 7938), ('electrodeposited', 6504), ('osi', 15028), ('amplification', 810), ('tnc', 21888), ('rtnc', 19060), ('unresolved', 22829), ('euglycemic', 7155), ('stz', 20749), ('topographically', 21968), ('interfibrillar', 10649), ('hammertoe', 8944), ('bristol', 2632), ('csds', 4768), ('pbmp', 15798), ('exceed', 7254), ('dependency', 5366), ('reconstitution', 18134), ('planed', 16429), ('retromolar', 18760), ('infiltrates', 10321), ('reactivated', 17999), ('imparts', 10004), ('renews', 18445), ('photofunctionization', 16264), ('laminin', 11434), ('fasteners', 7613), ('extruding', 7507), ('molded', 13303), ('ductility', 6221), ('antidepressants', 1037), ('exoprosthetic', 7340), ('transcutaneously', 22104), ('meantime', 12412), ('invalidate', 10877), ('founded', 8156), ('reservations', 18584), ('percutaneously', 15949), ('channeled', 3321), ('portal', 16746), ('cooperation', 4430), ('technician', 21397), ('facilities', 7544), ('csm', 4775), ('afger', 473), ('exterminated', 7454), ('slowed', 20011), ('masticatary', 12278), ('engagement', 6808), ('frontale', 8270), ('extrinsic', 7503), ('explant', 7393), ('dynamize', 6276), ('revise', 18803), ('insertional', 10470), ('broke', 2645), ('broken', 2646), ('outboard', 15353), ('remote', 18427), ('imeche', 9894), ('preprosthetic', 17086), ('interferometric', 10646), ('jack', 11098), ('russell', 19093), ('terrier', 21499), ('exercises', 7309), ('vectorial', 23077), ('underloading', 22634), ('aminosilane', 788), ('aptes', 1208), ('modifier', 13268), ('fluctuations', 7979), ('bego', 1902), ('biotech', 2292), ('ffb', 7734), ('augmentations', 1562), ('infiltrate', 10319), ('nti', 14522), ('purified', 17636), ('laddec', 11406), ('rdl', 17984), ('governing', 8721), ('nanofabrication', 13756), ('periostin', 16031), ('downregulate', 6119), ('nanocues', 13752), ('lyophilized', 12005), ('dipping', 5735), ('blinding', 2381), ('itq', 11084), ('morphometrically', 13409), ('explorative', 7406), ('apposite', 1167), ('myo', 13690), ('inositol', 10454), ('hexaphosphate', 9235), ('phytic', 16315), ('phytate', 16314), ('vegetable', 23081), ('legumes', 11581), ('chemisorption', 3375), ('pretreatments', 17152), ('hydroxylic', 9642), ('cnc', 3665), ('lst', 11940), ('microtexture', 12986), ('receptacles', 18089), ('absorbing', 78), ('thermoplastic', 21619), ('trl', 22340), ('sbl', 19225), ('deepest', 5138), ('expenditures', 7367), ('hasten', 9029), ('constituent', 4263), ('metastable', 12641), ('aerosol', 438), ('unn', 22786), ('osteodifferentiated', 15194), ('dynamically', 6272), ('disadvantaged', 5754), ('kcl', 11214), ('fps', 8178), ('micromo', 12882), ('timac', 21780), ('conceive', 4043), ('delivers', 5242), ('unrelated', 22823), ('synovial', 21239), ('stainging', 20434), ('mark', 12238), ('microvessel', 13016), ('microvessels', 13017), ('vicinal', 23176), ('rmsc', 18928), ('scs', 19374), ('csd', 4767), ('autologs', 1617), ('constellation', 4261), ('dosed', 6093), ('sterilely', 20561), ('promoters', 17355), ('lsh', 11938), ('ov', 15390), ('ovarietomized', 15398), ('lov', 11908), ('opening', 14830), ('prolonging', 17338), ('constitutes', 4267), ('bimodal', 2063), ('proactive', 17219), ('fau', 7625), ('rosenbach', 18990), ('dale', 4964), ('au', 1540), ('eng', 6805), ('dent', 5314), ('jt', 11163), ('jid', 11136), ('edat', 6367), ('mhda', 12722), ('crdt', 4681), ('phst', 16287), ('entrez', 6893), ('pst', 17557), ('ppublish', 16908), ('copings', 4444), ('resurfacing', 18707), ('copeland', 4438), ('epoca', 6978), ('home', 9406), ('message', 12594), ('systematical', 21263), ('clots', 3641), ('directed', 5737), ('agiogenesis', 523), ('delineating', 5235), ('lagging', 11413), ('disconnection', 5800), ('wedge', 23430), ('hto', 9533), ('ibalance', 9746), ('arthrex', 1303), ('ahlback', 543), ('benchmarks', 1934), ('ikdc', 9849), ('koos', 11319), ('tegner', 21414), ('precocious', 16963), ('labradors', 11377), ('curitiba', 4848), ('etch', 7117), ('stopper', 20625), ('engaging', 6810), ('greenstick', 8803), ('inversely', 10894), ('osis', 15032), ('pontic', 16704), ('welch', 23450), ('regrouping', 18301), ('malfunctioning', 12136), ('passivity', 15724), ('spi', 20279), ('dihalogenocarbazol', 5680), ('butylamino', 2766), ('dichloro', 5609), ('carbazol', 2963), ('propan', 17377), ('answering', 981), ('observance', 14607), ('hygienic', 9655), ('chieti', 3406), ('pescara', 16111), ('attests', 1522), ('ewes', 7229), ('tuning', 22417), ('antibiograms', 1017), ('chocolate', 3435), ('incubate', 10209), ('regrouped', 18300), ('lactam', 11390), ('penicillins', 15910), ('cephalosporins', 3236), ('macrolides', 12040), ('quinolones', 17779), ('fosfomycin', 8143), ('aminoglycosides', 783), ('trimethoprim', 22310), ('sulfamethoxazole', 20942), ('germs', 8544), ('genus', 8525), ('viridans', 23217), ('ampicillin', 807), ('antibiogram', 1016), ('resorb', 18626), ('substitutions', 20869), ('anionic', 936), ('substituents', 20863), ('citrate', 3531), ('niobate', 14137), ('tantalates', 21322), ('substituent', 20862), ('knees', 11295), ('enveloped', 6902), ('sharpey', 19678), ('enveloping', 6904), ('polysaccharides', 16689), ('ultrastructurally', 22525), ('capillaries', 2938), ('culminating', 4815), ('synthesizing', 21254), ('potentiostatic', 16866), ('ech', 6341), ('silaning', 19818), ('goniometry', 8703), ('atizr', 1462), ('unadjusted', 22543), ('dunnett', 6230), ('hsu', 9529), ('floors', 7959), ('dorsum', 6089), ('widow', 23525), ('breakthrough', 2592), ('bisphenol', 2332), ('biocircuits', 2112), ('electrons', 6528), ('bioorganic', 2244), ('overloads', 15448), ('etheretherketone', 7124), ('academia', 98), ('multipotent', 13615), ('rhoa', 18859), ('overrides', 15458), ('micropore', 12916), ('mnrs', 13231), ('spacings', 20190), ('nanogranule', 13768), ('mng', 13228), ('implantbone', 10037), ('sleeper', 19979), ('holger', 9396), ('numbness', 14545), ('erm', 7037), ('syndecan', 21221), ('dunn', 6229), ('sma', 20022), ('uct', 22481), ('proliferating', 17329), ('imbalance', 9890), ('disclose', 5791), ('harbour', 8989), ('feldspathic', 7691), ('inclined', 10167), ('mit', 13188), ('mrt', 13488), ('ram', 17882), ('recover', 18152), ('waveguide', 23390), ('axisymmetric', 1692), ('echographic', 6344), ('antihypertensive', 1048), ('wanting', 23361), ('das', 4996), ('norman', 14460), ('corah', 4461), ('decided', 5083), ('refused', 18257), ('fear', 7667), ('proceed', 17242), ('decide', 5082), ('nzw', 14566), ('finalized', 7845), ('repeatability', 18472), ('satisfies', 19189), ('underpreparation', 22643), ('bata', 1820), ('crater', 4673), ('advocate', 429), ('lessen', 11609), ('singular', 19885), ('revitalizing', 18812), ('threefold', 21689), ('pddla', 15825), ('hormones', 9457), ('teriparatide', 21484), ('itb', 11070), ('hlm', 9366), ('pim', 16357), ('idcam', 9781), ('hydroxypropyl', 9647), ('cellulose', 3186), ('scrubbing', 19371), ('circulation', 3506), ('disappearance', 5762), ('homogenisation', 9422), ('theorem', 21579), ('directional', 5740), ('conservation', 4225), ('transportation', 22195), ('diffusivities', 5663), ('vascularisation', 23039), ('transporting', 22198), ('waste', 23381), ('characterising', 3334), ('moulded', 13442), ('indigenous', 10247), ('drdo', 6163), ('inmas', 10436), ('delhi', 5225), ('spect', 20238), ('acha', 197), ('overseeing', 15462), ('aberrancies', 32), ('achas', 198), ('draining', 6150), ('prudent', 17522), ('policy', 16589), ('complaint', 3949), ('dura', 6240), ('antrum', 1077), ('nanosize', 13834), ('interlock', 10673), ('peening', 15877), ('novelty', 14491), ('peen', 15875), ('languages', 11447), ('axiom', 1688), ('containers', 4303), ('silanized', 19820), ('mercaptopropyl', 12550), ('mptms', 13477), ('nascent', 13891), ('opr', 14868), ('qutient', 17791), ('reinforce', 18328), ('dispersions', 5883), ('oes', 14706), ('nanosilica', 13832), ('nsp', 14514), ('nsps', 14515), ('aggregates', 515), ('plaques', 16448), ('delineate', 5232), ('characterizing', 3342), ('transcriptions', 22099), ('ionized', 10934), ('eo', 6918), ('epithesis', 6974), ('wrap', 23649), ('definitely', 5168), ('countermeasures', 4582), ('paucity', 15775), ('monocortical', 13340), ('radiodensity', 17822), ('ifl', 9814), ('infl', 10329), ('warranty', 23371), ('zeramex', 23757), ('zeralock', 23756), ('unreturned', 22837), ('competitive', 3939), ('generations', 8492), ('xenogenous', 23673), ('heterogeneities', 9214), ('ebcp', 6322), ('endentulous', 6729), ('backscattered', 1717), ('discoloration', 5795), ('rusting', 19096), ('pitting', 16398), ('conjoint', 4183), ('fretting', 8244), ('crevice', 4701), ('msfa', 13496), ('overexpressing', 15425), ('lenti', 11599), ('bsmv', 2684), ('boving', 2538), ('ldi', 11536), ('endotoxin', 6782), ('sticks', 20580), ('ani', 928), ('mals', 12151), ('pinp', 16369), ('simples', 19852), ('oif', 14744), ('ocbd', 14637), ('arkansas', 1264), ('idiopathic', 9801), ('medicament', 12478), ('sensibility', 19520), ('neurophysiological', 14051), ('mechanoreceptors', 12441), ('biomimic', 2223), ('turkey', 22424), ('ankara', 940), ('frequence', 8235), ('primer', 17190), ('orbito', 14911), ('rhabdomyosarcoma', 18840), ('enucleation', 6897), ('retinoblastoma', 18736), ('pearls', 15847), ('cfr', 3282), ('concurrent', 4081), ('koreans', 11322), ('abbt', 24), ('symphysal', 21205), ('deficits', 5162), ('otorhinolaryngology', 15338), ('laden', 11408), ('localisation', 11826), ('gelation', 8471), ('microbead', 12753), ('maleimide', 12128), ('dextran', 5548), ('microhybrids', 12854), ('miniaturized', 13107), ('utilising', 22966), ('microbeads', 12754), ('degradability', 5190), ('hindering', 9287), ('sprouting', 20355), ('microhybrid', 12853), ('microgels', 12837), ('progressed', 17304), ('nonintegrated', 14312), ('alternated', 713), ('nonintegration', 14313), ('nodes', 14195), ('digitised', 5673), ('nonline', 14320), ('sight', 19786), ('malformation', 12130), ('pinna', 16366), ('burn', 2742), ('elp', 6589), ('photocrosslinking', 16252), ('photoactive', 16243), ('crosslinking', 4726), ('carbene', 2964), ('withstood', 23576), ('micromorphologies', 12884), ('osteorix', 15288), ('berberine', 1955), ('hc', 9063), ('ib', 9743), ('feeding', 7683), ('carboxyglutamic', 2982), ('histomorphologically', 9335), ('muscular', 13647), ('leverage', 11636), ('ambulators', 745), ('simplant', 19849), ('cfrpeek', 3284), ('sidewall', 19776), ('isqbl', 11048), ('mulberry', 13554), ('silkworm', 19838), ('antheraea', 1008), ('mylitta', 13689), ('fibroins', 7781), ('presoaked', 17119), ('supracrestally', 21067), ('pmf', 16539), ('medullar', 12501), ('bfx', 1989), ('trot', 22352), ('gallop', 8391), ('kinematic', 11272), ('cumulatively', 4828), ('nmes', 14169), ('neuro', 14036), ('myoelectrostimulation', 13696), ('damages', 4971), ('dangerous', 4982), ('shrink', 19754), ('circling', 3498), ('mucoceles', 13531), ('augumentation', 1568), ('sim', 19842), ('inserting', 10468), ('biostimulating', 2281), ('cerament', 3243), ('remodels', 18425), ('imdds', 9893), ('intramuscular', 10817), ('epc', 6928), ('ofd', 14713), ('folds', 8051), ('conforms', 4159), ('ensured', 6862), ('erosion', 7041), ('fingerprints', 7859), ('es', 7059), ('osteomacs', 15242), ('subtype', 20886), ('fuse', 8349), ('mngcs', 13230), ('contrasting', 4366), ('expresses', 7430), ('hah', 8918), ('consolidate', 4250), ('omeprazole', 14778), ('dmscs', 6022), ('frenectomy', 8234), ('patency', 15737), ('sulcoplasty', 20939), ('responsiveness', 18663), ('predominates', 17010), ('rescuing', 18563), ('slide', 19989), ('lean', 11552), ('provisions', 17507), ('hydrothermally', 9621), ('bengal', 1947), ('hydroxybutyrate', 9632), ('hb', 9045), ('lci', 11528), ('proangiogenic', 17221), ('hmgb', 9372), ('refine', 18232), ('evaluable', 7177), ('microrobotized', 12934), ('impant', 9998), ('tenuous', 21478), ('temporoparietal', 21448), ('fascial', 7603), ('tpff', 22020), ('opar', 14825), ('microsurgical', 12983), ('extirpation', 7459), ('arteriovenous', 1299), ('consciousness', 4211), ('esteem', 7093), ('declared', 5093), ('caspofungin', 3038), ('candida', 2901), ('albicans', 583), ('mail', 12096), ('nucleotide', 14537), ('suggestively', 20928), ('linkage', 11742), ('disequilibrium', 5841), ('passaged', 15714), ('began', 1897), ('attaching', 1492), ('microdesign', 12803), ('transverse', 22211), ('structuring', 20721), ('biphasiccapst', 2316), ('bcpt', 1851), ('mimetic', 13078), ('associates', 1419), ('secrete', 19418), ('monoculture', 13342), ('battle', 1827), ('estate', 7092), ('variants', 23024), ('unsterile', 22860), ('faulty', 7628), ('posses', 16769), ('occasions', 14642), ('naval', 13910), ('money', 13325), ('enforced', 6803), ('saviour', 19204), ('subantral', 20754), ('reserve', 18585), ('microfibers', 12822), ('microfiber', 12821), ('enfolded', 6801), ('draped', 6154), ('lg', 11646), ('wavelengths', 23392), ('stemless', 20523), ('ref', 18217), ('technetium', 21393), ('dpd', 6140), ('multidetector', 13570), ('nontarget', 14425), ('consecrated', 4212), ('bha', 2000), ('mgf', 12709), ('taufwhm', 21351), ('excimer', 7273), ('infra', 10357), ('microccocus', 12772), ('enterobacter', 6874), ('microcococcus', 12782), ('pacvd', 15544), ('ecad', 6330), ('conductivity', 4106), ('microcrystalline', 12795), ('mcd', 12377), ('ncd', 13932), ('run', 19082), ('silanes', 19817), ('binders', 2070), ('triethoxysilypropyl', 22295), ('succinic', 20902), ('anhydride', 926), ('tespsa', 21502), ('chlorine', 3431), ('mechanochemical', 12438), ('anions', 937), ('nucleation', 14534), ('secular', 19432), ('ancova', 886), ('imz', 10115), ('aq', 1212), ('chin', 3415), ('tapped', 21332), ('talonavicular', 21309), ('arthrodeses', 1306), ('nonunions', 14434), ('io', 10923), ('tinxoy', 21802), ('mms', 13223), ('thombogenic', 21664), ('catalyst', 3055), ('adaptable', 288), ('reasonably', 18049), ('weibull', 23438), ('diametral', 5588), ('hardened', 8992), ('lognormal', 11857), ('unequivocally', 22686), ('dpp', 6141), ('calculations', 2843), ('broadens', 2642), ('mpc', 13466), ('laserscan', 11469), ('distinguished', 5948), ('valencia', 22990), ('compile', 3944), ('crystallized', 4761), ('demineralization', 5270), ('tighter', 21764), ('retardation', 18721), ('naked', 13722), ('substantiates', 20859), ('securing', 19437), ('accumulating', 168), ('advancing', 411), ('landscape', 11443), ('anab', 828), ('dates', 5005), ('renewed', 18444), ('discrepancy', 5817), ('radiologists', 17843), ('fostered', 8147), ('gone', 8701), ('surveys', 21126), ('proline', 17334), ('tyrosine', 22466), ('nu', 14526), ('infrastructure', 10366), ('corresponded', 4506), ('nanoarrays', 13731), ('coming', 3853), ('dragonfly', 6148), ('wings', 23549), ('mdf', 12395), ('abtb', 86), ('aplastic', 1118), ('anemia', 896), ('fibrosis', 7790), ('enclosing', 6698), ('compilations', 3943), ('fossa', 8144), ('individed', 10258), ('hemiarch', 9140), ('behavioral', 1911), ('vivostudy', 23272), ('bmms', 2428), ('labile', 11365), ('bmm', 2427), ('subtraction', 20883), ('schedule', 19289), ('restitution', 18668), ('integrum', 10560), ('menopause', 12539), ('apc', 1102), ('frzb', 8278), ('plau', 16484), ('sfrp', 19643), ('prkch', 17217), ('calcoco', 2835), ('ccnd', 3150), ('wif', 23528), ('myc', 13681), ('lect', 11561), ('brighter', 2621), ('osseointegatation', 15075), ('tinbhf', 21797), ('conformation', 4153), ('tethering', 21519), ('biofunctionalize', 2153), ('roof', 18983), ('arr', 1278), ('burch', 2735), ('schneider', 19297), ('protrusio', 17484), ('bsapc', 2677), ('protusio', 17488), ('dependant', 5362), ('synthetically', 21256), ('corporal', 4485), ('submersion', 20812), ('diffusing', 5661), ('sticking', 20579), ('hastening', 9031), ('anteromedial', 1001), ('rear', 18045), ('hindered', 9286), ('signature', 19799), ('anticipation', 1030), ('bicuspid', 2033), ('elongation', 6587), ('gypsum', 8883), ('polykaryon', 16648), ('occasionally', 14641), ('apposed', 1165), ('mimicked', 13080), ('vbh', 23063), ('spilt', 20285), ('aip', 561), ('bullet', 2725), ('mono', 13333), ('coexistence', 3723), ('engulfed', 6822), ('flamed', 7923), ('lysyl', 12017), ('oxidases', 15499), ('clues', 3650), ('microbiology', 12761), ('neurophysiologic', 14050), ('spatiotemporal', 20208), ('directing', 5738), ('specification', 20229), ('nanobiomaterials', 13735), ('multipotency', 13614), ('biochemistry', 2109), ('melt', 12519), ('glassy', 8607), ('intrasulcular', 10840), ('bacterias', 1726), ('logarithmic', 11850), ('dressing', 6164), ('ward', 23363), ('vi', 23156), ('cadwood', 2802), ('dysesthesia', 6280), ('transposition', 22201), ('nai', 13717), ('tolerate', 21924), ('isolation', 11028), ('lumen', 11964), ('assumption', 1428), ('appraise', 1173), ('buttress', 2761), ('transversely', 22212), ('coded', 3708), ('holders', 9389), ('midbuccal', 13022), ('halo', 8932), ('eu', 7152), ('directive', 5743), ('lots', 11903), ('dorsal', 6084), ('retractions', 18741), ('geistlich', 8462), ('pharma', 16151), ('wolhusen', 23591), ('psychologic', 17563), ('subtotal', 20881), ('squamous', 20364), ('tense', 21467), ('anesthesiaded', 900), ('blunt', 2409), ('pipes', 16379), ('pvc', 17670), ('microbiota', 12763), ('biocorrosion', 2127), ('sequencing', 19564), ('interruption', 10736), ('interlaid', 10664), ('nonconductive', 14246), ('electrotherapy', 6551), ('paraffin', 15631), ('hsscs', 9528), ('haematologically', 8906), ('stro', 20705), ('hssc', 9527), ('lo', 11809), ('ctg', 4786), ('ethidium', 7130), ('homodimer', 9415), ('eh', 6448), ('ssc', 20394), ('multifractal', 13579), ('lacunarity', 11400), ('submersed', 20811), ('descriptors', 5437), ('undemineralised', 22612), ('nonsignificantly', 14398), ('methodologies', 12669), ('inefficient', 10285), ('beings', 1920), ('centuries', 3226), ('hi', 9260), ('conclusively', 4073), ('freestanding', 8230), ('keeper', 11218), ('relieved', 18385), ('reconnection', 18129), ('dehiscent', 5204), ('dehiscences', 5202), ('barlev', 1786), ('senescence', 19510), ('conspicuous', 4256), ('committed', 3877), ('refining', 18236), ('nanocrystallized', 13750), ('hardening', 8993), ('impressively', 10099), ('anyway', 1085), ('singularly', 19886), ('cynomolgus', 4921), ('macaca', 12022), ('fascicularis', 7604), ('histogram', 9317), ('shades', 19652), ('acquiring', 232), ('immunogenicity', 9952), ('nonapeptide', 14217), ('ppfegciwn', 16898), ('ln', 11806), ('recognizable', 18109), ('antigenic', 1044), ('explicit', 7398), ('calvarium', 2870), ('tt', 22382), ('gt', 8849), ('surge', 21095), ('panarticular', 15596), ('recessed', 18094), ('oarsi', 14574), ('immobilised', 9917), ('aac', 3), ('visualised', 23248), ('hl', 9363), ('photodevice', 16253), ('collecting', 3787), ('scraper', 19351), ('particulates', 15700), ('medialized', 12463), ('torqued', 21983), ('centralized', 3214), ('invented', 10890), ('trough', 22356), ('histometry', 9327), ('incessant', 10146), ('cleft', 3600), ('clefts', 3601), ('hypoplasia', 9711), ('bottle', 2524), ('superhydrophobic', 21002), ('upgraded', 22899), ('autoclaved', 1603), ('recontamination', 18142), ('goldner', 8694), ('mngc', 13229), ('persistence', 16085), ('tjellstrom', 21866), ('audiologic', 1547), ('audiology', 1551), ('audiometry', 1554), ('therewas', 21601), ('quiet', 17778), ('spl', 20300), ('orin', 14965), ('reviewing', 18801), ('smartpeg', 20029), ('anymore', 1083), ('colored', 3820), ('chinchilla', 3418), ('nonresorbable', 14382), ('nr', 14506), ('nylon', 14565), ('enzymatic', 6914), ('vacuolar', 22985), ('epitec', 6968), ('nanobioglass', 13734), ('nbg', 13918), ('caco', 2791), ('agpo', 531), ('nanospikes', 13837), ('cf', 3276), ('boosted', 2502), ('hold', 9387), ('vc', 23067), ('zd', 23746), ('bpi', 2549), ('stm', 20609), ('independence', 10225), ('knuckle', 11307), ('zir', 23775), ('ringbone', 18897), ('lew', 11640), ('scapulas', 19264), ('cleidocranial', 3602), ('ccd', 3143), ('inherited', 10396), ('dominantly', 6059), ('arose', 1275), ('ceramically', 3246), ('veneered', 23100), ('coarsely', 3680), ('ec', 6329), ('trka', 22339), ('fngf', 8029), ('ftrka', 8288), ('fp', 8169), ('supernatants', 21014), ('ewing', 7230), ('boy', 2545), ('atlantoaxial', 1465), ('spondylectomy', 20317), ('retropharyngeal', 18762), ('commenced', 3858), ('mci', 12382), ('haberman', 8888), ('bnh', 2443), ('hrs', 9514), ('appreciable', 1177), ('bnha', 2444), ('multistep', 13624), ('antwerpen', 1078), ('purulent', 17651), ('outpatients', 15374), ('meaningfully', 12407), ('angulations', 925), ('prothesis', 17464), ('dissimilarities', 5916), ('amines', 775), ('isoelectric', 11019), ('anaplastologists', 866), ('tracheostomy', 22047), ('deserve', 5438), ('epithetic', 6975), ('congruence', 4172), ('recipe', 18099), ('conserve', 4228), ('polyurea', 16696), ('puua', 17665), ('multifunctionality', 13581), ('roxithromycin', 19030), ('tmp', 21884), ('cgrp', 3291), ('pathophysiological', 15759), ('lentivirus', 11601), ('ivis', 11095), ('icx', 9779), ('medentis', 12459), ('dernau', 5422), ('popularly', 16722), ('anodize', 964), ('ati', 1459), ('pushed', 17654), ('tipping', 21820), ('transmittance', 22173), ('transmitting', 22176), ('osteon', 15251), ('tricalciumphosphate', 22281), ('expound', 7426), ('postauricular', 16780), ('acceptor', 125), ('dowel', 6110), ('splines', 20305), ('retroversion', 18765), ('posttuberculosis', 16848), ('templating', 21437), ('qz', 17792), ('endure', 6795), ('alveoloplasty', 734), ('recalls', 18072), ('paresthesia', 15668), ('nonsmoking', 14403), ('smoked', 20048), ('cigarettes', 3486), ('influent', 10342), ('naocl', 13876), ('acidetched', 211), ('secondarily', 19413), ('orthodontists', 14987), ('osteoarthrosis', 15156), ('hypodontia', 9704), ('anodontia', 967), ('quadruple', 17718), ('cmi', 3660), ('osfe', 15027), ('enroll', 6852), ('concealed', 4038), ('caa', 2781), ('bruxers', 2670), ('deal', 5044), ('prosthodontically', 17434), ('seek', 19451), ('ocir', 14669), ('tbica', 21364), ('captures', 2957), ('replicas', 18495), ('nanorough', 13823), ('neighboring', 13989), ('ticoll', 21745), ('springs', 20353), ('formerly', 8113), ('owes', 15484), ('epochal', 6980), ('confusion', 4167), ('inferred', 10318), ('craniotomy', 4668), ('htr', 9535), ('pmi', 16540), ('hydrocephalus', 9594), ('mpi', 13470), ('spirochetes', 20296), ('unsealed', 22849), ('fluctuate', 7975), ('maoed', 12217), ('shafts', 19656), ('unbearable', 22565), ('tkr', 21872), ('hinged', 9295), ('meters', 12651), ('ipth', 10958), ('preimplantation', 17035), ('multisurface', 13625), ('toimplant', 21915), ('osmotic', 15033), ('predicated', 16979), ('strive', 20702), ('requested', 18543), ('indiscernible', 10252), ('devising', 5537), ('luminescent', 11966), ('bioimaging', 2164), ('went', 23461), ('intracondylar', 10794), ('laminae', 11428), ('ebh', 6323), ('tunnelling', 22420), ('tesg', 21501), ('sensible', 19521), ('motifs', 13429), ('biocermet', 2104), ('biosurfaces', 2287), ('oligopeptides', 14770), ('purposely', 17645), ('visualizing', 23252), ('flourescence', 7966), ('labelled', 11359), ('ultrasonication', 22517), ('biocoatings', 2115), ('biocermets', 2105), ('congress', 4171), ('icoi', 9769), ('pisa', 16384), ('esthetical', 7099), ('expectation', 7356), ('procera', 17247), ('glycaemic', 8651), ('zucker', 23808), ('zdf', 23747), ('exenatide', 7303), ('mmol', 13220), ('deferring', 5157), ('stabilisation', 20406), ('revascularised', 18781), ('newton', 14094), ('centimetres', 3210), ('posttreatment', 16847), ('restricts', 18692), ('gps', 8728), ('enwrapped', 6913), ('exfoliated', 7314), ('deciduous', 5085), ('agitated', 524), ('bradford', 2560), ('cbmsc', 3130), ('remainder', 18399), ('microsc', 12944), ('ors', 14977), ('uci', 22477), ('uli', 22497), ('ndp', 13947), ('lp', 11920), ('multiscaled', 13621), ('ribbonlike', 18870), ('nanospongelike', 13838), ('spongelike', 20322), ('ranibizumab', 17902), ('vegfs', 23086), ('emi', 6644), ('excitations', 7279), ('admittance', 374), ('vibrations', 23169), ('exploited', 7402), ('alloyed', 676), ('ppeda', 16896), ('isqvalue', 11055), ('isqvalues', 11056), ('stop', 20622), ('approximates', 1199), ('immunocytochemistry', 9944), ('singleton', 19882), ('merten', 12566), ('aortic', 1093), ('calcifications', 2820), ('mannheim', 12198), ('ultrahydrophilic', 22509), ('sir', 19910), ('osteoporostic', 15272), ('divides', 5997), ('correctly', 4497), ('hpp', 9504), ('ncbi', 13931), ('picarta', 16320), ('textbooks', 21537), ('handbooks', 8952), ('osteolyses', 15238), ('mutagenicity', 13656), ('carcinogenicity', 2992), ('hpps', 9506), ('happens', 8980), ('kossa', 11323), ('multiplicity', 13610), ('bmper', 2434), ('nfrkb', 14104), ('finds', 7853), ('segmented', 19463), ('thresholding', 21693), ('chamfer', 3310), ('qu', 17708), ('micropits', 12910), ('microcavities', 12771), ('capcs', 2936), ('capc', 2935), ('stratification', 20656), ('hus', 9562), ('cleanings', 3586), ('pollution', 16597), ('protections', 17445), ('niuchu', 14157), ('interlocks', 10676), ('agree', 532), ('halldin', 8929), ('lwts', 11989), ('synchronously', 21217), ('lwt', 11988), ('cannulated', 2911), ('uncannulated', 22572), ('bronj', 2651), ('recommends', 18122), ('cautious', 3106), ('pgrf', 16133), ('endoret', 6763), ('bax', 1828), ('intramedullar', 10812), ('bodied', 2454), ('obligate', 14595), ('stumps', 20742), ('profiteers', 17283), ('cones', 4119), ('wished', 23561), ('followups', 8062), ('tempromandibular', 21449), ('neonatal', 14009), ('stretching', 20683), ('nonstretched', 14414), ('zymography', 23824), ('stretch', 20681), ('responds', 18655), ('craterlike', 4676), ('medicolaser', 12485), ('technoline', 21401), ('belgrade', 1923), ('serbia', 19573), ('siblings', 19767), ('srmicro', 20384), ('levelled', 11632), ('depicting', 5373), ('mblcs', 12364), ('dropouts', 6191), ('mblc', 12363), ('pointing', 16574), ('ano', 955), ('resemble', 18580), ('nanotopographical', 13863), ('idrs', 9804), ('lipopolysacharide', 11760), ('broth', 2655), ('quantitating', 17738), ('bioburden', 2094), ('potently', 16867), ('recruiting', 18163), ('kolmogorov', 11313), ('smirnov', 20041), ('fg', 7738), ('grouping', 8835), ('hos', 9462), ('calibrate', 2849), ('multipass', 13603), ('caliber', 2848), ('mpcr', 13468), ('tnz', 21898), ('stacking', 20423), ('suturing', 21162), ('neurological', 14044), ('spondylosis', 20320), ('complementing', 3954), ('utilisation', 22962), ('streamlining', 20663), ('bioactiviation', 2081), ('alignments', 615), ('methacryloyloxydecyl', 12660), ('dihydrogen', 5682), ('mdp', 12399), ('nanocrystal', 13748), ('biocera', 2099), ('repositioned', 18513), ('nanocystal', 13753), ('metabolites', 12603), ('dehydrocholesterol', 5207), ('cholecalciferol', 3439), ('tilting', 21777), ('macerated', 12025), ('acetabuli', 183), ('zintra', 23774), ('hofer', 9386), ('imhof', 9896), ('metallsockel', 12624), ('methylacrylate', 12676), ('story', 20632), ('impurity', 10112), ('bioresorption', 2265), ('microplasma', 12913), ('exemplarily', 7299), ('mr', 13479), ('inability', 10118), ('mgi', 12711), ('periodontopathogenic', 16016), ('tbl', 21365), ('facs', 7549), ('brinp', 2630), ('genotyped', 8517), ('taqman', 21336), ('genotype', 8516), ('deltadeltact', 5248), ('polymorphic', 16670), ('variant', 23023), ('microcomputer', 12787), ('precious', 16945), ('elettrolaser', 6559), ('verona', 23117), ('sinfony', 19880), ('paul', 15776), ('mn', 13227), ('censored', 3203), ('lop', 11889), ('eared', 6302), ('deoxynucleotidyl', 5353), ('transferase', 22123), ('dutp', 6251), ('nick', 14122), ('microanalyzer', 12742), ('quasicovalent', 17753), ('streptavidin', 20670), ('biotin', 2298), ('supracortically', 21065), ('plf', 16509), ('biotinylated', 2300), ('osseoconductivity', 15052), ('divide', 5995), ('arrival', 1288), ('tin', 21795), ('zrn', 23804), ('vapour', 23016), ('colour', 3825), ('solves', 20135), ('tab', 21274), ('reversible', 18793), ('adjuncts', 354), ('implantits', 10043), ('trapped', 22221), ('decomposed', 5102), ('diffused', 5659), ('msi', 13498), ('relates', 18355), ('outlined', 15365), ('hitch', 9358), ('your', 23730), ('wagon', 23337), ('decementation', 5077), ('buser', 2754), ('regrafting', 18294), ('allo', 648), ('topologic', 21971), ('decouple', 5120), ('macrogeometries', 12037), ('overdrilling', 15420), ('intramembranous', 10815), ('prevailed', 17154), ('spline', 20304), ('pitt', 16396), ('vtps', 23319), ('puretex', 17634), ('nondamaged', 14265), ('ranked', 17904), ('call', 2859), ('denoting', 5299), ('mericske', 12556), ('stern', 20570), ('pathogenetic', 15745), ('interstitial', 10752), ('sparc', 20197), ('meticulously', 12692), ('metastatic', 12646), ('disarticulations', 5769), ('contractures', 4350), ('think', 21643), ('worsening', 23633), ('poles', 16587), ('shelters', 19702), ('shelter', 19701), ('strategically', 20653), ('overcomes', 15410), ('adjustments', 360), ('icsrs', 9776), ('nonthreaded', 14427), ('icsr', 9775), ('bcdm', 1846), ('pcdm', 15807), ('luminex', 11967), ('avadent', 1640), ('nobelclinician', 14183), ('convert', 4407), ('fin', 7842), ('ceramica', 3245), ('faenza', 7562), ('microtomographical', 13001), ('osteointegrated', 15232), ('osteointegrate', 15231), ('superline', 21012), ('phob', 16196), ('phil', 16191), ('patches', 15731), ('fibre', 7759), ('hbcs', 9048), ('impedes', 10009), ('destroy', 5468), ('br', 2553), ('grits', 8819), ('microsurface', 12979), ('microroughened', 12937), ('ultrafast', 22506), ('writing', 23656), ('kyw', 11353), ('chirped', 3424), ('fs', 8279), ('lipsss', 11766), ('nanopillars', 13809), ('microcolumns', 12785), ('epifluorescence', 6947), ('immunostainings', 9979), ('lipss', 11765), ('microcolumn', 12784), ('femtosecond', 7707), ('approached', 1185), ('comorbidity', 3895), ('associative', 1423), ('univariable', 22762), ('phonatory', 16200), ('arisen', 1259), ('kyocera', 11347), ('upregulate', 22906), ('transcripts', 22102), ('csra', 4777), ('csras', 4778), ('glenoidal', 8612), ('retrievals', 18748), ('inhomogeneous', 10406), ('crsa', 4735), ('blf', 2377), ('gm', 8674), ('lu', 11947), ('formats', 8109), ('alvim', 736), ('theories', 21583), ('modules', 13288), ('boosting', 2503), ('segmenting', 19464), ('vbic', 23064), ('va', 22980), ('classify', 3572), ('refute', 18258), ('interpreting', 10722), ('isoforms', 11021), ('abbreviated', 23), ('aphab', 1110), ('ghsi', 8563), ('fesm', 7725), ('aftercare', 485), ('ablative', 47), ('allfit', 645), ('ihde', 9832), ('traveling', 22235), ('interchangeability', 10598), ('causally', 3094), ('mechanobiologically', 12436), ('gentle', 8522), ('mectron', 12455), ('carasco', 2962), ('fluoroptic', 8006), ('irrigant', 10989), ('clogging', 3630), ('synergically', 21227), ('logical', 11853), ('xerostomia', 23676), ('differentiating', 5642), ('libraries', 11655), ('contributors', 4374), ('genuine', 8524), ('componentry', 3987), ('nitriding', 14150), ('nitrided', 14149), ('mbar', 12354), ('planar', 16427), ('seq', 19556), ('truseq', 22365), ('defining', 5166), ('putting', 17663), ('heuristic', 9229), ('algaas', 603), ('decalcifying', 5069), ('picrosirius', 16333), ('photobiostimulation', 16246), ('sbi', 19222), ('supershort', 21022), ('maxillas', 12325), ('foramina', 8070), ('remade', 18397), ('baer', 1740), ('offices', 14723), ('requesting', 18544), ('implantium', 10044), ('polytetrafluoroethylene', 16694), ('adjustable', 356), ('monocentric', 13337), ('hannover', 8973), ('word', 23604), ('monosyllable', 13366), ('oldenburg', 14758), ('sentence', 19538), ('bcb', 1843), ('wise', 23558), ('audiometric', 1552), ('postprosthesis', 16829), ('sleeping', 19981), ('torquing', 21986), ('transposing', 22200), ('wct', 23407), ('reimplanted', 18324), ('transposed', 22199), ('bgi', 1995), ('objectiveness', 14591), ('retroforaminal', 18758), ('otology', 15337), ('otolaryngology', 15334), ('luting', 11979), ('catia', 3077), ('abaqus', 19), ('cae', 2803), ('connectors', 4203), ('biosensing', 2271), ('nonremovable', 14380), ('pumped', 17622), ('dbm', 5020), ('asian', 1362), ('notching', 14474), ('inversion', 10895), ('baseplate', 1803), ('rll', 18921), ('sphere', 20274), ('roentgenological', 18969), ('scaffolding', 19233), ('moving', 13462), ('arena', 1244), ('reappraisal', 18044), ('endotoxins', 6783), ('thromboembolic', 21700), ('hematologist', 9132), ('inr', 10460), ('warfarin', 23365), ('impose', 10083), ('haemostatic', 8915), ('codified', 3714), ('penetrated', 15906), ('curing', 4847), ('durom', 6247), ('motivation', 13436), ('bears', 1883), ('filter', 7837), ('strips', 20700), ('fluctuated', 7976), ('assistant', 1412), ('discretely', 5819), ('periodontologists', 16012), ('bucco', 2699), ('microgeometry', 12840), ('avulsion', 1675), ('phibo', 16189), ('prosthesized', 17426), ('timings', 21791), ('pork', 16732), ('osteolytic', 15240), ('sequestration', 19569), ('suggestive', 20927), ('alert', 601), ('rfas', 18824), ('tightened', 21761), ('tighten', 21760), ('hrtem', 9516), ('eels', 6414), ('intermixing', 10690), ('elness', 6584), ('osseohybridization', 15063), ('reconsideration', 18131), ('metha', 12653), ('nanos', 13826), ('caput', 2960), ('collum', 3802), ('minus', 13144), ('hss', 9526), ('absorptiometric', 80), ('ckd', 3537), ('phosphaturic', 16215), ('uremia', 22928), ('nephrectomy', 14021), ('bun', 2727), ('osteoidosis', 15217), ('dipped', 5734), ('vis', 23224), ('spectrophotometer', 20249), ('possi', 16774), ('bility', 2056), ('encumbrance', 6718), ('minisky', 13135), ('narowsky', 13881), ('sky', 19957), ('narrowsky', 13888), ('ruptures', 19090), ('minors', 13143), ('antiretroviral', 1064), ('crystallization', 4759), ('security', 19438), ('fluoroboric', 7997), ('zirti', 23780), ('filler', 7826), ('normative', 14461), ('uvc', 22978), ('phosphoserine', 16237), ('dendrons', 5289), ('functionalisation', 8311), ('dendron', 5288), ('psd', 17528), ('karyotyping', 11211), ('mutagenic', 13655), ('bisphenyl', 2333), ('reactively', 18003), ('pmc', 16537), ('pmcs', 16538), ('strengthening', 20667), ('thermoset', 21622), ('nonpolar', 14369), ('attractions', 1530), ('semiconductors', 19493), ('noncollar', 14242), ('transection', 22114), ('hphob', 9498), ('hphil', 9497), ('bimetallic', 2061), ('catalogues', 3051), ('torpedo', 21981), ('hexahedral', 9234), ('brick', 2609), ('cusps', 4872), ('comparation', 3909), ('choosed', 3456), ('osteotomic', 15303), ('overheated', 15434), ('infrabony', 10358), ('indolamine', 10263), ('acoustical', 223), ('cylindrically', 4919), ('axisymetric', 1691), ('bounded', 2530), ('spectral', 20243), ('airborne', 563), ('indoor', 10265), ('accounts', 157), ('bioapplications', 2090), ('tubes', 22393), ('spectacular', 20241), ('surprising', 21114), ('remedy', 18409), ('biweekly', 2347), ('sevenfold', 19618), ('eroded', 7038), ('toremifene', 21979), ('configurational', 4131), ('mesopores', 12589), ('biases', 2009), ('bbg', 1833), ('borate', 2507), ('irregularly', 10979), ('bisgma', 2330), ('tegdma', 21413), ('frc', 8219), ('slaughterhouse', 19976), ('epidermolysis', 6945), ('bullosa', 2726), ('eb', 6320), ('blister', 2383), ('extracutaneous', 7477), ('recessive', 18098), ('dystrophic', 6295), ('tpp', 22025), ('acetylation', 195), ('viscometry', 23228), ('bre', 2579), ('infer', 10311), ('om', 14775), ('peroxyacetic', 16075), ('immersions', 9909), ('rubbing', 19071), ('swabs', 21171), ('mildly', 13058), ('hydrophily', 9613), ('showcased', 19748), ('mastergraft', 12277), ('hitherto', 9359), ('autoradiography', 1634), ('micrometers', 12877), ('scintillation', 19322), ('stays', 20501), ('voltammetry', 23290), ('moo', 13380), ('protector', 17447), ('aerated', 435), ('sbm', 19227), ('anaesthesia', 835), ('drawback', 6158), ('alopecia', 688), ('devascularization', 5519), ('scarring', 19272), ('patologia', 15768), ('cervico', 3271), ('disappearing', 5764), ('bacterially', 1725), ('sake', 19134), ('ucmscs', 22480), ('inbeagle', 10137), ('mesio', 12581), ('orn', 14968), ('nonosseointegration', 14354), ('nontraumatic', 14430), ('incompletely', 10180), ('accomplishing', 147), ('lactotransferrin', 11396), ('ltf', 11946), ('pleiotropic', 16502), ('hormonal', 9455), ('reposition', 18512), ('tomas', 21933), ('dentaurum', 5322), ('ispringen', 11044), ('rocky', 18958), ('mountain', 13447), ('denver', 5349), ('colo', 3803), ('pubic', 17595), ('cybernetics', 4898), ('rockville', 18957), ('limmed', 11720), ('locked', 11843), ('dynamisation', 6274), ('htos', 9534), ('finishing', 7864), ('partition', 15704), ('unavoidable', 22560), ('termination', 21492), ('beaded', 1866), ('duofix', 6232), ('cemento', 3196), ('bicon', 2025), ('boston', 2522), ('dicember', 5608), ('mbi', 12360), ('microcirculation', 12779), ('doppler', 6082), ('flowmetry', 7971), ('ldf', 11534), ('provocation', 17509), ('microcircular', 12778), ('str', 20636), ('stp', 20633), ('naive', 13721), ('isotherm', 11035), ('flux', 8017), ('maladaptation', 12120), ('widen', 23518), ('maybe', 12349), ('conductor', 4107), ('bypassing', 2776), ('molnlycke', 13312), ('softwear', 20102), ('pad', 15545), ('distributes', 5969), ('powered', 16882), ('nanoscopic', 13829), ('oxycarbide', 15513), ('expeditiously', 7363), ('monolayer', 13351), ('themselves', 21575), ('globular', 8624), ('capped', 2947), ('eisa', 6467), ('nsc', 14513), ('nanoporosity', 13818), ('promissory', 17350), ('anhydrous', 927), ('cpcs', 4632), ('palpation', 15587), ('crystallographic', 4763), ('habg', 8889), ('gae', 8370), ('pld', 16493), ('maple', 12221), ('cryogenic', 4750), ('desorption', 5461), ('osteoarticular', 15157), ('assemblies', 1390), ('vinyl', 23205), ('cohesion', 3736), ('pirac', 16380), ('attribute', 1533), ('macrometer', 12041), ('revisits', 18810), ('inconsistencies', 10185), ('overabundant', 15403), ('maximization', 12338), ('englewood', 6819), ('exteriorization', 7453), ('carbodiimide', 2966), ('chemoligation', 3381), ('boosts', 2504), ('underpin', 22641), ('roadblock', 18939), ('lineages', 11727), ('bams', 1768), ('adsorbing', 399), ('oligodesoxynucleotides', 14766), ('odns', 14692), ('strand', 20645), ('bam', 1764), ('hybridize', 9580), ('msis', 13500), ('accommodated', 138), ('countertorque', 4590), ('perni', 16068), ('borosilicate', 2519), ('helium', 9120), ('plasmas', 16453), ('asperity', 1379), ('inserts', 10474), ('deals', 5046), ('microfilled', 12825), ('nanopatterning', 13804), ('nanophase', 13807), ('biochips', 2110), ('affordable', 468), ('milano', 13055), ('kentron', 11227), ('geass', 8458), ('pozzuolo', 16886), ('del', 5211), ('friuli', 8264), ('centres', 3219), ('pragmatic', 16923), ('interpositional', 10717), ('particulated', 15699), ('provisionally', 17504), ('decementations', 5078), ('goniometer', 8702), ('radiochemotherapy', 17819), ('ptfe', 17578), ('digitalized', 5670), ('sectors', 19431), ('scd', 19282), ('masked', 12264), ('overcame', 15406), ('nobelspeedy', 14189), ('palatomaxillary', 15580), ('conformers', 4157), ('obturators', 14629), ('zygomas', 23815), ('underscores', 22650), ('odontological', 14700), ('antemortem', 993), ('postmortem', 16813), ('corpse', 4487), ('chooses', 3457), ('uniqueness', 22750), ('burnt', 2746), ('charred', 3353), ('victim', 23181), ('homicide', 9412), ('forensic', 8087), ('invariability', 10880), ('hound', 9475), ('fdbx', 7659), ('cerebrospinal', 3257), ('leak', 11548), ('breaching', 2582), ('meningitis', 12536), ('consenting', 4219), ('apicocoronal', 1116), ('urea', 22927), ('exacerbating', 7234), ('je', 11119), ('drillholes', 6171), ('handed', 8953), ('inaccuracy', 10120), ('homogenic', 9421), ('uniformity', 22728), ('unguided', 22712), ('implicating', 10070), ('commensurately', 3863), ('posit', 16758), ('nonblinded', 14230), ('denmark', 5293), ('bia', 2004), ('dermatome', 5420), ('theme', 21573), ('bortoli', 2520), ('tenacity', 21453), ('deformability', 5177), ('phosphosilicate', 16238), ('viscous', 23233), ('incompressible', 10181), ('tomographs', 21941), ('whereupon', 23489), ('smo', 20046), ('precalcification', 16937), ('aph', 1109), ('ut', 22960), ('cti', 4789), ('ly', 11990), ('crista', 4705), ('iliaca', 9858), ('attenuation', 1519), ('inset', 10475), ('stepped', 20533), ('misaligned', 13157), ('sudden', 20908), ('malpositioned', 12149), ('osteospecific', 15294), ('brittle', 2634), ('nominal', 14203), ('sro', 20387), ('srf', 20379), ('caf', 2805), ('letter', 11617), ('venous', 23103), ('interocclusal', 10700), ('moist', 13297), ('ossseointegrated', 15123), ('procollagen', 17256), ('mastoid', 12281), ('willing', 23541), ('unpublished', 22813), ('pentagon', 15912), ('fifth', 7811), ('kerala', 11229), ('india', 10235), ('enquired', 6847), ('epi', 6934), ('info', 10345), ('orthopantomograph', 15001), ('iopar', 10941), ('prescribe', 17096), ('dentomaxillofacial', 5341), ('stereology', 20549), ('microroughned', 12940), ('ileum', 9854), ('reamer', 18037), ('microroughed', 12936), ('reprints', 18526), ('sagepub', 19128), ('journalspermissions', 11160), ('nav', 13909), ('citation', 3525), ('reconfirms', 18126), ('wadhwani', 23332), ('supragingivally', 21070), ('reproduces', 18529), ('attendance', 1509), ('lowmagnitude', 11918), ('wholebody', 23507), ('bonetoimplant', 2490), ('percussive', 15947), ('cabled', 2787), ('wireless', 23553), ('ept', 6987), ('solicit', 20114), ('perioperatively', 16024), ('electrophysiologic', 6531), ('axon', 1694), ('myelin', 13683), ('muv', 13667), ('geometrically', 8532), ('alloclassic', 652), ('aborted', 56), ('verifies', 23113), ('wash', 23374), ('notion', 14485), ('fbr', 7647), ('buildup', 2714), ('immunologically', 9969), ('granulocytes', 8771), ('fbgc', 7644), ('fbgcs', 7645), ('seals', 19394), ('complicating', 3976), ('embrace', 6625), ('recommendable', 18117), ('trying', 22370), ('tridimensionally', 22290), ('cots', 4559), ('ctsd', 4799), ('csu', 4782), ('dermalock', 5415), ('chiefly', 3405), ('postintervention', 16808), ('periabutment', 15970), ('paraesthesia', 15629), ('hemophilia', 9169), ('hepatitis', 9188), ('viii', 23200), ('antifibrinolytic', 1039), ('postrehabilitation', 16834), ('irreversible', 10985), ('uc', 22476), ('dimethylthiazole', 5711), ('nutritive', 14555), ('wp', 23643), ('osteotomized', 15307), ('tbc', 21360), ('hpf', 9496), ('fluoroscopy', 8009), ('freehand', 8226), ('readable', 18008), ('iods', 10928), ('periodontic', 16003), ('semantic', 19489), ('locators', 11841), ('midfacial', 13029), ('pleasant', 16498), ('iod', 10925), ('microarrays', 12750), ('interrogate', 10731), ('appreciated', 1180), ('subunit', 20888), ('foghsgaard', 8045), ('caye', 3115), ('thomasen', 21663), ('acids', 216), ('ovd', 15401), ('attrition', 1536), ('drooping', 6186), ('overclosed', 15408), ('commissures', 3875), ('sandwich', 19165), ('osteoplasty', 15269), ('osteosynthetic', 15299), ('iai', 9736), ('concavity', 4037), ('worked', 23611), ('nonmatching', 14331), ('deconstructing', 5105), ('accelerations', 111), ('untapped', 22871), ('pharmacologic', 16158), ('antirotation', 1065), ('servohydraulic', 19603), ('microim', 12855), ('mediation', 12472), ('improper', 10100), ('atlantis', 1464), ('ilr', 9879), ('fibrointegration', 7782), ('fir', 7870), ('bdit', 1859), ('variances', 23022), ('simulates', 19868), ('reinforcements', 18331), ('multilateral', 13584), ('precautions', 16940), ('ablations', 46), ('interceptive', 10596), ('cist', 3522), ('advices', 424), ('reused', 18776), ('aappj', 11), ('sccm', 19281), ('cured', 4840), ('coll', 3761), ('bmc', 2419), ('expediting', 7361), ('sustainedly', 21151), ('comminuted', 3873), ('singly', 19884), ('situs', 19927), ('asset', 1403), ('osteoformation', 15203), ('counteracts', 4573), ('electrolytically', 6517), ('pflcp', 16119), ('extracapsular', 7461), ('dhs', 5563), ('sanders', 19163), ('subtrochanteric', 20885), ('dei', 5209), ('attested', 1521), ('oip', 14750), ('auricles', 1576), ('ohis', 14738), ('ohi', 14735), ('leakage', 11549), ('tightness', 21766), ('dynamometrical', 6278), ('fractographic', 8188), ('striations', 20685), ('atypical', 1538), ('submciro', 20804), ('submicro', 20813), ('amphiphilicity', 805), ('circularly', 3502), ('cpl', 4637), ('alternancy', 711), ('significatively', 19809), ('penetrate', 15905), ('configured', 4133), ('microholes', 12852), ('pharmacokinetic', 16156), ('preceded', 16941), ('smi', 20039), ('mps', 13476), ('microradiographically', 12928), ('suprabony', 21061), ('belief', 1924), ('unevenly', 22689), ('ought', 15347), ('occasion', 14639), ('relining', 18389), ('redundant', 18202), ('juxta', 11192), ('sonosurgery', 20151), ('af', 450), ('chose', 3461), ('moore', 13381), ('teardrop', 21386), ('ohd', 14734), ('file', 7821), ('fewest', 7731), ('immobilising', 9918), ('hdf', 9073), ('biofunctionalised', 2150), ('owls', 15486), ('helix', 9121), ('compactness', 3901), ('hypermesh', 9682), ('amplifies', 813), ('oligodontia', 14767), ('intraforaminal', 10805), ('barely', 1784), ('queried', 17759), ('orif', 14955), ('osseointigrate', 15091), ('rb', 17950), ('calipers', 2857), ('biometric', 2216), ('morita', 13393), ('kyodo', 11348), ('buccopalatal', 2703), ('conically', 4179), ('photoelastic', 16256), ('pounds', 16873), ('containment', 4305), ('caucasians', 3088), ('ghent', 8561), ('sanger', 19167), ('genotypic', 8519), ('polymorphism', 16671), ('pci', 15809), ('phantom', 16147), ('epiplating', 6961), ('osteosysthesis', 15300), ('medicon', 12487), ('tuttlingen', 22434), ('barrel', 1789), ('osteoseptocutaneous', 15292), ('premorbid', 17060), ('paddles', 15547), ('tester', 21508), ('lbes', 11521), ('reliabilities', 18376), ('iccs', 9765), ('sems', 19506), ('plausible', 16486), ('lbe', 11520), ('bfgf', 1986), ('twelfth', 22445), ('ssd', 20396), ('tinnitus', 21800), ('routing', 19026), ('binaural', 2067), ('forthcoming', 8133), ('convincing', 4417), ('lengthy', 11596), ('unconventional', 22598), ('encroach', 6715), ('endorsed', 6765), ('intriguing', 10856), ('encroaching', 6717), ('npc', 14504), ('tizrm', 21862), ('uncleaned', 22581), ('flanks', 7927), ('reestablishment', 18209), ('greyhound', 8807), ('submerge', 20806), ('ea', 6296), ('tp', 22017), ('mechanosensors', 12447), ('dendrites', 5286), ('lacunar', 11399), ('grinded', 8812), ('internalization', 10693), ('hypohidrotic', 9708), ('subtle', 20879), ('deltabic', 5246), ('bbraun', 1837), ('aesculap', 442), ('osteodensitometric', 15190), ('relevancies', 18373), ('epidemiologically', 6940), ('netavg', 14028), ('pneumatized', 16553), ('collodiaphyseal', 3798), ('bowing', 2542), ('flares', 7934), ('cfi', 3278), ('mcfi', 12378), ('corticomedullary', 4534), ('prolongs', 17339), ('worthwhile', 23636), ('hastens', 9032), ('perpetual', 16078), ('temporomandibular', 21447), ('tmj', 21882), ('tjr', 21867), ('christensen', 3466), ('incisive', 10161), ('provisionalized', 17503), ('zenith', 23753), ('markov', 12248), ('mrf', 13481), ('textural', 21539), ('unitite', 22759), ('fixated', 7899), ('equips', 7014), ('bioengineers', 2143), ('modulations', 13282), ('accidentally', 134), ('nonavailability', 14222), ('upcoming', 22893), ('locating', 11837), ('serendipity', 19575), ('amelioration', 753), ('lacide', 11384), ('employs', 6666), ('liquefy', 11770), ('enters', 6878), ('biotribocorrosion', 2306), ('nmol', 14172), ('interlayer', 10665), ('foresee', 8088), ('atomically', 1474), ('silicatitanate', 19829), ('immnocytochemistry', 9914), ('sircol', 19911), ('immnocytochemical', 9913), ('collagenic', 3773), ('tgfbeta', 21556), ('ofdentistry', 14714), ('theoral', 21578), ('rehabilitationplanning', 18318), ('projected', 17317), ('undertakenpriorto', 22660), ('planningand', 16438), ('canbetter', 2891), ('restorethe', 18679), ('emotional', 6650), ('proceduresfor', 17241), ('metalloceramic', 12615), ('implantsurgery', 10060), ('concluding', 4067), ('truncated', 22362), ('cathelicidin', 3068), ('cramp', 4657), ('islets', 11015), ('langerhans', 11445), ('pancreas', 15598), ('antifungal', 1042), ('alanine', 579), ('klkkiaqkiknffqklvp', 11287), ('amphotericin', 806), ('singletooth', 19883), ('outs', 15381), ('coats', 3688), ('stimulator', 20597), ('tractive', 22059), ('displacing', 5889), ('displace', 5885), ('bandage', 1771), ('knowing', 11304), ('biomat', 2195), ('politehnica', 16594), ('bucharest', 2704), ('dissection', 5911), ('lipolysaccharide', 11756), ('tomograph', 21936), ('edema', 6371), ('harbored', 8986), ('mpf', 13469), ('denudation', 5347), ('scaler', 19238), ('coacervation', 3672), ('ppargammacoated', 16891), ('oxidant', 15497), ('heme', 9138), ('oxygenase', 15517), ('diminishes', 5716), ('openings', 14831), ('planimetric', 16432), ('cubical', 4806), ('fluctuation', 7978), ('ccbr', 3140), ('glands', 8600), ('courses', 4605), ('logging', 11852), ('rhgh', 18852), ('nonmechanical', 14332), ('deepened', 5134), ('crystallites', 4758), ('stoichiometrically', 20612), ('basen', 1802), ('nfa', 14098), ('moda', 13246), ('gritblasted', 8817), ('thrombomodulin', 21704), ('epcr', 6929), ('selectin', 19474), ('flt', 7972), ('lapse', 11450), ('quickest', 17774), ('huvec', 9564), ('contributory', 4375), ('periodontio', 16006), ('proofs', 17371), ('blackwell', 2353), ('proprioceptive', 17410), ('staunch', 20497), ('revolutionary', 18815), ('ftm', 8287), ('transsexual', 22205), ('penile', 15911), ('wishes', 23562), ('transsexuals', 22206), ('postop', 16816), ('genital', 8507), ('virtue', 23220), ('audiologically', 1549), ('dampening', 4976), ('aah', 5), ('disinfection', 5852), ('ipl', 10952), ('detachable', 5475), ('frustration', 8276), ('malocclusions', 12147), ('opt', 14870), ('rthrs', 19057), ('simplest', 19853), ('mule', 13555), ('cellularized', 3185), ('agonist', 528), ('tiunit', 21855), ('widths', 23527), ('grant', 8759), ('amidated', 770), ('carboxymethylcellulose', 2988), ('cmca', 3657), ('osteodeposition', 15193), ('preloaded', 17044), ('releasate', 18367), ('hastened', 9030), ('theses', 21626), ('disregarded', 5899), ('intercalated', 10590), ('polycation', 16616), ('polyanion', 16606), ('natures', 13908), ('playing', 16490), ('hemisphere', 9158), ('brushite', 2669), ('fibronection', 7787), ('assessors', 1402), ('arms', 1272), ('edentate', 6373), ('goteborg', 8711), ('implantabutment', 10031), ('metalceramic', 12610), ('scanora', 19257), ('bbl', 1834), ('pseudoarthrosis', 17535), ('asia', 1361), ('pty', 17592), ('naples', 13878), ('antrostomy', 1076), ('caldwell', 2845), ('luc', 11952), ('relapse', 18352), ('unchallenged', 22578), ('epilepsy', 6953), ('autoimmune', 1615), ('polyester', 16628), ('pbdi', 15793), ('pbdis', 15794), ('absorbed', 77), ('periauricular', 15975), ('hemorrhage', 9175), ('subdural', 20779), ('neurosurgical', 14065), ('bas', 1794), ('macroroughness', 12054), ('microporosity', 12919), ('hmcss', 9370), ('osteblastic', 15132), ('externally', 7456), ('ofbuccal', 14712), ('lauric', 11508), ('conjugate', 4185), ('saturated', 19193), ('closest', 3637), ('mosby', 13422), ('cancellization', 2894), ('nonoperative', 14351), ('bioinstructive', 2172), ('dgea', 5555), ('eee', 6412), ('biointerfaces', 2177), ('cementable', 3190), ('optimise', 14882), ('boundaries', 2528), ('preload', 17043), ('mohan', 13293), ('harinath', 9001), ('cholan', 3438), ('pk', 16408), ('kumar', 11342), ('decomposition', 5103), ('vexing', 23153), ('inadequately', 10131), ('undamaged', 22607), ('cofactor', 3727), ('intervenes', 10761), ('tipvd', 21822), ('tihaps', 21771), ('iss', 11060), ('pecnps', 15852), ('polycations', 16617), ('ethyleneimine', 7140), ('diethylamino', 5629), ('ethyldextran', 7135), ('deae', 5040), ('polyanions', 16607), ('pecnp', 15851), ('carboxymethoxyphenyl', 2986), ('sulfophenyl', 20949), ('tet', 21517), ('razolium', 17949), ('pec', 15849), ('fluorescein', 7986), ('isothiocyanate', 11036), ('isomer', 11031), ('hgec', 9253), ('seventh', 19620), ('itgbeta', 11079), ('microvibration', 13018), ('foremost', 8086), ('antidiabetic', 1038), ('voglibose', 23278), ('dembone', 5267), ('hs', 9517), ('em', 6606), ('fluorohydroxyapatite', 8003), ('controllably', 4380), ('proceeded', 17243), ('impurities', 10111), ('zircon', 23777), ('nanobiocomposite', 13733), ('adenosine', 319), ('monophosphate', 13362), ('ts', 22372), ('furthers', 8345), ('centimeter', 3209), ('satisfactions', 19185), ('plaster', 16460), ('pursuit', 17650), ('nanomechanical', 13781), ('ossean', 15040), ('lock', 11842), ('boca', 2449), ('raton', 17941), ('bahd', 1747), ('reinstallation', 18337), ('reinstallations', 18338), ('reinstalled', 18339), ('pilots', 16356), ('vehicles', 23089), ('unambiguous', 22550), ('reversion', 18795), ('grooving', 8824), ('counterpart', 4583), ('scarcely', 19267), ('ran', 17889), ('bundle', 2729), ('microirregularities', 12860), ('macrostructure', 12061), ('integratable', 10548), ('streptococcal', 20671), ('biovolume', 2314), ('smoothest', 20058), ('coincides', 3751), ('nonconventional', 14257), ('dbl', 5019), ('usable', 22942), ('siemens', 19781), ('bensheim', 1949), ('official', 14724), ('tiologic', 21811), ('shorty', 19741), ('surgicase', 21103), ('prefabricate', 17016), ('handle', 8958), ('ourselves', 15351), ('cei', 3174), ('fibro', 7767), ('predecessor', 16972), ('demise', 5272), ('shortly', 19739), ('dehisced', 5200), ('dextrose', 5549), ('corr', 4489), ('muacm', 13526), ('mpy', 13478), ('resistances', 18611), ('acidity', 215), ('excursions', 7292), ('intermissions', 10686), ('leveraged', 11637), ('exfoliation', 7315), ('lasted', 11472), ('bicontact', 2026), ('microvibrations', 13019), ('surgysonic', 21106), ('esacrom', 7060), ('imola', 9984), ('microcracks', 12794), ('congruent', 4174), ('claimed', 3541), ('smirnow', 20042), ('ambiguous', 742), ('synthesizes', 21253), ('tac', 21279), ('gun', 8876), ('graphite', 8784), ('cathodes', 3073), ('administrative', 370), ('xpress', 23687), ('fulfils', 8302), ('vit', 23254), ('hyperparathyroidism', 9686), ('fpps', 8177), ('ffas', 7733), ('fpp', 8176), ('ffa', 7732), ('veneer', 23099), ('recontour', 18143), ('nondemolition', 14271), ('pecl', 15850), ('jointly', 11153), ('fmps', 8025), ('fmbs', 8022), ('acceptability', 119), ('evex', 7203), ('kc', 11213), ('dividing', 5998), ('bits', 2344), ('onlays', 14807), ('positron', 16768), ('icrs', 9772), ('monobloc', 13335), ('unipolar', 22747), ('osteolytical', 15241), ('magnetism', 12081), ('infants', 10302), ('nanomodifications', 13790), ('applegate', 1148), ('bootstrap', 2505), ('prearthritic', 16934), ('labral', 11378), ('tears', 21388), ('femoroacetabular', 7704), ('periacetabular', 15971), ('osteochondroplasty', 15169), ('bearings', 1882), ('ifp', 9818), ('orient', 14949), ('srmuct', 20386), ('fly', 8018), ('unfolding', 22704), ('mathematically', 12296), ('stressors', 20680), ('flexural', 7952), ('imperfect', 10015), ('tangential', 21315), ('contributor', 4373), ('livermore', 11792), ('hed', 9106), ('sequenced', 19562), ('eda', 6364), ('edar', 6365), ('edaradd', 6366), ('heterozygous', 9227), ('exams', 7253), ('shaving', 19682), ('disciplinary', 5788), ('sounding', 20170), ('elevator', 6565), ('parecoxib', 15663), ('diclofenac', 5612), ('killers', 11263), ('underprepared', 22644), ('threated', 21685), ('palpable', 15585), ('linkages', 11743), ('extravasated', 7497), ('catalogs', 3050), ('contingency', 4328), ('cutoff', 4884), ('pseudocyst', 17538), ('faint', 7570), ('endosinus', 6771), ('cbt', 3135), ('bq', 2552), ('alphand', 695), ('widest', 23524), ('paralleled', 15641), ('tg', 21553), ('ysgg', 23735), ('irrigated', 10990), ('coverture', 4620), ('divalent', 5986), ('phsrn', 16286), ('peptidic', 15925), ('combeite', 3835), ('nepheline', 14019), ('pressureless', 17128), ('dentine', 5328), ('biocide', 2111), ('contradictions', 4352), ('remedies', 18408), ('insertionally', 10471), ('toggle', 21909), ('broached', 2636), ('adduction', 316), ('legged', 11577), ('stance', 20444), ('kramer', 11326), ('subside', 20845), ('rotationally', 19002), ('predisposes', 16999), ('hosting', 9470), ('commonalities', 3881), ('bioeutectic', 2144), ('floating', 7957), ('rheumathologic', 18847), ('iot', 10944), ('hcfmusp', 9064), ('rheumatologic', 18849), ('prohibiting', 17312), ('train', 22070), ('probabilistic', 17222), ('mapped', 12222), ('telemetric', 21420), ('rms', 18927), ('zocor', 23793), ('msd', 13493), ('cellulosic', 3187), ('comapedrosa', 3833), ('stains', 20438), ('eqv', 7020), ('pv', 17666), ('pdlscs', 15835), ('pdlsc', 15834), ('osteosarcomal', 15291), ('monocultures', 13343), ('cocultured', 3705), ('contaminating', 4312), ('delaying', 5217), ('microflora', 12827), ('hearts', 9098), ('livers', 11793), ('pipd', 16377), ('tannarella', 21317), ('forsythensis', 8126), ('actinobacillus', 252), ('immunocompromised', 9942), ('transducers', 22111), ('polymethyl', 16668), ('formant', 8104), ('invariable', 10881), ('cohosh', 3740), ('asarum', 1343), ('sieboldii', 19780), ('pharbitis', 16149), ('semen', 19491), ('triterpenoids', 22336), ('coshosh', 4541), ('tricky', 22284), ('efficiencies', 6431), ('slot', 20006), ('avs', 1673), ('survivor', 21133), ('consecutives', 4215), ('medizintechnik', 12493), ('gulden', 8874), ('modautal', 13250), ('brillouin', 2624), ('multimodality', 13594), ('coin', 3744), ('velocities', 23095), ('flute', 8013), ('blossom', 2396), ('hac', 8899), ('devised', 5536), ('nickelide', 14124), ('fenestrated', 7713), ('pubertal', 17594), ('organotypical', 14947), ('osteoplastic', 15268), ('cba', 3118), ('osteometabolic', 15244), ('supraacetabular', 21059), ('parasymphyseal', 15659), ('delineated', 5233), ('voi', 23279), ('merged', 12555), ('universidad', 22766), ('el', 6473), ('bosque', 2521), ('bogota', 2460), ('colombia', 3806), ('oroantral', 14970), ('presumed', 17136), ('balloon', 1758), ('bkp', 2350), ('paragon', 15636), ('unmineralized', 22783), ('sporadically', 20335), ('thermosetting', 21624), ('endopore', 6758), ('entegra', 6869), ('proinflammation', 17314), ('nonsplinted', 14406), ('pops', 16717), ('pop', 16715), ('metacarpal', 12604), ('quarterly', 17748), ('hypertrophied', 9696), ('pentoxyfylline', 15918), ('ptx', 17591), ('bioadhesive', 2085), ('carbopol', 2978), ('cbp', 3132), ('lumps', 11969), ('neutrality', 14073), ('pseudo', 17533), ('rheological', 18845), ('pentoxifylline', 15916), ('pentoxyfilline', 15917), ('photomodulation', 16274), ('ischemic', 11003), ('nir', 14140), ('producibility', 17265), ('denti', 5323), ('bionika', 2242), ('kontact', 11316), ('comperative', 3933), ('predisposition', 17001), ('revisiting', 18809), ('cyanoacrylate', 4897), ('iopa', 10940), ('bahas', 1746), ('ionising', 10932), ('dearth', 5050), ('extrapolating', 7491), ('guo', 8878), ('biao', 2006), ('tolerancing', 21922), ('sensitization', 19528), ('pyrogenic', 17689), ('rebuilt', 18065), ('nonspecific', 14405), ('msts', 13509), ('worthy', 23637), ('ctrl', 4797), ('dosing', 6097), ('oestrogen', 14708), ('osteoprotegrin', 15286), ('gabapentin', 8366), ('gbp', 8441), ('elected', 6492), ('muco', 13528), ('consumed', 4291), ('spinning', 20292), ('cochleartm', 3699), ('photosensitivity', 16280), ('emulsion', 6672), ('pdp', 15839), ('platens', 16478), ('flaked', 7918), ('cube', 4803), ('interferences', 10642), ('pneumatization', 16552), ('friability', 8246), ('fibres', 7760), ('polymethylmethacrylate', 16669), ('polyhydroxylethylmethacrylate', 16646), ('ppch', 16893), ('polyanhydride', 16605), ('underreporting', 22647), ('egm', 6446), ('vascularised', 23040), ('osteomyocutaneous', 15250), ('osteometric', 15245), ('aptn', 1210), ('pronouncedly', 17369), ('wald', 23342), ('attending', 1512), ('coined', 3754), ('loadbearing', 11813), ('glow', 8628), ('alcoholism', 593), ('delays', 5218), ('libitum', 11654), ('caloric', 2865), ('tackling', 21281), ('osteostimulative', 15295), ('devitrification', 5541), ('tecs', 21408), ('srbg', 20375), ('dissolved', 5926), ('invade', 10872), ('periradicular', 16041), ('dutch', 6250), ('narratively', 13883), ('paediatric', 15550), ('carries', 3018), ('recreating', 18160), ('aesthetically', 445), ('anaesthetic', 836), ('wolhuser', 23592), ('tacks', 21282), ('frios', 8263), ('stabilse', 20419), ('ri', 18867), ('dissolves', 5927), ('mainstay', 12100), ('impressive', 10098), ('diastasis', 5601), ('hdpe', 9074), ('occuring', 14662), ('converts', 4410), ('removes', 18434), ('unavoidably', 22561), ('attractants', 1526), ('vomer', 23304), ('subnasal', 20825), ('flakes', 7920), ('volts', 23291), ('delineation', 5236), ('phosphated', 16210), ('mgha', 12710), ('alternation', 716), ('microscopes', 12947), ('hydroxyapaptite', 9628), ('tao', 21324), ('administrations', 369), ('ccm', 3147), ('scm', 19338), ('ccms', 3148), ('scms', 19339), ('expressive', 7434), ('medular', 12499), ('kyphoscoliosis', 11351), ('mva', 13670), ('kyphosis', 11352), ('crosslinks', 4727), ('infrazygomatic', 10368), ('dentulous', 5344), ('indian', 10236), ('ssavb', 20393), ('corpectomy', 4484), ('labyrinthitis', 11379), ('forthy', 8134), ('debridment', 5062), ('neogenic', 14006), ('craters', 4677), ('pierced', 16341), ('tortuous', 21990), ('locomotor', 11846), ('propulsion', 17411), ('hindlimb', 9290), ('flourishing', 7967), ('billions', 2058), ('dollars', 6051), ('revenue', 18788), ('burdened', 2737), ('investment', 10911), ('helping', 9126), ('nondeveloped', 14273), ('countries', 4593), ('ipbd', 10947), ('optically', 14874), ('discriminated', 5824), ('immunosuppressants', 9980), ('lung', 11972), ('medicated', 12480), ('steroids', 20574), ('curtailed', 4854), ('autogenic', 1609), ('immunogenic', 9951), ('thesis', 21627), ('minced', 13087), ('impregnation', 10094), ('alike', 617), ('collision', 3797), ('thusly', 21715), ('flexes', 7948), ('flexure', 7953), ('gauges', 8428), ('accumulative', 171), ('microbrushing', 12766), ('parodontal', 15675), ('micrological', 12868), ('breast', 2594), ('parodontitis', 15676), ('assure', 1431), ('arises', 1260), ('rdis', 17983), ('rdi', 17981), ('fibroblastic', 7769), ('fibroblastoma', 7770), ('dialysis', 5582), ('esrd', 7078), ('iga', 9820), ('nephropathy', 14022), ('osteodystrophy', 15200), ('cinacalcet', 3490), ('calcimimetic', 2824), ('instituted', 10510), ('bimaxillary', 2060), ('foaming', 8034), ('postprocedure', 16827), ('pharmaceutical', 16152), ('trabeculas', 22036), ('isoprenoid', 11033), ('analogues', 846), ('osteoclastsfarnesylpyrophosphate', 15175), ('prenylation', 17063), ('unprenylated', 22807), ('don', 6063), ('fasten', 7611), ('weakens', 23413), ('replicative', 18500), ('osseosubstituting', 15103), ('soldier', 20110), ('traumatised', 22227), ('detonation', 5511), ('improvised', 10108), ('explosive', 7414), ('ied', 9809), ('duty', 6252), ('unsalvageable', 22840), ('traumatically', 22226), ('fingers', 7860), ('acrylics', 244), ('hindrance', 9292), ('typing', 22464), ('phalange', 16143), ('renovated', 18447), ('hms', 9374), ('yub', 23739), ('cellmatrix', 3179), ('sedimentation', 19442), ('interwoven', 10773), ('vesicle', 23138), ('plurimorphic', 16530), ('membranous', 12528), ('organelles', 14932), ('trafficking', 22067), ('cytoplasm', 4945), ('intercellular', 10592), ('cx', 4891), ('autophagic', 1627), ('lysosomal', 12015), ('junctions', 11180), ('gjs', 8591), ('recapitulate', 18073), ('microstimuli', 12971), ('nonstimulated', 14412), ('pyogenes', 17683), ('heart', 9097), ('cyano', 4896), ('ditolyl', 5983), ('rivaling', 18917), ('surpassing', 21112), ('uva', 22977), ('reasorbeable', 18052), ('mitek', 13189), ('achilles', 205), ('hyaline', 9573), ('microdrill', 12808), ('voluminous', 23297), ('bleed', 2371), ('kda', 11215), ('tracer', 22044), ('safo', 19126), ('bloom', 2395), ('instilled', 10506), ('scintigraphic', 19319), ('pecs', 15853), ('tuneable', 22413), ('reservoirs', 18590), ('unreported', 22826), ('hydrated', 9586), ('retrovirus', 18768), ('pbabe', 15790), ('lasercusing', 11467), ('wisp', 23563), ('leone', 11604), ('florence', 7961), ('dope', 6079), ('tritc', 22335), ('dilution', 5696), ('cortically', 4528), ('rectangle', 18167), ('icdd', 9766), ('insufficiency', 10529), ('unstructured', 22863), ('catch', 3059), ('satwalekar', 19195), ('chander', 3315), ('ks', 11337), ('reddy', 18180), ('sandeep', 19162), ('hydrophilization', 9612), ('hsp', 9524), ('affixed', 464), ('beside', 1963), ('atherosclerosis', 1454), ('chow', 3465), ('preclinically', 16957), ('microfluidic', 12828), ('dlc', 6006), ('dani', 4984), ('ending', 6730), ('detains', 5484), ('clotting', 3642), ('indispensible', 10254), ('diligent', 5693), ('outset', 15383), ('waxing', 23399), ('sublingual', 20798), ('poorest', 16713), ('gapless', 8406), ('agglomerates', 505), ('transsinus', 22207), ('zygomatics', 23818), ('occult', 14655), ('fistulae', 7884), ('valve', 23006), ('diva', 5985), ('hermetic', 9206), ('renders', 18442), ('port', 16744), ('endoscopic', 6768), ('let', 11615), ('distinctions', 5942), ('imprecise', 10090), ('manipulate', 12190), ('osteocrete', 15185), ('furcation', 8336), ('warrant', 23368), ('imperforate', 10018), ('intrathread', 10842), ('lifestyles', 11674), ('abuse', 91), ('unexposed', 22697), ('surpassed', 21110), ('expedited', 7360), ('periometer', 16021), ('ams', 823), ('fluc', 7974), ('firefly', 7872), ('invasively', 10888), ('luminescence', 11965), ('unrestrained', 22835), ('unfunctionalized', 22708), ('photosensitization', 16281), ('fdba', 7658), ('bpbm', 2548), ('sulphate', 20954), ('mgcsh', 12708), ('countermeasure', 4581), ('gc', 8443), ('invasions', 10886), ('proprietary', 17407), ('aponeurosis', 1126), ('biooss', 2245), ('ieg', 9810), ('isga', 11009), ('italian', 11067), ('ias', 9740), ('reject', 18347), ('pterygomaxillary', 17577), ('csrs', 4780), ('engages', 6809), ('pterygoid', 17576), ('assert', 1393), ('bars', 1793), ('enlarging', 6837), ('sparing', 20199), ('panacea', 15594), ('axin', 1687), ('lacz', 11403), ('tunel', 22415), ('recapitulates', 18074), ('resorbs', 18632), ('outpaced', 15372), ('assured', 1432), ('dictates', 5617), ('ended', 6728), ('leeds', 11570), ('hk', 9362), ('ucla', 22479), ('relying', 18396), ('interweaved', 10772), ('clenching', 3603), ('ultrasonography', 22521), ('mastication', 12279), ('octagon', 14675), ('nl', 14162), ('implantar', 10033), ('reestablishing', 18208), ('chondrogenic', 3449), ('rhythm', 18866), ('dib', 5604), ('referencing', 18224), ('citations', 3526), ('flush', 8012), ('osr', 15035), ('strata', 20650), ('accrued', 163), ('partake', 15680), ('intraforamina', 10804), ('itt', 11087), ('pp', 16887), ('abrupt', 63), ('gdpb', 8453), ('suv', 21163), ('fox', 8165), ('cope', 4437), ('indentified', 10224), ('osteprogenitor', 15314), ('fli', 7954), ('mast', 12275), ('deantigenic', 5049), ('comply', 3984), ('instructive', 10521), ('hypogonadism', 9707), ('multiphase', 13604), ('tiha', 21770), ('biospark', 2278), ('tian', 21730), ('polarizing', 16585), ('dipole', 5733), ('nonpolarized', 14370), ('alternating', 715), ('reinsuring', 18341), ('macaque', 12024), ('symphyseal', 21206), ('isbc', 11001), ('mrc', 13480), ('msr', 13505), ('slc', 19977), ('fibrillogenesis', 7763), ('rpd', 19036), ('rpds', 19037), ('accomplishment', 148), ('laserablated', 11466), ('tooled', 21955), ('corticalized', 4527), ('mcw', 12390), ('archives', 1234), ('substudies', 20877), ('hipstar', 9302), ('millimetres', 13071), ('aecm', 433), ('regioselectively', 18284), ('sulfated', 20944), ('nanolevels', 13778), ('osseofix', 15058), ('nanomechanically', 13782), ('pedicled', 15864), ('abnormality', 53), ('linking', 11746), ('slows', 20015), ('frankfurt', 8215), ('query', 17761), ('birmingham', 2325), ('osstel', 15125), ('ceramization', 3248), ('wood', 23601), ('biomorphic', 2239), ('biosic', 2273), ('crossbred', 4718), ('merinos', 12559), ('sarda', 19177), ('biomineralised', 2227), ('metallised', 12613), ('biomineralisation', 2226), ('agglomerations', 507), ('metallisation', 12612), ('ionised', 10931), ('obhps', 14585), ('medicare', 12479), ('claims', 3543), ('quarters', 17749), ('saf', 19120), ('fee', 7680), ('beneficiaries', 1941), ('billing', 2057), ('codes', 3712), ('totaled', 21996), ('obhp', 14584), ('faber', 7522), ('xas', 23665), ('purmorphamine', 17638), ('chick', 3401), ('sort', 20161), ('fraught', 8218), ('hairline', 8922), ('lobe', 11822), ('essay', 7080), ('thereof', 21599), ('cit', 3524), ('ait', 569), ('nah', 13715), ('interrupts', 10737), ('cpms', 4640), ('cprs', 4643), ('adhesiveness', 336), ('dots', 6101), ('qds', 17698), ('boneprobe', 2486), ('microradiographic', 12926), ('handsearched', 8967), ('scirus', 19326), ('nonvascular', 14438), ('nonvascularized', 14439), ('pickled', 16325), ('substrata', 20871), ('radiofrequent', 17824), ('installment', 10498), ('acetyl', 193), ('cysteine', 4926), ('nln', 14164), ('immunosorbant', 9975), ('eoxin', 6925), ('sarcopenia', 19176), ('slap', 19971), ('hammer', 8942), ('suboptimally', 20827), ('speek', 20267), ('acetone', 190), ('ere', 7031), ('tricortical', 22287), ('sinking', 19889), ('incompatibility', 10178), ('eccentric', 6335), ('communications', 3890), ('autogeneous', 1608), ('confirmation', 4139), ('gtr', 8853), ('appreciate', 1179), ('histomorphometic', 9337), ('fortunately', 8135), ('aggravated', 511), ('mishaps', 13172), ('admittedly', 376), ('seeing', 19450), ('hre', 9510), ('copolymeric', 4448), ('microfocus', 12830), ('fulfills', 8301), ('deployment', 5382), ('tipll', 21816), ('gcon', 8445), ('gexp', 8550), ('liberating', 11652), ('micropositron', 12921), ('rebase', 18058), ('hydrocast', 9593), ('viscosities', 23230), ('canons', 2913), ('bcd', 1845), ('cochlea', 3697), ('adulthood', 403), ('bandwidth', 1774), ('characterics', 3329), ('microfeatured', 12819), ('rha', 18839), ('multispiked', 13623), ('preprototypes', 17087), ('periscaffold', 16043), ('physicochemically', 16299), ('interspike', 10749), ('pearl', 15846), ('noncemented', 14237), ('formulating', 8123), ('znha', 23787), ('appliances', 1150), ('weaknesses', 23418), ('rbma', 17959), ('biotechnological', 2294), ('pencil', 15902), ('breaks', 2591), ('fixity', 7909), ('perfusing', 15965), ('inadvertent', 10132), ('shya', 19761), ('leveled', 11630), ('exaggeration', 7241), ('utilizes', 22971), ('palateless', 15573), ('micropattern', 12898), ('fsl', 8281), ('hierachical', 9264), ('ill', 9864), ('fringe', 8262), ('nonaxial', 14223), ('assessor', 1401), ('squeaking', 20368), ('sounds', 20171), ('ahis', 542), ('mhl', 12724), ('ahi', 541), ('prom', 17341), ('integratedprosthesis', 10551), ('quintessence', 17781), ('methylcellulose', 12679), ('hpmc', 9502), ('mbcp', 12357), ('tisseel', 21828), ('mouldable', 13441), ('trephined', 22257), ('immunologic', 9967), ('hungary', 9557), ('fwhm', 8360), ('diphenyl', 5728), ('fst', 8283), ('reconstituted', 18133), ('adrenomedullin', 393), ('hbd', 9049), ('defensins', 5152), ('impregnating', 10093), ('ossifying', 15119), ('fibromas', 7784), ('neoplasms', 14013), ('demarcated', 5264), ('fibrocellular', 7775), ('fibroma', 7783), ('inception', 10145), ('orientations', 14952), ('mayo', 12350), ('unanticipated', 22556), ('recognizing', 18112), ('disconnect', 5798), ('hampers', 8948), ('fundamentally', 8326), ('disproven', 5898), ('mesoderm', 12588), ('periostea', 16028), ('proceeds', 17246), ('computerization', 4031), ('xrays', 23689), ('tehnique', 21416), ('upward', 22925), ('placemat', 16418), ('youngest', 23729), ('interior', 10663), ('banks', 1776), ('posthealing', 16801), ('multiparametric', 13602), ('cratering', 4674), ('mutual', 13665), ('furnishing', 8341), ('biohorizon', 2162), ('pscap', 17527), ('enzymatically', 6915), ('apple', 1147), ('lupin', 11974), ('aminated', 773), ('galacturonic', 8383), ('gala', 8381), ('galactose', 8382), ('gal', 8380), ('arabinose', 1220), ('mantle', 12204), ('bypassed', 2775), ('bypass', 2774), ('underestimate', 22618), ('oronet', 14974), ('omeract', 14779), ('truth', 22368), ('classifiable', 3567), ('clamshell', 3548), ('cable', 2786), ('nonoperatively', 14352), ('loops', 11878), ('utilised', 22964), ('readouts', 18017), ('readout', 18016), ('biochemically', 2107), ('bireme', 2324), ('nasopalatine', 13894), ('duct', 6219), ('auger', 1558), ('rutherford', 19098), ('backscattering', 1718), ('rbs', 17965), ('psii', 17551), ('exudation', 7513), ('gf', 8551), ('oppositely', 14866), ('nanospheres', 13836), ('fivefold', 7896), ('microthickness', 12990), ('hint', 9297), ('sin', 19876), ('headband', 9078), ('quicksin', 17776), ('snr', 20071), ('signifying', 19812), ('profuse', 17286), ('helical', 9118), ('precedes', 16942), ('bethesda', 1975), ('perioendodontic', 16019), ('vague', 22987), ('aon', 1091), ('gr', 8730), ('globally', 8623), ('martina', 12258), ('alendronic', 600), ('star', 20466), ('prepolymers', 17083), ('nco', 13937), ('stat', 20473), ('paravertebral', 15662), ('dysfunctional', 6282), ('sheath', 19689), ('mats', 12304), ('neoangiogenesis', 13996), ('devitalization', 5538), ('endodontist', 6748), ('amalgam', 739), ('pmodsla', 16545), ('macrothreaded', 12068), ('macrothreads', 12069), ('pid', 16337), ('shapiro', 19670), ('wilk', 23536), ('osseoinductivity', 15069), ('histomorphometrics', 9341), ('slashed', 19973), ('circle', 3496), ('duplicative', 6238), ('equi', 7003), ('projector', 17321), ('digits', 5677), ('buried', 2740), ('digit', 5667), ('violate', 23211), ('metatarsal', 12648), ('malunions', 12154), ('revolutionise', 18816), ('noncontact', 14250), ('loudspeaker', 11906), ('capacitance', 2929), ('clamp', 3544), ('imperfection', 10017), ('tkrs', 21873), ('sms', 20062), ('tibiofemoral', 21740), ('psay', 17525), ('arbitrary', 1223), ('girl', 8584), ('anastomosis', 868), ('mandibulectomy', 12179), ('paranasal', 15652), ('migrate', 13048), ('ethmoid', 7131), ('korean', 11321), ('noncontributory', 14254), ('accidental', 133), ('transplanar', 22188), ('timeframe', 21785), ('spc', 20209), ('backed', 1710), ('noble', 14190), ('obviate', 14630), ('compressors', 4011), ('elevators', 6566), ('reduct', 18196), ('mistral', 13186), ('deantigenated', 5048), ('tulasne', 22403), ('lacerations', 11383), ('ortho', 14979), ('unequal', 22683), ('concavities', 4036), ('septal', 19552), ('capo', 2946), ('cpa', 4629), ('bonelike', 2484), ('magnifications', 12087), ('piriform', 16382), ('infractured', 10360), ('cbcts', 3121), ('rrpooled', 19046), ('egger', 6443), ('nonmodified', 14340), ('nonstandard', 14408), ('osseoimplants', 15065), ('biomodulator', 2234), ('diphosphonate', 5731), ('wrought', 23659), ('ticp', 21746), ('disodium', 5867), ('osseointegraton', 15088), ('quit', 17782), ('enlighten', 6838), ('glyconate', 8667), ('tompgraphy', 21946), ('fragmentation', 8200), ('precipitations', 16951), ('enchondral', 6692), ('sourrounding', 20176), ('fibrosing', 7789), ('sensitizing', 19530), ('heroes', 9208), ('mio', 13147), ('collaborated', 3762), ('appreciation', 1181), ('teamwork', 21384), ('prohibited', 17311), ('dentally', 5318), ('spreaders', 20347), ('gum', 8875), ('ossteointegrate', 15129), ('microspy', 12970), ('microspectroscopy', 12966), ('roughest', 19012), ('confluence', 4147), ('propelling', 17378), ('realms', 18033), ('optics', 14875), ('unified', 22726), ('probes', 17230), ('hopeful', 9450), ('copious', 4445), ('supplied', 21038), ('bank', 1775), ('veneto', 23102), ('treviso', 22261), ('distinguishable', 5947), ('preimplant', 17034), ('withdrawing', 23569), ('potentiometer', 16864), ('multichannel', 13566), ('invariably', 10882), ('intraradicular', 10834), ('pauses', 15778), ('mould', 13440), ('reforming', 18252), ('reassessed', 18055), ('mimicry', 13082), ('approximal', 1195), ('tzhcnss', 22468), ('dsc', 6203), ('autotransplanted', 1636), ('aspirates', 1382), ('punctures', 17629), ('epigenetic', 6951), ('histone', 9344), ('epigenetics', 6952), ('underscore', 22649), ('customizing', 4880), ('intersect', 10739), ('edm', 6398), ('attainable', 1499), ('subsurface', 20878), ('proc', 17237), ('protocadherin', 17467), ('cadherin', 2799), ('tibio', 21739), ('recurred', 18171), ('debonding', 5059), ('osseointegrates', 15083), ('microepsilon', 12816), ('inferomedial', 10317), ('osseointegratable', 15080), ('settle', 19611), ('scarified', 19270), ('ascent', 1347), ('distressing', 5966), ('rejecting', 18349), ('cautery', 3102), ('contrario', 4363), ('odontogenic', 14698), ('nonodontogenic', 14349), ('etiologies', 7145), ('pretreated', 17149), ('rfgd', 18825), ('modestly', 13263), ('government', 8722), ('drivers', 6181), ('mains', 12099), ('endangered', 6723), ('thioglyocolate', 21652), ('capnophilic', 2945), ('anerobic', 898), ('yorba', 23723), ('linda', 11723), ('pmicf', 16541), ('cylindric', 4917), ('cementoenamel', 3199), ('aspartate', 1373), ('aminotransferase', 789), ('ast', 1435), ('coffee', 3728), ('dha', 5559), ('drank', 6153), ('slit', 20001), ('euthanised', 7170), ('ethically', 7127), ('arguably', 1253), ('flawed', 7942), ('dependable', 5360), ('resisted', 18613), ('bgs', 1998), ('steinman', 20519), ('glycosaminoglycans', 8671), ('heparan', 9184), ('bci', 1848), ('pbcd', 15792), ('dummy', 6227), ('impedances', 10006), ('transcranial', 22092), ('superimposition', 21007), ('volumetrical', 23295), ('crm', 4713), ('supraalveolar', 21060), ('lined', 11732), ('seroma', 19587), ('foamy', 8036), ('identifies', 9797), ('quadrilateral', 17717), ('tripodal', 22327), ('lightly', 11698), ('squares', 20367), ('oxydized', 15514), ('tigraft', 21767), ('hatr', 9035), ('colorimetry', 3822), ('arsenium', 1293), ('kj', 11282), ('trimmed', 22313), ('trephines', 22258), ('tenet', 21463), ('alloplast', 663), ('improperly', 10101), ('nanostructurally', 13841), ('bcs', 1853), ('tgfbr', 21558), ('bmpr', 2437), ('acvr', 282), ('nfatc', 14100), ('pygo', 17678), ('lef', 11571), ('psen', 17529), ('psenen', 17530), ('teleradiography', 21425), ('cephalometric', 3234), ('teleradiographs', 21424), ('opaque', 14824), ('teleradiograph', 21423), ('costless', 4551), ('triphasic', 22318), ('hasi', 9026), ('duo', 6231), ('phenomenology', 16177), ('maxillomandibular', 12331), ('vbffs', 23059), ('vbff', 23058), ('beth', 1974), ('conductors', 4108), ('minimizes', 13123), ('comprehension', 4001), ('modulatory', 13285), ('lymphotoxin', 12001), ('leukotriene', 11626), ('countered', 4577), ('intracortical', 10796), ('intermediary', 10680), ('distancing', 5937), ('baseplates', 1804), ('iterations', 11075), ('terminate', 21489), ('sba', 19214), ('subpapillary', 20828), ('committees', 3879), ('coinciding', 3752), ('trigone', 22305), ('nonstable', 14407), ('wps', 23645), ('balls', 1760), ('rip', 18905), ('biaxial', 2010), ('uncorrected', 22599), ('recontouring', 18144), ('parabolic', 15623), ('sorptometry', 20160), ('sbsm', 19229), ('artoss', 1335), ('rostock', 18994), ('laterocaudal', 11488), ('microradiography', 12930), ('semiquantitative', 19499), ('nmm', 14171), ('microspotted', 12969), ('interlines', 10671), ('hbm', 9053), ('interline', 10670), ('avms', 1664), ('sclerotherapy', 19335), ('transcatheter', 22088), ('embolization', 6621), ('malformed', 12133), ('embolized', 6622), ('swallowing', 21174), ('optocal', 14897), ('diary', 5600), ('carbohydrate', 2967), ('swallowed', 21173), ('deliberate', 5226), ('deliberately', 5227), ('tailorability', 21293), ('nucleate', 14531), ('plg', 16510), ('multiday', 13569), ('nonmineralized', 14338), ('contract', 4346), ('interdependent', 10620), ('dsa', 6201), ('amidation', 771), ('osteoarthritic', 15154), ('batches', 1822), ('osteogenically', 15210), ('pcpc', 15816), ('demanded', 5261), ('edxs', 6411), ('filtered', 7838), ('eftem', 6439), ('pemphigus', 15900), ('vulgaris', 23321), ('mucocutaneous', 13532), ('vesiculobullous', 23141), ('autoantibodies', 1597), ('desmosomal', 5460), ('enacted', 6678), ('ruler', 19077), ('prevail', 17153), ('initiates', 10414), ('jeopardising', 11127), ('occlusally', 14648), ('convential', 4396), ('capitalized', 2942), ('instrumental', 10523), ('synthegra', 21244), ('udine', 22483), ('umr', 22534), ('gs', 8847), ('brenemark', 2605), ('tisa', 21824), ('tipol', 21817), ('porocoated', 16734), ('ccpor', 3153), ('ccpol', 3152), ('biometals', 2215), ('polyphosphate', 16682), ('freeform', 8224), ('sff', 19639), ('orthotropic', 15012), ('scattered', 19275), ('mun', 13637), ('tops', 21976), ('sw', 21167), ('vulcano', 23320), ('actives', 268), ('batch', 1821), ('micrometric', 12880), ('dilation', 5690), ('pixel', 16403), ('artifact', 1330), ('reload', 18390), ('ctan', 4784), ('overhanging', 15433), ('umbrellas', 22533), ('nonglycosylated', 14293), ('erhbmp', 7034), ('uno', 22790), ('turbine', 22423), ('signifies', 19811), ('micromechanical', 12872), ('macroscale', 12055), ('tresca', 22260), ('pts', 17586), ('multiobjective', 13601), ('pareto', 15670), ('trade', 22061), ('enrollment', 6855), ('sctx', 19376), ('thjr', 21662), ('osteoarthitis', 15153), ('digestion', 5666), ('unexplained', 22695), ('paying', 15785), ('inclusions', 10174), ('myeloperoxidase', 13688), ('mpo', 13474), ('restorated', 18671), ('nitrite', 14152), ('spectrophotometrically', 20250), ('fatal', 7620), ('hypophosphatemia', 9710), ('histiocytosis', 9310), ('dentinogenesis', 5329), ('znsi', 23789), ('casio', 3035), ('gdps', 8454), ('gdp', 8452), ('facets', 7535), ('speciality', 20221), ('pinnacle', 16367), ('ebra', 6327), ('einzel', 6463), ('bild', 2055), ('rontgen', 18982), ('aseptical', 1356), ('apatitic', 1101), ('rlx', 18922), ('dltiddsywyri', 6012), ('scrambled', 19349), ('accelerator', 112), ('lyophilizing', 12006), ('lipoplexes', 11758), ('mirnas', 13151), ('gathering', 8425), ('promisingly', 17349), ('ils', 9880), ('nonremoval', 14381), ('snap', 20064), ('copies', 4442), ('liquids', 11772), ('pegylation', 15884), ('sugars', 20921), ('tightens', 21763), ('holtzmann', 9404), ('als', 702), ('ctls', 4792), ('osteocytic', 15189), ('bod', 2450), ('complaining', 3948), ('eastman', 6314), ('rome', 18981), ('winsix', 23550), ('biosafin', 2270), ('photocatalytically', 16250), ('photocatatytically', 16251), ('degussa', 5199), ('bright', 2620), ('cplm', 4638), ('cslm', 4774), ('extraneous', 7480), ('immense', 9904), ('halation', 8924), ('denoising', 5296), ('bregman', 2602), ('tnzs', 21899), ('methylprednisolone', 12687), ('steels', 20511), ('physicochemistry', 16300), ('electronics', 6527), ('interspace', 10745), ('modma', 13272), ('disintegration', 5854), ('disintegrated', 5853), ('reosseointegrated', 18460), ('hypocalcic', 9702), ('nonovariectomized', 14358), ('euthanisation', 7169), ('glm', 8621), ('transferability', 22121), ('testosterone', 21515), ('dihydrotestosterone', 5684), ('dht', 5564), ('musculature', 13648), ('cbv', 3136), ('fiji', 7818), ('stitched', 20605), ('thresholded', 21692), ('dilated', 5689), ('coincidence', 3747), ('delineates', 5234), ('biased', 2008), ('deconvolute', 5110), ('undistinguishable', 22675), ('opi', 14851), ('diaries', 5599), ('bruising', 2662), ('justified', 11188), ('inexperience', 10295), ('multidirectional', 13571), ('interarch', 10587), ('eating', 6319), ('cambium', 2873), ('immunoassays', 9937), ('byproduct', 2777), ('veh', 23087), ('tcc', 21372), ('ttc', 22383), ('sittings', 19922), ('acroflex', 237), ('ldr', 11538), ('primate', 17186), ('polyolefin', 16678), ('elastomeric', 6486), ('odi', 14690), ('lbos', 11524), ('unresponsive', 22832), ('disabling', 5752), ('nonrevision', 14388), ('midsubstance', 13043), ('survivors', 21134), ('skip', 19953), ('disulfide', 5981), ('arginine', 1250), ('glycine', 8662), ('aspartic', 1374), ('cotreatment', 4558), ('orthopeadic', 15003), ('hardystonite', 9000), ('parallelly', 15644), ('uorescent', 22891), ('albrektsson', 586), ('doctor', 6029), ('conformed', 4156), ('labialization', 11363), ('sequellae', 19559), ('mucous', 13545), ('nonsuppurated', 14418), ('aam', 8), ('platinum', 16483), ('occluding', 14646), ('shiny', 19721), ('triplicate', 22323), ('emanating', 6608), ('fam', 7583), ('sterilizer', 20567), ('prebending', 16936), ('abdominal', 27), ('parasymphysis', 15660), ('nonaugmented', 14220), ('pommer', 16701), ('frantal', 8216), ('willer', 23539), ('posch', 16753), ('watzek', 23387), ('tepper', 21481), ('poznan', 16885), ('acquires', 231), ('omission', 14784), ('appeal', 1135), ('fixatives', 7904), ('juxtaposed', 11193), ('micropatterning', 12900), ('hematopoietic', 9136), ('nonwashed', 14445), ('nonthermal', 14426), ('owens', 15483), ('wendt', 23460), ('rabel', 17796), ('kaelble', 11196), ('incapable', 10140), ('microdesigns', 12804), ('sicap', 19769), ('phagocytosed', 16140), ('uninterrupted', 22743), ('convalescence', 4391), ('messenger', 12596), ('histocompatibility', 9315), ('sericin', 19579), ('crosslinker', 4725), ('ethyl', 7134), ('dimethylaminopropyl', 5709), ('hydroxysulfosuccinimide', 9648), ('biophysically', 2247), ('preoperatory', 17066), ('tmjs', 21883), ('polyfluorochrome', 16636), ('ankylotic', 947), ('trigeminal', 22299), ('biopsied', 2255), ('ncb', 13930), ('vb', 23056), ('tunneling', 22419), ('nanostructuration', 13842), ('undoubted', 22679), ('microexplosions', 12817), ('strip', 20696), ('plcn', 16492), ('pcln', 15811), ('photodocumentation', 16254), ('patented', 15739), ('magnified', 12088), ('kontron', 11318), ('steroid', 20572), ('reabsorbed', 17987), ('importing', 10082), ('workbench', 23610), ('settlement', 19613), ('tl', 21874), ('hydrossyapatite', 9618), ('convexities', 4412), ('nanoroughened', 13824), ('ei', 6451), ('blunted', 2410), ('mineralogical', 13102), ('bgc', 1993), ('miami', 12728), ('densply', 5313), ('igfz', 9822), ('diez', 5631), ('bicrs', 2031), ('decrowning', 5127), ('paz', 15787), ('wax', 23397), ('stomatognathic', 20616), ('spo', 20314), ('verrucous', 23118), ('toronto', 21980), ('maintainance', 12105), ('wrinkled', 23654), ('scrutiny', 19373), ('dvh', 6255), ('radiotherapists', 17864), ('contoured', 4342), ('moduled', 13287), ('foster', 8146), ('informing', 10354), ('endocortical', 6739), ('symmetric', 21196), ('bma', 2412), ('solitary', 20123), ('hnsws', 9380), ('nondispersive', 14275), ('travel', 22234), ('opinions', 14854), ('mwp', 13676), ('dissociation', 5921), ('hvp', 9568), ('selects', 19481), ('proteoglycan', 17456), ('nanofeaturing', 13760), ('chondral', 3443), ('disassembly', 5771), ('suppurative', 21057), ('intrusion', 10867), ('coloboma', 3804), ('choanae', 3434), ('unusable', 22881), ('child', 3408), ('disable', 5751), ('behavioural', 1914), ('icr', 9771), ('misdiagnosed', 13166), ('bleaching', 2369), ('wind', 23544), ('herpes', 9209), ('doubtful', 6107), ('occured', 14661), ('repeating', 18476), ('pseudoelastic', 17540), ('preseeded', 17102), ('osteoimplant', 15224), ('loadable', 11812), ('actuator', 277), ('wilhelmy', 23535), ('dendrimers', 5285), ('polylysine', 16655), ('osteoprogenitors', 15277), ('nonfusion', 14292), ('abbott', 22), ('bordeaux', 2508), ('osteodensitometry', 15191), ('spinous', 20293), ('redistribution', 18188), ('metamorphosis', 12630), ('crippled', 4704), ('labor', 11369), ('limoges', 11721), ('burr', 2747), ('tinkered', 21799), ('obcd', 14577), ('entific', 6883), ('emsq', 6669), ('incidentally', 10153), ('accidents', 135), ('machinery', 12030), ('road', 18938), ('traffic', 22066), ('bites', 2341), ('dhc', 5562), ('previtamin', 17174), ('pred', 16970), ('hydroxyvitamin', 9652), ('photoactivation', 16242), ('colonised', 3810), ('porousnano', 16740), ('radioactivity', 17815), ('cpm', 4639), ('overruling', 15460), ('dentointegration', 5340), ('palatinal', 15576), ('unintentionally', 22742), ('artificially', 1334), ('atubular', 1537), ('osteocementum', 15166), ('osteodentin', 15192), ('ptg', 17580), ('ellegaard', 6581), ('dalmose', 4966), ('tigran', 21768), ('malmo', 12143), ('wolhausen', 23590), ('acme', 220), ('bt', 2688), ('vt', 23317), ('frankfort', 8214), ('nonsurgically', 14420), ('amenable', 762), ('mbmp', 12366), ('dynact', 6268), ('massively', 12273), ('ecaped', 6333), ('adorable', 389), ('skeletonic', 19943), ('phenomenal', 16174), ('coliform', 3760), ('allogen', 654), ('interimplantar', 10660), ('vinylpyridine', 23209), ('vinylbenzylphosphonate', 23207), ('methacryloyloxy', 12659), ('famas', 7584), ('bridgework', 2615), ('stereoimaging', 20543), ('maps', 12224), ('edax', 6368), ('ametek', 768), ('micrograph', 12844), ('removals', 18431), ('nailing', 13719), ('navigated', 13911), ('endomodule', 6753), ('danger', 4981), ('objectionable', 14588), ('conditionally', 4095), ('histories', 9354), ('wrist', 23655), ('carpometacarpal', 3009), ('radiocarpal', 17818), ('radioulnar', 17867), ('thermocycling', 21613), ('ada', 285), ('primers', 17191), ('clearfil', 3595), ('cpb', 4630), ('estenia', 7094), ('eop', 6923), ('mlp', 13215), ('vpr', 23312), ('ceramage', 3241), ('thermocycles', 21612), ('dwass', 6258), ('initiator', 10419), ('thione', 21655), ('economically', 6348), ('hydrodynamic', 9597), ('hpise', 9499), ('averaging', 1654), ('retrieving', 18752), ('nbis', 13922), ('pfpd', 16124), ('transmucosally', 22178), ('bis', 2328), ('acryl', 241), ('vacuform', 22983), ('bae', 1739), ('prophylactically', 17386), ('cephatholin', 3238), ('atcc', 1450), ('htb', 9531), ('recalcitrance', 18068), ('conferring', 4124), ('residence', 18593), ('nonactivated', 14208), ('envisioned', 6911), ('lys', 12008), ('ser', 19571), ('arginyl', 1251), ('glycyl', 8673), ('polypeptide', 16680), ('mha', 12720), ('bombyx', 2471), ('mori', 13392), ('hexafluoroisopropanol', 9231), ('hfip', 9245), ('blocksmad', 2392), ('dorsomorphin', 6088), ('tak', 21299), ('oxozeaenol', 15510), ('pka', 16409), ('negated', 13976), ('mds', 12400), ('plasticity', 16465), ('evolves', 7223), ('pdes', 15827), ('advection', 416), ('irreversibility', 10984), ('miller', 13065), ('consequential', 4223), ('gauze', 8432), ('orthopantomographic', 15002), ('postponed', 16825), ('trismus', 22331), ('equivocal', 7019), ('stating', 20483), ('bacteraemia', 1721), ('overprescribing', 15454), ('obliteration', 14601), ('obviates', 14632), ('utilises', 22965), ('stigma', 20587), ('foul', 8151), ('smelling', 20036), ('homogenate', 9417), ('doubt', 6106), ('counselled', 4565), ('aggravate', 510), ('uninflamed', 22739), ('hsc', 9519), ('cytokeratin', 4937), ('centrifuged', 3223), ('cbm', 3129), ('enumerate', 6899), ('frost', 8274), ('microstrains', 12973), ('conflicted', 4144), ('happen', 8977), ('eluates', 6594), ('eluate', 6593), ('osseointergration', 15090), ('microlevel', 12864), ('nanolevel', 13777), ('completeness', 3959), ('pax', 15782), ('inference', 10312), ('submission', 20819), ('interrogated', 10732), ('tollip', 21929), ('nonocclusal', 14346), ('tsaa', 22374), ('syncone', 21219), ('disconnected', 5799), ('reconnected', 18127), ('rigorously', 18890), ('preadsorbed', 16930), ('nonphosphated', 14366), ('fd', 7655), ('feret', 7716), ('fraclac', 8181), ('plugin', 16526), ('shaker', 19659), ('polyphosphates', 16683), ('bra', 2554), ('baa', 1702), ('isp', 11043), ('osseointegartion', 15074), ('polysaccharide', 16688), ('trabeculation', 22038), ('granada', 8758), ('sudaan', 20907), ('humidified', 9552), ('dlmf', 6010), ('chipped', 3421), ('tinox', 21801), ('glenoids', 8613), ('nonosteoconductive', 14355), ('rocking', 18956), ('ultrapure', 22513), ('knock', 11298), ('contaminant', 4307), ('existent', 7328), ('achive', 206), ('decompose', 5101), ('bmos', 2431), ('regained', 18263), ('monotreatment', 13372), ('saddles', 19118), ('antagonists', 987), ('retightening', 18735), ('bmbcps', 2418), ('bmbcp', 2417), ('excludes', 7284), ('equinox', 7011), ('zeist', 23752), ('holland', 9398), ('justifies', 11189), ('polyglycolide', 16641), ('overdrilled', 15419), ('sinonasal', 19890), ('temporalis', 21440), ('osteocutaneous', 15186), ('bds', 1860), ('distractions', 5963), ('basting', 1818), ('pit', 16389), ('momenta', 13317), ('ior', 10943), ('incident', 10151), ('unaddressed', 22542), ('resting', 18667), ('conduit', 4110), ('securely', 19435), ('scatter', 19274), ('topologies', 21974), ('isoi', 11023), ('aao', 9), ('deutsche', 5518), ('gasellschaft', 8416), ('fur', 8334), ('orale', 14902), ('implantologie', 10048), ('dgoi', 5556), ('philippines', 16192), ('implantologist', 10049), ('oraliimplantologists', 14903), ('nations', 13901), ('reaming', 18039), ('microcirculatory', 12780), ('videomicroscopic', 23188), ('capillary', 2940), ('compensatory', 3932), ('documentations', 6035), ('compacta', 3897), ('interpolated', 10711), ('sawtooth', 19211), ('paralleling', 15642), ('magnifier', 12089), ('stomach', 20615), ('upset', 22916), ('constructions', 4282), ('concise', 4063), ('frcs', 8220), ('bifunctional', 2041), ('laminates', 11431), ('laminate', 11430), ('ej', 6470), ('ij', 9846), ('cj', 3535), ('gingipain', 8576), ('rgpa', 18837), ('vaccine', 22982), ('immunized', 9934), ('submarginal', 20802), ('immunoglobulin', 9953), ('siga', 19785), ('immunization', 9933), ('sected', 19425), ('asymmetry', 1444), ('correcting', 4493), ('workshop', 23620), ('services', 19600), ('euro', 7160), ('donath', 6065), ('visibly', 23236), ('reindeer', 18326), ('optomechanical', 14898), ('stepping', 20535), ('gelatine', 8469), ('assembling', 1391), ('tenascin', 21454), ('occ', 14638), ('pregraft', 17031), ('microarchitectural', 12747), ('conformational', 4154), ('biomineral', 2225), ('epidemiologic', 6938), ('sugar', 20919), ('planted', 16443), ('uncalcified', 22570), ('gutta', 8880), ('percha', 15942), ('unveil', 22885), ('volunteering', 23302), ('frmi', 8266), ('recordings', 18150), ('punctate', 17627), ('insular', 10532), ('lobes', 11823), ('gyri', 8884), ('nanoha', 13771), ('wedges', 23431), ('cant', 2916), ('canting', 2920), ('informatic', 10348), ('nisastan', 14142), ('opils', 14852), ('inputted', 10459), ('fems', 7706), ('psz', 17571), ('fossae', 8145), ('inward', 10921), ('fourfold', 8159), ('hpo', 9503), ('liberate', 11650), ('dissolucytosis', 5922), ('stopgap', 20623), ('aftermaths', 486), ('perfected', 15952), ('neurotrophin', 14069), ('proprioception', 17409), ('bionic', 2241), ('amplitudes', 816), ('nanofilms', 13765), ('osseointe', 15072), ('grated', 8789), ('clustering', 3653), ('pal', 15569), ('basically', 1808), ('flag', 7916), ('fingernails', 7858), ('fgfr', 7742), ('merck', 12551), ('serono', 19588), ('conjecture', 4181), ('hbot', 9061), ('ntp', 14523), ('kruskall', 11334), ('alphavbeta', 697), ('alliance', 646), ('mesostructured', 12591), ('infused', 10372), ('emit', 6646), ('collimated', 3794), ('beams', 1875), ('torquimeter', 21985), ('multithreaded', 13627), ('carlsbad', 3006), ('discernable', 5781), ('midcrestal', 13024), ('wing', 23548), ('oscc', 15019), ('ossc', 15039), ('habitual', 8895), ('nonimplanted', 14304), ('intrastructural', 10839), ('straining', 20643), ('shaping', 19669), ('mechano', 12434), ('corundums', 4540), ('chondrosarcoma', 3453), ('sclerosis', 19333), ('worrisome', 23628), ('hypermetabolism', 9683), ('fdg', 7661), ('masquerading', 12266), ('effectivness', 6423), ('interpenetrating', 10705), ('monolayers', 13352), ('effectors', 6425), ('anecdotal', 893), ('dicom', 5613), ('rvg', 19101), ('graph', 8777), ('detachments', 5479), ('periodontically', 16004), ('homogenization', 9423), ('syringeable', 21258), ('unseeded', 22850), ('ccp', 3151), ('mem', 12522), ('litigious', 11785), ('understands', 22655), ('jumbo', 11175), ('triflange', 22297), ('hydride', 9589), ('diffractions', 5653), ('signi', 19802), ('fi', 7753), ('akp', 572), ('subconfluence', 20766), ('viscoelasticity', 23227), ('erythromycin', 7058), ('thaw', 21566), ('submicrofeatured', 20815), ('submicrofeature', 20814), ('nonmicroroughened', 14337), ('submicrotopography', 20818), ('microroughening', 12938), ('rocatec', 18954), ('coupons', 4602), ('acryloxypropyltrimethoxysilane', 245), ('triethoxysilyl', 22293), ('ethane', 7121), ('diluted', 5695), ('acidified', 214), ('energies', 6798), ('tensions', 21472), ('reacted', 17994), ('bcds', 1847), ('subpopulation', 20834), ('proceedings', 17245), ('sbli', 19226), ('nbti', 13925), ('stli', 20608), ('attenuating', 1518), ('pmt', 16548), ('compensates', 3929), ('sequel', 19557), ('landmark', 11440), ('insignificantly', 10481), ('microphones', 12904), ('listening', 11777), ('intenso', 10572), ('audibility', 1544), ('monosyllabic', 13365), ('phonetically', 16204), ('pb', 15788), ('azimuth', 1698), ('sentences', 19539), ('omni', 14787), ('microphone', 12903), ('loudness', 11905), ('headroom', 9085), ('programmable', 17298), ('fittings', 7894), ('unmasked', 22781), ('retest', 18727), ('testband', 21506), ('pvdtio', 17673), ('rationales', 17937), ('affinities', 459), ('ris', 18906), ('tibiay', 21738), ('microfabricated', 12818), ('aesthetical', 444), ('mock', 13243), ('unicompartmental', 22718), ('conforming', 4158), ('radiostereometry', 17861), ('iks', 9850), ('mtpm', 13520), ('medially', 12464), ('recess', 18093), ('galling', 8387), ('puramatrix', 17630), ('obs', 14603), ('avg', 1657), ('bulging', 2719), ('sending', 19509), ('lamellipodia', 11424), ('approx', 1194), ('inconvenience', 10190), ('tla', 21875), ('prommp', 17351), ('clinico', 3619), ('chemiluminescence', 3374), ('quantitation', 17739), ('osteoprotegetrin', 15285), ('wnttarget', 23585), ('activators', 265), ('restores', 18678), ('osteoneogenesis', 15255), ('enduring', 6796), ('flaking', 7921), ('zwick', 23811), ('ulm', 22498), ('ldc', 11532), ('secret', 19417), ('dissolvable', 5924), ('synergism', 21228), ('dimethythiazol', 5713), ('purple', 17640), ('affords', 471), ('accentuate', 116), ('gen', 8475), ('ox', 15490), ('geison', 8461), ('enosseous', 6844), ('intersection', 10741), ('preset', 17116), ('interforaminally', 10652), ('rose', 18989), ('ai', 546), ('diphosphate', 5730), ('pinhole', 16364), ('collimator', 3795), ('ais', 567), ('scintigraph', 19318), ('microsurfaces', 12981), ('preterm', 17145), ('birth', 2326), ('lbw', 11525), ('newborn', 14086), ('genitourinary', 8509), ('deliveries', 5240), ('genitor', 8508), ('maternal', 12293), ('pregnancy', 17030), ('insult', 10536), ('hamster', 8949), ('ovary', 15399), ('fibrovascular', 7795), ('blb', 2364), ('doe', 6041), ('rcap', 17969), ('scap', 19261), ('surveyed', 21124), ('hygienists', 9657), ('formal', 8098), ('voluntarily', 23298), ('curricula', 4852), ('interested', 10629), ('curriculum', 4853), ('nonprocessed', 14374), ('reattachment', 18057), ('pepgen', 15921), ('monolateral', 13350), ('rigors', 18891), ('enticing', 6882), ('sti', 20577), ('cocultures', 3706), ('ccs', 3155), ('nonsupportive', 14417), ('aspirated', 1381), ('circulating', 3505), ('friedenstein', 8256), ('elective', 6493), ('manchester', 12165), ('infirmary', 10327), ('salford', 19136), ('medico', 12484), ('legal', 11576), ('complexon', 3969), ('hyperbolic', 9664), ('encourages', 6713), ('complimented', 3983), ('randomisation', 17891), ('jagged', 11101), ('volunteered', 23301), ('undertaking', 22661), ('depot', 5391), ('latticework', 11503), ('adorbed', 390), ('juncture', 11181), ('disposal', 5895), ('efficaciously', 6429), ('curtailment', 4856), ('forestallment', 8093), ('vitoria', 23262), ('hermite', 9207), ('qct', 17697), ('gauss', 8430), ('architectural', 1231), ('supraosseous', 21075), ('impulses', 10110), ('imitating', 9900), ('bbv', 1840), ('nonosteoporotic', 14357), ('stabilising', 20408), ('unsatisfied', 22843), ('thermosets', 21623), ('glycidylmethacrylate', 8661), ('triethyleneglycol', 22296), ('dimethacrylate', 5707), ('methaphysis', 12663), ('gpl', 8725), ('aforesaid', 478), ('pathoses', 15761), ('libt', 11657), ('dawlay', 5007), ('graduated', 8744), ('prerequsite', 17092), ('endooseal', 6755), ('statisticaly', 20491), ('isqh', 11050), ('isqp', 11053), ('predrilled', 17011), ('predrilling', 17012), ('sequestrum', 19570), ('osteotropic', 15313), ('approximation', 1201), ('srmicroct', 20385), ('abg', 35), ('umrsa', 22535), ('osseointegated', 15076), ('titel', 21848), ('hsba', 9518), ('cochran', 3700), ('mathieu', 12297), ('biomech', 2202), ('parapsinalis', 15655), ('molds', 13305), ('bibp', 2016), ('accorded', 151), ('foreseen', 8090), ('triad', 22265), ('reexamined', 18215), ('nonimmediate', 14301), ('ethylenediaminetetraacetic', 7139), ('mediotrusive', 12489), ('laterotrusive', 11490), ('labled', 11368), ('justification', 11187), ('obligations', 14596), ('pays', 15786), ('alleles', 633), ('haplotypes', 8976), ('nonlinearity', 14323), ('damps', 4980), ('nonlinearities', 14322), ('envisage', 6908), ('swabbed', 21169), ('surpasses', 21111), ('noninvasively', 14316), ('aminobisphosphonate', 780), ('grayscale', 8795), ('rebound', 18062), ('parakeratinized', 15639), ('running', 19084), ('unirradiated', 22751), ('effector', 6424), ('buffy', 2711), ('ficoll', 7802), ('enos', 6842), ('soma', 20137), ('plump', 16528), ('colti', 3827), ('fastens', 7615), ('affording', 470), ('dispense', 5877), ('coordinated', 4433), ('constitutively', 4272), ('chif', 3407), ('nude', 14539), ('mesi', 12576), ('cleavage', 3599), ('cctc', 3157), ('ccztc', 3159), ('ptst', 17587), ('tan', 21310), ('tanst', 21321), ('tannew', 21319), ('palatoincisal', 15579), ('ptc', 17575), ('otitis', 15331), ('ossiculoplasty', 15113), ('vibrant', 23163), ('soundbrigde', 20169), ('fmt', 8027), ('stapes', 20460), ('bahds', 1748), ('launched', 11506), ('soundbite', 20167), ('sonitus', 20150), ('soundbridge', 20168), ('medel', 12458), ('percutanous', 15950), ('responsibility', 18658), ('postoncologic', 16815), ('banco', 1769), ('huesos', 9542), ('tejidos', 21417), ('fundacion', 8324), ('cosme', 4542), ('damian', 4973), ('cortexonly', 4523), ('subsets', 20844), ('immuneinflammatory', 9929), ('endonucleases', 6754), ('books', 2498), ('relocation', 18392), ('photos', 16279), ('verbal', 23108), ('uncomfortable', 22584), ('unrestorable', 22833), ('anomaly', 969), ('births', 2327), ('meshes', 12572), ('ohip', 14737), ('edent', 6372), ('gohai', 8690), ('gerodontology', 8545), ('flame', 7922), ('calcination', 2825), ('steep', 20512), ('circumferentially', 3511), ('dct', 5031), ('mandiblular', 12173), ('contradicts', 4355), ('pde', 15826), ('perturbations', 16109), ('converges', 4402), ('admixtures', 379), ('airflow', 566), ('admixture', 378), ('socalled', 20078), ('ovoid', 15478), ('pontics', 16705), ('tima', 21779), ('tigb', 21756), ('dissatisfied', 5908), ('elders', 6491), ('reluctant', 18393), ('localise', 11828), ('synthesising', 21249), ('arthography', 1301), ('zweymuller', 23810), ('para', 15621), ('refractory', 18253), ('marsupialization', 12254), ('terminus', 21494), ('postrestoration', 16836), ('unrestricted', 22836), ('permeable', 16054), ('hba', 9046), ('preventative', 17162), ('urgency', 22931), ('conjointly', 4184), ('matrixes', 12303), ('propagate', 17373), ('nanosprings', 13839), ('practically', 16915), ('propagated', 17374), ('microimplants', 12857), ('medizintecknik', 12494), ('endobon', 6734), ('osseoguard', 15062), ('overshadowed', 15463), ('nanofeature', 13757), ('stereognosis', 20539), ('phonetics', 16205), ('fort', 8129), ('designate', 5442), ('assigning', 1407), ('wears', 23425), ('contingent', 4329), ('periodontist', 16007), ('assisting', 1414), ('envy', 6912), ('osseosufficiency', 15104), ('osseoseparation', 15100), ('accounting', 156), ('coherence', 3734), ('cpitn', 4636), ('analysers', 851), ('tu', 22387), ('sfn', 19642), ('illuminated', 9869), ('illumination', 9870), ('unicystic', 22721), ('lengthen', 11592), ('anchorages', 880), ('provisionals', 17505), ('palm', 15582), ('beach', 1863), ('gardens', 8412), ('cytoplast', 4947), ('sinuslift', 19899), ('msl', 13501), ('msu', 13510), ('sinuslifting', 19900), ('polycarbonate', 16615), ('hesitation', 9212), ('wileys', 23534), ('medknow', 12495), ('krsr', 11332), ('biofunctionalizing', 2155), ('pmol', 16546), ('tddo', 21376), ('lengthened', 11593), ('fff', 7736), ('intolerance', 10782), ('complements', 3955), ('oxidize', 15506), ('arf', 1246), ('macrostructuring', 12064), ('oxidizing', 15508), ('osseogeneration', 15060), ('macrostructured', 12062), ('macrostructuration', 12060), ('distalmesial', 5934), ('overcontoured', 15412), ('habitability', 8892), ('craniectomy', 4660), ('betaphosphate', 1971), ('tracts', 22060), ('patellar', 15735), ('nasally', 13890), ('nondecalcification', 14267), ('treads', 22241), ('animation', 933), ('folding', 8050), ('suffice', 20915), ('ceiling', 3175), ('hidroxyapatite', 9263), ('multilyaers', 13591), ('discover', 5812), ('misconception', 13164), ('norm', 14451), ('rl', 18920), ('hypesthesia', 9699), ('tensiometry', 21470), ('tensiometric', 21469), ('multiloop', 13590), ('hysteresis', 9730), ('unwettable', 22887), ('omi', 14780), ('microcalli', 12767), ('diydroxyvitamin', 6002), ('spear', 20213), ('undiscovered', 22673), ('radiolabeling', 17838), ('liver', 11791), ('thymus', 21719), ('wooden', 23602), ('shavings', 19683), ('excretions', 7291), ('assemble', 1388), ('esc', 7061), ('taste', 21346), ('repletion', 18493), ('hydroxvitamin', 9626), ('edha', 6389), ('edmha', 6399), ('miniaturize', 13106), ('intratissular', 10843), ('cuffs', 4813), ('bastard', 1817), ('intrasocket', 10837), ('incongruence', 10183), ('macroretentions', 12053), ('chaotic', 3323), ('neutralized', 14075), ('acelluar', 177), ('medpor', 12498), ('capuchin', 2959), ('cebus', 3170), ('apella', 1105), ('handsearch', 8966), ('traits', 22076), ('armed', 1269), ('concealment', 4039), ('envelopes', 6903), ('measurer', 12420), ('misalignments', 13159), ('microangiopathies', 12744), ('occlusogingival', 14653), ('usages', 22944), ('tungsten', 22416), ('buffering', 2710), ('harmonized', 9008), ('microelectric', 12810), ('imitates', 9899), ('microelectrical', 12811), ('unclassified', 22580), ('barreled', 1790), ('discouraging', 5811), ('bioadhesion', 2084), ('alkane', 625), ('immunoenzymatic', 9947), ('monomolecular', 13357), ('atio', 1460), ('hydroxides', 9625), ('sul', 20937), ('atiox', 1461), ('fractionally', 8185), ('electrodynamic', 6509), ('sfa', 19636), ('rbd', 17952), ('heterodimer', 9213), ('sponges', 20324), ('homodimers', 9416), ('mismatching', 13177), ('lindhe', 11724), ('balp', 1761), ('sera', 19572), ('instruction', 10519), ('prep', 17073), ('plotted', 16519), ('pol', 16578), ('tnap', 21887), ('sever', 19623), ('animated', 932), ('visualise', 23247), ('didactic', 5620), ('haemostasis', 8914), ('continuation', 4332), ('polymorphnuclear', 16673), ('proteolytic', 17459), ('lis', 11773), ('conjectured', 4182), ('ul', 22494), ('dptfe', 6146), ('forceps', 8075), ('forhistological', 8095), ('oralis', 14904), ('adhesins', 332), ('proteomics', 17462), ('lpxtg', 11930), ('adhesin', 331), ('oscillators', 15024), ('impinge', 10021), ('oscillator', 15023), ('overdimensioned', 15416), ('enjoys', 6832), ('stair', 20439), ('climbing', 3610), ('glabellar', 8598), ('epitheses', 6973), ('prestress', 17133), ('chosun', 3463), ('vib', 23162), ('dcpd', 5029), ('bmprs', 2438), ('bmis', 2426), ('implatest', 10062), ('permanence', 16049), ('burning', 2743), ('declining', 5098), ('schools', 19302), ('compulsory', 4022), ('undergraduate', 22627), ('colleges', 3793), ('ases', 1358), ('accolade', 136), ('ein', 6461), ('technologic', 21402), ('untouched', 22876), ('weekend', 23433), ('resurfaced', 18706), ('debonded', 5058), ('frequenly', 8238), ('puros', 17639), ('zimmerdental', 23772), ('osteohealth', 15215), ('comwww', 4033), ('purported', 17641), ('inferential', 10314), ('sucess', 20903), ('invert', 10897), ('loc', 11824), ('sys', 21260), ('colloss', 3801), ('ossacur', 15037), ('lyophilisate', 12003), ('electroeroded', 6511), ('electroerosion', 6512), ('dfdba', 5552), ('euroteknika', 7164), ('iranian', 10962), ('natea', 13897), ('cenobone', 3202), ('denobone', 5295), ('comparision', 3917), ('covariate', 4609), ('ovate', 15400), ('recementation', 18084), ('rebasing', 18060), ('ddpsc', 5035), ('dbmsc', 5022), ('dpc', 6138), ('ext', 7438), ('butt', 2759), ('expands', 7351), ('unselected', 22851), ('miniscleroses', 13132), ('demarcations', 5266), ('ongrowths', 14804), ('osborn', 15017), ('striking', 20691), ('speculative', 20260), ('barred', 1788), ('argues', 1255), ('pending', 15903), ('trepanation', 22255), ('msdba', 13494), ('srl', 20383), ('vittorio', 23268), ('reline', 18387), ('resiliency', 18604), ('mcs', 12388), ('motile', 13430), ('originate', 14960), ('pluripotential', 16532), ('haematopoietic', 8908), ('circulate', 3503), ('extravasate', 7496), ('prestored', 17132), ('histamine', 9305), ('octogenarians', 14679), ('flawless', 7943), ('northern', 14465), ('cimplant', 3489), ('avulsed', 1674), ('pleased', 16500), ('regressions', 18299), ('nichidai', 14121), ('collateral', 3783), ('ardent', 1238), ('lover', 11909), ('game', 8396), ('badminton', 1738), ('she', 19685), ('tkas', 21871), ('trochlear', 22346), ('athletic', 1456), ('cbmscs', 3131), ('polygon', 16642), ('microdrilled', 12809), ('solidified', 20118), ('trochlea', 22345), ('glycosaminoglycan', 8670), ('abnormally', 54), ('ramp', 17885), ('bras', 2572), ('baf', 1741), ('baas', 1703), ('triphosphatase', 22320), ('interposing', 10715), ('attraction', 1529), ('quadrupolar', 17720), ('cation', 3079), ('titaniananotube', 21840), ('indomethacin', 10264), ('phenotypically', 16182), ('stride', 20688), ('spent', 20268), ('lifestyle', 11673), ('hounds', 9476), ('nbm', 13923), ('sbc', 19218), ('slabs', 19963), ('default', 5144), ('dsr', 6210), ('transcrestal', 22093), ('handy', 8969), ('uncommitted', 22585), ('underlie', 22628), ('hypodevelopment', 9703), ('familial', 7586), ('malformative', 12132), ('syndromes', 21223), ('phonation', 16199), ('nonsyndromic', 14421), ('bicuspids', 2034), ('sctg', 19375), ('sccg', 19280), ('ectg', 6358), ('eccg', 6338), ('sideways', 19777), ('equicrestally', 7006), ('provisonal', 17508), ('radiotracer', 17866), ('jh', 11134), ('zed', 23750), ('acquirement', 230), ('histatin', 9306), ('mufe', 13548), ('representations', 18519), ('forteo', 8131), ('differentiates', 5641), ('intermittently', 10688), ('phd', 16169), ('metaphysial', 12636), ('exchanges', 7271), ('histopathlogical', 9345), ('leaching', 11541), ('nanobimorphic', 13732), ('nanotrabecular', 13867), ('nanotuft', 13872), ('microfeatures', 12820), ('hbl', 9052), ('retroviral', 18767), ('haart', 8886), ('nonnucleoside', 14344), ('pyridinoline', 17686), ('deoxypyridinoline', 5355), ('pathophysiologic', 15758), ('hemispheric', 9159), ('ostiomeatal', 15318), ('stenosed', 20528), ('ess', 7079), ('rcas', 17970), ('tva', 22437), ('satellite', 19182), ('disassembled', 5770), ('unimplanted', 22737), ('micrometres', 12879), ('microleakage', 12863), ('buccolingually', 2702), ('cbr', 3133), ('ibd', 9749), ('submergence', 20808), ('dibc', 5605), ('desktop', 5456), ('nonbiologic', 14229), ('proportionate', 17397), ('detectible', 5489), ('exponentially', 7416), ('picometer', 16329), ('treacher', 22240), ('collins', 3796), ('mandibulofacial', 12180), ('dysostosis', 6287), ('newborns', 14087), ('bambino', 1766), ('gesu', 8547), ('anagraphics', 838), ('nonoccluding', 14345), ('genoa', 8510), ('pis', 16383), ('analogs', 844), ('repeatable', 18473), ('surgiguide', 21104), ('intrasinus', 10836), ('phonetic', 16203), ('dolder', 6050), ('factures', 7556), ('exclusive', 7288), ('masse', 12268), ('preretraction', 17094), ('postretraction', 16838), ('summed', 20975), ('hexylresorcinol', 9240), ('pertained', 16100), ('pulling', 17607), ('guinea', 8873), ('subsinusal', 20850), ('bhattc', 2001), ('corroborating', 4514), ('crowe', 4731), ('dislocated', 5857), ('derotational', 5423), ('couplings', 4600), ('neuropraxia', 14053), ('limping', 11722), ('insole', 10484), ('hsii', 9522), ('anesthetized', 904), ('semiserial', 19501), ('pca', 15803), ('flcs', 7946), ('flc', 7945), ('qlucore', 17701), ('explorer', 7410), ('lund', 11971), ('nobelbiocare', 14182), ('embracing', 6626), ('fixator', 7905), ('papillon', 15616), ('lefevre', 11572), ('palmar', 15583), ('hyperkeratosis', 9679), ('coblast', 3694), ('impactions', 9990), ('unattached', 22557), ('neuropathies', 14049), ('violation', 23213), ('bmcs', 2420), ('unitek', 22757), ('imtec', 10114), ('inlays', 10434), ('macrotextured', 12066), ('problematical', 17234), ('fgm', 7743), ('upgrade', 22898), ('metaheuristic', 12608), ('retroacetabular', 18754), ('pelves', 15891), ('osteorradionecrosis', 15289), ('shamed', 19664), ('preintervention', 17039), ('recurring', 18175), ('alendronates', 599), ('cortoss', 4538), ('wired', 23552), ('pretest', 17146), ('coe', 3717), ('softliner', 20100), ('molteno', 13314), ('softer', 20099), ('plasmids', 16456), ('coprog', 4453), ('verum', 23136), ('transfecting', 22117), ('reactivate', 17998), ('depositioning', 5388), ('micropit', 12909), ('hydrorepellent', 9616), ('nullified', 14541), ('nanonodules', 13799), ('alleviation', 644), ('antibiological', 1018), ('electropositivity', 6538), ('conferred', 4123), ('fumarate', 8306), ('ppf', 16897), ('nhac', 14111), ('csh', 4772), ('bmpc', 2433), ('dbmpc', 5021), ('reosseointegrate', 18459), ('ratchet', 17925), ('mbf', 12359), ('subtracting', 20882), ('desiring', 5455), ('thrombotic', 21705), ('furnished', 8340), ('tuft', 22398), ('nodular', 14196), ('exemplary', 7300), ('subfamilies', 20781), ('tumoral', 22405), ('insist', 10482), ('illustration', 9876), ('nbr', 13924), ('prps', 17521), ('concrete', 4079), ('hypothetical', 9721), ('therapeutical', 21587), ('schanz', 19288), ('sclerous', 19337), ('oam', 14573), ('cadaverous', 2797), ('bicentric', 2021), ('deference', 5154), ('aminoguanidine', 784), ('relevancy', 18374), ('deferred', 5156), ('banded', 1772), ('brackets', 2559), ('swanson', 21175), ('canonsburg', 2914), ('gable', 8367), ('bends', 1937), ('exaggerated', 7239), ('graphs', 8786), ('hook', 9443), ('bend', 1935), ('biocreative', 2128), ('microfil', 12823), ('vvf', 23326), ('hierarchic', 9265), ('oxalic', 15491), ('deduced', 5129), ('spongeous', 20323), ('complies', 3980), ('florochrome', 7963), ('warfighters', 23366), ('military', 13061), ('acknowledged', 217), ('toi', 21913), ('osseoinduction', 15067), ('spare', 20198), ('ferromagnetic', 7720), ('deform', 5176), ('ferritic', 7718), ('intergranular', 10655), ('fluorescently', 7989), ('magneto', 12082), ('swiss', 21185), ('adz', 431), ('biglycans', 2047), ('biglycan', 2046), ('permuosal', 16065), ('halves', 8939), ('unambiguously', 22551), ('reproduced', 18528), ('tetrazol', 21532), ('lamellopodia', 11425), ('polluted', 16596), ('med', 12456), ('biol', 2179), ('echoes', 6343), ('mpcl', 13467), ('nondegradable', 14269), ('yorkshire', 23725), ('bisegmental', 2329), ('lagged', 11412), ('flasks', 7935), ('colonizers', 3816), ('anesthesiologists', 901), ('backup', 1720), ('miniplate', 13129), ('interrupt', 10733), ('prolong', 17335), ('mandated', 12167), ('interrupting', 10735), ('recycling', 18177), ('exothermic', 7343), ('midface', 13028), ('trunk', 22363), ('ovaries', 15397), ('stemvie', 20527), ('keratinised', 11231), ('polyglactin', 16638), ('collector', 3791), ('fenestrate', 7712), ('nonkeratinized', 14318), ('patchy', 15732), ('nucleated', 14532), ('mucosally', 13543), ('tohnichi', 21911), ('stc', 20502), ('sumerged', 20963), ('senile', 19512), ('quantitate', 17736), ('lmsf', 11805), ('lmfs', 11801), ('complicates', 3975), ('insisted', 10483), ('nonstudy', 14415), ('osseoinegrated', 15070), ('whilest', 23493), ('mouths', 13453), ('vektor', 23092), ('wichernhaus', 23514), ('rummelsberg', 19081), ('trochanters', 22344), ('respected', 18645), ('bonit', 2494), ('dotize', 6099), ('optimising', 14884), ('nfp', 14103), ('neuroreceptors', 14056), ('leiden', 11584), ('blbiii', 2367), ('ofblbi', 14711), ('blbi', 2365), ('cloud', 3643), ('blbii', 2366), ('denuded', 5348), ('maturing', 12314), ('ras', 17919), ('ssi', 20397), ('nobelguide', 14185), ('fistulas', 7885), ('intermaxillary', 10678), ('flapped', 7930), ('currents', 4851), ('hystological', 9732), ('unregistered', 22821), ('multipractice', 13617), ('pyknotic', 17680), ('olcs', 14756), ('bodian', 2453), ('recovers', 18155), ('liss', 11774), ('midpalatal', 13032), ('stay', 20499), ('strontiumranelate', 20714), ('dissertation', 5914), ('diaphysial', 5597), ('refuted', 18259), ('electrostatics', 6545), ('adaption', 295), ('discretion', 5820), ('su', 20750), ('sucrose', 20906), ('isocaloric', 11018), ('ingestion', 10380), ('spf', 20271), ('dso', 6208), ('loadpath', 11820), ('conserves', 4230), ('lucencies', 11953), ('osseoingrated', 15071), ('syndromic', 21224), ('suite', 20934), ('eyes', 7519), ('redesign', 18184), ('nobelperfect', 14186), ('subperiostal', 20829), ('nanotreated', 13868), ('neighborhood', 13988), ('dtet', 6212), ('ncpit', 13938), ('retightened', 18734), ('hydroyxapatite', 9653), ('corail', 4462), ('intracapsular', 10788), ('conversions', 4406), ('presurgically', 17142), ('ranks', 17907), ('isfds', 11008), ('isfd', 11007), ('preestablished', 17013), ('rdds', 17979), ('rdd', 17978), ('ungrated', 22710), ('polyarthritis', 16608), ('polymedication', 16657), ('subscales', 20837), ('worried', 23627), ('subscale', 20836), ('preponderance', 17084), ('lending', 11589), ('undermines', 22637), ('intentions', 10577), ('striving', 20704), ('party', 15709), ('providers', 17496), ('discriminatory', 5828), ('capturing', 2958), ('noc', 14191), ('emerge', 6637), ('nocs', 14192), ('harness', 9011), ('resident', 18595), ('microenvironmental', 12815), ('frontier', 8271), ('anniversary', 951), ('turning', 22428), ('socioeconomically', 20086), ('backgrounds', 1712), ('incur', 10216), ('judge', 11166), ('pie', 16338), ('extirpated', 7458), ('radish', 17868), ('hrp', 9511), ('totand', 22001), ('cfpds', 3281), ('nmcs', 14168), ('rmaa', 18924), ('radians', 17802), ('misinto', 13174), ('validates', 22995), ('epitope', 6976), ('phthaldialdehyde', 16288), ('csg', 4771), ('wollastonite', 23594), ('enameling', 6681), ('semados', 19488), ('bremen', 2604), ('biodot', 2136), ('interchanging', 10602), ('cresco', 4696), ('backings', 1714), ('unblinded', 22567), ('stereo', 20538), ('turns', 22430), ('macrodesigns', 12036), ('mah', 12094), ('aftre', 489), ('extentions', 7451), ('solo', 20124), ('mesostructures', 12592), ('splint', 20306), ('periostal', 16027), ('intramarrow', 10811), ('adenoviruses', 322), ('intrascrew', 10835), ('handpieces', 8963), ('coalescence', 3677), ('spearhead', 20214), ('halfway', 8926), ('workup', 23623), ('audiogram', 1546), ('mentally', 12541), ('divino', 5999), ('cordelle', 4468), ('rrna', 19045), ('consortium', 4255), ('commensal', 3861), ('abi', 37), ('esi', 7070), ('unstimulated', 22861), ('maxillar', 12322), ('mff', 12701), ('elegant', 6553), ('pelvilingual', 15893), ('dentascan', 5319), ('transmucous', 22179), ('keratinization', 11232), ('radiosurgical', 17863), ('heptylamine', 9193), ('swissplus', 21186), ('dislodgement', 5862), ('brands', 2568), ('sifn', 19784), ('hafn', 8916), ('immunolocalize', 9965), ('microcracked', 12792), ('unpassivated', 22799), ('dickkopf', 5611), ('acetabula', 181), ('ccn', 3149), ('ctgf', 4787), ('therein', 21598), ('immunoblotted', 9939), ('polyhydroxyethylmethacrylate', 16645), ('microfissures', 12826), ('mepiiid', 12547), ('intermixed', 10689), ('suitably', 20933), ('vitreous', 23264), ('enamelling', 6683), ('vegfa', 23083), ('epas', 6927), ('reassert', 18054), ('prolongation', 17336), ('nmpt', 14174), ('nmsla', 14176), ('transcalvarial', 22087), ('neurotology', 14067), ('comigrated', 3852), ('pyramidal', 17685), ('prefix', 17028), ('noncortical', 14259), ('asla', 1370), ('hsla', 9523), ('mandibula', 12174), ('hdd', 9071), ('mbls', 12365), ('mumx', 13636), ('sliced', 19987), ('pretended', 17144), ('qlq', 17700), ('tiger', 21758), ('drs', 6194), ('deglutition', 5189), ('salivation', 19141), ('predisease', 16996), ('judgment', 11170), ('semisolid', 19502), ('overcooked', 15413), ('drinking', 6176), ('voice', 23280), ('loudly', 11904), ('intonation', 10783), ('postcancer', 16781), ('deacetylated', 5037), ('turbidity', 22422), ('choukroun', 3464), ('patched', 15730), ('repopulated', 18503), ('homolog', 9430), ('translocator', 22164), ('arntl', 1274), ('bmal', 2413), ('rashes', 17920), ('malaise', 12122), ('epidemiological', 6939), ('dermatology', 5419), ('pacemaker', 15534), ('endosteous', 6779), ('clusterization', 3654), ('haplotype', 8975), ('burns', 2745), ('waltham', 23357), ('maxillofac', 12329), ('deltaibl', 5252), ('implantolology', 10052), ('basaloid', 1796), ('chewed', 3396), ('serviceable', 19599), ('infrequent', 10369), ('epistheses', 6964), ('accuitomo', 164), ('sigmoid', 19792), ('connex', 4205), ('antiprotrusio', 1060), ('incorportation', 10197), ('rebuilding', 18064), ('urist', 22937), ('hosted', 9469), ('angiography', 914), ('calciotropic', 2827), ('oestradiol', 14707), ('calcaneal', 2816), ('counterindicated', 4580), ('mandate', 12166), ('tite', 21847), ('pyrrolidone', 17695), ('nmp', 14173), ('rcm', 17972), ('sheepdogs', 19695), ('print', 17199), ('helmet', 9122), ('glabella', 8597), ('graftless', 8749), ('foils', 8047), ('flatter', 7940), ('gbae', 8439), ('macrostructures', 12063), ('cowellmedi', 4622), ('busan', 2753), ('uppermost', 22904), ('cubes', 4804), ('autopolymerizing', 1630), ('convergence', 4400), ('wavy', 23396), ('transferring', 22126), ('ahb', 539), ('cortication', 4530), ('lpt', 11929), ('osseopulse', 15098), ('biolux', 2191), ('photobiomodulated', 16244), ('french', 8233), ('sfhg', 19641), ('sofcot', 20095), ('notes', 14477), ('cortico', 4532), ('biosilicates', 2275), ('biosilicate', 2274), ('vitreo', 23263), ('tiny', 21803), ('gmi', 8677), ('lifecore', 11669), ('intri', 10851), ('compounded', 3997), ('rtsa', 19064), ('glenosphere', 8614), ('projecting', 17318), ('rig', 18882), ('abduction', 30), ('encore', 6705), ('rsp', 19053), ('cyclical', 4903), ('urine', 22936), ('sintlife', 19894), ('microdissection', 12806), ('scleraxis', 19331), ('orchestration', 14920), ('cooperative', 4431), ('nmc', 14167), ('nonfunctionally', 14291), ('rfms', 18828), ('polyglycolic', 16640), ('scraped', 19350), ('cic', 3483), ('cft', 3285), ('anb', 877), ('rpi', 19038), ('eikenella', 6458), ('corrodens', 4519), ('deserves', 5439), ('harmoniously', 9007), ('osseomechanical', 15092), ('acutely', 281), ('iterate', 11074), ('distalization', 5930), ('uprighted', 22912), ('asymmetric', 1442), ('archwires', 1236), ('adolescence', 381), ('interrelated', 10727), ('orthosurgical', 15008), ('luxated', 11983), ('reankylosis', 18041), ('infraoccluded', 10361), ('diffuses', 5660), ('depletes', 5377), ('superelasticity', 20991), ('cbfalpha', 3124), ('coarsened', 3681), ('carborundum', 2979), ('granula', 8761), ('midrange', 13036), ('acridine', 235), ('coomassie', 4426), ('brilliant', 2623), ('cdnas', 3165), ('quadruplicates', 17719), ('upregulates', 22908), ('crashes', 4672), ('crash', 4670), ('abscesses', 66), ('oscillating', 15021), ('mobilized', 13241), ('harmonious', 9006), ('proposal', 17399), ('weights', 23446), ('alcian', 590), ('mount', 13446), ('phosphotase', 16239), ('lie', 11663), ('inovart', 10455), ('iri', 10967), ('masculinec', 12262), ('rerevision', 18554), ('sciatic', 19309), ('reflections', 18243), ('quartile', 17750), ('electrosynthesized', 6550), ('hpdl', 9495), ('cbfa', 3123), ('mse', 13495), ('laminar', 11429), ('dust', 6249), ('workrooms', 23618), ('amps', 817), ('bfs', 1988), ('essence', 7081), ('fading', 7559), ('walker', 23348), ('midway', 13045), ('dynablast', 6267), ('dyna', 6266), ('corroborates', 4513), ('mentioning', 12545), ('vff', 23154), ('nvfg', 14561), ('risky', 18916), ('sri', 20382), ('nonfilled', 14286), ('heptaglutamate', 9192), ('nanoparticulate', 13802), ('polyglutamate', 16639), ('undiagnosed', 22671), ('obliterated', 14600), ('coursed', 4604), ('nonceramic', 14238), ('bacteriostatic', 1732), ('geitslich', 8464), ('pharm', 16150), ('catalyze', 3057), ('oxca', 15493), ('bloxca', 2402), ('blox', 2401), ('compensating', 3930), ('biomacromolecule', 2192), ('micropipette', 12908), ('aspiration', 1383), ('integralfdt', 10547), ('equals', 6996), ('detaching', 5477), ('satin', 19183), ('cornerstones', 4478), ('symphytum', 21208), ('officinale', 14725), ('homeopathic', 9408), ('homeopathy', 9409), ('nonstatistically', 14410), ('preincubated', 17037), ('est', 7085), ('deoxipiridinoline', 5351), ('ostecoclastic', 15134), ('breakpoint', 2590), ('bspii', 2686), ('tgfbetabmp', 21557), ('crebbp', 4689), ('tbs', 21367), ('zfyve', 23762), ('ctnna', 4795), ('fbx', 7649), ('hsf', 9521), ('mcl', 12383), ('proteolysis', 17458), ('hexb', 9236), ('join', 11147), ('accustomed', 175), ('hyderabad', 9584), ('allied', 647), ('literary', 11779), ('privacy', 17213), ('texturization', 21545), ('aspergillosis', 1377), ('friable', 8247), ('brownish', 2659), ('hyphal', 9700), ('aspergillus', 1378), ('fungus', 8332), ('flattening', 7939), ('dysphagia', 6288), ('radiculopathy', 17811), ('odom', 14693), ('recordable', 18146), ('decompression', 5104), ('omsfe', 14792), ('pls', 16523), ('palms', 15584), ('soles', 20113), ('scallop', 19243), ('rci', 17971), ('smith', 20044), ('nephew', 14020), ('microindentation', 12858), ('nanogroup', 13770), ('indented', 10223), ('weightlessness', 23445), ('superfamily', 20993), ('deflection', 5174), ('embossed', 6623), ('bodes', 2452), ('nuoss', 14550), ('myocardium', 13692), ('epidermis', 6944), ('lagos', 11414), ('nigeria', 14127), ('corporation', 4486), ('oxidised', 15504), ('cont', 4294), ('paf', 15552), ('tcb', 21371), ('bvc', 2769), ('autometallographic', 1623), ('foci', 8038), ('orthopanoramic', 14998), ('resizing', 18616), ('mandibulary', 12177), ('occupying', 14659), ('significances', 19805), ('identifiable', 9793), ('constrain', 4273), ('worrying', 23629), ('mesiobuccal', 12582), ('flared', 7933), ('alleged', 630), ('silence', 19823), ('thrombocytosis', 21699), ('thrombocytopenia', 21698), ('rarefactions', 17917), ('informations', 10351), ('stieve', 20581), ('trichloroacetic', 22282), ('smears', 20035), ('habitable', 8893), ('cmcs', 3658), ('gapdh', 8405), ('czs', 4955), ('pushl', 17656), ('regress', 18295), ('malfunction', 12135), ('tuberosities', 22391), ('osseointegrational', 15086), ('conducts', 4109), ('coiis', 3741), ('darker', 4991), ('intrinsically', 10859), ('deprotonation', 5399), ('multimer', 13592), ('dimer', 5705), ('tetramer', 21531), ('pentamer', 15913), ('dimers', 5706), ('trimers', 22309), ('pentamers', 15914), ('fniii', 8030), ('multivalent', 13630), ('sutherland', 21156), ('vii', 23199), ('bulky', 2723), ('pha', 16135), ('lapine', 11449), ('derivate', 5404), ('resorptional', 18634), ('physioplanet', 16310), ('maxillaries', 12323), ('unprepared', 22808), ('tubercles', 22390), ('pads', 15549), ('gii', 8572), ('giii', 8573), ('newman', 14093), ('keuls', 11242), ('pbp', 15799), ('copolymerization', 4449), ('miniemulsion', 13108), ('vinylphosphonic', 23208), ('vpa', 23309), ('vinylbenzyl', 23206), ('vbpa', 23066), ('comonomer', 3893), ('silicium', 19830), ('phosphonated', 16223), ('nonfunctionalized', 14290), ('bioimplants', 2166), ('osteogen', 15204), ('holliswood', 9399), ('pictures', 16336), ('buccaly', 2698), ('undeveloped', 22670), ('nn', 14178), ('wn', 23582), ('taylor', 21356), ('francis', 8211), ('noninfected', 14305), ('vibrating', 23166), ('undemanding', 22611), ('slipping', 20000), ('orthograd', 14991), ('plasters', 16461), ('sensitively', 19525), ('periodontopathic', 16015), ('cultivable', 4817), ('periodontists', 16008), ('scrore', 19370), ('minority', 13142), ('perfection', 15953), ('tufts', 22400), ('eradicates', 7025), ('microiu', 12861), ('bled', 2370), ('lathyrism', 11494), ('lathyritic', 11495), ('aminoproprionitrile', 786), ('waited', 23339), ('ocps', 14672), ('easyguidet', 6316), ('keystone', 11247), ('burlington', 2741), ('asepsis', 1354), ('fiducial', 7807), ('mask', 12263), ('piracicaba', 16381), ('campinas', 2881), ('niches', 14120), ('bdcap', 1858), ('flakelike', 7919), ('diffractometric', 5656), ('nonpathologic', 14363), ('born', 2515), ('acrylates', 242), ('serie', 19580), ('forehead', 8083), ('trinitrophenol', 22314), ('pj', 16406), ('bench', 1931), ('registrations', 18291), ('counties', 4591), ('sweat', 21176), ('probands', 17227), ('msx', 13511), ('nordic', 14450), ('dryness', 6199), ('ix', 11097), ('basquin', 1816), ('raisers', 17876), ('incensement', 10143), ('tih', 21769), ('trails', 22069), ('imparted', 10001), ('myosystem', 13701), ('electromyograph', 6521), ('iddk', 9782), ('kratos', 11327), ('dynamometer', 6277), ('yrs', 23734), ('equaling', 6993), ('miro', 13152), ('brc', 2577), ('mfpd', 12704), ('photocatalysis', 16247), ('adsorbents', 398), ('mesiodistally', 12584), ('corticalization', 4526), ('postorthodontic', 16821), ('bonesource', 2488), ('malfracture', 12134), ('corticotomy', 4536), ('overestimate', 15421), ('micromechanics', 12873), ('agreeing', 534), ('cls', 3646), ('west', 23467), ('fixate', 7898), ('mucoperiosteum', 13537), ('foil', 8046), ('kls', 11288), ('martin', 12257), ('sonicpins', 20149), ('condylus', 4116), ('andthree', 892), ('nonartificial', 14218), ('implantopetal', 10053), ('implantofugal', 10045), ('crude', 4740), ('hexed', 9237), ('steepness', 20515), ('ael', 434), ('ranking', 17905), ('dislodge', 5860), ('endeavors', 6726), ('perilous', 15987), ('micrometry', 12881), ('duplication', 6237), ('postprocessing', 16828), ('institutions', 10516), ('ozonated', 15527), ('cyclosporin', 4912), ('microscopies', 12951), ('oils', 14748), ('toothlike', 21960), ('doberman', 6026), ('osseocutaneous', 15053), ('dimensioned', 5702), ('osseocompression', 15048), ('dimethylthiazolyl', 5712), ('bicinchoninic', 2023), ('bca', 1842), ('infiltrating', 10322), ('fams', 7591), ('fbam', 7643), ('fcam', 7650), ('glycosylated', 8672), ('rthr', 19056), ('avidin', 1658), ('positivity', 16767), ('cbi', 3125), ('rdib', 17982), ('steeper', 20514), ('rhgdf', 18851), ('regraft', 18293), ('lefort', 11573), ('usbs', 22945), ('thermonecrosis', 21618), ('derpd', 5424), ('bidimensional', 2037), ('nonviable', 14440), ('beamaiming', 1873), ('wang', 23358), ('sun', 20980), ('clin', 3611), ('babt', 1706), ('fluorinated', 7994), ('tiof', 21809), ('reconsidered', 18132), ('postsurgically', 16845), ('peroperatively', 16070), ('spinners', 20291), ('collagenized', 3774), ('synonymously', 21235), ('anaplastology', 867), ('colorings', 3824), ('adhesives', 337), ('grids', 8810), ('subperiostally', 20830), ('rrigf', 19044), ('femoris', 7703), ('nanothickness', 13859), ('euthanizing', 7173), ('cystein', 4925), ('checkups', 3365), ('endproducts', 6792), ('adducts', 317), ('stabile', 20405), ('pyd', 17677), ('osc', 15018), ('microimplant', 12856), ('tiolox', 21812), ('marc', 12226), ('mentat', 12542), ('idealized', 9786), ('enclosed', 6697), ('purely', 17633), ('deflections', 5175), ('nanocristalline', 13747), ('neglectable', 13983), ('sarcomas', 19175), ('multiplanar', 13607), ('recurrences', 18173), ('metastasis', 12644), ('solids', 20121), ('arthroprothesis', 1312), ('proprieties', 17408), ('umts', 22536), ('pangenomic', 15601), ('constructive', 4283), ('hexplant', 9239), ('breaking', 2589), ('spectacle', 20239), ('radiated', 17803), ('condemned', 4085), ('oryctolagus', 15015), ('cunniculus', 4831), ('crescent', 4695), ('arterial', 1297), ('circumvent', 3517), ('orthosystem', 15009), ('transpalatal', 22183), ('ercr', 7029), ('mach', 12027), ('thermocouple', 21609), ('termopar', 21495), ('refrigeration', 18255), ('plpg', 16522), ('ig', 9819), ('mesioincisal', 12585), ('incisal', 10156), ('maintainable', 12103), ('fm', 8019), ('cmg', 3659), ('dyes', 6264), ('nonmetallic', 14336), ('temporally', 21441), ('maryland', 12260), ('reciprocally', 18103), ('serially', 19578), ('movable', 13456), ('acceded', 105), ('ang', 906), ('hydroxylethyl', 9641), ('piperazineethanesulfonic', 16378), ('hepes', 9190), ('nonvolatile', 14443), ('zwitterionic', 23812), ('reserves', 18587), ('rhop', 18860), ('disguising', 5846), ('expanders', 7349), ('isogeneic', 11022), ('lewis', 11642), ('calvarias', 2869), ('kmw', 11291), ('misplaced', 13178), ('misplacement', 13179), ('keyhole', 11245), ('traverse', 22237), ('lamina', 11427), ('propria', 17406), ('unorganized', 22795), ('reticular', 18730), ('tall', 21308), ('conceals', 4040), ('normality', 14454), ('coincide', 3745), ('testify', 21510), ('translocated', 22162), ('biocomp', 2117), ('achromycin', 207), ('phosphonium', 16227), ('diffractive', 5654), ('acrolein', 238), ('acetaldehyde', 185), ('subculture', 20770), ('predecessors', 16973), ('nano_roughness', 13729), ('antiosteoporosis', 1056), ('periprosthesis', 16038), ('lumber', 11961), ('deleyed', 5224), ('revailed', 18779), ('fpad', 8170), ('matt', 12305), ('wafers', 23334), ('disorganized', 5873), ('microtubular', 13008), ('propidium', 17388), ('iodide', 10926), ('facet', 7533), ('monoradicular', 13363), ('mgl', 12712), ('km', 11290), ('cie', 3484), ('enjoy', 6830), ('vibrometry', 23173), ('agility', 521), ('nonanodized', 14216), ('carcinomas', 2994), ('radically', 17808), ('rbvd', 17967), ('infusions', 10375), ('radiodensitometric', 17821), ('berkshire', 1958), ('augmentative', 1563), ('micromeshes', 12875), ('lpaos', 11922), ('wptps', 23647), ('lphes', 11923), ('dtsae', 6216), ('stimulant', 20590), ('johannes', 11143), ('gutenberg', 8879), ('mainz', 12112), ('postradiation', 16832), ('compilation', 3942), ('annular', 954), ('pcbm', 15805), ('forged', 8094), ('osteotransductive', 15310), ('icap', 9761), ('bud', 2706), ('chondrocytes', 3447), ('brdu', 2578), ('perichondrium', 15980), ('heals', 9092), ('idsc', 9806), ('uae', 22472), ('paramedian', 15646), ('appliance', 1149), ('hyrax', 9729), ('founding', 8157), ('neurovascular', 14070), ('interlinked', 10672), ('srran', 20389), ('osteonic', 15256), ('cleansing', 3589), ('ncs', 13940), ('mgca', 12707), ('mvd', 13671), ('scintigraphies', 19320), ('unintentional', 22741), ('biomimetric', 2222), ('ossicles', 15111), ('footplate', 8066), ('merino', 12558), ('presurgery', 17140), ('enrolling', 6854), ('cacodylate', 2792), ('reorganized', 18457), ('paddle', 15546), ('insetting', 10476), ('ameloblasts', 758), ('amelogenin', 759), ('ameloblastin', 755), ('enamelin', 6680), ('amelotin', 761), ('phosphoproteins', 16228), ('glycoproteins', 8669), ('tripeptide', 22317), ('binds', 2072), ('deletion', 5223), ('mutagenesis', 13654), ('narrowed', 13885), ('vpimdfadpqfpt', 23311), ('exon', 7335), ('exons', 7336), ('computation', 4023), ('intuitive', 10871), ('redesigned', 18185), ('monocytic', 13346), ('superficialization', 20995), ('jointed', 11152), ('mesialy', 12580), ('nutrition', 14553), ('neurosensitive', 14059), ('metalloprotease', 12619), ('sialo', 19764), ('koh', 11311), ('microcapsules', 12769), ('hanks', 8972), ('patents', 15740), ('newtons', 14095), ('antiresorbing', 1062), ('srh', 20380), ('subscribes', 20840), ('deflation', 5173), ('rejoinder', 18351), ('silastic', 19821), ('mdx', 12401), ('entertainment', 6879), ('conviviality', 4418), ('gcs', 8447), ('microv', 13011), ('sffr', 19640), ('workroom', 23617), ('oscillation', 15022), ('tbth', 21368), ('crashed', 4671), ('ossific', 15114), ('harmonic', 9005), ('erska', 7047), ('configurated', 4128), ('handled', 8959), ('amc', 748), ('goettinger', 8689), ('lens', 11597), ('mmt', 13224), ('inexperienced', 10296), ('ccc', 3141), ('equality', 6994), ('cccs', 3142), ('zrsin', 23806), ('multipurpose', 13618), ('aircraft', 564), ('electrochemistry', 6502), ('punches', 17626), ('punched', 17625), ('circuitry', 3500), ('laptop', 11453), ('antero', 997), ('underloaded', 22633), ('hong', 9442), ('kong', 11315), ('reoccurrence', 18451), ('selenium', 19483), ('chemopreventive', 3382), ('selenite', 19482), ('nanoclusters', 13741), ('cancerous', 2899), ('hampering', 8947), ('traced', 22043), ('osteoids', 15218), ('mouthrinses', 13452), ('carboxylate', 2984), ('coacervates', 3671), ('coacervate', 3670), ('lrtads', 11935), ('lrtad', 11934), ('midsagittal', 13037), ('cephalograms', 3232), ('tracings', 22049), ('positionally', 16761), ('peritoneally', 16045), ('scanty', 19260), ('submandibular', 20801), ('mbv', 12370), ('unilab', 22732), ('surgibone', 21100), ('isqi', 11051), ('isqf', 11049), ('ftb', 8285), ('submit', 20820), ('previsibility', 17172), ('allofit', 653), ('biradial', 2320), ('oxzr', 15526), ('gag', 8371), ('macroscopical', 12058), ('polycalprolactone', 16613), ('jersey', 11132), ('cawood', 3114), ('washington', 23378), ('graduate', 8743), ('orlus', 14967), ('ortholution', 14992), ('distinctively', 5944), ('retired', 18737), ('breeder', 2600), ('renutrition', 18448), ('malnourished', 12144), ('malnutrition', 12145), ('deprivation', 5396), ('undernutrition', 22640), ('exenterated', 7304), ('exenterations', 7306), ('extraorbital', 7484), ('excisions', 7277), ('periorbital', 16025), ('collaborative', 3765), ('ribosomal', 18874), ('alphav', 696), ('nonmalignant', 14330), ('fibromatosis', 7785), ('multiphysics', 13606), ('intimal', 10776), ('trigerring', 22300), ('worsen', 23631), ('hemifacial', 9147), ('microsomia', 12964), ('episthesis', 6965), ('protheses', 17463), ('surgiplaster', 21105), ('classimplant', 3574), ('biogide', 2158), ('geistlish', 8463), ('usability', 22941), ('revolution', 18814), ('osseomyocutaneous', 15093), ('trapezial', 22218), ('repercussions', 18478), ('unsplit', 22857), ('prosthetized', 17432), ('mtes', 13515), ('tetraethylorthosilicate', 21528), ('methyltriethoxysilane', 12689), ('aisi', 568), ('remodellation', 18422), ('metaphisis', 12632), ('aminobiphosphonate', 778), ('surfactant', 21093), ('tween', 22442), ('immunohistomorphometric', 9960), ('universidade', 22767), ('federal', 7678), ('unifesp', 22724), ('hemangioma', 9129), ('emdogain', 6636), ('potentiate', 16862), ('gunshot', 8877), ('aluminate', 727), ('caal', 2782), ('mutilating', 13664), ('successes', 20895), ('downward', 6129), ('buttresses', 2763), ('anecdotally', 894), ('detoxifying', 5514), ('recalcitrant', 18069), ('metasul', 12647), ('hardinge', 8996), ('cedior', 3171), ('acora', 221), ('exafit', 7238), ('ossifications', 15116), ('eventuality', 7194), ('metallosis', 12623), ('receipt', 18078), ('agonists', 529), ('ompt', 14791), ('latex', 11492), ('belong', 1927), ('ulceration', 22495), ('metastases', 12642), ('immunohistological', 9958), ('epithelia', 6969), ('harbor', 8985), ('undistracted', 22676), ('slanting', 19969), ('tractional', 22058), ('mobilities', 13238), ('inadvisable', 10133), ('ceasing', 3169), ('driver', 6180), ('lutron', 11980), ('enterprise', 6877), ('taipei', 21297), ('taiwan', 21298), ('unaccounted', 22541), ('pfu', 16127), ('distract', 5959), ('regenerates', 18273), ('discontinuance', 5802), ('consf', 4232), ('uprighting', 22913), ('decorticated', 5118), ('anywhere', 1086), ('mgmp', 12713), ('deltaisq', 5253), ('micropatterns', 12901), ('golden', 8693), ('retriever', 18751), ('refilled', 18231), ('tioblasted', 21807), ('filmholders', 7834), ('appraising', 1176), ('capital', 2941), ('bioenergetics', 2139), ('energized', 6799), ('parasthesia', 15657), ('osteoperiosteal', 15262), ('restorability', 18669), ('book', 2496), ('lms', 11804), ('gauging', 8429), ('lyophylized', 12007), ('hyperactivation', 9662), ('modtiu', 13274), ('unpackaged', 22796), ('nonvital', 14442), ('demineralised', 5269), ('causation', 3095), ('generalizations', 8484), ('undue', 22681), ('copycats', 4456), ('exteroception', 7457), ('sensorimotor', 19532), ('kinaesthesia', 11267), ('dck', 5027), ('graphesthesia', 8780), ('intersubject', 10753), ('perceptual', 15940), ('graphaesthesia', 8778), ('tbv', 21369), ('bioactivities', 2082), ('extracorporeal', 7466), ('whisker', 23495), ('polyetherketoneketone', 16631), ('pekk', 15887), ('whiskers', 23496), ('porogen', 16735), ('celsius', 3188), ('remit', 18415), ('unequivocal', 22685), ('uncommonly', 22587), ('falsely', 7582), ('contraindicating', 4358), ('locate', 11835), ('scrutinized', 19372), ('discarding', 5778), ('lavaged', 11509), ('zometa', 23797), ('mechanostructural', 12451), ('pib', 16318), ('orchiectomy', 14921), ('orx', 15014), ('iahpth', 9735), ('insensitive', 10464), ('buckling', 2705), ('weakest', 23415), ('sheared', 19687), ('bowl', 2543), ('repectively', 18477), ('abso', 69), ('dentos', 5342), ('forestadent', 8092), ('pforzheim', 16123), ('inchoate', 10148), ('endocrine', 6741), ('nonpassive', 14362), ('longstanding', 11871), ('rmt', 18930), ('fills', 7832), ('discriminating', 5825), ('unparalleled', 22798), ('oronasal', 14973), ('nasolabial', 13893), ('cumbersome', 4825), ('restrictive', 18691), ('oiid', 14745), ('seg', 19459), ('scirun', 19325), ('irb', 10963), ('hipaa', 9299), ('experimented', 7380), ('presumes', 17137), ('arbond', 1224), ('walter', 23356), ('gehan', 8460), ('dfl', 5553), ('dlf', 6008), ('organizations', 14941), ('nanonodule', 13798), ('nanonodular', 13797), ('microtitanium', 12995), ('fillet', 7828), ('summarised', 20966), ('phycogene', 16289), ('thousands', 21677), ('wer', 23462), ('implan', 10026), ('scaf', 19231), ('nonflanged', 14287), ('prosthet', 17427), ('nonmelatonin', 14333), ('allografting', 661), ('adv', 405), ('nonperiprosthetic', 14365), ('aobs', 1088), ('disagreeing', 5758), ('ophthalmologists', 14850), ('oculoplastic', 14684), ('oculofacial', 14683), ('biophysiology', 2248), ('circumimplant', 3512), ('mpii', 13471), ('tscs', 22376), ('tfdps', 21550), ('tfdp', 21549), ('chondrocyte', 3446), ('sandwiched', 19166), ('ziunite', 23783), ('paget', 15554), ('orthodontically', 14984), ('ehac', 6449), ('imposition', 10087), ('coils', 3743), ('hostbone', 9468), ('moreo', 13390), ('garcia', 8409), ('aznar', 1699), ('doblare', 6027), ('theor', 21577), ('contemplate', 4315), ('travelling', 22236), ('orthopantomograms', 15000), ('hns', 9379), ('castelmaggiore', 3042), ('bologna', 2466), ('empirically', 6661), ('lr', 11931), ('dehydration', 5206), ('suprastructures', 21084), ('radiologist', 17842), ('bulge', 2718), ('dps', 6143), ('sgha', 19646), ('succession', 20899), ('excreted', 7290), ('screwable', 19363), ('meloxicam', 12518), ('cellplus', 3180), ('nutritional', 14554), ('unusually', 22884), ('confounded', 4161), ('gpls', 8726), ('deltae', 5250), ('meanppd', 12409), ('mppd', 13475), ('mbop', 12367), ('quantifies', 17733), ('charite', 3350), ('baboon', 1704), ('microradiographs', 12929), ('armamentarium', 1268), ('otolaryngologist', 15332), ('excising', 7275), ('otorrhoea', 15340), ('curtailing', 4855), ('reparations', 18468), ('reentered', 18204), ('goretex', 8709), ('gore', 8708), ('ru', 19068), ('zo', 23791), ('ve', 23074), ('immunolabelling', 9964), ('capsular', 2952), ('odg', 14689), ('osstells', 15127), ('deoxynucleotidyltransferase', 5354), ('hsps', 9525), ('obstruct', 14619), ('chronologic', 3478), ('defcon', 5145), ('sentmenat', 19541), ('glued', 8642), ('aggregations', 518), ('extraradicular', 7493), ('modum', 13291), ('microbiologically', 12760), ('pathosis', 15762), ('slots', 20007), ('adipocytic', 341), ('nitrified', 14151), ('interpore', 10713), ('nasopharyngeal', 13895), ('otorrhea', 15339), ('moulds', 13444), ('traumatize', 22229), ('postirradiated', 16809), ('dosimetric', 6095), ('clarity', 3554), ('glycated', 8652), ('derives', 5411), ('pneumatised', 16551), ('gibbsite', 8566), ('hydrate', 9585), ('sutura', 21157), ('palatina', 15575), ('mediana', 12466), ('olds', 14761), ('dentogingival', 5339), ('replanted', 18490), ('hemidesmosomes', 9146), ('receded', 18076), ('thermoresistors', 21620), ('enthanisation', 6880), ('zebra', 23749), ('tufted', 22399), ('reformation', 18249), ('biointeractive', 2176), ('chacma', 3296), ('baboons', 1705), ('papio', 15617), ('ursinus', 22938), ('reformatted', 18250), ('supramucosal', 21073), ('platelike', 16476), ('qol', 17702), ('microplates', 12915), ('profilometric', 17281), ('microfracture', 12831), ('milk', 13062), ('squeeze', 20369), ('agglutination', 509), ('compressing', 4008), ('vn', 23276), ('deltadl', 5249), ('tq', 22030), ('ndex', 13944), ('eiic', 6457), ('cleansed', 3588), ('remounted', 18428), ('reef', 18203), ('eto', 7151), ('vives', 23269), ('actuarial', 274), ('juvenile', 11191), ('concrescence', 4078), ('picked', 16324), ('minisrews', 13136), ('pexiganan', 16115), ('suponex', 21029), ('exploitation', 7401), ('checking', 3362), ('higmoro', 9280), ('ids', 9805), ('extracorporally', 7465), ('bec', 1885), ('asic', 1363), ('micros', 12943), ('multinanoporous', 13595), ('impacting', 9988), ('uninvestigated', 22744), ('contradiction', 4351), ('neogenesis', 14005), ('aminobisphosphonates', 781), ('emphasise', 6653), ('enforces', 6804), ('hydrolysis', 9604), ('coverslips', 4619), ('sam', 19147), ('triethoxysilylpropyl', 22294), ('gct', 8448), ('shake', 19657), ('subcultured', 20771), ('coulter', 4562), ('tropism', 22350), ('bisphosponates', 2337), ('fami', 7585), ('microsections', 12958), ('speaks', 20212), ('reckon', 18105), ('remodelled', 18423), ('granulations', 8767), ('disrupts', 5906), ('neocortical', 14000), ('neocortex', 13999), ('cracked', 4652), ('motioning', 13433), ('rebuild', 18063), ('igs', 9829), ('arbitrarily', 1222), ('augmentech', 1564), ('wetzlar', 23476), ('lbh', 11522), ('bisphos', 2334), ('dsb', 6202), ('radiating', 17804), ('underway', 22664), ('lipu', 11767), ('sacrification', 19110), ('homologue', 9432), ('theiaj', 21569), ('micromachined', 12870), ('beverages', 1982), ('drink', 6175), ('beverage', 1981), ('style', 20745), ('spectrophoto', 20248), ('uphold', 22900), ('anaesthetized', 837), ('fuchsine', 8291), ('perplexed', 16080), ('eyeglass', 7516), ('nonreview', 14386), ('evidently', 7210), ('monoxide', 13374), ('xb', 23666), ('bovin', 2536), ('tutogen', 22432), ('tutodent', 22431), ('membran', 12525), ('ipsi', 10956), ('xenoblocks', 23670), ('pedunculated', 15871), ('herewith', 9205), ('transpedicular', 22185), ('thoracolumbar', 21668), ('monoaxial', 13334), ('postharvest', 16800), ('graphic', 8781), ('betatcp', 1972), ('cerasorb', 3254), ('curasan', 4834), ('kleinostheim', 11285), ('dohan', 6047), ('weibrich', 23437), ('ou', 15346), ('operatory', 14845), ('setups', 19616), ('evl', 7213), ('multicentric', 13565), ('grenoble', 8804), ('nice', 14118), ('paris', 15674), ('meyer', 12698), ('prototytpe', 17476), ('disposable', 5894), ('guard', 8862), ('comfortably', 3850), ('laboratow', 11373), ('handsearching', 8968), ('withdrawals', 23568), ('wiser', 23559), ('stereotactic', 20557), ('nineties', 14134), ('widens', 23521), ('acceptably', 121), ('paraesthesiae', 15630), ('dysaesthesiae', 6279), ('deepen', 5133), ('deltambl', 5254), ('deltambls', 5255), ('injurious', 10430), ('regenaform', 18270), ('rhpth', 18863), ('daes', 4961), ('mss', 13506), ('pendulum', 15904), ('spit', 20298), ('genioplasty', 8506), ('resists', 18615), ('elastics', 6482), ('aarhus', 12), ('integuments', 10562), ('exudates', 7512), ('integument', 10561), ('angulate', 922), ('perimplants', 15991), ('predictible', 16986), ('stopping', 20626), ('judiciously', 11172), ('rises', 18911), ('etiopathogenesis', 7147), ('sus', 21137), ('scrofa', 19369), ('domestica', 6057), ('ressonance', 18664), ('bimetric', 2062), ('usii', 22955), ('ostem', 15144), ('nbfr', 13917), ('adequacy', 323), ('florida', 7962), ('variationeven', 23026), ('lille', 11707), ('universitary', 22768), ('chairman', 3302), ('pr', 16911), ('joel', 11142), ('ferri', 7717), ('ossaplast', 15038), ('cannabis', 2908), ('sativa', 19192), ('marijuana', 12236), ('tetra', 21521), ('hidro', 9262), ('cannabinoid', 2907), ('photopolymerisable', 16277), ('bioplant', 2249), ('photopolymerisation', 16278), ('viscose', 23229), ('ruminant', 19080), ('hmg', 9371), ('coa', 3669), ('reductase', 18197), ('intrude', 10865), ('supererupted', 20992), ('nonanchorage', 14215), ('supraerupted', 21068), ('intruded', 10866), ('prescribes', 17098), ('extrasinus', 7494), ('checkup', 3364), ('metamorph', 12629), ('xlhed', 23682), ('omim', 14782), ('hypotrophic', 9725), ('psychologically', 17565), ('sociopsychological', 20087), ('fraternal', 8217), ('twins', 22451), ('therapist', 21591), ('instable', 10492), ('constituting', 4268), ('wether', 23470), ('pharmaceuticals', 16154), ('overdosing', 15418), ('frank', 8213), ('processings', 17252), ('demonstrably', 5277), ('dilemmas', 5692), ('simmons', 19848), ('pilliar', 16353), ('davies', 5006), ('emsquared', 6670), ('chap', 3324), ('assumes', 1426), ('catalytic', 3056), ('chinbone', 3417), ('viz', 23273), ('tpi', 22021), ('perioglas', 16020), ('sabra', 19108), ('kinesics', 11273), ('lapses', 11452), ('intrusive', 10869), ('endocannabinoid', 6735), ('endocannabinoids', 6736), ('anandamide', 864), ('arachidonoylglycerol', 1221), ('periapatite', 15972), ('tobra', 21903), ('bacteriology', 1730), ('mccune', 12376), ('albright', 587), ('scintigrams', 19317), ('tedious', 21409), ('osteocare', 15165), ('washers', 23376), ('sebaceous', 19407), ('crusting', 4744), ('exudate', 7511), ('mobilizing', 13242), ('malposition', 12148), ('saws', 19210), ('reconfigured', 18124), ('nonocclusally', 14347), ('shots', 19743), ('pressed', 17121), ('compacts', 3902), ('gottinger', 8715), ('restricting', 18688), ('alpine', 698), ('argued', 1254), ('postreconstruction', 16833), ('orthotopic', 15011), ('regressing', 18297), ('palpate', 15586), ('tpo', 22024), ('pinpoint', 16370), ('respectable', 18644), ('ask', 1367), ('nmg', 14170), ('badly', 1737), ('deformations', 5179), ('heaviest', 9103), ('contest', 4322), ('ensues', 6859), ('minireview', 13131), ('cros', 4715), ('meningeal', 12535), ('filiform', 7823), ('podocyte', 16566), ('bgb', 1992), ('aps', 1206), ('microtextures', 12988), ('harming', 9004), ('mankind', 12195), ('plantation', 16442), ('forum', 8137), ('prosthese', 17422), ('atrophies', 1488), ('sink', 19887), ('sentalloy', 19537), ('sagittally', 19130), ('aci', 208), ('sfes', 19638), ('erroneously', 7044), ('staggered', 20429), ('biorough', 2268), ('rarefaction', 17916), ('multiphasic', 13605), ('guanine', 8857), ('gg', 8558), ('promotor', 17361), ('polypous', 16686), ('mycotic', 13682), ('calling', 2862), ('tpa', 22018), ('kb', 11212), ('sawing', 19209), ('kik', 11260), ('bioquant', 2259), ('osteonal', 15252), ('computations', 4026), ('geographically', 8528), ('uncontained', 22595), ('unrevised', 22838), ('reformed', 18251), ('fcc', 7651), ('investing', 10910), ('overhang', 15432), ('wx', 23664), ('waxed', 23398), ('samplings', 19154), ('tanerella', 21313), ('preimplantology', 17036), ('maestro', 12072), ('novum', 14495), ('lovere', 11910), ('baked', 1752), ('tiadapt', 21724), ('ceraone', 3253), ('osteoactivity', 15149), ('noninferiority', 14306), ('bimonthly', 2064), ('humidifying', 9553), ('incipient', 10155), ('unconstrained', 22594), ('tripolar', 22328), ('redislocated', 18187), ('tjrs', 21868), ('dyed', 6263), ('pediculated', 15868), ('pctg', 15821), ('ivan', 11093), ('nearest', 13951), ('photogrammetric', 16265), ('unreinforced', 22822), ('marred', 12250), ('competitor', 3941), ('grammont', 8756), ('translatable', 22153), ('intraosseal', 10825), ('meager', 12403), ('pyknosis', 17679), ('synchronized', 21215), ('vdr', 23073), ('taqi', 21335), ('rflp', 18826), ('summers', 20977), ('eventless', 7191), ('antritis', 1074), ('scraps', 19353), ('osseogenesis', 15061), ('thrice', 21695), ('biosurface', 2286), ('pretapping', 17143), ('deltahealing', 5251), ('lifetimes', 11677), ('streptomycin', 20674), ('unanodized', 22554), ('conceptualization', 4056), ('bordering', 2511), ('supposing', 21048), ('undisputable', 22674), ('allegedly', 631), ('hoop', 9445), ('exquisitely', 7437), ('bct', 1855), ('bdb', 1857), ('rbdm', 17953), ('ossify', 15118), ('nonwoven', 14447), ('microchannels', 12775), ('periscrew', 16044), ('projects', 17322), ('outlier', 15363), ('disregarding', 5900), ('smearing', 20034), ('generative', 8493), ('eth', 7120), ('countersunk', 4589), ('protrude', 17480), ('interdigitate', 10623), ('microfracturing', 12833), ('fixating', 7900), ('occlussal', 14654), ('braaemark', 2555), ('embellished', 6618), ('engineers', 6817), ('luxate', 11982), ('unproblematic', 22810), ('microchemical', 12776), ('tsi', 22379), ('vbmd', 23065), ('collage', 3767), ('dilute', 5694), ('maintance', 12110), ('meatotomy', 12423), ('customarily', 4874), ('corroded', 4518), ('cognate', 3731), ('anteroposteriorly', 1003), ('caliper', 2856), ('burgeoning', 2738), ('deformative', 5180), ('judex', 11165), ('mcgovern', 12380), ('callaghan', 2860), ('deformed', 5181), ('antetorsion', 1005), ('anteflexion', 992), ('groningen', 8820), ('averse', 1655), ('microplant', 12912), ('brasseler', 2574), ('lemgo', 11587), ('disproportionally', 5897), ('microchannel', 12774), ('biolok', 2187), ('contralaterally', 4362), ('histomorpho', 9331), ('saucerization', 19196), ('microgrooving', 12850), ('remake', 18403), ('nanohardness', 13772), ('timax', 21781), ('pnt', 16557), ('tiaiv', 21727), ('visibility', 23234), ('midpalate', 13033), ('fis', 7879), ('metamodel', 12628), ('equatorial', 7002), ('eccentricity', 6337), ('orthophosphate', 15006), ('cazr', 3116), ('hbmdos', 9054), ('mechanostimulatory', 12450), ('sqrt', 20363), ('unstressed', 22862), ('ind', 10217), ('tempered', 21434), ('interclass', 10603), ('probabilities', 17223), ('detectabilities', 5486), ('intolerable', 10781), ('beforehand', 1896), ('persevere', 16082), ('sinusoidally', 19902), ('glassfibre', 8605), ('infantile', 10301), ('macrochannels', 12034), ('analyser', 850), ('arithmetic', 1262), ('witwatersrand', 23578), ('ssm', 20399), ('african', 481), ('slits', 20002), ('nonoperated', 14350), ('onplants', 14812), ('calif', 2854), ('onplant', 14811), ('thyroid', 21720), ('triiodothyronine', 22307), ('thyroxine', 21721), ('hyperthyroidism', 9693), ('baby', 1707), ('boomers', 2500), ('clearer', 3594), ('nrbs', 14507), ('ponies', 16703), ('cheek', 3366), ('pony', 16707), ('triadan', 22266), ('repulsed', 18538), ('occluded', 14645), ('lateromedial', 11489), ('stroma', 20707), ('equids', 7007), ('glasspearlblasting', 8606), ('titaniumplasma', 21845), ('proadhesive', 17220), ('wilson', 23542), ('ssid', 20398), ('appointed', 1161), ('coherent', 3735), ('biostatistician', 2280), ('agenda', 499), ('prioritization', 17208), ('spondylodesis', 20319), ('monosegmental', 13364), ('mdct', 12394), ('prohibits', 17313), ('distinguishing', 5950), ('swollen', 21191), ('ibh', 9752), ('sbh', 19221), ('methylglutaryl', 12684), ('coenzyme', 3721), ('comfrey', 3851), ('shymphytum', 19762), ('officinalis', 14726), ('drops', 6193), ('fh', 7747), ('millimetre', 13070), ('herself', 9210), ('parafunction', 15633), ('trepan', 22254), ('beared', 1878), ('rams', 17887), ('offending', 14717), ('pretrauma', 17148), ('acbp', 103), ('craterization', 4675), ('ax', 1683), ('tangent', 21314), ('pretreating', 17150), ('roentgenographic', 18966), ('disagree', 5757), ('abdominis', 28), ('typological', 22465), ('particularity', 15695), ('eloquent', 6588), ('archetypes', 1230), ('instituting', 10512), ('peptostreptococcus', 15927), ('eubacterium', 7153), ('blueprint', 2407), ('teaching', 21381), ('dth', 6213), ('ith', 11080), ('oblong', 14602), ('lor', 11890), ('cavitary', 3110), ('farther', 7599), ('healings', 9090), ('phema', 16171), ('ostoechondral', 15319), ('complacency', 3946), ('patella', 15733), ('conjunctive', 4193), ('pocketing', 16562), ('conometric', 4207), ('cagliari', 2811), ('medpilot', 12497), ('lymphomononuclear', 11999), ('associating', 1420), ('bse', 2679), ('microanalytical', 12741), ('gilding', 8575), ('gilded', 8574), ('habilitation', 8890), ('vel', 23093), ('argentina', 1248), ('eccel', 6334), ('plasty', 16468), ('leveling', 11631), ('aligning', 613), ('girls', 8585), ('boys', 2546), ('headgear', 9080), ('hrql', 9512), ('bodily', 2456), ('paved', 15780), ('nated', 13898), ('irretrievably', 10983), ('coeffecient', 3718), ('fibrocartilaginous', 7774), ('frail', 8203), ('pstm', 17558), ('jemt', 11122), ('furhauser', 8337), ('sawbones', 19207), ('pacific', 15535), ('vashon', 23047), ('miniflap', 13109), ('forearm', 8078), ('homopolymers', 9436), ('inteforaminal', 10544), ('unesthetic', 22687), ('abt', 85), ('transfusions', 22136), ('aprotinin', 1205), ('femural', 7710), ('fascia', 7602), ('bilobed', 2059), ('restrospective', 18693), ('minature', 13086), ('microlitre', 12867), ('communicated', 3887), ('steri', 20559), ('ila', 9852), ('ilb', 9853), ('dsl', 6206), ('intralesional', 10809), ('keloids', 11223), ('surplus', 21113), ('overgrowing', 15429), ('reoccurred', 18450), ('triamcinolone', 22269), ('acetonide', 191), ('photographically', 16268), ('dsg', 6204), ('oxt', 15511), ('tba', 21358), ('submucosally', 20823), ('quantifications', 17731), ('privation', 17215), ('trifluoroethoxy', 22298), ('ptfep', 17579), ('putatively', 17660), ('phosphonates', 16224), ('samp', 19149), ('thiolate', 21654), ('darkly', 4993), ('populated', 16723), ('seams', 19396), ('reciprocal', 18102), ('spanned', 20194), ('microencapsulated', 12813), ('placebos', 16416), ('absorbtion', 79), ('surfacing', 21092), ('secures', 19436), ('nonparticulate', 14361), ('unaware', 22562), ('submental', 20805), ('overruled', 15459), ('clarification', 3549), ('amy', 824), ('imbedded', 9891), ('componential', 3986), ('mhp', 12725), ('emp', 6651), ('strauman', 20658), ('andover', 889), ('headquarters', 9084), ('percentual', 15935), ('preplanning', 17082), ('radiationon', 17806), ('trypsinized', 22371), ('postirradiation', 16810), ('gagp', 8373), ('retainable', 18713), ('swabbing', 21170), ('toothbrush', 21958), ('endless', 6732), ('irpod', 10970), ('condensers', 4090), ('disengagement', 5840), ('agenesia', 500), ('aberrations', 34), ('reabsorbable', 17986), ('biomembrane', 2211), ('shepherd', 19705), ('xylene', 23694), ('histomophometrically', 9329), ('recesses', 18095), ('endeavour', 6727), ('phospahate', 16206), ('unimpeded', 22736), ('extrema', 7498), ('verbally', 23109), ('polymerize', 16663), ('supramicron', 21071), ('bupivacaine', 2733), ('marcaine', 12227), ('mepivacaine', 12548), ('lidocaine', 11661), ('anesthetic', 902), ('retrobulbar', 18757), ('symphathetic', 21203), ('epidural', 6946), ('vasoconstrictor', 23049), ('adrenalin', 391), ('administering', 365), ('transdental', 22105), ('hmpc', 9373), ('agarose', 495), ('tenfold', 21464), ('immigrated', 9910), ('afibrillar', 474), ('osseointegriation', 15089), ('endocarditis', 6737), ('overprescription', 15455), ('nimesulide', 14131), ('arnica', 1273), ('montana', 13375), ('lowintensity', 11917), ('ultrasounds', 22523), ('palatine', 15577), ('condenser', 4089), ('implicates', 10069), ('handful', 8954), ('ignore', 9826), ('bfz', 1990), ('volatile', 23286), ('marrowlike', 12252), ('sgcs', 19645), ('prpant', 17519), ('prppost', 17520), ('sgsc', 19648), ('histidine', 9307), ('asparagine', 1372), ('yh', 23713), ('isoleucine', 11030), ('methionine', 12665), ('epdim', 6932), ('nvb', 14558), ('sgs', 19647), ('remissive', 18414), ('tispark', 21827), ('intertransverse', 10755), ('paraspinal', 15656), ('biocontainment', 2124), ('hemicylinders', 9145), ('fashioned', 7608), ('lactosorb', 11395), ('mallory', 12142), ('equaled', 6992), ('hydroxyvalerate', 9651), ('phbv', 16168), ('fb', 7642), ('unpatterned', 22800), ('confinement', 4135), ('amounting', 800), ('fare', 7595), ('ncha', 13934), ('anterosuperior', 1004), ('radiographies', 17832), ('unquestionable', 22814), ('illnesses', 9867), ('metastasize', 12645), ('hypercalcemia', 9665), ('osteolitic', 15237), ('bettering', 1977), ('aminobiphosphonates', 779), ('tex', 21535), ('niinomi', 14129), ('hattori', 9036), ('niwa', 14158), ('jaszemski', 11111), ('trantolo', 22214), ('lewandrowski', 11641), ('hasirci', 9027), ('altobelli', 724), ('marcel', 12228), ('dekker', 5210), ('electroplating', 6534), ('qualify', 17723), ('electroplated', 6533), ('torus', 21991), ('operability', 14833), ('maintainer', 12107), ('ism', 11016), ('offsetting', 14728), ('safest', 19124), ('osseointegarted', 15073), ('cholesteatoma', 3440), ('eardrums', 6301), ('preyer', 17178), ('reflexes', 18248), ('bulla', 2724), ('hyperintense', 9678), ('groundwork', 8832), ('mechanoregulatory', 12443), ('corroboration', 4515), ('terrain', 21498), ('sustrate', 21155), ('enforce', 6802), ('reculatory', 18170), ('lacroix', 11389), ('transitioning', 22149), ('fuzzy', 8358), ('underestimating', 22620), ('biomodels', 2231), ('estabishe', 7086), ('intraosseons', 10826), ('packing', 15542), ('longissimus', 11867), ('plasmocytes', 16457), ('zh', 23763), ('dot', 6098), ('microgeometries', 12839), ('directionally', 5741), ('organize', 14942), ('itg', 11077), ('pediculate', 15867), ('tweezers', 22444), ('imposing', 10086), ('trapping', 22222), ('escapes', 7065), ('calibrations', 2853), ('allotropic', 667), ('brookite', 2654), ('mega', 12507), ('hplcs', 9501), ('brushed', 2666), ('uu', 22975), ('trapdoor', 22217), ('zoc', 23792), ('portrait', 16751), ('leucine', 11620), ('slrps', 20018), ('slrp', 20017), ('biotinilation', 2299), ('ro', 18937), ('ho', 9381), ('phsiology', 16285), ('dowley', 6112), ('mechvib', 12453), ('kna', 11293), ('converge', 4399), ('rps', 19041), ('unbound', 22569), ('brown', 2658), ('epigastric', 6950), ('methylmethacrylat', 12685), ('california', 2855), ('los', 11893), ('angeles', 907), ('ctle', 4791), ('designations', 5445), ('disclosing', 5793), ('hfdds', 9243), ('microstructurally', 12975), ('evening', 7187), ('abd', 26), ('ecort', 6353), ('ecanc', 6331), ('fvert', 8359), ('fhor', 7752), ('hyper', 9661), ('sensitivities', 19526), ('uncertainties', 22576), ('escalating', 7063), ('nonprecious', 14372), ('megaprostheses', 12509), ('gradation', 8733), ('seam', 19395), ('ledge', 11568), ('wards', 23364), ('undernourished', 22639), ('reticulated', 18731), ('slip', 19997), ('fgms', 7744), ('inch', 10147), ('stitching', 20606), ('pressfitting', 17125), ('conspicuously', 4257), ('weakness', 23417), ('osteoproductive', 15275), ('edxa', 6410), ('fissures', 7882), ('cef', 3172), ('mucoperiostal', 13535), ('subperiostral', 20833), ('streaking', 20660), ('loupe', 11907), ('granulomatous', 8776), ('algipore', 606), ('osseoquest', 15099), ('malignancy', 12138), ('intercomparison', 10605), ('reexamination', 18213), ('afssaps', 482), ('carcinogenetic', 2990), ('evolutive', 7220), ('lee', 11569), ('skirted', 19954), ('brinemark', 2626), ('micrography', 12846), ('whiteney', 23499), ('shanghai', 19665), ('municipal', 13638), ('award', 1679), ('euthenized', 7174), ('headcap', 9079), ('autocad', 1599), ('shop', 19726), ('bent', 1950), ('toilette', 21914), ('bury', 2752), ('tore', 21978), ('obtrusive', 14626), ('behaving', 1909), ('neurofibromatosis', 14040), ('unsightly', 22852), ('buphthalmic', 2732), ('eyelid', 7517), ('plexiform', 16507), ('neurofibroma', 14039), ('meningoencephalocele', 12537), ('sphenoid', 20273), ('dysgenesis', 6284), ('disfiguring', 5845), ('ocular', 14682), ('histodynamics', 9316), ('diamete', 5584), ('pfn', 16122), ('cfn', 3279), ('surrounds', 21121), ('mec', 12424), ('rgds', 18834), ('rges', 18835), ('apts', 1211), ('staurosporine', 20498), ('apoptogen', 1127), ('transglutaminase', 22141), ('dermatitis', 5417), ('persists', 16089), ('holey', 9395), ('appositioning', 1170), ('edentulation', 6377), ('nobeldirect', 14184), ('teborg', 21389), ('scarification', 19269), ('hydroxyproline', 9646), ('glutamate', 8643), ('gfoger', 8554), ('fcm', 7653), ('catholic', 3076), ('leuven', 11627), ('hypo', 9701), ('hyperthyroidy', 9694), ('crohn', 4714), ('sterility', 20564), ('reestablished', 18207), ('accelerometer', 114), ('fft', 7737), ('rubbers', 19070), ('wasn', 23380), ('osteogensis', 15213), ('erl', 7036), ('wpg', 23644), ('interdiffusion', 10622), ('supraconstructions', 21063), ('extraskeletal', 7495), ('biosist', 2277), ('cook', 4420), ('lafayette', 11410), ('flagstaff', 7917), ('az', 1697), ('chitin', 3426), ('acetic', 189), ('diameterx', 5587), ('walderburg', 23345), ('registrar', 18289), ('everything', 7202), ('appropriateness', 1191), ('polytetrafluroethelyene', 16695), ('biotack', 2291), ('mucogingval', 13534), ('fri', 8245), ('sedated', 19440), ('morphogens', 13399), ('immigrating', 9911), ('shattered', 19681), ('implicate', 10067), ('infovores', 10356), ('mania', 12183), ('scholarly', 19300), ('tour', 22011), ('glyceraldehyde', 8656), ('delimiting', 5230), ('sclera', 19329), ('implement', 10063), ('foregoing', 8082), ('fas', 7601), ('ple', 16496), ('migratory', 13053), ('lasts', 11475), ('researching', 18569), ('tnp', 21894), ('unequally', 22684), ('osteodistracted', 15196), ('ola', 14753), ('sei', 19468), ('seis', 19470), ('intimacy', 10775), ('bounding', 2532), ('extraordinarily', 7485), ('polynomial', 16676), ('halving', 8940), ('morcellised', 13388), ('proosteon', 17372), ('opc', 14826), ('tortuosity', 21989), ('divergence', 5988), ('align', 611), ('dangerously', 4983), ('fgbm', 7739), ('fr', 8180), ('cmos', 3661), ('nonfouling', 14288), ('edipn', 6392), ('ipn', 10953), ('whites', 23500), ('hispanics', 9304), ('panaromic', 15595), ('mesialization', 12578), ('proclination', 17255), ('sngogn', 20066), ('fma', 8020), ('me', 12402), ('ans', 978), ('bibliography', 2014), ('glycaemia', 8650), ('overnight', 15453), ('noded', 14194), ('overstressing', 15467), ('hfniii', 9247), ('osteokalzin', 15236), ('crossarch', 4717), ('rata', 17924), ('underlies', 22629), ('farm', 7597), ('cephalographs', 3233), ('cephalostat', 3237), ('partners', 15707), ('pace', 15533), ('eruptions', 7052), ('corrections', 4495), ('homocentric', 9414), ('ossix', 15120), ('intramobile', 10816), ('reattached', 18056), ('vulnerability', 23322), ('supervision', 21028), ('pdgfrb', 15829), ('preexistent', 17014), ('straightening', 20639), ('admissible', 372), ('monosyllables', 13367), ('iieh', 9837), ('audiometrically', 1553), ('shephards', 19704), ('ketamine', 11240), ('pathohistological', 15750), ('chondro', 3444), ('gfm', 8553), ('nonabsorbable', 14207), ('strap', 20648), ('surroundings', 21120), ('shims', 19718), ('nanopit', 13810), ('nanopits', 13811), ('perhipheral', 15968), ('perinuclear', 15993), ('disruptive', 5905), ('morphologicaly', 13404), ('symmetries', 21199), ('situated', 19924), ('multinomial', 13597), ('reset', 18591), ('expansions', 7353), ('cond', 4084), ('microcopy', 12789), ('destination', 5466), ('migrating', 13050), ('pplication', 16902), ('countersinks', 4588), ('sextants', 19633), ('pulsing', 17618), ('collos', 3800), ('cervically', 3269), ('unthreaded', 22872), ('confounds', 4164), ('transmissibility', 22170), ('mer', 12549), ('translucencies', 22165), ('furlong', 8338), ('bipolar', 2319), ('garden', 8411), ('mobilise', 13236), ('outdoors', 15358), ('lol', 11860), ('applicative', 1156), ('immortalised', 9924), ('reporters', 18509), ('circulated', 3504), ('discussions', 5836), ('endorsement', 6766), ('amended', 763), ('basf', 1806), ('parsippany', 15678), ('hindquarter', 9291), ('nonimplant', 14303), ('nlm', 14163), ('workshops', 23621), ('glucosylated', 8638), ('esd', 7068), ('caesd', 2804), ('analytic', 855), ('deltartq', 5256), ('allotted', 668), ('premanufactured', 17049), ('hydroxyurea', 9650), ('phospholipids', 16221), ('catalyse', 3054), ('conserving', 4231), ('affixing', 465), ('spectron', 20247), ('trilogy', 22308), ('cardinal', 2996), ('galante', 8384), ('syncrystallization', 21220), ('nonmetal', 14335), ('trombocytes', 22348), ('thrombocytes', 21697), ('palates', 15574), ('respiration', 18650), ('leukemia', 11623), ('mucormycosis', 13539), ('microshear', 12959), ('intraosseus', 10829), ('deltaweeks', 5258), ('cns', 3666), ('vus', 23324), ('pcm', 15812), ('osteotomie', 15304), ('shortfalls', 19738), ('sixties', 19931), ('orthopaedist', 14997), ('pantomographic', 15607), ('rested', 18666), ('implantoprosthetic', 10055), ('presinusal', 17118), ('subantal', 20753), ('postforaminal', 16796), ('implantoprosthetics', 10056), ('ventral', 23106), ('prednisone', 17003), ('sect', 19424), ('residency', 18594), ('irrecoverable', 10974), ('cycling', 4906), ('plasmalemma', 16451), ('vesicles', 23139), ('phosphatidylinositol', 16213), ('phosphatidylcholine', 16212), ('plasmon', 16459), ('radionuclide', 17851), ('aneurysmal', 905), ('residue', 18600), ('tolerances', 21921), ('ductile', 6220), ('nonmachined', 14329), ('carbotextim', 2980), ('toluidin', 21931), ('crafted', 4655), ('ties', 21753), ('cervitech', 3272), ('rockaway', 18955), ('nubian', 14528), ('subluxation', 20799), ('unobstructed', 22791), ('desires', 5454), ('nopi', 14448), ('bracket', 2558), ('distomesial', 5953), ('femura', 7709), ('stabilised', 20407), ('eptfe', 6988), ('komet', 11314), ('fellow', 7694), ('mondeal', 13323), ('schweiz', 19306), ('sterilised', 20563), ('minimised', 13117), ('price', 17182), ('biocybernetic', 2129), ('inactivity', 10127), ('fosamax', 8142), ('whitehouse', 23498), ('phrases', 16284), ('tohinichi', 21910), ('btg', 2691), ('mfg', 12702), ('optimizes', 14891), ('titanic', 21841), ('halve', 8937), ('underrepresented', 22648), ('enossal', 6843), ('vcf', 23069), ('intravertebral', 10848), ('succeed', 20891), ('irreversibly', 10986), ('microphase', 12902), ('homology', 9434), ('apolipoprotein', 1124), ('prolyl', 17340), ('hydroxylase', 9639), ('transcript', 22094), ('gonadal', 8698), ('tdi', 21378), ('endoossal', 6756), ('bioactivating', 2077), ('unjunction', 22771), ('gravity', 8792), ('obstructed', 14620), ('organically', 14934), ('organoapatite', 14944), ('superpulsed', 21020), ('sapphire', 19173), ('carbonization', 2973), ('carbonized', 2974), ('biocoated', 2113), ('nonbiocoated', 14227), ('noncovalently', 14261), ('noncovalent', 14260), ('midbuccally', 13023), ('imagej', 9884), ('myofunctional', 13699), ('vocal', 23277), ('rdg', 17980), ('teflon', 21412), ('certaina', 3263), ('criticism', 4710), ('prague', 16924), ('orbita', 14909), ('eyelids', 7518), ('eyeball', 7515), ('retainment', 18718), ('encouragable', 6710), ('statistica', 20488), ('nonpristine', 14373), ('lased', 11464), ('materialise', 12290), ('nv', 14557), ('hydroxyfluoride', 9635), ('bcl', 1849), ('hemiglossectomy', 9148), ('deltopectoral', 5259), ('clattering', 3576), ('soil', 20103), ('doors', 6073), ('inputs', 10458), ('sure', 21086), ('conveyed', 4415), ('silent', 19826), ('closing', 3638), ('equiaxed', 7004), ('gonadectomy', 8699), ('postorchiectomy', 16820), ('debilitated', 5056), ('tbpf', 21366), ('ultramicrotomy', 22511), ('rhtgf', 18864), ('submaximal', 20803), ('ctc', 4785), ('subjacent', 20789), ('fractography', 8189), ('methacryloxypropyltrimethoxysilane', 12657), ('monodont', 13347), ('tracers', 22045), ('problesm', 17236), ('inflammory', 10335), ('clasp', 3556), ('constraining', 4275), ('parametrically', 15650), ('asymptotic', 1446), ('labially', 11364), ('lacerated', 11381), ('ibgs', 9751), ('obgs', 14583), ('ibg', 9750), ('obg', 14582), ('postrestorative', 16837), ('inwardly', 10922), ('dysplasias', 6290), ('anadontia', 832), ('rhbfgf', 18842), ('rhigf', 18853), ('rfm', 18827), ('systemized', 21268), ('experimentations', 7379), ('rbone', 17963), ('panographic', 15603), ('interfaced', 10635), ('digitizing', 5676), ('iit', 9845), ('isostatic', 11034), ('osseocondensating', 15049), ('nominally', 14204), ('nonmodular', 14341), ('toto', 22003), ('absorbability', 73), ('restrains', 18682), ('pyrocarbon', 17688), ('py', 17676), ('aureo', 1573), ('galvan', 8392), ('ident', 9789), ('td', 21375), ('hamper', 8945), ('implantationem', 10035), ('statistiscal', 20493), ('russia', 19094), ('eviscerations', 7212), ('russian', 19095), ('intergrows', 10657), ('ophthalmological', 14849), ('sternal', 20571), ('osteopromoting', 15279), ('humankind', 9546), ('irredeemable', 10975), ('disfavor', 5842), ('gleaned', 8608), ('acentric', 180), ('purposed', 17644), ('sterioss', 20568), ('anubis', 1079), ('arv', 1336), ('dentofacial', 5338), ('drift', 6167), ('crowding', 4730), ('windowing', 23546), ('lids', 11662), ('stripped', 20698), ('ulnae', 22500), ('otto', 15345), ('aufranc', 1557), ('sacs', 19116), ('obscured', 14605), ('hepm', 9191), ('algae', 604), ('communaute', 3885), ('europeenne', 7163), ('algoss', 609), ('unexim', 22692), ('simion', 19847), ('aca', 97), ('depressions', 5395), ('chimpanzees', 3413), ('bryan', 2674), ('chimpanzee', 3412), ('multinucleus', 13600), ('lading', 11409), ('spa', 20182), ('halted', 8935), ('cease', 3167), ('musculo', 13649), ('hospitalization', 9464), ('biograde', 2160), ('gallo', 8389), ('roman', 18979), ('ustrain', 22957), ('sed', 19439), ('jm', 11138), ('isoform', 11020), ('antifibrotic', 1040), ('dfdb', 5551), ('biit', 2050), ('boit', 2463), ('physiomechanically', 16308), ('tolerant', 21923), ('dish', 5847), ('delaminate', 5212), ('nonstoichiometry', 14413), ('nonsintered', 14399), ('hydrolyzed', 9607), ('biominerals', 2230), ('sjogren', 19938), ('scleroderma', 19332), ('cerebral', 3256), ('deaf', 5041), ('muteness', 13662), ('amyotrophic', 826), ('hyperplasia', 9687), ('cumulated', 4826), ('osteointergrated', 15235), ('mccab', 12374), ('mso', 13504), ('eagle', 6298), ('agglutinated', 508), ('limitans', 11713), ('methabolic', 12654), ('condylae', 4111), ('oseeointegration', 15026), ('ared', 1243), ('reproductive', 18535), ('disorganised', 5872), ('bioimplant', 2165), ('ticl', 21744), ('tos', 21992), ('immunhistologic', 9930), ('ultrastructured', 22527), ('arenas', 1245), ('gasket', 8418), ('hyperelastic', 9671), ('intratrabecular', 10844), ('descending', 5427), ('questioning', 17766), ('indisputable', 10255), ('allograf', 658), ('latterly', 11500), ('photolithography', 16271), ('embossing', 6624), ('perlite', 16048), ('ecopore', 6351), ('tolerates', 21926), ('maltose', 12152), ('renaturation', 18438), ('ia', 9734), ('alk', 620), ('postpone', 16824), ('circumferencially', 3509), ('zygomaticus', 23820), ('untapered', 22870), ('instillation', 10505), ('whereof', 23488), ('predicator', 16980), ('cycli', 4901), ('faxitron', 7641), ('tibfd', 21733), ('biomechanic', 2203), ('osiris', 15030), ('tritiated', 22337), ('thymidine', 21717), ('trigonometric', 22306), ('periodicity', 16000), ('miscroscopy', 13165), ('pdt', 15841), ('azulene', 1700), ('haemolyticus', 8912), ('periodontol', 16011), ('distribute', 5967), ('ossified', 15117), ('nondegraded', 14270), ('corrode', 4517), ('cmr', 3662), ('ono', 14810), ('simplex', 19854), ('kic', 11257), ('quasirandomized', 17754), ('pistner', 16386), ('ifosfamide', 9817), ('multidrug', 13573), ('ossicular', 15112), ('tympanoplasty', 22458), ('undersurface', 22657), ('classed', 3561), ('alkoxide', 626), ('hbdc', 9050), ('shc', 19684), ('mapkinase', 12220), ('endomedullar', 6751), ('phalanx', 16145), ('magnetics', 12080), ('philips', 16193), ('homx', 9437), ('homologues', 9433), ('treatable', 22243), ('antecedents', 991), ('ledermann', 11567), ('stands', 20456), ('edentuous', 6382), ('mgtio', 12718), ('cephalic', 3231), ('brachycephaly', 2557), ('subbrachycephaly', 20757), ('brachycephalic', 2556), ('subbrachycephalic', 20756), ('endeavor', 6725), ('ttpf', 22386), ('tppf', 22026), ('repartition', 18470), ('cyclo', 4907), ('maximising', 12337), ('normalize', 14456), ('roughly', 19013), ('ois', 14751), ('counters', 4585), ('prodisc', 17260), ('discogenic', 5794), ('inauspiciously', 10136), ('bioactivate', 2075), ('spectroscopical', 20254), ('dpcs', 6139), ('hedia', 9108), ('nemat', 13994), ('alla', 629), ('cansellous', 2915), ('biodegradeable', 2134), ('tracks', 22054), ('histochemically', 9313), ('cortices', 4531), ('bewildered', 1983), ('intricacies', 10852), ('besieged', 1965), ('advertisements', 422), ('intimidated', 10779), ('bulking', 2722), ('loadeddirectly', 11817), ('dispensed', 5878), ('atelopeptide', 1451), ('cgs', 3292), ('costochondral', 4553), ('micrognathic', 12841), ('apnea', 1121), ('prognathic', 17291), ('centrals', 3216), ('tranexamic', 22080), ('retrievable', 18746), ('unimpaired', 22735), ('hemophiliac', 9170), ('noncontributing', 14253), ('costal', 4549), ('tobic', 21902), ('cobic', 3693), ('cabic', 2785), ('unresorbable', 22830), ('miniosmotic', 13126), ('dentinal', 5327), ('passages', 15715), ('attacked', 1496), ('cementoconductivity', 3197), ('spiked', 20283), ('hemipelvis', 9154), ('gcp', 8446), ('panogram', 15602), ('conscious', 4210), ('mouthwash', 13454), ('stannous', 20459), ('amf', 769), ('snf', 20065), ('mouthwashes', 13455), ('bottles', 2525), ('cooper', 4428), ('lyndon', 12002), ('carolina', 3007), ('chapel', 3325), ('hill', 9281), ('biostite', 2284), ('paresthesias', 15669), ('densitometrically', 5310), ('hy', 9570), ('inhabit', 10389), ('microbe', 12752), ('inhabiting', 10390), ('ew', 7226), ('superficially', 20996), ('unabated', 22538), ('junctures', 11182), ('sustainment', 21153), ('sustains', 21154), ('paraformaldehyde', 15632), ('tif', 21754), ('vortex', 23306), ('rapidity', 17913), ('pursuing', 17649), ('collageneous', 3772), ('nirs', 14141), ('biomodulatory', 2235), ('microtomogram', 12998), ('histomorphography', 9332), ('microtomograms', 12999), ('mechanocoupling', 12439), ('mti', 13516), ('wiron', 23556), ('orbuccal', 14916), ('unreservedly', 22828), ('medartis', 12457), ('friend', 8258), ('unperforated', 22801), ('nonregenerated', 14379), ('intercuspation', 10616), ('tis', 21823), ('metacarpophalangeal', 12605), ('polyarthrosis', 16609), ('phalangeal', 16144), ('weko', 23449), ('cementlessly', 3195), ('handscores', 8965), ('stressload', 20679), ('boi', 2461), ('bonefit', 2481), ('cancerogenous', 2898), ('cytogenetic', 4936), ('sister', 19916), ('chromatid', 3467), ('sce', 19283), ('emax', 6609), ('materialized', 12291), ('realities', 18026), ('tss', 22380), ('tlf', 21876), ('tig', 21755), ('thy', 21716), ('tast', 21345), ('tiodized', 21808), ('freely', 8229), ('glide', 8616), ('atmospheres', 1470), ('dissolving', 5928), ('therewith', 21602), ('intratumoral', 10845), ('intergovernmental', 10653), ('reirradiation', 18346), ('radiosensitivity', 17858), ('glioblastoma', 8619), ('multiforme', 13578), ('radiosensitization', 17859), ('oxynet', 15523), ('dosimetry', 6096), ('nasopharynx', 13896), ('picosecond', 16330), ('ejection', 6471), ('ultrashort', 22514), ('epiphysial', 6959), ('defatting', 5143), ('calciumincorporated', 2833), ('nonsystemic', 14422), ('phagocytotic', 16142), ('postponement', 16826), ('conditio', 4092), ('qua', 17709), ('hds', 9075), ('mineralising', 13094), ('ilizarov', 9863), ('suface', 20910), ('incorrectly', 10199), ('osseodisintegration', 15055), ('inductivity', 10279), ('passivating', 15720), ('appose', 1164), ('healosmp', 9091), ('noninstrumented', 14311), ('anosteoinductive', 974), ('uni', 22715), ('admission', 373), ('qualifying', 17724), ('shorts', 19740), ('dentalimplant', 5317), ('anod', 956), ('charactheristics', 3344), ('ostheosynthesis', 15316), ('nacre', 13711), ('bioveriti', 2312), ('crucially', 4738), ('encroached', 6716), ('micromachining', 12871), ('emm', 6649), ('jri', 11161), ('surivival', 21107), ('curving', 4862), ('sbg', 19220), ('traumatology', 22233), ('launch', 11505), ('osteoattraction', 15158), ('cloning', 3632), ('hyalinelike', 9574), ('microliters', 12866), ('edmonton', 6400), ('investigational', 10905), ('orbitonasal', 14913), ('orbitonasomaxillary', 14914), ('noncompliance', 14243), ('assures', 1433), ('overestimation', 15423), ('physiochemical', 16303), ('tolmplant', 21930), ('beis', 1921), ('nbhi', 13920), ('envisaged', 6909), ('hydroxyethyl', 9634), ('enthesis', 6881), ('argument', 1256), ('oe', 14704), ('polarize', 16583), ('strange', 20647), ('porites', 16731), ('ultrasonographic', 22519), ('capasee', 2934), ('euthanased', 7166), ('ultrasonographs', 22520), ('perivascular', 16046), ('coragraf', 4460), ('sea', 19388), ('crumbling', 4742), ('powdery', 16880), ('preadsorption', 16931), ('determinations', 5504), ('bioresorbability', 2263), ('germane', 8541), ('morsellized', 13418), ('octopus', 14680), ('hydroxypatite', 9644), ('biovan', 2309), ('transitory', 22152), ('etiopathogenies', 7149), ('etiopathogenic', 7148), ('spalling', 20192), ('solidly', 20120), ('tentative', 21474), ('congruency', 4173), ('gleno', 8609), ('bayley', 1830), ('fulcrum', 8296), ('cuboid', 4807), ('spiron', 20297), ('subcapital', 20758), ('drk', 6184), ('neuwied', 14081), ('pertrochanteric', 16105), ('multislice', 13622), ('echo', 6342), ('binarization', 2065), ('wi', 23512), ('euler', 7157), ('poincare', 16570), ('arlequin', 1265), ('alcoholic', 592), ('sugarcane', 20920), ('brandy', 2569), ('gay', 8437), ('lussac', 11976), ('commensurate', 3862), ('parabasal', 15622), ('car', 2961), ('interspaces', 10746), ('isqitv', 11052), ('monocortically', 13341), ('ionomeric', 10937), ('weaned', 23420), ('pointer', 16573), ('merited', 12561), ('mullite', 13559), ('kluwer', 11289), ('harden', 8991), ('nahco', 13716), ('sieved', 19782), ('macroporosities', 12050), ('attc', 1503), ('crl', 4712), ('mesenchyme', 12569), ('hexosaminidase', 9238), ('ferroelectric', 7719), ('poling', 16590), ('curie', 4846), ('ffc', 7735), ('extracellularly', 7463), ('collagenase', 3769), ('etidronate', 7142), ('syntheses', 21245), ('corallin', 4464), ('bonegrowth', 2482), ('dislodgment', 5864), ('moves', 13461), ('vest', 23144), ('judicious', 11171), ('pseudarthroses', 17531), ('piezoelectricity', 16344), ('neurosensorial', 14060), ('pickup', 16326), ('inferences', 10313), ('diametrically', 5591), ('diametrical', 5590), ('dependencies', 5365), ('gkt', 8594), ('london', 11862), ('calcitek', 2828), ('omniloc', 14790), ('looseness', 11883), ('funnel', 8333), ('decemented', 5079), ('complimentary', 3982), ('cuniculus', 4830), ('decimated', 5086), ('familiarize', 7588), ('repertoire', 18479), ('surveying', 21125), ('dissipating', 5918), ('susceptor', 21140), ('leadership', 11544), ('temple', 21438), ('leaning', 11553), ('prolapsus', 17325), ('workable', 23609), ('nonworking', 14446), ('perceptible', 15936), ('cdic', 3162), ('shadow', 19653), ('encoded', 6700), ('stabilizers', 20416), ('jamming', 11104), ('persuasive', 16099), ('tfm', 21552), ('loaading', 11810), ('aicrg', 549), ('rotate', 18997), ('paek', 15551), ('parhofer', 15671), ('monch', 13320), ('einbildrontgenanalyse', 6462), ('extraordinary', 7486), ('pooling', 16710), ('node', 14193), ('descent', 5428), ('berglundh', 1956), ('preloads', 17046), ('phoenix', 16198), ('mrp', 13486), ('peter', 16113), ('brehm', 2603), ('chirurgie', 3425), ('mechanik', 12429), ('weisendorf', 23448), ('ballotini', 1759), ('wurth', 23662), ('strahlmittel', 20637), ('leo', 11602), ('pinned', 16368), ('glas', 8601), ('illustrations', 9877), ('formic', 8115), ('ibs', 9755), ('alvcolus', 731), ('anemic', 897), ('phenylhidrazine', 16185), ('hemolytic', 9168), ('xylazine', 23693), ('hematocrit', 9130), ('htc', 9532), ('hemoglobinemia', 9166), ('quali', 17721), ('ostegenesis', 15137), ('cabrini', 2790), ('giv', 8586), ('conserved', 4229), ('dampers', 4978), ('damper', 4977), ('polyoxymethylene', 16679), ('nondamping', 14266), ('pneumatic', 16550), ('undamped', 22608), ('infuse', 10371), ('hydrosorb', 9617), ('telamon', 21419), ('hypermineralised', 9685), ('osteopetrosis', 15263), ('horseshoe', 9461), ('hlfo', 9365), ('mittelmeier', 13200), ('fared', 7596), ('lifelike', 11670), ('popularization', 16720), ('portals', 16747), ('mocvd', 13244), ('oxygenated', 15519), ('oxygenating', 15520), ('psi', 17550), ('middhiaphysis', 13025), ('skepticism', 19945), ('periimplantary', 15985), ('munksgaard', 13639), ('hydroxymethylglutaryl', 9643), ('bcr', 1852), ('stargrip', 20468), ('staff', 20425), ('everybody', 7200), ('theoretic', 21580), ('dominating', 6062), ('epifluorescent', 6948), ('superfinished', 20998), ('superfinishing', 20999), ('strides', 20689), ('informatics', 10349), ('nanometal', 13784), ('kokubo', 11312), ('generous', 8497), ('cathodoluminescence', 3075), ('stories', 20630), ('nifedipine', 14126), ('sulfoxide', 20950), ('unacceptable', 22540), ('impractical', 10089), ('infracture', 10359), ('cushioned', 4864), ('lessening', 11610), ('predates', 16971), ('psc', 17526), ('thighbone', 21640), ('dur', 6239), ('bayer', 1829), ('leverkusen', 11638), ('pccs', 15806), ('bodyweight', 2459), ('breuner', 2606), ('pathol', 15751), ('paradoxically', 15628), ('orthodonic', 14982), ('endoscopy', 6769), ('transmitter', 22175), ('microdisplacement', 12805), ('hma', 9368), ('trabecularization', 22035), ('intracardiac', 10789), ('puncture', 17628), ('eppendorf', 6983), ('innova', 10443), ('pharmacotherapy', 16162), ('borders', 2513), ('permuted', 16067), ('endodontal', 6744), ('reexaminations', 18214), ('pitman', 16394), ('optimalisation', 14878), ('congruous', 4175), ('transplanting', 22192), ('trapase', 22216), ('futami', 8356), ('rinses', 18903), ('myofibroma', 13698), ('desmoplastic', 5459), ('almozrti', 681), ('cuspids', 4870), ('carrare', 3013), ('padova', 15548), ('postdoctoral', 16786), ('spreadsheet', 20350), ('skewed', 19946), ('semimovable', 19496), ('fibrously', 7794), ('heteroplastic', 9224), ('sinustitus', 19904), ('odontostomatology', 14703), ('metalloprotenase', 12622), ('pcrs', 15819), ('radiolabeled', 17837), ('atm', 1468), ('butanol', 2757), ('nonadhesive', 14211), ('bei', 1917), ('acetylated', 194), ('granulomatosis', 8775), ('tetrahedral', 21530), ('eoecis', 6921), ('eoeci', 6920), ('plea', 16497), ('itd', 11071), ('manometer', 12200), ('danish', 4985), ('landrace', 11442), ('staples', 20465), ('contexts', 4324), ('pdla', 15832), ('morphogentic', 13400), ('bbmp', 1836), ('mandibule', 12178), ('abicl', 38), ('smis', 20043), ('opis', 14856), ('tpis', 22022), ('ligatured', 11695), ('nonligatured', 14319), ('microgaps', 12836), ('promotional', 17359), ('directives', 5744), ('postsputter', 16841), ('postdeposition', 16784), ('reprecipitation', 18516), ('impending', 10012), ('nonhydroxyapatite', 14299), ('ameloblastomas', 757), ('reexplorations', 18216), ('distorted', 5955), ('mkii', 13210), ('bland', 2358), ('altman', 723), ('raffaele', 17871), ('postprosthetic', 16830), ('occurrences', 14665), ('distinguishes', 5949), ('chiba', 3399), ('indexing', 10234), ('makeup', 12118), ('shepherds', 19706), ('percentiles', 15934), ('priori', 17207), ('tries', 22292), ('touch', 22005), ('kody', 11310), ('pith', 16393), ('procure', 17257), ('periarticular', 15974), ('proteases', 17440), ('zymographic', 23823), ('gelatinolytic', 8470), ('outgrowth', 15362), ('boiling', 2462), ('percolation', 15944), ('unoccupied', 22793), ('endossenous', 6773), ('missed', 13182), ('labio', 11366), ('osseintergrated', 15043), ('embodiment', 6619), ('alphabsm', 693), ('hedrocel', 9109), ('hadn', 8903), ('tpss', 22029), ('oralplant', 14906), ('cordenons', 4469), ('pn', 16549), ('distobuccal', 5951), ('mesiolingual', 12586), ('distolingual', 5952), ('irregularity', 10978), ('levai', 11628), ('laczko', 11404), ('lamellated', 11423), ('ceramed', 3242), ('irene', 10965), ('conditioner', 4097), ('microroughing', 12939), ('bolts', 2468), ('thermanox', 21605), ('hemiarches', 9141), ('isophane', 11032), ('cartilaginouslike', 3024), ('lingering', 11736), ('apicoectomy', 1117), ('manifestation', 12185), ('phagocytosable', 16138), ('unintended', 22740), ('deleteriously', 5222), ('prostenoids', 17421), ('serological', 19586), ('perpetuating', 16079), ('fibroinflammatory', 7780), ('exhaustion', 7317), ('intermediates', 10682), ('phagocytized', 16137), ('choline', 3442), ('refeeding', 18219), ('kidneys', 11259), ('steatosis', 20509), ('vittore', 23267), ('olona', 14771), ('osseocare', 15045), ('wobbling', 23587), ('embrasure', 6627), ('diam', 5583), ('simplifies', 19861), ('subspecialty', 20852), ('polls', 16595), ('household', 9482), ('interviewees', 10770), ('incomes', 10176), ('someone', 20141), ('blamed', 2357), ('told', 21917), ('austrian', 1586), ('cytometric', 4943), ('subfraction', 20782), ('aberrant', 33), ('transversally', 22210), ('phenomenologically', 16176), ('exquisite', 7436), ('garnered', 8413), ('beginnings', 1900), ('cites', 3529), ('clasping', 3558), ('clasps', 3559), ('stops', 20627), ('overlayer', 15442), ('shrinking', 19756), ('keles', 11222), ('slider', 19990), ('nance', 13727), ('button', 2760), ('distalized', 5932), ('overbite', 15405), ('overjet', 15437), ('discus', 5830), ('sion', 19906), ('tenth', 21476), ('osteodynamic', 15198), ('extrusive', 7509), ('translatory', 22161), ('microsection', 12957), ('extrusively', 7510), ('translatorily', 22160), ('ebc', 6321), ('tipore', 21818), ('precancers', 16938), ('addiction', 301), ('betel', 1973), ('nut', 14551), ('smokeless', 20049), ('halting', 8936), ('counselling', 4566), ('programmes', 17301), ('soballe', 20077), ('engendered', 6811), ('ingested', 10379), ('transcondylar', 22089), ('unobtainable', 22792), ('hypothesizes', 9719), ('panavia', 15597), ('kuraray', 11343), ('imperva', 10019), ('shofu', 19724), ('lap', 11448), ('crosshead', 4721), ('pan', 15593), ('imp', 9985), ('biphosphonate', 2317), ('rifocin', 18881), ('bet', 1968), ('ween', 23436), ('caught', 3091), ('irf', 10966), ('stereologic', 20547), ('biocareab', 2098), ('supersaturated', 21021), ('sterlization', 20569), ('uncalcined', 22571), ('calcined', 2826), ('shrunk', 19758), ('peripheries', 16036), ('shrunken', 19759), ('histiocytes', 9308), ('lineal', 11728), ('enlarge', 6833), ('rims', 18895), ('succedaneous', 20890), ('backs', 1715), ('tomorrow', 21944), ('things', 21642), ('generalization', 8483), ('necro', 13963), ('expended', 7366), ('automobile', 1624), ('finances', 7847), ('scissors', 19327), ('sophistications', 20157), ('minded', 13089), ('ideas', 9788), ('pentobarbital', 15915), ('pedicular', 15866), ('prismatic', 17211), ('gapping', 8407), ('mathys', 12298), ('bettlach', 1978), ('frialoc', 8251), ('friatec', 8252), ('mannheiti', 12199), ('commented', 3867), ('compresses', 4006), ('conditional', 4094), ('wake', 23341), ('daytm', 5011), ('pastes', 15727), ('bafilomycin', 1742), ('coincidental', 3750), ('noncontacting', 14251), ('metaphysics', 12638), ('fig', 7813), ('corals', 4466), ('flowed', 7970), ('biotoxicity', 2304), ('conus', 4390), ('unsaturated', 22844), ('grouting', 8838), ('unhealthy', 22713), ('reader', 18010), ('encountering', 6708), ('educating', 6406), ('fragmental', 8198), ('zygmatic', 23813), ('terminally', 21488), ('rhfgf', 18850), ('altelocollagen', 704), ('mbc', 12355), ('bmar', 2414), ('polychromatic', 16618), ('bmarloaded', 2415), ('pbmarloaded', 15796), ('bmarunloaded', 2416), ('pbmarunloaded', 15797), ('ccef', 3144), ('solcoseryl', 20105), ('emphasised', 6654), ('microcracking', 12793), ('encasing', 6691), ('shakedown', 19658), ('monotonically', 13371), ('mullender', 13556), ('ibl', 9753), ('adopts', 388), ('hdds', 9072), ('fluoroscope', 8007), ('ramped', 17886), ('staircase', 20440), ('tweezer', 22443), ('morphotypes', 13414), ('elastase', 6479), ('fluorogenic', 8002), ('macroglobulin', 12039), ('intracrevicular', 10799), ('quarantined', 17745), ('tomographical', 21938), ('robodent', 18945), ('daa', 4957), ('ilial', 9859), ('dar', 4988), ('osmotically', 15034), ('mantaining', 12202), ('fects', 7676), ('microplate', 12914), ('arried', 1287), ('triphine', 22319), ('followes', 8057), ('pgp', 16132), ('intraepithelial', 10800), ('lpl', 11924), ('pulsating', 17614), ('cbd', 3122), ('basement', 1801), ('immunoreactivities', 9973), ('pmn', 16543), ('hci', 9065), ('asi', 1360), ('laminoplasty', 11436), ('regrowth', 18302), ('inhaled', 10392), ('asthma', 1436), ('galeal', 8385), ('fluoroscopically', 8008), ('leitz', 11585), ('laborlux', 11374), ('unmonochromatic', 22785), ('pohang', 16568), ('heliodent', 9119), ('obviated', 14631), ('bacteridal', 1728), ('ohio', 14736), ('ecotek', 6355), ('ym', 23720), ('nonresorptive', 14383), ('femor', 7699), ('fla', 7915), ('sanguis', 19169), ('porphyromanus', 16741), ('clone', 3631), ('invaded', 10873), ('cynocephalus', 4920), ('synovium', 21241), ('ultrahigh', 22508), ('ligamentotaxis', 11687), ('perturbances', 16107), ('kn', 11292), ('hydrostatic', 9619), ('biomend', 2212), ('extendtm', 7444), ('ne', 13948), ('microsonde', 12965), ('allelic', 634), ('deltabl', 5247), ('carriage', 3014), ('havps', 9041), ('undercuts', 22616), ('spectacles', 20240), ('unnatural', 22787), ('dtpa', 6215), ('srength', 20378), ('thermodynamic', 21614), ('subcomplete', 20764), ('sheathing', 19690), ('pichrosirius', 16322), ('ito', 11083), ('unprobed', 22809), ('nonexistent', 14281), ('perlimplant', 16047), ('nonroughened', 14391), ('savedalen', 19201), ('capillarity', 2939), ('tialv', 21729), ('postinstrumentation', 16807), ('noncontiguous', 14252), ('pack', 15536), ('indistinguishable', 10257), ('agrees', 537), ('obturated', 14627), ('subjectivity', 20795), ('fpvs', 8179), ('multicentered', 13563), ('facies', 7537), ('unscrewable', 22846), ('inplants', 10456), ('fluanisone', 7973), ('phosphatasepositive', 16208), ('roundhouse', 19019), ('incubator', 10213), ('grgdsp', 8808), ('ialpha', 9738), ('mantles', 12205), ('intrafemoral', 10802), ('refill', 18230), ('trendelenburg', 22252), ('weakening', 23412), ('pelvitrochanteric', 15896), ('biovitro', 2313), ('bioverit', 2311), ('bow', 2539), ('drillings', 6173), ('leon', 11603), ('laurent', 11507), ('guedj', 8864), ('predominate', 17007), ('corners', 4476), ('midpoint', 13034), ('nonvoluminous', 14444), ('gdd', 8450), ('interzone', 10774), ('bonemeasured', 2485), ('maturer', 12312), ('nonablative', 14206), ('octa', 14673), ('tpf', 22019), ('postprosthetical', 16831), ('periopaper', 16022), ('chromogenic', 3472), ('methoxysuccinyl', 12674), ('val', 22988), ('nitroanilide', 14153), ('noninflamed', 14308), ('alterable', 706), ('land', 11439), ('slastd', 19974), ('slaalt', 19962), ('slat', 19975), ('smearable', 20033), ('osteophilic', 15265), ('omitted', 14785), ('rotations', 19003), ('referent', 18225), ('prehardened', 17032), ('biolock', 2180), ('conceptually', 4058), ('preosseointegrated', 17067), ('brim', 2625), ('envelop', 6900), ('risen', 18909), ('fhas', 7749), ('promptly', 17365), ('propeptide', 17380), ('polarisation', 16580), ('hunziker', 9559), ('rosenberg', 18991), ('surg', 21094), ('ligamental', 11685), ('unoperated', 22794), ('lymph', 11992), ('lungs', 11973), ('spleens', 20303), ('reticuloendothelial', 18733), ('cementocytes', 3198), ('hypercementosis', 9667), ('spleen', 20302), ('sis', 19915), ('endoscope', 6767), ('citing', 3530), ('pfge', 16118), ('bacteroides', 1734), ('forsythus', 8128), ('colonizations', 3812), ('loses', 11896), ('bh', 1999), ('prescale', 17095), ('buttressed', 2762), ('ischial', 11004), ('ilioischial', 9860), ('diagonal', 5578), ('fovea', 8164), ('polyactive', 16603), ('pegt', 15883), ('pbt', 15801), ('swelled', 21181), ('syncage', 21213), ('dsh', 6205), ('iva', 11092), ('nonrestored', 14385), ('compliment', 3981), ('manifesting', 12188), ('uncomplicated', 22589), ('perifixtural', 15983), ('proportionalities', 17395), ('ruptured', 19089), ('potenzial', 16868), ('bptb', 2551), ('tutoplast', 22433), ('rerupture', 18556), ('btb', 2689), ('lysholm', 12011), ('reruptured', 18557), ('protracted', 17478), ('hypercellularity', 9666), ('hypervascularity', 9698), ('sporty', 20338), ('learned', 11555), ('incisally', 10157), ('dbp', 5023), ('avana', 1645), ('soomin', 20153), ('plague', 16424), ('calcucus', 2837), ('protract', 17477), ('tiat', 21731), ('protraction', 17479), ('phagocytic', 16136), ('synthesised', 21248), ('nonused', 14436), ('phobia', 16197), ('generosity', 8496), ('needy', 13975), ('charitable', 3349), ('caring', 3003), ('coalesced', 3676), ('mononucleated', 13359), ('homografts', 9429), ('heterografts', 9220), ('interdependency', 10619), ('relieving', 18386), ('ghq', 8562), ('ijat', 9847), ('command', 3856), ('fns', 8031), ('neuroprostheses', 14054), ('hall', 8928), ('ijats', 9848), ('neuroprosthesis', 14055), ('contracts', 4348), ('fallen', 7577), ('infirmity', 10328), ('trainees', 22072), ('fibrovascularization', 7796), ('unwrapped', 22890), ('spheres', 20276), ('extraocular', 7481), ('scleral', 19330), ('wrapping', 23651), ('conicity', 4180), ('synex', 21233), ('ventrofix', 23107), ('plasmacytoma', 16450), ('prostate', 17420), ('thoracotomy', 21669), ('lumbotomy', 11963), ('paraparesis', 15654), ('suit', 20930), ('spongiose', 20327), ('kaneda', 11202), ('scervical', 19287), ('crp', 4734), ('triphosphonic', 22321), ('methylenediphosphonic', 12682), ('nitrocellulose', 14154), ('biotinylation', 2301), ('acetoxymethyl', 192), ('vimentin', 23202), ('bioassay', 2091), ('cytochemical', 4931), ('anion', 935), ('osteoectomized', 15201), ('yen', 23710), ('unprotected', 22811), ('bsm', 2683), ('ethylenimine', 7141), ('interdigitated', 10624), ('palatinum', 15578), ('facings', 7547), ('anteroinferiorly', 999), ('postdistraction', 16785), ('anteroinferior', 998), ('tearing', 21387), ('prudently', 17523), ('outscored', 15382), ('submucous', 20824), ('filleted', 7829), ('canasite', 2890), ('plsd', 16524), ('formally', 8102), ('subclinical', 20763), ('microradiograms', 12924), ('accommodating', 139), ('joule', 11157), ('ira', 10961), ('basilar', 1810), ('ecchymosis', 6339), ('jeopardised', 11126), ('horn', 9458), ('accumulates', 167), ('electrocardiogram', 6499), ('waveform', 23389), ('bowel', 2541), ('draws', 6162), ('prohibit', 17310), ('mulatta', 13553), ('capnocytophaga', 2943), ('longlasting', 11870), ('fuji', 8294), ('osteoabsorptiometry', 15147), ('imetric', 9895), ('thrs', 21711), ('meridional', 12557), ('deforms', 5184), ('postero', 16791), ('sulmesh', 20953), ('ream', 18035), ('arthroscopically', 1314), ('merk', 12563), ('darmstadt', 4995), ('adjected', 350), ('radiomorphological', 17849), ('nonaxially', 14224), ('preventions', 17166), ('outstandingly', 15386), ('dyaphisis', 6261), ('chondroid', 3451), ('endomembranous', 6752), ('tissular', 21832), ('inactivate', 10122), ('ash', 1359), ('untraumatized', 22878), ('entanglement', 6868), ('centripetal', 3224), ('preangulated', 16933), ('hide', 9261), ('pouching', 16871), ('distalize', 5931), ('quickened', 17771), ('crcomo', 4679), ('pittsburgh', 16399), ('customary', 4875), ('nonextraction', 14283), ('aalen', 7), ('pivot', 16400), ('vdo', 23072), ('nonrevised', 14387), ('mutilated', 13663), ('superimpositions', 21008), ('osteitis', 15140), ('dicrg', 5614), ('veterans', 23151), ('affairs', 451), ('dva', 6253), ('unbalanced', 22564), ('incrementally', 10207), ('zeros', 23759), ('unfounded', 22707), ('arrest', 1284), ('hotelling', 9472), ('basket', 1813), ('inflated', 10336), ('cbcp', 3119), ('jbm', 11117), ('tempting', 21451), ('nemark', 13993), ('hanau', 8950), ('wolfgang', 23589), ('gp', 8723), ('antirotational', 1066), ('parties', 15701), ('mandiblectomy', 12171), ('watt', 23384), ('hertz', 9211), ('nomenclature', 14202), ('legnano', 11579), ('assing', 1409), ('costicartilage', 4550), ('leibinger', 11582), ('kalamazoo', 11200), ('biokinetic', 2178), ('klagenfurt', 11283), ('austria', 1585), ('negativity', 13981), ('nit', 14143), ('hader', 8902), ('declines', 5097), ('eaten', 6318), ('preadjusted', 16929), ('edgewise', 6387), ('div', 5984), ('excellence', 7258), ('unheard', 22714), ('ensued', 6858), ('coloring', 3823), ('idiosyncrasies', 9802), ('obliterate', 14599), ('pericardial', 15976), ('mucopyocele', 13538), ('pericranial', 15981), ('cisternae', 3523), ('delimited', 5229), ('myeloid', 13684), ('vibrotactile', 23174), ('vibro', 23171), ('hgh', 9257), ('bioapplicable', 2089), ('cpt', 4646), ('tini', 21798), ('honestly', 9439), ('dabm', 4958), ('hemorrhaging', 9177), ('inaccurate', 10121), ('powderlike', 16878), ('dynagraft', 6269), ('gensci', 8520), ('irvine', 10999), ('webster', 23429), ('roberts', 18941), ('eugene', 7154), ('orthod', 14980), ('logos', 11858), ('wicoxon', 23515), ('injure', 10427), ('sequently', 19567), ('olacement', 14754), ('biomedicinal', 2209), ('cytoarchitecture', 4930), ('coverslip', 4618), ('microtubule', 13009), ('expeditious', 7362), ('odontlam', 14695), ('poi', 16569), ('rebesorption', 18061), ('patellofemoral', 15736), ('verifiable', 23110), ('galvanostatic', 8394), ('cooh', 4419), ('negatives', 13980), ('topscan', 21977), ('atraumatical', 1481), ('dbc', 5015), ('digitizer', 5675), ('condensations', 4087), ('underlining', 22632), ('cadmium', 2801), ('rows', 19029), ('biotechnical', 2293), ('biofabricated', 2145), ('biomatrices', 2199), ('graftings', 8748), ('biomatrix', 2200), ('osteotransduction', 15309), ('coincidences', 3748), ('osteotransductivity', 15311), ('summarising', 20968), ('normalisation', 14453), ('authorise', 1590), ('isps', 11045), ('yi', 23714), ('osteoconductor', 15183), ('sydney', 21193), ('transantrally', 22085), ('zygomaticum', 23819), ('ushered', 22954), ('epoch', 6979), ('temptation', 21450), ('unanimous', 22552), ('willert', 23540), ('articulates', 1324), ('lymphatic', 11993), ('granulomata', 8774), ('patricia', 15769), ('campbell', 2880), ('articulations', 1327), ('articulatory', 1329), ('osteiontegration', 15139), ('beriplast', 1957), ('mammograph', 12157), ('coloured', 3826), ('primam', 17183), ('analogical', 842), ('osteintegration', 15138), ('entirety', 6886), ('remineralized', 18411), ('housed', 9481), ('premenopausal', 17055), ('ert', 7048), ('unsupplemented', 22868), ('mac', 12021), ('cabon', 2789), ('castle', 3045), ('linearized', 11730), ('epineurium', 6956), ('invested', 10899), ('mfp', 12703), ('ppec', 16895), ('calcitherapy', 2829), ('detailing', 5482), ('bioengineer', 2140), ('jugale', 11173), ('ju', 11164), ('corner', 4475), ('infratemporal', 10367), ('ld', 11531), ('urethane', 22929), ('mev', 12697), ('photons', 16276), ('ceftriaxone', 3173), ('grief', 8811), ('addictions', 302), ('narcotics', 13879), ('brs', 2661), ('selftapping', 19485), ('waviness', 23395), ('hydroxyphosphate', 9645), ('integrability', 10545), ('cystectomy', 4924), ('preimmobilized', 17033), ('archbar', 1228), ('roentgenography', 18968), ('ruled', 19076), ('polypyrrole', 16687), ('ppy', 16909), ('overlayers', 15443), ('electrosynthesis', 6549), ('electropolymerization', 6537), ('pyrrole', 17694), ('prerestoration', 17093), ('groupings', 8836), ('guarded', 8863), ('biocoral', 2126), ('methylethyl', 12683), ('hemitranscortically', 9161), ('stst', 20730), ('ossicle', 15110), ('bmds', 2422), ('electrosurgery', 6547), ('electrosurg', 6546), ('refuting', 18261), ('electrosurgical', 6548), ('radiopharmaceutical', 17854), ('anger', 908), ('peroperative', 16069), ('nonrigid', 14389), ('dualion', 6218), ('calium', 2858), ('globules', 8625), ('faciolingual', 7548), ('benzothiepin', 1953), ('unexplored', 22696), ('altiva', 722), ('wollhausen', 23595), ('fo', 8032), ('interparticle', 10703), ('supraphysiological', 21078), ('fibulas', 7800), ('clavicles', 3578), ('imaginary', 9886), ('clavicle', 3577), ('duncan', 6228), ('thinnest', 21649), ('pseudoankylotic', 17534), ('awaited', 1677), ('quitted', 17784), ('cytologically', 4942), ('optic', 14872), ('chaska', 3356), ('sahlgren', 19132), ('concurs', 4083), ('cooperate', 4429), ('scotland', 19348), ('dystonia', 6293), ('dystonic', 6294), ('postures', 16852), ('spasms', 20204), ('distort', 5954), ('distortions', 5958), ('mstl', 13508), ('epon', 6981), ('tatum', 21349), ('hinge', 9294), ('sinusfloor', 19897), ('expelled', 7364), ('suddenly', 20909), ('ata', 1449), ('distortional', 5957), ('hinging', 9296), ('carboplatin', 2977), ('fluorouracil', 8011), ('unresorbed', 22831), ('dislodged', 5861), ('rslt', 19051), ('neurofilament', 14041), ('howship', 9492), ('hygienist', 9656), ('cultural', 4820), ('branchial', 2565), ('investigative', 10907), ('teratogenically', 21482), ('prenatal', 17061), ('ruling', 19079), ('heredity', 9202), ('alleviating', 643), ('fulminant', 8305), ('prenatally', 17062), ('geneticists', 8503), ('pediatricians', 15862), ('audiologists', 1550), ('otosurgeons', 15343), ('pathologists', 15755), ('pedodontists', 15869), ('embryogenesis', 6629), ('elucidations', 6600), ('viewpoints', 23196), ('unscrew', 22845), ('viewer', 23193), ('magnifying', 12090), ('brightness', 2622), ('kernel', 11238), ('casual', 3047), ('darkfield', 4992), ('interforamina', 10650), ('misfitting', 13171), ('sy', 21192), ('symmetrically', 21198), ('intercuspal', 10615), ('nonanatomic', 14214), ('georgia', 8537), ('nomarski', 14201), ('interdigitating', 10625), ('serviceability', 19598), ('dissociated', 5920), ('sendax', 19507), ('noti', 14480), ('soti', 20164), ('titers', 21850), ('bsr', 2687), ('avidity', 1659), ('titer', 21849), ('maxilliary', 12327), ('dismissed', 5865), ('biobon', 2093), ('polynucleated', 16677), ('inhuman', 10408), ('micrograms', 12843), ('eggshell', 6445), ('pouches', 16870), ('ostrich', 15322), ('oxyfluoroapatite', 15515), ('exhausted', 7316), ('acquiesced', 227), ('macromovement', 12044), ('oophorectomy', 14820), ('rush', 19092), ('meffert', 12506), ('physiopathology', 16309), ('glucemia', 8630), ('unwillingness', 22889), ('pbbm', 15791), ('reticulin', 18732), ('psr', 17555), ('encircled', 6695), ('striae', 20684), ('financially', 7849), ('inspections', 10488), ('octogenarian', 14678), ('elongate', 6585), ('granulate', 8763), ('contemplating', 4317), ('carr', 3010), ('dersh', 5425), ('harrison', 9017), ('wr', 23648), ('kinsel', 11278), ('quiescent', 17777), ('overly', 15451), ('optimistic', 14886), ('somewhere', 20145), ('negligent', 13985), ('rationalized', 17938), ('lend', 11588), ('printhead', 17202), ('rastered', 17922), ('coonhounds', 4427), ('randomize', 17894), ('macrotexture', 12065), ('macrotextures', 12067), ('supramolecular', 21072), ('hop', 9447), ('heterotopically', 9226), ('microliter', 12865), ('morphogen', 13395), ('endocranial', 6740), ('nonimmunogenic', 14302), ('carvable', 3025), ('dermatological', 5418), ('interlok', 10677), ('bridgend', 2613), ('lucent', 11955), ('ascension', 1346), ('implantabile', 10028), ('breakthroughs', 2593), ('laterals', 11487), ('rinn', 18900), ('recemented', 18085), ('mtc', 13513), ('splinters', 20308), ('newformed', 14091), ('immovable', 9926), ('intrusions', 10868), ('phospholipid', 16220), ('touchstone', 22007), ('paths', 15763), ('wigs', 23530), ('occipital', 14643), ('wig', 23529), ('alopecic', 689), ('biovent', 2310), ('seo', 19542), ('welcome', 23451), ('sargon', 19178), ('expandability', 7346), ('scionics', 19324), ('tropocollagen', 22351), ('rewarding', 18820), ('sealer', 19392), ('faults', 7627), ('timps', 21794), ('apma', 1119), ('activatable', 258), ('microseconds', 12956), ('synergetic', 21225), ('coverscrews', 4617), ('coverscrew', 4616), ('scratches', 19355), ('calculates', 2840), ('copenhagen', 4439), ('workers', 23612), ('collaborators', 3766), ('extrapolation', 7492), ('esterase', 7096), ('duralay', 6243), ('paint', 15560), ('fpg', 8174), ('pseudopodi', 17546), ('viscosus', 23232), ('intermedius', 10684), ('humoral', 9555), ('mineralizable', 13095), ('phospholipase', 16219), ('radioisotopic', 17836), ('mtcmd', 13514), ('hyaff', 9572), ('benzylated', 1954), ('tidemark', 21749), ('noncalcified', 14233), ('operates', 14836), ('loosens', 11886), ('soldered', 20108), ('ethylendiaminetetraacetic', 7136), ('hydrogencarbonate', 9603), ('hco', 9067), ('dodecylsulphate', 6040), ('polyacrylamide', 16602), ('biomidi', 2218), ('roux', 19027), ('row', 19028), ('reddish', 18179), ('marketplace', 12246), ('beating', 1884), ('electroencephalograms', 6510), ('myogenous', 13700), ('tseps', 22377), ('vienna', 23190), ('educated', 6405), ('retroverted', 18766), ('gluteus', 8648), ('maximus', 12344), ('medius', 12492), ('psoas', 17553), ('arguments', 1257), ('biopsates', 2254), ('reintervention', 18344), ('nabor', 13706), ('coxarthritis', 4627), ('ribonucleic', 18872), ('guanidinium', 8856), ('thiocyanate', 21651), ('phenol', 16172), ('chloroform', 3432), ('graz', 8796), ('desmoid', 5458), ('desmal', 5457), ('osseotropic', 15106), ('jeopardise', 11125), ('trust', 22366), ('alloarthroplasty', 649), ('vibrate', 23164), ('acoustically', 224), ('precontrast', 16966), ('postcontrast', 16783), ('unenhanced', 22682), ('equate', 6997), ('breakers', 2588), ('distributor', 5973), ('parallelism', 15643), ('microvascularly', 13014), ('fibulae', 7798), ('hemicortical', 9144), ('afferent', 456), ('implantsupported', 10059), ('nonhabitual', 14295), ('nonphysiologic', 14367), ('pressurized', 17130), ('plotting', 16520), ('falloff', 7579), ('microci', 12777), ('microcuries', 12798), ('boards', 2447), ('frontofacial', 8272), ('reconstructs', 18141), ('hypdroxyapatite', 9659), ('calf', 2846), ('transpositioning', 22202), ('titled', 21852), ('denied', 5292), ('blindness', 2382), ('roadblocks', 18940), ('inflow', 10337), ('nondistracted', 14276), ('labiopalatal', 11367), ('perturb', 16106), ('lymphohemopoiesis', 11997), ('neoplasia', 14011), ('hemopoietic', 9174), ('fluctuating', 7977), ('myelointegration', 13685), ('lymphopoiesis', 12000), ('unfit', 22703), ('bringing', 2628), ('inhomogenous', 10407), ('redeposited', 18183), ('incarceration', 10141), ('incisura', 10164), ('transaction', 22082), ('midstream', 13042), ('telemetry', 21421), ('osteoinductively', 15228), ('millipore', 13075), ('mdcgs', 12393), ('abdominus', 29), ('immunostained', 9977), ('osteochondroid', 15168), ('fumaric', 8307), ('propionate', 17389), ('osteoconductivities', 15181), ('freed', 8222), ('cryofracture', 4748), ('preosteoclasts', 17071), ('mtis', 13517), ('medialis', 12462), ('condyli', 4115), ('prognathism', 17292), ('gfc', 8552), ('picric', 16331), ('confuse', 4166), ('hppa', 9505), ('stereomicroscope', 20550), ('trumpet', 22361), ('constitution', 4269), ('ethnic', 7132), ('preculture', 16967), ('miyazaki', 13207), ('sutural', 21158), ('percentile', 15933), ('brass', 2573), ('ceramo', 3249), ('synopsis', 21237), ('segregated', 19466), ('reassembled', 18053), ('annexin', 950), ('laddering', 11407), ('jun', 11177), ('apicectomy', 1113), ('transduce', 22108), ('rgdc', 18833), ('thiol', 21653), ('limitantes', 11714), ('noncollagenous', 14241), ('infancy', 10299), ('slowdown', 20010), ('invagination', 10876), ('osteodynamics', 15199), ('tongues', 21951), ('ochracea', 14668), ('subsp', 20851), ('vincentii', 23203), ('actinomycetem', 254), ('comitans', 3855), ('digested', 5665), ('proteinase', 17451), ('branching', 2566), ('postremoval', 16835), ('auxiliaries', 1637), ('biodegraded', 2135), ('approbation', 1188), ('wattage', 23385), ('thermocoupler', 21610), ('recorder', 18148), ('multicortical', 13567), ('ignatius', 9825), ('breda', 2597), ('uptakes', 22922), ('fibrocartilage', 7773), ('immunolocalized', 9966), ('stifle', 20586), ('necroses', 13965), ('sepsis', 19550), ('fibermetal', 7757), ('unroughened', 22839), ('smoothened', 20055), ('premachined', 17048), ('polymerizing', 16665), ('planimetry', 16433), ('dodecahedron', 6039), ('silicoating', 19833), ('coining', 3755), ('acronym', 239), ('unison', 22752), ('alcohols', 594), ('lamp', 11438), ('pumice', 17620), ('speckle', 20237), ('rkkp', 18919), ('inlcuding', 10435), ('visco', 23225), ('dmem', 6016), ('osteconductive', 15135), ('doubts', 6108), ('mote', 13426), ('remodelable', 18419), ('revives', 18813), ('cranioplasties', 4665), ('nonadapted', 14210), ('bionix', 2243), ('dermatan', 5416), ('carboxyl', 2983), ('iduronic', 9807), ('glucuronic', 8639), ('methotrixate', 12673), ('acemetacin', 179), ('invaginating', 10875), ('odontologic', 14699), ('subantrally', 20755), ('francisco', 8212), ('erupting', 7050), ('effectivity', 6422), ('fpe', 8173), ('hgc', 9250), ('muller', 13557), ('hgcs', 9251), ('dotlike', 6100), ('ionization', 10933), ('maldi', 12126), ('juxtapositioned', 11195), ('asymptotically', 1447), ('hit', 9356), ('polymetallism', 16667), ('heteropic', 9223), ('xeno', 23669), ('reossified', 18462), ('mononucleic', 13360), ('immunoglobulins', 9954), ('segregation', 19467), ('reoccupied', 18449), ('despecification', 5462), ('minimatic', 13114), ('invaluable', 10878), ('unrecognized', 22820), ('propagating', 17375), ('mended', 12533), ('intercalation', 10591), ('homoplastic', 9435), ('restructuring', 18694), ('pyrolytic', 17691), ('lupus', 11975), ('erythematosus', 7055), ('elastomer', 6485), ('pigment', 16348), ('gliosis', 8620), ('ppoi', 16904), ('porex', 16730), ('enucleated', 6896), ('ppois', 16905), ('mcps', 12387), ('conjunctival', 4192), ('conjunctiva', 4191), ('pals', 15589), ('jeol', 11124), ('jsm', 11162), ('haematoxilin', 8909), ('ischium', 11005), ('pubis', 17596), ('reseated', 18570), ('impressed', 10095), ('noncomplicated', 14244), ('osteograf', 15214), ('mantell', 12203), ('esterification', 7097), ('chondrogenesis', 3448), ('atro', 1485), ('phic', 16190), ('presuming', 17138), ('formative', 8108), ('salient', 19137), ('bruyn', 2673), ('furc', 8335), ('ligamentous', 11688), ('radiodense', 17820), ('invariants', 10884), ('osseocoaptation', 15047), ('interpenetration', 10706), ('osseocoalescence', 15046), ('disappears', 5765), ('fillings', 7831), ('ossecoalescence', 15041), ('encystment', 6720), ('phylogenetic', 16291), ('lumbosacral', 11962), ('vycril', 23329), ('gomori', 8697), ('solochrome', 20125), ('cyanine', 4895), ('lcdcp', 11527), ('devascularized', 5520), ('lends', 11590), ('apposing', 1166), ('ruthenium', 19097), ('metallo', 12614), ('supraconstruction', 21062), ('ewe', 7228), ('uprooting', 22914), ('classifies', 3571), ('orifices', 14956), ('pixe', 16402), ('spokes', 20316), ('hubless', 9540), ('roller', 18977), ('spoke', 20315), ('swept', 21183), ('tivanium', 21858), ('tiv', 21857), ('zimaloy', 23770), ('zim', 23769), ('cobblestone', 3692), ('infarction', 10303), ('gic', 8567), ('biceps', 2022), ('outweighed', 15389), ('revitalized', 18811), ('commences', 3860), ('pinpointing', 16371), ('reluctantly', 18394), ('homogenize', 9424), ('mastoidectomy', 12282), ('advantageously', 414), ('connexion', 4206), ('judging', 11169), ('truest', 22359), ('provocative', 17510), ('athrophic', 1457), ('thickest', 21635), ('antihelix', 1047), ('antitragus', 1070), ('luhr', 11959), ('microsystem', 12985), ('howe', 9488), ('medica', 12475), ('outdated', 15357), ('pericervical', 15979), ('contaminates', 4311), ('nvbg', 14559), ('vbfs', 23060), ('nvbgs', 14560), ('peeks', 15873), ('flatness', 7937), ('femours', 7705), ('sawed', 19208), ('micromorphometry', 12886), ('stereography', 20542), ('epitaxial', 6966), ('nonelevated', 14278), ('csti', 4781), ('destined', 5467), ('fibrosteal', 7791), ('trioxide', 22315), ('fertile', 7721), ('ncr', 13939), ('methane', 12662), ('sulphonate', 20957), ('fertilized', 7723), ('uncoupled', 22600), ('meiotic', 12512), ('spermatogenesis', 20269), ('fertilization', 7722), ('uterus', 22961), ('mutated', 13659), ('embryonal', 6631), ('mutanogenic', 13657), ('infant', 10300), ('litters', 11787), ('decapitated', 5070), ('anophthalmic', 971), ('resolut', 18617), ('permeate', 16055), ('caveat', 3108), ('resectively', 18577), ('superposition', 21019), ('carrageenan', 3011), ('disassociation', 5772), ('survivorships', 21136), ('crab', 4650), ('unbonded', 22568), ('postinjection', 16804), ('interdependence', 10618), ('physiotherapy', 16311), ('stairs', 20441), ('destabilize', 5465), ('crutches', 4746), ('levers', 11639), ('particulars', 15697), ('monographs', 13348), ('nonevisceration', 14280), ('cornea', 4474), ('evisceration', 7211), ('extrude', 7505), ('ventilation', 23105), ('maceration', 12026), ('resonances', 18624), ('finalize', 7844), ('osteometry', 15246), ('osteomorphometry', 15248), ('osteomorphometric', 15247), ('chromatin', 3468), ('periradiolucency', 16042), ('james', 11103), ('tpsa', 22028), ('inscrew', 10462), ('synonymous', 21234), ('intricately', 10855), ('ganz', 8403), ('munsingen', 13640), ('canton', 2922), ('ortenburg', 14978), ('ectatic', 6357), ('protrusive', 17487), ('allogenous', 657), ('gtam', 8850), ('wright', 23653), ('johnson', 11146), ('behaves', 1908), ('multitechnique', 13626), ('lymphocytic', 11996), ('plasmocytic', 16458), ('oxidoreduction', 15509), ('autochthonous', 1600), ('houses', 9483), ('deepens', 5136), ('myocutaneous', 13693), ('jejunal', 11121), ('vastus', 23053), ('lateralis', 11483), ('bordered', 2510), ('expiration', 7385), ('urged', 22930), ('multipliers', 13611), ('prescriptions', 17101), ('renounced', 18446), ('touched', 22006), ('yan', 23699), ('fci', 7652), ('issy', 11063), ('les', 11605), ('moulineaux', 13445), ('welfare', 23457), ('diego', 5624), ('polygalactin', 16637), ('vicryl', 23180), ('ethicon', 7128), ('motorized', 13439), ('heavier', 9102), ('crumbled', 4741), ('counterfeit', 4579), ('firms', 7876), ('autoradiographs', 1633), ('resuming', 18704), ('extraosseal', 7487), ('culmination', 4816), ('trunnion', 22364), ('mates', 12294), ('parafunctions', 15635), ('polytetrafluorethylene', 16693), ('spacemaking', 20185), ('nonspacemaking', 14404), ('dehiscencetype', 5203), ('nonbioabsorbable', 14226), ('edentulousness', 6381), ('pertains', 16102), ('semilunar', 19495), ('pasteurella', 15728), ('burring', 2749), ('burred', 2748), ('autolyzed', 1618), ('aaa', 2), ('integrations', 10555), ('sterolithography', 20575), ('coxal', 4626), ('zylinder', 23821), ('overcasting', 15407), ('liege', 11665), ('pyrolyzed', 17692), ('videography', 23187), ('centroids', 3225), ('yvd', 23742), ('mistfit', 13185), ('poncho', 16702), ('slipped', 19999), ('prevails', 17156), ('mccl', 12375), ('untightening', 22874), ('saanen', 19107), ('copied', 4441), ('copying', 4457), ('osteoinductal', 15225), ('oleum', 14764), ('pedum', 15870), ('tauri', 21353), ('vaselinum', 23046), ('album', 588), ('fixtural', 7910), ('hla', 9364), ('pmns', 16544), ('overt', 15468), ('cej', 3176), ('fractioned', 8186), ('reliance', 18380), ('lugs', 11958), ('beading', 1867), ('plungers', 16529), ('trivial', 22338), ('cervix', 3273), ('console', 4249), ('prednisolone', 17002), ('legitimate', 11578), ('fosters', 8149), ('microangiographic', 12743), ('readapted', 18009), ('flour', 7965), ('lpno', 11926), ('implantitits', 10042), ('lpmt', 11925), ('ribonuclease', 18871), ('rnase', 18934), ('rtgf', 19055), ('ina', 10117), ('secluding', 19411), ('bristles', 2631), ('fastening', 7614), ('densitometer', 5308), ('dissimilarity', 5917), ('detects', 5494), ('nonradiated', 14375), ('nobelpharma', 14187), ('neophyte', 14010), ('predisposed', 16998), ('reintegration', 18343), ('preattached', 16935), ('connects', 4204), ('biactive', 2005), ('hydroxylapatit', 9637), ('bionert', 2240), ('electromicroscopical', 6520), ('automatical', 1621), ('powers', 16884), ('identic', 9790), ('metanalytic', 12631), ('hemodialysis', 9164), ('amyloid', 825), ('pseudojoints', 17542), ('implantologic', 10046), ('successfulness', 20898), ('howmedica', 9491), ('silness', 19839), ('loe', 11848), ('ppsi', 16907), ('blowout', 2400), ('scalps', 19248), ('dashpot', 4998), ('cadia', 2800), ('basophilic', 1815), ('myofibroblasts', 13697), ('pseudoepithelial', 17541), ('autogeneic', 1607), ('insulated', 10533), ('resumption', 18705), ('morphostructural', 13412), ('accrementition', 160), ('fmi', 8023), ('noncancer', 14234), ('xrt', 23692), ('dallas', 4965), ('supraorbital', 21074), ('malar', 12125), ('steadfast', 20504), ('shortfall', 19737), ('localities', 11830), ('reevaluate', 18210), ('predicament', 16976), ('carbons', 2975), ('basing', 1811), ('upsetting', 22917), ('feelings', 7686), ('dysmorphosis', 6286), ('superposable', 21017), ('dispel', 5876), ('acbg', 102), ('concurrence', 4080), ('affix', 463), ('gages', 8372), ('lamination', 11432), ('microvascularized', 13013), ('nonatrophic', 14219), ('contemplated', 4316), ('circumventing', 3518), ('halved', 8938), ('succeeds', 20893), ('clepper', 3604), ('tumoricidal', 22406), ('osseoprostheses', 15096), ('osseoprosthesis', 15097), ('nonsinus', 14400), ('nonmembrane', 14334), ('transosteal', 22182), ('metastasic', 12643), ('incised', 10158), ('stenosis', 20529), ('nasofrontal', 13892), ('mucocele', 13530), ('biostability', 2279), ('disastrous', 5773), ('eoi', 6922), ('deafnesses', 5043), ('paradox', 15627), ('anachronisms', 831), ('wonder', 23599), ('farmand', 7598), ('oropharyngeal', 14975), ('periorbitally', 16026), ('occipitonasomental', 14644), ('rubor', 19072), ('irritating', 10995), ('ensuing', 6860), ('neomandibles', 14008), ('neomandible', 14007), ('discretionary', 5821), ('las', 11461), ('vegas', 23080), ('densest', 5304), ('baskets', 1814), ('transoral', 22180), ('pelt', 15890), ('dia', 5567), ('saturation', 19194), ('gracilis', 8731), ('lata', 11476), ('discerns', 5784), ('clinicopathological', 3621), ('orbitocranial', 14912), ('underfilling', 22622), ('overfilling', 15427), ('ovulation', 15479), ('progesterone', 17290), ('ovulatory', 15480), ('estrogenic', 7112), ('microcrystals', 12796), ('berufsgenossenschaftliche', 1962), ('unfallklinik', 22698), ('transforms', 22134), ('robodoc', 18946), ('bgh', 1994), ('nontransgenic', 14429), ('littermates', 11786), ('rsbc', 19050), ('nonload', 14325), ('vertebrate', 23130), ('interanimal', 10586), ('intersample', 10738), ('invaluably', 10879), ('auricularis', 1578), ('supraperiosteally', 21077), ('carotid', 3008), ('micropaque', 12896), ('supraperiosteal', 21076), ('nonrotated', 14390), ('reintegrate', 18342), ('corticalis', 4525), ('osteocompression', 15177), ('osteocompressive', 15178), ('laminoss', 11437), ('orientated', 14950), ('copflholz', 4440), ('rerevisions', 18555), ('fibrofatty', 7777), ('interrelations', 10728), ('hvem', 9567), ('scalloping', 19245), ('preparatory', 17076), ('interparticular', 10704), ('microappendages', 12745), ('ruffled', 19073), ('stereomorphology', 20553), ('stereomorphologic', 20552), ('estimations', 7108), ('polylevolactide', 16654), ('polyleuolactide', 16653), ('accumulations', 170), ('osteostimulatory', 15296), ('microanalytic', 12740), ('sulphur', 20959), ('conceiving', 4045), ('alarm', 580), ('medicolegal', 12486), ('ucl', 22478), ('mating', 12299), ('extracochlear', 7464), ('intracochlear', 10793), ('oscillatory', 15025), ('dimpled', 5721), ('dimples', 5722), ('midsagittally', 13038), ('slightest', 19994), ('misangulation', 13160), ('transepithelial', 22115), ('practised', 16920), ('intergrain', 10654), ('endosseal', 6772), ('calciumphosphate', 2834), ('swell', 21180), ('craniotomies', 4667), ('lorenz', 11892), ('jacksonville', 11100), ('noninflammatory', 14309), ('copolyer', 4446), ('mbq', 12368), ('workstation', 23622), ('orthodoc', 14981), ('superb', 20987), ('muscositis', 13646), ('logically', 11854), ('admitting', 377), ('levelling', 11633), ('authorities', 1591), ('teenager', 21410), ('autofluorescence', 1606), ('detections', 5492), ('sucralfate', 20905), ('polyhydroxymethylmethacrylate', 16647), ('hydron', 9608), ('delaminated', 5213), ('urinalysis', 22934), ('rhinitis', 18855), ('bioceram', 2100), ('fulfil', 8297), ('symphisis', 21204), ('nls', 14165), ('eret', 7032), ('mobilised', 13237), ('sacrum', 19115), ('prints', 17204), ('enlarges', 6836), ('lunar', 11970), ('oropharynx', 14976), ('tongueplasty', 21950), ('steinhauser', 20518), ('epithelialization', 6971), ('polybutylene', 16612), ('polyethyleneoxide', 16634), ('seminar', 19497), ('reburied', 18066), ('platen', 16477), ('reorientation', 18458), ('chronodynamic', 3477), ('immunofluorscence', 9950), ('privileged', 17216), ('looks', 11876), ('dimple', 5720), ('scandinavian', 19250), ('hemorrhagic', 9176), ('carbontec', 2976), ('ltda', 11945), ('lecture', 11564), ('previsualization', 17173), ('refixation', 18237), ('dislodging', 5863), ('kevlar', 11243), ('hygromechanical', 9658), ('unreamed', 22819), ('slotted', 20008), ('unslotted', 22853), ('esca', 7062), ('sublaminar', 20797), ('ssw', 20403), ('mersilene', 12565), ('chagma', 3298), ('upright', 22911), ('posture', 16851), ('harrington', 9015), ('circumscribed', 3513), ('complied', 3979), ('wordsley', 23606), ('midlands', 13030), ('equates', 6998), ('discounted', 5808), ('breached', 2581), ('krygier', 11335), ('reims', 18325), ('champagne', 3312), ('ardennes', 1237), ('unnecessarily', 22788), ('coccoid', 3696), ('proplast', 17390), ('exacerbate', 7232), ('techmedica', 21392), ('johannesburg', 11144), ('appearancing', 1140), ('parasymphseal', 15658), ('housings', 9485), ('orf', 14928), ('servicing', 19601), ('jar', 11110), ('tripo', 22325), ('fibrocallus', 7772), ('disrupting', 5903), ('snq', 20070), ('noninserted', 14310), ('turkeys', 22425), ('nonuniform', 14432), ('moire', 13296), ('circumscribing', 3514), ('tma', 21880), ('videodensitometry', 23186), ('edentation', 6375), ('rigourous', 18892), ('overrun', 15461), ('pgla', 16131), ('deploy', 5379), ('stabilizer', 20415), ('robinson', 18943), ('cloward', 3645), ('intersegmental', 10744), ('radiogenically', 17825), ('percussing', 15945), ('polymerisation', 16661), ('bitewing', 2342), ('nonmorbid', 14343), ('bulkiness', 2721), ('linings', 11740), ('graphics', 8783), ('overinterpreted', 15436), ('cusped', 4868), ('cuspless', 4871), ('peroxy', 16074), ('deoxy', 5352), ('ribose', 18873), ('scavengers', 19278), ('imminent', 9912), ('nonconformity', 14247), ('osteogenin', 15212), ('berne', 1960), ('whereafter', 23484), ('sunk', 20983), ('clf', 3605), ('telescope', 21426), ('apr', 1202), ('intermedics', 10683), ('iis', 9844), ('elaboration', 6476), ('dogma', 6045), ('nonbonding', 14231), ('postenucleation', 16788), ('roentgenologically', 18970), ('ambundant', 747), ('habitually', 8896), ('vidas', 23184), ('collagenases', 3770), ('micromesh', 12874), ('ceramomental', 3250), ('glucuronidase', 8640), ('resumed', 18703), ('laying', 11516), ('reticle', 18729), ('immunohistology', 9959), ('phytohemagglutinin', 16316), ('demonstrable', 5276), ('sleepers', 19980), ('nonreconstructed', 14378), ('mecron', 12454), ('dwarf', 6257), ('conscientious', 4209), ('osieo', 15029), ('hammerle', 8943), ('pict', 16334), ('ict', 9777), ('afj', 475), ('kp', 11324), ('macrophagic', 12047), ('bioreabsorbable', 2261), ('whitlockite', 23503), ('precarious', 16939), ('scepticism', 19286), ('aptitude', 1209), ('radioresistant', 17856), ('haematologic', 8905), ('prognostically', 17296), ('endocrinologic', 6742), ('squirrel', 20370), ('ingress', 10383), ('misr', 13180), ('muhlemann', 13551), ('deplaque', 5374), ('dxm', 6260), ('decadron', 5066), ('sidus', 19778), ('veal', 23075), ('vendors', 23098), ('vendor', 23097), ('nontapped', 14424), ('organophosphate', 14945), ('polyasp', 16610), ('stones', 20621), ('microcrack', 12791), ('cutler', 4883), ('ederer', 6383), ('biogenic', 2157), ('silamine', 19815), ('audio', 1545), ('hemiarthroplasties', 9142), ('milder', 13057), ('polylactate', 16650), ('blockout', 2390), ('pseudocapsular', 17536), ('pseudocapsule', 17537), ('microvasculature', 13015), ('tubingen', 22394), ('categorise', 3063), ('dgot', 5557), ('gesellschaft', 8546), ('orthopadie', 14994), ('traumatologie', 22232), ('pak', 15567), ('paproski', 15618), ('evacuation', 7176), ('sinkage', 19888), ('carbonic', 2972), ('ostec', 15133), ('joins', 11150), ('ostek', 15141), ('trocar', 22341), ('tipped', 21819), ('steinmann', 20520), ('unsuitability', 22866), ('daltons', 4967), ('obstruction', 14621), ('homograft', 9428), ('maxillonasalis', 12332), ('metaplastic', 12640), ('harvests', 9024), ('preangled', 16932), ('subhuman', 20788), ('intracancellous', 10787), ('commericially', 3872), ('alpo', 700), ('sip', 19909), ('microradiograpic', 12931), ('osteomalacia', 15243), ('reinstatement', 18340), ('specificities', 20231), ('cytokeratins', 4938), ('icam', 9760), ('reprogramming', 18536), ('downtilting', 6128), ('unrestored', 22834), ('conundrum', 4389), ('vertebrates', 23131), ('intraorbital', 10824), ('normals', 14459), ('amperage', 804), ('ladc', 11405), ('ua', 22471), ('nonactive', 14209), ('perturbation', 16108), ('holed', 9393), ('asif', 1365), ('frontonasal', 8273), ('pari', 15672), ('afp', 479), ('ceramometallic', 3252), ('estheticone', 7101), ('cancelleous', 2893), ('casted', 3041), ('xiii', 23680), ('placenta', 16421), ('holography', 9403), ('refracture', 18254), ('bearers', 1880), ('walnut', 23355), ('expendable', 7365), ('sulci', 20938), ('notice', 14481), ('lytic', 12018), ('crushed', 4743), ('preplanned', 17081), ('recreated', 18158), ('cadavera', 2795), ('otago', 15326), ('ordinated', 14927), ('exchanging', 7272), ('mplant', 13472), ('credence', 4690), ('suspect', 21141), ('hydroxythylidene', 9649), ('kilogram', 11265), ('liftoff', 11682), ('tricon', 22286), ('richards', 18877), ('memphis', 12530), ('transformers', 22132), ('wit', 23565), ('surmounted', 21108), ('overlaying', 15444), ('watts', 23386), ('exoskeleton', 7342), ('synchronous', 21216), ('spet', 20270), ('lifetable', 11675), ('butylene', 2767), ('cork', 4473), ('interinstrumental', 10662), ('diamonds', 5593), ('fpois', 8175), ('reflex', 18247), ('taps', 21334), ('masseteric', 12271), ('poststimulus', 16842), ('radioautography', 17817), ('radioautographic', 17816), ('clay', 3581), ('osteotomised', 15306), ('frustrations', 8277), ('corticals', 4529), ('postinjury', 16805), ('sssa', 20402), ('osseofixation', 15059), ('confining', 4137), ('accomplishes', 146), ('audiant', 1543), ('district', 5974), ('england', 6818), ('tenon', 21465), ('spicular', 20280), ('irritates', 10994), ('erodes', 7039), ('recombinantly', 18115), ('xii', 23679), ('paraimplantation', 15638), ('oxygenotherapy', 15522), ('concordant', 4077), ('monterey', 13376), ('sponsored', 20331), ('directors', 5747), ('microradiographed', 12925), ('dentatool', 5321), ('gonarthrosis', 8700), ('hungerford', 9558), ('isk', 11012), ('ewald', 7227), ('phlebitis', 16195), ('reoperated', 18453), ('fault', 7626), ('peters', 16114), ('berry', 1961), ('lcp', 11529), ('machines', 12031), ('traumatological', 22231), ('traumatism', 22228), ('authorizes', 1592), ('digitalization', 5669), ('gags', 8374), ('thinly', 21645), ('migrators', 13052), ('spary', 20203), ('cpd', 4633), ('hpd', 9494), ('methylenediphosphonate', 12681), ('fischer', 7880), ('polyacetyl', 16601), ('noninterference', 14314), ('ent', 6865), ('rigshospitalet', 18893), ('replies', 18502), ('dependably', 5361), ('paraimplant', 15637), ('mechanized', 12433), ('silicoater', 19832), ('postceramic', 16782), ('neutralised', 14072), ('micropigs', 12906), ('micropig', 12905), ('hemipelves', 9153), ('hailed', 8919), ('allergens', 636), ('polymorphonuclear', 16674), ('leucocytes', 11622), ('bridgeworks', 2616), ('tumorous', 22407), ('scalings', 19242), ('cffr', 3277), ('teh', 21415), ('guidor', 8872), ('butler', 2758), ('hematopoiesis', 9135), ('transpositions', 22203), ('lumped', 11968), ('eff', 6416), ('voigt', 23283), ('maxwell', 12346), ('aml', 791), ('morphofunctional', 13394), ('revisional', 18806), ('laminectomy', 11433), ('intervene', 10759), ('rebased', 18059), ('milligrams', 13066), ('guanidine', 8855), ('keratocyst', 11237), ('stratagem', 20651), ('bhc', 2002), ('phagocytose', 16139), ('thirdly', 21657), ('nonfibrillar', 14285), ('digitiform', 5672), ('symbol', 21195), ('realignment', 18021), ('polyhydroxybutyrate', 16644), ('hydrolyzable', 9606), ('phb', 16167), ('perimucosal', 15992), ('unfenestrated', 22701), ('thorp', 21672), ('proteinaceous', 17450), ('finely', 7855), ('fap', 7593), ('rcob', 17973), ('pharyngeal', 16163), ('radioisotope', 17835), ('isotope', 11038), ('bsi', 2682), ('proteinases', 17452), ('gelatinase', 8467), ('zymograms', 23822), ('gelatinases', 8468), ('inadequacy', 10129), ('isolations', 11029), ('eversed', 7197), ('eversion', 7198), ('mattress', 12308), ('coaptation', 3678), ('apaceram', 1097), ('hype', 9660), ('hysteria', 9731), ('interconnect', 10607), ('leadwire', 11547), ('incudis', 10214), ('bcsr', 1854), ('hydrogelic', 9600), ('embarrassment', 6612), ('bystanders', 2779), ('constitutive', 4271), ('ficat', 7801), ('arlet', 1266), ('femorale', 7702), ('zircalloy', 23776), ('resecting', 18573), ('gingivo', 8582), ('sherwood', 19707), ('compass', 3922), ('reconfirmed', 18125), ('osteotrophism', 15312), ('osteophilia', 15264), ('essentials', 7084), ('grave', 8791), ('presinus', 17117), ('anteriorizing', 995), ('embalmed', 6610), ('implantability', 10029), ('remaking', 18404), ('nonstandardized', 14409), ('tioh', 21810), ('aloh', 684), ('deployable', 5380), ('diversified', 5993), ('latitude', 11498), ('backing', 1713), ('rmhs', 18926), ('totalling', 21999), ('slippage', 19998), ('oversizing', 15465), ('sphericity', 20278), ('pressensor', 17122), ('polyvinylsiloxane', 16700), ('compatibilities', 3923), ('aaidrf', 6), ('mcg', 12379), ('ici', 9768), ('cannon', 2909), ('substructures', 20876), ('transference', 22124), ('localisations', 11827), ('cancelous', 2896), ('rehabitation', 18321), ('isotopic', 11040), ('biocom', 2116), ('objectivity', 14593), ('biocompatability', 2119), ('illusive', 9871), ('valves', 23007), ('multifaceted', 13574), ('lim', 11708), ('edgy', 6388), ('polykaryonic', 16649), ('ingest', 10378), ('abut', 92), ('vicious', 23178), ('stereotypical', 20558), ('polyacetal', 16600), ('karl', 11209), ('abandoning', 17), ('biomecanical', 2201), ('thinness', 21648), ('apropos', 1204), ('electrodischarge', 6507), ('edc', 6369), ('electrodischarged', 6508), ('megaprosthesis', 12510), ('radiophosphonate', 17855), ('parallels', 15645), ('transphyseal', 22187), ('subcutis', 20774), ('fluorocrome', 8001), ('halide', 8927), ('plastics', 16467), ('laborous', 11375), ('imparing', 9999), ('secants', 19409), ('encircling', 6696), ('pulls', 17609), ('osseousintegration', 15108), ('minimisation', 13115), ('polyphosphazines', 16684), ('osteosyntheses', 15297), ('vinylpyrrolidone', 23210), ('arthrotomy', 1318), ('peripherally', 16035), ('hema', 9128), ('intraosseously', 10828), ('prosthesises', 17425), ('lubecker', 11949), ('disfigured', 5843), ('sterilisation', 20562), ('subcultivation', 20769), ('nonscrew', 14392), ('biointegrated', 2173), ('sealant', 19390), ('alpase', 691), ('nonsealed', 14393), ('heterogenous', 9218), ('middiaphyseal', 13026), ('beadless', 1868), ('fibroosseous', 7788), ('patellae', 15734), ('nonbone', 14232), ('ligamentoid', 11686), ('underreamed', 22645), ('fallacies', 7575), ('polysulfone', 16692), ('mibs', 12729), ('enchondromas', 6693), ('periotemp', 16032), ('abio', 41), ('danvers', 4986), ('cooler', 4424), ('enucleations', 6898), ('liquefaction', 11769), ('otolaryngologists', 15333), ('grote', 8828), ('sculpturing', 19378), ('germ', 8539), ('metaphosphate', 12633), ('ncap', 13929), ('fistulation', 7886), ('goldstein', 8695), ('subdivisions', 20778), ('roentgenographically', 18967), ('intracortically', 10797), ('unlabeled', 22773), ('extracortically', 7468), ('interrelationship', 10729), ('prolapse', 17324), ('radiomorphometry', 17850), ('consolidating', 4252), ('insecurity', 10463), ('maladaptive', 12121), ('socially', 20080), ('ingenious', 10376), ('freeing', 8228), ('embarking', 6611), ('accretion', 161), ('doughy', 6109), ('uhmwp', 22488), ('barbiturate', 1781), ('tubules', 22397), ('biosubstitutes', 2285), ('acb', 101), ('superimposable', 21003), ('abandon', 15), ('biolox', 2188), ('incongruent', 10184), ('abraded', 59), ('canadian', 2885), ('multinational', 13596), ('mucobuccal', 13529), ('oxygenation', 15521), ('carious', 3004), ('heretofore', 9204), ('antroplasty', 1075), ('cranin', 4661), ('exploits', 7403), ('accompanies', 141), ('denote', 5297), ('loma', 11861), ('quiz', 17785), ('neutrophilic', 14079), ('abutting', 95), ('monomeric', 13355), ('trabeculous', 22040), ('stripes', 20697), ('humate', 9548), ('bousquet', 2534), ('hemopoiesis', 9173), ('arrived', 1290), ('perth', 16103), ('macacus', 12023), ('spires', 20295), ('trademark', 22062), ('hench', 9182), ('stanley', 20458), ('ralph', 17881), ('cephalometrically', 3235), ('anecdote', 895), ('asseveration', 1404), ('euphoria', 7158), ('predicaments', 16977), ('cera', 3239), ('mina', 13085), ('microsomes', 12963), ('mvem', 13672), ('roentgenograms', 18965), ('micra', 12734), ('autopsies', 1631), ('walling', 23352), ('mills', 13076), ('nonconvincing', 14258), ('nonconducting', 14245), ('prolific', 17333), ('pursue', 17647), ('gammagraphy', 8401), ('scintimetric', 19323), ('explorations', 7405), ('gammagraphic', 8400), ('semipermeable', 19498), ('histiocytic', 9309), ('invites', 10913), ('speculation', 20259), ('erdheim', 7030), ('chester', 3394), ('hemisection', 9157), ('discerned', 5782), ('extensometers', 7449), ('reapplied', 18043), ('submergibility', 20809), ('cervices', 3270), ('leaking', 11551), ('evulsion', 7225), ('cautiously', 3107), ('oib', 14742), ('indistinct', 10256), ('perceptually', 15941), ('preloading', 17045), ('vsg', 23315), ('lfm', 11645), ('quickens', 17772), ('ingrowing', 10384), ('latus', 11504), ('looser', 11887), ('tympanic', 22457), ('biointegrates', 2174), ('axisymmetrical', 1693), ('carragheenin', 3012), ('overreamed', 15457), ('biosynthesis', 2288), ('taxing', 21355), ('palpatory', 15588), ('consented', 4218), ('anatomie', 874), ('hypersclerosis', 9689), ('crusts', 4745), ('diffract', 5651), ('noncrystalline', 14263), ('ultraclean', 22505), ('anesthetics', 903), ('rotor', 19006), ('hallmark', 8930), ('encompasses', 6703), ('grafton', 8750), ('abm', 50), ('syringes', 21259), ('interchangeably', 10600), ('downgrafting', 6116), ('readiness', 18013), ('lenses', 11598), ('flemish', 7947), ('tenure', 21479), ('nonbiodegradable', 14228), ('polydioxanone', 16624), ('valuation', 23003), ('partitioning', 15705), ('biodegradables', 2132), ('indwelling', 10283), ('transduces', 22112), ('calves', 2871), ('uncermented', 22574), ('intraarticular', 10785), ('deterred', 5510), ('bbsr', 1838), ('tvsp', 22440), ('alabama', 576), ('intermobile', 10691), ('supraplant', 21079), ('interosseous', 10702), ('microcapillary', 12768), ('proteodermatan', 17455), ('permiting', 16060), ('clasped', 3557), ('athletes', 1455), ('sport', 20336), ('season', 19401), ('synthograft', 21257), ('microsized', 12960), ('intercrystalline', 10614), ('microinterlock', 12859), ('bioingrowth', 2170), ('codesigner', 3713), ('periprosthetically', 16040), ('stereoscopic', 20556), ('stereographic', 20541), ('stereogrammetric', 20540), ('microswine', 12984), ('scalers', 19239), ('prereduced', 17088), ('pigmented', 16349), ('periodontometric', 16014), ('faeces', 7561), ('halogen', 8933), ('microcervical', 12773), ('waxy', 23400), ('pliable', 16513), ('pulverized', 17619), ('burnout', 2744), ('inconstant', 10189), ('bacteriologic', 1729), ('enteric', 6872), ('yeasts', 23708), ('morphotype', 13413), ('madrid', 12071), ('mendium', 12534), ('vauolae', 23055), ('transmigration', 22169), ('vacuolae', 22984), ('vmga', 23275), ('nonselective', 14394), ('mitis', 13194), ('prevotii', 17176), ('pseudomonads', 17543), ('microbiotas', 12764), ('innermost', 10440), ('ecosystem', 6354), ('skies', 19948), ('perron', 16081), ('andres', 891), ('chercheve', 3392), ('pasqualini', 15711), ('muratori', 13641), ('tramonte', 22079), ('names', 13726), ('osteofibrosis', 15202), ('dozens', 6135), ('quadricortical', 17716), ('isotopy', 11041), ('multicorticality', 13568), ('visor', 23242), ('inexplicable', 10297), ('configurating', 4129), ('responsibles', 18660), ('apogee', 1123), ('odontology', 14701), ('anatomo', 875), ('edentates', 6374), ('diakor', 5580), ('bioceramical', 2102), ('ankles', 942), ('ahead', 540), ('wolinella', 23593), ('recta', 18166), ('nonpigmented', 14368), ('capnocytophage', 2944), ('hag', 8917), ('hacm', 8900), ('preprocessed', 17085), ('extracranial', 7469), ('contaminate', 4309), ('indepth', 10228), ('kulzer', 11340), ('kal', 11199), ('semiloaded', 19494), ('staple', 20464), ('suprastructural', 21082), ('planification', 16431), ('coworking', 4624), ('biocopolymer', 2125), ('osteophytes', 15267), ('barometric', 1787), ('heterograft', 9219), ('wafering', 23333), ('deduction', 5130), ('microdensitometric', 12800), ('ziegler', 23767), ('girdlestone', 8583), ('luxations', 11985), ('weaves', 23427), ('weave', 23426), ('ceros', 3261), ('locus', 11847), ('uppsala', 22905), ('moistened', 13298), ('ofe', 14715), ('artifical', 1332), ('theatres', 21568), ('superalloys', 20986), ('imagination', 9887), ('genoid', 8511), ('prominences', 17343), ('tripod', 22326), ('reservicing', 18588), ('remediation', 18407), ('centering', 3207), ('misalignment', 13158), ('cuspid', 4869), ('salvaging', 19146), ('resourcefulness', 18640), ('admirably', 371), ('imaginations', 9888), ('overstepping', 15466), ('else', 6590), ('fallacious', 7576), ('ironic', 10969), ('postfunctional', 16797), ('infiltrations', 10324), ('partialyedentulous', 15683), ('psothetic', 17554), ('porsthesis', 16743), ('fashionable', 7607), ('unicondylar', 22719), ('morbus', 13387), ('amplifier', 812), ('implantsystem', 10061), ('frialite', 8250), ('stirred', 20603), ('columbia', 3828), ('retractable', 18738), ('principals', 17196), ('streamline', 20662), ('deny', 5350), ('claiming', 3542), ('yardstick', 23702), ('resort', 18637), ('seductive', 19443), ('psychogenic', 17562), ('occluso', 14652), ('ineptitude', 10287), ('acumen', 279), ('coupon', 4601), ('oxid', 15496), ('coworkers', 4623), ('interphase', 10708), ('bacteremia', 1722), ('ultrasonics', 22518), ('stepper', 20534), ('replicator', 18501), ('niznick', 14159), ('encino', 6694), ('interphases', 10709), ('retreived', 18745), ('espectrographic', 7076), ('espectroscope', 7077), ('gloved', 8627), ('follicles', 8053), ('hairless', 8921), ('diopside', 5724), ('anorthite', 973), ('brake', 2562), ('parting', 15703), ('microcasts', 12770), ('fuscata', 8347), ('anchorpin', 883), ('arteries', 1298), ('sprouted', 20354), ('leakages', 11550), ('sinusoids', 19903), ('stalked', 20442), ('plexus', 16508), ('redirection', 18186), ('malaligned', 12123), ('repopulation', 18504), ('microradiographical', 12927), ('aluminoxide', 729), ('something', 20142), ('odontgenic', 14694), ('myxoma', 13704), ('pectoral', 15856), ('epitaxis', 6967), ('realisation', 18022), ('phosphotungstic', 16240), ('meanings', 12408), ('grounded', 8830), ('devote', 5543), ('intermedullary', 10685), ('leached', 11540), ('bioracine', 2260), ('pinctade', 16360), ('mother', 13427), ('pound', 16872), ('popped', 16716), ('painstakingly', 15559), ('augers', 1559), ('diversification', 5992), ('hindsight', 9293), ('houncefield', 9474), ('glimpse', 8618), ('appatite', 1134), ('enjoying', 6831), ('exaggerating', 7240), ('dominate', 6060), ('existance', 7325), ('prothetic', 17465), ('restrations', 18685), ('restration', 18684), ('haemophilus', 8913), ('edentuleus', 6378), ('osteoankylosis', 15152), ('articulator', 1328), ('prewaxed', 17177), ('interspan', 10747), ('presservation', 17123), ('osseohysteria', 15064), ('osseostructural', 15102), ('endostal', 6777), ('biotes', 2297), ('magazines', 12073), ('teach', 21380), ('generalist', 8482), ('replete', 18492), ('homecare', 9407), ('recommending', 18121), ('bbc', 1832), ('gallocyanin', 8390), ('titanaloy', 21837), ('refutes', 18260), ('tetsch', 21534), ('strunz', 20725), ('schramm', 19303), ('scherrer', 19294), ('doomed', 6071), ('pathohistologic', 15749), ('harvard', 9020), ('economy', 6350), ('divisible', 6000), ('indefinitely', 10220), ('metadiaphyseal', 12606), ('neuroticism', 14066), ('extrovert', 7504), ('otosclerosis', 15342), ('fidelity', 7806), ('ingvar', 10388), ('attendant', 1510), ('executive', 7297), ('desirability', 5450), ('nonbiased', 14225), ('cylindres', 4916), ('arthrotic', 1317), ('ungrooved', 22711), ('psycho', 17561), ('handicaps', 8957), ('stereophotogrammetry', 20555), ('fibrocytes', 7776), ('deposed', 5383), ('neurocranial', 14038), ('splanchnocranial', 20301), ('unalloyed', 22548)])"
      ]
     },
     "execution_count": 16,
     "metadata": {},
     "output_type": "execute_result"
    }
   ],
   "source": [
    "vec.vocabulary_.items()"
   ]
  },
  {
   "cell_type": "code",
   "execution_count": 19,
   "metadata": {},
   "outputs": [
    {
     "data": {
      "text/plain": [
       "[('the', 123450),\n",
       " ('poor', 350),\n",
       " ('osseointegration', 9099),\n",
       " ('and', 73723),\n",
       " ('postoperative', 513)]"
      ]
     },
     "execution_count": 19,
     "metadata": {},
     "output_type": "execute_result"
    }
   ],
   "source": [
    "words_freq = [(word, sum_words[0, idx]) for word, idx in vec.vocabulary_.items()]\n",
    "words_freq[:5]"
   ]
  },
  {
   "cell_type": "code",
   "execution_count": 20,
   "metadata": {},
   "outputs": [
    {
     "data": {
      "text/html": [
       "<div>\n",
       "<style scoped>\n",
       "    .dataframe tbody tr th:only-of-type {\n",
       "        vertical-align: middle;\n",
       "    }\n",
       "\n",
       "    .dataframe tbody tr th {\n",
       "        vertical-align: top;\n",
       "    }\n",
       "\n",
       "    .dataframe thead th {\n",
       "        text-align: right;\n",
       "    }\n",
       "</style>\n",
       "<table border=\"1\" class=\"dataframe\">\n",
       "  <thead>\n",
       "    <tr style=\"text-align: right;\">\n",
       "      <th></th>\n",
       "      <th>abstractClean</th>\n",
       "      <th>count</th>\n",
       "    </tr>\n",
       "  </thead>\n",
       "  <tbody>\n",
       "    <tr>\n",
       "      <td>0</td>\n",
       "      <td>the</td>\n",
       "      <td>123450</td>\n",
       "    </tr>\n",
       "    <tr>\n",
       "      <td>1</td>\n",
       "      <td>of</td>\n",
       "      <td>84245</td>\n",
       "    </tr>\n",
       "    <tr>\n",
       "      <td>2</td>\n",
       "      <td>and</td>\n",
       "      <td>73723</td>\n",
       "    </tr>\n",
       "    <tr>\n",
       "      <td>3</td>\n",
       "      <td>in</td>\n",
       "      <td>49281</td>\n",
       "    </tr>\n",
       "    <tr>\n",
       "      <td>4</td>\n",
       "      <td>to</td>\n",
       "      <td>38024</td>\n",
       "    </tr>\n",
       "  </tbody>\n",
       "</table>\n",
       "</div>"
      ],
      "text/plain": [
       "  abstractClean   count\n",
       "0           the  123450\n",
       "1            of   84245\n",
       "2           and   73723\n",
       "3            in   49281\n",
       "4            to   38024"
      ]
     },
     "execution_count": 20,
     "metadata": {},
     "output_type": "execute_result"
    }
   ],
   "source": [
    "def get_top_n_words(corpus, n=None):\n",
    "    vec = CountVectorizer().fit(corpus)\n",
    "    bag_of_words = vec.transform(corpus)\n",
    "    sum_words = bag_of_words.sum(axis=0) \n",
    "    words_freq = [(word, sum_words[0, idx]) for word, idx in vec.vocabulary_.items()]\n",
    "    words_freq =sorted(words_freq, key = lambda x: x[1], reverse=True)\n",
    "    return words_freq[:n]\n",
    "common_words = get_top_n_words(df['abstractClean'], 20)\n",
    "df1 = pd.DataFrame(common_words, columns = ['abstractClean' , 'count'])\n",
    "df1.head()"
   ]
  },
  {
   "cell_type": "code",
   "execution_count": 23,
   "metadata": {},
   "outputs": [
    {
     "data": {
      "text/plain": [
       "19     9198\n",
       "18     9736\n",
       "17     9766\n",
       "16    10265\n",
       "15    10321\n",
       "Name: count, dtype: int64"
      ]
     },
     "execution_count": 23,
     "metadata": {},
     "output_type": "execute_result"
    }
   ],
   "source": [
    "df1['count'].sort_values()[:5]"
   ]
  },
  {
   "cell_type": "code",
   "execution_count": 22,
   "metadata": {
    "scrolled": true
   },
   "outputs": [
    {
     "data": {
      "text/plain": [
       "abstractClean\n",
       "is        9198\n",
       "after     9736\n",
       "study     9766\n",
       "this     10265\n",
       "that     10321\n",
       "Name: count, dtype: int64"
      ]
     },
     "execution_count": 22,
     "metadata": {},
     "output_type": "execute_result"
    }
   ],
   "source": [
    "df1.groupby('abstractClean').sum()['count'].sort_values()[:5]"
   ]
  },
  {
   "cell_type": "code",
   "execution_count": 21,
   "metadata": {},
   "outputs": [
    {
     "ename": "AttributeError",
     "evalue": "'Series' object has no attribute 'iplot'",
     "output_type": "error",
     "traceback": [
      "\u001b[1;31m---------------------------------------------------------------------------\u001b[0m",
      "\u001b[1;31mAttributeError\u001b[0m                            Traceback (most recent call last)",
      "\u001b[1;32m<ipython-input-21-a5c9dd84c63a>\u001b[0m in \u001b[0;36m<module>\u001b[1;34m\u001b[0m\n\u001b[1;32m----> 1\u001b[1;33m \u001b[0mdf1\u001b[0m\u001b[1;33m.\u001b[0m\u001b[0mgroupby\u001b[0m\u001b[1;33m(\u001b[0m\u001b[1;34m'abstractClean'\u001b[0m\u001b[1;33m)\u001b[0m\u001b[1;33m.\u001b[0m\u001b[0msum\u001b[0m\u001b[1;33m(\u001b[0m\u001b[1;33m)\u001b[0m\u001b[1;33m[\u001b[0m\u001b[1;34m'count'\u001b[0m\u001b[1;33m]\u001b[0m\u001b[1;33m.\u001b[0m\u001b[0msort_values\u001b[0m\u001b[1;33m(\u001b[0m\u001b[1;33m)\u001b[0m\u001b[1;33m.\u001b[0m\u001b[0miplot\u001b[0m\u001b[1;33m(\u001b[0m\u001b[0mkind\u001b[0m\u001b[1;33m=\u001b[0m\u001b[1;34m'barh'\u001b[0m\u001b[1;33m,\u001b[0m \u001b[0myTitle\u001b[0m\u001b[1;33m=\u001b[0m\u001b[1;34m'Count'\u001b[0m\u001b[1;33m,\u001b[0m \u001b[0mlinecolor\u001b[0m\u001b[1;33m=\u001b[0m\u001b[1;34m'black'\u001b[0m\u001b[1;33m,\u001b[0m \u001b[0mtitle\u001b[0m\u001b[1;33m=\u001b[0m\u001b[1;34m'Top 20 words before removing stop words'\u001b[0m\u001b[1;33m)\u001b[0m\u001b[1;33m\u001b[0m\u001b[1;33m\u001b[0m\u001b[0m\n\u001b[0m",
      "\u001b[1;32m~\\AppData\\Local\\Continuum\\anaconda3\\lib\\site-packages\\pandas\\core\\generic.py\u001b[0m in \u001b[0;36m__getattr__\u001b[1;34m(self, name)\u001b[0m\n\u001b[0;32m   5177\u001b[0m             \u001b[1;32mif\u001b[0m \u001b[0mself\u001b[0m\u001b[1;33m.\u001b[0m\u001b[0m_info_axis\u001b[0m\u001b[1;33m.\u001b[0m\u001b[0m_can_hold_identifiers_and_holds_name\u001b[0m\u001b[1;33m(\u001b[0m\u001b[0mname\u001b[0m\u001b[1;33m)\u001b[0m\u001b[1;33m:\u001b[0m\u001b[1;33m\u001b[0m\u001b[1;33m\u001b[0m\u001b[0m\n\u001b[0;32m   5178\u001b[0m                 \u001b[1;32mreturn\u001b[0m \u001b[0mself\u001b[0m\u001b[1;33m[\u001b[0m\u001b[0mname\u001b[0m\u001b[1;33m]\u001b[0m\u001b[1;33m\u001b[0m\u001b[1;33m\u001b[0m\u001b[0m\n\u001b[1;32m-> 5179\u001b[1;33m             \u001b[1;32mreturn\u001b[0m \u001b[0mobject\u001b[0m\u001b[1;33m.\u001b[0m\u001b[0m__getattribute__\u001b[0m\u001b[1;33m(\u001b[0m\u001b[0mself\u001b[0m\u001b[1;33m,\u001b[0m \u001b[0mname\u001b[0m\u001b[1;33m)\u001b[0m\u001b[1;33m\u001b[0m\u001b[1;33m\u001b[0m\u001b[0m\n\u001b[0m\u001b[0;32m   5180\u001b[0m \u001b[1;33m\u001b[0m\u001b[0m\n\u001b[0;32m   5181\u001b[0m     \u001b[1;32mdef\u001b[0m \u001b[0m__setattr__\u001b[0m\u001b[1;33m(\u001b[0m\u001b[0mself\u001b[0m\u001b[1;33m,\u001b[0m \u001b[0mname\u001b[0m\u001b[1;33m,\u001b[0m \u001b[0mvalue\u001b[0m\u001b[1;33m)\u001b[0m\u001b[1;33m:\u001b[0m\u001b[1;33m\u001b[0m\u001b[1;33m\u001b[0m\u001b[0m\n",
      "\u001b[1;31mAttributeError\u001b[0m: 'Series' object has no attribute 'iplot'"
     ]
    }
   ],
   "source": [
    "df1.groupby('abstractClean').sum()['count'].sort_values().iplot(kind='barh', yTitle='Count', linecolor='black', title='Top 20 words before removing stop words')\n"
   ]
  },
  {
   "cell_type": "markdown",
   "metadata": {},
   "source": [
    "### Visualize Token (vocabulary) Frequency Distribution After Removing Stop Words"
   ]
  },
  {
   "cell_type": "code",
   "execution_count": 16,
   "metadata": {},
   "outputs": [
    {
     "data": {
      "application/vnd.plotly.v1+json": {
       "config": {
        "linkText": "Export to plot.ly",
        "plotlyServerURL": "https://plot.ly",
        "showLink": true
       },
       "data": [
        {
         "marker": {
          "color": "rgba(226, 74, 51, 0.6)",
          "line": {
           "color": "rgba(226, 74, 51, 1.0)",
           "width": 1
          }
         },
         "name": "count",
         "orientation": "h",
         "text": "",
         "type": "bar",
         "x": [
          4156,
          4310,
          4431,
          4537,
          4573,
          4879,
          4951,
          5084,
          5782,
          6623,
          6700,
          7312,
          7533,
          7984,
          9099,
          9099,
          9766,
          30536,
          34314,
          35181
         ],
         "y": [
          "used",
          "healing",
          "placed",
          "using",
          "months",
          "clinical",
          "weeks",
          "tissue",
          "mm",
          "dental",
          "group",
          "patients",
          "results",
          "titanium",
          "osseointegration",
          "surface",
          "study",
          "implants",
          "implant",
          "bone"
         ]
        }
       ],
       "layout": {
        "legend": {
         "bgcolor": "#FFFFFF",
         "font": {
          "color": "#666666"
         }
        },
        "paper_bgcolor": "#FFFFFF",
        "plot_bgcolor": "#E5E5E5",
        "template": {
         "data": {
          "bar": [
           {
            "error_x": {
             "color": "#2a3f5f"
            },
            "error_y": {
             "color": "#2a3f5f"
            },
            "marker": {
             "line": {
              "color": "#E5ECF6",
              "width": 0.5
             }
            },
            "type": "bar"
           }
          ],
          "barpolar": [
           {
            "marker": {
             "line": {
              "color": "#E5ECF6",
              "width": 0.5
             }
            },
            "type": "barpolar"
           }
          ],
          "carpet": [
           {
            "aaxis": {
             "endlinecolor": "#2a3f5f",
             "gridcolor": "white",
             "linecolor": "white",
             "minorgridcolor": "white",
             "startlinecolor": "#2a3f5f"
            },
            "baxis": {
             "endlinecolor": "#2a3f5f",
             "gridcolor": "white",
             "linecolor": "white",
             "minorgridcolor": "white",
             "startlinecolor": "#2a3f5f"
            },
            "type": "carpet"
           }
          ],
          "choropleth": [
           {
            "colorbar": {
             "outlinewidth": 0,
             "ticks": ""
            },
            "type": "choropleth"
           }
          ],
          "contour": [
           {
            "colorbar": {
             "outlinewidth": 0,
             "ticks": ""
            },
            "colorscale": [
             [
              0,
              "#0d0887"
             ],
             [
              0.1111111111111111,
              "#46039f"
             ],
             [
              0.2222222222222222,
              "#7201a8"
             ],
             [
              0.3333333333333333,
              "#9c179e"
             ],
             [
              0.4444444444444444,
              "#bd3786"
             ],
             [
              0.5555555555555556,
              "#d8576b"
             ],
             [
              0.6666666666666666,
              "#ed7953"
             ],
             [
              0.7777777777777778,
              "#fb9f3a"
             ],
             [
              0.8888888888888888,
              "#fdca26"
             ],
             [
              1,
              "#f0f921"
             ]
            ],
            "type": "contour"
           }
          ],
          "contourcarpet": [
           {
            "colorbar": {
             "outlinewidth": 0,
             "ticks": ""
            },
            "type": "contourcarpet"
           }
          ],
          "heatmap": [
           {
            "colorbar": {
             "outlinewidth": 0,
             "ticks": ""
            },
            "colorscale": [
             [
              0,
              "#0d0887"
             ],
             [
              0.1111111111111111,
              "#46039f"
             ],
             [
              0.2222222222222222,
              "#7201a8"
             ],
             [
              0.3333333333333333,
              "#9c179e"
             ],
             [
              0.4444444444444444,
              "#bd3786"
             ],
             [
              0.5555555555555556,
              "#d8576b"
             ],
             [
              0.6666666666666666,
              "#ed7953"
             ],
             [
              0.7777777777777778,
              "#fb9f3a"
             ],
             [
              0.8888888888888888,
              "#fdca26"
             ],
             [
              1,
              "#f0f921"
             ]
            ],
            "type": "heatmap"
           }
          ],
          "heatmapgl": [
           {
            "colorbar": {
             "outlinewidth": 0,
             "ticks": ""
            },
            "colorscale": [
             [
              0,
              "#0d0887"
             ],
             [
              0.1111111111111111,
              "#46039f"
             ],
             [
              0.2222222222222222,
              "#7201a8"
             ],
             [
              0.3333333333333333,
              "#9c179e"
             ],
             [
              0.4444444444444444,
              "#bd3786"
             ],
             [
              0.5555555555555556,
              "#d8576b"
             ],
             [
              0.6666666666666666,
              "#ed7953"
             ],
             [
              0.7777777777777778,
              "#fb9f3a"
             ],
             [
              0.8888888888888888,
              "#fdca26"
             ],
             [
              1,
              "#f0f921"
             ]
            ],
            "type": "heatmapgl"
           }
          ],
          "histogram": [
           {
            "marker": {
             "colorbar": {
              "outlinewidth": 0,
              "ticks": ""
             }
            },
            "type": "histogram"
           }
          ],
          "histogram2d": [
           {
            "colorbar": {
             "outlinewidth": 0,
             "ticks": ""
            },
            "colorscale": [
             [
              0,
              "#0d0887"
             ],
             [
              0.1111111111111111,
              "#46039f"
             ],
             [
              0.2222222222222222,
              "#7201a8"
             ],
             [
              0.3333333333333333,
              "#9c179e"
             ],
             [
              0.4444444444444444,
              "#bd3786"
             ],
             [
              0.5555555555555556,
              "#d8576b"
             ],
             [
              0.6666666666666666,
              "#ed7953"
             ],
             [
              0.7777777777777778,
              "#fb9f3a"
             ],
             [
              0.8888888888888888,
              "#fdca26"
             ],
             [
              1,
              "#f0f921"
             ]
            ],
            "type": "histogram2d"
           }
          ],
          "histogram2dcontour": [
           {
            "colorbar": {
             "outlinewidth": 0,
             "ticks": ""
            },
            "colorscale": [
             [
              0,
              "#0d0887"
             ],
             [
              0.1111111111111111,
              "#46039f"
             ],
             [
              0.2222222222222222,
              "#7201a8"
             ],
             [
              0.3333333333333333,
              "#9c179e"
             ],
             [
              0.4444444444444444,
              "#bd3786"
             ],
             [
              0.5555555555555556,
              "#d8576b"
             ],
             [
              0.6666666666666666,
              "#ed7953"
             ],
             [
              0.7777777777777778,
              "#fb9f3a"
             ],
             [
              0.8888888888888888,
              "#fdca26"
             ],
             [
              1,
              "#f0f921"
             ]
            ],
            "type": "histogram2dcontour"
           }
          ],
          "mesh3d": [
           {
            "colorbar": {
             "outlinewidth": 0,
             "ticks": ""
            },
            "type": "mesh3d"
           }
          ],
          "parcoords": [
           {
            "line": {
             "colorbar": {
              "outlinewidth": 0,
              "ticks": ""
             }
            },
            "type": "parcoords"
           }
          ],
          "scatter": [
           {
            "marker": {
             "colorbar": {
              "outlinewidth": 0,
              "ticks": ""
             }
            },
            "type": "scatter"
           }
          ],
          "scatter3d": [
           {
            "line": {
             "colorbar": {
              "outlinewidth": 0,
              "ticks": ""
             }
            },
            "marker": {
             "colorbar": {
              "outlinewidth": 0,
              "ticks": ""
             }
            },
            "type": "scatter3d"
           }
          ],
          "scattercarpet": [
           {
            "marker": {
             "colorbar": {
              "outlinewidth": 0,
              "ticks": ""
             }
            },
            "type": "scattercarpet"
           }
          ],
          "scattergeo": [
           {
            "marker": {
             "colorbar": {
              "outlinewidth": 0,
              "ticks": ""
             }
            },
            "type": "scattergeo"
           }
          ],
          "scattergl": [
           {
            "marker": {
             "colorbar": {
              "outlinewidth": 0,
              "ticks": ""
             }
            },
            "type": "scattergl"
           }
          ],
          "scattermapbox": [
           {
            "marker": {
             "colorbar": {
              "outlinewidth": 0,
              "ticks": ""
             }
            },
            "type": "scattermapbox"
           }
          ],
          "scatterpolar": [
           {
            "marker": {
             "colorbar": {
              "outlinewidth": 0,
              "ticks": ""
             }
            },
            "type": "scatterpolar"
           }
          ],
          "scatterpolargl": [
           {
            "marker": {
             "colorbar": {
              "outlinewidth": 0,
              "ticks": ""
             }
            },
            "type": "scatterpolargl"
           }
          ],
          "scatterternary": [
           {
            "marker": {
             "colorbar": {
              "outlinewidth": 0,
              "ticks": ""
             }
            },
            "type": "scatterternary"
           }
          ],
          "surface": [
           {
            "colorbar": {
             "outlinewidth": 0,
             "ticks": ""
            },
            "colorscale": [
             [
              0,
              "#0d0887"
             ],
             [
              0.1111111111111111,
              "#46039f"
             ],
             [
              0.2222222222222222,
              "#7201a8"
             ],
             [
              0.3333333333333333,
              "#9c179e"
             ],
             [
              0.4444444444444444,
              "#bd3786"
             ],
             [
              0.5555555555555556,
              "#d8576b"
             ],
             [
              0.6666666666666666,
              "#ed7953"
             ],
             [
              0.7777777777777778,
              "#fb9f3a"
             ],
             [
              0.8888888888888888,
              "#fdca26"
             ],
             [
              1,
              "#f0f921"
             ]
            ],
            "type": "surface"
           }
          ],
          "table": [
           {
            "cells": {
             "fill": {
              "color": "#EBF0F8"
             },
             "line": {
              "color": "white"
             }
            },
            "header": {
             "fill": {
              "color": "#C8D4E3"
             },
             "line": {
              "color": "white"
             }
            },
            "type": "table"
           }
          ]
         },
         "layout": {
          "annotationdefaults": {
           "arrowcolor": "#2a3f5f",
           "arrowhead": 0,
           "arrowwidth": 1
          },
          "colorscale": {
           "diverging": [
            [
             0,
             "#8e0152"
            ],
            [
             0.1,
             "#c51b7d"
            ],
            [
             0.2,
             "#de77ae"
            ],
            [
             0.3,
             "#f1b6da"
            ],
            [
             0.4,
             "#fde0ef"
            ],
            [
             0.5,
             "#f7f7f7"
            ],
            [
             0.6,
             "#e6f5d0"
            ],
            [
             0.7,
             "#b8e186"
            ],
            [
             0.8,
             "#7fbc41"
            ],
            [
             0.9,
             "#4d9221"
            ],
            [
             1,
             "#276419"
            ]
           ],
           "sequential": [
            [
             0,
             "#0d0887"
            ],
            [
             0.1111111111111111,
             "#46039f"
            ],
            [
             0.2222222222222222,
             "#7201a8"
            ],
            [
             0.3333333333333333,
             "#9c179e"
            ],
            [
             0.4444444444444444,
             "#bd3786"
            ],
            [
             0.5555555555555556,
             "#d8576b"
            ],
            [
             0.6666666666666666,
             "#ed7953"
            ],
            [
             0.7777777777777778,
             "#fb9f3a"
            ],
            [
             0.8888888888888888,
             "#fdca26"
            ],
            [
             1,
             "#f0f921"
            ]
           ],
           "sequentialminus": [
            [
             0,
             "#0d0887"
            ],
            [
             0.1111111111111111,
             "#46039f"
            ],
            [
             0.2222222222222222,
             "#7201a8"
            ],
            [
             0.3333333333333333,
             "#9c179e"
            ],
            [
             0.4444444444444444,
             "#bd3786"
            ],
            [
             0.5555555555555556,
             "#d8576b"
            ],
            [
             0.6666666666666666,
             "#ed7953"
            ],
            [
             0.7777777777777778,
             "#fb9f3a"
            ],
            [
             0.8888888888888888,
             "#fdca26"
            ],
            [
             1,
             "#f0f921"
            ]
           ]
          },
          "colorway": [
           "#636efa",
           "#EF553B",
           "#00cc96",
           "#ab63fa",
           "#FFA15A",
           "#19d3f3",
           "#FF6692",
           "#B6E880",
           "#FF97FF",
           "#FECB52"
          ],
          "font": {
           "color": "#2a3f5f"
          },
          "geo": {
           "bgcolor": "white",
           "lakecolor": "white",
           "landcolor": "#E5ECF6",
           "showlakes": true,
           "showland": true,
           "subunitcolor": "white"
          },
          "hoverlabel": {
           "align": "left"
          },
          "hovermode": "closest",
          "mapbox": {
           "style": "light"
          },
          "paper_bgcolor": "white",
          "plot_bgcolor": "#E5ECF6",
          "polar": {
           "angularaxis": {
            "gridcolor": "white",
            "linecolor": "white",
            "ticks": ""
           },
           "bgcolor": "#E5ECF6",
           "radialaxis": {
            "gridcolor": "white",
            "linecolor": "white",
            "ticks": ""
           }
          },
          "scene": {
           "xaxis": {
            "backgroundcolor": "#E5ECF6",
            "gridcolor": "white",
            "gridwidth": 2,
            "linecolor": "white",
            "showbackground": true,
            "ticks": "",
            "zerolinecolor": "white"
           },
           "yaxis": {
            "backgroundcolor": "#E5ECF6",
            "gridcolor": "white",
            "gridwidth": 2,
            "linecolor": "white",
            "showbackground": true,
            "ticks": "",
            "zerolinecolor": "white"
           },
           "zaxis": {
            "backgroundcolor": "#E5ECF6",
            "gridcolor": "white",
            "gridwidth": 2,
            "linecolor": "white",
            "showbackground": true,
            "ticks": "",
            "zerolinecolor": "white"
           }
          },
          "shapedefaults": {
           "line": {
            "color": "#2a3f5f"
           }
          },
          "ternary": {
           "aaxis": {
            "gridcolor": "white",
            "linecolor": "white",
            "ticks": ""
           },
           "baxis": {
            "gridcolor": "white",
            "linecolor": "white",
            "ticks": ""
           },
           "bgcolor": "#E5ECF6",
           "caxis": {
            "gridcolor": "white",
            "linecolor": "white",
            "ticks": ""
           }
          },
          "title": {
           "x": 0.05
          },
          "xaxis": {
           "automargin": true,
           "gridcolor": "white",
           "linecolor": "white",
           "ticks": "",
           "zerolinecolor": "white",
           "zerolinewidth": 2
          },
          "yaxis": {
           "automargin": true,
           "gridcolor": "white",
           "linecolor": "white",
           "ticks": "",
           "zerolinecolor": "white",
           "zerolinewidth": 2
          }
         }
        },
        "title": {
         "font": {
          "color": "#151516"
         },
         "text": "Top 20 words after removing stop words"
        },
        "xaxis": {
         "gridcolor": "#F6F6F6",
         "linecolor": "black",
         "showgrid": true,
         "tickfont": {
          "color": "#666666"
         },
         "title": {
          "font": {
           "color": "#666666"
          },
          "text": ""
         },
         "zerolinecolor": "#F6F6F6"
        },
        "yaxis": {
         "gridcolor": "#F6F6F6",
         "linecolor": "black",
         "showgrid": true,
         "tickfont": {
          "color": "#666666"
         },
         "title": {
          "font": {
           "color": "#666666"
          },
          "text": "Count"
         },
         "zerolinecolor": "#F6F6F6"
        }
       }
      },
      "text/html": [
       "<div>\n",
       "        \n",
       "        \n",
       "            <div id=\"379270fe-3d5a-4ea0-a5e4-8685b647b527\" class=\"plotly-graph-div\" style=\"height:525px; width:100%;\"></div>\n",
       "            <script type=\"text/javascript\">\n",
       "                require([\"plotly\"], function(Plotly) {\n",
       "                    window.PLOTLYENV=window.PLOTLYENV || {};\n",
       "                    window.PLOTLYENV.BASE_URL='https://plot.ly';\n",
       "                    \n",
       "                if (document.getElementById(\"379270fe-3d5a-4ea0-a5e4-8685b647b527\")) {\n",
       "                    Plotly.newPlot(\n",
       "                        '379270fe-3d5a-4ea0-a5e4-8685b647b527',\n",
       "                        [{\"marker\": {\"color\": \"rgba(226, 74, 51, 0.6)\", \"line\": {\"color\": \"rgba(226, 74, 51, 1.0)\", \"width\": 1}}, \"name\": \"count\", \"orientation\": \"h\", \"text\": \"\", \"type\": \"bar\", \"x\": [4156, 4310, 4431, 4537, 4573, 4879, 4951, 5084, 5782, 6623, 6700, 7312, 7533, 7984, 9099, 9099, 9766, 30536, 34314, 35181], \"y\": [\"used\", \"healing\", \"placed\", \"using\", \"months\", \"clinical\", \"weeks\", \"tissue\", \"mm\", \"dental\", \"group\", \"patients\", \"results\", \"titanium\", \"osseointegration\", \"surface\", \"study\", \"implants\", \"implant\", \"bone\"]}],\n",
       "                        {\"legend\": {\"bgcolor\": \"#FFFFFF\", \"font\": {\"color\": \"#666666\"}}, \"paper_bgcolor\": \"#FFFFFF\", \"plot_bgcolor\": \"#E5E5E5\", \"template\": {\"data\": {\"bar\": [{\"error_x\": {\"color\": \"#2a3f5f\"}, \"error_y\": {\"color\": \"#2a3f5f\"}, \"marker\": {\"line\": {\"color\": \"#E5ECF6\", \"width\": 0.5}}, \"type\": \"bar\"}], \"barpolar\": [{\"marker\": {\"line\": {\"color\": \"#E5ECF6\", \"width\": 0.5}}, \"type\": \"barpolar\"}], \"carpet\": [{\"aaxis\": {\"endlinecolor\": \"#2a3f5f\", \"gridcolor\": \"white\", \"linecolor\": \"white\", \"minorgridcolor\": \"white\", \"startlinecolor\": \"#2a3f5f\"}, \"baxis\": {\"endlinecolor\": \"#2a3f5f\", \"gridcolor\": \"white\", \"linecolor\": \"white\", \"minorgridcolor\": \"white\", \"startlinecolor\": \"#2a3f5f\"}, \"type\": \"carpet\"}], \"choropleth\": [{\"colorbar\": {\"outlinewidth\": 0, \"ticks\": \"\"}, \"type\": \"choropleth\"}], \"contour\": [{\"colorbar\": {\"outlinewidth\": 0, \"ticks\": \"\"}, \"colorscale\": [[0.0, \"#0d0887\"], [0.1111111111111111, \"#46039f\"], [0.2222222222222222, \"#7201a8\"], [0.3333333333333333, \"#9c179e\"], [0.4444444444444444, \"#bd3786\"], [0.5555555555555556, \"#d8576b\"], [0.6666666666666666, \"#ed7953\"], [0.7777777777777778, \"#fb9f3a\"], [0.8888888888888888, \"#fdca26\"], [1.0, \"#f0f921\"]], \"type\": \"contour\"}], \"contourcarpet\": [{\"colorbar\": {\"outlinewidth\": 0, \"ticks\": \"\"}, \"type\": \"contourcarpet\"}], \"heatmap\": [{\"colorbar\": {\"outlinewidth\": 0, \"ticks\": \"\"}, \"colorscale\": [[0.0, \"#0d0887\"], [0.1111111111111111, \"#46039f\"], [0.2222222222222222, \"#7201a8\"], [0.3333333333333333, \"#9c179e\"], [0.4444444444444444, \"#bd3786\"], [0.5555555555555556, \"#d8576b\"], [0.6666666666666666, \"#ed7953\"], [0.7777777777777778, \"#fb9f3a\"], [0.8888888888888888, \"#fdca26\"], [1.0, \"#f0f921\"]], \"type\": \"heatmap\"}], \"heatmapgl\": [{\"colorbar\": {\"outlinewidth\": 0, \"ticks\": \"\"}, \"colorscale\": [[0.0, \"#0d0887\"], [0.1111111111111111, \"#46039f\"], [0.2222222222222222, \"#7201a8\"], [0.3333333333333333, \"#9c179e\"], [0.4444444444444444, \"#bd3786\"], [0.5555555555555556, \"#d8576b\"], [0.6666666666666666, \"#ed7953\"], [0.7777777777777778, \"#fb9f3a\"], [0.8888888888888888, \"#fdca26\"], [1.0, \"#f0f921\"]], \"type\": \"heatmapgl\"}], \"histogram\": [{\"marker\": {\"colorbar\": {\"outlinewidth\": 0, \"ticks\": \"\"}}, \"type\": \"histogram\"}], \"histogram2d\": [{\"colorbar\": {\"outlinewidth\": 0, \"ticks\": \"\"}, \"colorscale\": [[0.0, \"#0d0887\"], [0.1111111111111111, \"#46039f\"], [0.2222222222222222, \"#7201a8\"], [0.3333333333333333, \"#9c179e\"], [0.4444444444444444, \"#bd3786\"], [0.5555555555555556, \"#d8576b\"], [0.6666666666666666, \"#ed7953\"], [0.7777777777777778, \"#fb9f3a\"], [0.8888888888888888, \"#fdca26\"], [1.0, \"#f0f921\"]], \"type\": \"histogram2d\"}], \"histogram2dcontour\": [{\"colorbar\": {\"outlinewidth\": 0, \"ticks\": \"\"}, \"colorscale\": [[0.0, \"#0d0887\"], [0.1111111111111111, \"#46039f\"], [0.2222222222222222, \"#7201a8\"], [0.3333333333333333, \"#9c179e\"], [0.4444444444444444, \"#bd3786\"], [0.5555555555555556, \"#d8576b\"], [0.6666666666666666, \"#ed7953\"], [0.7777777777777778, \"#fb9f3a\"], [0.8888888888888888, \"#fdca26\"], [1.0, \"#f0f921\"]], \"type\": \"histogram2dcontour\"}], \"mesh3d\": [{\"colorbar\": {\"outlinewidth\": 0, \"ticks\": \"\"}, \"type\": \"mesh3d\"}], \"parcoords\": [{\"line\": {\"colorbar\": {\"outlinewidth\": 0, \"ticks\": \"\"}}, \"type\": \"parcoords\"}], \"scatter\": [{\"marker\": {\"colorbar\": {\"outlinewidth\": 0, \"ticks\": \"\"}}, \"type\": \"scatter\"}], \"scatter3d\": [{\"line\": {\"colorbar\": {\"outlinewidth\": 0, \"ticks\": \"\"}}, \"marker\": {\"colorbar\": {\"outlinewidth\": 0, \"ticks\": \"\"}}, \"type\": \"scatter3d\"}], \"scattercarpet\": [{\"marker\": {\"colorbar\": {\"outlinewidth\": 0, \"ticks\": \"\"}}, \"type\": \"scattercarpet\"}], \"scattergeo\": [{\"marker\": {\"colorbar\": {\"outlinewidth\": 0, \"ticks\": \"\"}}, \"type\": \"scattergeo\"}], \"scattergl\": [{\"marker\": {\"colorbar\": {\"outlinewidth\": 0, \"ticks\": \"\"}}, \"type\": \"scattergl\"}], \"scattermapbox\": [{\"marker\": {\"colorbar\": {\"outlinewidth\": 0, \"ticks\": \"\"}}, \"type\": \"scattermapbox\"}], \"scatterpolar\": [{\"marker\": {\"colorbar\": {\"outlinewidth\": 0, \"ticks\": \"\"}}, \"type\": \"scatterpolar\"}], \"scatterpolargl\": [{\"marker\": {\"colorbar\": {\"outlinewidth\": 0, \"ticks\": \"\"}}, \"type\": \"scatterpolargl\"}], \"scatterternary\": [{\"marker\": {\"colorbar\": {\"outlinewidth\": 0, \"ticks\": \"\"}}, \"type\": \"scatterternary\"}], \"surface\": [{\"colorbar\": {\"outlinewidth\": 0, \"ticks\": \"\"}, \"colorscale\": [[0.0, \"#0d0887\"], [0.1111111111111111, \"#46039f\"], [0.2222222222222222, \"#7201a8\"], [0.3333333333333333, \"#9c179e\"], [0.4444444444444444, \"#bd3786\"], [0.5555555555555556, \"#d8576b\"], [0.6666666666666666, \"#ed7953\"], [0.7777777777777778, \"#fb9f3a\"], [0.8888888888888888, \"#fdca26\"], [1.0, \"#f0f921\"]], \"type\": \"surface\"}], \"table\": [{\"cells\": {\"fill\": {\"color\": \"#EBF0F8\"}, \"line\": {\"color\": \"white\"}}, \"header\": {\"fill\": {\"color\": \"#C8D4E3\"}, \"line\": {\"color\": \"white\"}}, \"type\": \"table\"}]}, \"layout\": {\"annotationdefaults\": {\"arrowcolor\": \"#2a3f5f\", \"arrowhead\": 0, \"arrowwidth\": 1}, \"colorscale\": {\"diverging\": [[0, \"#8e0152\"], [0.1, \"#c51b7d\"], [0.2, \"#de77ae\"], [0.3, \"#f1b6da\"], [0.4, \"#fde0ef\"], [0.5, \"#f7f7f7\"], [0.6, \"#e6f5d0\"], [0.7, \"#b8e186\"], [0.8, \"#7fbc41\"], [0.9, \"#4d9221\"], [1, \"#276419\"]], \"sequential\": [[0.0, \"#0d0887\"], [0.1111111111111111, \"#46039f\"], [0.2222222222222222, \"#7201a8\"], [0.3333333333333333, \"#9c179e\"], [0.4444444444444444, \"#bd3786\"], [0.5555555555555556, \"#d8576b\"], [0.6666666666666666, \"#ed7953\"], [0.7777777777777778, \"#fb9f3a\"], [0.8888888888888888, \"#fdca26\"], [1.0, \"#f0f921\"]], \"sequentialminus\": [[0.0, \"#0d0887\"], [0.1111111111111111, \"#46039f\"], [0.2222222222222222, \"#7201a8\"], [0.3333333333333333, \"#9c179e\"], [0.4444444444444444, \"#bd3786\"], [0.5555555555555556, \"#d8576b\"], [0.6666666666666666, \"#ed7953\"], [0.7777777777777778, \"#fb9f3a\"], [0.8888888888888888, \"#fdca26\"], [1.0, \"#f0f921\"]]}, \"colorway\": [\"#636efa\", \"#EF553B\", \"#00cc96\", \"#ab63fa\", \"#FFA15A\", \"#19d3f3\", \"#FF6692\", \"#B6E880\", \"#FF97FF\", \"#FECB52\"], \"font\": {\"color\": \"#2a3f5f\"}, \"geo\": {\"bgcolor\": \"white\", \"lakecolor\": \"white\", \"landcolor\": \"#E5ECF6\", \"showlakes\": true, \"showland\": true, \"subunitcolor\": \"white\"}, \"hoverlabel\": {\"align\": \"left\"}, \"hovermode\": \"closest\", \"mapbox\": {\"style\": \"light\"}, \"paper_bgcolor\": \"white\", \"plot_bgcolor\": \"#E5ECF6\", \"polar\": {\"angularaxis\": {\"gridcolor\": \"white\", \"linecolor\": \"white\", \"ticks\": \"\"}, \"bgcolor\": \"#E5ECF6\", \"radialaxis\": {\"gridcolor\": \"white\", \"linecolor\": \"white\", \"ticks\": \"\"}}, \"scene\": {\"xaxis\": {\"backgroundcolor\": \"#E5ECF6\", \"gridcolor\": \"white\", \"gridwidth\": 2, \"linecolor\": \"white\", \"showbackground\": true, \"ticks\": \"\", \"zerolinecolor\": \"white\"}, \"yaxis\": {\"backgroundcolor\": \"#E5ECF6\", \"gridcolor\": \"white\", \"gridwidth\": 2, \"linecolor\": \"white\", \"showbackground\": true, \"ticks\": \"\", \"zerolinecolor\": \"white\"}, \"zaxis\": {\"backgroundcolor\": \"#E5ECF6\", \"gridcolor\": \"white\", \"gridwidth\": 2, \"linecolor\": \"white\", \"showbackground\": true, \"ticks\": \"\", \"zerolinecolor\": \"white\"}}, \"shapedefaults\": {\"line\": {\"color\": \"#2a3f5f\"}}, \"ternary\": {\"aaxis\": {\"gridcolor\": \"white\", \"linecolor\": \"white\", \"ticks\": \"\"}, \"baxis\": {\"gridcolor\": \"white\", \"linecolor\": \"white\", \"ticks\": \"\"}, \"bgcolor\": \"#E5ECF6\", \"caxis\": {\"gridcolor\": \"white\", \"linecolor\": \"white\", \"ticks\": \"\"}}, \"title\": {\"x\": 0.05}, \"xaxis\": {\"automargin\": true, \"gridcolor\": \"white\", \"linecolor\": \"white\", \"ticks\": \"\", \"zerolinecolor\": \"white\", \"zerolinewidth\": 2}, \"yaxis\": {\"automargin\": true, \"gridcolor\": \"white\", \"linecolor\": \"white\", \"ticks\": \"\", \"zerolinecolor\": \"white\", \"zerolinewidth\": 2}}}, \"title\": {\"font\": {\"color\": \"#151516\"}, \"text\": \"Top 20 words after removing stop words\"}, \"xaxis\": {\"gridcolor\": \"#F6F6F6\", \"linecolor\": \"black\", \"showgrid\": true, \"tickfont\": {\"color\": \"#666666\"}, \"title\": {\"font\": {\"color\": \"#666666\"}, \"text\": \"\"}, \"zerolinecolor\": \"#F6F6F6\"}, \"yaxis\": {\"gridcolor\": \"#F6F6F6\", \"linecolor\": \"black\", \"showgrid\": true, \"tickfont\": {\"color\": \"#666666\"}, \"title\": {\"font\": {\"color\": \"#666666\"}, \"text\": \"Count\"}, \"zerolinecolor\": \"#F6F6F6\"}},\n",
       "                        {\"showLink\": true, \"linkText\": \"Export to plot.ly\", \"plotlyServerURL\": \"https://plot.ly\", \"responsive\": true}\n",
       "                    ).then(function(){\n",
       "                            \n",
       "var gd = document.getElementById('379270fe-3d5a-4ea0-a5e4-8685b647b527');\n",
       "var x = new MutationObserver(function (mutations, observer) {{\n",
       "        var display = window.getComputedStyle(gd).display;\n",
       "        if (!display || display === 'none') {{\n",
       "            console.log([gd, 'removed!']);\n",
       "            Plotly.purge(gd);\n",
       "            observer.disconnect();\n",
       "        }}\n",
       "}});\n",
       "\n",
       "// Listen for the removal of the full notebook cells\n",
       "var notebookContainer = gd.closest('#notebook-container');\n",
       "if (notebookContainer) {{\n",
       "    x.observe(notebookContainer, {childList: true});\n",
       "}}\n",
       "\n",
       "// Listen for the clearing of the current output cell\n",
       "var outputEl = gd.closest('.output');\n",
       "if (outputEl) {{\n",
       "    x.observe(outputEl, {childList: true});\n",
       "}}\n",
       "\n",
       "                        })\n",
       "                };\n",
       "                });\n",
       "            </script>\n",
       "        </div>"
      ]
     },
     "metadata": {},
     "output_type": "display_data"
    }
   ],
   "source": [
    "def get_top_n_words(corpus, n=None):\n",
    "    vec = CountVectorizer(stop_words='english').fit(corpus)\n",
    "    bag_of_words = vec.transform(corpus)\n",
    "    sum_words = bag_of_words.sum(axis=0) \n",
    "    words_freq = [(word, sum_words[0, idx]) for word, idx in vec.vocabulary_.items()]\n",
    "    words_freq =sorted(words_freq, key = lambda x: x[1], reverse=True)\n",
    "    return words_freq[:n]\n",
    "common_words = get_top_n_words(df['abstractClean'], 20)\n",
    "df2 = pd.DataFrame(common_words, columns = ['abstractClean' , 'count'])\n",
    "df2.groupby('abstractClean').sum()['count'].sort_values().iplot(kind='barh', yTitle='Count', linecolor='black', title='Top 20 words after removing stop words')"
   ]
  },
  {
   "cell_type": "markdown",
   "metadata": {},
   "source": [
    "### Bigrams Frequency Distribution Before Removing Stop Word"
   ]
  },
  {
   "cell_type": "code",
   "execution_count": 17,
   "metadata": {},
   "outputs": [
    {
     "data": {
      "application/vnd.plotly.v1+json": {
       "config": {
        "linkText": "Export to plot.ly",
        "plotlyServerURL": "https://plot.ly",
        "showLink": true
       },
       "data": [
        {
         "marker": {
          "color": "rgba(226, 74, 51, 0.6)",
          "line": {
           "color": "rgba(226, 74, 51, 1.0)",
           "width": 1
          }
         },
         "name": "count",
         "orientation": "v",
         "text": "",
         "type": "bar",
         "x": [
          "of the",
          "in the",
          "the implant",
          "and the",
          "to the",
          "implants were",
          "on the",
          "this study",
          "dental implants",
          "at the",
          "for the",
          "with the",
          "the bone",
          "of this",
          "of bone",
          "peri implant",
          "implants in",
          "the implants",
          "was to",
          "study was"
         ],
         "y": [
          18321,
          13631,
          5440,
          5083,
          4718,
          4542,
          4420,
          4006,
          3816,
          3687,
          3585,
          3352,
          3328,
          3189,
          3149,
          2889,
          2707,
          2592,
          2447,
          2361
         ]
        }
       ],
       "layout": {
        "legend": {
         "bgcolor": "#FFFFFF",
         "font": {
          "color": "#666666"
         }
        },
        "paper_bgcolor": "#FFFFFF",
        "plot_bgcolor": "#E5E5E5",
        "template": {
         "data": {
          "bar": [
           {
            "error_x": {
             "color": "#2a3f5f"
            },
            "error_y": {
             "color": "#2a3f5f"
            },
            "marker": {
             "line": {
              "color": "#E5ECF6",
              "width": 0.5
             }
            },
            "type": "bar"
           }
          ],
          "barpolar": [
           {
            "marker": {
             "line": {
              "color": "#E5ECF6",
              "width": 0.5
             }
            },
            "type": "barpolar"
           }
          ],
          "carpet": [
           {
            "aaxis": {
             "endlinecolor": "#2a3f5f",
             "gridcolor": "white",
             "linecolor": "white",
             "minorgridcolor": "white",
             "startlinecolor": "#2a3f5f"
            },
            "baxis": {
             "endlinecolor": "#2a3f5f",
             "gridcolor": "white",
             "linecolor": "white",
             "minorgridcolor": "white",
             "startlinecolor": "#2a3f5f"
            },
            "type": "carpet"
           }
          ],
          "choropleth": [
           {
            "colorbar": {
             "outlinewidth": 0,
             "ticks": ""
            },
            "type": "choropleth"
           }
          ],
          "contour": [
           {
            "colorbar": {
             "outlinewidth": 0,
             "ticks": ""
            },
            "colorscale": [
             [
              0,
              "#0d0887"
             ],
             [
              0.1111111111111111,
              "#46039f"
             ],
             [
              0.2222222222222222,
              "#7201a8"
             ],
             [
              0.3333333333333333,
              "#9c179e"
             ],
             [
              0.4444444444444444,
              "#bd3786"
             ],
             [
              0.5555555555555556,
              "#d8576b"
             ],
             [
              0.6666666666666666,
              "#ed7953"
             ],
             [
              0.7777777777777778,
              "#fb9f3a"
             ],
             [
              0.8888888888888888,
              "#fdca26"
             ],
             [
              1,
              "#f0f921"
             ]
            ],
            "type": "contour"
           }
          ],
          "contourcarpet": [
           {
            "colorbar": {
             "outlinewidth": 0,
             "ticks": ""
            },
            "type": "contourcarpet"
           }
          ],
          "heatmap": [
           {
            "colorbar": {
             "outlinewidth": 0,
             "ticks": ""
            },
            "colorscale": [
             [
              0,
              "#0d0887"
             ],
             [
              0.1111111111111111,
              "#46039f"
             ],
             [
              0.2222222222222222,
              "#7201a8"
             ],
             [
              0.3333333333333333,
              "#9c179e"
             ],
             [
              0.4444444444444444,
              "#bd3786"
             ],
             [
              0.5555555555555556,
              "#d8576b"
             ],
             [
              0.6666666666666666,
              "#ed7953"
             ],
             [
              0.7777777777777778,
              "#fb9f3a"
             ],
             [
              0.8888888888888888,
              "#fdca26"
             ],
             [
              1,
              "#f0f921"
             ]
            ],
            "type": "heatmap"
           }
          ],
          "heatmapgl": [
           {
            "colorbar": {
             "outlinewidth": 0,
             "ticks": ""
            },
            "colorscale": [
             [
              0,
              "#0d0887"
             ],
             [
              0.1111111111111111,
              "#46039f"
             ],
             [
              0.2222222222222222,
              "#7201a8"
             ],
             [
              0.3333333333333333,
              "#9c179e"
             ],
             [
              0.4444444444444444,
              "#bd3786"
             ],
             [
              0.5555555555555556,
              "#d8576b"
             ],
             [
              0.6666666666666666,
              "#ed7953"
             ],
             [
              0.7777777777777778,
              "#fb9f3a"
             ],
             [
              0.8888888888888888,
              "#fdca26"
             ],
             [
              1,
              "#f0f921"
             ]
            ],
            "type": "heatmapgl"
           }
          ],
          "histogram": [
           {
            "marker": {
             "colorbar": {
              "outlinewidth": 0,
              "ticks": ""
             }
            },
            "type": "histogram"
           }
          ],
          "histogram2d": [
           {
            "colorbar": {
             "outlinewidth": 0,
             "ticks": ""
            },
            "colorscale": [
             [
              0,
              "#0d0887"
             ],
             [
              0.1111111111111111,
              "#46039f"
             ],
             [
              0.2222222222222222,
              "#7201a8"
             ],
             [
              0.3333333333333333,
              "#9c179e"
             ],
             [
              0.4444444444444444,
              "#bd3786"
             ],
             [
              0.5555555555555556,
              "#d8576b"
             ],
             [
              0.6666666666666666,
              "#ed7953"
             ],
             [
              0.7777777777777778,
              "#fb9f3a"
             ],
             [
              0.8888888888888888,
              "#fdca26"
             ],
             [
              1,
              "#f0f921"
             ]
            ],
            "type": "histogram2d"
           }
          ],
          "histogram2dcontour": [
           {
            "colorbar": {
             "outlinewidth": 0,
             "ticks": ""
            },
            "colorscale": [
             [
              0,
              "#0d0887"
             ],
             [
              0.1111111111111111,
              "#46039f"
             ],
             [
              0.2222222222222222,
              "#7201a8"
             ],
             [
              0.3333333333333333,
              "#9c179e"
             ],
             [
              0.4444444444444444,
              "#bd3786"
             ],
             [
              0.5555555555555556,
              "#d8576b"
             ],
             [
              0.6666666666666666,
              "#ed7953"
             ],
             [
              0.7777777777777778,
              "#fb9f3a"
             ],
             [
              0.8888888888888888,
              "#fdca26"
             ],
             [
              1,
              "#f0f921"
             ]
            ],
            "type": "histogram2dcontour"
           }
          ],
          "mesh3d": [
           {
            "colorbar": {
             "outlinewidth": 0,
             "ticks": ""
            },
            "type": "mesh3d"
           }
          ],
          "parcoords": [
           {
            "line": {
             "colorbar": {
              "outlinewidth": 0,
              "ticks": ""
             }
            },
            "type": "parcoords"
           }
          ],
          "scatter": [
           {
            "marker": {
             "colorbar": {
              "outlinewidth": 0,
              "ticks": ""
             }
            },
            "type": "scatter"
           }
          ],
          "scatter3d": [
           {
            "line": {
             "colorbar": {
              "outlinewidth": 0,
              "ticks": ""
             }
            },
            "marker": {
             "colorbar": {
              "outlinewidth": 0,
              "ticks": ""
             }
            },
            "type": "scatter3d"
           }
          ],
          "scattercarpet": [
           {
            "marker": {
             "colorbar": {
              "outlinewidth": 0,
              "ticks": ""
             }
            },
            "type": "scattercarpet"
           }
          ],
          "scattergeo": [
           {
            "marker": {
             "colorbar": {
              "outlinewidth": 0,
              "ticks": ""
             }
            },
            "type": "scattergeo"
           }
          ],
          "scattergl": [
           {
            "marker": {
             "colorbar": {
              "outlinewidth": 0,
              "ticks": ""
             }
            },
            "type": "scattergl"
           }
          ],
          "scattermapbox": [
           {
            "marker": {
             "colorbar": {
              "outlinewidth": 0,
              "ticks": ""
             }
            },
            "type": "scattermapbox"
           }
          ],
          "scatterpolar": [
           {
            "marker": {
             "colorbar": {
              "outlinewidth": 0,
              "ticks": ""
             }
            },
            "type": "scatterpolar"
           }
          ],
          "scatterpolargl": [
           {
            "marker": {
             "colorbar": {
              "outlinewidth": 0,
              "ticks": ""
             }
            },
            "type": "scatterpolargl"
           }
          ],
          "scatterternary": [
           {
            "marker": {
             "colorbar": {
              "outlinewidth": 0,
              "ticks": ""
             }
            },
            "type": "scatterternary"
           }
          ],
          "surface": [
           {
            "colorbar": {
             "outlinewidth": 0,
             "ticks": ""
            },
            "colorscale": [
             [
              0,
              "#0d0887"
             ],
             [
              0.1111111111111111,
              "#46039f"
             ],
             [
              0.2222222222222222,
              "#7201a8"
             ],
             [
              0.3333333333333333,
              "#9c179e"
             ],
             [
              0.4444444444444444,
              "#bd3786"
             ],
             [
              0.5555555555555556,
              "#d8576b"
             ],
             [
              0.6666666666666666,
              "#ed7953"
             ],
             [
              0.7777777777777778,
              "#fb9f3a"
             ],
             [
              0.8888888888888888,
              "#fdca26"
             ],
             [
              1,
              "#f0f921"
             ]
            ],
            "type": "surface"
           }
          ],
          "table": [
           {
            "cells": {
             "fill": {
              "color": "#EBF0F8"
             },
             "line": {
              "color": "white"
             }
            },
            "header": {
             "fill": {
              "color": "#C8D4E3"
             },
             "line": {
              "color": "white"
             }
            },
            "type": "table"
           }
          ]
         },
         "layout": {
          "annotationdefaults": {
           "arrowcolor": "#2a3f5f",
           "arrowhead": 0,
           "arrowwidth": 1
          },
          "colorscale": {
           "diverging": [
            [
             0,
             "#8e0152"
            ],
            [
             0.1,
             "#c51b7d"
            ],
            [
             0.2,
             "#de77ae"
            ],
            [
             0.3,
             "#f1b6da"
            ],
            [
             0.4,
             "#fde0ef"
            ],
            [
             0.5,
             "#f7f7f7"
            ],
            [
             0.6,
             "#e6f5d0"
            ],
            [
             0.7,
             "#b8e186"
            ],
            [
             0.8,
             "#7fbc41"
            ],
            [
             0.9,
             "#4d9221"
            ],
            [
             1,
             "#276419"
            ]
           ],
           "sequential": [
            [
             0,
             "#0d0887"
            ],
            [
             0.1111111111111111,
             "#46039f"
            ],
            [
             0.2222222222222222,
             "#7201a8"
            ],
            [
             0.3333333333333333,
             "#9c179e"
            ],
            [
             0.4444444444444444,
             "#bd3786"
            ],
            [
             0.5555555555555556,
             "#d8576b"
            ],
            [
             0.6666666666666666,
             "#ed7953"
            ],
            [
             0.7777777777777778,
             "#fb9f3a"
            ],
            [
             0.8888888888888888,
             "#fdca26"
            ],
            [
             1,
             "#f0f921"
            ]
           ],
           "sequentialminus": [
            [
             0,
             "#0d0887"
            ],
            [
             0.1111111111111111,
             "#46039f"
            ],
            [
             0.2222222222222222,
             "#7201a8"
            ],
            [
             0.3333333333333333,
             "#9c179e"
            ],
            [
             0.4444444444444444,
             "#bd3786"
            ],
            [
             0.5555555555555556,
             "#d8576b"
            ],
            [
             0.6666666666666666,
             "#ed7953"
            ],
            [
             0.7777777777777778,
             "#fb9f3a"
            ],
            [
             0.8888888888888888,
             "#fdca26"
            ],
            [
             1,
             "#f0f921"
            ]
           ]
          },
          "colorway": [
           "#636efa",
           "#EF553B",
           "#00cc96",
           "#ab63fa",
           "#FFA15A",
           "#19d3f3",
           "#FF6692",
           "#B6E880",
           "#FF97FF",
           "#FECB52"
          ],
          "font": {
           "color": "#2a3f5f"
          },
          "geo": {
           "bgcolor": "white",
           "lakecolor": "white",
           "landcolor": "#E5ECF6",
           "showlakes": true,
           "showland": true,
           "subunitcolor": "white"
          },
          "hoverlabel": {
           "align": "left"
          },
          "hovermode": "closest",
          "mapbox": {
           "style": "light"
          },
          "paper_bgcolor": "white",
          "plot_bgcolor": "#E5ECF6",
          "polar": {
           "angularaxis": {
            "gridcolor": "white",
            "linecolor": "white",
            "ticks": ""
           },
           "bgcolor": "#E5ECF6",
           "radialaxis": {
            "gridcolor": "white",
            "linecolor": "white",
            "ticks": ""
           }
          },
          "scene": {
           "xaxis": {
            "backgroundcolor": "#E5ECF6",
            "gridcolor": "white",
            "gridwidth": 2,
            "linecolor": "white",
            "showbackground": true,
            "ticks": "",
            "zerolinecolor": "white"
           },
           "yaxis": {
            "backgroundcolor": "#E5ECF6",
            "gridcolor": "white",
            "gridwidth": 2,
            "linecolor": "white",
            "showbackground": true,
            "ticks": "",
            "zerolinecolor": "white"
           },
           "zaxis": {
            "backgroundcolor": "#E5ECF6",
            "gridcolor": "white",
            "gridwidth": 2,
            "linecolor": "white",
            "showbackground": true,
            "ticks": "",
            "zerolinecolor": "white"
           }
          },
          "shapedefaults": {
           "line": {
            "color": "#2a3f5f"
           }
          },
          "ternary": {
           "aaxis": {
            "gridcolor": "white",
            "linecolor": "white",
            "ticks": ""
           },
           "baxis": {
            "gridcolor": "white",
            "linecolor": "white",
            "ticks": ""
           },
           "bgcolor": "#E5ECF6",
           "caxis": {
            "gridcolor": "white",
            "linecolor": "white",
            "ticks": ""
           }
          },
          "title": {
           "x": 0.05
          },
          "xaxis": {
           "automargin": true,
           "gridcolor": "white",
           "linecolor": "white",
           "ticks": "",
           "zerolinecolor": "white",
           "zerolinewidth": 2
          },
          "yaxis": {
           "automargin": true,
           "gridcolor": "white",
           "linecolor": "white",
           "ticks": "",
           "zerolinecolor": "white",
           "zerolinewidth": 2
          }
         }
        },
        "title": {
         "font": {
          "color": "#151516"
         },
         "text": "Top 20 bigrams before removing stop words"
        },
        "xaxis": {
         "gridcolor": "#F6F6F6",
         "linecolor": "black",
         "showgrid": true,
         "tickfont": {
          "color": "#666666"
         },
         "title": {
          "font": {
           "color": "#666666"
          },
          "text": ""
         },
         "zerolinecolor": "#F6F6F6"
        },
        "yaxis": {
         "gridcolor": "#F6F6F6",
         "linecolor": "black",
         "showgrid": true,
         "tickfont": {
          "color": "#666666"
         },
         "title": {
          "font": {
           "color": "#666666"
          },
          "text": "Count"
         },
         "zerolinecolor": "#F6F6F6"
        }
       }
      },
      "text/html": [
       "<div>\n",
       "        \n",
       "        \n",
       "            <div id=\"6a84f548-efec-4c1a-a486-6bae5e55e020\" class=\"plotly-graph-div\" style=\"height:525px; width:100%;\"></div>\n",
       "            <script type=\"text/javascript\">\n",
       "                require([\"plotly\"], function(Plotly) {\n",
       "                    window.PLOTLYENV=window.PLOTLYENV || {};\n",
       "                    window.PLOTLYENV.BASE_URL='https://plot.ly';\n",
       "                    \n",
       "                if (document.getElementById(\"6a84f548-efec-4c1a-a486-6bae5e55e020\")) {\n",
       "                    Plotly.newPlot(\n",
       "                        '6a84f548-efec-4c1a-a486-6bae5e55e020',\n",
       "                        [{\"marker\": {\"color\": \"rgba(226, 74, 51, 0.6)\", \"line\": {\"color\": \"rgba(226, 74, 51, 1.0)\", \"width\": 1}}, \"name\": \"count\", \"orientation\": \"v\", \"text\": \"\", \"type\": \"bar\", \"x\": [\"of the\", \"in the\", \"the implant\", \"and the\", \"to the\", \"implants were\", \"on the\", \"this study\", \"dental implants\", \"at the\", \"for the\", \"with the\", \"the bone\", \"of this\", \"of bone\", \"peri implant\", \"implants in\", \"the implants\", \"was to\", \"study was\"], \"y\": [18321, 13631, 5440, 5083, 4718, 4542, 4420, 4006, 3816, 3687, 3585, 3352, 3328, 3189, 3149, 2889, 2707, 2592, 2447, 2361]}],\n",
       "                        {\"legend\": {\"bgcolor\": \"#FFFFFF\", \"font\": {\"color\": \"#666666\"}}, \"paper_bgcolor\": \"#FFFFFF\", \"plot_bgcolor\": \"#E5E5E5\", \"template\": {\"data\": {\"bar\": [{\"error_x\": {\"color\": \"#2a3f5f\"}, \"error_y\": {\"color\": \"#2a3f5f\"}, \"marker\": {\"line\": {\"color\": \"#E5ECF6\", \"width\": 0.5}}, \"type\": \"bar\"}], \"barpolar\": [{\"marker\": {\"line\": {\"color\": \"#E5ECF6\", \"width\": 0.5}}, \"type\": \"barpolar\"}], \"carpet\": [{\"aaxis\": {\"endlinecolor\": \"#2a3f5f\", \"gridcolor\": \"white\", \"linecolor\": \"white\", \"minorgridcolor\": \"white\", \"startlinecolor\": \"#2a3f5f\"}, \"baxis\": {\"endlinecolor\": \"#2a3f5f\", \"gridcolor\": \"white\", \"linecolor\": \"white\", \"minorgridcolor\": \"white\", \"startlinecolor\": \"#2a3f5f\"}, \"type\": \"carpet\"}], \"choropleth\": [{\"colorbar\": {\"outlinewidth\": 0, \"ticks\": \"\"}, \"type\": \"choropleth\"}], \"contour\": [{\"colorbar\": {\"outlinewidth\": 0, \"ticks\": \"\"}, \"colorscale\": [[0.0, \"#0d0887\"], [0.1111111111111111, \"#46039f\"], [0.2222222222222222, \"#7201a8\"], [0.3333333333333333, \"#9c179e\"], [0.4444444444444444, \"#bd3786\"], [0.5555555555555556, \"#d8576b\"], [0.6666666666666666, \"#ed7953\"], [0.7777777777777778, \"#fb9f3a\"], [0.8888888888888888, \"#fdca26\"], [1.0, \"#f0f921\"]], \"type\": \"contour\"}], \"contourcarpet\": [{\"colorbar\": {\"outlinewidth\": 0, \"ticks\": \"\"}, \"type\": \"contourcarpet\"}], \"heatmap\": [{\"colorbar\": {\"outlinewidth\": 0, \"ticks\": \"\"}, \"colorscale\": [[0.0, \"#0d0887\"], [0.1111111111111111, \"#46039f\"], [0.2222222222222222, \"#7201a8\"], [0.3333333333333333, \"#9c179e\"], [0.4444444444444444, \"#bd3786\"], [0.5555555555555556, \"#d8576b\"], [0.6666666666666666, \"#ed7953\"], [0.7777777777777778, \"#fb9f3a\"], [0.8888888888888888, \"#fdca26\"], [1.0, \"#f0f921\"]], \"type\": \"heatmap\"}], \"heatmapgl\": [{\"colorbar\": {\"outlinewidth\": 0, \"ticks\": \"\"}, \"colorscale\": [[0.0, \"#0d0887\"], [0.1111111111111111, \"#46039f\"], [0.2222222222222222, \"#7201a8\"], [0.3333333333333333, \"#9c179e\"], [0.4444444444444444, \"#bd3786\"], [0.5555555555555556, \"#d8576b\"], [0.6666666666666666, \"#ed7953\"], [0.7777777777777778, \"#fb9f3a\"], [0.8888888888888888, \"#fdca26\"], [1.0, \"#f0f921\"]], \"type\": \"heatmapgl\"}], \"histogram\": [{\"marker\": {\"colorbar\": {\"outlinewidth\": 0, \"ticks\": \"\"}}, \"type\": \"histogram\"}], \"histogram2d\": [{\"colorbar\": {\"outlinewidth\": 0, \"ticks\": \"\"}, \"colorscale\": [[0.0, \"#0d0887\"], [0.1111111111111111, \"#46039f\"], [0.2222222222222222, \"#7201a8\"], [0.3333333333333333, \"#9c179e\"], [0.4444444444444444, \"#bd3786\"], [0.5555555555555556, \"#d8576b\"], [0.6666666666666666, \"#ed7953\"], [0.7777777777777778, \"#fb9f3a\"], [0.8888888888888888, \"#fdca26\"], [1.0, \"#f0f921\"]], \"type\": \"histogram2d\"}], \"histogram2dcontour\": [{\"colorbar\": {\"outlinewidth\": 0, \"ticks\": \"\"}, \"colorscale\": [[0.0, \"#0d0887\"], [0.1111111111111111, \"#46039f\"], [0.2222222222222222, \"#7201a8\"], [0.3333333333333333, \"#9c179e\"], [0.4444444444444444, \"#bd3786\"], [0.5555555555555556, \"#d8576b\"], [0.6666666666666666, \"#ed7953\"], [0.7777777777777778, \"#fb9f3a\"], [0.8888888888888888, \"#fdca26\"], [1.0, \"#f0f921\"]], \"type\": \"histogram2dcontour\"}], \"mesh3d\": [{\"colorbar\": {\"outlinewidth\": 0, \"ticks\": \"\"}, \"type\": \"mesh3d\"}], \"parcoords\": [{\"line\": {\"colorbar\": {\"outlinewidth\": 0, \"ticks\": \"\"}}, \"type\": \"parcoords\"}], \"scatter\": [{\"marker\": {\"colorbar\": {\"outlinewidth\": 0, \"ticks\": \"\"}}, \"type\": \"scatter\"}], \"scatter3d\": [{\"line\": {\"colorbar\": {\"outlinewidth\": 0, \"ticks\": \"\"}}, \"marker\": {\"colorbar\": {\"outlinewidth\": 0, \"ticks\": \"\"}}, \"type\": \"scatter3d\"}], \"scattercarpet\": [{\"marker\": {\"colorbar\": {\"outlinewidth\": 0, \"ticks\": \"\"}}, \"type\": \"scattercarpet\"}], \"scattergeo\": [{\"marker\": {\"colorbar\": {\"outlinewidth\": 0, \"ticks\": \"\"}}, \"type\": \"scattergeo\"}], \"scattergl\": [{\"marker\": {\"colorbar\": {\"outlinewidth\": 0, \"ticks\": \"\"}}, \"type\": \"scattergl\"}], \"scattermapbox\": [{\"marker\": {\"colorbar\": {\"outlinewidth\": 0, \"ticks\": \"\"}}, \"type\": \"scattermapbox\"}], \"scatterpolar\": [{\"marker\": {\"colorbar\": {\"outlinewidth\": 0, \"ticks\": \"\"}}, \"type\": \"scatterpolar\"}], \"scatterpolargl\": [{\"marker\": {\"colorbar\": {\"outlinewidth\": 0, \"ticks\": \"\"}}, \"type\": \"scatterpolargl\"}], \"scatterternary\": [{\"marker\": {\"colorbar\": {\"outlinewidth\": 0, \"ticks\": \"\"}}, \"type\": \"scatterternary\"}], \"surface\": [{\"colorbar\": {\"outlinewidth\": 0, \"ticks\": \"\"}, \"colorscale\": [[0.0, \"#0d0887\"], [0.1111111111111111, \"#46039f\"], [0.2222222222222222, \"#7201a8\"], [0.3333333333333333, \"#9c179e\"], [0.4444444444444444, \"#bd3786\"], [0.5555555555555556, \"#d8576b\"], [0.6666666666666666, \"#ed7953\"], [0.7777777777777778, \"#fb9f3a\"], [0.8888888888888888, \"#fdca26\"], [1.0, \"#f0f921\"]], \"type\": \"surface\"}], \"table\": [{\"cells\": {\"fill\": {\"color\": \"#EBF0F8\"}, \"line\": {\"color\": \"white\"}}, \"header\": {\"fill\": {\"color\": \"#C8D4E3\"}, \"line\": {\"color\": \"white\"}}, \"type\": \"table\"}]}, \"layout\": {\"annotationdefaults\": {\"arrowcolor\": \"#2a3f5f\", \"arrowhead\": 0, \"arrowwidth\": 1}, \"colorscale\": {\"diverging\": [[0, \"#8e0152\"], [0.1, \"#c51b7d\"], [0.2, \"#de77ae\"], [0.3, \"#f1b6da\"], [0.4, \"#fde0ef\"], [0.5, \"#f7f7f7\"], [0.6, \"#e6f5d0\"], [0.7, \"#b8e186\"], [0.8, \"#7fbc41\"], [0.9, \"#4d9221\"], [1, \"#276419\"]], \"sequential\": [[0.0, \"#0d0887\"], [0.1111111111111111, \"#46039f\"], [0.2222222222222222, \"#7201a8\"], [0.3333333333333333, \"#9c179e\"], [0.4444444444444444, \"#bd3786\"], [0.5555555555555556, \"#d8576b\"], [0.6666666666666666, \"#ed7953\"], [0.7777777777777778, \"#fb9f3a\"], [0.8888888888888888, \"#fdca26\"], [1.0, \"#f0f921\"]], \"sequentialminus\": [[0.0, \"#0d0887\"], [0.1111111111111111, \"#46039f\"], [0.2222222222222222, \"#7201a8\"], [0.3333333333333333, \"#9c179e\"], [0.4444444444444444, \"#bd3786\"], [0.5555555555555556, \"#d8576b\"], [0.6666666666666666, \"#ed7953\"], [0.7777777777777778, \"#fb9f3a\"], [0.8888888888888888, \"#fdca26\"], [1.0, \"#f0f921\"]]}, \"colorway\": [\"#636efa\", \"#EF553B\", \"#00cc96\", \"#ab63fa\", \"#FFA15A\", \"#19d3f3\", \"#FF6692\", \"#B6E880\", \"#FF97FF\", \"#FECB52\"], \"font\": {\"color\": \"#2a3f5f\"}, \"geo\": {\"bgcolor\": \"white\", \"lakecolor\": \"white\", \"landcolor\": \"#E5ECF6\", \"showlakes\": true, \"showland\": true, \"subunitcolor\": \"white\"}, \"hoverlabel\": {\"align\": \"left\"}, \"hovermode\": \"closest\", \"mapbox\": {\"style\": \"light\"}, \"paper_bgcolor\": \"white\", \"plot_bgcolor\": \"#E5ECF6\", \"polar\": {\"angularaxis\": {\"gridcolor\": \"white\", \"linecolor\": \"white\", \"ticks\": \"\"}, \"bgcolor\": \"#E5ECF6\", \"radialaxis\": {\"gridcolor\": \"white\", \"linecolor\": \"white\", \"ticks\": \"\"}}, \"scene\": {\"xaxis\": {\"backgroundcolor\": \"#E5ECF6\", \"gridcolor\": \"white\", \"gridwidth\": 2, \"linecolor\": \"white\", \"showbackground\": true, \"ticks\": \"\", \"zerolinecolor\": \"white\"}, \"yaxis\": {\"backgroundcolor\": \"#E5ECF6\", \"gridcolor\": \"white\", \"gridwidth\": 2, \"linecolor\": \"white\", \"showbackground\": true, \"ticks\": \"\", \"zerolinecolor\": \"white\"}, \"zaxis\": {\"backgroundcolor\": \"#E5ECF6\", \"gridcolor\": \"white\", \"gridwidth\": 2, \"linecolor\": \"white\", \"showbackground\": true, \"ticks\": \"\", \"zerolinecolor\": \"white\"}}, \"shapedefaults\": {\"line\": {\"color\": \"#2a3f5f\"}}, \"ternary\": {\"aaxis\": {\"gridcolor\": \"white\", \"linecolor\": \"white\", \"ticks\": \"\"}, \"baxis\": {\"gridcolor\": \"white\", \"linecolor\": \"white\", \"ticks\": \"\"}, \"bgcolor\": \"#E5ECF6\", \"caxis\": {\"gridcolor\": \"white\", \"linecolor\": \"white\", \"ticks\": \"\"}}, \"title\": {\"x\": 0.05}, \"xaxis\": {\"automargin\": true, \"gridcolor\": \"white\", \"linecolor\": \"white\", \"ticks\": \"\", \"zerolinecolor\": \"white\", \"zerolinewidth\": 2}, \"yaxis\": {\"automargin\": true, \"gridcolor\": \"white\", \"linecolor\": \"white\", \"ticks\": \"\", \"zerolinecolor\": \"white\", \"zerolinewidth\": 2}}}, \"title\": {\"font\": {\"color\": \"#151516\"}, \"text\": \"Top 20 bigrams before removing stop words\"}, \"xaxis\": {\"gridcolor\": \"#F6F6F6\", \"linecolor\": \"black\", \"showgrid\": true, \"tickfont\": {\"color\": \"#666666\"}, \"title\": {\"font\": {\"color\": \"#666666\"}, \"text\": \"\"}, \"zerolinecolor\": \"#F6F6F6\"}, \"yaxis\": {\"gridcolor\": \"#F6F6F6\", \"linecolor\": \"black\", \"showgrid\": true, \"tickfont\": {\"color\": \"#666666\"}, \"title\": {\"font\": {\"color\": \"#666666\"}, \"text\": \"Count\"}, \"zerolinecolor\": \"#F6F6F6\"}},\n",
       "                        {\"showLink\": true, \"linkText\": \"Export to plot.ly\", \"plotlyServerURL\": \"https://plot.ly\", \"responsive\": true}\n",
       "                    ).then(function(){\n",
       "                            \n",
       "var gd = document.getElementById('6a84f548-efec-4c1a-a486-6bae5e55e020');\n",
       "var x = new MutationObserver(function (mutations, observer) {{\n",
       "        var display = window.getComputedStyle(gd).display;\n",
       "        if (!display || display === 'none') {{\n",
       "            console.log([gd, 'removed!']);\n",
       "            Plotly.purge(gd);\n",
       "            observer.disconnect();\n",
       "        }}\n",
       "}});\n",
       "\n",
       "// Listen for the removal of the full notebook cells\n",
       "var notebookContainer = gd.closest('#notebook-container');\n",
       "if (notebookContainer) {{\n",
       "    x.observe(notebookContainer, {childList: true});\n",
       "}}\n",
       "\n",
       "// Listen for the clearing of the current output cell\n",
       "var outputEl = gd.closest('.output');\n",
       "if (outputEl) {{\n",
       "    x.observe(outputEl, {childList: true});\n",
       "}}\n",
       "\n",
       "                        })\n",
       "                };\n",
       "                });\n",
       "            </script>\n",
       "        </div>"
      ]
     },
     "metadata": {},
     "output_type": "display_data"
    }
   ],
   "source": [
    "def get_top_n_bigram(corpus, n=None):\n",
    "    vec = CountVectorizer(ngram_range=(2, 2)).fit(corpus)\n",
    "    bag_of_words = vec.transform(corpus)\n",
    "    sum_words = bag_of_words.sum(axis=0) \n",
    "    words_freq = [(word, sum_words[0, idx]) for word, idx in vec.vocabulary_.items()]\n",
    "    words_freq =sorted(words_freq, key = lambda x: x[1], reverse=True)\n",
    "    return words_freq[:n]\n",
    "common_words = get_top_n_bigram(df['abstractClean'], 20)\n",
    "df3 = pd.DataFrame(common_words, columns = ['abstractClean' , 'count'])\n",
    "df3.groupby('abstractClean').sum()['count'].sort_values(ascending=False).iplot(kind='bar', yTitle='Count', linecolor='black', title='Top 20 bigrams before removing stop words')"
   ]
  },
  {
   "cell_type": "markdown",
   "metadata": {},
   "source": [
    "### Bigrams Frequency Distribution After Removing Stop Word"
   ]
  },
  {
   "cell_type": "code",
   "execution_count": 18,
   "metadata": {},
   "outputs": [
    {
     "data": {
      "application/vnd.plotly.v1+json": {
       "config": {
        "linkText": "Export to plot.ly",
        "plotlyServerURL": "https://plot.ly",
        "showLink": true
       },
       "data": [
        {
         "marker": {
          "color": "rgba(226, 74, 51, 0.6)",
          "line": {
           "color": "rgba(226, 74, 51, 1.0)",
           "width": 1
          }
         },
         "name": "count",
         "orientation": "v",
         "text": "",
         "type": "bar",
         "x": [
          "dental implants",
          "bone implant",
          "peri implant",
          "implants placed",
          "implant contact",
          "implant placement",
          "bone formation",
          "titanium implants",
          "implant bone",
          "dental implant",
          "implant surface",
          "materials methods",
          "implant stability",
          "bone loss",
          "long term",
          "new bone",
          "soft tissue",
          "control group",
          "implant surfaces",
          "marginal bone"
         ],
         "y": [
          3820,
          3686,
          2889,
          2603,
          2176,
          2153,
          2125,
          2013,
          1905,
          1732,
          1668,
          1608,
          1469,
          1440,
          1299,
          1218,
          1185,
          1034,
          982,
          978
         ]
        }
       ],
       "layout": {
        "legend": {
         "bgcolor": "#FFFFFF",
         "font": {
          "color": "#666666"
         }
        },
        "paper_bgcolor": "#FFFFFF",
        "plot_bgcolor": "#E5E5E5",
        "template": {
         "data": {
          "bar": [
           {
            "error_x": {
             "color": "#2a3f5f"
            },
            "error_y": {
             "color": "#2a3f5f"
            },
            "marker": {
             "line": {
              "color": "#E5ECF6",
              "width": 0.5
             }
            },
            "type": "bar"
           }
          ],
          "barpolar": [
           {
            "marker": {
             "line": {
              "color": "#E5ECF6",
              "width": 0.5
             }
            },
            "type": "barpolar"
           }
          ],
          "carpet": [
           {
            "aaxis": {
             "endlinecolor": "#2a3f5f",
             "gridcolor": "white",
             "linecolor": "white",
             "minorgridcolor": "white",
             "startlinecolor": "#2a3f5f"
            },
            "baxis": {
             "endlinecolor": "#2a3f5f",
             "gridcolor": "white",
             "linecolor": "white",
             "minorgridcolor": "white",
             "startlinecolor": "#2a3f5f"
            },
            "type": "carpet"
           }
          ],
          "choropleth": [
           {
            "colorbar": {
             "outlinewidth": 0,
             "ticks": ""
            },
            "type": "choropleth"
           }
          ],
          "contour": [
           {
            "colorbar": {
             "outlinewidth": 0,
             "ticks": ""
            },
            "colorscale": [
             [
              0,
              "#0d0887"
             ],
             [
              0.1111111111111111,
              "#46039f"
             ],
             [
              0.2222222222222222,
              "#7201a8"
             ],
             [
              0.3333333333333333,
              "#9c179e"
             ],
             [
              0.4444444444444444,
              "#bd3786"
             ],
             [
              0.5555555555555556,
              "#d8576b"
             ],
             [
              0.6666666666666666,
              "#ed7953"
             ],
             [
              0.7777777777777778,
              "#fb9f3a"
             ],
             [
              0.8888888888888888,
              "#fdca26"
             ],
             [
              1,
              "#f0f921"
             ]
            ],
            "type": "contour"
           }
          ],
          "contourcarpet": [
           {
            "colorbar": {
             "outlinewidth": 0,
             "ticks": ""
            },
            "type": "contourcarpet"
           }
          ],
          "heatmap": [
           {
            "colorbar": {
             "outlinewidth": 0,
             "ticks": ""
            },
            "colorscale": [
             [
              0,
              "#0d0887"
             ],
             [
              0.1111111111111111,
              "#46039f"
             ],
             [
              0.2222222222222222,
              "#7201a8"
             ],
             [
              0.3333333333333333,
              "#9c179e"
             ],
             [
              0.4444444444444444,
              "#bd3786"
             ],
             [
              0.5555555555555556,
              "#d8576b"
             ],
             [
              0.6666666666666666,
              "#ed7953"
             ],
             [
              0.7777777777777778,
              "#fb9f3a"
             ],
             [
              0.8888888888888888,
              "#fdca26"
             ],
             [
              1,
              "#f0f921"
             ]
            ],
            "type": "heatmap"
           }
          ],
          "heatmapgl": [
           {
            "colorbar": {
             "outlinewidth": 0,
             "ticks": ""
            },
            "colorscale": [
             [
              0,
              "#0d0887"
             ],
             [
              0.1111111111111111,
              "#46039f"
             ],
             [
              0.2222222222222222,
              "#7201a8"
             ],
             [
              0.3333333333333333,
              "#9c179e"
             ],
             [
              0.4444444444444444,
              "#bd3786"
             ],
             [
              0.5555555555555556,
              "#d8576b"
             ],
             [
              0.6666666666666666,
              "#ed7953"
             ],
             [
              0.7777777777777778,
              "#fb9f3a"
             ],
             [
              0.8888888888888888,
              "#fdca26"
             ],
             [
              1,
              "#f0f921"
             ]
            ],
            "type": "heatmapgl"
           }
          ],
          "histogram": [
           {
            "marker": {
             "colorbar": {
              "outlinewidth": 0,
              "ticks": ""
             }
            },
            "type": "histogram"
           }
          ],
          "histogram2d": [
           {
            "colorbar": {
             "outlinewidth": 0,
             "ticks": ""
            },
            "colorscale": [
             [
              0,
              "#0d0887"
             ],
             [
              0.1111111111111111,
              "#46039f"
             ],
             [
              0.2222222222222222,
              "#7201a8"
             ],
             [
              0.3333333333333333,
              "#9c179e"
             ],
             [
              0.4444444444444444,
              "#bd3786"
             ],
             [
              0.5555555555555556,
              "#d8576b"
             ],
             [
              0.6666666666666666,
              "#ed7953"
             ],
             [
              0.7777777777777778,
              "#fb9f3a"
             ],
             [
              0.8888888888888888,
              "#fdca26"
             ],
             [
              1,
              "#f0f921"
             ]
            ],
            "type": "histogram2d"
           }
          ],
          "histogram2dcontour": [
           {
            "colorbar": {
             "outlinewidth": 0,
             "ticks": ""
            },
            "colorscale": [
             [
              0,
              "#0d0887"
             ],
             [
              0.1111111111111111,
              "#46039f"
             ],
             [
              0.2222222222222222,
              "#7201a8"
             ],
             [
              0.3333333333333333,
              "#9c179e"
             ],
             [
              0.4444444444444444,
              "#bd3786"
             ],
             [
              0.5555555555555556,
              "#d8576b"
             ],
             [
              0.6666666666666666,
              "#ed7953"
             ],
             [
              0.7777777777777778,
              "#fb9f3a"
             ],
             [
              0.8888888888888888,
              "#fdca26"
             ],
             [
              1,
              "#f0f921"
             ]
            ],
            "type": "histogram2dcontour"
           }
          ],
          "mesh3d": [
           {
            "colorbar": {
             "outlinewidth": 0,
             "ticks": ""
            },
            "type": "mesh3d"
           }
          ],
          "parcoords": [
           {
            "line": {
             "colorbar": {
              "outlinewidth": 0,
              "ticks": ""
             }
            },
            "type": "parcoords"
           }
          ],
          "scatter": [
           {
            "marker": {
             "colorbar": {
              "outlinewidth": 0,
              "ticks": ""
             }
            },
            "type": "scatter"
           }
          ],
          "scatter3d": [
           {
            "line": {
             "colorbar": {
              "outlinewidth": 0,
              "ticks": ""
             }
            },
            "marker": {
             "colorbar": {
              "outlinewidth": 0,
              "ticks": ""
             }
            },
            "type": "scatter3d"
           }
          ],
          "scattercarpet": [
           {
            "marker": {
             "colorbar": {
              "outlinewidth": 0,
              "ticks": ""
             }
            },
            "type": "scattercarpet"
           }
          ],
          "scattergeo": [
           {
            "marker": {
             "colorbar": {
              "outlinewidth": 0,
              "ticks": ""
             }
            },
            "type": "scattergeo"
           }
          ],
          "scattergl": [
           {
            "marker": {
             "colorbar": {
              "outlinewidth": 0,
              "ticks": ""
             }
            },
            "type": "scattergl"
           }
          ],
          "scattermapbox": [
           {
            "marker": {
             "colorbar": {
              "outlinewidth": 0,
              "ticks": ""
             }
            },
            "type": "scattermapbox"
           }
          ],
          "scatterpolar": [
           {
            "marker": {
             "colorbar": {
              "outlinewidth": 0,
              "ticks": ""
             }
            },
            "type": "scatterpolar"
           }
          ],
          "scatterpolargl": [
           {
            "marker": {
             "colorbar": {
              "outlinewidth": 0,
              "ticks": ""
             }
            },
            "type": "scatterpolargl"
           }
          ],
          "scatterternary": [
           {
            "marker": {
             "colorbar": {
              "outlinewidth": 0,
              "ticks": ""
             }
            },
            "type": "scatterternary"
           }
          ],
          "surface": [
           {
            "colorbar": {
             "outlinewidth": 0,
             "ticks": ""
            },
            "colorscale": [
             [
              0,
              "#0d0887"
             ],
             [
              0.1111111111111111,
              "#46039f"
             ],
             [
              0.2222222222222222,
              "#7201a8"
             ],
             [
              0.3333333333333333,
              "#9c179e"
             ],
             [
              0.4444444444444444,
              "#bd3786"
             ],
             [
              0.5555555555555556,
              "#d8576b"
             ],
             [
              0.6666666666666666,
              "#ed7953"
             ],
             [
              0.7777777777777778,
              "#fb9f3a"
             ],
             [
              0.8888888888888888,
              "#fdca26"
             ],
             [
              1,
              "#f0f921"
             ]
            ],
            "type": "surface"
           }
          ],
          "table": [
           {
            "cells": {
             "fill": {
              "color": "#EBF0F8"
             },
             "line": {
              "color": "white"
             }
            },
            "header": {
             "fill": {
              "color": "#C8D4E3"
             },
             "line": {
              "color": "white"
             }
            },
            "type": "table"
           }
          ]
         },
         "layout": {
          "annotationdefaults": {
           "arrowcolor": "#2a3f5f",
           "arrowhead": 0,
           "arrowwidth": 1
          },
          "colorscale": {
           "diverging": [
            [
             0,
             "#8e0152"
            ],
            [
             0.1,
             "#c51b7d"
            ],
            [
             0.2,
             "#de77ae"
            ],
            [
             0.3,
             "#f1b6da"
            ],
            [
             0.4,
             "#fde0ef"
            ],
            [
             0.5,
             "#f7f7f7"
            ],
            [
             0.6,
             "#e6f5d0"
            ],
            [
             0.7,
             "#b8e186"
            ],
            [
             0.8,
             "#7fbc41"
            ],
            [
             0.9,
             "#4d9221"
            ],
            [
             1,
             "#276419"
            ]
           ],
           "sequential": [
            [
             0,
             "#0d0887"
            ],
            [
             0.1111111111111111,
             "#46039f"
            ],
            [
             0.2222222222222222,
             "#7201a8"
            ],
            [
             0.3333333333333333,
             "#9c179e"
            ],
            [
             0.4444444444444444,
             "#bd3786"
            ],
            [
             0.5555555555555556,
             "#d8576b"
            ],
            [
             0.6666666666666666,
             "#ed7953"
            ],
            [
             0.7777777777777778,
             "#fb9f3a"
            ],
            [
             0.8888888888888888,
             "#fdca26"
            ],
            [
             1,
             "#f0f921"
            ]
           ],
           "sequentialminus": [
            [
             0,
             "#0d0887"
            ],
            [
             0.1111111111111111,
             "#46039f"
            ],
            [
             0.2222222222222222,
             "#7201a8"
            ],
            [
             0.3333333333333333,
             "#9c179e"
            ],
            [
             0.4444444444444444,
             "#bd3786"
            ],
            [
             0.5555555555555556,
             "#d8576b"
            ],
            [
             0.6666666666666666,
             "#ed7953"
            ],
            [
             0.7777777777777778,
             "#fb9f3a"
            ],
            [
             0.8888888888888888,
             "#fdca26"
            ],
            [
             1,
             "#f0f921"
            ]
           ]
          },
          "colorway": [
           "#636efa",
           "#EF553B",
           "#00cc96",
           "#ab63fa",
           "#FFA15A",
           "#19d3f3",
           "#FF6692",
           "#B6E880",
           "#FF97FF",
           "#FECB52"
          ],
          "font": {
           "color": "#2a3f5f"
          },
          "geo": {
           "bgcolor": "white",
           "lakecolor": "white",
           "landcolor": "#E5ECF6",
           "showlakes": true,
           "showland": true,
           "subunitcolor": "white"
          },
          "hoverlabel": {
           "align": "left"
          },
          "hovermode": "closest",
          "mapbox": {
           "style": "light"
          },
          "paper_bgcolor": "white",
          "plot_bgcolor": "#E5ECF6",
          "polar": {
           "angularaxis": {
            "gridcolor": "white",
            "linecolor": "white",
            "ticks": ""
           },
           "bgcolor": "#E5ECF6",
           "radialaxis": {
            "gridcolor": "white",
            "linecolor": "white",
            "ticks": ""
           }
          },
          "scene": {
           "xaxis": {
            "backgroundcolor": "#E5ECF6",
            "gridcolor": "white",
            "gridwidth": 2,
            "linecolor": "white",
            "showbackground": true,
            "ticks": "",
            "zerolinecolor": "white"
           },
           "yaxis": {
            "backgroundcolor": "#E5ECF6",
            "gridcolor": "white",
            "gridwidth": 2,
            "linecolor": "white",
            "showbackground": true,
            "ticks": "",
            "zerolinecolor": "white"
           },
           "zaxis": {
            "backgroundcolor": "#E5ECF6",
            "gridcolor": "white",
            "gridwidth": 2,
            "linecolor": "white",
            "showbackground": true,
            "ticks": "",
            "zerolinecolor": "white"
           }
          },
          "shapedefaults": {
           "line": {
            "color": "#2a3f5f"
           }
          },
          "ternary": {
           "aaxis": {
            "gridcolor": "white",
            "linecolor": "white",
            "ticks": ""
           },
           "baxis": {
            "gridcolor": "white",
            "linecolor": "white",
            "ticks": ""
           },
           "bgcolor": "#E5ECF6",
           "caxis": {
            "gridcolor": "white",
            "linecolor": "white",
            "ticks": ""
           }
          },
          "title": {
           "x": 0.05
          },
          "xaxis": {
           "automargin": true,
           "gridcolor": "white",
           "linecolor": "white",
           "ticks": "",
           "zerolinecolor": "white",
           "zerolinewidth": 2
          },
          "yaxis": {
           "automargin": true,
           "gridcolor": "white",
           "linecolor": "white",
           "ticks": "",
           "zerolinecolor": "white",
           "zerolinewidth": 2
          }
         }
        },
        "title": {
         "font": {
          "color": "#151516"
         },
         "text": "Top 20 bigrams After removing stop words"
        },
        "xaxis": {
         "gridcolor": "#F6F6F6",
         "linecolor": "black",
         "showgrid": true,
         "tickfont": {
          "color": "#666666"
         },
         "title": {
          "font": {
           "color": "#666666"
          },
          "text": ""
         },
         "zerolinecolor": "#F6F6F6"
        },
        "yaxis": {
         "gridcolor": "#F6F6F6",
         "linecolor": "black",
         "showgrid": true,
         "tickfont": {
          "color": "#666666"
         },
         "title": {
          "font": {
           "color": "#666666"
          },
          "text": "Count"
         },
         "zerolinecolor": "#F6F6F6"
        }
       }
      },
      "text/html": [
       "<div>\n",
       "        \n",
       "        \n",
       "            <div id=\"27705462-c450-4f84-b2dc-3556e6980ff3\" class=\"plotly-graph-div\" style=\"height:525px; width:100%;\"></div>\n",
       "            <script type=\"text/javascript\">\n",
       "                require([\"plotly\"], function(Plotly) {\n",
       "                    window.PLOTLYENV=window.PLOTLYENV || {};\n",
       "                    window.PLOTLYENV.BASE_URL='https://plot.ly';\n",
       "                    \n",
       "                if (document.getElementById(\"27705462-c450-4f84-b2dc-3556e6980ff3\")) {\n",
       "                    Plotly.newPlot(\n",
       "                        '27705462-c450-4f84-b2dc-3556e6980ff3',\n",
       "                        [{\"marker\": {\"color\": \"rgba(226, 74, 51, 0.6)\", \"line\": {\"color\": \"rgba(226, 74, 51, 1.0)\", \"width\": 1}}, \"name\": \"count\", \"orientation\": \"v\", \"text\": \"\", \"type\": \"bar\", \"x\": [\"dental implants\", \"bone implant\", \"peri implant\", \"implants placed\", \"implant contact\", \"implant placement\", \"bone formation\", \"titanium implants\", \"implant bone\", \"dental implant\", \"implant surface\", \"materials methods\", \"implant stability\", \"bone loss\", \"long term\", \"new bone\", \"soft tissue\", \"control group\", \"implant surfaces\", \"marginal bone\"], \"y\": [3820, 3686, 2889, 2603, 2176, 2153, 2125, 2013, 1905, 1732, 1668, 1608, 1469, 1440, 1299, 1218, 1185, 1034, 982, 978]}],\n",
       "                        {\"legend\": {\"bgcolor\": \"#FFFFFF\", \"font\": {\"color\": \"#666666\"}}, \"paper_bgcolor\": \"#FFFFFF\", \"plot_bgcolor\": \"#E5E5E5\", \"template\": {\"data\": {\"bar\": [{\"error_x\": {\"color\": \"#2a3f5f\"}, \"error_y\": {\"color\": \"#2a3f5f\"}, \"marker\": {\"line\": {\"color\": \"#E5ECF6\", \"width\": 0.5}}, \"type\": \"bar\"}], \"barpolar\": [{\"marker\": {\"line\": {\"color\": \"#E5ECF6\", \"width\": 0.5}}, \"type\": \"barpolar\"}], \"carpet\": [{\"aaxis\": {\"endlinecolor\": \"#2a3f5f\", \"gridcolor\": \"white\", \"linecolor\": \"white\", \"minorgridcolor\": \"white\", \"startlinecolor\": \"#2a3f5f\"}, \"baxis\": {\"endlinecolor\": \"#2a3f5f\", \"gridcolor\": \"white\", \"linecolor\": \"white\", \"minorgridcolor\": \"white\", \"startlinecolor\": \"#2a3f5f\"}, \"type\": \"carpet\"}], \"choropleth\": [{\"colorbar\": {\"outlinewidth\": 0, \"ticks\": \"\"}, \"type\": \"choropleth\"}], \"contour\": [{\"colorbar\": {\"outlinewidth\": 0, \"ticks\": \"\"}, \"colorscale\": [[0.0, \"#0d0887\"], [0.1111111111111111, \"#46039f\"], [0.2222222222222222, \"#7201a8\"], [0.3333333333333333, \"#9c179e\"], [0.4444444444444444, \"#bd3786\"], [0.5555555555555556, \"#d8576b\"], [0.6666666666666666, \"#ed7953\"], [0.7777777777777778, \"#fb9f3a\"], [0.8888888888888888, \"#fdca26\"], [1.0, \"#f0f921\"]], \"type\": \"contour\"}], \"contourcarpet\": [{\"colorbar\": {\"outlinewidth\": 0, \"ticks\": \"\"}, \"type\": \"contourcarpet\"}], \"heatmap\": [{\"colorbar\": {\"outlinewidth\": 0, \"ticks\": \"\"}, \"colorscale\": [[0.0, \"#0d0887\"], [0.1111111111111111, \"#46039f\"], [0.2222222222222222, \"#7201a8\"], [0.3333333333333333, \"#9c179e\"], [0.4444444444444444, \"#bd3786\"], [0.5555555555555556, \"#d8576b\"], [0.6666666666666666, \"#ed7953\"], [0.7777777777777778, \"#fb9f3a\"], [0.8888888888888888, \"#fdca26\"], [1.0, \"#f0f921\"]], \"type\": \"heatmap\"}], \"heatmapgl\": [{\"colorbar\": {\"outlinewidth\": 0, \"ticks\": \"\"}, \"colorscale\": [[0.0, \"#0d0887\"], [0.1111111111111111, \"#46039f\"], [0.2222222222222222, \"#7201a8\"], [0.3333333333333333, \"#9c179e\"], [0.4444444444444444, \"#bd3786\"], [0.5555555555555556, \"#d8576b\"], [0.6666666666666666, \"#ed7953\"], [0.7777777777777778, \"#fb9f3a\"], [0.8888888888888888, \"#fdca26\"], [1.0, \"#f0f921\"]], \"type\": \"heatmapgl\"}], \"histogram\": [{\"marker\": {\"colorbar\": {\"outlinewidth\": 0, \"ticks\": \"\"}}, \"type\": \"histogram\"}], \"histogram2d\": [{\"colorbar\": {\"outlinewidth\": 0, \"ticks\": \"\"}, \"colorscale\": [[0.0, \"#0d0887\"], [0.1111111111111111, \"#46039f\"], [0.2222222222222222, \"#7201a8\"], [0.3333333333333333, \"#9c179e\"], [0.4444444444444444, \"#bd3786\"], [0.5555555555555556, \"#d8576b\"], [0.6666666666666666, \"#ed7953\"], [0.7777777777777778, \"#fb9f3a\"], [0.8888888888888888, \"#fdca26\"], [1.0, \"#f0f921\"]], \"type\": \"histogram2d\"}], \"histogram2dcontour\": [{\"colorbar\": {\"outlinewidth\": 0, \"ticks\": \"\"}, \"colorscale\": [[0.0, \"#0d0887\"], [0.1111111111111111, \"#46039f\"], [0.2222222222222222, \"#7201a8\"], [0.3333333333333333, \"#9c179e\"], [0.4444444444444444, \"#bd3786\"], [0.5555555555555556, \"#d8576b\"], [0.6666666666666666, \"#ed7953\"], [0.7777777777777778, \"#fb9f3a\"], [0.8888888888888888, \"#fdca26\"], [1.0, \"#f0f921\"]], \"type\": \"histogram2dcontour\"}], \"mesh3d\": [{\"colorbar\": {\"outlinewidth\": 0, \"ticks\": \"\"}, \"type\": \"mesh3d\"}], \"parcoords\": [{\"line\": {\"colorbar\": {\"outlinewidth\": 0, \"ticks\": \"\"}}, \"type\": \"parcoords\"}], \"scatter\": [{\"marker\": {\"colorbar\": {\"outlinewidth\": 0, \"ticks\": \"\"}}, \"type\": \"scatter\"}], \"scatter3d\": [{\"line\": {\"colorbar\": {\"outlinewidth\": 0, \"ticks\": \"\"}}, \"marker\": {\"colorbar\": {\"outlinewidth\": 0, \"ticks\": \"\"}}, \"type\": \"scatter3d\"}], \"scattercarpet\": [{\"marker\": {\"colorbar\": {\"outlinewidth\": 0, \"ticks\": \"\"}}, \"type\": \"scattercarpet\"}], \"scattergeo\": [{\"marker\": {\"colorbar\": {\"outlinewidth\": 0, \"ticks\": \"\"}}, \"type\": \"scattergeo\"}], \"scattergl\": [{\"marker\": {\"colorbar\": {\"outlinewidth\": 0, \"ticks\": \"\"}}, \"type\": \"scattergl\"}], \"scattermapbox\": [{\"marker\": {\"colorbar\": {\"outlinewidth\": 0, \"ticks\": \"\"}}, \"type\": \"scattermapbox\"}], \"scatterpolar\": [{\"marker\": {\"colorbar\": {\"outlinewidth\": 0, \"ticks\": \"\"}}, \"type\": \"scatterpolar\"}], \"scatterpolargl\": [{\"marker\": {\"colorbar\": {\"outlinewidth\": 0, \"ticks\": \"\"}}, \"type\": \"scatterpolargl\"}], \"scatterternary\": [{\"marker\": {\"colorbar\": {\"outlinewidth\": 0, \"ticks\": \"\"}}, \"type\": \"scatterternary\"}], \"surface\": [{\"colorbar\": {\"outlinewidth\": 0, \"ticks\": \"\"}, \"colorscale\": [[0.0, \"#0d0887\"], [0.1111111111111111, \"#46039f\"], [0.2222222222222222, \"#7201a8\"], [0.3333333333333333, \"#9c179e\"], [0.4444444444444444, \"#bd3786\"], [0.5555555555555556, \"#d8576b\"], [0.6666666666666666, \"#ed7953\"], [0.7777777777777778, \"#fb9f3a\"], [0.8888888888888888, \"#fdca26\"], [1.0, \"#f0f921\"]], \"type\": \"surface\"}], \"table\": [{\"cells\": {\"fill\": {\"color\": \"#EBF0F8\"}, \"line\": {\"color\": \"white\"}}, \"header\": {\"fill\": {\"color\": \"#C8D4E3\"}, \"line\": {\"color\": \"white\"}}, \"type\": \"table\"}]}, \"layout\": {\"annotationdefaults\": {\"arrowcolor\": \"#2a3f5f\", \"arrowhead\": 0, \"arrowwidth\": 1}, \"colorscale\": {\"diverging\": [[0, \"#8e0152\"], [0.1, \"#c51b7d\"], [0.2, \"#de77ae\"], [0.3, \"#f1b6da\"], [0.4, \"#fde0ef\"], [0.5, \"#f7f7f7\"], [0.6, \"#e6f5d0\"], [0.7, \"#b8e186\"], [0.8, \"#7fbc41\"], [0.9, \"#4d9221\"], [1, \"#276419\"]], \"sequential\": [[0.0, \"#0d0887\"], [0.1111111111111111, \"#46039f\"], [0.2222222222222222, \"#7201a8\"], [0.3333333333333333, \"#9c179e\"], [0.4444444444444444, \"#bd3786\"], [0.5555555555555556, \"#d8576b\"], [0.6666666666666666, \"#ed7953\"], [0.7777777777777778, \"#fb9f3a\"], [0.8888888888888888, \"#fdca26\"], [1.0, \"#f0f921\"]], \"sequentialminus\": [[0.0, \"#0d0887\"], [0.1111111111111111, \"#46039f\"], [0.2222222222222222, \"#7201a8\"], [0.3333333333333333, \"#9c179e\"], [0.4444444444444444, \"#bd3786\"], [0.5555555555555556, \"#d8576b\"], [0.6666666666666666, \"#ed7953\"], [0.7777777777777778, \"#fb9f3a\"], [0.8888888888888888, \"#fdca26\"], [1.0, \"#f0f921\"]]}, \"colorway\": [\"#636efa\", \"#EF553B\", \"#00cc96\", \"#ab63fa\", \"#FFA15A\", \"#19d3f3\", \"#FF6692\", \"#B6E880\", \"#FF97FF\", \"#FECB52\"], \"font\": {\"color\": \"#2a3f5f\"}, \"geo\": {\"bgcolor\": \"white\", \"lakecolor\": \"white\", \"landcolor\": \"#E5ECF6\", \"showlakes\": true, \"showland\": true, \"subunitcolor\": \"white\"}, \"hoverlabel\": {\"align\": \"left\"}, \"hovermode\": \"closest\", \"mapbox\": {\"style\": \"light\"}, \"paper_bgcolor\": \"white\", \"plot_bgcolor\": \"#E5ECF6\", \"polar\": {\"angularaxis\": {\"gridcolor\": \"white\", \"linecolor\": \"white\", \"ticks\": \"\"}, \"bgcolor\": \"#E5ECF6\", \"radialaxis\": {\"gridcolor\": \"white\", \"linecolor\": \"white\", \"ticks\": \"\"}}, \"scene\": {\"xaxis\": {\"backgroundcolor\": \"#E5ECF6\", \"gridcolor\": \"white\", \"gridwidth\": 2, \"linecolor\": \"white\", \"showbackground\": true, \"ticks\": \"\", \"zerolinecolor\": \"white\"}, \"yaxis\": {\"backgroundcolor\": \"#E5ECF6\", \"gridcolor\": \"white\", \"gridwidth\": 2, \"linecolor\": \"white\", \"showbackground\": true, \"ticks\": \"\", \"zerolinecolor\": \"white\"}, \"zaxis\": {\"backgroundcolor\": \"#E5ECF6\", \"gridcolor\": \"white\", \"gridwidth\": 2, \"linecolor\": \"white\", \"showbackground\": true, \"ticks\": \"\", \"zerolinecolor\": \"white\"}}, \"shapedefaults\": {\"line\": {\"color\": \"#2a3f5f\"}}, \"ternary\": {\"aaxis\": {\"gridcolor\": \"white\", \"linecolor\": \"white\", \"ticks\": \"\"}, \"baxis\": {\"gridcolor\": \"white\", \"linecolor\": \"white\", \"ticks\": \"\"}, \"bgcolor\": \"#E5ECF6\", \"caxis\": {\"gridcolor\": \"white\", \"linecolor\": \"white\", \"ticks\": \"\"}}, \"title\": {\"x\": 0.05}, \"xaxis\": {\"automargin\": true, \"gridcolor\": \"white\", \"linecolor\": \"white\", \"ticks\": \"\", \"zerolinecolor\": \"white\", \"zerolinewidth\": 2}, \"yaxis\": {\"automargin\": true, \"gridcolor\": \"white\", \"linecolor\": \"white\", \"ticks\": \"\", \"zerolinecolor\": \"white\", \"zerolinewidth\": 2}}}, \"title\": {\"font\": {\"color\": \"#151516\"}, \"text\": \"Top 20 bigrams After removing stop words\"}, \"xaxis\": {\"gridcolor\": \"#F6F6F6\", \"linecolor\": \"black\", \"showgrid\": true, \"tickfont\": {\"color\": \"#666666\"}, \"title\": {\"font\": {\"color\": \"#666666\"}, \"text\": \"\"}, \"zerolinecolor\": \"#F6F6F6\"}, \"yaxis\": {\"gridcolor\": \"#F6F6F6\", \"linecolor\": \"black\", \"showgrid\": true, \"tickfont\": {\"color\": \"#666666\"}, \"title\": {\"font\": {\"color\": \"#666666\"}, \"text\": \"Count\"}, \"zerolinecolor\": \"#F6F6F6\"}},\n",
       "                        {\"showLink\": true, \"linkText\": \"Export to plot.ly\", \"plotlyServerURL\": \"https://plot.ly\", \"responsive\": true}\n",
       "                    ).then(function(){\n",
       "                            \n",
       "var gd = document.getElementById('27705462-c450-4f84-b2dc-3556e6980ff3');\n",
       "var x = new MutationObserver(function (mutations, observer) {{\n",
       "        var display = window.getComputedStyle(gd).display;\n",
       "        if (!display || display === 'none') {{\n",
       "            console.log([gd, 'removed!']);\n",
       "            Plotly.purge(gd);\n",
       "            observer.disconnect();\n",
       "        }}\n",
       "}});\n",
       "\n",
       "// Listen for the removal of the full notebook cells\n",
       "var notebookContainer = gd.closest('#notebook-container');\n",
       "if (notebookContainer) {{\n",
       "    x.observe(notebookContainer, {childList: true});\n",
       "}}\n",
       "\n",
       "// Listen for the clearing of the current output cell\n",
       "var outputEl = gd.closest('.output');\n",
       "if (outputEl) {{\n",
       "    x.observe(outputEl, {childList: true});\n",
       "}}\n",
       "\n",
       "                        })\n",
       "                };\n",
       "                });\n",
       "            </script>\n",
       "        </div>"
      ]
     },
     "metadata": {},
     "output_type": "display_data"
    }
   ],
   "source": [
    "def get_top_n_bigram(corpus, n=None):\n",
    "    vec = CountVectorizer(ngram_range=(2, 2), stop_words='english').fit(corpus)\n",
    "    bag_of_words = vec.transform(corpus)\n",
    "    sum_words = bag_of_words.sum(axis=0) \n",
    "    words_freq = [(word, sum_words[0, idx]) for word, idx in vec.vocabulary_.items()]\n",
    "    words_freq =sorted(words_freq, key = lambda x: x[1], reverse=True)\n",
    "    return words_freq[:n]\n",
    "common_words = get_top_n_bigram(df['abstractClean'], 20)\n",
    "df4 = pd.DataFrame(common_words, columns = ['abstractClean' , 'count'])\n",
    "df4.groupby('abstractClean').sum()['count'].sort_values(ascending=False).iplot(kind='bar', yTitle='Count', linecolor='black', title='Top 20 bigrams After removing stop words')"
   ]
  },
  {
   "cell_type": "markdown",
   "metadata": {},
   "source": [
    "### Trigrams Frequency Distribution Before Removing Stop Word"
   ]
  },
  {
   "cell_type": "code",
   "execution_count": 19,
   "metadata": {},
   "outputs": [
    {
     "data": {
      "application/vnd.plotly.v1+json": {
       "config": {
        "linkText": "Export to plot.ly",
        "plotlyServerURL": "https://plot.ly",
        "showLink": true
       },
       "data": [
        {
         "marker": {
          "color": "rgba(226, 74, 51, 0.6)",
          "line": {
           "color": "rgba(226, 74, 51, 1.0)",
           "width": 1
          }
         },
         "name": "count",
         "orientation": "v",
         "text": "",
         "type": "bar",
         "x": [
          "study was to",
          "of this study",
          "of the implant",
          "materials and methods",
          "this study was",
          "the aim of",
          "bone to implant",
          "to implant contact",
          "to evaluate the",
          "of dental implants",
          "the use of",
          "implants were placed",
          "aim of this",
          "peri implant bone",
          "the effect of",
          "were placed in",
          "of the implants",
          "bone implant contact",
          "the purpose of",
          "as well as"
         ],
         "y": [
          1941,
          1886,
          1655,
          1596,
          1511,
          1477,
          1364,
          1261,
          1224,
          1187,
          1137,
          1134,
          1108,
          1095,
          977,
          912,
          896,
          880,
          835,
          828
         ]
        }
       ],
       "layout": {
        "legend": {
         "bgcolor": "#FFFFFF",
         "font": {
          "color": "#666666"
         }
        },
        "paper_bgcolor": "#FFFFFF",
        "plot_bgcolor": "#E5E5E5",
        "template": {
         "data": {
          "bar": [
           {
            "error_x": {
             "color": "#2a3f5f"
            },
            "error_y": {
             "color": "#2a3f5f"
            },
            "marker": {
             "line": {
              "color": "#E5ECF6",
              "width": 0.5
             }
            },
            "type": "bar"
           }
          ],
          "barpolar": [
           {
            "marker": {
             "line": {
              "color": "#E5ECF6",
              "width": 0.5
             }
            },
            "type": "barpolar"
           }
          ],
          "carpet": [
           {
            "aaxis": {
             "endlinecolor": "#2a3f5f",
             "gridcolor": "white",
             "linecolor": "white",
             "minorgridcolor": "white",
             "startlinecolor": "#2a3f5f"
            },
            "baxis": {
             "endlinecolor": "#2a3f5f",
             "gridcolor": "white",
             "linecolor": "white",
             "minorgridcolor": "white",
             "startlinecolor": "#2a3f5f"
            },
            "type": "carpet"
           }
          ],
          "choropleth": [
           {
            "colorbar": {
             "outlinewidth": 0,
             "ticks": ""
            },
            "type": "choropleth"
           }
          ],
          "contour": [
           {
            "colorbar": {
             "outlinewidth": 0,
             "ticks": ""
            },
            "colorscale": [
             [
              0,
              "#0d0887"
             ],
             [
              0.1111111111111111,
              "#46039f"
             ],
             [
              0.2222222222222222,
              "#7201a8"
             ],
             [
              0.3333333333333333,
              "#9c179e"
             ],
             [
              0.4444444444444444,
              "#bd3786"
             ],
             [
              0.5555555555555556,
              "#d8576b"
             ],
             [
              0.6666666666666666,
              "#ed7953"
             ],
             [
              0.7777777777777778,
              "#fb9f3a"
             ],
             [
              0.8888888888888888,
              "#fdca26"
             ],
             [
              1,
              "#f0f921"
             ]
            ],
            "type": "contour"
           }
          ],
          "contourcarpet": [
           {
            "colorbar": {
             "outlinewidth": 0,
             "ticks": ""
            },
            "type": "contourcarpet"
           }
          ],
          "heatmap": [
           {
            "colorbar": {
             "outlinewidth": 0,
             "ticks": ""
            },
            "colorscale": [
             [
              0,
              "#0d0887"
             ],
             [
              0.1111111111111111,
              "#46039f"
             ],
             [
              0.2222222222222222,
              "#7201a8"
             ],
             [
              0.3333333333333333,
              "#9c179e"
             ],
             [
              0.4444444444444444,
              "#bd3786"
             ],
             [
              0.5555555555555556,
              "#d8576b"
             ],
             [
              0.6666666666666666,
              "#ed7953"
             ],
             [
              0.7777777777777778,
              "#fb9f3a"
             ],
             [
              0.8888888888888888,
              "#fdca26"
             ],
             [
              1,
              "#f0f921"
             ]
            ],
            "type": "heatmap"
           }
          ],
          "heatmapgl": [
           {
            "colorbar": {
             "outlinewidth": 0,
             "ticks": ""
            },
            "colorscale": [
             [
              0,
              "#0d0887"
             ],
             [
              0.1111111111111111,
              "#46039f"
             ],
             [
              0.2222222222222222,
              "#7201a8"
             ],
             [
              0.3333333333333333,
              "#9c179e"
             ],
             [
              0.4444444444444444,
              "#bd3786"
             ],
             [
              0.5555555555555556,
              "#d8576b"
             ],
             [
              0.6666666666666666,
              "#ed7953"
             ],
             [
              0.7777777777777778,
              "#fb9f3a"
             ],
             [
              0.8888888888888888,
              "#fdca26"
             ],
             [
              1,
              "#f0f921"
             ]
            ],
            "type": "heatmapgl"
           }
          ],
          "histogram": [
           {
            "marker": {
             "colorbar": {
              "outlinewidth": 0,
              "ticks": ""
             }
            },
            "type": "histogram"
           }
          ],
          "histogram2d": [
           {
            "colorbar": {
             "outlinewidth": 0,
             "ticks": ""
            },
            "colorscale": [
             [
              0,
              "#0d0887"
             ],
             [
              0.1111111111111111,
              "#46039f"
             ],
             [
              0.2222222222222222,
              "#7201a8"
             ],
             [
              0.3333333333333333,
              "#9c179e"
             ],
             [
              0.4444444444444444,
              "#bd3786"
             ],
             [
              0.5555555555555556,
              "#d8576b"
             ],
             [
              0.6666666666666666,
              "#ed7953"
             ],
             [
              0.7777777777777778,
              "#fb9f3a"
             ],
             [
              0.8888888888888888,
              "#fdca26"
             ],
             [
              1,
              "#f0f921"
             ]
            ],
            "type": "histogram2d"
           }
          ],
          "histogram2dcontour": [
           {
            "colorbar": {
             "outlinewidth": 0,
             "ticks": ""
            },
            "colorscale": [
             [
              0,
              "#0d0887"
             ],
             [
              0.1111111111111111,
              "#46039f"
             ],
             [
              0.2222222222222222,
              "#7201a8"
             ],
             [
              0.3333333333333333,
              "#9c179e"
             ],
             [
              0.4444444444444444,
              "#bd3786"
             ],
             [
              0.5555555555555556,
              "#d8576b"
             ],
             [
              0.6666666666666666,
              "#ed7953"
             ],
             [
              0.7777777777777778,
              "#fb9f3a"
             ],
             [
              0.8888888888888888,
              "#fdca26"
             ],
             [
              1,
              "#f0f921"
             ]
            ],
            "type": "histogram2dcontour"
           }
          ],
          "mesh3d": [
           {
            "colorbar": {
             "outlinewidth": 0,
             "ticks": ""
            },
            "type": "mesh3d"
           }
          ],
          "parcoords": [
           {
            "line": {
             "colorbar": {
              "outlinewidth": 0,
              "ticks": ""
             }
            },
            "type": "parcoords"
           }
          ],
          "scatter": [
           {
            "marker": {
             "colorbar": {
              "outlinewidth": 0,
              "ticks": ""
             }
            },
            "type": "scatter"
           }
          ],
          "scatter3d": [
           {
            "line": {
             "colorbar": {
              "outlinewidth": 0,
              "ticks": ""
             }
            },
            "marker": {
             "colorbar": {
              "outlinewidth": 0,
              "ticks": ""
             }
            },
            "type": "scatter3d"
           }
          ],
          "scattercarpet": [
           {
            "marker": {
             "colorbar": {
              "outlinewidth": 0,
              "ticks": ""
             }
            },
            "type": "scattercarpet"
           }
          ],
          "scattergeo": [
           {
            "marker": {
             "colorbar": {
              "outlinewidth": 0,
              "ticks": ""
             }
            },
            "type": "scattergeo"
           }
          ],
          "scattergl": [
           {
            "marker": {
             "colorbar": {
              "outlinewidth": 0,
              "ticks": ""
             }
            },
            "type": "scattergl"
           }
          ],
          "scattermapbox": [
           {
            "marker": {
             "colorbar": {
              "outlinewidth": 0,
              "ticks": ""
             }
            },
            "type": "scattermapbox"
           }
          ],
          "scatterpolar": [
           {
            "marker": {
             "colorbar": {
              "outlinewidth": 0,
              "ticks": ""
             }
            },
            "type": "scatterpolar"
           }
          ],
          "scatterpolargl": [
           {
            "marker": {
             "colorbar": {
              "outlinewidth": 0,
              "ticks": ""
             }
            },
            "type": "scatterpolargl"
           }
          ],
          "scatterternary": [
           {
            "marker": {
             "colorbar": {
              "outlinewidth": 0,
              "ticks": ""
             }
            },
            "type": "scatterternary"
           }
          ],
          "surface": [
           {
            "colorbar": {
             "outlinewidth": 0,
             "ticks": ""
            },
            "colorscale": [
             [
              0,
              "#0d0887"
             ],
             [
              0.1111111111111111,
              "#46039f"
             ],
             [
              0.2222222222222222,
              "#7201a8"
             ],
             [
              0.3333333333333333,
              "#9c179e"
             ],
             [
              0.4444444444444444,
              "#bd3786"
             ],
             [
              0.5555555555555556,
              "#d8576b"
             ],
             [
              0.6666666666666666,
              "#ed7953"
             ],
             [
              0.7777777777777778,
              "#fb9f3a"
             ],
             [
              0.8888888888888888,
              "#fdca26"
             ],
             [
              1,
              "#f0f921"
             ]
            ],
            "type": "surface"
           }
          ],
          "table": [
           {
            "cells": {
             "fill": {
              "color": "#EBF0F8"
             },
             "line": {
              "color": "white"
             }
            },
            "header": {
             "fill": {
              "color": "#C8D4E3"
             },
             "line": {
              "color": "white"
             }
            },
            "type": "table"
           }
          ]
         },
         "layout": {
          "annotationdefaults": {
           "arrowcolor": "#2a3f5f",
           "arrowhead": 0,
           "arrowwidth": 1
          },
          "colorscale": {
           "diverging": [
            [
             0,
             "#8e0152"
            ],
            [
             0.1,
             "#c51b7d"
            ],
            [
             0.2,
             "#de77ae"
            ],
            [
             0.3,
             "#f1b6da"
            ],
            [
             0.4,
             "#fde0ef"
            ],
            [
             0.5,
             "#f7f7f7"
            ],
            [
             0.6,
             "#e6f5d0"
            ],
            [
             0.7,
             "#b8e186"
            ],
            [
             0.8,
             "#7fbc41"
            ],
            [
             0.9,
             "#4d9221"
            ],
            [
             1,
             "#276419"
            ]
           ],
           "sequential": [
            [
             0,
             "#0d0887"
            ],
            [
             0.1111111111111111,
             "#46039f"
            ],
            [
             0.2222222222222222,
             "#7201a8"
            ],
            [
             0.3333333333333333,
             "#9c179e"
            ],
            [
             0.4444444444444444,
             "#bd3786"
            ],
            [
             0.5555555555555556,
             "#d8576b"
            ],
            [
             0.6666666666666666,
             "#ed7953"
            ],
            [
             0.7777777777777778,
             "#fb9f3a"
            ],
            [
             0.8888888888888888,
             "#fdca26"
            ],
            [
             1,
             "#f0f921"
            ]
           ],
           "sequentialminus": [
            [
             0,
             "#0d0887"
            ],
            [
             0.1111111111111111,
             "#46039f"
            ],
            [
             0.2222222222222222,
             "#7201a8"
            ],
            [
             0.3333333333333333,
             "#9c179e"
            ],
            [
             0.4444444444444444,
             "#bd3786"
            ],
            [
             0.5555555555555556,
             "#d8576b"
            ],
            [
             0.6666666666666666,
             "#ed7953"
            ],
            [
             0.7777777777777778,
             "#fb9f3a"
            ],
            [
             0.8888888888888888,
             "#fdca26"
            ],
            [
             1,
             "#f0f921"
            ]
           ]
          },
          "colorway": [
           "#636efa",
           "#EF553B",
           "#00cc96",
           "#ab63fa",
           "#FFA15A",
           "#19d3f3",
           "#FF6692",
           "#B6E880",
           "#FF97FF",
           "#FECB52"
          ],
          "font": {
           "color": "#2a3f5f"
          },
          "geo": {
           "bgcolor": "white",
           "lakecolor": "white",
           "landcolor": "#E5ECF6",
           "showlakes": true,
           "showland": true,
           "subunitcolor": "white"
          },
          "hoverlabel": {
           "align": "left"
          },
          "hovermode": "closest",
          "mapbox": {
           "style": "light"
          },
          "paper_bgcolor": "white",
          "plot_bgcolor": "#E5ECF6",
          "polar": {
           "angularaxis": {
            "gridcolor": "white",
            "linecolor": "white",
            "ticks": ""
           },
           "bgcolor": "#E5ECF6",
           "radialaxis": {
            "gridcolor": "white",
            "linecolor": "white",
            "ticks": ""
           }
          },
          "scene": {
           "xaxis": {
            "backgroundcolor": "#E5ECF6",
            "gridcolor": "white",
            "gridwidth": 2,
            "linecolor": "white",
            "showbackground": true,
            "ticks": "",
            "zerolinecolor": "white"
           },
           "yaxis": {
            "backgroundcolor": "#E5ECF6",
            "gridcolor": "white",
            "gridwidth": 2,
            "linecolor": "white",
            "showbackground": true,
            "ticks": "",
            "zerolinecolor": "white"
           },
           "zaxis": {
            "backgroundcolor": "#E5ECF6",
            "gridcolor": "white",
            "gridwidth": 2,
            "linecolor": "white",
            "showbackground": true,
            "ticks": "",
            "zerolinecolor": "white"
           }
          },
          "shapedefaults": {
           "line": {
            "color": "#2a3f5f"
           }
          },
          "ternary": {
           "aaxis": {
            "gridcolor": "white",
            "linecolor": "white",
            "ticks": ""
           },
           "baxis": {
            "gridcolor": "white",
            "linecolor": "white",
            "ticks": ""
           },
           "bgcolor": "#E5ECF6",
           "caxis": {
            "gridcolor": "white",
            "linecolor": "white",
            "ticks": ""
           }
          },
          "title": {
           "x": 0.05
          },
          "xaxis": {
           "automargin": true,
           "gridcolor": "white",
           "linecolor": "white",
           "ticks": "",
           "zerolinecolor": "white",
           "zerolinewidth": 2
          },
          "yaxis": {
           "automargin": true,
           "gridcolor": "white",
           "linecolor": "white",
           "ticks": "",
           "zerolinecolor": "white",
           "zerolinewidth": 2
          }
         }
        },
        "title": {
         "font": {
          "color": "#151516"
         },
         "text": "Top 20 trigrams before removing stop words"
        },
        "xaxis": {
         "gridcolor": "#F6F6F6",
         "linecolor": "black",
         "showgrid": true,
         "tickfont": {
          "color": "#666666"
         },
         "title": {
          "font": {
           "color": "#666666"
          },
          "text": ""
         },
         "zerolinecolor": "#F6F6F6"
        },
        "yaxis": {
         "gridcolor": "#F6F6F6",
         "linecolor": "black",
         "showgrid": true,
         "tickfont": {
          "color": "#666666"
         },
         "title": {
          "font": {
           "color": "#666666"
          },
          "text": "Count"
         },
         "zerolinecolor": "#F6F6F6"
        }
       }
      },
      "text/html": [
       "<div>\n",
       "        \n",
       "        \n",
       "            <div id=\"6c7e1465-94ee-4f36-b031-0a8e27ed9e30\" class=\"plotly-graph-div\" style=\"height:525px; width:100%;\"></div>\n",
       "            <script type=\"text/javascript\">\n",
       "                require([\"plotly\"], function(Plotly) {\n",
       "                    window.PLOTLYENV=window.PLOTLYENV || {};\n",
       "                    window.PLOTLYENV.BASE_URL='https://plot.ly';\n",
       "                    \n",
       "                if (document.getElementById(\"6c7e1465-94ee-4f36-b031-0a8e27ed9e30\")) {\n",
       "                    Plotly.newPlot(\n",
       "                        '6c7e1465-94ee-4f36-b031-0a8e27ed9e30',\n",
       "                        [{\"marker\": {\"color\": \"rgba(226, 74, 51, 0.6)\", \"line\": {\"color\": \"rgba(226, 74, 51, 1.0)\", \"width\": 1}}, \"name\": \"count\", \"orientation\": \"v\", \"text\": \"\", \"type\": \"bar\", \"x\": [\"study was to\", \"of this study\", \"of the implant\", \"materials and methods\", \"this study was\", \"the aim of\", \"bone to implant\", \"to implant contact\", \"to evaluate the\", \"of dental implants\", \"the use of\", \"implants were placed\", \"aim of this\", \"peri implant bone\", \"the effect of\", \"were placed in\", \"of the implants\", \"bone implant contact\", \"the purpose of\", \"as well as\"], \"y\": [1941, 1886, 1655, 1596, 1511, 1477, 1364, 1261, 1224, 1187, 1137, 1134, 1108, 1095, 977, 912, 896, 880, 835, 828]}],\n",
       "                        {\"legend\": {\"bgcolor\": \"#FFFFFF\", \"font\": {\"color\": \"#666666\"}}, \"paper_bgcolor\": \"#FFFFFF\", \"plot_bgcolor\": \"#E5E5E5\", \"template\": {\"data\": {\"bar\": [{\"error_x\": {\"color\": \"#2a3f5f\"}, \"error_y\": {\"color\": \"#2a3f5f\"}, \"marker\": {\"line\": {\"color\": \"#E5ECF6\", \"width\": 0.5}}, \"type\": \"bar\"}], \"barpolar\": [{\"marker\": {\"line\": {\"color\": \"#E5ECF6\", \"width\": 0.5}}, \"type\": \"barpolar\"}], \"carpet\": [{\"aaxis\": {\"endlinecolor\": \"#2a3f5f\", \"gridcolor\": \"white\", \"linecolor\": \"white\", \"minorgridcolor\": \"white\", \"startlinecolor\": \"#2a3f5f\"}, \"baxis\": {\"endlinecolor\": \"#2a3f5f\", \"gridcolor\": \"white\", \"linecolor\": \"white\", \"minorgridcolor\": \"white\", \"startlinecolor\": \"#2a3f5f\"}, \"type\": \"carpet\"}], \"choropleth\": [{\"colorbar\": {\"outlinewidth\": 0, \"ticks\": \"\"}, \"type\": \"choropleth\"}], \"contour\": [{\"colorbar\": {\"outlinewidth\": 0, \"ticks\": \"\"}, \"colorscale\": [[0.0, \"#0d0887\"], [0.1111111111111111, \"#46039f\"], [0.2222222222222222, \"#7201a8\"], [0.3333333333333333, \"#9c179e\"], [0.4444444444444444, \"#bd3786\"], [0.5555555555555556, \"#d8576b\"], [0.6666666666666666, \"#ed7953\"], [0.7777777777777778, \"#fb9f3a\"], [0.8888888888888888, \"#fdca26\"], [1.0, \"#f0f921\"]], \"type\": \"contour\"}], \"contourcarpet\": [{\"colorbar\": {\"outlinewidth\": 0, \"ticks\": \"\"}, \"type\": \"contourcarpet\"}], \"heatmap\": [{\"colorbar\": {\"outlinewidth\": 0, \"ticks\": \"\"}, \"colorscale\": [[0.0, \"#0d0887\"], [0.1111111111111111, \"#46039f\"], [0.2222222222222222, \"#7201a8\"], [0.3333333333333333, \"#9c179e\"], [0.4444444444444444, \"#bd3786\"], [0.5555555555555556, \"#d8576b\"], [0.6666666666666666, \"#ed7953\"], [0.7777777777777778, \"#fb9f3a\"], [0.8888888888888888, \"#fdca26\"], [1.0, \"#f0f921\"]], \"type\": \"heatmap\"}], \"heatmapgl\": [{\"colorbar\": {\"outlinewidth\": 0, \"ticks\": \"\"}, \"colorscale\": [[0.0, \"#0d0887\"], [0.1111111111111111, \"#46039f\"], [0.2222222222222222, \"#7201a8\"], [0.3333333333333333, \"#9c179e\"], [0.4444444444444444, \"#bd3786\"], [0.5555555555555556, \"#d8576b\"], [0.6666666666666666, \"#ed7953\"], [0.7777777777777778, \"#fb9f3a\"], [0.8888888888888888, \"#fdca26\"], [1.0, \"#f0f921\"]], \"type\": \"heatmapgl\"}], \"histogram\": [{\"marker\": {\"colorbar\": {\"outlinewidth\": 0, \"ticks\": \"\"}}, \"type\": \"histogram\"}], \"histogram2d\": [{\"colorbar\": {\"outlinewidth\": 0, \"ticks\": \"\"}, \"colorscale\": [[0.0, \"#0d0887\"], [0.1111111111111111, \"#46039f\"], [0.2222222222222222, \"#7201a8\"], [0.3333333333333333, \"#9c179e\"], [0.4444444444444444, \"#bd3786\"], [0.5555555555555556, \"#d8576b\"], [0.6666666666666666, \"#ed7953\"], [0.7777777777777778, \"#fb9f3a\"], [0.8888888888888888, \"#fdca26\"], [1.0, \"#f0f921\"]], \"type\": \"histogram2d\"}], \"histogram2dcontour\": [{\"colorbar\": {\"outlinewidth\": 0, \"ticks\": \"\"}, \"colorscale\": [[0.0, \"#0d0887\"], [0.1111111111111111, \"#46039f\"], [0.2222222222222222, \"#7201a8\"], [0.3333333333333333, \"#9c179e\"], [0.4444444444444444, \"#bd3786\"], [0.5555555555555556, \"#d8576b\"], [0.6666666666666666, \"#ed7953\"], [0.7777777777777778, \"#fb9f3a\"], [0.8888888888888888, \"#fdca26\"], [1.0, \"#f0f921\"]], \"type\": \"histogram2dcontour\"}], \"mesh3d\": [{\"colorbar\": {\"outlinewidth\": 0, \"ticks\": \"\"}, \"type\": \"mesh3d\"}], \"parcoords\": [{\"line\": {\"colorbar\": {\"outlinewidth\": 0, \"ticks\": \"\"}}, \"type\": \"parcoords\"}], \"scatter\": [{\"marker\": {\"colorbar\": {\"outlinewidth\": 0, \"ticks\": \"\"}}, \"type\": \"scatter\"}], \"scatter3d\": [{\"line\": {\"colorbar\": {\"outlinewidth\": 0, \"ticks\": \"\"}}, \"marker\": {\"colorbar\": {\"outlinewidth\": 0, \"ticks\": \"\"}}, \"type\": \"scatter3d\"}], \"scattercarpet\": [{\"marker\": {\"colorbar\": {\"outlinewidth\": 0, \"ticks\": \"\"}}, \"type\": \"scattercarpet\"}], \"scattergeo\": [{\"marker\": {\"colorbar\": {\"outlinewidth\": 0, \"ticks\": \"\"}}, \"type\": \"scattergeo\"}], \"scattergl\": [{\"marker\": {\"colorbar\": {\"outlinewidth\": 0, \"ticks\": \"\"}}, \"type\": \"scattergl\"}], \"scattermapbox\": [{\"marker\": {\"colorbar\": {\"outlinewidth\": 0, \"ticks\": \"\"}}, \"type\": \"scattermapbox\"}], \"scatterpolar\": [{\"marker\": {\"colorbar\": {\"outlinewidth\": 0, \"ticks\": \"\"}}, \"type\": \"scatterpolar\"}], \"scatterpolargl\": [{\"marker\": {\"colorbar\": {\"outlinewidth\": 0, \"ticks\": \"\"}}, \"type\": \"scatterpolargl\"}], \"scatterternary\": [{\"marker\": {\"colorbar\": {\"outlinewidth\": 0, \"ticks\": \"\"}}, \"type\": \"scatterternary\"}], \"surface\": [{\"colorbar\": {\"outlinewidth\": 0, \"ticks\": \"\"}, \"colorscale\": [[0.0, \"#0d0887\"], [0.1111111111111111, \"#46039f\"], [0.2222222222222222, \"#7201a8\"], [0.3333333333333333, \"#9c179e\"], [0.4444444444444444, \"#bd3786\"], [0.5555555555555556, \"#d8576b\"], [0.6666666666666666, \"#ed7953\"], [0.7777777777777778, \"#fb9f3a\"], [0.8888888888888888, \"#fdca26\"], [1.0, \"#f0f921\"]], \"type\": \"surface\"}], \"table\": [{\"cells\": {\"fill\": {\"color\": \"#EBF0F8\"}, \"line\": {\"color\": \"white\"}}, \"header\": {\"fill\": {\"color\": \"#C8D4E3\"}, \"line\": {\"color\": \"white\"}}, \"type\": \"table\"}]}, \"layout\": {\"annotationdefaults\": {\"arrowcolor\": \"#2a3f5f\", \"arrowhead\": 0, \"arrowwidth\": 1}, \"colorscale\": {\"diverging\": [[0, \"#8e0152\"], [0.1, \"#c51b7d\"], [0.2, \"#de77ae\"], [0.3, \"#f1b6da\"], [0.4, \"#fde0ef\"], [0.5, \"#f7f7f7\"], [0.6, \"#e6f5d0\"], [0.7, \"#b8e186\"], [0.8, \"#7fbc41\"], [0.9, \"#4d9221\"], [1, \"#276419\"]], \"sequential\": [[0.0, \"#0d0887\"], [0.1111111111111111, \"#46039f\"], [0.2222222222222222, \"#7201a8\"], [0.3333333333333333, \"#9c179e\"], [0.4444444444444444, \"#bd3786\"], [0.5555555555555556, \"#d8576b\"], [0.6666666666666666, \"#ed7953\"], [0.7777777777777778, \"#fb9f3a\"], [0.8888888888888888, \"#fdca26\"], [1.0, \"#f0f921\"]], \"sequentialminus\": [[0.0, \"#0d0887\"], [0.1111111111111111, \"#46039f\"], [0.2222222222222222, \"#7201a8\"], [0.3333333333333333, \"#9c179e\"], [0.4444444444444444, \"#bd3786\"], [0.5555555555555556, \"#d8576b\"], [0.6666666666666666, \"#ed7953\"], [0.7777777777777778, \"#fb9f3a\"], [0.8888888888888888, \"#fdca26\"], [1.0, \"#f0f921\"]]}, \"colorway\": [\"#636efa\", \"#EF553B\", \"#00cc96\", \"#ab63fa\", \"#FFA15A\", \"#19d3f3\", \"#FF6692\", \"#B6E880\", \"#FF97FF\", \"#FECB52\"], \"font\": {\"color\": \"#2a3f5f\"}, \"geo\": {\"bgcolor\": \"white\", \"lakecolor\": \"white\", \"landcolor\": \"#E5ECF6\", \"showlakes\": true, \"showland\": true, \"subunitcolor\": \"white\"}, \"hoverlabel\": {\"align\": \"left\"}, \"hovermode\": \"closest\", \"mapbox\": {\"style\": \"light\"}, \"paper_bgcolor\": \"white\", \"plot_bgcolor\": \"#E5ECF6\", \"polar\": {\"angularaxis\": {\"gridcolor\": \"white\", \"linecolor\": \"white\", \"ticks\": \"\"}, \"bgcolor\": \"#E5ECF6\", \"radialaxis\": {\"gridcolor\": \"white\", \"linecolor\": \"white\", \"ticks\": \"\"}}, \"scene\": {\"xaxis\": {\"backgroundcolor\": \"#E5ECF6\", \"gridcolor\": \"white\", \"gridwidth\": 2, \"linecolor\": \"white\", \"showbackground\": true, \"ticks\": \"\", \"zerolinecolor\": \"white\"}, \"yaxis\": {\"backgroundcolor\": \"#E5ECF6\", \"gridcolor\": \"white\", \"gridwidth\": 2, \"linecolor\": \"white\", \"showbackground\": true, \"ticks\": \"\", \"zerolinecolor\": \"white\"}, \"zaxis\": {\"backgroundcolor\": \"#E5ECF6\", \"gridcolor\": \"white\", \"gridwidth\": 2, \"linecolor\": \"white\", \"showbackground\": true, \"ticks\": \"\", \"zerolinecolor\": \"white\"}}, \"shapedefaults\": {\"line\": {\"color\": \"#2a3f5f\"}}, \"ternary\": {\"aaxis\": {\"gridcolor\": \"white\", \"linecolor\": \"white\", \"ticks\": \"\"}, \"baxis\": {\"gridcolor\": \"white\", \"linecolor\": \"white\", \"ticks\": \"\"}, \"bgcolor\": \"#E5ECF6\", \"caxis\": {\"gridcolor\": \"white\", \"linecolor\": \"white\", \"ticks\": \"\"}}, \"title\": {\"x\": 0.05}, \"xaxis\": {\"automargin\": true, \"gridcolor\": \"white\", \"linecolor\": \"white\", \"ticks\": \"\", \"zerolinecolor\": \"white\", \"zerolinewidth\": 2}, \"yaxis\": {\"automargin\": true, \"gridcolor\": \"white\", \"linecolor\": \"white\", \"ticks\": \"\", \"zerolinecolor\": \"white\", \"zerolinewidth\": 2}}}, \"title\": {\"font\": {\"color\": \"#151516\"}, \"text\": \"Top 20 trigrams before removing stop words\"}, \"xaxis\": {\"gridcolor\": \"#F6F6F6\", \"linecolor\": \"black\", \"showgrid\": true, \"tickfont\": {\"color\": \"#666666\"}, \"title\": {\"font\": {\"color\": \"#666666\"}, \"text\": \"\"}, \"zerolinecolor\": \"#F6F6F6\"}, \"yaxis\": {\"gridcolor\": \"#F6F6F6\", \"linecolor\": \"black\", \"showgrid\": true, \"tickfont\": {\"color\": \"#666666\"}, \"title\": {\"font\": {\"color\": \"#666666\"}, \"text\": \"Count\"}, \"zerolinecolor\": \"#F6F6F6\"}},\n",
       "                        {\"showLink\": true, \"linkText\": \"Export to plot.ly\", \"plotlyServerURL\": \"https://plot.ly\", \"responsive\": true}\n",
       "                    ).then(function(){\n",
       "                            \n",
       "var gd = document.getElementById('6c7e1465-94ee-4f36-b031-0a8e27ed9e30');\n",
       "var x = new MutationObserver(function (mutations, observer) {{\n",
       "        var display = window.getComputedStyle(gd).display;\n",
       "        if (!display || display === 'none') {{\n",
       "            console.log([gd, 'removed!']);\n",
       "            Plotly.purge(gd);\n",
       "            observer.disconnect();\n",
       "        }}\n",
       "}});\n",
       "\n",
       "// Listen for the removal of the full notebook cells\n",
       "var notebookContainer = gd.closest('#notebook-container');\n",
       "if (notebookContainer) {{\n",
       "    x.observe(notebookContainer, {childList: true});\n",
       "}}\n",
       "\n",
       "// Listen for the clearing of the current output cell\n",
       "var outputEl = gd.closest('.output');\n",
       "if (outputEl) {{\n",
       "    x.observe(outputEl, {childList: true});\n",
       "}}\n",
       "\n",
       "                        })\n",
       "                };\n",
       "                });\n",
       "            </script>\n",
       "        </div>"
      ]
     },
     "metadata": {},
     "output_type": "display_data"
    }
   ],
   "source": [
    "def get_top_n_trigram(corpus, n=None):\n",
    "    vec = CountVectorizer(ngram_range=(3, 3)).fit(corpus)\n",
    "    bag_of_words = vec.transform(corpus)\n",
    "    sum_words = bag_of_words.sum(axis=0) \n",
    "    words_freq = [(word, sum_words[0, idx]) for word, idx in vec.vocabulary_.items()]\n",
    "    words_freq =sorted(words_freq, key = lambda x: x[1], reverse=True)\n",
    "    return words_freq[:n]\n",
    "common_words = get_top_n_trigram(df['abstractClean'], 20)\n",
    "df5 = pd.DataFrame(common_words, columns = ['abstractClean' , 'count'])\n",
    "df5.groupby('abstractClean').sum()['count'].sort_values(ascending=False).iplot(kind='bar', yTitle='Count', linecolor='black', title='Top 20 trigrams before removing stop words')"
   ]
  },
  {
   "cell_type": "code",
   "execution_count": 20,
   "metadata": {},
   "outputs": [
    {
     "data": {
      "application/vnd.plotly.v1+json": {
       "config": {
        "linkText": "Export to plot.ly",
        "plotlyServerURL": "https://plot.ly",
        "showLink": true
       },
       "data": [
        {
         "marker": {
          "color": "rgba(226, 74, 51, 0.6)",
          "line": {
           "color": "rgba(226, 74, 51, 1.0)",
           "width": 1
          }
         },
         "name": "count",
         "orientation": "v",
         "text": "",
         "type": "bar",
         "x": [
          "bone implant contact",
          "peri implant bone",
          "john wiley sons",
          "bone implant interface",
          "new bone formation",
          "implant contact bic",
          "scanning electron microscopy",
          "resonance frequency analysis",
          "newly formed bone",
          "marginal bone loss",
          "implant stability quotient",
          "aim study evaluate",
          "osseointegration dental implants",
          "bone morphogenetic protein",
          "statistically significant differences",
          "dental implants placed",
          "wiley sons published",
          "published john wiley",
          "guided bone regeneration",
          "sandblasted acid etched"
         ],
         "y": [
          2129,
          1095,
          720,
          671,
          590,
          577,
          510,
          483,
          416,
          389,
          308,
          299,
          299,
          294,
          288,
          259,
          251,
          246,
          234,
          232
         ]
        }
       ],
       "layout": {
        "legend": {
         "bgcolor": "#FFFFFF",
         "font": {
          "color": "#666666"
         }
        },
        "paper_bgcolor": "#FFFFFF",
        "plot_bgcolor": "#E5E5E5",
        "template": {
         "data": {
          "bar": [
           {
            "error_x": {
             "color": "#2a3f5f"
            },
            "error_y": {
             "color": "#2a3f5f"
            },
            "marker": {
             "line": {
              "color": "#E5ECF6",
              "width": 0.5
             }
            },
            "type": "bar"
           }
          ],
          "barpolar": [
           {
            "marker": {
             "line": {
              "color": "#E5ECF6",
              "width": 0.5
             }
            },
            "type": "barpolar"
           }
          ],
          "carpet": [
           {
            "aaxis": {
             "endlinecolor": "#2a3f5f",
             "gridcolor": "white",
             "linecolor": "white",
             "minorgridcolor": "white",
             "startlinecolor": "#2a3f5f"
            },
            "baxis": {
             "endlinecolor": "#2a3f5f",
             "gridcolor": "white",
             "linecolor": "white",
             "minorgridcolor": "white",
             "startlinecolor": "#2a3f5f"
            },
            "type": "carpet"
           }
          ],
          "choropleth": [
           {
            "colorbar": {
             "outlinewidth": 0,
             "ticks": ""
            },
            "type": "choropleth"
           }
          ],
          "contour": [
           {
            "colorbar": {
             "outlinewidth": 0,
             "ticks": ""
            },
            "colorscale": [
             [
              0,
              "#0d0887"
             ],
             [
              0.1111111111111111,
              "#46039f"
             ],
             [
              0.2222222222222222,
              "#7201a8"
             ],
             [
              0.3333333333333333,
              "#9c179e"
             ],
             [
              0.4444444444444444,
              "#bd3786"
             ],
             [
              0.5555555555555556,
              "#d8576b"
             ],
             [
              0.6666666666666666,
              "#ed7953"
             ],
             [
              0.7777777777777778,
              "#fb9f3a"
             ],
             [
              0.8888888888888888,
              "#fdca26"
             ],
             [
              1,
              "#f0f921"
             ]
            ],
            "type": "contour"
           }
          ],
          "contourcarpet": [
           {
            "colorbar": {
             "outlinewidth": 0,
             "ticks": ""
            },
            "type": "contourcarpet"
           }
          ],
          "heatmap": [
           {
            "colorbar": {
             "outlinewidth": 0,
             "ticks": ""
            },
            "colorscale": [
             [
              0,
              "#0d0887"
             ],
             [
              0.1111111111111111,
              "#46039f"
             ],
             [
              0.2222222222222222,
              "#7201a8"
             ],
             [
              0.3333333333333333,
              "#9c179e"
             ],
             [
              0.4444444444444444,
              "#bd3786"
             ],
             [
              0.5555555555555556,
              "#d8576b"
             ],
             [
              0.6666666666666666,
              "#ed7953"
             ],
             [
              0.7777777777777778,
              "#fb9f3a"
             ],
             [
              0.8888888888888888,
              "#fdca26"
             ],
             [
              1,
              "#f0f921"
             ]
            ],
            "type": "heatmap"
           }
          ],
          "heatmapgl": [
           {
            "colorbar": {
             "outlinewidth": 0,
             "ticks": ""
            },
            "colorscale": [
             [
              0,
              "#0d0887"
             ],
             [
              0.1111111111111111,
              "#46039f"
             ],
             [
              0.2222222222222222,
              "#7201a8"
             ],
             [
              0.3333333333333333,
              "#9c179e"
             ],
             [
              0.4444444444444444,
              "#bd3786"
             ],
             [
              0.5555555555555556,
              "#d8576b"
             ],
             [
              0.6666666666666666,
              "#ed7953"
             ],
             [
              0.7777777777777778,
              "#fb9f3a"
             ],
             [
              0.8888888888888888,
              "#fdca26"
             ],
             [
              1,
              "#f0f921"
             ]
            ],
            "type": "heatmapgl"
           }
          ],
          "histogram": [
           {
            "marker": {
             "colorbar": {
              "outlinewidth": 0,
              "ticks": ""
             }
            },
            "type": "histogram"
           }
          ],
          "histogram2d": [
           {
            "colorbar": {
             "outlinewidth": 0,
             "ticks": ""
            },
            "colorscale": [
             [
              0,
              "#0d0887"
             ],
             [
              0.1111111111111111,
              "#46039f"
             ],
             [
              0.2222222222222222,
              "#7201a8"
             ],
             [
              0.3333333333333333,
              "#9c179e"
             ],
             [
              0.4444444444444444,
              "#bd3786"
             ],
             [
              0.5555555555555556,
              "#d8576b"
             ],
             [
              0.6666666666666666,
              "#ed7953"
             ],
             [
              0.7777777777777778,
              "#fb9f3a"
             ],
             [
              0.8888888888888888,
              "#fdca26"
             ],
             [
              1,
              "#f0f921"
             ]
            ],
            "type": "histogram2d"
           }
          ],
          "histogram2dcontour": [
           {
            "colorbar": {
             "outlinewidth": 0,
             "ticks": ""
            },
            "colorscale": [
             [
              0,
              "#0d0887"
             ],
             [
              0.1111111111111111,
              "#46039f"
             ],
             [
              0.2222222222222222,
              "#7201a8"
             ],
             [
              0.3333333333333333,
              "#9c179e"
             ],
             [
              0.4444444444444444,
              "#bd3786"
             ],
             [
              0.5555555555555556,
              "#d8576b"
             ],
             [
              0.6666666666666666,
              "#ed7953"
             ],
             [
              0.7777777777777778,
              "#fb9f3a"
             ],
             [
              0.8888888888888888,
              "#fdca26"
             ],
             [
              1,
              "#f0f921"
             ]
            ],
            "type": "histogram2dcontour"
           }
          ],
          "mesh3d": [
           {
            "colorbar": {
             "outlinewidth": 0,
             "ticks": ""
            },
            "type": "mesh3d"
           }
          ],
          "parcoords": [
           {
            "line": {
             "colorbar": {
              "outlinewidth": 0,
              "ticks": ""
             }
            },
            "type": "parcoords"
           }
          ],
          "scatter": [
           {
            "marker": {
             "colorbar": {
              "outlinewidth": 0,
              "ticks": ""
             }
            },
            "type": "scatter"
           }
          ],
          "scatter3d": [
           {
            "line": {
             "colorbar": {
              "outlinewidth": 0,
              "ticks": ""
             }
            },
            "marker": {
             "colorbar": {
              "outlinewidth": 0,
              "ticks": ""
             }
            },
            "type": "scatter3d"
           }
          ],
          "scattercarpet": [
           {
            "marker": {
             "colorbar": {
              "outlinewidth": 0,
              "ticks": ""
             }
            },
            "type": "scattercarpet"
           }
          ],
          "scattergeo": [
           {
            "marker": {
             "colorbar": {
              "outlinewidth": 0,
              "ticks": ""
             }
            },
            "type": "scattergeo"
           }
          ],
          "scattergl": [
           {
            "marker": {
             "colorbar": {
              "outlinewidth": 0,
              "ticks": ""
             }
            },
            "type": "scattergl"
           }
          ],
          "scattermapbox": [
           {
            "marker": {
             "colorbar": {
              "outlinewidth": 0,
              "ticks": ""
             }
            },
            "type": "scattermapbox"
           }
          ],
          "scatterpolar": [
           {
            "marker": {
             "colorbar": {
              "outlinewidth": 0,
              "ticks": ""
             }
            },
            "type": "scatterpolar"
           }
          ],
          "scatterpolargl": [
           {
            "marker": {
             "colorbar": {
              "outlinewidth": 0,
              "ticks": ""
             }
            },
            "type": "scatterpolargl"
           }
          ],
          "scatterternary": [
           {
            "marker": {
             "colorbar": {
              "outlinewidth": 0,
              "ticks": ""
             }
            },
            "type": "scatterternary"
           }
          ],
          "surface": [
           {
            "colorbar": {
             "outlinewidth": 0,
             "ticks": ""
            },
            "colorscale": [
             [
              0,
              "#0d0887"
             ],
             [
              0.1111111111111111,
              "#46039f"
             ],
             [
              0.2222222222222222,
              "#7201a8"
             ],
             [
              0.3333333333333333,
              "#9c179e"
             ],
             [
              0.4444444444444444,
              "#bd3786"
             ],
             [
              0.5555555555555556,
              "#d8576b"
             ],
             [
              0.6666666666666666,
              "#ed7953"
             ],
             [
              0.7777777777777778,
              "#fb9f3a"
             ],
             [
              0.8888888888888888,
              "#fdca26"
             ],
             [
              1,
              "#f0f921"
             ]
            ],
            "type": "surface"
           }
          ],
          "table": [
           {
            "cells": {
             "fill": {
              "color": "#EBF0F8"
             },
             "line": {
              "color": "white"
             }
            },
            "header": {
             "fill": {
              "color": "#C8D4E3"
             },
             "line": {
              "color": "white"
             }
            },
            "type": "table"
           }
          ]
         },
         "layout": {
          "annotationdefaults": {
           "arrowcolor": "#2a3f5f",
           "arrowhead": 0,
           "arrowwidth": 1
          },
          "colorscale": {
           "diverging": [
            [
             0,
             "#8e0152"
            ],
            [
             0.1,
             "#c51b7d"
            ],
            [
             0.2,
             "#de77ae"
            ],
            [
             0.3,
             "#f1b6da"
            ],
            [
             0.4,
             "#fde0ef"
            ],
            [
             0.5,
             "#f7f7f7"
            ],
            [
             0.6,
             "#e6f5d0"
            ],
            [
             0.7,
             "#b8e186"
            ],
            [
             0.8,
             "#7fbc41"
            ],
            [
             0.9,
             "#4d9221"
            ],
            [
             1,
             "#276419"
            ]
           ],
           "sequential": [
            [
             0,
             "#0d0887"
            ],
            [
             0.1111111111111111,
             "#46039f"
            ],
            [
             0.2222222222222222,
             "#7201a8"
            ],
            [
             0.3333333333333333,
             "#9c179e"
            ],
            [
             0.4444444444444444,
             "#bd3786"
            ],
            [
             0.5555555555555556,
             "#d8576b"
            ],
            [
             0.6666666666666666,
             "#ed7953"
            ],
            [
             0.7777777777777778,
             "#fb9f3a"
            ],
            [
             0.8888888888888888,
             "#fdca26"
            ],
            [
             1,
             "#f0f921"
            ]
           ],
           "sequentialminus": [
            [
             0,
             "#0d0887"
            ],
            [
             0.1111111111111111,
             "#46039f"
            ],
            [
             0.2222222222222222,
             "#7201a8"
            ],
            [
             0.3333333333333333,
             "#9c179e"
            ],
            [
             0.4444444444444444,
             "#bd3786"
            ],
            [
             0.5555555555555556,
             "#d8576b"
            ],
            [
             0.6666666666666666,
             "#ed7953"
            ],
            [
             0.7777777777777778,
             "#fb9f3a"
            ],
            [
             0.8888888888888888,
             "#fdca26"
            ],
            [
             1,
             "#f0f921"
            ]
           ]
          },
          "colorway": [
           "#636efa",
           "#EF553B",
           "#00cc96",
           "#ab63fa",
           "#FFA15A",
           "#19d3f3",
           "#FF6692",
           "#B6E880",
           "#FF97FF",
           "#FECB52"
          ],
          "font": {
           "color": "#2a3f5f"
          },
          "geo": {
           "bgcolor": "white",
           "lakecolor": "white",
           "landcolor": "#E5ECF6",
           "showlakes": true,
           "showland": true,
           "subunitcolor": "white"
          },
          "hoverlabel": {
           "align": "left"
          },
          "hovermode": "closest",
          "mapbox": {
           "style": "light"
          },
          "paper_bgcolor": "white",
          "plot_bgcolor": "#E5ECF6",
          "polar": {
           "angularaxis": {
            "gridcolor": "white",
            "linecolor": "white",
            "ticks": ""
           },
           "bgcolor": "#E5ECF6",
           "radialaxis": {
            "gridcolor": "white",
            "linecolor": "white",
            "ticks": ""
           }
          },
          "scene": {
           "xaxis": {
            "backgroundcolor": "#E5ECF6",
            "gridcolor": "white",
            "gridwidth": 2,
            "linecolor": "white",
            "showbackground": true,
            "ticks": "",
            "zerolinecolor": "white"
           },
           "yaxis": {
            "backgroundcolor": "#E5ECF6",
            "gridcolor": "white",
            "gridwidth": 2,
            "linecolor": "white",
            "showbackground": true,
            "ticks": "",
            "zerolinecolor": "white"
           },
           "zaxis": {
            "backgroundcolor": "#E5ECF6",
            "gridcolor": "white",
            "gridwidth": 2,
            "linecolor": "white",
            "showbackground": true,
            "ticks": "",
            "zerolinecolor": "white"
           }
          },
          "shapedefaults": {
           "line": {
            "color": "#2a3f5f"
           }
          },
          "ternary": {
           "aaxis": {
            "gridcolor": "white",
            "linecolor": "white",
            "ticks": ""
           },
           "baxis": {
            "gridcolor": "white",
            "linecolor": "white",
            "ticks": ""
           },
           "bgcolor": "#E5ECF6",
           "caxis": {
            "gridcolor": "white",
            "linecolor": "white",
            "ticks": ""
           }
          },
          "title": {
           "x": 0.05
          },
          "xaxis": {
           "automargin": true,
           "gridcolor": "white",
           "linecolor": "white",
           "ticks": "",
           "zerolinecolor": "white",
           "zerolinewidth": 2
          },
          "yaxis": {
           "automargin": true,
           "gridcolor": "white",
           "linecolor": "white",
           "ticks": "",
           "zerolinecolor": "white",
           "zerolinewidth": 2
          }
         }
        },
        "title": {
         "font": {
          "color": "#151516"
         },
         "text": "Top 20 trigrams after removing stop words"
        },
        "xaxis": {
         "gridcolor": "#F6F6F6",
         "linecolor": "black",
         "showgrid": true,
         "tickfont": {
          "color": "#666666"
         },
         "title": {
          "font": {
           "color": "#666666"
          },
          "text": ""
         },
         "zerolinecolor": "#F6F6F6"
        },
        "yaxis": {
         "gridcolor": "#F6F6F6",
         "linecolor": "black",
         "showgrid": true,
         "tickfont": {
          "color": "#666666"
         },
         "title": {
          "font": {
           "color": "#666666"
          },
          "text": "Count"
         },
         "zerolinecolor": "#F6F6F6"
        }
       }
      },
      "text/html": [
       "<div>\n",
       "        \n",
       "        \n",
       "            <div id=\"3a744265-ad08-4361-ae4c-1b37b05ab4de\" class=\"plotly-graph-div\" style=\"height:525px; width:100%;\"></div>\n",
       "            <script type=\"text/javascript\">\n",
       "                require([\"plotly\"], function(Plotly) {\n",
       "                    window.PLOTLYENV=window.PLOTLYENV || {};\n",
       "                    window.PLOTLYENV.BASE_URL='https://plot.ly';\n",
       "                    \n",
       "                if (document.getElementById(\"3a744265-ad08-4361-ae4c-1b37b05ab4de\")) {\n",
       "                    Plotly.newPlot(\n",
       "                        '3a744265-ad08-4361-ae4c-1b37b05ab4de',\n",
       "                        [{\"marker\": {\"color\": \"rgba(226, 74, 51, 0.6)\", \"line\": {\"color\": \"rgba(226, 74, 51, 1.0)\", \"width\": 1}}, \"name\": \"count\", \"orientation\": \"v\", \"text\": \"\", \"type\": \"bar\", \"x\": [\"bone implant contact\", \"peri implant bone\", \"john wiley sons\", \"bone implant interface\", \"new bone formation\", \"implant contact bic\", \"scanning electron microscopy\", \"resonance frequency analysis\", \"newly formed bone\", \"marginal bone loss\", \"implant stability quotient\", \"aim study evaluate\", \"osseointegration dental implants\", \"bone morphogenetic protein\", \"statistically significant differences\", \"dental implants placed\", \"wiley sons published\", \"published john wiley\", \"guided bone regeneration\", \"sandblasted acid etched\"], \"y\": [2129, 1095, 720, 671, 590, 577, 510, 483, 416, 389, 308, 299, 299, 294, 288, 259, 251, 246, 234, 232]}],\n",
       "                        {\"legend\": {\"bgcolor\": \"#FFFFFF\", \"font\": {\"color\": \"#666666\"}}, \"paper_bgcolor\": \"#FFFFFF\", \"plot_bgcolor\": \"#E5E5E5\", \"template\": {\"data\": {\"bar\": [{\"error_x\": {\"color\": \"#2a3f5f\"}, \"error_y\": {\"color\": \"#2a3f5f\"}, \"marker\": {\"line\": {\"color\": \"#E5ECF6\", \"width\": 0.5}}, \"type\": \"bar\"}], \"barpolar\": [{\"marker\": {\"line\": {\"color\": \"#E5ECF6\", \"width\": 0.5}}, \"type\": \"barpolar\"}], \"carpet\": [{\"aaxis\": {\"endlinecolor\": \"#2a3f5f\", \"gridcolor\": \"white\", \"linecolor\": \"white\", \"minorgridcolor\": \"white\", \"startlinecolor\": \"#2a3f5f\"}, \"baxis\": {\"endlinecolor\": \"#2a3f5f\", \"gridcolor\": \"white\", \"linecolor\": \"white\", \"minorgridcolor\": \"white\", \"startlinecolor\": \"#2a3f5f\"}, \"type\": \"carpet\"}], \"choropleth\": [{\"colorbar\": {\"outlinewidth\": 0, \"ticks\": \"\"}, \"type\": \"choropleth\"}], \"contour\": [{\"colorbar\": {\"outlinewidth\": 0, \"ticks\": \"\"}, \"colorscale\": [[0.0, \"#0d0887\"], [0.1111111111111111, \"#46039f\"], [0.2222222222222222, \"#7201a8\"], [0.3333333333333333, \"#9c179e\"], [0.4444444444444444, \"#bd3786\"], [0.5555555555555556, \"#d8576b\"], [0.6666666666666666, \"#ed7953\"], [0.7777777777777778, \"#fb9f3a\"], [0.8888888888888888, \"#fdca26\"], [1.0, \"#f0f921\"]], \"type\": \"contour\"}], \"contourcarpet\": [{\"colorbar\": {\"outlinewidth\": 0, \"ticks\": \"\"}, \"type\": \"contourcarpet\"}], \"heatmap\": [{\"colorbar\": {\"outlinewidth\": 0, \"ticks\": \"\"}, \"colorscale\": [[0.0, \"#0d0887\"], [0.1111111111111111, \"#46039f\"], [0.2222222222222222, \"#7201a8\"], [0.3333333333333333, \"#9c179e\"], [0.4444444444444444, \"#bd3786\"], [0.5555555555555556, \"#d8576b\"], [0.6666666666666666, \"#ed7953\"], [0.7777777777777778, \"#fb9f3a\"], [0.8888888888888888, \"#fdca26\"], [1.0, \"#f0f921\"]], \"type\": \"heatmap\"}], \"heatmapgl\": [{\"colorbar\": {\"outlinewidth\": 0, \"ticks\": \"\"}, \"colorscale\": [[0.0, \"#0d0887\"], [0.1111111111111111, \"#46039f\"], [0.2222222222222222, \"#7201a8\"], [0.3333333333333333, \"#9c179e\"], [0.4444444444444444, \"#bd3786\"], [0.5555555555555556, \"#d8576b\"], [0.6666666666666666, \"#ed7953\"], [0.7777777777777778, \"#fb9f3a\"], [0.8888888888888888, \"#fdca26\"], [1.0, \"#f0f921\"]], \"type\": \"heatmapgl\"}], \"histogram\": [{\"marker\": {\"colorbar\": {\"outlinewidth\": 0, \"ticks\": \"\"}}, \"type\": \"histogram\"}], \"histogram2d\": [{\"colorbar\": {\"outlinewidth\": 0, \"ticks\": \"\"}, \"colorscale\": [[0.0, \"#0d0887\"], [0.1111111111111111, \"#46039f\"], [0.2222222222222222, \"#7201a8\"], [0.3333333333333333, \"#9c179e\"], [0.4444444444444444, \"#bd3786\"], [0.5555555555555556, \"#d8576b\"], [0.6666666666666666, \"#ed7953\"], [0.7777777777777778, \"#fb9f3a\"], [0.8888888888888888, \"#fdca26\"], [1.0, \"#f0f921\"]], \"type\": \"histogram2d\"}], \"histogram2dcontour\": [{\"colorbar\": {\"outlinewidth\": 0, \"ticks\": \"\"}, \"colorscale\": [[0.0, \"#0d0887\"], [0.1111111111111111, \"#46039f\"], [0.2222222222222222, \"#7201a8\"], [0.3333333333333333, \"#9c179e\"], [0.4444444444444444, \"#bd3786\"], [0.5555555555555556, \"#d8576b\"], [0.6666666666666666, \"#ed7953\"], [0.7777777777777778, \"#fb9f3a\"], [0.8888888888888888, \"#fdca26\"], [1.0, \"#f0f921\"]], \"type\": \"histogram2dcontour\"}], \"mesh3d\": [{\"colorbar\": {\"outlinewidth\": 0, \"ticks\": \"\"}, \"type\": \"mesh3d\"}], \"parcoords\": [{\"line\": {\"colorbar\": {\"outlinewidth\": 0, \"ticks\": \"\"}}, \"type\": \"parcoords\"}], \"scatter\": [{\"marker\": {\"colorbar\": {\"outlinewidth\": 0, \"ticks\": \"\"}}, \"type\": \"scatter\"}], \"scatter3d\": [{\"line\": {\"colorbar\": {\"outlinewidth\": 0, \"ticks\": \"\"}}, \"marker\": {\"colorbar\": {\"outlinewidth\": 0, \"ticks\": \"\"}}, \"type\": \"scatter3d\"}], \"scattercarpet\": [{\"marker\": {\"colorbar\": {\"outlinewidth\": 0, \"ticks\": \"\"}}, \"type\": \"scattercarpet\"}], \"scattergeo\": [{\"marker\": {\"colorbar\": {\"outlinewidth\": 0, \"ticks\": \"\"}}, \"type\": \"scattergeo\"}], \"scattergl\": [{\"marker\": {\"colorbar\": {\"outlinewidth\": 0, \"ticks\": \"\"}}, \"type\": \"scattergl\"}], \"scattermapbox\": [{\"marker\": {\"colorbar\": {\"outlinewidth\": 0, \"ticks\": \"\"}}, \"type\": \"scattermapbox\"}], \"scatterpolar\": [{\"marker\": {\"colorbar\": {\"outlinewidth\": 0, \"ticks\": \"\"}}, \"type\": \"scatterpolar\"}], \"scatterpolargl\": [{\"marker\": {\"colorbar\": {\"outlinewidth\": 0, \"ticks\": \"\"}}, \"type\": \"scatterpolargl\"}], \"scatterternary\": [{\"marker\": {\"colorbar\": {\"outlinewidth\": 0, \"ticks\": \"\"}}, \"type\": \"scatterternary\"}], \"surface\": [{\"colorbar\": {\"outlinewidth\": 0, \"ticks\": \"\"}, \"colorscale\": [[0.0, \"#0d0887\"], [0.1111111111111111, \"#46039f\"], [0.2222222222222222, \"#7201a8\"], [0.3333333333333333, \"#9c179e\"], [0.4444444444444444, \"#bd3786\"], [0.5555555555555556, \"#d8576b\"], [0.6666666666666666, \"#ed7953\"], [0.7777777777777778, \"#fb9f3a\"], [0.8888888888888888, \"#fdca26\"], [1.0, \"#f0f921\"]], \"type\": \"surface\"}], \"table\": [{\"cells\": {\"fill\": {\"color\": \"#EBF0F8\"}, \"line\": {\"color\": \"white\"}}, \"header\": {\"fill\": {\"color\": \"#C8D4E3\"}, \"line\": {\"color\": \"white\"}}, \"type\": \"table\"}]}, \"layout\": {\"annotationdefaults\": {\"arrowcolor\": \"#2a3f5f\", \"arrowhead\": 0, \"arrowwidth\": 1}, \"colorscale\": {\"diverging\": [[0, \"#8e0152\"], [0.1, \"#c51b7d\"], [0.2, \"#de77ae\"], [0.3, \"#f1b6da\"], [0.4, \"#fde0ef\"], [0.5, \"#f7f7f7\"], [0.6, \"#e6f5d0\"], [0.7, \"#b8e186\"], [0.8, \"#7fbc41\"], [0.9, \"#4d9221\"], [1, \"#276419\"]], \"sequential\": [[0.0, \"#0d0887\"], [0.1111111111111111, \"#46039f\"], [0.2222222222222222, \"#7201a8\"], [0.3333333333333333, \"#9c179e\"], [0.4444444444444444, \"#bd3786\"], [0.5555555555555556, \"#d8576b\"], [0.6666666666666666, \"#ed7953\"], [0.7777777777777778, \"#fb9f3a\"], [0.8888888888888888, \"#fdca26\"], [1.0, \"#f0f921\"]], \"sequentialminus\": [[0.0, \"#0d0887\"], [0.1111111111111111, \"#46039f\"], [0.2222222222222222, \"#7201a8\"], [0.3333333333333333, \"#9c179e\"], [0.4444444444444444, \"#bd3786\"], [0.5555555555555556, \"#d8576b\"], [0.6666666666666666, \"#ed7953\"], [0.7777777777777778, \"#fb9f3a\"], [0.8888888888888888, \"#fdca26\"], [1.0, \"#f0f921\"]]}, \"colorway\": [\"#636efa\", \"#EF553B\", \"#00cc96\", \"#ab63fa\", \"#FFA15A\", \"#19d3f3\", \"#FF6692\", \"#B6E880\", \"#FF97FF\", \"#FECB52\"], \"font\": {\"color\": \"#2a3f5f\"}, \"geo\": {\"bgcolor\": \"white\", \"lakecolor\": \"white\", \"landcolor\": \"#E5ECF6\", \"showlakes\": true, \"showland\": true, \"subunitcolor\": \"white\"}, \"hoverlabel\": {\"align\": \"left\"}, \"hovermode\": \"closest\", \"mapbox\": {\"style\": \"light\"}, \"paper_bgcolor\": \"white\", \"plot_bgcolor\": \"#E5ECF6\", \"polar\": {\"angularaxis\": {\"gridcolor\": \"white\", \"linecolor\": \"white\", \"ticks\": \"\"}, \"bgcolor\": \"#E5ECF6\", \"radialaxis\": {\"gridcolor\": \"white\", \"linecolor\": \"white\", \"ticks\": \"\"}}, \"scene\": {\"xaxis\": {\"backgroundcolor\": \"#E5ECF6\", \"gridcolor\": \"white\", \"gridwidth\": 2, \"linecolor\": \"white\", \"showbackground\": true, \"ticks\": \"\", \"zerolinecolor\": \"white\"}, \"yaxis\": {\"backgroundcolor\": \"#E5ECF6\", \"gridcolor\": \"white\", \"gridwidth\": 2, \"linecolor\": \"white\", \"showbackground\": true, \"ticks\": \"\", \"zerolinecolor\": \"white\"}, \"zaxis\": {\"backgroundcolor\": \"#E5ECF6\", \"gridcolor\": \"white\", \"gridwidth\": 2, \"linecolor\": \"white\", \"showbackground\": true, \"ticks\": \"\", \"zerolinecolor\": \"white\"}}, \"shapedefaults\": {\"line\": {\"color\": \"#2a3f5f\"}}, \"ternary\": {\"aaxis\": {\"gridcolor\": \"white\", \"linecolor\": \"white\", \"ticks\": \"\"}, \"baxis\": {\"gridcolor\": \"white\", \"linecolor\": \"white\", \"ticks\": \"\"}, \"bgcolor\": \"#E5ECF6\", \"caxis\": {\"gridcolor\": \"white\", \"linecolor\": \"white\", \"ticks\": \"\"}}, \"title\": {\"x\": 0.05}, \"xaxis\": {\"automargin\": true, \"gridcolor\": \"white\", \"linecolor\": \"white\", \"ticks\": \"\", \"zerolinecolor\": \"white\", \"zerolinewidth\": 2}, \"yaxis\": {\"automargin\": true, \"gridcolor\": \"white\", \"linecolor\": \"white\", \"ticks\": \"\", \"zerolinecolor\": \"white\", \"zerolinewidth\": 2}}}, \"title\": {\"font\": {\"color\": \"#151516\"}, \"text\": \"Top 20 trigrams after removing stop words\"}, \"xaxis\": {\"gridcolor\": \"#F6F6F6\", \"linecolor\": \"black\", \"showgrid\": true, \"tickfont\": {\"color\": \"#666666\"}, \"title\": {\"font\": {\"color\": \"#666666\"}, \"text\": \"\"}, \"zerolinecolor\": \"#F6F6F6\"}, \"yaxis\": {\"gridcolor\": \"#F6F6F6\", \"linecolor\": \"black\", \"showgrid\": true, \"tickfont\": {\"color\": \"#666666\"}, \"title\": {\"font\": {\"color\": \"#666666\"}, \"text\": \"Count\"}, \"zerolinecolor\": \"#F6F6F6\"}},\n",
       "                        {\"showLink\": true, \"linkText\": \"Export to plot.ly\", \"plotlyServerURL\": \"https://plot.ly\", \"responsive\": true}\n",
       "                    ).then(function(){\n",
       "                            \n",
       "var gd = document.getElementById('3a744265-ad08-4361-ae4c-1b37b05ab4de');\n",
       "var x = new MutationObserver(function (mutations, observer) {{\n",
       "        var display = window.getComputedStyle(gd).display;\n",
       "        if (!display || display === 'none') {{\n",
       "            console.log([gd, 'removed!']);\n",
       "            Plotly.purge(gd);\n",
       "            observer.disconnect();\n",
       "        }}\n",
       "}});\n",
       "\n",
       "// Listen for the removal of the full notebook cells\n",
       "var notebookContainer = gd.closest('#notebook-container');\n",
       "if (notebookContainer) {{\n",
       "    x.observe(notebookContainer, {childList: true});\n",
       "}}\n",
       "\n",
       "// Listen for the clearing of the current output cell\n",
       "var outputEl = gd.closest('.output');\n",
       "if (outputEl) {{\n",
       "    x.observe(outputEl, {childList: true});\n",
       "}}\n",
       "\n",
       "                        })\n",
       "                };\n",
       "                });\n",
       "            </script>\n",
       "        </div>"
      ]
     },
     "metadata": {},
     "output_type": "display_data"
    }
   ],
   "source": [
    "def get_top_n_trigram(corpus, n=None):\n",
    "    vec = CountVectorizer(ngram_range=(3, 3), stop_words='english').fit(corpus)\n",
    "    bag_of_words = vec.transform(corpus)\n",
    "    sum_words = bag_of_words.sum(axis=0) \n",
    "    words_freq = [(word, sum_words[0, idx]) for word, idx in vec.vocabulary_.items()]\n",
    "    words_freq =sorted(words_freq, key = lambda x: x[1], reverse=True)\n",
    "    return words_freq[:n]\n",
    "common_words = get_top_n_trigram(df['abstractClean'], 20)\n",
    "df6 = pd.DataFrame(common_words, columns = ['abstractClean' , 'count'])\n",
    "df6.groupby('abstractClean').sum()['count'].sort_values(ascending=False).iplot(kind='bar', yTitle='Count', linecolor='black', title='Top 20 trigrams after removing stop words')"
   ]
  },
  {
   "cell_type": "markdown",
   "metadata": {},
   "source": [
    "### Abstract+title Length Distribution"
   ]
  },
  {
   "cell_type": "code",
   "execution_count": 21,
   "metadata": {},
   "outputs": [
    {
     "name": "stdout",
     "output_type": "stream",
     "text": [
      "Number of publications: 9014 \n",
      "Average word count 226.72842245396052 \n",
      "Minimum word count 1 \n",
      "Maximum word count 934\n"
     ]
    }
   ],
   "source": [
    "df['word_count'] = df['abstract'].apply(lambda x: len(str(x).split()))\n",
    "desc_lengths = list(df['word_count'])\n",
    "\n",
    "print(\"Number of publications:\",len(desc_lengths),\n",
    "      \"\\nAverage word count\", np.average(desc_lengths),\n",
    "      \"\\nMinimum word count\", min(desc_lengths),\n",
    "      \"\\nMaximum word count\", max(desc_lengths))"
   ]
  },
  {
   "cell_type": "code",
   "execution_count": 22,
   "metadata": {},
   "outputs": [
    {
     "data": {
      "application/vnd.plotly.v1+json": {
       "config": {
        "linkText": "Export to plot.ly",
        "plotlyServerURL": "https://plot.ly",
        "showLink": true
       },
       "data": [
        {
         "histfunc": "count",
         "histnorm": "",
         "marker": {
          "color": "rgba(226, 74, 51, 1.0)",
          "line": {
           "color": "#000000",
           "width": 1.3
          }
         },
         "name": "word_count",
         "nbinsx": 50,
         "opacity": 0.8,
         "orientation": "v",
         "type": "histogram",
         "x": [
          213,
          261,
          297,
          212,
          225,
          153,
          151,
          246,
          225,
          396,
          269,
          215,
          261,
          233,
          273,
          148,
          306,
          391,
          248,
          324,
          291,
          286,
          250,
          259,
          63,
          257,
          273,
          150,
          150,
          121,
          115,
          181,
          334,
          293,
          221,
          314,
          362,
          228,
          305,
          220,
          186,
          354,
          153,
          323,
          308,
          218,
          330,
          191,
          301,
          281,
          277,
          287,
          238,
          289,
          228,
          336,
          347,
          236,
          278,
          208,
          287,
          276,
          259,
          329,
          278,
          450,
          412,
          219,
          182,
          234,
          353,
          217,
          318,
          203,
          273,
          160,
          150,
          315,
          133,
          263,
          211,
          315,
          220,
          301,
          293,
          239,
          300,
          257,
          245,
          230,
          215,
          237,
          312,
          215,
          308,
          315,
          111,
          239,
          222,
          215,
          214,
          344,
          379,
          386,
          258,
          280,
          222,
          222,
          173,
          197,
          111,
          219,
          225,
          254,
          308,
          210,
          273,
          252,
          252,
          270,
          257,
          223,
          215,
          218,
          241,
          168,
          262,
          232,
          230,
          313,
          215,
          236,
          182,
          176,
          146,
          144,
          217,
          210,
          224,
          217,
          168,
          413,
          302,
          263,
          233,
          216,
          207,
          160,
          268,
          216,
          246,
          373,
          275,
          354,
          293,
          259,
          287,
          193,
          238,
          217,
          263,
          314,
          270,
          189,
          329,
          113,
          221,
          188,
          300,
          177,
          211,
          343,
          154,
          295,
          224,
          488,
          226,
          197,
          312,
          288,
          90,
          327,
          242,
          215,
          238,
          103,
          280,
          204,
          256,
          170,
          214,
          1,
          223,
          244,
          277,
          164,
          293,
          453,
          243,
          236,
          268,
          168,
          288,
          273,
          285,
          269,
          182,
          305,
          222,
          207,
          181,
          289,
          317,
          246,
          347,
          236,
          217,
          385,
          258,
          377,
          158,
          384,
          455,
          290,
          262,
          221,
          242,
          241,
          243,
          191,
          394,
          306,
          267,
          228,
          273,
          248,
          209,
          219,
          248,
          240,
          232,
          241,
          239,
          136,
          215,
          260,
          222,
          238,
          392,
          375,
          206,
          244,
          322,
          164,
          289,
          359,
          206,
          224,
          301,
          278,
          278,
          214,
          277,
          177,
          214,
          558,
          268,
          266,
          173,
          76,
          217,
          337,
          300,
          372,
          277,
          275,
          271,
          210,
          232,
          249,
          254,
          238,
          218,
          262,
          254,
          310,
          199,
          277,
          219,
          278,
          309,
          256,
          97,
          169,
          168,
          327,
          209,
          282,
          292,
          117,
          296,
          313,
          265,
          258,
          266,
          200,
          226,
          275,
          332,
          274,
          410,
          218,
          165,
          167,
          219,
          214,
          261,
          297,
          224,
          197,
          219,
          387,
          273,
          325,
          251,
          265,
          260,
          304,
          267,
          251,
          292,
          284,
          325,
          293,
          299,
          294,
          269,
          349,
          351,
          181,
          261,
          282,
          318,
          341,
          248,
          312,
          221,
          242,
          261,
          242,
          313,
          236,
          42,
          209,
          150,
          105,
          247,
          208,
          327,
          243,
          330,
          277,
          212,
          342,
          365,
          245,
          220,
          186,
          267,
          198,
          94,
          253,
          368,
          295,
          145,
          138,
          292,
          252,
          306,
          247,
          263,
          321,
          52,
          254,
          121,
          247,
          262,
          105,
          139,
          253,
          220,
          264,
          303,
          187,
          318,
          376,
          268,
          292,
          382,
          137,
          291,
          138,
          204,
          224,
          275,
          76,
          228,
          195,
          215,
          318,
          138,
          126,
          320,
          284,
          317,
          248,
          329,
          524,
          337,
          125,
          272,
          306,
          212,
          99,
          302,
          350,
          176,
          152,
          216,
          290,
          227,
          221,
          312,
          239,
          356,
          376,
          214,
          149,
          179,
          243,
          351,
          250,
          102,
          267,
          193,
          314,
          218,
          265,
          261,
          362,
          320,
          212,
          320,
          212,
          273,
          251,
          306,
          314,
          276,
          322,
          376,
          229,
          235,
          311,
          111,
          211,
          272,
          353,
          133,
          257,
          224,
          202,
          231,
          203,
          293,
          314,
          229,
          166,
          165,
          180,
          211,
          231,
          254,
          234,
          243,
          243,
          10,
          234,
          1,
          220,
          226,
          396,
          239,
          199,
          248,
          243,
          224,
          464,
          268,
          184,
          245,
          268,
          291,
          75,
          173,
          231,
          373,
          235,
          479,
          222,
          294,
          269,
          240,
          261,
          255,
          326,
          289,
          186,
          288,
          206,
          271,
          214,
          298,
          227,
          254,
          299,
          399,
          217,
          224,
          328,
          140,
          170,
          286,
          331,
          214,
          260,
          163,
          146,
          251,
          221,
          266,
          202,
          398,
          298,
          420,
          262,
          239,
          327,
          289,
          155,
          243,
          230,
          149,
          229,
          274,
          218,
          263,
          211,
          145,
          251,
          221,
          201,
          213,
          238,
          254,
          250,
          216,
          247,
          380,
          277,
          305,
          266,
          173,
          304,
          190,
          314,
          299,
          205,
          337,
          221,
          96,
          235,
          175,
          234,
          343,
          282,
          365,
          221,
          254,
          193,
          263,
          262,
          356,
          328,
          296,
          184,
          233,
          359,
          316,
          115,
          329,
          206,
          336,
          279,
          215,
          209,
          122,
          297,
          307,
          182,
          277,
          229,
          446,
          357,
          181,
          307,
          350,
          253,
          259,
          231,
          138,
          166,
          170,
          253,
          327,
          140,
          206,
          266,
          209,
          173,
          81,
          384,
          112,
          314,
          178,
          263,
          265,
          288,
          348,
          82,
          377,
          236,
          384,
          196,
          210,
          290,
          477,
          323,
          254,
          175,
          232,
          168,
          293,
          208,
          315,
          308,
          173,
          178,
          280,
          187,
          227,
          204,
          288,
          220,
          226,
          290,
          244,
          197,
          228,
          129,
          276,
          295,
          219,
          100,
          191,
          244,
          337,
          200,
          175,
          287,
          314,
          248,
          235,
          318,
          349,
          209,
          277,
          268,
          263,
          268,
          257,
          258,
          285,
          269,
          254,
          290,
          212,
          229,
          177,
          386,
          226,
          263,
          274,
          136,
          303,
          127,
          394,
          251,
          265,
          160,
          178,
          226,
          318,
          303,
          136,
          215,
          241,
          291,
          192,
          276,
          139,
          196,
          270,
          186,
          217,
          253,
          284,
          314,
          203,
          121,
          168,
          286,
          321,
          219,
          204,
          251,
          272,
          190,
          233,
          361,
          227,
          222,
          278,
          257,
          197,
          236,
          234,
          232,
          204,
          213,
          241,
          185,
          295,
          280,
          498,
          282,
          219,
          165,
          251,
          224,
          367,
          182,
          102,
          182,
          315,
          275,
          282,
          219,
          145,
          209,
          227,
          109,
          247,
          207,
          237,
          199,
          207,
          310,
          220,
          158,
          275,
          217,
          230,
          215,
          267,
          296,
          267,
          257,
          241,
          261,
          246,
          312,
          193,
          322,
          202,
          281,
          289,
          215,
          186,
          230,
          321,
          339,
          7,
          286,
          286,
          324,
          241,
          310,
          113,
          274,
          303,
          232,
          285,
          199,
          202,
          223,
          209,
          133,
          289,
          270,
          221,
          221,
          272,
          353,
          277,
          202,
          377,
          231,
          127,
          293,
          245,
          374,
          343,
          270,
          339,
          189,
          328,
          282,
          142,
          264,
          161,
          270,
          443,
          473,
          252,
          277,
          722,
          214,
          277,
          248,
          232,
          223,
          261,
          447,
          275,
          245,
          171,
          338,
          222,
          259,
          193,
          127,
          395,
          282,
          261,
          470,
          268,
          18,
          239,
          291,
          412,
          337,
          258,
          249,
          177,
          158,
          219,
          177,
          264,
          171,
          206,
          233,
          186,
          338,
          276,
          337,
          226,
          259,
          160,
          225,
          202,
          193,
          273,
          291,
          212,
          217,
          266,
          255,
          208,
          240,
          215,
          247,
          239,
          176,
          217,
          338,
          287,
          282,
          344,
          250,
          105,
          92,
          275,
          201,
          255,
          236,
          258,
          324,
          343,
          266,
          207,
          208,
          103,
          221,
          219,
          203,
          233,
          188,
          290,
          12,
          171,
          329,
          232,
          292,
          439,
          338,
          255,
          232,
          298,
          386,
          232,
          234,
          203,
          447,
          214,
          225,
          223,
          268,
          275,
          195,
          189,
          321,
          318,
          278,
          163,
          261,
          323,
          75,
          382,
          186,
          213,
          431,
          266,
          216,
          204,
          125,
          166,
          347,
          262,
          243,
          338,
          324,
          214,
          279,
          280,
          281,
          185,
          245,
          288,
          174,
          235,
          281,
          222,
          202,
          161,
          216,
          324,
          249,
          220,
          224,
          241,
          230,
          292,
          316,
          90,
          125,
          388,
          224,
          233,
          274,
          292,
          337,
          255,
          224,
          137,
          162,
          183,
          519,
          222,
          286,
          132,
          382,
          309,
          268,
          343,
          271,
          312,
          225,
          251,
          215,
          223,
          262,
          196,
          259,
          301,
          608,
          23,
          268,
          211,
          291,
          211,
          220,
          264,
          167,
          377,
          163,
          235,
          207,
          284,
          176,
          209,
          351,
          297,
          311,
          348,
          268,
          240,
          197,
          207,
          244,
          151,
          393,
          226,
          372,
          250,
          312,
          311,
          315,
          248,
          266,
          495,
          260,
          326,
          214,
          258,
          324,
          282,
          315,
          290,
          262,
          283,
          209,
          200,
          228,
          205,
          174,
          228,
          378,
          249,
          186,
          280,
          344,
          239,
          216,
          305,
          177,
          247,
          305,
          268,
          152,
          189,
          213,
          189,
          234,
          148,
          216,
          208,
          245,
          237,
          264,
          299,
          760,
          235,
          220,
          194,
          200,
          234,
          421,
          294,
          171,
          445,
          236,
          270,
          237,
          235,
          165,
          171,
          260,
          227,
          168,
          242,
          442,
          294,
          293,
          255,
          189,
          269,
          293,
          302,
          127,
          203,
          522,
          259,
          161,
          202,
          249,
          249,
          196,
          207,
          282,
          280,
          210,
          214,
          332,
          216,
          214,
          141,
          157,
          161,
          218,
          264,
          316,
          215,
          170,
          199,
          267,
          201,
          236,
          92,
          310,
          364,
          182,
          239,
          269,
          297,
          260,
          242,
          188,
          277,
          268,
          227,
          269,
          262,
          229,
          260,
          265,
          228,
          214,
          245,
          159,
          234,
          243,
          193,
          180,
          246,
          146,
          212,
          283,
          270,
          214,
          388,
          257,
          309,
          290,
          220,
          328,
          272,
          287,
          297,
          168,
          163,
          254,
          396,
          291,
          311,
          266,
          280,
          190,
          288,
          210,
          306,
          139,
          277,
          300,
          223,
          281,
          217,
          303,
          221,
          260,
          211,
          171,
          214,
          261,
          375,
          203,
          188,
          448,
          244,
          224,
          98,
          259,
          247,
          155,
          210,
          208,
          320,
          369,
          154,
          233,
          330,
          185,
          222,
          359,
          237,
          149,
          184,
          256,
          311,
          248,
          364,
          235,
          311,
          216,
          259,
          273,
          259,
          394,
          148,
          383,
          275,
          277,
          205,
          268,
          235,
          262,
          274,
          198,
          267,
          249,
          348,
          392,
          294,
          297,
          334,
          265,
          273,
          233,
          314,
          276,
          335,
          305,
          375,
          340,
          82,
          333,
          156,
          256,
          244,
          228,
          249,
          213,
          131,
          262,
          139,
          252,
          204,
          236,
          240,
          297,
          265,
          205,
          250,
          243,
          264,
          235,
          250,
          196,
          130,
          274,
          246,
          351,
          243,
          295,
          227,
          211,
          201,
          296,
          331,
          254,
          147,
          399,
          210,
          136,
          144,
          168,
          71,
          12,
          313,
          302,
          288,
          389,
          266,
          221,
          295,
          281,
          313,
          247,
          205,
          391,
          333,
          210,
          298,
          296,
          221,
          268,
          210,
          282,
          296,
          245,
          273,
          276,
          342,
          184,
          353,
          307,
          237,
          314,
          296,
          250,
          258,
          228,
          240,
          317,
          267,
          369,
          192,
          202,
          236,
          233,
          259,
          275,
          142,
          235,
          155,
          177,
          207,
          105,
          266,
          191,
          219,
          487,
          322,
          82,
          206,
          300,
          207,
          343,
          197,
          179,
          259,
          260,
          282,
          261,
          283,
          471,
          225,
          389,
          183,
          305,
          327,
          145,
          191,
          225,
          271,
          237,
          126,
          276,
          397,
          182,
          253,
          220,
          376,
          339,
          212,
          302,
          337,
          263,
          327,
          358,
          250,
          251,
          302,
          199,
          219,
          236,
          261,
          318,
          260,
          182,
          203,
          345,
          250,
          291,
          258,
          198,
          257,
          149,
          295,
          256,
          243,
          472,
          565,
          199,
          291,
          246,
          172,
          208,
          293,
          129,
          175,
          210,
          335,
          251,
          285,
          153,
          341,
          127,
          187,
          195,
          184,
          93,
          332,
          258,
          139,
          230,
          278,
          298,
          288,
          250,
          297,
          262,
          311,
          275,
          265,
          187,
          257,
          264,
          115,
          210,
          225,
          295,
          312,
          311,
          282,
          298,
          200,
          247,
          10,
          235,
          202,
          239,
          263,
          243,
          205,
          284,
          115,
          118,
          236,
          285,
          328,
          303,
          228,
          222,
          244,
          246,
          204,
          237,
          278,
          170,
          232,
          175,
          205,
          82,
          234,
          145,
          307,
          170,
          327,
          332,
          217,
          322,
          366,
          253,
          218,
          200,
          119,
          220,
          456,
          211,
          278,
          252,
          303,
          183,
          320,
          313,
          199,
          353,
          263,
          270,
          319,
          194,
          261,
          223,
          291,
          274,
          320,
          251,
          290,
          377,
          230,
          285,
          259,
          321,
          394,
          171,
          262,
          332,
          263,
          373,
          218,
          333,
          296,
          294,
          287,
          267,
          145,
          150,
          222,
          199,
          101,
          112,
          224,
          230,
          217,
          243,
          266,
          293,
          279,
          181,
          305,
          261,
          344,
          351,
          217,
          336,
          225,
          222,
          247,
          398,
          266,
          259,
          227,
          270,
          354,
          248,
          241,
          143,
          212,
          251,
          249,
          307,
          256,
          369,
          223,
          263,
          161,
          298,
          263,
          262,
          216,
          276,
          232,
          256,
          268,
          223,
          212,
          199,
          264,
          274,
          130,
          141,
          406,
          259,
          229,
          217,
          182,
          207,
          225,
          131,
          383,
          279,
          275,
          364,
          224,
          120,
          242,
          157,
          190,
          224,
          318,
          190,
          315,
          204,
          216,
          209,
          208,
          312,
          400,
          146,
          242,
          241,
          171,
          146,
          588,
          207,
          252,
          192,
          277,
          195,
          276,
          563,
          270,
          159,
          285,
          277,
          284,
          260,
          253,
          243,
          239,
          259,
          260,
          383,
          197,
          490,
          302,
          350,
          172,
          223,
          227,
          300,
          213,
          228,
          216,
          183,
          314,
          220,
          300,
          213,
          287,
          281,
          285,
          194,
          283,
          192,
          186,
          217,
          182,
          188,
          271,
          254,
          210,
          175,
          230,
          251,
          249,
          251,
          244,
          68,
          208,
          13,
          272,
          130,
          312,
          220,
          231,
          273,
          283,
          286,
          220,
          199,
          343,
          215,
          240,
          330,
          234,
          289,
          226,
          174,
          214,
          298,
          220,
          260,
          255,
          247,
          300,
          215,
          207,
          288,
          285,
          256,
          240,
          223,
          245,
          207,
          496,
          251,
          230,
          356,
          238,
          274,
          237,
          264,
          220,
          8,
          275,
          154,
          143,
          278,
          203,
          240,
          182,
          340,
          177,
          283,
          83,
          176,
          456,
          236,
          271,
          216,
          255,
          148,
          171,
          101,
          176,
          223,
          259,
          267,
          203,
          206,
          360,
          368,
          85,
          175,
          186,
          398,
          230,
          59,
          199,
          173,
          208,
          225,
          199,
          266,
          161,
          197,
          200,
          275,
          185,
          244,
          188,
          272,
          260,
          268,
          239,
          205,
          297,
          103,
          192,
          212,
          325,
          296,
          289,
          309,
          211,
          141,
          269,
          253,
          213,
          264,
          183,
          359,
          182,
          209,
          281,
          344,
          248,
          341,
          187,
          141,
          288,
          289,
          281,
          188,
          122,
          194,
          287,
          248,
          226,
          243,
          241,
          256,
          281,
          171,
          248,
          245,
          208,
          271,
          319,
          255,
          266,
          212,
          447,
          225,
          147,
          207,
          176,
          247,
          269,
          127,
          228,
          227,
          144,
          283,
          229,
          233,
          320,
          287,
          203,
          171,
          315,
          210,
          272,
          223,
          306,
          382,
          133,
          197,
          74,
          271,
          285,
          227,
          237,
          267,
          287,
          306,
          271,
          200,
          309,
          312,
          123,
          190,
          500,
          140,
          177,
          316,
          262,
          228,
          151,
          148,
          197,
          187,
          82,
          387,
          358,
          243,
          191,
          123,
          291,
          116,
          284,
          363,
          283,
          256,
          302,
          187,
          344,
          232,
          223,
          169,
          264,
          343,
          266,
          173,
          277,
          296,
          204,
          222,
          226,
          400,
          118,
          130,
          93,
          276,
          211,
          175,
          134,
          246,
          241,
          245,
          270,
          261,
          238,
          215,
          416,
          257,
          266,
          113,
          213,
          229,
          273,
          219,
          282,
          320,
          98,
          331,
          234,
          226,
          208,
          179,
          170,
          211,
          218,
          118,
          117,
          281,
          235,
          308,
          210,
          297,
          167,
          198,
          224,
          240,
          256,
          193,
          240,
          25,
          258,
          281,
          310,
          230,
          366,
          253,
          249,
          267,
          240,
          401,
          380,
          251,
          283,
          298,
          223,
          161,
          315,
          187,
          127,
          427,
          83,
          214,
          180,
          223,
          292,
          7,
          182,
          189,
          167,
          201,
          208,
          249,
          142,
          117,
          337,
          328,
          193,
          208,
          222,
          354,
          142,
          260,
          206,
          345,
          279,
          199,
          162,
          228,
          216,
          199,
          218,
          255,
          234,
          230,
          251,
          252,
          148,
          326,
          305,
          157,
          141,
          216,
          233,
          255,
          216,
          131,
          224,
          196,
          100,
          71,
          96,
          8,
          379,
          442,
          229,
          256,
          272,
          288,
          194,
          286,
          113,
          194,
          205,
          273,
          211,
          295,
          134,
          265,
          269,
          259,
          218,
          192,
          249,
          301,
          320,
          226,
          220,
          292,
          177,
          281,
          191,
          219,
          178,
          184,
          209,
          220,
          171,
          207,
          307,
          142,
          221,
          10,
          2,
          268,
          221,
          226,
          118,
          272,
          117,
          281,
          412,
          200,
          203,
          170,
          417,
          257,
          266,
          242,
          335,
          222,
          242,
          249,
          269,
          259,
          162,
          192,
          216,
          343,
          245,
          261,
          211,
          234,
          299,
          280,
          199,
          208,
          229,
          256,
          205,
          238,
          354,
          278,
          276,
          151,
          226,
          248,
          268,
          232,
          263,
          210,
          234,
          278,
          345,
          149,
          247,
          186,
          280,
          292,
          263,
          218,
          193,
          239,
          268,
          400,
          225,
          266,
          252,
          412,
          211,
          237,
          261,
          148,
          215,
          270,
          274,
          312,
          297,
          239,
          215,
          226,
          240,
          222,
          114,
          198,
          215,
          201,
          285,
          165,
          375,
          207,
          144,
          266,
          242,
          244,
          210,
          121,
          315,
          244,
          186,
          228,
          267,
          171,
          288,
          220,
          247,
          318,
          212,
          187,
          312,
          146,
          255,
          186,
          517,
          258,
          268,
          163,
          227,
          173,
          228,
          304,
          306,
          213,
          389,
          254,
          253,
          222,
          267,
          235,
          234,
          208,
          148,
          198,
          220,
          246,
          207,
          264,
          113,
          264,
          4,
          105,
          67,
          117,
          209,
          132,
          364,
          453,
          270,
          308,
          366,
          132,
          247,
          183,
          234,
          202,
          250,
          280,
          243,
          315,
          207,
          8,
          200,
          182,
          281,
          163,
          173,
          190,
          305,
          90,
          326,
          171,
          280,
          345,
          11,
          240,
          281,
          244,
          190,
          265,
          242,
          321,
          283,
          213,
          165,
          252,
          269,
          219,
          114,
          274,
          256,
          14,
          15,
          82,
          270,
          219,
          94,
          220,
          202,
          258,
          228,
          239,
          222,
          259,
          146,
          243,
          127,
          217,
          7,
          289,
          297,
          268,
          283,
          260,
          360,
          134,
          262,
          263,
          395,
          162,
          210,
          229,
          289,
          145,
          266,
          208,
          267,
          284,
          311,
          259,
          270,
          303,
          354,
          124,
          267,
          20,
          270,
          275,
          182,
          223,
          230,
          15,
          204,
          232,
          315,
          215,
          276,
          287,
          158,
          283,
          253,
          222,
          94,
          225,
          218,
          207,
          253,
          298,
          223,
          72,
          158,
          256,
          255,
          260,
          219,
          244,
          220,
          184,
          7,
          205,
          312,
          363,
          230,
          246,
          210,
          241,
          206,
          308,
          213,
          325,
          167,
          259,
          242,
          201,
          229,
          220,
          269,
          555,
          153,
          306,
          433,
          273,
          248,
          223,
          239,
          475,
          123,
          224,
          341,
          233,
          280,
          170,
          213,
          264,
          291,
          316,
          249,
          303,
          209,
          284,
          288,
          220,
          206,
          230,
          24,
          228,
          233,
          219,
          239,
          265,
          314,
          298,
          240,
          274,
          144,
          187,
          214,
          310,
          235,
          190,
          203,
          195,
          79,
          189,
          121,
          231,
          243,
          183,
          87,
          227,
          241,
          298,
          146,
          146,
          167,
          477,
          220,
          187,
          360,
          149,
          220,
          289,
          234,
          106,
          291,
          224,
          187,
          260,
          423,
          95,
          260,
          124,
          247,
          291,
          423,
          267,
          164,
          392,
          243,
          263,
          244,
          268,
          420,
          180,
          336,
          285,
          139,
          200,
          261,
          283,
          254,
          125,
          253,
          196,
          86,
          161,
          232,
          227,
          241,
          241,
          218,
          226,
          302,
          248,
          228,
          165,
          164,
          146,
          229,
          271,
          279,
          222,
          409,
          382,
          432,
          207,
          227,
          213,
          223,
          326,
          84,
          163,
          305,
          245,
          324,
          486,
          218,
          275,
          157,
          138,
          161,
          207,
          241,
          226,
          218,
          307,
          234,
          214,
          223,
          148,
          198,
          251,
          142,
          277,
          188,
          176,
          231,
          234,
          230,
          401,
          236,
          124,
          273,
          324,
          298,
          337,
          288,
          241,
          190,
          211,
          200,
          233,
          216,
          271,
          12,
          285,
          262,
          242,
          266,
          281,
          172,
          140,
          223,
          240,
          308,
          185,
          268,
          106,
          264,
          257,
          198,
          207,
          150,
          288,
          215,
          163,
          375,
          114,
          236,
          315,
          288,
          352,
          431,
          221,
          278,
          152,
          218,
          266,
          293,
          218,
          242,
          209,
          190,
          228,
          190,
          280,
          247,
          230,
          303,
          235,
          368,
          368,
          234,
          305,
          317,
          271,
          201,
          243,
          230,
          328,
          295,
          285,
          221,
          4,
          311,
          268,
          270,
          226,
          179,
          233,
          187,
          236,
          469,
          261,
          331,
          366,
          273,
          140,
          150,
          299,
          182,
          271,
          296,
          255,
          222,
          226,
          213,
          153,
          298,
          327,
          201,
          278,
          291,
          247,
          12,
          218,
          207,
          165,
          225,
          291,
          253,
          164,
          276,
          283,
          342,
          127,
          260,
          170,
          138,
          148,
          221,
          275,
          254,
          290,
          222,
          243,
          244,
          236,
          261,
          283,
          239,
          230,
          285,
          217,
          203,
          327,
          275,
          263,
          272,
          318,
          396,
          333,
          291,
          148,
          13,
          222,
          222,
          144,
          278,
          259,
          189,
          226,
          254,
          237,
          169,
          207,
          367,
          315,
          286,
          76,
          226,
          217,
          154,
          152,
          206,
          252,
          179,
          248,
          296,
          226,
          261,
          213,
          243,
          273,
          278,
          260,
          259,
          215,
          214,
          255,
          149,
          278,
          204,
          197,
          210,
          259,
          258,
          190,
          205,
          214,
          119,
          129,
          267,
          169,
          657,
          165,
          133,
          219,
          240,
          150,
          470,
          180,
          166,
          211,
          292,
          103,
          111,
          146,
          270,
          301,
          234,
          141,
          218,
          234,
          210,
          174,
          191,
          297,
          223,
          271,
          170,
          335,
          10,
          326,
          258,
          237,
          250,
          215,
          233,
          246,
          284,
          141,
          271,
          350,
          290,
          356,
          337,
          156,
          364,
          20,
          286,
          267,
          292,
          295,
          361,
          291,
          252,
          195,
          157,
          141,
          211,
          123,
          111,
          193,
          336,
          245,
          224,
          76,
          148,
          257,
          275,
          206,
          246,
          232,
          290,
          293,
          166,
          146,
          251,
          227,
          221,
          442,
          202,
          275,
          362,
          261,
          254,
          268,
          180,
          216,
          210,
          245,
          329,
          197,
          155,
          215,
          80,
          128,
          278,
          243,
          246,
          282,
          458,
          293,
          206,
          201,
          201,
          229,
          133,
          209,
          198,
          368,
          180,
          389,
          277,
          265,
          250,
          255,
          269,
          275,
          262,
          194,
          140,
          179,
          276,
          377,
          297,
          378,
          278,
          227,
          71,
          185,
          263,
          194,
          246,
          252,
          201,
          307,
          270,
          131,
          226,
          268,
          293,
          316,
          281,
          221,
          259,
          158,
          279,
          10,
          10,
          213,
          180,
          153,
          134,
          216,
          257,
          235,
          271,
          250,
          306,
          301,
          235,
          299,
          286,
          192,
          156,
          312,
          200,
          179,
          217,
          210,
          177,
          80,
          252,
          256,
          245,
          186,
          242,
          291,
          264,
          207,
          171,
          224,
          292,
          281,
          233,
          195,
          183,
          318,
          350,
          216,
          316,
          223,
          257,
          232,
          284,
          215,
          140,
          206,
          133,
          206,
          224,
          216,
          220,
          314,
          170,
          172,
          88,
          263,
          253,
          65,
          99,
          147,
          279,
          285,
          128,
          104,
          205,
          313,
          13,
          5,
          407,
          301,
          249,
          233,
          183,
          236,
          239,
          223,
          205,
          224,
          240,
          248,
          198,
          409,
          269,
          233,
          288,
          360,
          223,
          348,
          258,
          401,
          115,
          332,
          193,
          252,
          193,
          287,
          223,
          140,
          216,
          184,
          312,
          329,
          162,
          158,
          288,
          202,
          169,
          286,
          263,
          121,
          86,
          255,
          189,
          221,
          280,
          220,
          266,
          228,
          379,
          183,
          171,
          290,
          157,
          198,
          266,
          227,
          231,
          256,
          183,
          280,
          287,
          253,
          242,
          285,
          248,
          380,
          168,
          263,
          263,
          118,
          230,
          214,
          101,
          222,
          158,
          164,
          169,
          69,
          66,
          226,
          243,
          301,
          179,
          168,
          270,
          287,
          243,
          226,
          306,
          309,
          221,
          253,
          304,
          292,
          180,
          223,
          223,
          158,
          46,
          232,
          7,
          97,
          257,
          343,
          277,
          182,
          206,
          250,
          229,
          313,
          294,
          227,
          286,
          307,
          121,
          122,
          162,
          169,
          275,
          132,
          267,
          227,
          158,
          247,
          220,
          274,
          295,
          201,
          297,
          282,
          208,
          290,
          261,
          283,
          229,
          261,
          190,
          341,
          296,
          160,
          248,
          213,
          227,
          251,
          262,
          312,
          243,
          297,
          125,
          167,
          251,
          115,
          262,
          174,
          191,
          57,
          181,
          267,
          225,
          140,
          237,
          226,
          209,
          357,
          244,
          269,
          216,
          297,
          130,
          224,
          314,
          208,
          291,
          208,
          207,
          179,
          288,
          168,
          282,
          224,
          225,
          212,
          269,
          311,
          284,
          94,
          109,
          233,
          242,
          199,
          118,
          180,
          223,
          319,
          206,
          676,
          236,
          106,
          200,
          288,
          324,
          148,
          222,
          271,
          158,
          272,
          241,
          162,
          235,
          220,
          292,
          300,
          272,
          307,
          11,
          12,
          187,
          454,
          305,
          293,
          129,
          182,
          275,
          311,
          212,
          203,
          293,
          189,
          129,
          84,
          228,
          245,
          176,
          261,
          259,
          288,
          182,
          204,
          228,
          215,
          294,
          254,
          217,
          240,
          305,
          207,
          191,
          240,
          219,
          149,
          219,
          88,
          241,
          248,
          180,
          207,
          253,
          387,
          8,
          6,
          207,
          206,
          220,
          222,
          211,
          257,
          164,
          260,
          286,
          315,
          244,
          317,
          200,
          397,
          278,
          208,
          226,
          255,
          236,
          233,
          206,
          198,
          155,
          357,
          139,
          628,
          163,
          284,
          314,
          288,
          269,
          257,
          231,
          291,
          294,
          249,
          264,
          295,
          315,
          186,
          329,
          374,
          261,
          259,
          243,
          210,
          148,
          268,
          263,
          243,
          318,
          228,
          252,
          303,
          221,
          266,
          296,
          235,
          269,
          292,
          238,
          203,
          168,
          194,
          63,
          150,
          226,
          314,
          248,
          199,
          226,
          229,
          230,
          273,
          225,
          181,
          267,
          204,
          153,
          223,
          246,
          209,
          262,
          309,
          315,
          274,
          223,
          219,
          253,
          177,
          158,
          376,
          217,
          212,
          199,
          194,
          171,
          355,
          313,
          90,
          202,
          197,
          235,
          98,
          149,
          214,
          466,
          194,
          258,
          93,
          157,
          263,
          176,
          274,
          335,
          208,
          178,
          298,
          207,
          170,
          302,
          204,
          254,
          15,
          219,
          302,
          328,
          149,
          231,
          217,
          222,
          259,
          212,
          192,
          324,
          207,
          292,
          238,
          267,
          247,
          224,
          268,
          206,
          212,
          196,
          274,
          217,
          263,
          145,
          263,
          54,
          218,
          280,
          231,
          6,
          166,
          216,
          245,
          206,
          260,
          262,
          224,
          165,
          188,
          153,
          231,
          262,
          197,
          201,
          211,
          248,
          142,
          253,
          227,
          228,
          251,
          225,
          106,
          201,
          286,
          102,
          255,
          348,
          187,
          277,
          280,
          177,
          225,
          265,
          202,
          288,
          250,
          185,
          219,
          286,
          207,
          207,
          160,
          238,
          287,
          282,
          211,
          288,
          216,
          145,
          315,
          225,
          163,
          275,
          182,
          205,
          108,
          290,
          207,
          265,
          311,
          212,
          263,
          279,
          268,
          164,
          255,
          296,
          260,
          313,
          173,
          214,
          186,
          147,
          131,
          258,
          189,
          125,
          86,
          150,
          164,
          262,
          172,
          193,
          290,
          8,
          10,
          262,
          241,
          338,
          246,
          291,
          189,
          262,
          179,
          240,
          299,
          167,
          231,
          305,
          183,
          305,
          180,
          270,
          279,
          266,
          7,
          6,
          276,
          324,
          94,
          287,
          285,
          196,
          175,
          301,
          385,
          12,
          320,
          272,
          228,
          279,
          81,
          6,
          277,
          237,
          307,
          190,
          230,
          295,
          256,
          237,
          311,
          221,
          233,
          290,
          274,
          82,
          89,
          226,
          262,
          239,
          309,
          260,
          209,
          248,
          173,
          175,
          321,
          309,
          521,
          308,
          200,
          197,
          229,
          261,
          273,
          173,
          261,
          220,
          196,
          154,
          201,
          149,
          190,
          277,
          214,
          239,
          158,
          191,
          115,
          246,
          296,
          169,
          162,
          135,
          5,
          256,
          192,
          165,
          115,
          226,
          122,
          170,
          125,
          216,
          190,
          151,
          298,
          187,
          206,
          111,
          268,
          224,
          176,
          320,
          271,
          323,
          260,
          248,
          203,
          242,
          271,
          304,
          163,
          284,
          372,
          322,
          265,
          249,
          185,
          159,
          194,
          334,
          134,
          321,
          191,
          225,
          8,
          236,
          130,
          269,
          249,
          328,
          198,
          164,
          10,
          315,
          120,
          267,
          250,
          203,
          11,
          281,
          256,
          269,
          243,
          252,
          165,
          180,
          266,
          268,
          303,
          188,
          225,
          248,
          275,
          175,
          177,
          244,
          303,
          249,
          201,
          87,
          160,
          260,
          133,
          204,
          181,
          195,
          225,
          23,
          173,
          197,
          171,
          164,
          125,
          229,
          253,
          220,
          179,
          241,
          302,
          301,
          201,
          297,
          256,
          274,
          278,
          267,
          339,
          327,
          227,
          266,
          228,
          401,
          402,
          173,
          235,
          259,
          158,
          150,
          293,
          228,
          208,
          199,
          326,
          272,
          259,
          309,
          247,
          80,
          392,
          167,
          275,
          233,
          103,
          261,
          201,
          213,
          308,
          262,
          258,
          185,
          248,
          281,
          302,
          215,
          273,
          256,
          236,
          246,
          275,
          270,
          6,
          194,
          11,
          202,
          206,
          5,
          280,
          302,
          261,
          309,
          180,
          335,
          215,
          266,
          221,
          268,
          239,
          271,
          259,
          273,
          210,
          213,
          195,
          254,
          140,
          249,
          206,
          262,
          220,
          266,
          280,
          178,
          360,
          151,
          153,
          245,
          289,
          248,
          101,
          90,
          299,
          178,
          205,
          219,
          226,
          262,
          233,
          251,
          468,
          306,
          247,
          302,
          231,
          261,
          202,
          279,
          237,
          208,
          249,
          153,
          105,
          122,
          226,
          187,
          137,
          340,
          267,
          237,
          345,
          343,
          165,
          287,
          297,
          215,
          229,
          275,
          237,
          224,
          218,
          113,
          185,
          266,
          154,
          283,
          208,
          278,
          213,
          144,
          195,
          269,
          167,
          216,
          80,
          179,
          156,
          239,
          215,
          387,
          382,
          200,
          245,
          284,
          218,
          105,
          211,
          103,
          155,
          268,
          339,
          161,
          264,
          231,
          301,
          261,
          387,
          263,
          277,
          230,
          281,
          394,
          282,
          314,
          312,
          306,
          283,
          222,
          224,
          307,
          304,
          291,
          259,
          254,
          168,
          298,
          267,
          326,
          286,
          302,
          191,
          278,
          305,
          116,
          103,
          176,
          294,
          191,
          185,
          155,
          264,
          251,
          320,
          275,
          320,
          224,
          253,
          257,
          232,
          183,
          238,
          286,
          273,
          313,
          104,
          98,
          176,
          235,
          155,
          317,
          274,
          228,
          201,
          346,
          375,
          271,
          345,
          269,
          242,
          274,
          237,
          346,
          359,
          381,
          221,
          318,
          255,
          361,
          243,
          274,
          259,
          277,
          247,
          238,
          248,
          386,
          244,
          145,
          267,
          261,
          224,
          321,
          214,
          168,
          130,
          152,
          205,
          279,
          245,
          102,
          71,
          180,
          276,
          287,
          254,
          308,
          370,
          163,
          355,
          76,
          270,
          155,
          376,
          224,
          222,
          297,
          293,
          303,
          231,
          310,
          670,
          294,
          183,
          199,
          152,
          177,
          241,
          295,
          242,
          189,
          213,
          297,
          175,
          213,
          296,
          274,
          198,
          316,
          105,
          65,
          253,
          312,
          200,
          107,
          295,
          135,
          297,
          252,
          264,
          291,
          200,
          515,
          268,
          127,
          289,
          233,
          176,
          372,
          100,
          219,
          9,
          165,
          257,
          192,
          221,
          247,
          159,
          266,
          445,
          239,
          328,
          326,
          224,
          304,
          217,
          15,
          140,
          157,
          253,
          171,
          145,
          160,
          188,
          128,
          218,
          169,
          275,
          305,
          228,
          296,
          259,
          300,
          296,
          300,
          214,
          238,
          330,
          342,
          110,
          145,
          154,
          212,
          120,
          452,
          293,
          263,
          158,
          421,
          326,
          281,
          227,
          294,
          258,
          297,
          203,
          155,
          221,
          235,
          270,
          208,
          288,
          173,
          152,
          228,
          207,
          313,
          139,
          366,
          229,
          158,
          180,
          242,
          174,
          145,
          187,
          148,
          249,
          277,
          168,
          209,
          218,
          141,
          88,
          192,
          86,
          282,
          9,
          349,
          270,
          219,
          320,
          283,
          255,
          247,
          234,
          240,
          311,
          456,
          335,
          225,
          242,
          242,
          239,
          268,
          146,
          279,
          282,
          270,
          279,
          253,
          281,
          236,
          244,
          287,
          284,
          277,
          275,
          284,
          308,
          305,
          307,
          319,
          222,
          178,
          338,
          246,
          183,
          110,
          165,
          142,
          334,
          275,
          235,
          211,
          192,
          252,
          204,
          259,
          237,
          108,
          178,
          154,
          224,
          98,
          253,
          325,
          296,
          456,
          236,
          340,
          264,
          214,
          194,
          85,
          409,
          221,
          276,
          256,
          251,
          364,
          219,
          263,
          237,
          196,
          314,
          274,
          320,
          311,
          429,
          187,
          245,
          209,
          211,
          176,
          133,
          325,
          340,
          214,
          258,
          256,
          604,
          90,
          280,
          208,
          288,
          242,
          181,
          251,
          311,
          216,
          227,
          210,
          400,
          275,
          281,
          296,
          107,
          221,
          107,
          82,
          79,
          173,
          231,
          146,
          262,
          220,
          263,
          466,
          160,
          261,
          285,
          303,
          262,
          222,
          242,
          297,
          123,
          231,
          203,
          285,
          143,
          243,
          206,
          16,
          250,
          263,
          216,
          266,
          324,
          239,
          275,
          232,
          255,
          235,
          226,
          220,
          172,
          215,
          356,
          298,
          279,
          318,
          271,
          329,
          211,
          304,
          320,
          188,
          277,
          86,
          320,
          208,
          295,
          150,
          236,
          159,
          191,
          245,
          322,
          315,
          270,
          220,
          346,
          151,
          294,
          279,
          225,
          245,
          239,
          129,
          214,
          194,
          228,
          246,
          251,
          250,
          395,
          175,
          181,
          186,
          222,
          149,
          303,
          254,
          215,
          281,
          267,
          182,
          265,
          271,
          248,
          264,
          225,
          164,
          347,
          209,
          375,
          203,
          286,
          253,
          183,
          144,
          238,
          276,
          137,
          178,
          203,
          317,
          241,
          154,
          212,
          290,
          172,
          268,
          281,
          310,
          65,
          188,
          250,
          241,
          340,
          202,
          188,
          239,
          200,
          228,
          192,
          285,
          206,
          245,
          289,
          4,
          155,
          268,
          198,
          255,
          294,
          278,
          236,
          331,
          236,
          228,
          183,
          231,
          246,
          252,
          233,
          275,
          162,
          228,
          402,
          316,
          10,
          174,
          260,
          299,
          158,
          294,
          392,
          158,
          182,
          169,
          165,
          141,
          164,
          163,
          169,
          274,
          255,
          268,
          218,
          266,
          340,
          342,
          275,
          266,
          229,
          222,
          170,
          142,
          234,
          175,
          86,
          205,
          324,
          239,
          284,
          355,
          214,
          70,
          155,
          215,
          125,
          262,
          137,
          157,
          140,
          301,
          211,
          254,
          186,
          219,
          252,
          298,
          269,
          114,
          290,
          407,
          209,
          151,
          196,
          249,
          284,
          274,
          164,
          129,
          286,
          291,
          454,
          270,
          275,
          216,
          302,
          316,
          234,
          184,
          219,
          267,
          259,
          298,
          222,
          257,
          172,
          217,
          208,
          186,
          226,
          242,
          113,
          203,
          116,
          190,
          122,
          255,
          146,
          299,
          259,
          221,
          239,
          220,
          92,
          94,
          157,
          85,
          201,
          202,
          86,
          180,
          199,
          279,
          281,
          220,
          217,
          150,
          123,
          277,
          226,
          281,
          222,
          348,
          310,
          308,
          317,
          128,
          260,
          292,
          300,
          194,
          259,
          250,
          298,
          269,
          272,
          182,
          220,
          278,
          276,
          216,
          114,
          230,
          164,
          277,
          236,
          261,
          268,
          271,
          162,
          214,
          200,
          227,
          205,
          199,
          177,
          184,
          205,
          265,
          284,
          178,
          219,
          221,
          155,
          185,
          459,
          110,
          119,
          133,
          120,
          196,
          229,
          175,
          273,
          155,
          254,
          127,
          144,
          253,
          232,
          238,
          206,
          133,
          303,
          266,
          223,
          306,
          149,
          341,
          282,
          195,
          208,
          184,
          318,
          223,
          216,
          353,
          347,
          239,
          282,
          255,
          110,
          251,
          271,
          310,
          313,
          336,
          243,
          260,
          185,
          212,
          199,
          17,
          180,
          208,
          374,
          284,
          8,
          306,
          271,
          247,
          516,
          257,
          303,
          211,
          212,
          247,
          274,
          236,
          241,
          289,
          130,
          262,
          179,
          295,
          239,
          259,
          221,
          302,
          242,
          229,
          239,
          376,
          228,
          235,
          203,
          272,
          128,
          329,
          287,
          373,
          102,
          275,
          329,
          313,
          281,
          274,
          273,
          303,
          113,
          354,
          95,
          118,
          87,
          151,
          272,
          90,
          230,
          227,
          258,
          9,
          245,
          200,
          144,
          84,
          208,
          101,
          371,
          234,
          143,
          186,
          243,
          157,
          238,
          227,
          162,
          224,
          217,
          146,
          241,
          240,
          224,
          219,
          199,
          233,
          269,
          345,
          219,
          227,
          192,
          202,
          229,
          410,
          206,
          225,
          260,
          284,
          339,
          217,
          218,
          298,
          212,
          350,
          139,
          165,
          249,
          287,
          217,
          228,
          171,
          303,
          255,
          217,
          240,
          201,
          111,
          253,
          174,
          243,
          390,
          264,
          271,
          153,
          131,
          267,
          262,
          279,
          180,
          199,
          280,
          179,
          188,
          309,
          225,
          259,
          222,
          133,
          167,
          109,
          185,
          106,
          118,
          203,
          283,
          268,
          243,
          319,
          182,
          259,
          243,
          282,
          309,
          267,
          274,
          271,
          226,
          309,
          218,
          319,
          183,
          254,
          258,
          248,
          223,
          271,
          268,
          206,
          151,
          260,
          262,
          343,
          344,
          285,
          285,
          265,
          339,
          271,
          201,
          342,
          183,
          277,
          153,
          79,
          223,
          3,
          100,
          373,
          237,
          155,
          105,
          168,
          343,
          304,
          240,
          213,
          416,
          173,
          150,
          239,
          318,
          388,
          156,
          239,
          158,
          266,
          194,
          207,
          293,
          233,
          220,
          213,
          292,
          237,
          191,
          273,
          280,
          236,
          295,
          277,
          244,
          239,
          311,
          297,
          147,
          211,
          264,
          267,
          242,
          270,
          228,
          260,
          218,
          324,
          199,
          213,
          354,
          261,
          2,
          241,
          143,
          296,
          203,
          235,
          210,
          246,
          267,
          166,
          238,
          165,
          251,
          249,
          248,
          260,
          161,
          152,
          220,
          238,
          290,
          247,
          207,
          259,
          216,
          87,
          248,
          239,
          268,
          170,
          152,
          157,
          114,
          308,
          196,
          69,
          361,
          266,
          262,
          204,
          267,
          151,
          297,
          223,
          240,
          219,
          229,
          87,
          159,
          259,
          252,
          124,
          375,
          357,
          226,
          243,
          342,
          270,
          360,
          243,
          259,
          248,
          285,
          191,
          186,
          208,
          278,
          210,
          18,
          208,
          11,
          178,
          270,
          268,
          362,
          210,
          228,
          222,
          279,
          257,
          275,
          370,
          251,
          221,
          259,
          238,
          159,
          255,
          252,
          162,
          184,
          227,
          117,
          224,
          285,
          292,
          319,
          316,
          216,
          292,
          284,
          334,
          181,
          133,
          111,
          232,
          297,
          284,
          188,
          282,
          231,
          275,
          312,
          266,
          240,
          313,
          302,
          238,
          282,
          156,
          205,
          120,
          260,
          345,
          186,
          296,
          315,
          336,
          241,
          164,
          258,
          275,
          245,
          151,
          260,
          254,
          208,
          115,
          170,
          149,
          215,
          200,
          103,
          131,
          213,
          158,
          442,
          161,
          257,
          323,
          273,
          252,
          173,
          165,
          249,
          217,
          199,
          271,
          187,
          344,
          225,
          156,
          267,
          201,
          259,
          329,
          323,
          214,
          213,
          120,
          150,
          205,
          211,
          327,
          209,
          168,
          288,
          259,
          236,
          315,
          238,
          204,
          240,
          210,
          205,
          190,
          381,
          595,
          218,
          249,
          253,
          217,
          181,
          365,
          336,
          279,
          272,
          152,
          207,
          226,
          273,
          358,
          310,
          187,
          272,
          147,
          213,
          151,
          132,
          202,
          257,
          305,
          365,
          337,
          260,
          183,
          265,
          260,
          215,
          350,
          291,
          179,
          272,
          216,
          154,
          154,
          223,
          264,
          217,
          228,
          154,
          142,
          212,
          272,
          327,
          270,
          189,
          579,
          222,
          224,
          297,
          201,
          257,
          217,
          249,
          271,
          223,
          100,
          270,
          198,
          237,
          344,
          233,
          228,
          117,
          276,
          185,
          301,
          392,
          259,
          249,
          122,
          129,
          191,
          233,
          264,
          288,
          206,
          250,
          269,
          156,
          263,
          46,
          263,
          135,
          252,
          380,
          87,
          212,
          219,
          189,
          235,
          272,
          314,
          292,
          310,
          305,
          295,
          247,
          231,
          316,
          219,
          265,
          343,
          202,
          211,
          433,
          256,
          81,
          300,
          246,
          277,
          234,
          265,
          282,
          252,
          231,
          233,
          308,
          201,
          294,
          203,
          316,
          248,
          273,
          370,
          228,
          256,
          209,
          191,
          205,
          291,
          273,
          147,
          162,
          195,
          302,
          112,
          380,
          153,
          156,
          293,
          245,
          219,
          278,
          300,
          287,
          432,
          219,
          228,
          233,
          203,
          138,
          134,
          65,
          173,
          122,
          256,
          303,
          293,
          285,
          223,
          311,
          149,
          394,
          205,
          230,
          347,
          277,
          279,
          289,
          263,
          408,
          304,
          256,
          258,
          259,
          251,
          184,
          227,
          374,
          219,
          221,
          224,
          221,
          254,
          226,
          264,
          244,
          200,
          273,
          150,
          286,
          261,
          208,
          241,
          255,
          292,
          269,
          220,
          229,
          261,
          214,
          205,
          147,
          348,
          215,
          207,
          267,
          213,
          273,
          325,
          316,
          270,
          279,
          252,
          312,
          306,
          212,
          248,
          283,
          307,
          187,
          217,
          191,
          252,
          111,
          232,
          190,
          243,
          176,
          168,
          248,
          239,
          256,
          371,
          220,
          192,
          321,
          310,
          330,
          233,
          219,
          48,
          268,
          117,
          470,
          128,
          249,
          233,
          199,
          114,
          216,
          112,
          149,
          114,
          374,
          203,
          217,
          264,
          322,
          188,
          274,
          163,
          267,
          150,
          154,
          165,
          166,
          153,
          133,
          200,
          147,
          324,
          115,
          299,
          313,
          273,
          226,
          249,
          149,
          224,
          246,
          261,
          325,
          319,
          370,
          265,
          204,
          600,
          161,
          230,
          157,
          354,
          258,
          260,
          228,
          198,
          145,
          222,
          292,
          290,
          225,
          406,
          203,
          137,
          375,
          380,
          381,
          170,
          222,
          253,
          16,
          104,
          449,
          213,
          304,
          262,
          106,
          325,
          169,
          105,
          138,
          108,
          239,
          221,
          207,
          219,
          268,
          204,
          294,
          280,
          268,
          200,
          179,
          344,
          315,
          260,
          249,
          159,
          178,
          240,
          246,
          172,
          312,
          142,
          132,
          322,
          252,
          286,
          368,
          253,
          9,
          303,
          245,
          255,
          290,
          316,
          245,
          259,
          7,
          287,
          422,
          219,
          283,
          316,
          268,
          268,
          184,
          267,
          287,
          251,
          230,
          192,
          9,
          222,
          277,
          339,
          250,
          317,
          308,
          326,
          322,
          262,
          366,
          177,
          260,
          127,
          281,
          215,
          220,
          124,
          160,
          250,
          246,
          277,
          201,
          377,
          355,
          208,
          173,
          213,
          154,
          169,
          258,
          91,
          272,
          154,
          348,
          265,
          243,
          254,
          153,
          152,
          262,
          252,
          256,
          249,
          85,
          233,
          290,
          305,
          256,
          213,
          360,
          225,
          514,
          160,
          248,
          261,
          98,
          171,
          178,
          226,
          199,
          216,
          10,
          206,
          170,
          135,
          274,
          244,
          212,
          254,
          154,
          330,
          271,
          304,
          326,
          202,
          199,
          166,
          257,
          220,
          217,
          262,
          329,
          278,
          263,
          254,
          126,
          170,
          86,
          122,
          213,
          249,
          176,
          303,
          226,
          235,
          183,
          375,
          329,
          152,
          169,
          264,
          7,
          112,
          248,
          317,
          232,
          99,
          170,
          278,
          152,
          332,
          253,
          242,
          248,
          303,
          263,
          274,
          61,
          201,
          413,
          217,
          256,
          209,
          255,
          233,
          272,
          135,
          210,
          251,
          258,
          249,
          192,
          313,
          255,
          291,
          330,
          179,
          267,
          184,
          366,
          313,
          284,
          228,
          186,
          358,
          263,
          263,
          243,
          268,
          214,
          218,
          309,
          257,
          251,
          293,
          246,
          108,
          175,
          254,
          271,
          302,
          225,
          186,
          151,
          142,
          307,
          137,
          87,
          280,
          196,
          213,
          244,
          288,
          420,
          198,
          397,
          289,
          181,
          218,
          176,
          268,
          198,
          277,
          274,
          211,
          216,
          204,
          103,
          265,
          217,
          199,
          216,
          218,
          218,
          216,
          215,
          184,
          303,
          147,
          365,
          223,
          230,
          349,
          257,
          264,
          335,
          185,
          255,
          283,
          274,
          235,
          186,
          188,
          252,
          154,
          214,
          117,
          179,
          152,
          200,
          156,
          258,
          232,
          214,
          290,
          233,
          260,
          325,
          219,
          186,
          233,
          219,
          385,
          271,
          147,
          279,
          160,
          305,
          277,
          244,
          243,
          172,
          194,
          235,
          196,
          285,
          403,
          409,
          168,
          169,
          291,
          178,
          271,
          205,
          283,
          223,
          279,
          217,
          286,
          103,
          247,
          237,
          313,
          272,
          321,
          317,
          175,
          242,
          224,
          275,
          105,
          265,
          104,
          275,
          264,
          209,
          210,
          374,
          237,
          224,
          214,
          176,
          341,
          192,
          84,
          188,
          257,
          306,
          170,
          174,
          221,
          325,
          328,
          215,
          235,
          226,
          228,
          157,
          192,
          239,
          217,
          100,
          322,
          358,
          226,
          200,
          163,
          344,
          263,
          295,
          135,
          206,
          314,
          160,
          355,
          305,
          262,
          261,
          316,
          248,
          296,
          276,
          282,
          277,
          192,
          221,
          469,
          256,
          217,
          253,
          218,
          387,
          253,
          319,
          303,
          178,
          233,
          287,
          245,
          248,
          248,
          268,
          109,
          206,
          242,
          268,
          283,
          231,
          151,
          209,
          289,
          233,
          258,
          302,
          272,
          173,
          228,
          217,
          267,
          256,
          236,
          208,
          219,
          112,
          6,
          58,
          261,
          200,
          514,
          106,
          234,
          217,
          243,
          145,
          278,
          305,
          146,
          212,
          216,
          80,
          286,
          174,
          134,
          202,
          265,
          270,
          13,
          221,
          253,
          291,
          236,
          248,
          151,
          181,
          366,
          267,
          263,
          516,
          303,
          178,
          212,
          269,
          228,
          253,
          331,
          128,
          182,
          202,
          256,
          152,
          223,
          248,
          347,
          226,
          161,
          290,
          269,
          261,
          267,
          266,
          215,
          207,
          225,
          203,
          277,
          274,
          203,
          314,
          409,
          72,
          188,
          322,
          276,
          243,
          91,
          194,
          292,
          233,
          211,
          206,
          332,
          237,
          69,
          105,
          86,
          269,
          285,
          256,
          326,
          258,
          204,
          146,
          238,
          304,
          296,
          164,
          177,
          256,
          231,
          176,
          199,
          220,
          135,
          147,
          264,
          217,
          218,
          187,
          207,
          210,
          225,
          223,
          82,
          238,
          213,
          204,
          208,
          171,
          290,
          212,
          206,
          191,
          267,
          122,
          238,
          397,
          336,
          370,
          262,
          294,
          157,
          157,
          236,
          355,
          254,
          282,
          198,
          420,
          268,
          319,
          275,
          288,
          339,
          232,
          254,
          265,
          132,
          177,
          122,
          251,
          10,
          217,
          221,
          156,
          220,
          280,
          277,
          256,
          172,
          183,
          217,
          226,
          224,
          215,
          222,
          261,
          268,
          265,
          295,
          7,
          349,
          273,
          279,
          146,
          276,
          136,
          161,
          284,
          221,
          205,
          283,
          173,
          210,
          115,
          236,
          292,
          261,
          198,
          93,
          212,
          238,
          258,
          262,
          251,
          269,
          225,
          101,
          191,
          216,
          107,
          274,
          262,
          293,
          228,
          288,
          165,
          176,
          190,
          186,
          262,
          178,
          157,
          264,
          247,
          238,
          180,
          271,
          209,
          7,
          228,
          195,
          340,
          133,
          188,
          97,
          245,
          400,
          252,
          239,
          252,
          203,
          216,
          302,
          342,
          275,
          267,
          212,
          216,
          148,
          358,
          259,
          178,
          207,
          276,
          256,
          262,
          221,
          177,
          223,
          113,
          234,
          274,
          314,
          273,
          222,
          148,
          334,
          207,
          167,
          309,
          151,
          262,
          150,
          251,
          277,
          215,
          222,
          182,
          248,
          207,
          179,
          183,
          213,
          251,
          290,
          142,
          307,
          189,
          413,
          218,
          339,
          231,
          302,
          278,
          239,
          213,
          190,
          98,
          163,
          167,
          227,
          228,
          188,
          230,
          240,
          359,
          340,
          207,
          279,
          216,
          180,
          87,
          161,
          232,
          229,
          301,
          218,
          220,
          369,
          221,
          99,
          134,
          197,
          156,
          504,
          347,
          92,
          295,
          221,
          251,
          198,
          546,
          181,
          216,
          151,
          323,
          101,
          413,
          169,
          219,
          264,
          459,
          309,
          251,
          288,
          317,
          108,
          162,
          157,
          204,
          172,
          132,
          265,
          253,
          140,
          255,
          207,
          277,
          257,
          98,
          208,
          262,
          73,
          255,
          209,
          156,
          176,
          173,
          2,
          57,
          203,
          108,
          220,
          118,
          365,
          163,
          247,
          167,
          189,
          8,
          204,
          196,
          341,
          440,
          120,
          261,
          330,
          232,
          280,
          191,
          341,
          8,
          235,
          112,
          227,
          127,
          128,
          311,
          133,
          321,
          291,
          216,
          139,
          213,
          130,
          225,
          372,
          265,
          197,
          526,
          226,
          206,
          277,
          271,
          384,
          374,
          265,
          182,
          281,
          215,
          261,
          214,
          182,
          136,
          168,
          263,
          168,
          289,
          114,
          92,
          55,
          10,
          12,
          12,
          255,
          233,
          333,
          218,
          271,
          147,
          351,
          92,
          95,
          293,
          156,
          255,
          190,
          120,
          244,
          247,
          325,
          106,
          217,
          147,
          255,
          160,
          130,
          236,
          135,
          206,
          233,
          262,
          216,
          161,
          198,
          277,
          193,
          73,
          11,
          422,
          141,
          274,
          165,
          237,
          86,
          172,
          60,
          148,
          138,
          241,
          158,
          404,
          334,
          233,
          292,
          197,
          241,
          238,
          216,
          153,
          370,
          363,
          209,
          122,
          209,
          223,
          239,
          336,
          311,
          222,
          301,
          223,
          314,
          194,
          97,
          265,
          228,
          371,
          197,
          165,
          7,
          276,
          322,
          107,
          152,
          459,
          211,
          7,
          171,
          403,
          294,
          270,
          302,
          237,
          212,
          423,
          403,
          272,
          208,
          211,
          335,
          261,
          229,
          319,
          279,
          285,
          233,
          236,
          232,
          150,
          280,
          227,
          279,
          187,
          204,
          276,
          303,
          437,
          302,
          229,
          347,
          137,
          276,
          217,
          214,
          285,
          268,
          276,
          183,
          192,
          256,
          239,
          278,
          233,
          147,
          181,
          268,
          205,
          212,
          308,
          171,
          152,
          250,
          224,
          174,
          211,
          277,
          189,
          276,
          175,
          293,
          204,
          208,
          9,
          264,
          227,
          265,
          383,
          183,
          66,
          364,
          133,
          244,
          206,
          227,
          203,
          191,
          196,
          196,
          164,
          146,
          152,
          340,
          243,
          246,
          243,
          314,
          391,
          106,
          216,
          220,
          203,
          205,
          97,
          320,
          84,
          210,
          252,
          157,
          287,
          90,
          174,
          257,
          392,
          503,
          234,
          257,
          207,
          114,
          528,
          414,
          162,
          208,
          184,
          197,
          211,
          274,
          239,
          277,
          299,
          170,
          209,
          268,
          397,
          420,
          332,
          304,
          124,
          356,
          350,
          38,
          215,
          292,
          269,
          265,
          280,
          237,
          91,
          314,
          288,
          229,
          348,
          334,
          219,
          157,
          271,
          231,
          79,
          220,
          176,
          226,
          127,
          314,
          181,
          270,
          200,
          417,
          229,
          249,
          228,
          323,
          234,
          172,
          193,
          248,
          250,
          203,
          284,
          226,
          140,
          158,
          194,
          223,
          249,
          154,
          261,
          254,
          187,
          274,
          163,
          171,
          309,
          224,
          157,
          297,
          319,
          259,
          253,
          230,
          148,
          157,
          336,
          467,
          208,
          289,
          232,
          244,
          213,
          201,
          221,
          292,
          255,
          321,
          278,
          442,
          133,
          302,
          128,
          201,
          200,
          232,
          187,
          168,
          143,
          216,
          208,
          11,
          209,
          197,
          145,
          123,
          252,
          237,
          229,
          191,
          231,
          293,
          241,
          11,
          231,
          218,
          173,
          261,
          245,
          269,
          259,
          266,
          11,
          66,
          214,
          146,
          262,
          185,
          283,
          209,
          144,
          177,
          63,
          84,
          147,
          137,
          10,
          318,
          297,
          367,
          265,
          88,
          203,
          186,
          202,
          134,
          216,
          243,
          240,
          125,
          188,
          246,
          262,
          296,
          77,
          204,
          162,
          238,
          244,
          387,
          260,
          218,
          338,
          263,
          323,
          161,
          184,
          196,
          249,
          321,
          321,
          144,
          214,
          129,
          212,
          203,
          184,
          240,
          244,
          291,
          287,
          305,
          205,
          208,
          134,
          211,
          187,
          264,
          158,
          133,
          201,
          254,
          193,
          499,
          123,
          249,
          282,
          191,
          353,
          156,
          262,
          188,
          222,
          244,
          209,
          274,
          304,
          285,
          288,
          177,
          271,
          272,
          290,
          346,
          209,
          160,
          276,
          146,
          269,
          153,
          165,
          109,
          191,
          244,
          238,
          226,
          90,
          290,
          211,
          266,
          189,
          196,
          307,
          194,
          134,
          127,
          264,
          241,
          147,
          97,
          62,
          225,
          277,
          316,
          190,
          249,
          329,
          332,
          206,
          245,
          216,
          175,
          301,
          167,
          242,
          240,
          227,
          187,
          445,
          214,
          214,
          190,
          199,
          6,
          120,
          371,
          283,
          95,
          298,
          196,
          114,
          352,
          219,
          249,
          64,
          277,
          273,
          215,
          233,
          211,
          222,
          297,
          241,
          226,
          75,
          408,
          508,
          420,
          280,
          291,
          317,
          224,
          188,
          264,
          306,
          378,
          311,
          282,
          148,
          294,
          254,
          324,
          157,
          364,
          258,
          169,
          209,
          140,
          172,
          98,
          313,
          272,
          289,
          236,
          233,
          400,
          7,
          345,
          199,
          145,
          242,
          340,
          263,
          62,
          228,
          230,
          152,
          280,
          342,
          149,
          209,
          201,
          76,
          96,
          6,
          128,
          243,
          273,
          337,
          273,
          281,
          276,
          6,
          173,
          281,
          244,
          257,
          154,
          10,
          220,
          251,
          366,
          311,
          291,
          195,
          215,
          10,
          277,
          349,
          244,
          301,
          133,
          278,
          5,
          4,
          261,
          255,
          288,
          223,
          85,
          404,
          268,
          218,
          178,
          152,
          216,
          228,
          215,
          82,
          265,
          173,
          188,
          188,
          180,
          261,
          228,
          394,
          178,
          327,
          157,
          59,
          95,
          332,
          212,
          278,
          363,
          342,
          235,
          342,
          141,
          187,
          236,
          198,
          261,
          298,
          266,
          209,
          180,
          72,
          627,
          270,
          231,
          335,
          231,
          148,
          333,
          296,
          8,
          265,
          408,
          267,
          237,
          191,
          84,
          167,
          213,
          166,
          207,
          261,
          281,
          414,
          288,
          292,
          181,
          216,
          237,
          115,
          227,
          304,
          248,
          299,
          197,
          258,
          290,
          301,
          238,
          235,
          227,
          437,
          110,
          304,
          205,
          217,
          285,
          170,
          8,
          234,
          165,
          300,
          214,
          245,
          234,
          261,
          218,
          291,
          391,
          265,
          74,
          171,
          223,
          262,
          205,
          113,
          197,
          458,
          419,
          402,
          234,
          253,
          293,
          507,
          417,
          210,
          299,
          94,
          153,
          220,
          250,
          347,
          402,
          294,
          70,
          270,
          280,
          322,
          335,
          161,
          313,
          330,
          277,
          185,
          204,
          108,
          91,
          104,
          205,
          226,
          99,
          168,
          172,
          130,
          307,
          203,
          120,
          271,
          182,
          426,
          357,
          94,
          194,
          108,
          260,
          266,
          327,
          235,
          240,
          155,
          161,
          218,
          238,
          221,
          202,
          231,
          340,
          281,
          346,
          299,
          5,
          328,
          247,
          125,
          163,
          260,
          113,
          292,
          420,
          271,
          76,
          173,
          293,
          248,
          1,
          199,
          213,
          269,
          199,
          217,
          262,
          361,
          281,
          264,
          238,
          288,
          250,
          185,
          158,
          192,
          198,
          258,
          262,
          146,
          243,
          349,
          259,
          225,
          181,
          210,
          225,
          219,
          253,
          213,
          94,
          293,
          232,
          140,
          263,
          173,
          243,
          133,
          310,
          292,
          182,
          264,
          380,
          312,
          256,
          167,
          269,
          150,
          192,
          269,
          328,
          310,
          198,
          307,
          335,
          426,
          205,
          205,
          2,
          13,
          142,
          258,
          256,
          268,
          240,
          239,
          250,
          197,
          228,
          147,
          299,
          261,
          260,
          252,
          376,
          248,
          210,
          114,
          402,
          10,
          169,
          234,
          211,
          231,
          248,
          258,
          212,
          155,
          182,
          222,
          211,
          305,
          273,
          232,
          263,
          247,
          217,
          282,
          278,
          140,
          289,
          165,
          181,
          192,
          346,
          239,
          210,
          320,
          411,
          114,
          284,
          468,
          220,
          242,
          154,
          229,
          224,
          292,
          368,
          303,
          183,
          116,
          314,
          390,
          236,
          217,
          207,
          64,
          256,
          189,
          237,
          288,
          164,
          140,
          247,
          114,
          124,
          123,
          273,
          214,
          171,
          167,
          178,
          184,
          248,
          157,
          232,
          286,
          388,
          211,
          413,
          269,
          251,
          335,
          268,
          142,
          271,
          232,
          258,
          171,
          293,
          292,
          492,
          152,
          71,
          157,
          782,
          232,
          215,
          199,
          332,
          432,
          7,
          148,
          225,
          280,
          159,
          218,
          286,
          343,
          250,
          283,
          257,
          342,
          209,
          73,
          195,
          264,
          230,
          154,
          12,
          109,
          156,
          130,
          123,
          83,
          110,
          317,
          243,
          179,
          274,
          374,
          251,
          256,
          188,
          169,
          286,
          298,
          202,
          112,
          95,
          315,
          119,
          170,
          425,
          289,
          193,
          401,
          229,
          252,
          592,
          288,
          71,
          243,
          204,
          341,
          200,
          254,
          117,
          212,
          254,
          201,
          138,
          217,
          180,
          170,
          253,
          122,
          210,
          54,
          82,
          220,
          62,
          305,
          94,
          108,
          99,
          284,
          230,
          367,
          248,
          212,
          389,
          399,
          473,
          561,
          371,
          434,
          130,
          376,
          370,
          229,
          263,
          150,
          215,
          286,
          159,
          151,
          184,
          277,
          162,
          133,
          129,
          189,
          166,
          241,
          51,
          313,
          219,
          152,
          164,
          265,
          139,
          158,
          4,
          308,
          265,
          4,
          381,
          154,
          79,
          79,
          76,
          171,
          233,
          89,
          157,
          289,
          213,
          229,
          289,
          214,
          207,
          407,
          149,
          190,
          201,
          213,
          197,
          115,
          183,
          213,
          278,
          269,
          163,
          306,
          3,
          322,
          369,
          249,
          217,
          206,
          232,
          214,
          167,
          248,
          306,
          321,
          315,
          235,
          201,
          305,
          163,
          374,
          264,
          65,
          170,
          934,
          658,
          188,
          256,
          107,
          119,
          253,
          220,
          315,
          109,
          78,
          237,
          240,
          370,
          208,
          237,
          166,
          265,
          105,
          359,
          83,
          67,
          63,
          49,
          53,
          328,
          273,
          161,
          250,
          257,
          82,
          184,
          105,
          376,
          151,
          365,
          278,
          195,
          264,
          159,
          162,
          192,
          274,
          197,
          322,
          184,
          331,
          175,
          236,
          189,
          102,
          392,
          221,
          388,
          267,
          240,
          217,
          135,
          260,
          467,
          297,
          227,
          275,
          250,
          292,
          233,
          216,
          251,
          181,
          252,
          190,
          283,
          263,
          243,
          327,
          335,
          103,
          104,
          253,
          332,
          183,
          275,
          242,
          108,
          301,
          218,
          231,
          232,
          186,
          105,
          289,
          216,
          219,
          2,
          255,
          224,
          352,
          203,
          266,
          274,
          391,
          299,
          219,
          314,
          169,
          216,
          255,
          291,
          317,
          286,
          275,
          397,
          319,
          443,
          277,
          233,
          331,
          248,
          226,
          162,
          260,
          215,
          132,
          287,
          217,
          316,
          234,
          12,
          209,
          257,
          202,
          251,
          178,
          60,
          115,
          114,
          147,
          284,
          257,
          230,
          200,
          207,
          15,
          129,
          90,
          186,
          93,
          144,
          215,
          473,
          126,
          291,
          253,
          314,
          129,
          257,
          225,
          250,
          179,
          7,
          282,
          124,
          7,
          128,
          197,
          317,
          180,
          335,
          197,
          243,
          175,
          225,
          287,
          219,
          406,
          398,
          200,
          178,
          140,
          265,
          419,
          394,
          226,
          465,
          175,
          177,
          115,
          150,
          141,
          198,
          252,
          119,
          294,
          90,
          132,
          145,
          254,
          275,
          284,
          269,
          142,
          369,
          234,
          282,
          287,
          269,
          270,
          252,
          227,
          203,
          303,
          241,
          282,
          197,
          318,
          316,
          186,
          101,
          272,
          276,
          174,
          220,
          119,
          281,
          366,
          274,
          324,
          282,
          356,
          199,
          155,
          283,
          255,
          246,
          164,
          266,
          96,
          206,
          320,
          186,
          557,
          163,
          102,
          148,
          198,
          210,
          217,
          290,
          62,
          208,
          152,
          282,
          253,
          284,
          219,
          253,
          196,
          225,
          272,
          101,
          316,
          317,
          250,
          367,
          217,
          280,
          312,
          228,
          207,
          228,
          290,
          107,
          269,
          179,
          219,
          115,
          213,
          9,
          146,
          298,
          160,
          250,
          278,
          115,
          190,
          214,
          84,
          326,
          62,
          97,
          111,
          145,
          155,
          210,
          177,
          9,
          9,
          143,
          208,
          65,
          280,
          335,
          223,
          276,
          289,
          302,
          34,
          263,
          96,
          263,
          252,
          116,
          194,
          178,
          96,
          318,
          75,
          149,
          95,
          252,
          248,
          270,
          296,
          132,
          10,
          113,
          354,
          271,
          99,
          209,
          307,
          183,
          226,
          273,
          442,
          346,
          14,
          221,
          249,
          238,
          152,
          311,
          213,
          297,
          208,
          198,
          242,
          202,
          150,
          259,
          296,
          183,
          219,
          136,
          175,
          208,
          254,
          210,
          309,
          252,
          330,
          205,
          176,
          76,
          188,
          232,
          102,
          252,
          126,
          140,
          356,
          285,
          115,
          250,
          208,
          214,
          267,
          217,
          266,
          193,
          384,
          68,
          261,
          359,
          191,
          209,
          235,
          253,
          148,
          46,
          88,
          172,
          398,
          233,
          330,
          115,
          82,
          281,
          4,
          215,
          400,
          206,
          112,
          118,
          296,
          310,
          253,
          117,
          137,
          140,
          219,
          202,
          236,
          170,
          268,
          304,
          158,
          206,
          284,
          222,
          221,
          251,
          210,
          258,
          288,
          232,
          211,
          232,
          131,
          183,
          249,
          277,
          76,
          115,
          177,
          138,
          12,
          538,
          258,
          188,
          170,
          213,
          284,
          6,
          12,
          431,
          297,
          109,
          369,
          158,
          286,
          198,
          164,
          218,
          376,
          150,
          142,
          159,
          164,
          228,
          368,
          272,
          227,
          103,
          388,
          200,
          90,
          126,
          151,
          366,
          242,
          298,
          123,
          206,
          231,
          131,
          127,
          109,
          224,
          333,
          213,
          353,
          171,
          264,
          313,
          406,
          196,
          103,
          225,
          111,
          81,
          79,
          173,
          202,
          180,
          112,
          200,
          245,
          240,
          256,
          188,
          238,
          222,
          265,
          249,
          138,
          154,
          225,
          216,
          209,
          208,
          175,
          301,
          249,
          131,
          178,
          135,
          224,
          168,
          354,
          107,
          142,
          433,
          153,
          130,
          56,
          130,
          144,
          19,
          203,
          176,
          228,
          93,
          173,
          119,
          88,
          172,
          333,
          276,
          126,
          213,
          148,
          271,
          265,
          295,
          128,
          111,
          221,
          166,
          137,
          82,
          361,
          288,
          224,
          241,
          263,
          560,
          144,
          179,
          172,
          130,
          147,
          130,
          157,
          255,
          8,
          137,
          142,
          4,
          187,
          143,
          205,
          164,
          2,
          154,
          195,
          220,
          258,
          98,
          96,
          71,
          109,
          222,
          260,
          210,
          447,
          245,
          131,
          190,
          282,
          290,
          320,
          81,
          252,
          280,
          287,
          170,
          247,
          176,
          202,
          133,
          205,
          236,
          273,
          313,
          245,
          212,
          105,
          127,
          255,
          224,
          150,
          154,
          192,
          207,
          260,
          317,
          228,
          376,
          225,
          269,
          210,
          210,
          223,
          127,
          75,
          216,
          171,
          243,
          244,
          140,
          276,
          267,
          223,
          303,
          302,
          172,
          207,
          116,
          190,
          221,
          284,
          172,
          334,
          156,
          195,
          368,
          274,
          279,
          117,
          181,
          251,
          180,
          153,
          229,
          137,
          209,
          295,
          339,
          153,
          270,
          147,
          132,
          161,
          238,
          174,
          333,
          349,
          344,
          338,
          470,
          237,
          209,
          340,
          200,
          329,
          157,
          152,
          248,
          277,
          243,
          96,
          162,
          170,
          98,
          96,
          104,
          251,
          364,
          160,
          192,
          80,
          292,
          291,
          79,
          119,
          163,
          69,
          180,
          178,
          155,
          252,
          111,
          169,
          151,
          427,
          183,
          153,
          325,
          178,
          302,
          187,
          64,
          111,
          102,
          77,
          48,
          138,
          248,
          287,
          231,
          182,
          241,
          153,
          260,
          287,
          242,
          248,
          209,
          37,
          186,
          251,
          94,
          300,
          275,
          189,
          250,
          349,
          120,
          92,
          159,
          61,
          295,
          173,
          112,
          229,
          133,
          97,
          60,
          154,
          185,
          131,
          203,
          165,
          121,
          244,
          109,
          114,
          126,
          161,
          132,
          237,
          322,
          394,
          70,
          339,
          68,
          124,
          144,
          318,
          117,
          292,
          263,
          125,
          8,
          148,
          195,
          172,
          144,
          188,
          292,
          203,
          198,
          178,
          222,
          159,
          275,
          229,
          168,
          132,
          252,
          526,
          227,
          127,
          209,
          267,
          190,
          131,
          213,
          245,
          182,
          293,
          277,
          237,
          343,
          227,
          242,
          203,
          199,
          277,
          275,
          216,
          334,
          165,
          161,
          182,
          316,
          390,
          191,
          16,
          162,
          206,
          219,
          189,
          317,
          148,
          131,
          250,
          386,
          382,
          186,
          10,
          141,
          227,
          278,
          195,
          144,
          223,
          174,
          268,
          244,
          265,
          276,
          171,
          213,
          376,
          151,
          142,
          176,
          5,
          286,
          336,
          135,
          248,
          533,
          455,
          160,
          117,
          56,
          123,
          263,
          165,
          147,
          258,
          363,
          234,
          196,
          236,
          84,
          217,
          220,
          393,
          189,
          346,
          259,
          370,
          164,
          168,
          305,
          300,
          214,
          200,
          185,
          182,
          186,
          227,
          293,
          176,
          122,
          156,
          242,
          156,
          68,
          123,
          79,
          196,
          98,
          286,
          221,
          244,
          6,
          300,
          158,
          366,
          110,
          159,
          277,
          173,
          145,
          37,
          179,
          192,
          209,
          185,
          329,
          258,
          155,
          81,
          258,
          111,
          135,
          206,
          253,
          238,
          160,
          84,
          153,
          343,
          142,
          225,
          2,
          3,
          74,
          110,
          78,
          145,
          112,
          256,
          278,
          237,
          244,
          77,
          198,
          148,
          191,
          157,
          124,
          174,
          139,
          148,
          327,
          316,
          11,
          224,
          285,
          278,
          245,
          149,
          265,
          244,
          228,
          284,
          100,
          214,
          197,
          429,
          191,
          208,
          10,
          220,
          114,
          117,
          299,
          65,
          69,
          82,
          205,
          143,
          134,
          301,
          228,
          148,
          53,
          221,
          167,
          251,
          195,
          274,
          486,
          204,
          137,
          80,
          332,
          426,
          191,
          122,
          193,
          243,
          225,
          272,
          229,
          332,
          104,
          121,
          242,
          112,
          94,
          248,
          140,
          230,
          285,
          277,
          256,
          187,
          331,
          88,
          164,
          99,
          123,
          42,
          213,
          86,
          74,
          98,
          97,
          107,
          359,
          335,
          295,
          240,
          183,
          79,
          149,
          170,
          144,
          169,
          131,
          164,
          262,
          139,
          278,
          165,
          130,
          17,
          134,
          247,
          120,
          72,
          202,
          187,
          7,
          79,
          2,
          225,
          249,
          239,
          107,
          252,
          263,
          93,
          146,
          249,
          37,
          145,
          144,
          146,
          84,
          178,
          185,
          199,
          338,
          153,
          131,
          126,
          13,
          346,
          66,
          138,
          331,
          239,
          170,
          107,
          133,
          264,
          315,
          186,
          174,
          117,
          127,
          203,
          125,
          155,
          115,
          207,
          404,
          6,
          125,
          121,
          163,
          224,
          229,
          59,
          269,
          403,
          317,
          323,
          263,
          153,
          233,
          182,
          272,
          115,
          272,
          103,
          145,
          160,
          141,
          6,
          136,
          119,
          304,
          104,
          96,
          107,
          103,
          120,
          130,
          86,
          125,
          171,
          116,
          152,
          100,
          272,
          256,
          77,
          226,
          186,
          199,
          264,
          175,
          128,
          85,
          263,
          219,
          273,
          97,
          226,
          186,
          253,
          64,
          130,
          270,
          194,
          133,
          191,
          217,
          231,
          113,
          226,
          264,
          194,
          43,
          76,
          131,
          135,
          284,
          97,
          247,
          167,
          147,
          256,
          93,
          114,
          211,
          55,
          95,
          134,
          12,
          72,
          209,
          11,
          149,
          147,
          82,
          249,
          183,
          282,
          385,
          13,
          64,
          249,
          50,
          159,
          203,
          197,
          80,
          245,
          56,
          630,
          460,
          413,
          156,
          153,
          182,
          92,
          140,
          148,
          126,
          8,
          132,
          82,
          148,
          226,
          182,
          116,
          226,
          169,
          323,
          184,
          233,
          97,
          264,
          44,
          143,
          109,
          211,
          170,
          287,
          8,
          262,
          183,
          109,
          218,
          178,
          228,
          90,
          238,
          109,
          146,
          207,
          145,
          93,
          190,
          182,
          210,
          155,
          86,
          166,
          122,
          96,
          275,
          172,
          105,
          192,
          60,
          110,
          151,
          207,
          105,
          315,
          155,
          307,
          145,
          103,
          140,
          205,
          272,
          253,
          260,
          263,
          107,
          157,
          247,
          214,
          172,
          159,
          145,
          109,
          272,
          215,
          157,
          94,
          166,
          118,
          116,
          155,
          108,
          191,
          94,
          154,
          4,
          6,
          16,
          148,
          210,
          184,
          267,
          97,
          144,
          248,
          374,
          347,
          246,
          201,
          248,
          236,
          230,
          233,
          145,
          232,
          206,
          114,
          230,
          185,
          226,
          128,
          157,
          265,
          96,
          203,
          221,
          139,
          216,
          77,
          76,
          262,
          101,
          202,
          366,
          193,
          184,
          414,
          107,
          136,
          167,
          213,
          181,
          129,
          165,
          143,
          147,
          146,
          207,
          158,
          245,
          165,
          162,
          148,
          188,
          96,
          182,
          106,
          197,
          112,
          176,
          65,
          176,
          134,
          188,
          166,
          153,
          129,
          112,
          252,
          12,
          2,
          6,
          185,
          120,
          9,
          156,
          249,
          137,
          237,
          216,
          240,
          237,
          259,
          132,
          54,
          56,
          368,
          127,
          72,
          147,
          141,
          169,
          147,
          60,
          158,
          200,
          209,
          121,
          174,
          105,
          119,
          374,
          218,
          285,
          147,
          162,
          90,
          245,
          255,
          307,
          249,
          99,
          182,
          163,
          155,
          3,
          171,
          128,
          144,
          175,
          158,
          114,
          62,
          127,
          255,
          95,
          215,
          239,
          189,
          121,
          181,
          231,
          217,
          174,
          142,
          234,
          263,
          175,
          109,
          160,
          186,
          135,
          215,
          104,
          99,
          179,
          80,
          175,
          83,
          210,
          205,
          143,
          89,
          177,
          123,
          169,
          214,
          219,
          121,
          134,
          9,
          206,
          17,
          131,
          142,
          61,
          200,
          223,
          217,
          147,
          146,
          97,
          220,
          165,
          208,
          150,
          254,
          247,
          148,
          3,
          152,
          87,
          267,
          197,
          156,
          173,
          84,
          108,
          417,
          250,
          120,
          133,
          264,
          70,
          106,
          78,
          115,
          250,
          110,
          168,
          122,
          257,
          270,
          106,
          291,
          97,
          288,
          129,
          238,
          2,
          9,
          92,
          263,
          73,
          228,
          173,
          157,
          136,
          138,
          151,
          40,
          4,
          196,
          135,
          302,
          294,
          145,
          108,
          113,
          117,
          135,
          122,
          255,
          147,
          195,
          152,
          59,
          215,
          298,
          92,
          327,
          296,
          87,
          72,
          187,
          209,
          98,
          243,
          142,
          158,
          152,
          145,
          212,
          94,
          100,
          51,
          154,
          110,
          160,
          98,
          88,
          284,
          122,
          129,
          101,
          60,
          100,
          151,
          133,
          153,
          185,
          63,
          101,
          118,
          156,
          224,
          116,
          103,
          137,
          191,
          167,
          174,
          207,
          179,
          127,
          224,
          320,
          202,
          60,
          251,
          280,
          229,
          53,
          57,
          94,
          90,
          56,
          245,
          218,
          70,
          114,
          129,
          82,
          222,
          328,
          249,
          148,
          247,
          56,
          264,
          83,
          143,
          6,
          178,
          163,
          263,
          74,
          2,
          176,
          195,
          236,
          222,
          267,
          276,
          140,
          99,
          151,
          241,
          43,
          48,
          40,
          6,
          197,
          11,
          3,
          86,
          121,
          78,
          153,
          7,
          6,
          90,
          184,
          137,
          3,
          136,
          242,
          211,
          9,
          3,
          177,
          4,
          131,
          208,
          55,
          6,
          131,
          84,
          120,
          130,
          83,
          130,
          115,
          180,
          88,
          5,
          8,
          99,
          129,
          73,
          136,
          142,
          182,
          145,
          131,
          95,
          12,
          280,
          113,
          114,
          88,
          153,
          104,
          115,
          212,
          201,
          182,
          221,
          7,
          52,
          114,
          228,
          7,
          163,
          280,
          199,
          127,
          178,
          333,
          196,
          225,
          258,
          60,
          216,
          214,
          183,
          231,
          146,
          66,
          72,
          219,
          110,
          188,
          111,
          9,
          200,
          96,
          3,
          256,
          85,
          41,
          98,
          269,
          276,
          258,
          242,
          34,
          80,
          49,
          323,
          57,
          102,
          277,
          126,
          291,
          97,
          79,
          98,
          131,
          87,
          127,
          209,
          240,
          358,
          6,
          218,
          172,
          65,
          5,
          9,
          143,
          192,
          110,
          151,
          3,
          128,
          148,
          318,
          102,
          103,
          135,
          152,
          11,
          78,
          116,
          106,
          104,
          186,
          140,
          174,
          159,
          130,
          10,
          10,
          11,
          308,
          178,
          121,
          136,
          188,
          123,
          216,
          144,
          247,
          27,
          179,
          79,
          140,
          227,
          139,
          83,
          175,
          399,
          362,
          175,
          402,
          83,
          8,
          6,
          94,
          126,
          119,
          183,
          42,
          132,
          279,
          76,
          170,
          307,
          16,
          6,
          125,
          216,
          174,
          100,
          107,
          235,
          100,
          142,
          178,
          145,
          6,
          124,
          282,
          165,
          114,
          127,
          343,
          151,
          7,
          161,
          8,
          227,
          4,
          10,
          120,
          305
         ]
        }
       ],
       "layout": {
        "barmode": "overlay",
        "legend": {
         "bgcolor": "#FFFFFF",
         "font": {
          "color": "#666666"
         }
        },
        "paper_bgcolor": "#FFFFFF",
        "plot_bgcolor": "#E5E5E5",
        "template": {
         "data": {
          "bar": [
           {
            "error_x": {
             "color": "#2a3f5f"
            },
            "error_y": {
             "color": "#2a3f5f"
            },
            "marker": {
             "line": {
              "color": "#E5ECF6",
              "width": 0.5
             }
            },
            "type": "bar"
           }
          ],
          "barpolar": [
           {
            "marker": {
             "line": {
              "color": "#E5ECF6",
              "width": 0.5
             }
            },
            "type": "barpolar"
           }
          ],
          "carpet": [
           {
            "aaxis": {
             "endlinecolor": "#2a3f5f",
             "gridcolor": "white",
             "linecolor": "white",
             "minorgridcolor": "white",
             "startlinecolor": "#2a3f5f"
            },
            "baxis": {
             "endlinecolor": "#2a3f5f",
             "gridcolor": "white",
             "linecolor": "white",
             "minorgridcolor": "white",
             "startlinecolor": "#2a3f5f"
            },
            "type": "carpet"
           }
          ],
          "choropleth": [
           {
            "colorbar": {
             "outlinewidth": 0,
             "ticks": ""
            },
            "type": "choropleth"
           }
          ],
          "contour": [
           {
            "colorbar": {
             "outlinewidth": 0,
             "ticks": ""
            },
            "colorscale": [
             [
              0,
              "#0d0887"
             ],
             [
              0.1111111111111111,
              "#46039f"
             ],
             [
              0.2222222222222222,
              "#7201a8"
             ],
             [
              0.3333333333333333,
              "#9c179e"
             ],
             [
              0.4444444444444444,
              "#bd3786"
             ],
             [
              0.5555555555555556,
              "#d8576b"
             ],
             [
              0.6666666666666666,
              "#ed7953"
             ],
             [
              0.7777777777777778,
              "#fb9f3a"
             ],
             [
              0.8888888888888888,
              "#fdca26"
             ],
             [
              1,
              "#f0f921"
             ]
            ],
            "type": "contour"
           }
          ],
          "contourcarpet": [
           {
            "colorbar": {
             "outlinewidth": 0,
             "ticks": ""
            },
            "type": "contourcarpet"
           }
          ],
          "heatmap": [
           {
            "colorbar": {
             "outlinewidth": 0,
             "ticks": ""
            },
            "colorscale": [
             [
              0,
              "#0d0887"
             ],
             [
              0.1111111111111111,
              "#46039f"
             ],
             [
              0.2222222222222222,
              "#7201a8"
             ],
             [
              0.3333333333333333,
              "#9c179e"
             ],
             [
              0.4444444444444444,
              "#bd3786"
             ],
             [
              0.5555555555555556,
              "#d8576b"
             ],
             [
              0.6666666666666666,
              "#ed7953"
             ],
             [
              0.7777777777777778,
              "#fb9f3a"
             ],
             [
              0.8888888888888888,
              "#fdca26"
             ],
             [
              1,
              "#f0f921"
             ]
            ],
            "type": "heatmap"
           }
          ],
          "heatmapgl": [
           {
            "colorbar": {
             "outlinewidth": 0,
             "ticks": ""
            },
            "colorscale": [
             [
              0,
              "#0d0887"
             ],
             [
              0.1111111111111111,
              "#46039f"
             ],
             [
              0.2222222222222222,
              "#7201a8"
             ],
             [
              0.3333333333333333,
              "#9c179e"
             ],
             [
              0.4444444444444444,
              "#bd3786"
             ],
             [
              0.5555555555555556,
              "#d8576b"
             ],
             [
              0.6666666666666666,
              "#ed7953"
             ],
             [
              0.7777777777777778,
              "#fb9f3a"
             ],
             [
              0.8888888888888888,
              "#fdca26"
             ],
             [
              1,
              "#f0f921"
             ]
            ],
            "type": "heatmapgl"
           }
          ],
          "histogram": [
           {
            "marker": {
             "colorbar": {
              "outlinewidth": 0,
              "ticks": ""
             }
            },
            "type": "histogram"
           }
          ],
          "histogram2d": [
           {
            "colorbar": {
             "outlinewidth": 0,
             "ticks": ""
            },
            "colorscale": [
             [
              0,
              "#0d0887"
             ],
             [
              0.1111111111111111,
              "#46039f"
             ],
             [
              0.2222222222222222,
              "#7201a8"
             ],
             [
              0.3333333333333333,
              "#9c179e"
             ],
             [
              0.4444444444444444,
              "#bd3786"
             ],
             [
              0.5555555555555556,
              "#d8576b"
             ],
             [
              0.6666666666666666,
              "#ed7953"
             ],
             [
              0.7777777777777778,
              "#fb9f3a"
             ],
             [
              0.8888888888888888,
              "#fdca26"
             ],
             [
              1,
              "#f0f921"
             ]
            ],
            "type": "histogram2d"
           }
          ],
          "histogram2dcontour": [
           {
            "colorbar": {
             "outlinewidth": 0,
             "ticks": ""
            },
            "colorscale": [
             [
              0,
              "#0d0887"
             ],
             [
              0.1111111111111111,
              "#46039f"
             ],
             [
              0.2222222222222222,
              "#7201a8"
             ],
             [
              0.3333333333333333,
              "#9c179e"
             ],
             [
              0.4444444444444444,
              "#bd3786"
             ],
             [
              0.5555555555555556,
              "#d8576b"
             ],
             [
              0.6666666666666666,
              "#ed7953"
             ],
             [
              0.7777777777777778,
              "#fb9f3a"
             ],
             [
              0.8888888888888888,
              "#fdca26"
             ],
             [
              1,
              "#f0f921"
             ]
            ],
            "type": "histogram2dcontour"
           }
          ],
          "mesh3d": [
           {
            "colorbar": {
             "outlinewidth": 0,
             "ticks": ""
            },
            "type": "mesh3d"
           }
          ],
          "parcoords": [
           {
            "line": {
             "colorbar": {
              "outlinewidth": 0,
              "ticks": ""
             }
            },
            "type": "parcoords"
           }
          ],
          "scatter": [
           {
            "marker": {
             "colorbar": {
              "outlinewidth": 0,
              "ticks": ""
             }
            },
            "type": "scatter"
           }
          ],
          "scatter3d": [
           {
            "line": {
             "colorbar": {
              "outlinewidth": 0,
              "ticks": ""
             }
            },
            "marker": {
             "colorbar": {
              "outlinewidth": 0,
              "ticks": ""
             }
            },
            "type": "scatter3d"
           }
          ],
          "scattercarpet": [
           {
            "marker": {
             "colorbar": {
              "outlinewidth": 0,
              "ticks": ""
             }
            },
            "type": "scattercarpet"
           }
          ],
          "scattergeo": [
           {
            "marker": {
             "colorbar": {
              "outlinewidth": 0,
              "ticks": ""
             }
            },
            "type": "scattergeo"
           }
          ],
          "scattergl": [
           {
            "marker": {
             "colorbar": {
              "outlinewidth": 0,
              "ticks": ""
             }
            },
            "type": "scattergl"
           }
          ],
          "scattermapbox": [
           {
            "marker": {
             "colorbar": {
              "outlinewidth": 0,
              "ticks": ""
             }
            },
            "type": "scattermapbox"
           }
          ],
          "scatterpolar": [
           {
            "marker": {
             "colorbar": {
              "outlinewidth": 0,
              "ticks": ""
             }
            },
            "type": "scatterpolar"
           }
          ],
          "scatterpolargl": [
           {
            "marker": {
             "colorbar": {
              "outlinewidth": 0,
              "ticks": ""
             }
            },
            "type": "scatterpolargl"
           }
          ],
          "scatterternary": [
           {
            "marker": {
             "colorbar": {
              "outlinewidth": 0,
              "ticks": ""
             }
            },
            "type": "scatterternary"
           }
          ],
          "surface": [
           {
            "colorbar": {
             "outlinewidth": 0,
             "ticks": ""
            },
            "colorscale": [
             [
              0,
              "#0d0887"
             ],
             [
              0.1111111111111111,
              "#46039f"
             ],
             [
              0.2222222222222222,
              "#7201a8"
             ],
             [
              0.3333333333333333,
              "#9c179e"
             ],
             [
              0.4444444444444444,
              "#bd3786"
             ],
             [
              0.5555555555555556,
              "#d8576b"
             ],
             [
              0.6666666666666666,
              "#ed7953"
             ],
             [
              0.7777777777777778,
              "#fb9f3a"
             ],
             [
              0.8888888888888888,
              "#fdca26"
             ],
             [
              1,
              "#f0f921"
             ]
            ],
            "type": "surface"
           }
          ],
          "table": [
           {
            "cells": {
             "fill": {
              "color": "#EBF0F8"
             },
             "line": {
              "color": "white"
             }
            },
            "header": {
             "fill": {
              "color": "#C8D4E3"
             },
             "line": {
              "color": "white"
             }
            },
            "type": "table"
           }
          ]
         },
         "layout": {
          "annotationdefaults": {
           "arrowcolor": "#2a3f5f",
           "arrowhead": 0,
           "arrowwidth": 1
          },
          "colorscale": {
           "diverging": [
            [
             0,
             "#8e0152"
            ],
            [
             0.1,
             "#c51b7d"
            ],
            [
             0.2,
             "#de77ae"
            ],
            [
             0.3,
             "#f1b6da"
            ],
            [
             0.4,
             "#fde0ef"
            ],
            [
             0.5,
             "#f7f7f7"
            ],
            [
             0.6,
             "#e6f5d0"
            ],
            [
             0.7,
             "#b8e186"
            ],
            [
             0.8,
             "#7fbc41"
            ],
            [
             0.9,
             "#4d9221"
            ],
            [
             1,
             "#276419"
            ]
           ],
           "sequential": [
            [
             0,
             "#0d0887"
            ],
            [
             0.1111111111111111,
             "#46039f"
            ],
            [
             0.2222222222222222,
             "#7201a8"
            ],
            [
             0.3333333333333333,
             "#9c179e"
            ],
            [
             0.4444444444444444,
             "#bd3786"
            ],
            [
             0.5555555555555556,
             "#d8576b"
            ],
            [
             0.6666666666666666,
             "#ed7953"
            ],
            [
             0.7777777777777778,
             "#fb9f3a"
            ],
            [
             0.8888888888888888,
             "#fdca26"
            ],
            [
             1,
             "#f0f921"
            ]
           ],
           "sequentialminus": [
            [
             0,
             "#0d0887"
            ],
            [
             0.1111111111111111,
             "#46039f"
            ],
            [
             0.2222222222222222,
             "#7201a8"
            ],
            [
             0.3333333333333333,
             "#9c179e"
            ],
            [
             0.4444444444444444,
             "#bd3786"
            ],
            [
             0.5555555555555556,
             "#d8576b"
            ],
            [
             0.6666666666666666,
             "#ed7953"
            ],
            [
             0.7777777777777778,
             "#fb9f3a"
            ],
            [
             0.8888888888888888,
             "#fdca26"
            ],
            [
             1,
             "#f0f921"
            ]
           ]
          },
          "colorway": [
           "#636efa",
           "#EF553B",
           "#00cc96",
           "#ab63fa",
           "#FFA15A",
           "#19d3f3",
           "#FF6692",
           "#B6E880",
           "#FF97FF",
           "#FECB52"
          ],
          "font": {
           "color": "#2a3f5f"
          },
          "geo": {
           "bgcolor": "white",
           "lakecolor": "white",
           "landcolor": "#E5ECF6",
           "showlakes": true,
           "showland": true,
           "subunitcolor": "white"
          },
          "hoverlabel": {
           "align": "left"
          },
          "hovermode": "closest",
          "mapbox": {
           "style": "light"
          },
          "paper_bgcolor": "white",
          "plot_bgcolor": "#E5ECF6",
          "polar": {
           "angularaxis": {
            "gridcolor": "white",
            "linecolor": "white",
            "ticks": ""
           },
           "bgcolor": "#E5ECF6",
           "radialaxis": {
            "gridcolor": "white",
            "linecolor": "white",
            "ticks": ""
           }
          },
          "scene": {
           "xaxis": {
            "backgroundcolor": "#E5ECF6",
            "gridcolor": "white",
            "gridwidth": 2,
            "linecolor": "white",
            "showbackground": true,
            "ticks": "",
            "zerolinecolor": "white"
           },
           "yaxis": {
            "backgroundcolor": "#E5ECF6",
            "gridcolor": "white",
            "gridwidth": 2,
            "linecolor": "white",
            "showbackground": true,
            "ticks": "",
            "zerolinecolor": "white"
           },
           "zaxis": {
            "backgroundcolor": "#E5ECF6",
            "gridcolor": "white",
            "gridwidth": 2,
            "linecolor": "white",
            "showbackground": true,
            "ticks": "",
            "zerolinecolor": "white"
           }
          },
          "shapedefaults": {
           "line": {
            "color": "#2a3f5f"
           }
          },
          "ternary": {
           "aaxis": {
            "gridcolor": "white",
            "linecolor": "white",
            "ticks": ""
           },
           "baxis": {
            "gridcolor": "white",
            "linecolor": "white",
            "ticks": ""
           },
           "bgcolor": "#E5ECF6",
           "caxis": {
            "gridcolor": "white",
            "linecolor": "white",
            "ticks": ""
           }
          },
          "title": {
           "x": 0.05
          },
          "xaxis": {
           "automargin": true,
           "gridcolor": "white",
           "linecolor": "white",
           "ticks": "",
           "zerolinecolor": "white",
           "zerolinewidth": 2
          },
          "yaxis": {
           "automargin": true,
           "gridcolor": "white",
           "linecolor": "white",
           "ticks": "",
           "zerolinecolor": "white",
           "zerolinewidth": 2
          }
         }
        },
        "title": {
         "font": {
          "color": "#151516"
         },
         "text": "Word Count Distribution"
        },
        "xaxis": {
         "gridcolor": "#F6F6F6",
         "linecolor": "black",
         "showgrid": true,
         "tickfont": {
          "color": "#666666"
         },
         "title": {
          "font": {
           "color": "#666666"
          },
          "text": "word count"
         },
         "zerolinecolor": "#F6F6F6"
        },
        "yaxis": {
         "gridcolor": "#F6F6F6",
         "linecolor": "black",
         "showgrid": true,
         "tickfont": {
          "color": "#666666"
         },
         "title": {
          "font": {
           "color": "#666666"
          },
          "text": "count"
         },
         "zerolinecolor": "#F6F6F6"
        }
       }
      },
      "text/html": [
       "<div>\n",
       "        \n",
       "        \n",
       "            <div id=\"13e479bb-ea48-4527-a6cd-4a6504bb3533\" class=\"plotly-graph-div\" style=\"height:525px; width:100%;\"></div>\n",
       "            <script type=\"text/javascript\">\n",
       "                require([\"plotly\"], function(Plotly) {\n",
       "                    window.PLOTLYENV=window.PLOTLYENV || {};\n",
       "                    window.PLOTLYENV.BASE_URL='https://plot.ly';\n",
       "                    \n",
       "                if (document.getElementById(\"13e479bb-ea48-4527-a6cd-4a6504bb3533\")) {\n",
       "                    Plotly.newPlot(\n",
       "                        '13e479bb-ea48-4527-a6cd-4a6504bb3533',\n",
       "                        [{\"histfunc\": \"count\", \"histnorm\": \"\", \"marker\": {\"color\": \"rgba(226, 74, 51, 1.0)\", \"line\": {\"color\": \"#000000\", \"width\": 1.3}}, \"name\": \"word_count\", \"nbinsx\": 50, \"opacity\": 0.8, \"orientation\": \"v\", \"type\": \"histogram\", \"x\": [213, 261, 297, 212, 225, 153, 151, 246, 225, 396, 269, 215, 261, 233, 273, 148, 306, 391, 248, 324, 291, 286, 250, 259, 63, 257, 273, 150, 150, 121, 115, 181, 334, 293, 221, 314, 362, 228, 305, 220, 186, 354, 153, 323, 308, 218, 330, 191, 301, 281, 277, 287, 238, 289, 228, 336, 347, 236, 278, 208, 287, 276, 259, 329, 278, 450, 412, 219, 182, 234, 353, 217, 318, 203, 273, 160, 150, 315, 133, 263, 211, 315, 220, 301, 293, 239, 300, 257, 245, 230, 215, 237, 312, 215, 308, 315, 111, 239, 222, 215, 214, 344, 379, 386, 258, 280, 222, 222, 173, 197, 111, 219, 225, 254, 308, 210, 273, 252, 252, 270, 257, 223, 215, 218, 241, 168, 262, 232, 230, 313, 215, 236, 182, 176, 146, 144, 217, 210, 224, 217, 168, 413, 302, 263, 233, 216, 207, 160, 268, 216, 246, 373, 275, 354, 293, 259, 287, 193, 238, 217, 263, 314, 270, 189, 329, 113, 221, 188, 300, 177, 211, 343, 154, 295, 224, 488, 226, 197, 312, 288, 90, 327, 242, 215, 238, 103, 280, 204, 256, 170, 214, 1, 223, 244, 277, 164, 293, 453, 243, 236, 268, 168, 288, 273, 285, 269, 182, 305, 222, 207, 181, 289, 317, 246, 347, 236, 217, 385, 258, 377, 158, 384, 455, 290, 262, 221, 242, 241, 243, 191, 394, 306, 267, 228, 273, 248, 209, 219, 248, 240, 232, 241, 239, 136, 215, 260, 222, 238, 392, 375, 206, 244, 322, 164, 289, 359, 206, 224, 301, 278, 278, 214, 277, 177, 214, 558, 268, 266, 173, 76, 217, 337, 300, 372, 277, 275, 271, 210, 232, 249, 254, 238, 218, 262, 254, 310, 199, 277, 219, 278, 309, 256, 97, 169, 168, 327, 209, 282, 292, 117, 296, 313, 265, 258, 266, 200, 226, 275, 332, 274, 410, 218, 165, 167, 219, 214, 261, 297, 224, 197, 219, 387, 273, 325, 251, 265, 260, 304, 267, 251, 292, 284, 325, 293, 299, 294, 269, 349, 351, 181, 261, 282, 318, 341, 248, 312, 221, 242, 261, 242, 313, 236, 42, 209, 150, 105, 247, 208, 327, 243, 330, 277, 212, 342, 365, 245, 220, 186, 267, 198, 94, 253, 368, 295, 145, 138, 292, 252, 306, 247, 263, 321, 52, 254, 121, 247, 262, 105, 139, 253, 220, 264, 303, 187, 318, 376, 268, 292, 382, 137, 291, 138, 204, 224, 275, 76, 228, 195, 215, 318, 138, 126, 320, 284, 317, 248, 329, 524, 337, 125, 272, 306, 212, 99, 302, 350, 176, 152, 216, 290, 227, 221, 312, 239, 356, 376, 214, 149, 179, 243, 351, 250, 102, 267, 193, 314, 218, 265, 261, 362, 320, 212, 320, 212, 273, 251, 306, 314, 276, 322, 376, 229, 235, 311, 111, 211, 272, 353, 133, 257, 224, 202, 231, 203, 293, 314, 229, 166, 165, 180, 211, 231, 254, 234, 243, 243, 10, 234, 1, 220, 226, 396, 239, 199, 248, 243, 224, 464, 268, 184, 245, 268, 291, 75, 173, 231, 373, 235, 479, 222, 294, 269, 240, 261, 255, 326, 289, 186, 288, 206, 271, 214, 298, 227, 254, 299, 399, 217, 224, 328, 140, 170, 286, 331, 214, 260, 163, 146, 251, 221, 266, 202, 398, 298, 420, 262, 239, 327, 289, 155, 243, 230, 149, 229, 274, 218, 263, 211, 145, 251, 221, 201, 213, 238, 254, 250, 216, 247, 380, 277, 305, 266, 173, 304, 190, 314, 299, 205, 337, 221, 96, 235, 175, 234, 343, 282, 365, 221, 254, 193, 263, 262, 356, 328, 296, 184, 233, 359, 316, 115, 329, 206, 336, 279, 215, 209, 122, 297, 307, 182, 277, 229, 446, 357, 181, 307, 350, 253, 259, 231, 138, 166, 170, 253, 327, 140, 206, 266, 209, 173, 81, 384, 112, 314, 178, 263, 265, 288, 348, 82, 377, 236, 384, 196, 210, 290, 477, 323, 254, 175, 232, 168, 293, 208, 315, 308, 173, 178, 280, 187, 227, 204, 288, 220, 226, 290, 244, 197, 228, 129, 276, 295, 219, 100, 191, 244, 337, 200, 175, 287, 314, 248, 235, 318, 349, 209, 277, 268, 263, 268, 257, 258, 285, 269, 254, 290, 212, 229, 177, 386, 226, 263, 274, 136, 303, 127, 394, 251, 265, 160, 178, 226, 318, 303, 136, 215, 241, 291, 192, 276, 139, 196, 270, 186, 217, 253, 284, 314, 203, 121, 168, 286, 321, 219, 204, 251, 272, 190, 233, 361, 227, 222, 278, 257, 197, 236, 234, 232, 204, 213, 241, 185, 295, 280, 498, 282, 219, 165, 251, 224, 367, 182, 102, 182, 315, 275, 282, 219, 145, 209, 227, 109, 247, 207, 237, 199, 207, 310, 220, 158, 275, 217, 230, 215, 267, 296, 267, 257, 241, 261, 246, 312, 193, 322, 202, 281, 289, 215, 186, 230, 321, 339, 7, 286, 286, 324, 241, 310, 113, 274, 303, 232, 285, 199, 202, 223, 209, 133, 289, 270, 221, 221, 272, 353, 277, 202, 377, 231, 127, 293, 245, 374, 343, 270, 339, 189, 328, 282, 142, 264, 161, 270, 443, 473, 252, 277, 722, 214, 277, 248, 232, 223, 261, 447, 275, 245, 171, 338, 222, 259, 193, 127, 395, 282, 261, 470, 268, 18, 239, 291, 412, 337, 258, 249, 177, 158, 219, 177, 264, 171, 206, 233, 186, 338, 276, 337, 226, 259, 160, 225, 202, 193, 273, 291, 212, 217, 266, 255, 208, 240, 215, 247, 239, 176, 217, 338, 287, 282, 344, 250, 105, 92, 275, 201, 255, 236, 258, 324, 343, 266, 207, 208, 103, 221, 219, 203, 233, 188, 290, 12, 171, 329, 232, 292, 439, 338, 255, 232, 298, 386, 232, 234, 203, 447, 214, 225, 223, 268, 275, 195, 189, 321, 318, 278, 163, 261, 323, 75, 382, 186, 213, 431, 266, 216, 204, 125, 166, 347, 262, 243, 338, 324, 214, 279, 280, 281, 185, 245, 288, 174, 235, 281, 222, 202, 161, 216, 324, 249, 220, 224, 241, 230, 292, 316, 90, 125, 388, 224, 233, 274, 292, 337, 255, 224, 137, 162, 183, 519, 222, 286, 132, 382, 309, 268, 343, 271, 312, 225, 251, 215, 223, 262, 196, 259, 301, 608, 23, 268, 211, 291, 211, 220, 264, 167, 377, 163, 235, 207, 284, 176, 209, 351, 297, 311, 348, 268, 240, 197, 207, 244, 151, 393, 226, 372, 250, 312, 311, 315, 248, 266, 495, 260, 326, 214, 258, 324, 282, 315, 290, 262, 283, 209, 200, 228, 205, 174, 228, 378, 249, 186, 280, 344, 239, 216, 305, 177, 247, 305, 268, 152, 189, 213, 189, 234, 148, 216, 208, 245, 237, 264, 299, 760, 235, 220, 194, 200, 234, 421, 294, 171, 445, 236, 270, 237, 235, 165, 171, 260, 227, 168, 242, 442, 294, 293, 255, 189, 269, 293, 302, 127, 203, 522, 259, 161, 202, 249, 249, 196, 207, 282, 280, 210, 214, 332, 216, 214, 141, 157, 161, 218, 264, 316, 215, 170, 199, 267, 201, 236, 92, 310, 364, 182, 239, 269, 297, 260, 242, 188, 277, 268, 227, 269, 262, 229, 260, 265, 228, 214, 245, 159, 234, 243, 193, 180, 246, 146, 212, 283, 270, 214, 388, 257, 309, 290, 220, 328, 272, 287, 297, 168, 163, 254, 396, 291, 311, 266, 280, 190, 288, 210, 306, 139, 277, 300, 223, 281, 217, 303, 221, 260, 211, 171, 214, 261, 375, 203, 188, 448, 244, 224, 98, 259, 247, 155, 210, 208, 320, 369, 154, 233, 330, 185, 222, 359, 237, 149, 184, 256, 311, 248, 364, 235, 311, 216, 259, 273, 259, 394, 148, 383, 275, 277, 205, 268, 235, 262, 274, 198, 267, 249, 348, 392, 294, 297, 334, 265, 273, 233, 314, 276, 335, 305, 375, 340, 82, 333, 156, 256, 244, 228, 249, 213, 131, 262, 139, 252, 204, 236, 240, 297, 265, 205, 250, 243, 264, 235, 250, 196, 130, 274, 246, 351, 243, 295, 227, 211, 201, 296, 331, 254, 147, 399, 210, 136, 144, 168, 71, 12, 313, 302, 288, 389, 266, 221, 295, 281, 313, 247, 205, 391, 333, 210, 298, 296, 221, 268, 210, 282, 296, 245, 273, 276, 342, 184, 353, 307, 237, 314, 296, 250, 258, 228, 240, 317, 267, 369, 192, 202, 236, 233, 259, 275, 142, 235, 155, 177, 207, 105, 266, 191, 219, 487, 322, 82, 206, 300, 207, 343, 197, 179, 259, 260, 282, 261, 283, 471, 225, 389, 183, 305, 327, 145, 191, 225, 271, 237, 126, 276, 397, 182, 253, 220, 376, 339, 212, 302, 337, 263, 327, 358, 250, 251, 302, 199, 219, 236, 261, 318, 260, 182, 203, 345, 250, 291, 258, 198, 257, 149, 295, 256, 243, 472, 565, 199, 291, 246, 172, 208, 293, 129, 175, 210, 335, 251, 285, 153, 341, 127, 187, 195, 184, 93, 332, 258, 139, 230, 278, 298, 288, 250, 297, 262, 311, 275, 265, 187, 257, 264, 115, 210, 225, 295, 312, 311, 282, 298, 200, 247, 10, 235, 202, 239, 263, 243, 205, 284, 115, 118, 236, 285, 328, 303, 228, 222, 244, 246, 204, 237, 278, 170, 232, 175, 205, 82, 234, 145, 307, 170, 327, 332, 217, 322, 366, 253, 218, 200, 119, 220, 456, 211, 278, 252, 303, 183, 320, 313, 199, 353, 263, 270, 319, 194, 261, 223, 291, 274, 320, 251, 290, 377, 230, 285, 259, 321, 394, 171, 262, 332, 263, 373, 218, 333, 296, 294, 287, 267, 145, 150, 222, 199, 101, 112, 224, 230, 217, 243, 266, 293, 279, 181, 305, 261, 344, 351, 217, 336, 225, 222, 247, 398, 266, 259, 227, 270, 354, 248, 241, 143, 212, 251, 249, 307, 256, 369, 223, 263, 161, 298, 263, 262, 216, 276, 232, 256, 268, 223, 212, 199, 264, 274, 130, 141, 406, 259, 229, 217, 182, 207, 225, 131, 383, 279, 275, 364, 224, 120, 242, 157, 190, 224, 318, 190, 315, 204, 216, 209, 208, 312, 400, 146, 242, 241, 171, 146, 588, 207, 252, 192, 277, 195, 276, 563, 270, 159, 285, 277, 284, 260, 253, 243, 239, 259, 260, 383, 197, 490, 302, 350, 172, 223, 227, 300, 213, 228, 216, 183, 314, 220, 300, 213, 287, 281, 285, 194, 283, 192, 186, 217, 182, 188, 271, 254, 210, 175, 230, 251, 249, 251, 244, 68, 208, 13, 272, 130, 312, 220, 231, 273, 283, 286, 220, 199, 343, 215, 240, 330, 234, 289, 226, 174, 214, 298, 220, 260, 255, 247, 300, 215, 207, 288, 285, 256, 240, 223, 245, 207, 496, 251, 230, 356, 238, 274, 237, 264, 220, 8, 275, 154, 143, 278, 203, 240, 182, 340, 177, 283, 83, 176, 456, 236, 271, 216, 255, 148, 171, 101, 176, 223, 259, 267, 203, 206, 360, 368, 85, 175, 186, 398, 230, 59, 199, 173, 208, 225, 199, 266, 161, 197, 200, 275, 185, 244, 188, 272, 260, 268, 239, 205, 297, 103, 192, 212, 325, 296, 289, 309, 211, 141, 269, 253, 213, 264, 183, 359, 182, 209, 281, 344, 248, 341, 187, 141, 288, 289, 281, 188, 122, 194, 287, 248, 226, 243, 241, 256, 281, 171, 248, 245, 208, 271, 319, 255, 266, 212, 447, 225, 147, 207, 176, 247, 269, 127, 228, 227, 144, 283, 229, 233, 320, 287, 203, 171, 315, 210, 272, 223, 306, 382, 133, 197, 74, 271, 285, 227, 237, 267, 287, 306, 271, 200, 309, 312, 123, 190, 500, 140, 177, 316, 262, 228, 151, 148, 197, 187, 82, 387, 358, 243, 191, 123, 291, 116, 284, 363, 283, 256, 302, 187, 344, 232, 223, 169, 264, 343, 266, 173, 277, 296, 204, 222, 226, 400, 118, 130, 93, 276, 211, 175, 134, 246, 241, 245, 270, 261, 238, 215, 416, 257, 266, 113, 213, 229, 273, 219, 282, 320, 98, 331, 234, 226, 208, 179, 170, 211, 218, 118, 117, 281, 235, 308, 210, 297, 167, 198, 224, 240, 256, 193, 240, 25, 258, 281, 310, 230, 366, 253, 249, 267, 240, 401, 380, 251, 283, 298, 223, 161, 315, 187, 127, 427, 83, 214, 180, 223, 292, 7, 182, 189, 167, 201, 208, 249, 142, 117, 337, 328, 193, 208, 222, 354, 142, 260, 206, 345, 279, 199, 162, 228, 216, 199, 218, 255, 234, 230, 251, 252, 148, 326, 305, 157, 141, 216, 233, 255, 216, 131, 224, 196, 100, 71, 96, 8, 379, 442, 229, 256, 272, 288, 194, 286, 113, 194, 205, 273, 211, 295, 134, 265, 269, 259, 218, 192, 249, 301, 320, 226, 220, 292, 177, 281, 191, 219, 178, 184, 209, 220, 171, 207, 307, 142, 221, 10, 2, 268, 221, 226, 118, 272, 117, 281, 412, 200, 203, 170, 417, 257, 266, 242, 335, 222, 242, 249, 269, 259, 162, 192, 216, 343, 245, 261, 211, 234, 299, 280, 199, 208, 229, 256, 205, 238, 354, 278, 276, 151, 226, 248, 268, 232, 263, 210, 234, 278, 345, 149, 247, 186, 280, 292, 263, 218, 193, 239, 268, 400, 225, 266, 252, 412, 211, 237, 261, 148, 215, 270, 274, 312, 297, 239, 215, 226, 240, 222, 114, 198, 215, 201, 285, 165, 375, 207, 144, 266, 242, 244, 210, 121, 315, 244, 186, 228, 267, 171, 288, 220, 247, 318, 212, 187, 312, 146, 255, 186, 517, 258, 268, 163, 227, 173, 228, 304, 306, 213, 389, 254, 253, 222, 267, 235, 234, 208, 148, 198, 220, 246, 207, 264, 113, 264, 4, 105, 67, 117, 209, 132, 364, 453, 270, 308, 366, 132, 247, 183, 234, 202, 250, 280, 243, 315, 207, 8, 200, 182, 281, 163, 173, 190, 305, 90, 326, 171, 280, 345, 11, 240, 281, 244, 190, 265, 242, 321, 283, 213, 165, 252, 269, 219, 114, 274, 256, 14, 15, 82, 270, 219, 94, 220, 202, 258, 228, 239, 222, 259, 146, 243, 127, 217, 7, 289, 297, 268, 283, 260, 360, 134, 262, 263, 395, 162, 210, 229, 289, 145, 266, 208, 267, 284, 311, 259, 270, 303, 354, 124, 267, 20, 270, 275, 182, 223, 230, 15, 204, 232, 315, 215, 276, 287, 158, 283, 253, 222, 94, 225, 218, 207, 253, 298, 223, 72, 158, 256, 255, 260, 219, 244, 220, 184, 7, 205, 312, 363, 230, 246, 210, 241, 206, 308, 213, 325, 167, 259, 242, 201, 229, 220, 269, 555, 153, 306, 433, 273, 248, 223, 239, 475, 123, 224, 341, 233, 280, 170, 213, 264, 291, 316, 249, 303, 209, 284, 288, 220, 206, 230, 24, 228, 233, 219, 239, 265, 314, 298, 240, 274, 144, 187, 214, 310, 235, 190, 203, 195, 79, 189, 121, 231, 243, 183, 87, 227, 241, 298, 146, 146, 167, 477, 220, 187, 360, 149, 220, 289, 234, 106, 291, 224, 187, 260, 423, 95, 260, 124, 247, 291, 423, 267, 164, 392, 243, 263, 244, 268, 420, 180, 336, 285, 139, 200, 261, 283, 254, 125, 253, 196, 86, 161, 232, 227, 241, 241, 218, 226, 302, 248, 228, 165, 164, 146, 229, 271, 279, 222, 409, 382, 432, 207, 227, 213, 223, 326, 84, 163, 305, 245, 324, 486, 218, 275, 157, 138, 161, 207, 241, 226, 218, 307, 234, 214, 223, 148, 198, 251, 142, 277, 188, 176, 231, 234, 230, 401, 236, 124, 273, 324, 298, 337, 288, 241, 190, 211, 200, 233, 216, 271, 12, 285, 262, 242, 266, 281, 172, 140, 223, 240, 308, 185, 268, 106, 264, 257, 198, 207, 150, 288, 215, 163, 375, 114, 236, 315, 288, 352, 431, 221, 278, 152, 218, 266, 293, 218, 242, 209, 190, 228, 190, 280, 247, 230, 303, 235, 368, 368, 234, 305, 317, 271, 201, 243, 230, 328, 295, 285, 221, 4, 311, 268, 270, 226, 179, 233, 187, 236, 469, 261, 331, 366, 273, 140, 150, 299, 182, 271, 296, 255, 222, 226, 213, 153, 298, 327, 201, 278, 291, 247, 12, 218, 207, 165, 225, 291, 253, 164, 276, 283, 342, 127, 260, 170, 138, 148, 221, 275, 254, 290, 222, 243, 244, 236, 261, 283, 239, 230, 285, 217, 203, 327, 275, 263, 272, 318, 396, 333, 291, 148, 13, 222, 222, 144, 278, 259, 189, 226, 254, 237, 169, 207, 367, 315, 286, 76, 226, 217, 154, 152, 206, 252, 179, 248, 296, 226, 261, 213, 243, 273, 278, 260, 259, 215, 214, 255, 149, 278, 204, 197, 210, 259, 258, 190, 205, 214, 119, 129, 267, 169, 657, 165, 133, 219, 240, 150, 470, 180, 166, 211, 292, 103, 111, 146, 270, 301, 234, 141, 218, 234, 210, 174, 191, 297, 223, 271, 170, 335, 10, 326, 258, 237, 250, 215, 233, 246, 284, 141, 271, 350, 290, 356, 337, 156, 364, 20, 286, 267, 292, 295, 361, 291, 252, 195, 157, 141, 211, 123, 111, 193, 336, 245, 224, 76, 148, 257, 275, 206, 246, 232, 290, 293, 166, 146, 251, 227, 221, 442, 202, 275, 362, 261, 254, 268, 180, 216, 210, 245, 329, 197, 155, 215, 80, 128, 278, 243, 246, 282, 458, 293, 206, 201, 201, 229, 133, 209, 198, 368, 180, 389, 277, 265, 250, 255, 269, 275, 262, 194, 140, 179, 276, 377, 297, 378, 278, 227, 71, 185, 263, 194, 246, 252, 201, 307, 270, 131, 226, 268, 293, 316, 281, 221, 259, 158, 279, 10, 10, 213, 180, 153, 134, 216, 257, 235, 271, 250, 306, 301, 235, 299, 286, 192, 156, 312, 200, 179, 217, 210, 177, 80, 252, 256, 245, 186, 242, 291, 264, 207, 171, 224, 292, 281, 233, 195, 183, 318, 350, 216, 316, 223, 257, 232, 284, 215, 140, 206, 133, 206, 224, 216, 220, 314, 170, 172, 88, 263, 253, 65, 99, 147, 279, 285, 128, 104, 205, 313, 13, 5, 407, 301, 249, 233, 183, 236, 239, 223, 205, 224, 240, 248, 198, 409, 269, 233, 288, 360, 223, 348, 258, 401, 115, 332, 193, 252, 193, 287, 223, 140, 216, 184, 312, 329, 162, 158, 288, 202, 169, 286, 263, 121, 86, 255, 189, 221, 280, 220, 266, 228, 379, 183, 171, 290, 157, 198, 266, 227, 231, 256, 183, 280, 287, 253, 242, 285, 248, 380, 168, 263, 263, 118, 230, 214, 101, 222, 158, 164, 169, 69, 66, 226, 243, 301, 179, 168, 270, 287, 243, 226, 306, 309, 221, 253, 304, 292, 180, 223, 223, 158, 46, 232, 7, 97, 257, 343, 277, 182, 206, 250, 229, 313, 294, 227, 286, 307, 121, 122, 162, 169, 275, 132, 267, 227, 158, 247, 220, 274, 295, 201, 297, 282, 208, 290, 261, 283, 229, 261, 190, 341, 296, 160, 248, 213, 227, 251, 262, 312, 243, 297, 125, 167, 251, 115, 262, 174, 191, 57, 181, 267, 225, 140, 237, 226, 209, 357, 244, 269, 216, 297, 130, 224, 314, 208, 291, 208, 207, 179, 288, 168, 282, 224, 225, 212, 269, 311, 284, 94, 109, 233, 242, 199, 118, 180, 223, 319, 206, 676, 236, 106, 200, 288, 324, 148, 222, 271, 158, 272, 241, 162, 235, 220, 292, 300, 272, 307, 11, 12, 187, 454, 305, 293, 129, 182, 275, 311, 212, 203, 293, 189, 129, 84, 228, 245, 176, 261, 259, 288, 182, 204, 228, 215, 294, 254, 217, 240, 305, 207, 191, 240, 219, 149, 219, 88, 241, 248, 180, 207, 253, 387, 8, 6, 207, 206, 220, 222, 211, 257, 164, 260, 286, 315, 244, 317, 200, 397, 278, 208, 226, 255, 236, 233, 206, 198, 155, 357, 139, 628, 163, 284, 314, 288, 269, 257, 231, 291, 294, 249, 264, 295, 315, 186, 329, 374, 261, 259, 243, 210, 148, 268, 263, 243, 318, 228, 252, 303, 221, 266, 296, 235, 269, 292, 238, 203, 168, 194, 63, 150, 226, 314, 248, 199, 226, 229, 230, 273, 225, 181, 267, 204, 153, 223, 246, 209, 262, 309, 315, 274, 223, 219, 253, 177, 158, 376, 217, 212, 199, 194, 171, 355, 313, 90, 202, 197, 235, 98, 149, 214, 466, 194, 258, 93, 157, 263, 176, 274, 335, 208, 178, 298, 207, 170, 302, 204, 254, 15, 219, 302, 328, 149, 231, 217, 222, 259, 212, 192, 324, 207, 292, 238, 267, 247, 224, 268, 206, 212, 196, 274, 217, 263, 145, 263, 54, 218, 280, 231, 6, 166, 216, 245, 206, 260, 262, 224, 165, 188, 153, 231, 262, 197, 201, 211, 248, 142, 253, 227, 228, 251, 225, 106, 201, 286, 102, 255, 348, 187, 277, 280, 177, 225, 265, 202, 288, 250, 185, 219, 286, 207, 207, 160, 238, 287, 282, 211, 288, 216, 145, 315, 225, 163, 275, 182, 205, 108, 290, 207, 265, 311, 212, 263, 279, 268, 164, 255, 296, 260, 313, 173, 214, 186, 147, 131, 258, 189, 125, 86, 150, 164, 262, 172, 193, 290, 8, 10, 262, 241, 338, 246, 291, 189, 262, 179, 240, 299, 167, 231, 305, 183, 305, 180, 270, 279, 266, 7, 6, 276, 324, 94, 287, 285, 196, 175, 301, 385, 12, 320, 272, 228, 279, 81, 6, 277, 237, 307, 190, 230, 295, 256, 237, 311, 221, 233, 290, 274, 82, 89, 226, 262, 239, 309, 260, 209, 248, 173, 175, 321, 309, 521, 308, 200, 197, 229, 261, 273, 173, 261, 220, 196, 154, 201, 149, 190, 277, 214, 239, 158, 191, 115, 246, 296, 169, 162, 135, 5, 256, 192, 165, 115, 226, 122, 170, 125, 216, 190, 151, 298, 187, 206, 111, 268, 224, 176, 320, 271, 323, 260, 248, 203, 242, 271, 304, 163, 284, 372, 322, 265, 249, 185, 159, 194, 334, 134, 321, 191, 225, 8, 236, 130, 269, 249, 328, 198, 164, 10, 315, 120, 267, 250, 203, 11, 281, 256, 269, 243, 252, 165, 180, 266, 268, 303, 188, 225, 248, 275, 175, 177, 244, 303, 249, 201, 87, 160, 260, 133, 204, 181, 195, 225, 23, 173, 197, 171, 164, 125, 229, 253, 220, 179, 241, 302, 301, 201, 297, 256, 274, 278, 267, 339, 327, 227, 266, 228, 401, 402, 173, 235, 259, 158, 150, 293, 228, 208, 199, 326, 272, 259, 309, 247, 80, 392, 167, 275, 233, 103, 261, 201, 213, 308, 262, 258, 185, 248, 281, 302, 215, 273, 256, 236, 246, 275, 270, 6, 194, 11, 202, 206, 5, 280, 302, 261, 309, 180, 335, 215, 266, 221, 268, 239, 271, 259, 273, 210, 213, 195, 254, 140, 249, 206, 262, 220, 266, 280, 178, 360, 151, 153, 245, 289, 248, 101, 90, 299, 178, 205, 219, 226, 262, 233, 251, 468, 306, 247, 302, 231, 261, 202, 279, 237, 208, 249, 153, 105, 122, 226, 187, 137, 340, 267, 237, 345, 343, 165, 287, 297, 215, 229, 275, 237, 224, 218, 113, 185, 266, 154, 283, 208, 278, 213, 144, 195, 269, 167, 216, 80, 179, 156, 239, 215, 387, 382, 200, 245, 284, 218, 105, 211, 103, 155, 268, 339, 161, 264, 231, 301, 261, 387, 263, 277, 230, 281, 394, 282, 314, 312, 306, 283, 222, 224, 307, 304, 291, 259, 254, 168, 298, 267, 326, 286, 302, 191, 278, 305, 116, 103, 176, 294, 191, 185, 155, 264, 251, 320, 275, 320, 224, 253, 257, 232, 183, 238, 286, 273, 313, 104, 98, 176, 235, 155, 317, 274, 228, 201, 346, 375, 271, 345, 269, 242, 274, 237, 346, 359, 381, 221, 318, 255, 361, 243, 274, 259, 277, 247, 238, 248, 386, 244, 145, 267, 261, 224, 321, 214, 168, 130, 152, 205, 279, 245, 102, 71, 180, 276, 287, 254, 308, 370, 163, 355, 76, 270, 155, 376, 224, 222, 297, 293, 303, 231, 310, 670, 294, 183, 199, 152, 177, 241, 295, 242, 189, 213, 297, 175, 213, 296, 274, 198, 316, 105, 65, 253, 312, 200, 107, 295, 135, 297, 252, 264, 291, 200, 515, 268, 127, 289, 233, 176, 372, 100, 219, 9, 165, 257, 192, 221, 247, 159, 266, 445, 239, 328, 326, 224, 304, 217, 15, 140, 157, 253, 171, 145, 160, 188, 128, 218, 169, 275, 305, 228, 296, 259, 300, 296, 300, 214, 238, 330, 342, 110, 145, 154, 212, 120, 452, 293, 263, 158, 421, 326, 281, 227, 294, 258, 297, 203, 155, 221, 235, 270, 208, 288, 173, 152, 228, 207, 313, 139, 366, 229, 158, 180, 242, 174, 145, 187, 148, 249, 277, 168, 209, 218, 141, 88, 192, 86, 282, 9, 349, 270, 219, 320, 283, 255, 247, 234, 240, 311, 456, 335, 225, 242, 242, 239, 268, 146, 279, 282, 270, 279, 253, 281, 236, 244, 287, 284, 277, 275, 284, 308, 305, 307, 319, 222, 178, 338, 246, 183, 110, 165, 142, 334, 275, 235, 211, 192, 252, 204, 259, 237, 108, 178, 154, 224, 98, 253, 325, 296, 456, 236, 340, 264, 214, 194, 85, 409, 221, 276, 256, 251, 364, 219, 263, 237, 196, 314, 274, 320, 311, 429, 187, 245, 209, 211, 176, 133, 325, 340, 214, 258, 256, 604, 90, 280, 208, 288, 242, 181, 251, 311, 216, 227, 210, 400, 275, 281, 296, 107, 221, 107, 82, 79, 173, 231, 146, 262, 220, 263, 466, 160, 261, 285, 303, 262, 222, 242, 297, 123, 231, 203, 285, 143, 243, 206, 16, 250, 263, 216, 266, 324, 239, 275, 232, 255, 235, 226, 220, 172, 215, 356, 298, 279, 318, 271, 329, 211, 304, 320, 188, 277, 86, 320, 208, 295, 150, 236, 159, 191, 245, 322, 315, 270, 220, 346, 151, 294, 279, 225, 245, 239, 129, 214, 194, 228, 246, 251, 250, 395, 175, 181, 186, 222, 149, 303, 254, 215, 281, 267, 182, 265, 271, 248, 264, 225, 164, 347, 209, 375, 203, 286, 253, 183, 144, 238, 276, 137, 178, 203, 317, 241, 154, 212, 290, 172, 268, 281, 310, 65, 188, 250, 241, 340, 202, 188, 239, 200, 228, 192, 285, 206, 245, 289, 4, 155, 268, 198, 255, 294, 278, 236, 331, 236, 228, 183, 231, 246, 252, 233, 275, 162, 228, 402, 316, 10, 174, 260, 299, 158, 294, 392, 158, 182, 169, 165, 141, 164, 163, 169, 274, 255, 268, 218, 266, 340, 342, 275, 266, 229, 222, 170, 142, 234, 175, 86, 205, 324, 239, 284, 355, 214, 70, 155, 215, 125, 262, 137, 157, 140, 301, 211, 254, 186, 219, 252, 298, 269, 114, 290, 407, 209, 151, 196, 249, 284, 274, 164, 129, 286, 291, 454, 270, 275, 216, 302, 316, 234, 184, 219, 267, 259, 298, 222, 257, 172, 217, 208, 186, 226, 242, 113, 203, 116, 190, 122, 255, 146, 299, 259, 221, 239, 220, 92, 94, 157, 85, 201, 202, 86, 180, 199, 279, 281, 220, 217, 150, 123, 277, 226, 281, 222, 348, 310, 308, 317, 128, 260, 292, 300, 194, 259, 250, 298, 269, 272, 182, 220, 278, 276, 216, 114, 230, 164, 277, 236, 261, 268, 271, 162, 214, 200, 227, 205, 199, 177, 184, 205, 265, 284, 178, 219, 221, 155, 185, 459, 110, 119, 133, 120, 196, 229, 175, 273, 155, 254, 127, 144, 253, 232, 238, 206, 133, 303, 266, 223, 306, 149, 341, 282, 195, 208, 184, 318, 223, 216, 353, 347, 239, 282, 255, 110, 251, 271, 310, 313, 336, 243, 260, 185, 212, 199, 17, 180, 208, 374, 284, 8, 306, 271, 247, 516, 257, 303, 211, 212, 247, 274, 236, 241, 289, 130, 262, 179, 295, 239, 259, 221, 302, 242, 229, 239, 376, 228, 235, 203, 272, 128, 329, 287, 373, 102, 275, 329, 313, 281, 274, 273, 303, 113, 354, 95, 118, 87, 151, 272, 90, 230, 227, 258, 9, 245, 200, 144, 84, 208, 101, 371, 234, 143, 186, 243, 157, 238, 227, 162, 224, 217, 146, 241, 240, 224, 219, 199, 233, 269, 345, 219, 227, 192, 202, 229, 410, 206, 225, 260, 284, 339, 217, 218, 298, 212, 350, 139, 165, 249, 287, 217, 228, 171, 303, 255, 217, 240, 201, 111, 253, 174, 243, 390, 264, 271, 153, 131, 267, 262, 279, 180, 199, 280, 179, 188, 309, 225, 259, 222, 133, 167, 109, 185, 106, 118, 203, 283, 268, 243, 319, 182, 259, 243, 282, 309, 267, 274, 271, 226, 309, 218, 319, 183, 254, 258, 248, 223, 271, 268, 206, 151, 260, 262, 343, 344, 285, 285, 265, 339, 271, 201, 342, 183, 277, 153, 79, 223, 3, 100, 373, 237, 155, 105, 168, 343, 304, 240, 213, 416, 173, 150, 239, 318, 388, 156, 239, 158, 266, 194, 207, 293, 233, 220, 213, 292, 237, 191, 273, 280, 236, 295, 277, 244, 239, 311, 297, 147, 211, 264, 267, 242, 270, 228, 260, 218, 324, 199, 213, 354, 261, 2, 241, 143, 296, 203, 235, 210, 246, 267, 166, 238, 165, 251, 249, 248, 260, 161, 152, 220, 238, 290, 247, 207, 259, 216, 87, 248, 239, 268, 170, 152, 157, 114, 308, 196, 69, 361, 266, 262, 204, 267, 151, 297, 223, 240, 219, 229, 87, 159, 259, 252, 124, 375, 357, 226, 243, 342, 270, 360, 243, 259, 248, 285, 191, 186, 208, 278, 210, 18, 208, 11, 178, 270, 268, 362, 210, 228, 222, 279, 257, 275, 370, 251, 221, 259, 238, 159, 255, 252, 162, 184, 227, 117, 224, 285, 292, 319, 316, 216, 292, 284, 334, 181, 133, 111, 232, 297, 284, 188, 282, 231, 275, 312, 266, 240, 313, 302, 238, 282, 156, 205, 120, 260, 345, 186, 296, 315, 336, 241, 164, 258, 275, 245, 151, 260, 254, 208, 115, 170, 149, 215, 200, 103, 131, 213, 158, 442, 161, 257, 323, 273, 252, 173, 165, 249, 217, 199, 271, 187, 344, 225, 156, 267, 201, 259, 329, 323, 214, 213, 120, 150, 205, 211, 327, 209, 168, 288, 259, 236, 315, 238, 204, 240, 210, 205, 190, 381, 595, 218, 249, 253, 217, 181, 365, 336, 279, 272, 152, 207, 226, 273, 358, 310, 187, 272, 147, 213, 151, 132, 202, 257, 305, 365, 337, 260, 183, 265, 260, 215, 350, 291, 179, 272, 216, 154, 154, 223, 264, 217, 228, 154, 142, 212, 272, 327, 270, 189, 579, 222, 224, 297, 201, 257, 217, 249, 271, 223, 100, 270, 198, 237, 344, 233, 228, 117, 276, 185, 301, 392, 259, 249, 122, 129, 191, 233, 264, 288, 206, 250, 269, 156, 263, 46, 263, 135, 252, 380, 87, 212, 219, 189, 235, 272, 314, 292, 310, 305, 295, 247, 231, 316, 219, 265, 343, 202, 211, 433, 256, 81, 300, 246, 277, 234, 265, 282, 252, 231, 233, 308, 201, 294, 203, 316, 248, 273, 370, 228, 256, 209, 191, 205, 291, 273, 147, 162, 195, 302, 112, 380, 153, 156, 293, 245, 219, 278, 300, 287, 432, 219, 228, 233, 203, 138, 134, 65, 173, 122, 256, 303, 293, 285, 223, 311, 149, 394, 205, 230, 347, 277, 279, 289, 263, 408, 304, 256, 258, 259, 251, 184, 227, 374, 219, 221, 224, 221, 254, 226, 264, 244, 200, 273, 150, 286, 261, 208, 241, 255, 292, 269, 220, 229, 261, 214, 205, 147, 348, 215, 207, 267, 213, 273, 325, 316, 270, 279, 252, 312, 306, 212, 248, 283, 307, 187, 217, 191, 252, 111, 232, 190, 243, 176, 168, 248, 239, 256, 371, 220, 192, 321, 310, 330, 233, 219, 48, 268, 117, 470, 128, 249, 233, 199, 114, 216, 112, 149, 114, 374, 203, 217, 264, 322, 188, 274, 163, 267, 150, 154, 165, 166, 153, 133, 200, 147, 324, 115, 299, 313, 273, 226, 249, 149, 224, 246, 261, 325, 319, 370, 265, 204, 600, 161, 230, 157, 354, 258, 260, 228, 198, 145, 222, 292, 290, 225, 406, 203, 137, 375, 380, 381, 170, 222, 253, 16, 104, 449, 213, 304, 262, 106, 325, 169, 105, 138, 108, 239, 221, 207, 219, 268, 204, 294, 280, 268, 200, 179, 344, 315, 260, 249, 159, 178, 240, 246, 172, 312, 142, 132, 322, 252, 286, 368, 253, 9, 303, 245, 255, 290, 316, 245, 259, 7, 287, 422, 219, 283, 316, 268, 268, 184, 267, 287, 251, 230, 192, 9, 222, 277, 339, 250, 317, 308, 326, 322, 262, 366, 177, 260, 127, 281, 215, 220, 124, 160, 250, 246, 277, 201, 377, 355, 208, 173, 213, 154, 169, 258, 91, 272, 154, 348, 265, 243, 254, 153, 152, 262, 252, 256, 249, 85, 233, 290, 305, 256, 213, 360, 225, 514, 160, 248, 261, 98, 171, 178, 226, 199, 216, 10, 206, 170, 135, 274, 244, 212, 254, 154, 330, 271, 304, 326, 202, 199, 166, 257, 220, 217, 262, 329, 278, 263, 254, 126, 170, 86, 122, 213, 249, 176, 303, 226, 235, 183, 375, 329, 152, 169, 264, 7, 112, 248, 317, 232, 99, 170, 278, 152, 332, 253, 242, 248, 303, 263, 274, 61, 201, 413, 217, 256, 209, 255, 233, 272, 135, 210, 251, 258, 249, 192, 313, 255, 291, 330, 179, 267, 184, 366, 313, 284, 228, 186, 358, 263, 263, 243, 268, 214, 218, 309, 257, 251, 293, 246, 108, 175, 254, 271, 302, 225, 186, 151, 142, 307, 137, 87, 280, 196, 213, 244, 288, 420, 198, 397, 289, 181, 218, 176, 268, 198, 277, 274, 211, 216, 204, 103, 265, 217, 199, 216, 218, 218, 216, 215, 184, 303, 147, 365, 223, 230, 349, 257, 264, 335, 185, 255, 283, 274, 235, 186, 188, 252, 154, 214, 117, 179, 152, 200, 156, 258, 232, 214, 290, 233, 260, 325, 219, 186, 233, 219, 385, 271, 147, 279, 160, 305, 277, 244, 243, 172, 194, 235, 196, 285, 403, 409, 168, 169, 291, 178, 271, 205, 283, 223, 279, 217, 286, 103, 247, 237, 313, 272, 321, 317, 175, 242, 224, 275, 105, 265, 104, 275, 264, 209, 210, 374, 237, 224, 214, 176, 341, 192, 84, 188, 257, 306, 170, 174, 221, 325, 328, 215, 235, 226, 228, 157, 192, 239, 217, 100, 322, 358, 226, 200, 163, 344, 263, 295, 135, 206, 314, 160, 355, 305, 262, 261, 316, 248, 296, 276, 282, 277, 192, 221, 469, 256, 217, 253, 218, 387, 253, 319, 303, 178, 233, 287, 245, 248, 248, 268, 109, 206, 242, 268, 283, 231, 151, 209, 289, 233, 258, 302, 272, 173, 228, 217, 267, 256, 236, 208, 219, 112, 6, 58, 261, 200, 514, 106, 234, 217, 243, 145, 278, 305, 146, 212, 216, 80, 286, 174, 134, 202, 265, 270, 13, 221, 253, 291, 236, 248, 151, 181, 366, 267, 263, 516, 303, 178, 212, 269, 228, 253, 331, 128, 182, 202, 256, 152, 223, 248, 347, 226, 161, 290, 269, 261, 267, 266, 215, 207, 225, 203, 277, 274, 203, 314, 409, 72, 188, 322, 276, 243, 91, 194, 292, 233, 211, 206, 332, 237, 69, 105, 86, 269, 285, 256, 326, 258, 204, 146, 238, 304, 296, 164, 177, 256, 231, 176, 199, 220, 135, 147, 264, 217, 218, 187, 207, 210, 225, 223, 82, 238, 213, 204, 208, 171, 290, 212, 206, 191, 267, 122, 238, 397, 336, 370, 262, 294, 157, 157, 236, 355, 254, 282, 198, 420, 268, 319, 275, 288, 339, 232, 254, 265, 132, 177, 122, 251, 10, 217, 221, 156, 220, 280, 277, 256, 172, 183, 217, 226, 224, 215, 222, 261, 268, 265, 295, 7, 349, 273, 279, 146, 276, 136, 161, 284, 221, 205, 283, 173, 210, 115, 236, 292, 261, 198, 93, 212, 238, 258, 262, 251, 269, 225, 101, 191, 216, 107, 274, 262, 293, 228, 288, 165, 176, 190, 186, 262, 178, 157, 264, 247, 238, 180, 271, 209, 7, 228, 195, 340, 133, 188, 97, 245, 400, 252, 239, 252, 203, 216, 302, 342, 275, 267, 212, 216, 148, 358, 259, 178, 207, 276, 256, 262, 221, 177, 223, 113, 234, 274, 314, 273, 222, 148, 334, 207, 167, 309, 151, 262, 150, 251, 277, 215, 222, 182, 248, 207, 179, 183, 213, 251, 290, 142, 307, 189, 413, 218, 339, 231, 302, 278, 239, 213, 190, 98, 163, 167, 227, 228, 188, 230, 240, 359, 340, 207, 279, 216, 180, 87, 161, 232, 229, 301, 218, 220, 369, 221, 99, 134, 197, 156, 504, 347, 92, 295, 221, 251, 198, 546, 181, 216, 151, 323, 101, 413, 169, 219, 264, 459, 309, 251, 288, 317, 108, 162, 157, 204, 172, 132, 265, 253, 140, 255, 207, 277, 257, 98, 208, 262, 73, 255, 209, 156, 176, 173, 2, 57, 203, 108, 220, 118, 365, 163, 247, 167, 189, 8, 204, 196, 341, 440, 120, 261, 330, 232, 280, 191, 341, 8, 235, 112, 227, 127, 128, 311, 133, 321, 291, 216, 139, 213, 130, 225, 372, 265, 197, 526, 226, 206, 277, 271, 384, 374, 265, 182, 281, 215, 261, 214, 182, 136, 168, 263, 168, 289, 114, 92, 55, 10, 12, 12, 255, 233, 333, 218, 271, 147, 351, 92, 95, 293, 156, 255, 190, 120, 244, 247, 325, 106, 217, 147, 255, 160, 130, 236, 135, 206, 233, 262, 216, 161, 198, 277, 193, 73, 11, 422, 141, 274, 165, 237, 86, 172, 60, 148, 138, 241, 158, 404, 334, 233, 292, 197, 241, 238, 216, 153, 370, 363, 209, 122, 209, 223, 239, 336, 311, 222, 301, 223, 314, 194, 97, 265, 228, 371, 197, 165, 7, 276, 322, 107, 152, 459, 211, 7, 171, 403, 294, 270, 302, 237, 212, 423, 403, 272, 208, 211, 335, 261, 229, 319, 279, 285, 233, 236, 232, 150, 280, 227, 279, 187, 204, 276, 303, 437, 302, 229, 347, 137, 276, 217, 214, 285, 268, 276, 183, 192, 256, 239, 278, 233, 147, 181, 268, 205, 212, 308, 171, 152, 250, 224, 174, 211, 277, 189, 276, 175, 293, 204, 208, 9, 264, 227, 265, 383, 183, 66, 364, 133, 244, 206, 227, 203, 191, 196, 196, 164, 146, 152, 340, 243, 246, 243, 314, 391, 106, 216, 220, 203, 205, 97, 320, 84, 210, 252, 157, 287, 90, 174, 257, 392, 503, 234, 257, 207, 114, 528, 414, 162, 208, 184, 197, 211, 274, 239, 277, 299, 170, 209, 268, 397, 420, 332, 304, 124, 356, 350, 38, 215, 292, 269, 265, 280, 237, 91, 314, 288, 229, 348, 334, 219, 157, 271, 231, 79, 220, 176, 226, 127, 314, 181, 270, 200, 417, 229, 249, 228, 323, 234, 172, 193, 248, 250, 203, 284, 226, 140, 158, 194, 223, 249, 154, 261, 254, 187, 274, 163, 171, 309, 224, 157, 297, 319, 259, 253, 230, 148, 157, 336, 467, 208, 289, 232, 244, 213, 201, 221, 292, 255, 321, 278, 442, 133, 302, 128, 201, 200, 232, 187, 168, 143, 216, 208, 11, 209, 197, 145, 123, 252, 237, 229, 191, 231, 293, 241, 11, 231, 218, 173, 261, 245, 269, 259, 266, 11, 66, 214, 146, 262, 185, 283, 209, 144, 177, 63, 84, 147, 137, 10, 318, 297, 367, 265, 88, 203, 186, 202, 134, 216, 243, 240, 125, 188, 246, 262, 296, 77, 204, 162, 238, 244, 387, 260, 218, 338, 263, 323, 161, 184, 196, 249, 321, 321, 144, 214, 129, 212, 203, 184, 240, 244, 291, 287, 305, 205, 208, 134, 211, 187, 264, 158, 133, 201, 254, 193, 499, 123, 249, 282, 191, 353, 156, 262, 188, 222, 244, 209, 274, 304, 285, 288, 177, 271, 272, 290, 346, 209, 160, 276, 146, 269, 153, 165, 109, 191, 244, 238, 226, 90, 290, 211, 266, 189, 196, 307, 194, 134, 127, 264, 241, 147, 97, 62, 225, 277, 316, 190, 249, 329, 332, 206, 245, 216, 175, 301, 167, 242, 240, 227, 187, 445, 214, 214, 190, 199, 6, 120, 371, 283, 95, 298, 196, 114, 352, 219, 249, 64, 277, 273, 215, 233, 211, 222, 297, 241, 226, 75, 408, 508, 420, 280, 291, 317, 224, 188, 264, 306, 378, 311, 282, 148, 294, 254, 324, 157, 364, 258, 169, 209, 140, 172, 98, 313, 272, 289, 236, 233, 400, 7, 345, 199, 145, 242, 340, 263, 62, 228, 230, 152, 280, 342, 149, 209, 201, 76, 96, 6, 128, 243, 273, 337, 273, 281, 276, 6, 173, 281, 244, 257, 154, 10, 220, 251, 366, 311, 291, 195, 215, 10, 277, 349, 244, 301, 133, 278, 5, 4, 261, 255, 288, 223, 85, 404, 268, 218, 178, 152, 216, 228, 215, 82, 265, 173, 188, 188, 180, 261, 228, 394, 178, 327, 157, 59, 95, 332, 212, 278, 363, 342, 235, 342, 141, 187, 236, 198, 261, 298, 266, 209, 180, 72, 627, 270, 231, 335, 231, 148, 333, 296, 8, 265, 408, 267, 237, 191, 84, 167, 213, 166, 207, 261, 281, 414, 288, 292, 181, 216, 237, 115, 227, 304, 248, 299, 197, 258, 290, 301, 238, 235, 227, 437, 110, 304, 205, 217, 285, 170, 8, 234, 165, 300, 214, 245, 234, 261, 218, 291, 391, 265, 74, 171, 223, 262, 205, 113, 197, 458, 419, 402, 234, 253, 293, 507, 417, 210, 299, 94, 153, 220, 250, 347, 402, 294, 70, 270, 280, 322, 335, 161, 313, 330, 277, 185, 204, 108, 91, 104, 205, 226, 99, 168, 172, 130, 307, 203, 120, 271, 182, 426, 357, 94, 194, 108, 260, 266, 327, 235, 240, 155, 161, 218, 238, 221, 202, 231, 340, 281, 346, 299, 5, 328, 247, 125, 163, 260, 113, 292, 420, 271, 76, 173, 293, 248, 1, 199, 213, 269, 199, 217, 262, 361, 281, 264, 238, 288, 250, 185, 158, 192, 198, 258, 262, 146, 243, 349, 259, 225, 181, 210, 225, 219, 253, 213, 94, 293, 232, 140, 263, 173, 243, 133, 310, 292, 182, 264, 380, 312, 256, 167, 269, 150, 192, 269, 328, 310, 198, 307, 335, 426, 205, 205, 2, 13, 142, 258, 256, 268, 240, 239, 250, 197, 228, 147, 299, 261, 260, 252, 376, 248, 210, 114, 402, 10, 169, 234, 211, 231, 248, 258, 212, 155, 182, 222, 211, 305, 273, 232, 263, 247, 217, 282, 278, 140, 289, 165, 181, 192, 346, 239, 210, 320, 411, 114, 284, 468, 220, 242, 154, 229, 224, 292, 368, 303, 183, 116, 314, 390, 236, 217, 207, 64, 256, 189, 237, 288, 164, 140, 247, 114, 124, 123, 273, 214, 171, 167, 178, 184, 248, 157, 232, 286, 388, 211, 413, 269, 251, 335, 268, 142, 271, 232, 258, 171, 293, 292, 492, 152, 71, 157, 782, 232, 215, 199, 332, 432, 7, 148, 225, 280, 159, 218, 286, 343, 250, 283, 257, 342, 209, 73, 195, 264, 230, 154, 12, 109, 156, 130, 123, 83, 110, 317, 243, 179, 274, 374, 251, 256, 188, 169, 286, 298, 202, 112, 95, 315, 119, 170, 425, 289, 193, 401, 229, 252, 592, 288, 71, 243, 204, 341, 200, 254, 117, 212, 254, 201, 138, 217, 180, 170, 253, 122, 210, 54, 82, 220, 62, 305, 94, 108, 99, 284, 230, 367, 248, 212, 389, 399, 473, 561, 371, 434, 130, 376, 370, 229, 263, 150, 215, 286, 159, 151, 184, 277, 162, 133, 129, 189, 166, 241, 51, 313, 219, 152, 164, 265, 139, 158, 4, 308, 265, 4, 381, 154, 79, 79, 76, 171, 233, 89, 157, 289, 213, 229, 289, 214, 207, 407, 149, 190, 201, 213, 197, 115, 183, 213, 278, 269, 163, 306, 3, 322, 369, 249, 217, 206, 232, 214, 167, 248, 306, 321, 315, 235, 201, 305, 163, 374, 264, 65, 170, 934, 658, 188, 256, 107, 119, 253, 220, 315, 109, 78, 237, 240, 370, 208, 237, 166, 265, 105, 359, 83, 67, 63, 49, 53, 328, 273, 161, 250, 257, 82, 184, 105, 376, 151, 365, 278, 195, 264, 159, 162, 192, 274, 197, 322, 184, 331, 175, 236, 189, 102, 392, 221, 388, 267, 240, 217, 135, 260, 467, 297, 227, 275, 250, 292, 233, 216, 251, 181, 252, 190, 283, 263, 243, 327, 335, 103, 104, 253, 332, 183, 275, 242, 108, 301, 218, 231, 232, 186, 105, 289, 216, 219, 2, 255, 224, 352, 203, 266, 274, 391, 299, 219, 314, 169, 216, 255, 291, 317, 286, 275, 397, 319, 443, 277, 233, 331, 248, 226, 162, 260, 215, 132, 287, 217, 316, 234, 12, 209, 257, 202, 251, 178, 60, 115, 114, 147, 284, 257, 230, 200, 207, 15, 129, 90, 186, 93, 144, 215, 473, 126, 291, 253, 314, 129, 257, 225, 250, 179, 7, 282, 124, 7, 128, 197, 317, 180, 335, 197, 243, 175, 225, 287, 219, 406, 398, 200, 178, 140, 265, 419, 394, 226, 465, 175, 177, 115, 150, 141, 198, 252, 119, 294, 90, 132, 145, 254, 275, 284, 269, 142, 369, 234, 282, 287, 269, 270, 252, 227, 203, 303, 241, 282, 197, 318, 316, 186, 101, 272, 276, 174, 220, 119, 281, 366, 274, 324, 282, 356, 199, 155, 283, 255, 246, 164, 266, 96, 206, 320, 186, 557, 163, 102, 148, 198, 210, 217, 290, 62, 208, 152, 282, 253, 284, 219, 253, 196, 225, 272, 101, 316, 317, 250, 367, 217, 280, 312, 228, 207, 228, 290, 107, 269, 179, 219, 115, 213, 9, 146, 298, 160, 250, 278, 115, 190, 214, 84, 326, 62, 97, 111, 145, 155, 210, 177, 9, 9, 143, 208, 65, 280, 335, 223, 276, 289, 302, 34, 263, 96, 263, 252, 116, 194, 178, 96, 318, 75, 149, 95, 252, 248, 270, 296, 132, 10, 113, 354, 271, 99, 209, 307, 183, 226, 273, 442, 346, 14, 221, 249, 238, 152, 311, 213, 297, 208, 198, 242, 202, 150, 259, 296, 183, 219, 136, 175, 208, 254, 210, 309, 252, 330, 205, 176, 76, 188, 232, 102, 252, 126, 140, 356, 285, 115, 250, 208, 214, 267, 217, 266, 193, 384, 68, 261, 359, 191, 209, 235, 253, 148, 46, 88, 172, 398, 233, 330, 115, 82, 281, 4, 215, 400, 206, 112, 118, 296, 310, 253, 117, 137, 140, 219, 202, 236, 170, 268, 304, 158, 206, 284, 222, 221, 251, 210, 258, 288, 232, 211, 232, 131, 183, 249, 277, 76, 115, 177, 138, 12, 538, 258, 188, 170, 213, 284, 6, 12, 431, 297, 109, 369, 158, 286, 198, 164, 218, 376, 150, 142, 159, 164, 228, 368, 272, 227, 103, 388, 200, 90, 126, 151, 366, 242, 298, 123, 206, 231, 131, 127, 109, 224, 333, 213, 353, 171, 264, 313, 406, 196, 103, 225, 111, 81, 79, 173, 202, 180, 112, 200, 245, 240, 256, 188, 238, 222, 265, 249, 138, 154, 225, 216, 209, 208, 175, 301, 249, 131, 178, 135, 224, 168, 354, 107, 142, 433, 153, 130, 56, 130, 144, 19, 203, 176, 228, 93, 173, 119, 88, 172, 333, 276, 126, 213, 148, 271, 265, 295, 128, 111, 221, 166, 137, 82, 361, 288, 224, 241, 263, 560, 144, 179, 172, 130, 147, 130, 157, 255, 8, 137, 142, 4, 187, 143, 205, 164, 2, 154, 195, 220, 258, 98, 96, 71, 109, 222, 260, 210, 447, 245, 131, 190, 282, 290, 320, 81, 252, 280, 287, 170, 247, 176, 202, 133, 205, 236, 273, 313, 245, 212, 105, 127, 255, 224, 150, 154, 192, 207, 260, 317, 228, 376, 225, 269, 210, 210, 223, 127, 75, 216, 171, 243, 244, 140, 276, 267, 223, 303, 302, 172, 207, 116, 190, 221, 284, 172, 334, 156, 195, 368, 274, 279, 117, 181, 251, 180, 153, 229, 137, 209, 295, 339, 153, 270, 147, 132, 161, 238, 174, 333, 349, 344, 338, 470, 237, 209, 340, 200, 329, 157, 152, 248, 277, 243, 96, 162, 170, 98, 96, 104, 251, 364, 160, 192, 80, 292, 291, 79, 119, 163, 69, 180, 178, 155, 252, 111, 169, 151, 427, 183, 153, 325, 178, 302, 187, 64, 111, 102, 77, 48, 138, 248, 287, 231, 182, 241, 153, 260, 287, 242, 248, 209, 37, 186, 251, 94, 300, 275, 189, 250, 349, 120, 92, 159, 61, 295, 173, 112, 229, 133, 97, 60, 154, 185, 131, 203, 165, 121, 244, 109, 114, 126, 161, 132, 237, 322, 394, 70, 339, 68, 124, 144, 318, 117, 292, 263, 125, 8, 148, 195, 172, 144, 188, 292, 203, 198, 178, 222, 159, 275, 229, 168, 132, 252, 526, 227, 127, 209, 267, 190, 131, 213, 245, 182, 293, 277, 237, 343, 227, 242, 203, 199, 277, 275, 216, 334, 165, 161, 182, 316, 390, 191, 16, 162, 206, 219, 189, 317, 148, 131, 250, 386, 382, 186, 10, 141, 227, 278, 195, 144, 223, 174, 268, 244, 265, 276, 171, 213, 376, 151, 142, 176, 5, 286, 336, 135, 248, 533, 455, 160, 117, 56, 123, 263, 165, 147, 258, 363, 234, 196, 236, 84, 217, 220, 393, 189, 346, 259, 370, 164, 168, 305, 300, 214, 200, 185, 182, 186, 227, 293, 176, 122, 156, 242, 156, 68, 123, 79, 196, 98, 286, 221, 244, 6, 300, 158, 366, 110, 159, 277, 173, 145, 37, 179, 192, 209, 185, 329, 258, 155, 81, 258, 111, 135, 206, 253, 238, 160, 84, 153, 343, 142, 225, 2, 3, 74, 110, 78, 145, 112, 256, 278, 237, 244, 77, 198, 148, 191, 157, 124, 174, 139, 148, 327, 316, 11, 224, 285, 278, 245, 149, 265, 244, 228, 284, 100, 214, 197, 429, 191, 208, 10, 220, 114, 117, 299, 65, 69, 82, 205, 143, 134, 301, 228, 148, 53, 221, 167, 251, 195, 274, 486, 204, 137, 80, 332, 426, 191, 122, 193, 243, 225, 272, 229, 332, 104, 121, 242, 112, 94, 248, 140, 230, 285, 277, 256, 187, 331, 88, 164, 99, 123, 42, 213, 86, 74, 98, 97, 107, 359, 335, 295, 240, 183, 79, 149, 170, 144, 169, 131, 164, 262, 139, 278, 165, 130, 17, 134, 247, 120, 72, 202, 187, 7, 79, 2, 225, 249, 239, 107, 252, 263, 93, 146, 249, 37, 145, 144, 146, 84, 178, 185, 199, 338, 153, 131, 126, 13, 346, 66, 138, 331, 239, 170, 107, 133, 264, 315, 186, 174, 117, 127, 203, 125, 155, 115, 207, 404, 6, 125, 121, 163, 224, 229, 59, 269, 403, 317, 323, 263, 153, 233, 182, 272, 115, 272, 103, 145, 160, 141, 6, 136, 119, 304, 104, 96, 107, 103, 120, 130, 86, 125, 171, 116, 152, 100, 272, 256, 77, 226, 186, 199, 264, 175, 128, 85, 263, 219, 273, 97, 226, 186, 253, 64, 130, 270, 194, 133, 191, 217, 231, 113, 226, 264, 194, 43, 76, 131, 135, 284, 97, 247, 167, 147, 256, 93, 114, 211, 55, 95, 134, 12, 72, 209, 11, 149, 147, 82, 249, 183, 282, 385, 13, 64, 249, 50, 159, 203, 197, 80, 245, 56, 630, 460, 413, 156, 153, 182, 92, 140, 148, 126, 8, 132, 82, 148, 226, 182, 116, 226, 169, 323, 184, 233, 97, 264, 44, 143, 109, 211, 170, 287, 8, 262, 183, 109, 218, 178, 228, 90, 238, 109, 146, 207, 145, 93, 190, 182, 210, 155, 86, 166, 122, 96, 275, 172, 105, 192, 60, 110, 151, 207, 105, 315, 155, 307, 145, 103, 140, 205, 272, 253, 260, 263, 107, 157, 247, 214, 172, 159, 145, 109, 272, 215, 157, 94, 166, 118, 116, 155, 108, 191, 94, 154, 4, 6, 16, 148, 210, 184, 267, 97, 144, 248, 374, 347, 246, 201, 248, 236, 230, 233, 145, 232, 206, 114, 230, 185, 226, 128, 157, 265, 96, 203, 221, 139, 216, 77, 76, 262, 101, 202, 366, 193, 184, 414, 107, 136, 167, 213, 181, 129, 165, 143, 147, 146, 207, 158, 245, 165, 162, 148, 188, 96, 182, 106, 197, 112, 176, 65, 176, 134, 188, 166, 153, 129, 112, 252, 12, 2, 6, 185, 120, 9, 156, 249, 137, 237, 216, 240, 237, 259, 132, 54, 56, 368, 127, 72, 147, 141, 169, 147, 60, 158, 200, 209, 121, 174, 105, 119, 374, 218, 285, 147, 162, 90, 245, 255, 307, 249, 99, 182, 163, 155, 3, 171, 128, 144, 175, 158, 114, 62, 127, 255, 95, 215, 239, 189, 121, 181, 231, 217, 174, 142, 234, 263, 175, 109, 160, 186, 135, 215, 104, 99, 179, 80, 175, 83, 210, 205, 143, 89, 177, 123, 169, 214, 219, 121, 134, 9, 206, 17, 131, 142, 61, 200, 223, 217, 147, 146, 97, 220, 165, 208, 150, 254, 247, 148, 3, 152, 87, 267, 197, 156, 173, 84, 108, 417, 250, 120, 133, 264, 70, 106, 78, 115, 250, 110, 168, 122, 257, 270, 106, 291, 97, 288, 129, 238, 2, 9, 92, 263, 73, 228, 173, 157, 136, 138, 151, 40, 4, 196, 135, 302, 294, 145, 108, 113, 117, 135, 122, 255, 147, 195, 152, 59, 215, 298, 92, 327, 296, 87, 72, 187, 209, 98, 243, 142, 158, 152, 145, 212, 94, 100, 51, 154, 110, 160, 98, 88, 284, 122, 129, 101, 60, 100, 151, 133, 153, 185, 63, 101, 118, 156, 224, 116, 103, 137, 191, 167, 174, 207, 179, 127, 224, 320, 202, 60, 251, 280, 229, 53, 57, 94, 90, 56, 245, 218, 70, 114, 129, 82, 222, 328, 249, 148, 247, 56, 264, 83, 143, 6, 178, 163, 263, 74, 2, 176, 195, 236, 222, 267, 276, 140, 99, 151, 241, 43, 48, 40, 6, 197, 11, 3, 86, 121, 78, 153, 7, 6, 90, 184, 137, 3, 136, 242, 211, 9, 3, 177, 4, 131, 208, 55, 6, 131, 84, 120, 130, 83, 130, 115, 180, 88, 5, 8, 99, 129, 73, 136, 142, 182, 145, 131, 95, 12, 280, 113, 114, 88, 153, 104, 115, 212, 201, 182, 221, 7, 52, 114, 228, 7, 163, 280, 199, 127, 178, 333, 196, 225, 258, 60, 216, 214, 183, 231, 146, 66, 72, 219, 110, 188, 111, 9, 200, 96, 3, 256, 85, 41, 98, 269, 276, 258, 242, 34, 80, 49, 323, 57, 102, 277, 126, 291, 97, 79, 98, 131, 87, 127, 209, 240, 358, 6, 218, 172, 65, 5, 9, 143, 192, 110, 151, 3, 128, 148, 318, 102, 103, 135, 152, 11, 78, 116, 106, 104, 186, 140, 174, 159, 130, 10, 10, 11, 308, 178, 121, 136, 188, 123, 216, 144, 247, 27, 179, 79, 140, 227, 139, 83, 175, 399, 362, 175, 402, 83, 8, 6, 94, 126, 119, 183, 42, 132, 279, 76, 170, 307, 16, 6, 125, 216, 174, 100, 107, 235, 100, 142, 178, 145, 6, 124, 282, 165, 114, 127, 343, 151, 7, 161, 8, 227, 4, 10, 120, 305]}],\n",
       "                        {\"barmode\": \"overlay\", \"legend\": {\"bgcolor\": \"#FFFFFF\", \"font\": {\"color\": \"#666666\"}}, \"paper_bgcolor\": \"#FFFFFF\", \"plot_bgcolor\": \"#E5E5E5\", \"template\": {\"data\": {\"bar\": [{\"error_x\": {\"color\": \"#2a3f5f\"}, \"error_y\": {\"color\": \"#2a3f5f\"}, \"marker\": {\"line\": {\"color\": \"#E5ECF6\", \"width\": 0.5}}, \"type\": \"bar\"}], \"barpolar\": [{\"marker\": {\"line\": {\"color\": \"#E5ECF6\", \"width\": 0.5}}, \"type\": \"barpolar\"}], \"carpet\": [{\"aaxis\": {\"endlinecolor\": \"#2a3f5f\", \"gridcolor\": \"white\", \"linecolor\": \"white\", \"minorgridcolor\": \"white\", \"startlinecolor\": \"#2a3f5f\"}, \"baxis\": {\"endlinecolor\": \"#2a3f5f\", \"gridcolor\": \"white\", \"linecolor\": \"white\", \"minorgridcolor\": \"white\", \"startlinecolor\": \"#2a3f5f\"}, \"type\": \"carpet\"}], \"choropleth\": [{\"colorbar\": {\"outlinewidth\": 0, \"ticks\": \"\"}, \"type\": \"choropleth\"}], \"contour\": [{\"colorbar\": {\"outlinewidth\": 0, \"ticks\": \"\"}, \"colorscale\": [[0.0, \"#0d0887\"], [0.1111111111111111, \"#46039f\"], [0.2222222222222222, \"#7201a8\"], [0.3333333333333333, \"#9c179e\"], [0.4444444444444444, \"#bd3786\"], [0.5555555555555556, \"#d8576b\"], [0.6666666666666666, \"#ed7953\"], [0.7777777777777778, \"#fb9f3a\"], [0.8888888888888888, \"#fdca26\"], [1.0, \"#f0f921\"]], \"type\": \"contour\"}], \"contourcarpet\": [{\"colorbar\": {\"outlinewidth\": 0, \"ticks\": \"\"}, \"type\": \"contourcarpet\"}], \"heatmap\": [{\"colorbar\": {\"outlinewidth\": 0, \"ticks\": \"\"}, \"colorscale\": [[0.0, \"#0d0887\"], [0.1111111111111111, \"#46039f\"], [0.2222222222222222, \"#7201a8\"], [0.3333333333333333, \"#9c179e\"], [0.4444444444444444, \"#bd3786\"], [0.5555555555555556, \"#d8576b\"], [0.6666666666666666, \"#ed7953\"], [0.7777777777777778, \"#fb9f3a\"], [0.8888888888888888, \"#fdca26\"], [1.0, \"#f0f921\"]], \"type\": \"heatmap\"}], \"heatmapgl\": [{\"colorbar\": {\"outlinewidth\": 0, \"ticks\": \"\"}, \"colorscale\": [[0.0, \"#0d0887\"], [0.1111111111111111, \"#46039f\"], [0.2222222222222222, \"#7201a8\"], [0.3333333333333333, \"#9c179e\"], [0.4444444444444444, \"#bd3786\"], [0.5555555555555556, \"#d8576b\"], [0.6666666666666666, \"#ed7953\"], [0.7777777777777778, \"#fb9f3a\"], [0.8888888888888888, \"#fdca26\"], [1.0, \"#f0f921\"]], \"type\": \"heatmapgl\"}], \"histogram\": [{\"marker\": {\"colorbar\": {\"outlinewidth\": 0, \"ticks\": \"\"}}, \"type\": \"histogram\"}], \"histogram2d\": [{\"colorbar\": {\"outlinewidth\": 0, \"ticks\": \"\"}, \"colorscale\": [[0.0, \"#0d0887\"], [0.1111111111111111, \"#46039f\"], [0.2222222222222222, \"#7201a8\"], [0.3333333333333333, \"#9c179e\"], [0.4444444444444444, \"#bd3786\"], [0.5555555555555556, \"#d8576b\"], [0.6666666666666666, \"#ed7953\"], [0.7777777777777778, \"#fb9f3a\"], [0.8888888888888888, \"#fdca26\"], [1.0, \"#f0f921\"]], \"type\": \"histogram2d\"}], \"histogram2dcontour\": [{\"colorbar\": {\"outlinewidth\": 0, \"ticks\": \"\"}, \"colorscale\": [[0.0, \"#0d0887\"], [0.1111111111111111, \"#46039f\"], [0.2222222222222222, \"#7201a8\"], [0.3333333333333333, \"#9c179e\"], [0.4444444444444444, \"#bd3786\"], [0.5555555555555556, \"#d8576b\"], [0.6666666666666666, \"#ed7953\"], [0.7777777777777778, \"#fb9f3a\"], [0.8888888888888888, \"#fdca26\"], [1.0, \"#f0f921\"]], \"type\": \"histogram2dcontour\"}], \"mesh3d\": [{\"colorbar\": {\"outlinewidth\": 0, \"ticks\": \"\"}, \"type\": \"mesh3d\"}], \"parcoords\": [{\"line\": {\"colorbar\": {\"outlinewidth\": 0, \"ticks\": \"\"}}, \"type\": \"parcoords\"}], \"scatter\": [{\"marker\": {\"colorbar\": {\"outlinewidth\": 0, \"ticks\": \"\"}}, \"type\": \"scatter\"}], \"scatter3d\": [{\"line\": {\"colorbar\": {\"outlinewidth\": 0, \"ticks\": \"\"}}, \"marker\": {\"colorbar\": {\"outlinewidth\": 0, \"ticks\": \"\"}}, \"type\": \"scatter3d\"}], \"scattercarpet\": [{\"marker\": {\"colorbar\": {\"outlinewidth\": 0, \"ticks\": \"\"}}, \"type\": \"scattercarpet\"}], \"scattergeo\": [{\"marker\": {\"colorbar\": {\"outlinewidth\": 0, \"ticks\": \"\"}}, \"type\": \"scattergeo\"}], \"scattergl\": [{\"marker\": {\"colorbar\": {\"outlinewidth\": 0, \"ticks\": \"\"}}, \"type\": \"scattergl\"}], \"scattermapbox\": [{\"marker\": {\"colorbar\": {\"outlinewidth\": 0, \"ticks\": \"\"}}, \"type\": \"scattermapbox\"}], \"scatterpolar\": [{\"marker\": {\"colorbar\": {\"outlinewidth\": 0, \"ticks\": \"\"}}, \"type\": \"scatterpolar\"}], \"scatterpolargl\": [{\"marker\": {\"colorbar\": {\"outlinewidth\": 0, \"ticks\": \"\"}}, \"type\": \"scatterpolargl\"}], \"scatterternary\": [{\"marker\": {\"colorbar\": {\"outlinewidth\": 0, \"ticks\": \"\"}}, \"type\": \"scatterternary\"}], \"surface\": [{\"colorbar\": {\"outlinewidth\": 0, \"ticks\": \"\"}, \"colorscale\": [[0.0, \"#0d0887\"], [0.1111111111111111, \"#46039f\"], [0.2222222222222222, \"#7201a8\"], [0.3333333333333333, \"#9c179e\"], [0.4444444444444444, \"#bd3786\"], [0.5555555555555556, \"#d8576b\"], [0.6666666666666666, \"#ed7953\"], [0.7777777777777778, \"#fb9f3a\"], [0.8888888888888888, \"#fdca26\"], [1.0, \"#f0f921\"]], \"type\": \"surface\"}], \"table\": [{\"cells\": {\"fill\": {\"color\": \"#EBF0F8\"}, \"line\": {\"color\": \"white\"}}, \"header\": {\"fill\": {\"color\": \"#C8D4E3\"}, \"line\": {\"color\": \"white\"}}, \"type\": \"table\"}]}, \"layout\": {\"annotationdefaults\": {\"arrowcolor\": \"#2a3f5f\", \"arrowhead\": 0, \"arrowwidth\": 1}, \"colorscale\": {\"diverging\": [[0, \"#8e0152\"], [0.1, \"#c51b7d\"], [0.2, \"#de77ae\"], [0.3, \"#f1b6da\"], [0.4, \"#fde0ef\"], [0.5, \"#f7f7f7\"], [0.6, \"#e6f5d0\"], [0.7, \"#b8e186\"], [0.8, \"#7fbc41\"], [0.9, \"#4d9221\"], [1, \"#276419\"]], \"sequential\": [[0.0, \"#0d0887\"], [0.1111111111111111, \"#46039f\"], [0.2222222222222222, \"#7201a8\"], [0.3333333333333333, \"#9c179e\"], [0.4444444444444444, \"#bd3786\"], [0.5555555555555556, \"#d8576b\"], [0.6666666666666666, \"#ed7953\"], [0.7777777777777778, \"#fb9f3a\"], [0.8888888888888888, \"#fdca26\"], [1.0, \"#f0f921\"]], \"sequentialminus\": [[0.0, \"#0d0887\"], [0.1111111111111111, \"#46039f\"], [0.2222222222222222, \"#7201a8\"], [0.3333333333333333, \"#9c179e\"], [0.4444444444444444, \"#bd3786\"], [0.5555555555555556, \"#d8576b\"], [0.6666666666666666, \"#ed7953\"], [0.7777777777777778, \"#fb9f3a\"], [0.8888888888888888, \"#fdca26\"], [1.0, \"#f0f921\"]]}, \"colorway\": [\"#636efa\", \"#EF553B\", \"#00cc96\", \"#ab63fa\", \"#FFA15A\", \"#19d3f3\", \"#FF6692\", \"#B6E880\", \"#FF97FF\", \"#FECB52\"], \"font\": {\"color\": \"#2a3f5f\"}, \"geo\": {\"bgcolor\": \"white\", \"lakecolor\": \"white\", \"landcolor\": \"#E5ECF6\", \"showlakes\": true, \"showland\": true, \"subunitcolor\": \"white\"}, \"hoverlabel\": {\"align\": \"left\"}, \"hovermode\": \"closest\", \"mapbox\": {\"style\": \"light\"}, \"paper_bgcolor\": \"white\", \"plot_bgcolor\": \"#E5ECF6\", \"polar\": {\"angularaxis\": {\"gridcolor\": \"white\", \"linecolor\": \"white\", \"ticks\": \"\"}, \"bgcolor\": \"#E5ECF6\", \"radialaxis\": {\"gridcolor\": \"white\", \"linecolor\": \"white\", \"ticks\": \"\"}}, \"scene\": {\"xaxis\": {\"backgroundcolor\": \"#E5ECF6\", \"gridcolor\": \"white\", \"gridwidth\": 2, \"linecolor\": \"white\", \"showbackground\": true, \"ticks\": \"\", \"zerolinecolor\": \"white\"}, \"yaxis\": {\"backgroundcolor\": \"#E5ECF6\", \"gridcolor\": \"white\", \"gridwidth\": 2, \"linecolor\": \"white\", \"showbackground\": true, \"ticks\": \"\", \"zerolinecolor\": \"white\"}, \"zaxis\": {\"backgroundcolor\": \"#E5ECF6\", \"gridcolor\": \"white\", \"gridwidth\": 2, \"linecolor\": \"white\", \"showbackground\": true, \"ticks\": \"\", \"zerolinecolor\": \"white\"}}, \"shapedefaults\": {\"line\": {\"color\": \"#2a3f5f\"}}, \"ternary\": {\"aaxis\": {\"gridcolor\": \"white\", \"linecolor\": \"white\", \"ticks\": \"\"}, \"baxis\": {\"gridcolor\": \"white\", \"linecolor\": \"white\", \"ticks\": \"\"}, \"bgcolor\": \"#E5ECF6\", \"caxis\": {\"gridcolor\": \"white\", \"linecolor\": \"white\", \"ticks\": \"\"}}, \"title\": {\"x\": 0.05}, \"xaxis\": {\"automargin\": true, \"gridcolor\": \"white\", \"linecolor\": \"white\", \"ticks\": \"\", \"zerolinecolor\": \"white\", \"zerolinewidth\": 2}, \"yaxis\": {\"automargin\": true, \"gridcolor\": \"white\", \"linecolor\": \"white\", \"ticks\": \"\", \"zerolinecolor\": \"white\", \"zerolinewidth\": 2}}}, \"title\": {\"font\": {\"color\": \"#151516\"}, \"text\": \"Word Count Distribution\"}, \"xaxis\": {\"gridcolor\": \"#F6F6F6\", \"linecolor\": \"black\", \"showgrid\": true, \"tickfont\": {\"color\": \"#666666\"}, \"title\": {\"font\": {\"color\": \"#666666\"}, \"text\": \"word count\"}, \"zerolinecolor\": \"#F6F6F6\"}, \"yaxis\": {\"gridcolor\": \"#F6F6F6\", \"linecolor\": \"black\", \"showgrid\": true, \"tickfont\": {\"color\": \"#666666\"}, \"title\": {\"font\": {\"color\": \"#666666\"}, \"text\": \"count\"}, \"zerolinecolor\": \"#F6F6F6\"}},\n",
       "                        {\"showLink\": true, \"linkText\": \"Export to plot.ly\", \"plotlyServerURL\": \"https://plot.ly\", \"responsive\": true}\n",
       "                    ).then(function(){\n",
       "                            \n",
       "var gd = document.getElementById('13e479bb-ea48-4527-a6cd-4a6504bb3533');\n",
       "var x = new MutationObserver(function (mutations, observer) {{\n",
       "        var display = window.getComputedStyle(gd).display;\n",
       "        if (!display || display === 'none') {{\n",
       "            console.log([gd, 'removed!']);\n",
       "            Plotly.purge(gd);\n",
       "            observer.disconnect();\n",
       "        }}\n",
       "}});\n",
       "\n",
       "// Listen for the removal of the full notebook cells\n",
       "var notebookContainer = gd.closest('#notebook-container');\n",
       "if (notebookContainer) {{\n",
       "    x.observe(notebookContainer, {childList: true});\n",
       "}}\n",
       "\n",
       "// Listen for the clearing of the current output cell\n",
       "var outputEl = gd.closest('.output');\n",
       "if (outputEl) {{\n",
       "    x.observe(outputEl, {childList: true});\n",
       "}}\n",
       "\n",
       "                        })\n",
       "                };\n",
       "                });\n",
       "            </script>\n",
       "        </div>"
      ]
     },
     "metadata": {},
     "output_type": "display_data"
    }
   ],
   "source": [
    "df['word_count'].iplot(\n",
    "    kind='hist',\n",
    "    bins = 50,\n",
    "    linecolor='black',\n",
    "    xTitle='word count',\n",
    "    yTitle='count',\n",
    "    title='Word Count Distribution')"
   ]
  },
  {
   "cell_type": "code",
   "execution_count": 23,
   "metadata": {},
   "outputs": [],
   "source": [
    "df.set_index('PMID', inplace = True)"
   ]
  },
  {
   "cell_type": "markdown",
   "metadata": {},
   "source": [
    "### Use linear_kernel to compare Tfidf vectors, equal to dot product"
   ]
  },
  {
   "cell_type": "code",
   "execution_count": 24,
   "metadata": {
    "scrolled": true
   },
   "outputs": [],
   "source": [
    "tf = TfidfVectorizer(analyzer='word', ngram_range=(1, 3), min_df=0, stop_words='english')\n",
    "tfidf_matrix = tf.fit_transform(df['abstractClean'])\n",
    "cosine_similarities = linear_kernel(tfidf_matrix, tfidf_matrix)"
   ]
  },
  {
   "cell_type": "code",
   "execution_count": 25,
   "metadata": {},
   "outputs": [
    {
     "data": {
      "text/plain": [
       "array([1.00000000e+00, 1.92501046e-03, 4.08680011e-03, ...,\n",
       "       7.69268338e-04, 2.76236677e-03, 4.45844797e-03])"
      ]
     },
     "execution_count": 25,
     "metadata": {},
     "output_type": "execute_result"
    }
   ],
   "source": [
    "cosine_similarities[0]"
   ]
  },
  {
   "cell_type": "code",
   "execution_count": 26,
   "metadata": {},
   "outputs": [
    {
     "data": {
      "text/plain": [
       "0    31161676\n",
       "1    31159286\n",
       "2    31154539\n",
       "3    31151775\n",
       "4    31151256\n",
       "Name: PMID, dtype: object"
      ]
     },
     "execution_count": 26,
     "metadata": {},
     "output_type": "execute_result"
    }
   ],
   "source": [
    "indices = pd.Series(df.index)\n",
    "indices[:5]"
   ]
  },
  {
   "cell_type": "code",
   "execution_count": 27,
   "metadata": {},
   "outputs": [],
   "source": [
    "def recommendations(PMID, cosine_similarities):\n",
    "    \n",
    "    recommended_pub = []\n",
    "    notrecommended_pub = []\n",
    "    # getting the index of the publication that matches the PMID\n",
    "    idx = indices[indices == PMID].index[0]\n",
    "    # creating a Series with the similarity scores in descending order\n",
    "    score_series = pd.Series(cosine_similarities[idx]).sort_values(ascending = False)\n",
    "    # getting the indexes of the 10 most similar publications except itself\n",
    "    top_10_indexes = list(score_series.iloc[1:11].index)\n",
    "    bottom_10_indexes = list(score_series.iloc[:-10:-1].index)\n",
    "    \n",
    "    # populating the list with the PMID  of the top 10 matching publications\n",
    "    for i in top_10_indexes:\n",
    "        recommended_pub.append(list(df.index)[i]) \n",
    "    for i in bottom_10_indexes:\n",
    "        notrecommended_pub.append(list(df.index)[i]) \n",
    "    return recommended_pub,notrecommended_pub"
   ]
  },
  {
   "cell_type": "markdown",
   "metadata": {},
   "source": [
    "### Select top 10 and bottom 10 similar publications"
   ]
  },
  {
   "cell_type": "code",
   "execution_count": 28,
   "metadata": {
    "scrolled": true
   },
   "outputs": [
    {
     "data": {
      "text/plain": [
       "(['21682427',\n",
       "  '26936559',\n",
       "  '25262877',\n",
       "  '30075648',\n",
       "  '22916620',\n",
       "  '20123866',\n",
       "  '30678295',\n",
       "  '29724028',\n",
       "  '22916621',\n",
       "  '24905878'],\n",
       " ['11813663',\n",
       "  '29851432',\n",
       "  '25390863',\n",
       "  '7902448',\n",
       "  '25764595',\n",
       "  '9118279',\n",
       "  '9206397',\n",
       "  '9470600',\n",
       "  '24678866'])"
      ]
     },
     "execution_count": 28,
     "metadata": {},
     "output_type": "execute_result"
    }
   ],
   "source": [
    "recommendations('25619479',cosine_similarities) "
   ]
  },
  {
   "cell_type": "markdown",
   "metadata": {
    "collapsed": true
   },
   "source": [
    "### Use cosine_similarities to compare tfidf vectors, same as lineal kernal (also called dot-product) since data is normalized\n",
    "Cosine similarity only cares about angle difference, while dot product cares about angle and magnitude. If you normalize your data to have the same magnitude, the two are indistinguishable."
   ]
  },
  {
   "cell_type": "code",
   "execution_count": 29,
   "metadata": {},
   "outputs": [
    {
     "data": {
      "text/plain": [
       "scipy.sparse.csr.csr_matrix"
      ]
     },
     "execution_count": 29,
     "metadata": {},
     "output_type": "execute_result"
    }
   ],
   "source": [
    "type(tfidf_matrix)"
   ]
  },
  {
   "cell_type": "code",
   "execution_count": 30,
   "metadata": {},
   "outputs": [
    {
     "data": {
      "text/plain": [
       "<9014x1457328 sparse matrix of type '<class 'numpy.float64'>'\n",
       "\twith 3022034 stored elements in Compressed Sparse Row format>"
      ]
     },
     "execution_count": 30,
     "metadata": {},
     "output_type": "execute_result"
    }
   ],
   "source": [
    "from sklearn.metrics.pairwise import cosine_similarity  \n",
    "\n",
    "tf = TfidfVectorizer(analyzer='word', ngram_range=(1, 3), min_df=0, stop_words='english')\n",
    "tfidf_matrix = tf.fit_transform(df['abstractClean'])\n",
    "tfidf_matrix"
   ]
  },
  {
   "cell_type": "code",
   "execution_count": 31,
   "metadata": {},
   "outputs": [
    {
     "data": {
      "text/plain": [
       "array([[1.00000000e+00, 1.92501046e-03, 4.08680011e-03, ...,\n",
       "        7.69268338e-04, 2.76236677e-03, 4.45844797e-03],\n",
       "       [1.92501046e-03, 1.00000000e+00, 2.18761935e-02, ...,\n",
       "        9.73180593e-03, 3.52168900e-03, 1.26797034e-02],\n",
       "       [4.08680011e-03, 2.18761935e-02, 1.00000000e+00, ...,\n",
       "        2.92793931e-03, 8.60953121e-03, 9.74783959e-03],\n",
       "       ...,\n",
       "       [7.69268338e-04, 9.73180593e-03, 2.92793931e-03, ...,\n",
       "        1.00000000e+00, 1.28736833e-03, 3.27100266e-03],\n",
       "       [2.76236677e-03, 3.52168900e-03, 8.60953121e-03, ...,\n",
       "        1.28736833e-03, 1.00000000e+00, 1.48272003e-02],\n",
       "       [4.45844797e-03, 1.26797034e-02, 9.74783959e-03, ...,\n",
       "        3.27100266e-03, 1.48272003e-02, 1.00000000e+00]])"
      ]
     },
     "execution_count": 31,
     "metadata": {},
     "output_type": "execute_result"
    },
    {
     "data": {
      "text/plain": [
       "(['21682427',\n",
       "  '26936559',\n",
       "  '25262877',\n",
       "  '30075648',\n",
       "  '22916620',\n",
       "  '20123866',\n",
       "  '30678295',\n",
       "  '29724028',\n",
       "  '22916621',\n",
       "  '24905878'],\n",
       " ['11813663',\n",
       "  '29851432',\n",
       "  '25390863',\n",
       "  '7902448',\n",
       "  '25764595',\n",
       "  '9118279',\n",
       "  '9206397',\n",
       "  '9470600',\n",
       "  '24678866'])"
      ]
     },
     "execution_count": 31,
     "metadata": {},
     "output_type": "execute_result"
    }
   ],
   "source": [
    "cosine_similarity = cosine_similarity(tfidf_matrix, tfidf_matrix)\n",
    "cosine_similarity\n",
    "recommendations('25619479',cosine_similarity)"
   ]
  },
  {
   "cell_type": "markdown",
   "metadata": {},
   "source": [
    "### Review results- pick top one match "
   ]
  },
  {
   "cell_type": "code",
   "execution_count": 32,
   "metadata": {},
   "outputs": [
    {
     "data": {
      "text/plain": [
       "' Dental implant stability, which is an important parameter for the surgical       outcome, can now be assessed using quantitative ultrasound. However, the       acoustical propagation in dental implants remains poorly understood. The       objective of this numerical study was to understand the propagation phenomena of        ultrasonic waves in cylindrically shaped prototype dental implants and to       investigate the sensitivity of the ultrasonic response to the surrounding bone       quantity and quality. The 10-MHz ultrasonic response of the implant was       calculated using an axisymetric 3D finite element model, which was validated by       comparison with results obtained experimentally and using a 2D finite difference        numerical model. The results show that the implant ultrasonic response changes       significantly when a liquid layer is located at the implant interface compared to       the case of an interface fully bounded with bone tissue. A dedicated model based        on experimental measurements was developed in order to account for the evolution        of the bone biomechanical properties at the implant interface. The effect of a       gradient of material properties on the implant ultrasonic response is determined.       Based on the reproducibility of the measurement, the results indicate that the       device should be sensitive to the effects of a healing duration of less than one        week. In all cases, the amplitude of the implant response is shown to decrease       when the dental implant primary and secondary stability increase, which is       consistent with the experimental results. This study paves the way for the       development of a quantitative ultrasound method to evaluate dental implant       stability.  Finite element simulation of ultrasonic wave propagation in a dental implant for        biomechanical stability assessment'"
      ]
     },
     "execution_count": 32,
     "metadata": {},
     "output_type": "execute_result"
    }
   ],
   "source": [
    "df.loc['25619479']['abstract'] # original"
   ]
  },
  {
   "cell_type": "code",
   "execution_count": 33,
   "metadata": {},
   "outputs": [
    {
     "data": {
      "text/plain": [
       "' Osseointegration of dental implants remains poorly understood. The objective of       this numerical study is to understand the propagation phenomena of ultrasonic       waves in prototypes cylindrically shaped implants and to investigate the       sensitivity of their ultrasonic response to the surrounding bone biomechanical       properties. The 10 MHz ultrasonic response of the implant was calculated using a        finite difference numerical simulation tool and was compared to rf signals taken        from a recent experimental study by Mathieu et al. [Ultrasound Med. Biol. 37,       262-270 (2011a)]. Reflection and mode conversion phenomena were analyzed to       understand the origin of the different echoes and the importance of lateral wave        propagation was evidenced. The sensitivity of the ultrasonic response of the       implant to changes of (i) amount of bone in contact with the implant, (ii)       cortical bone thickness, and (iii) surrounding bone material properties, was       compared to the reproducibility of the measurements. The results show that,       either a change of 1 mm of bone in contact with the implant, or 1.1 mm of       cortical thickness or 12% of trabecular bone mass density should be detectable.       This study paves the way for the investigation of the use of quantitative       ultrasound techniques for the evaluation of bone-implant interface properties and       implant stability.  (c) 2011 Acoustical Society of America  Numerical simulation of ultrasonic wave propagation for the evaluation of dental        implant biomechanical stability'"
      ]
     },
     "execution_count": 33,
     "metadata": {},
     "output_type": "execute_result"
    }
   ],
   "source": [
    "# Very good match\n",
    "df.loc['21682427']['abstract'] # top one match"
   ]
  },
  {
   "cell_type": "code",
   "execution_count": 34,
   "metadata": {},
   "outputs": [
    {
     "data": {
      "text/plain": [
       "' Teeth in a day'"
      ]
     },
     "execution_count": 34,
     "metadata": {},
     "output_type": "execute_result"
    }
   ],
   "source": [
    "# bottom one match \n",
    "df.loc['11813663']['abstract'] # not very good match. this PMID doesn't have abstract. the following string comes from title"
   ]
  },
  {
   "cell_type": "markdown",
   "metadata": {},
   "source": [
    "Room to improve: corpus not big, need fine tune parameters\n",
    "\n",
    "To do: to understand if there is any advantage of using vector embedding models compared with TfidfVector/cosine similarity. "
   ]
  },
  {
   "cell_type": "code",
   "execution_count": null,
   "metadata": {},
   "outputs": [],
   "source": []
  }
 ],
 "metadata": {
  "kernelspec": {
   "display_name": "Python 3",
   "language": "python",
   "name": "python3"
  }
 },
 "nbformat": 4,
 "nbformat_minor": 2
}
